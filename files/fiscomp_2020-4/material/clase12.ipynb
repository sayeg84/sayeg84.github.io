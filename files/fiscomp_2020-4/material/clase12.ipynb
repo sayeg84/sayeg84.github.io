{
 "cells": [
  {
   "cell_type": "markdown",
   "metadata": {},
   "source": [
    "# Métodos iterativos para sistemas lineales\n",
    "\n",
    "Aunque la eliminación Gaussiana es un método que da la solución **exacta** de un sistema lineal $\\mathbf{Ax} = \\mathbf{b}$, es un método difícil de implementar y no es simple de comprender o deducir para todos.\n",
    "\n",
    "Así, existen métodos **iterativos**, mucho más sencillos de entender e implementar, que generan una sucesión de vectores $\\{ \\mathbf{x}^{(k)} \\}_{k=1}^{\\infty}$ que, bajo ciertas condiciones, convergen a la solución deseada.\n",
    "\n",
    "A diferencia de los métodos anteriores donde hemos construido sucesiones de números reales, tener ahora una sucesión **vectorial** puede parecer complicado pero es básicamente lo mismo."
   ]
  },
  {
   "cell_type": "markdown",
   "metadata": {},
   "source": [
    "## Preludio Computacional I: Arreglos de arreglos vs Arreglos n-dimensionales"
   ]
  },
  {
   "cell_type": "markdown",
   "metadata": {},
   "source": [
    "Como vamos a trabjar con sucesiones de vectores, una pregunta relevante resulta ser cómo representar una sucesión de vectores en la computadora.\n",
    "\n",
    "Hay dos opciones principales para representar una sucesión de vectores:"
   ]
  },
  {
   "cell_type": "markdown",
   "metadata": {},
   "source": [
    "### Opción 1: arreglo de arreglos\n",
    "\n",
    "Cuando aprendimos sobre los arreglos, comentamos que los arreglos solo podían contener objetos del mismo tipo y, en principio, solo objetos `Int`, `Float`, `String` o `Char`. Sin embargo, también es posible que un arreglo contenga **arreglos** o Listas o cualquier otro objeto iterable como elemento dentro de sí. \n",
    "\n",
    "Nuevamente, ya que un arreglo no puede tener elementos de tipo distinto, los elementos de un arreglo no pueden serarreglos y listas o arreglos y rangos: debe de tener objetos del mismo tipo.\n",
    "\n"
   ]
  },
  {
   "cell_type": "code",
   "execution_count": 16,
   "metadata": {},
   "outputs": [
    {
     "data": {
      "text/plain": [
       "4-element Array{Array{Int64,1},1}:\n",
       " [1, 2, 3]\n",
       " [4, 5, 6]\n",
       " [7, 8, 9]\n",
       " [10, 11, 12]"
      ]
     },
     "metadata": {},
     "output_type": "display_data"
    },
    {
     "name": "stdout",
     "output_type": "stream",
     "text": [
      "Array{Array{Int64,1},1}\n"
     ]
    }
   ],
   "source": [
    "# arreglo de arreglos\n",
    "arr = [[1,2,3],[4,5,6],[7,8,9],[10,11,12]]\n",
    "display(arr)\n",
    "println(typeof(arr))"
   ]
  },
  {
   "cell_type": "markdown",
   "metadata": {},
   "source": [
    "Si accedemos al i-ésimo elemento del arreglo, obtendremos otro arreglo"
   ]
  },
  {
   "cell_type": "code",
   "execution_count": 2,
   "metadata": {},
   "outputs": [
    {
     "data": {
      "text/plain": [
       "3-element Array{Int64,1}:\n",
       " 4\n",
       " 5\n",
       " 6"
      ]
     },
     "metadata": {},
     "output_type": "display_data"
    }
   ],
   "source": [
    "display(arr[2])"
   ]
  },
  {
   "cell_type": "markdown",
   "metadata": {},
   "source": [
    "Podemos acceder ahora al j-ésimo elemento del i-ésimo elemento"
   ]
  },
  {
   "cell_type": "code",
   "execution_count": 3,
   "metadata": {},
   "outputs": [
    {
     "name": "stdout",
     "output_type": "stream",
     "text": [
      "6\n"
     ]
    }
   ],
   "source": [
    "# los primero corches indexan sobre `arr` y los segundos indexan sobre `arr[2]`\n",
    "println(arr[2][3])"
   ]
  },
  {
   "cell_type": "markdown",
   "metadata": {},
   "source": [
    "Podemos utilizar esto para construir arreglos paso a paso con la función `push!`"
   ]
  },
  {
   "cell_type": "code",
   "execution_count": 18,
   "metadata": {},
   "outputs": [
    {
     "data": {
      "text/plain": [
       "arregloDeArreglosPush (generic function with 1 method)"
      ]
     },
     "execution_count": 18,
     "metadata": {},
     "output_type": "execute_result"
    }
   ],
   "source": [
    "function arregloDeArreglosPush(n)\n",
    "    # Inicializo el arreglo con un elemento\n",
    "    res = [[1.0,1.0,2.0]]\n",
    "    # construyo n-1 términos adicionales\n",
    "    for i in 2:n\n",
    "        # el nuevo término es el vector anterior más [-1,2,3]\n",
    "        push!(res,res[i-1]+[-1.0,2.0,3.0])\n",
    "    end\n",
    "    return res\n",
    "end"
   ]
  },
  {
   "cell_type": "code",
   "execution_count": 19,
   "metadata": {},
   "outputs": [
    {
     "data": {
      "text/plain": [
       "10-element Array{Array{Float64,1},1}:\n",
       " [1.0, 1.0, 2.0]\n",
       " [0.0, 3.0, 5.0]\n",
       " [-1.0, 5.0, 8.0]\n",
       " [-2.0, 7.0, 11.0]\n",
       " [-3.0, 9.0, 14.0]\n",
       " [-4.0, 11.0, 17.0]\n",
       " [-5.0, 13.0, 20.0]\n",
       " [-6.0, 15.0, 23.0]\n",
       " [-7.0, 17.0, 26.0]\n",
       " [-8.0, 19.0, 29.0]"
      ]
     },
     "metadata": {},
     "output_type": "display_data"
    }
   ],
   "source": [
    "res = arregloDeArreglosPush(10)\n",
    "display(res)"
   ]
  },
  {
   "cell_type": "markdown",
   "metadata": {},
   "source": [
    "### Opción 2: usar un arreglo 2D (una matriz)"
   ]
  },
  {
   "cell_type": "markdown",
   "metadata": {},
   "source": [
    "Si todos los elementos de la sucesión vectorial son del mismo tamaño (que generalmente así es), entonces los puedo almacenar en un arreglo 2D"
   ]
  },
  {
   "cell_type": "code",
   "execution_count": 20,
   "metadata": {},
   "outputs": [
    {
     "data": {
      "text/plain": [
       "4×3 Array{Int64,2}:\n",
       "  1   2   3\n",
       "  4   5   6\n",
       "  7   8   9\n",
       " 10  11  12"
      ]
     },
     "execution_count": 20,
     "metadata": {},
     "output_type": "execute_result"
    }
   ],
   "source": [
    "# notación para matrices. Columnas se separan por espacios y renglones por ';'\n",
    "nuevoarr = [[1 2 3] ; [4 5 6] ; [7 8 9] ; [10 11 12]]"
   ]
  },
  {
   "cell_type": "markdown",
   "metadata": {},
   "source": [
    "Ahora, cada renglón representa un vector de la sucesión"
   ]
  },
  {
   "cell_type": "code",
   "execution_count": 21,
   "metadata": {},
   "outputs": [
    {
     "data": {
      "text/plain": [
       "3-element Array{Int64,1}:\n",
       " 7\n",
       " 8\n",
       " 9"
      ]
     },
     "metadata": {},
     "output_type": "display_data"
    }
   ],
   "source": [
    "# accedo al tercer renglón\n",
    "display(nuevoarr[3,:])"
   ]
  },
  {
   "cell_type": "markdown",
   "metadata": {},
   "source": [
    "Puedo añadirle un nuevo renglón representado por un vector mediante la función `vcat`, aunque debo transponer el vector antes de añadirlo usando la función `transpose`"
   ]
  },
  {
   "cell_type": "code",
   "execution_count": 22,
   "metadata": {},
   "outputs": [
    {
     "data": {
      "text/plain": [
       "5×3 Array{Int64,2}:\n",
       "  1   2   3\n",
       "  4   5   6\n",
       "  7   8   9\n",
       " 10  11  12\n",
       " 13  14  15"
      ]
     },
     "execution_count": 22,
     "metadata": {},
     "output_type": "execute_result"
    }
   ],
   "source": [
    "vcat(nuevoarr,transpose([13,14,15]))"
   ]
  },
  {
   "cell_type": "markdown",
   "metadata": {},
   "source": [
    "Notemos que esto no cambia a la variable `nuevoarr`"
   ]
  },
  {
   "cell_type": "code",
   "execution_count": 23,
   "metadata": {},
   "outputs": [
    {
     "data": {
      "text/plain": [
       "4×3 Array{Int64,2}:\n",
       "  1   2   3\n",
       "  4   5   6\n",
       "  7   8   9\n",
       " 10  11  12"
      ]
     },
     "metadata": {},
     "output_type": "display_data"
    }
   ],
   "source": [
    "display(nuevoarr)"
   ]
  },
  {
   "cell_type": "markdown",
   "metadata": {},
   "source": [
    "Esto es diferente a la mecánica de la función `push!`, la cuál si cambia el arreglo al que añadimos de manera automática.\n",
    "\n",
    "Para añadirle el vector `[13,14,15]` de manera permanente a `nuevoarr`, debo redefinir la variable:"
   ]
  },
  {
   "cell_type": "code",
   "execution_count": 24,
   "metadata": {},
   "outputs": [
    {
     "data": {
      "text/plain": [
       "5×3 Array{Int64,2}:\n",
       "  1   2   3\n",
       "  4   5   6\n",
       "  7   8   9\n",
       " 10  11  12\n",
       " 13  14  15"
      ]
     },
     "metadata": {},
     "output_type": "display_data"
    }
   ],
   "source": [
    "nuevoarr = vcat(nuevoarr,transpose([13,14,15]))\n",
    "display(nuevoarr)"
   ]
  },
  {
   "cell_type": "markdown",
   "metadata": {},
   "source": [
    "Podemos usar lo anterior para construir una matriz paso a paso"
   ]
  },
  {
   "cell_type": "code",
   "execution_count": 25,
   "metadata": {},
   "outputs": [
    {
     "data": {
      "text/plain": [
       "matrizVcat (generic function with 1 method)"
      ]
     },
     "execution_count": 25,
     "metadata": {},
     "output_type": "execute_result"
    }
   ],
   "source": [
    "function matrizVcat(n)\n",
    "    # Inicializo la matriz conteniendo solo un vector\n",
    "    res = [1.0 1.0 2.0]\n",
    "    # construyo n términos\n",
    "    for i in 2:n\n",
    "        # el nuevo término es el vector anterior más [-1,2,3]\n",
    "        res = vcat(res,transpose(res[i-1,:]+[-1.0,2.0,3.0]))\n",
    "    end\n",
    "    return res\n",
    "end"
   ]
  },
  {
   "cell_type": "code",
   "execution_count": 26,
   "metadata": {},
   "outputs": [
    {
     "data": {
      "text/plain": [
       "10×3 Array{Float64,2}:\n",
       "  1.0   1.0   2.0\n",
       "  0.0   3.0   5.0\n",
       " -1.0   5.0   8.0\n",
       " -2.0   7.0  11.0\n",
       " -3.0   9.0  14.0\n",
       " -4.0  11.0  17.0\n",
       " -5.0  13.0  20.0\n",
       " -6.0  15.0  23.0\n",
       " -7.0  17.0  26.0\n",
       " -8.0  19.0  29.0"
      ]
     },
     "metadata": {},
     "output_type": "display_data"
    }
   ],
   "source": [
    "res = matrizVcat(10)\n",
    "display(res)"
   ]
  },
  {
   "cell_type": "markdown",
   "metadata": {},
   "source": [
    "## Preludio Computacional II: la librería `LinearAlgebra` de Julia"
   ]
  },
  {
   "cell_type": "markdown",
   "metadata": {},
   "source": [
    "Cuando trabajamos con vectores, hay operaciones que muchas veces resultan necesarias como calcular su norma euclideana o realizar un producto punto.\n",
    "\n",
    "Julia tiene, dentro de sí misma, una librería llamada `LinearAlgebra` con código útil para realizar operaciones de Álgebra Lineal. Su [Documentación](https://docs.julialang.org/en/v1/stdlib/LinearAlgebra/) indica como usarla a profundidad, pero aquí mostraremos un par de ejemplos sencillos\n"
   ]
  },
  {
   "cell_type": "code",
   "execution_count": 27,
   "metadata": {},
   "outputs": [],
   "source": [
    "# importamos la libreria. No hace falta instalarla pues ya está incluída con Julia\n",
    "using LinearAlgebra"
   ]
  },
  {
   "cell_type": "code",
   "execution_count": 28,
   "metadata": {},
   "outputs": [
    {
     "name": "stdout",
     "output_type": "stream",
     "text": [
      "1.4142135623730951\n",
      "1.4142135623730951\n",
      "1.0\n",
      "1.4142135623730951\n"
     ]
    }
   ],
   "source": [
    "vec1 = [1.0,1.0,0.0]\n",
    "vec2 = [1.0,0.0,1.0]\n",
    "# `norm` nos regresa la norma euclideana de un vector\n",
    "println(norm(vec1))\n",
    "println(norm(vec2))\n",
    "# `dot` nos permite calcular el producto punto de dos vectores\n",
    "println(dot(vec1,vec2))\n",
    "# `norm(vec1-vec2)` nos regresa la distancia euclideana entre vec1 y vec2\n",
    "println(norm(vec1-vec2))"
   ]
  },
  {
   "cell_type": "markdown",
   "metadata": {},
   "source": [
    "Por el momento, solo utilizaremos estas dos funciones pero en el **futuro (siguiente clase)** esta librería será importante."
   ]
  },
  {
   "cell_type": "markdown",
   "metadata": {},
   "source": [
    "## Método de Jacobi"
   ]
  },
  {
   "cell_type": "markdown",
   "metadata": {},
   "source": [
    "Supongamos que tenemos un sistema **con solución única** $\\mathbf{Ax} = \\mathbf{b}$. Explícitamente, sabemos que el sistema se muestra de la siguiente forma\n",
    "\n",
    "$$\n",
    "\\begin{align}\n",
    "a_{11} x_1 + a_{12} x_2 + \\ldots + a_{1n} x_n &= b_1 \\\\\n",
    "a_{21} x_1 + a_{22} x_2 + \\ldots + a_{2n} x_n &= b_2 \\\\\n",
    "\\vdots \\quad \\quad \\quad \\vdots \\quad \\quad \\quad \\vdots \\\\\n",
    "a_{n1} x_1 + a_{n2} x_2 + \\ldots + a_{nn} x_n &= b_n \\\\\n",
    "\\end{align}\n",
    "$$\n",
    "\n",
    "Por simplicidad, supongamos también que todos los elementos de la diagonal son distintos de cero ($a_{ii} \\neq 0$). Para un sistema con solución única siempre podemos cambiar el orden de las ecuaciones (intercambiar renglones de $\\mathbf{A}$) para que esto se cumpla. \n",
    "\n",
    "Así, podemos \"despejar\" cualquier $x_i$ de la i-ésima ecuación, poniéndolo en términos de los otros $x_{j}$ con $i \\neq j$ de la siguiente forma:\n",
    "\n",
    "$$\n",
    "\\begin{align}\n",
    " x_1 &= \\frac{1}{a_{11}} \\left(b_1 - ( a_{12} x_2 + a_{13} x_3 + \\ldots + a_{1n} x_n) \\right)  \\\\\n",
    " x_2 &= \\frac{1}{a_{22}} \\left(b_2 - ( a_{21} x_1 + a_{23} x_3  + \\ldots + a_{2n} x_n) \\right)  \\\\\n",
    " \\vdots &\\quad \\quad \\quad \\vdots \\quad \\quad \\quad \\vdots \\quad \\quad \\quad \\vdots \\quad \\quad \\quad \\vdots \\\\\n",
    " x_n &= \\frac{1}{a_{nn}} \\left(b_n - ( a_{n1} x_1 + a_{n2} x_2  + \\ldots + a_{n n-1} x_{n-1}) \\right)  \\\\\n",
    "\\end{align}\n",
    "$$"
   ]
  },
  {
   "cell_type": "markdown",
   "metadata": {},
   "source": [
    "Podemos generalizar el despeje anterior para cualquier $x_i$ mediante la siguiente fórmula\n",
    "\n",
    "$$\n",
    "x_{i} = \\frac{1}{a_{ii}}\\left( b_i - \\sum_{j=1 \\\\ j\\neq i}^{n} a_{ij}x_j \\right)\n",
    "$$\n",
    "\n",
    "Así, utilizaremos esta expresión para generar una **sucesión recursiva de vectores** $\\{\\mathbf{x}^{(t)}\\}_{t=1}^{\\infty}$ Definida, entrada a entrada, mediante:\n",
    "\n",
    "$$\n",
    "x_i^{(t)} = \\begin{cases}\n",
    "x^{(\\text{inicial})}_i & \\text{si } t=1 \\\\\n",
    "& \\\\\n",
    "\\frac{1}{a_{ii}}\\left( b_i - \\sum_{j=1 \\\\ j\\neq i}^{n} a_{ij}x^{(t-1)}_j \\right) & \\text{si } t>1 \\\\\n",
    "\\end{cases}\n",
    "$$\n",
    "\n",
    "Antes de implementar esta sucesión directamente, la reduciremos a una forma más compacta."
   ]
  },
  {
   "cell_type": "markdown",
   "metadata": {},
   "source": [
    "### Ejercicio 1\n",
    "\n",
    "Escribe las ecuaciones \n",
    "\n",
    "$$\n",
    "\\begin{align}\n",
    "    x_{1} &= \\frac{1}{a_{11}}\\left( b_1 - \\sum_{j=1 \\\\ j\\neq 1}^{n} a_{1j} x_j \\right) \\\\\n",
    "    x_{2} &= \\frac{1}{a_{22}}\\left( b_2 - \\sum_{j=1 \\\\ j\\neq 2}^{n} a_{2j} x_j \\right) \\\\\n",
    "    &\\vdots \\quad \\quad \\quad \\vdots \\quad \\quad \\quad \\vdots \\\\\n",
    " x_{n} &= \\frac{1}{a_{nn}}\\left( b_n - \\sum_{j=1 \\\\ j\\neq n}^{n} a_{nj} x_j \\right) \\\\\n",
    "\\end{align}\n",
    "$$\n",
    "\n",
    "De una forma matricial:\n",
    "\n",
    "$$\n",
    "\\mathbf{x} = \\mathbf{Cx} +  \\mathbf{d} \n",
    "$$\n",
    "\n",
    "Con $\\mathbf{C}$ una matriz de $n \\times n$ y $\\mathbf{d}$ un vector de $n$ entradas. Debes mostrar explícitamente los elementos de $\\mathbf{C}$ y de $\\mathbf{d}$\n",
    "\n",
    "**Sugerencia:** La matriz $C$ debe de tener $0$s en la diagonal"
   ]
  },
  {
   "cell_type": "markdown",
   "metadata": {},
   "source": [
    "Después de encontrar la matriz $\\mathbf{C}$, la sucesión recursiva de vectores puede escribirse de manera compacta como:\n",
    "\n",
    "$$\n",
    "\\mathbf{x}^{(t)} = \\begin{cases}\n",
    "\\mathbf{x}^{(\\text{inicial})} & \\text{si } t=1 \\\\\n",
    "& \\\\\n",
    "\\mathbf{C}\\mathbf{x}^{(t-1)} +  \\mathbf{d} & \\text{si } t>1 \\\\\n",
    "\\end{cases}\n",
    "$$\n"
   ]
  },
  {
   "cell_type": "markdown",
   "metadata": {},
   "source": [
    "Dicha sucesión puede converger a la solución del sistema de ecuaciones bajo ciertas condiciones. A este método para paroximar una solución del sistema lineal se le conoce como **Método de Jacobi** o **iteraciones de Jacobi**"
   ]
  },
  {
   "cell_type": "markdown",
   "metadata": {},
   "source": [
    "### Ejercicio 2\n",
    "\n",
    "Implementa una función `jacobi(A,b,T,x_inicial)` donde $A$ es una matriz de $n \\times n$, $b$ es un vector de longitud $n$, $T$ es un número natural y $x_{\\text{inicial}}$ un vector de $n$ entradas. La función debe de generar los primeros $T$ términos de la sucesión vectorial $\\mathbf{x}^{(t)}$ correspondiente al método de Jacobi.\n",
    "\n",
    "La función debe de regresarte o bien un arreglo 1D `res` tal que `res[t]` es un vector de longitud $n$ correspondiente a $\\mathbf{x}^{(t)}$ (un arreglo de arreglos) o bien un arreglo 2D `res` de $ T \\times n $, en el que `res[t,:]` corresponde a $\\mathbf{x}^{(t)}$ (una matriz)\n",
    "\n",
    "**Sugerencia:** primero construye la matriz $\\mathbf{C}$ y el vector $\\mathbf{d}$ y utiliza la multiplicación de matrices por vectores y la suma de vectores para hacer tu código más compacto. Recuerda utilizar la función `copy` para hacer una copia de un arreglo a la hora de definir tanto $\\mathbf{C}$ como $\\mathbf{d}$"
   ]
  },
  {
   "cell_type": "markdown",
   "metadata": {},
   "source": [
    "### Ejercicio 3\n",
    "\n",
    "Implementa una función `jacobiTol(A,b,epsilon,x_inicial)` donde $A$ es una matriz de $n \\times n$, $b$ es un vector de longitud $n$, $epsilon$ es un número real pequeño y $x_{\\text{inicial}}$ un vector de $n$ entradas. La función debe de generar los términos de la sucesión vectorial $\\mathbf{x}^{(t)}$ correspondiente al método de Jacobi hasta el término $m$ que cumpla que \n",
    "\n",
    "$$\n",
    "\\Vert\\mathbf{A} \\mathbf{x}^{(m)} - \\mathbf{b} \\Vert < epsilon\n",
    "$$\n",
    "\n",
    "La función debe de regresarte o bien un arreglo 1D `res` tal que `res[t]` es un vector de longitud $n$ correspondiente a $\\mathbf{x}^{(t)}$ o bien un arreglo 2D `res` de $ m \\times n $, en el que `res[t,:]` corresponde a $\\mathbf{x}^{(t)}$\n"
   ]
  },
  {
   "cell_type": "markdown",
   "metadata": {},
   "source": [
    "### Ejercicio 4\n",
    "\n",
    "Utiliza cualquiera de las dos funciones anteriores para resolver el siguiente sistema\n",
    "\n",
    "$$\n",
    "\\begin{align}\n",
    "4x - y + z &= 7 \\\\\n",
    "4x - 8y + z &= -21 \\\\\n",
    "-2x +y + 5z &= 15\n",
    "\\end{align}\n",
    "$$\n",
    "\n",
    "Con solución exacta $x=2$, $y=4$, $z=3$. ¿La sucesión resultante converge? \n",
    "\n",
    "Grafica el error absoluto ($\\Vert \\mathbf{x}^{(t)} - \\mathbf{x}_{\\text{exacta}} \\Vert$) como función del paso $t$ de la iteración y di algo sobre su tendencia."
   ]
  },
  {
   "cell_type": "markdown",
   "metadata": {},
   "source": [
    "## Método de Gauss-Siedel"
   ]
  },
  {
   "cell_type": "markdown",
   "metadata": {},
   "source": [
    "Aunque parece útil y sencillo, el método de Jacobi puede resultar **inestable**. "
   ]
  },
  {
   "cell_type": "markdown",
   "metadata": {},
   "source": [
    "### Ejercicio 5\n",
    "\n",
    "Reordena el sistema el ejercicio 4 de la siguiente forma:\n",
    "\n",
    "$$\n",
    "\\begin{align}\n",
    "-2x +y + 5z &= 15 \\\\\n",
    "4x - y + z &= 7 \\\\\n",
    "4x - 8y + z &= -21\n",
    "\\end{align}\n",
    "$$\n",
    "\n",
    "E intenta resolverlo usando la función `jacobi(A,b,T,x_inicial)` para un numero pequeño de iteraciones (alrededor de $10^2$). ¿El método converge?"
   ]
  },
  {
   "cell_type": "markdown",
   "metadata": {},
   "source": [
    "Existe una manera de mejorarlo mucho haciendo un cambio teórico muy sencillo. Recordando la sucesión del método Jacobi entrada a entrada:\n",
    "\n",
    "$$\n",
    "x_i^{(t)} = \\begin{cases}\n",
    "x^{(\\text{inicial})}_i & \\text{si } t=1 \\\\\n",
    "& \\\\\n",
    "\\frac{1}{a_{ii}}\\left( b_i - \\sum_{j=1 \\\\ j\\neq i}^{n} a_{ij}x^{(t-1)}_j \\right) & \\text{si } t>1 \\\\\n",
    "\\end{cases}\n",
    "$$\n",
    "\n",
    "Notemos que para calcular $x_i^{(t)}$, utilizamos los $x_j^{(t-1)}$ para todos los $j\\neq i $. Esto nos permite escribir el paso de la sucesión en términos de la matriz $\\mathbf{C}$ y del vector $\\mathbf{d}$ y hacer todo mucho más compacto. Además, nos permite actualizar todos los $x_i^{(t)}$ **simultáneamente**, es decir, con una misma operación para todos."
   ]
  },
  {
   "cell_type": "markdown",
   "metadata": {},
   "source": [
    "Sin embargo, qué sucede si en lugar de actualizar todo el vector $\\mathbf{x}^{(t)}$ simultáneamente, vamos actualizando cada entrada $x_i^{(t)}$ en el orden que tienen en su índice. En ese caso, primero actualizaríamos\n",
    "\n",
    "$$\n",
    "x_1^{(t)} = \\frac{1}{a_{11}}\\left( b_1 - \\sum_{j=1 \\\\ j\\neq 1}^{n} a_{1j}x^{(t-1)}_j \\right)\n",
    "$$\n",
    "\n",
    "Después\n",
    "\n",
    "$$\n",
    "x_2^{(t)} = \\frac{1}{a_{22}}\\left( b_2 - \\sum_{j=1 \\\\ j\\neq 1}^{n} a_{2j}x^{(t-1)}_j \\right)\n",
    "$$\n",
    "\n",
    "\n",
    "En tercer lugar\n",
    "\n",
    "$$\n",
    "x_3^{(t)} = \\frac{1}{a_{33}}\\left( b_3 - \\sum_{j=1 \\\\ j\\neq 1}^{n} a_{3j}x^{(t-1)}_j \\right)\n",
    "$$\n",
    "\n",
    "Y así hasta llegar al $n$. \n",
    "\n",
    "Sin embargo, en la fórmula para $x_{2}^{(t)}$, sabemos que aparece $x_{1}^{(t-1)}$. Si realizamos las operaciones una por una, a la hora de calcular $x_{2}^{(t)}$ ya habríamos calculado $x_{1}^{(t)}$, por lo que **podríamos utilizar ese valor** en lugar de $x_{1}^{(t-1)}$ en la fórmula de $x_{2}^{(t)}$. Así, tendríamos que\n",
    "\n",
    "$$\n",
    "x_2^{(t)} = \\frac{1}{a_{22}}\\left( b_2 - a_{21} x_{1}^{(t)} - \\sum_{j=2 \\\\ j\\neq 2}^{n} a_{2j}x^{(t-1)}_j \\right)\n",
    "$$\n",
    "\n",
    "Para actualizar $x_{3}^{(t)}$, podemos repetir el mismo argumento y reemplazar ahora tanto $x_{1}^{(t-1)}$ como $x_{2}^{(t-1)}$ por $x_{1}^{(t)}$ y $x_{2}^{(t)}$ y obtener:\n",
    "\n",
    "$$\n",
    "x_3^{(t)} = \\frac{1}{a_{33}}\\left( b_3 - a_{31} x_{1}^{(t)} - a_{32} x_{2}^{(t)}  - \\sum_{j=3 \\\\ j\\neq 3}^{n} a_{3j}x^{(t-1)}_j \\right)\n",
    "$$\n",
    " \n",
    "Este proceso se puede generalizar para la actualización de $x_i{(t)}$  mediante la siguiente fórmula\n",
    "\n",
    "$$\n",
    "x_{i}^{(t)}  = \\frac{1}{a_{ii}} \\left( b_i - \\sum_{j=1}^{i-1} a_{ij} x^{(t)}_j  - \\sum_{j=i+1}^{n} a_{ij} x^{(t-1)}_j \\right)\n",
    "$$"
   ]
  },
  {
   "cell_type": "markdown",
   "metadata": {},
   "source": [
    "Utilizando la ecuación anterior, la sucesión recursiva término a término se reescribe:\n",
    "\n",
    "$$\n",
    "x_i^{(t)} = \\begin{cases}\n",
    "x^{(\\text{inicial})}_i & \\text{si } t=1 \\\\\n",
    "& \\\\\n",
    "\\frac{1}{a_{ii}} \\left( b_i - \\sum_{j=1}^{i-1} a_{ij} x^{(t)}_j  - \\sum_{j=i+1}^{n} a_{ij} x^{(t-1)}_j \\right) & \\text{si } t>1 \\\\\n",
    "\\end{cases}\n",
    "$$\n",
    "\n",
    "A este método para aproximar una solución del sistema lineal se le conoce como **Método de Gauss-Siedel**. En general, es mucho más estable que el método de Jacobi. "
   ]
  },
  {
   "cell_type": "markdown",
   "metadata": {},
   "source": [
    "### Ejercicio 6 \n",
    "\n",
    "Implementa una función `gaussSiedel(A,b,T,x_inicial)` donde $A$ es una matriz de $n \\times n$, $b$ es un vector de longitud $n$, $T$ es un número natural y $x_{\\text{inicial}}$ un vector de $n$ entradas. La función debe de generar los primeros $T$ términos de la sucesión vectorial $\\mathbf{x}^{(t)}$ correspondiente al método de Gauss-Siedel\n",
    "\n",
    "La función debe de regresarte o bien un arreglo 1D `res` tal que `res[t]` es un vector de longitud $n$ correspondiente a $\\mathbf{x}^{(t)}$ o bien un arreglo 2D `res` de $ T \\times n $, en el que `res[t,:]` corresponde a $\\mathbf{x}^{(t)}$\n",
    "\n",
    "**Sugerencia:** tendrás que usar un ciclo `for` sobre las entradas de los vectores dentro de otro ciclo `for` sobre el número total de iteraciones para ir construyendo, entrada por entrada, un vector correspondiente a las actualizaciones. "
   ]
  },
  {
   "cell_type": "markdown",
   "metadata": {},
   "source": [
    "### Ejercicio 7 \n",
    "\n",
    "Resuelve el sistema del ejercicio 4 utilizando la función `gaussSiedel`. Grafica el error absoluto. ¿El algoritmo converge más rápido que el método de Jacobi? ¿Qué sucede con el sistema del ejercicio 5? ¿El método de Gauss-Siedel si lo puede resolver?"
   ]
  },
  {
   "cell_type": "markdown",
   "metadata": {},
   "source": [
    "## Operador `\\` de Julia"
   ]
  },
  {
   "cell_type": "markdown",
   "metadata": {},
   "source": [
    "Debido a que resolver sistemas lineales en general es muy importante en el cómputo científico, Julia tiene un operador integrado que resuelve sistemas lineales de manera muy rápida usando métodos más sofisiticados de los que les enseñé"
   ]
  },
  {
   "cell_type": "code",
   "execution_count": 15,
   "metadata": {},
   "outputs": [
    {
     "data": {
      "text/plain": [
       "3-element Array{Float64,1}:\n",
       " 2.0\n",
       " 4.0\n",
       " 3.0"
      ]
     },
     "metadata": {},
     "output_type": "display_data"
    }
   ],
   "source": [
    "# resolviendo el sistema del ejercicio 4\n",
    "A1 = [[4.0 -1.0 1.0] ; [4.0 -8.0 1.0] ; [-2.0 1.0 5.0] ]\n",
    "b1 = [7.0,-21.0,15.0]\n",
    "# Asigna a `resul` la solución del sistema A1 * x = b1\n",
    "resul = A1 \\ b1\n",
    "display(resul)"
   ]
  },
  {
   "cell_type": "markdown",
   "metadata": {},
   "source": [
    "### Ejercicio 8\n",
    "\n",
    "Resuelve los sistemas del ejercicio 5 de esta clase y del ejercicio 7 de la clase 11 utilizando el operador `\\` de Julia. ¿Las soluciones se obtienen más rápido (i.e. el tiempo de cómputo es menor) que con los otros métodos empleados?"
   ]
  },
  {
   "cell_type": "markdown",
   "metadata": {},
   "source": [
    "## La visión general"
   ]
  },
  {
   "cell_type": "markdown",
   "metadata": {},
   "source": [
    "Los sistemas lineales surgen en muchísimas áreas de las matemáticas y la física, por lo que es necesario conocer varios métodos para resolverlos.\n",
    "\n",
    "De los métodos vistos aquí, ninguno es utilizado ampliamente en el día a día pues son muy lentos para resolver sistemas de tamaño grande ($n \\geq 1000$). El de Gauss-Siedel es el que más se utiliza.\n",
    "\n",
    "Hacia el final del curso, a la hora de ver Ecuaciones Diferenciales Parciales, nos empezarán a surgir muchos problemas cuya solución se reduce a resolver un conjunto de ecuaciones lineales."
   ]
  },
  {
   "cell_type": "code",
   "execution_count": null,
   "metadata": {},
   "outputs": [],
   "source": []
  }
 ],
 "metadata": {
  "kernelspec": {
   "display_name": "Julia 1.4.2",
   "language": "julia",
   "name": "julia-1.4"
  },
  "language_info": {
   "file_extension": ".jl",
   "mimetype": "application/julia",
   "name": "julia",
   "version": "1.4.2"
  }
 },
 "nbformat": 4,
 "nbformat_minor": 4
}
