{
 "cells": [
  {
   "cell_type": "markdown",
   "metadata": {},
   "source": [
    "# Integración numérica\n",
    "\n",
    "Integrar, al contrario de derivar, no es una operación *algorítmica*, es decir, no existe una manera de, dada una función, calcular su integral definida en un intervalo. \n",
    "\n",
    "Debido a esto, integrar analíticamente es mucho más dificil que derivar analíticamente. Más aún, existen funciones cuyas integrales, aunque existan, no se pueden expresar de manera simple.\n",
    "\n",
    "Para atacar todos estos problemas, en análisis numérico se han desarrollado distintos métodos para calcular la integral de una función."
   ]
  },
  {
   "cell_type": "markdown",
   "metadata": {},
   "source": [
    "\n",
    "## Planteamiento del problema\n",
    "\n",
    "Dada una función $f:[a,b] \\to \\mathbb{R}$ continua a pedazos (tiene a lo más un número numerable de discontinuidades), quiero calcular $\\int_{a}^{b} f(s) ds$, que corresponde al área algebraica entre la función y el eje x\n",
    "\n",
    "![](https://lh3.googleusercontent.com/KiLWWFTJW6EF3SNuzVS9nAmbA1xlwvPfZbfy0sTweVdrqlTsrpBP6rYzYVIGYMKAmVQ1_CouwBu0hR4rIaR467hmYXvDfSGD39wgcrLv0cwnPoMizRnEuNNcU2Dks3RKNbHBLjROyA=w400)\n",
    "\n",
    "## ¿Cómo calculo una integral numéricamente?\n",
    "\n",
    "Primero debemos recordar la definición de una integral sobre el intervalo $[a,b]$. \n",
    "\n",
    "### Particiones regulares\n",
    "Sea $P = \\{x_0=a, x_1, \\ldots, x_{n-1}, x_n = b\\}$. Decimos que $P$ es una **partición regular** de $[a,b]$ si y solo si, para toda $i$ se cumple que\n",
    "\n",
    "1. $x_{i} < x_{i+1}$ \n",
    "\n",
    "2.  $x_{i+1} - x_{i} = h = \\frac{b-a}{n}$\n",
    "\n",
    "En este ejemplo, la partición tiene $n+1$ puntos y $n$ subintervalos\n",
    "\n",
    "### Sumas de Riemann\n",
    "\n",
    "Primero la integral se aproxima mediante la suma de las áreas de varios rectángulos cuyas bases están sobre una partición regular del invervalo $[a,b]$\n",
    "\n",
    "$$\n",
    "\\int_{a}^{b} f(s) ds \\approx \\sum_{i=1}^{n} f(\\xi_i)(x_{i} - x_{i-1}) = h \\sum_{i=1}^{n}  f(\\xi_i)\n",
    "$$\n",
    "\n",
    "con $\\xi_i \\in [x_{i-1},x_{i}]$. Notemos que la altura del rectángulo, dada por $f(\\xi_i)$, es arbitraria. Para tener la integral, simplemente tomamos el límite cuando el número de puntos de la partición tiende a infinito:\n",
    "\n",
    "$$\n",
    "\\int_{a}^{b} f(s) ds = \\lim_{n \\to \\infty} \\sum_{i=1}^{n} f(\\xi_i)(x_{i} - x_{i-1}) = \\lim_{n \\to \\infty} h \\sum_{i=1}^{n}  f(\\xi_i)\n",
    "$$\n",
    "\n",
    "con $\\xi_i \\in [x_{i-1},x_{i}]$\n",
    "\n",
    "\n",
    "![](https://lh3.googleusercontent.com/-W_1UtNF8I6txqirGvNCW_aQI5lYB6vHOnAt9F1Pg7QSj8uUqaZPLwiAIUc-nxysR3x8hcNK-Kx8Mpn-M2OeqXJW5HZiv0skhmw0Hh67N3m5yCEZ5-IdC_nQngwprbDydmiue3d0EA=w400)\n",
    "\n",
    "\n",
    "### Sumas importantes\n",
    "\n",
    "Si f es continua, sabemos que en cualquier intervalo cerrado alcanza su máximo y su mínimo. Así, podemos tomar como alturas de los rectángulos los valores máximos y mínimos de la función y así obtener:\n",
    "\n",
    "#### Suma superior:\n",
    "\n",
    "$\\xi_i = \\text{argmax}_{x\\in[x_{i-1},x_i]}{f(x)}$, $f(\\xi_i) = \\max_{x \\in [x_{i-1},x_i]}{f(x)}$\n",
    "\n",
    "#### Suma inferior:\n",
    "\n",
    "$\\xi_i = \\text{argmin}_{x\\in[x_{i-1},x_i]}{f(x)}$, $f(\\xi_i) = \\min_{x \\in [x_{i-1},x_i]}{f(x)}$\n",
    "\n",
    "## ¿Podemos implementar una suma superior o inferior en la computadora? \n",
    "\n",
    "Generalmente **NO**: como ya vimos, encontrar minimos y maximos no es sencillo y eso se tendría que hacer para cada subintervalo de la partición ($n$ veces), lo que haría la integración muy tardada.\n",
    "\n",
    "## ¿Cómo calculamos entonces la integral? \n",
    "\n",
    "Ya que no podemos hacer sumas superiores o inferiores, lo más sencillo es tomar $\\xi_i$ de manera que sea fácil calcular la integral en la computadora:\n",
    "\n",
    "Recordamos que $\\xi_i \\in [x_{i-1},x_i]$\n",
    "\n",
    "### Primera opción: $\\xi_i = x_{i}$ (Integral rectangular hacia adelante)\n",
    "\n",
    "$$\n",
    "\\int_{a}^{b} f(s) ds \\approx h \\sum_{i=1}^{n}  f(\\xi_i) =  h \\sum_{i=1}^{n}  f(x_i)\n",
    "$$\n",
    "\n",
    "Tomar el punto $\\xi_i = x_{i}$ corresponde a aproximar la integral como se muestra en la siguiente figura\n",
    "\n",
    "![adelante](https://lh3.googleusercontent.com/DSVcg_tdtBMPUSoZ8csX9KRJBW6Id75H1kRuWhi20JaepmXy2sqUUcVLI1cB_2dnhTYMmr0Wo-W6vw00tN7vXFbzrk9fszmnx-KAg7rpZ348woEIfybr-gy_0eS4jCb7RYVoQR9JyA=w300)\n",
    "\n"
   ]
  },
  {
   "cell_type": "markdown",
   "metadata": {},
   "source": [
    "## Preludio computacional: diferencia entre los indices de la partición y de la lista de Julia\n",
    "\n",
    "Muchas veces, cuando planteamos un problema de manera matemática, la notación del problema puede incluir índices que nosotros también quisiéramos utilizar. Sin embargo, es importante recordar que **los índices en un objeto iterable siempre empiezan en 1**. Para el caso de la partición, se cumple que:\n",
    "\n",
    "\n",
    "Partición: $xs = \\{x_0, x_1, x_2 \\ldots, x_{n-1},x_n\\}$\n",
    "\n",
    "Si queremos representar todos los puntos de la partición en un arreglo, debemos notar que tendrán la siguiente correspondencia\n",
    "\n",
    "$xs[1] = x_0$\n",
    "\n",
    "$xs[2] = x_1$\n",
    "\n",
    ".\n",
    ".\n",
    ".\n",
    "\n",
    "$xs[i] = x_{i-1}$\n",
    "\n",
    "$xs[i+1] = x_{i}$\n",
    "\n",
    "Es fundamental que dicha correspondencia se respete para no tener problemas entre lo teórico y lo computacional"
   ]
  },
  {
   "cell_type": "code",
   "execution_count": 1,
   "metadata": {},
   "outputs": [
    {
     "data": {
      "text/plain": [
       "intAdelante (generic function with 1 method)"
      ]
     },
     "execution_count": 1,
     "metadata": {},
     "output_type": "execute_result"
    }
   ],
   "source": [
    "function intAdelante(f,a,b,n)\n",
    "    # hacer la particion regular con n+1 puntos, es decir, n subintervalos\n",
    "    xs = range(a,stop = b, length = n+1)\n",
    "    # hacer la suma de Riemann\n",
    "    integral = 0\n",
    "    for i in range(1,stop=n)\n",
    "        # xs[i+1] es el x_i de la partición\n",
    "        integral = integral + f(xs[i+1])\n",
    "    end\n",
    "    # multiplicamos por h = (b-a)/n\n",
    "    integral = (b-a)/n * integral\n",
    "    return integral\n",
    "end"
   ]
  },
  {
   "cell_type": "markdown",
   "metadata": {},
   "source": [
    "Podemos probar nuestra implementación en la función $f(x) = 3x^2$\n",
    "\n",
    "Analíticamente, sabemos que\n",
    "\n",
    "$$\n",
    "\\int_0^2 3x^2 dx= x^3 \\mid_0^2 = 2^3 - 0^3 = 8\n",
    "$$"
   ]
  },
  {
   "cell_type": "code",
   "execution_count": 2,
   "metadata": {},
   "outputs": [
    {
     "data": {
      "text/plain": [
       "prueba (generic function with 1 method)"
      ]
     },
     "execution_count": 2,
     "metadata": {},
     "output_type": "execute_result"
    }
   ],
   "source": [
    "function prueba(x)\n",
    "    return 3*x^2\n",
    "end"
   ]
  },
  {
   "cell_type": "code",
   "execution_count": 3,
   "metadata": {},
   "outputs": [
    {
     "name": "stdout",
     "output_type": "stream",
     "text": [
      "9.24\n",
      "8.120399999999998\n",
      "8.012004000000006\n"
     ]
    }
   ],
   "source": [
    "# con 10 subintervalos, o rectángulos, la aproximación es mala\n",
    "println(intAdelante(prueba,0,2,10))\n",
    "# tomando más mejora \n",
    "println(intAdelante(prueba,0,2,100))\n",
    "println(intAdelante(prueba,0,2,1000))"
   ]
  },
  {
   "cell_type": "code",
   "execution_count": 4,
   "metadata": {},
   "outputs": [],
   "source": [
    "using Plots"
   ]
  },
  {
   "cell_type": "code",
   "execution_count": 5,
   "metadata": {},
   "outputs": [
    {
     "name": "stdout",
     "output_type": "stream",
     "text": [
      "exponentes: \n",
      "[1.0, 1.103448275862069, 1.206896551724138, 1.3103448275862069, 1.4137931034482758, 1.5172413793103448, 1.6206896551724137, 1.7241379310344827, 1.8275862068965518, 1.9310344827586208, 2.0344827586206895, 2.1379310344827585, 2.2413793103448274, 2.3448275862068964, 2.4482758620689653, 2.5517241379310347, 2.6551724137931036, 2.7586206896551726, 2.8620689655172415, 2.9655172413793105, 3.0689655172413794, 3.1724137931034484, 3.2758620689655173, 3.3793103448275863, 3.4827586206896552, 3.586206896551724, 3.689655172413793, 3.793103448275862, 3.896551724137931, 4.0]\n",
      "numeros de  subintervalos: \n",
      "[10, 13, 17, 21, 26, 33, 42, 53, 68, 86, 109, 138, 175, 222, 281, 357, 453, 574, 728, 924, 1173, 1488, 1888, 2396, 3040, 3857, 4894, 6211, 7881, 10000]\n"
     ]
    },
    {
     "data": {
      "image/svg+xml": [
       "<?xml version=\"1.0\" encoding=\"utf-8\"?>\n",
       "<svg xmlns=\"http://www.w3.org/2000/svg\" xmlns:xlink=\"http://www.w3.org/1999/xlink\" width=\"600\" height=\"400\" viewBox=\"0 0 2400 1600\">\n",
       "<defs>\n",
       "  <clipPath id=\"clip410\">\n",
       "    <rect x=\"0\" y=\"0\" width=\"2400\" height=\"1600\"/>\n",
       "  </clipPath>\n",
       "</defs>\n",
       "<path clip-path=\"url(#clip410)\" d=\"\n",
       "M0 1600 L2400 1600 L2400 0 L0 0  Z\n",
       "  \" fill=\"#ffffff\" fill-rule=\"evenodd\" fill-opacity=\"1\"/>\n",
       "<defs>\n",
       "  <clipPath id=\"clip411\">\n",
       "    <rect x=\"480\" y=\"0\" width=\"1681\" height=\"1600\"/>\n",
       "  </clipPath>\n",
       "</defs>\n",
       "<path clip-path=\"url(#clip410)\" d=\"\n",
       "M210.441 1486.45 L2352.76 1486.45 L2352.76 123.472 L210.441 123.472  Z\n",
       "  \" fill=\"#ffffff\" fill-rule=\"evenodd\" fill-opacity=\"1\"/>\n",
       "<defs>\n",
       "  <clipPath id=\"clip412\">\n",
       "    <rect x=\"210\" y=\"123\" width=\"2143\" height=\"1364\"/>\n",
       "  </clipPath>\n",
       "</defs>\n",
       "<polyline clip-path=\"url(#clip412)\" style=\"stroke:#000000; stroke-width:2; stroke-opacity:0.1; fill:none\" points=\"\n",
       "  271.072,1486.45 271.072,123.472 \n",
       "  \"/>\n",
       "<polyline clip-path=\"url(#clip412)\" style=\"stroke:#000000; stroke-width:2; stroke-opacity:0.1; fill:none\" points=\"\n",
       "  944.756,1486.45 944.756,123.472 \n",
       "  \"/>\n",
       "<polyline clip-path=\"url(#clip412)\" style=\"stroke:#000000; stroke-width:2; stroke-opacity:0.1; fill:none\" points=\"\n",
       "  1618.44,1486.45 1618.44,123.472 \n",
       "  \"/>\n",
       "<polyline clip-path=\"url(#clip412)\" style=\"stroke:#000000; stroke-width:2; stroke-opacity:0.1; fill:none\" points=\"\n",
       "  2292.12,1486.45 2292.12,123.472 \n",
       "  \"/>\n",
       "<polyline clip-path=\"url(#clip412)\" style=\"stroke:#000000; stroke-width:2; stroke-opacity:0.1; fill:none\" points=\"\n",
       "  210.441,1481.66 2352.76,1481.66 \n",
       "  \"/>\n",
       "<polyline clip-path=\"url(#clip412)\" style=\"stroke:#000000; stroke-width:2; stroke-opacity:0.1; fill:none\" points=\"\n",
       "  210.441,1055.07 2352.76,1055.07 \n",
       "  \"/>\n",
       "<polyline clip-path=\"url(#clip412)\" style=\"stroke:#000000; stroke-width:2; stroke-opacity:0.1; fill:none\" points=\"\n",
       "  210.441,628.485 2352.76,628.485 \n",
       "  \"/>\n",
       "<polyline clip-path=\"url(#clip412)\" style=\"stroke:#000000; stroke-width:2; stroke-opacity:0.1; fill:none\" points=\"\n",
       "  210.441,201.899 2352.76,201.899 \n",
       "  \"/>\n",
       "<polyline clip-path=\"url(#clip410)\" style=\"stroke:#000000; stroke-width:4; stroke-opacity:1; fill:none\" points=\"\n",
       "  210.441,1486.45 2352.76,1486.45 \n",
       "  \"/>\n",
       "<polyline clip-path=\"url(#clip410)\" style=\"stroke:#000000; stroke-width:4; stroke-opacity:1; fill:none\" points=\"\n",
       "  210.441,1486.45 210.441,123.472 \n",
       "  \"/>\n",
       "<polyline clip-path=\"url(#clip410)\" style=\"stroke:#000000; stroke-width:4; stroke-opacity:1; fill:none\" points=\"\n",
       "  271.072,1486.45 271.072,1470.09 \n",
       "  \"/>\n",
       "<polyline clip-path=\"url(#clip410)\" style=\"stroke:#000000; stroke-width:4; stroke-opacity:1; fill:none\" points=\"\n",
       "  944.756,1486.45 944.756,1470.09 \n",
       "  \"/>\n",
       "<polyline clip-path=\"url(#clip410)\" style=\"stroke:#000000; stroke-width:4; stroke-opacity:1; fill:none\" points=\"\n",
       "  1618.44,1486.45 1618.44,1470.09 \n",
       "  \"/>\n",
       "<polyline clip-path=\"url(#clip410)\" style=\"stroke:#000000; stroke-width:4; stroke-opacity:1; fill:none\" points=\"\n",
       "  2292.12,1486.45 2292.12,1470.09 \n",
       "  \"/>\n",
       "<polyline clip-path=\"url(#clip410)\" style=\"stroke:#000000; stroke-width:4; stroke-opacity:1; fill:none\" points=\"\n",
       "  210.441,1481.66 236.148,1481.66 \n",
       "  \"/>\n",
       "<polyline clip-path=\"url(#clip410)\" style=\"stroke:#000000; stroke-width:4; stroke-opacity:1; fill:none\" points=\"\n",
       "  210.441,1055.07 236.148,1055.07 \n",
       "  \"/>\n",
       "<polyline clip-path=\"url(#clip410)\" style=\"stroke:#000000; stroke-width:4; stroke-opacity:1; fill:none\" points=\"\n",
       "  210.441,628.485 236.148,628.485 \n",
       "  \"/>\n",
       "<polyline clip-path=\"url(#clip410)\" style=\"stroke:#000000; stroke-width:4; stroke-opacity:1; fill:none\" points=\"\n",
       "  210.441,201.899 236.148,201.899 \n",
       "  \"/>\n",
       "<path clip-path=\"url(#clip410)\" d=\"M 0 0 M239.587 1557.52 L247.226 1557.52 L247.226 1531.15 L238.916 1532.82 L238.916 1528.56 L247.18 1526.9 L251.856 1526.9 L251.856 1557.52 L259.494 1557.52 L259.494 1561.46 L239.587 1561.46 L239.587 1557.52 Z\" fill=\"#000000\" fill-rule=\"evenodd\" fill-opacity=\"1\" /><path clip-path=\"url(#clip410)\" d=\"M 0 0 M274.564 1529.97 Q270.953 1529.97 269.124 1533.54 Q267.319 1537.08 267.319 1544.21 Q267.319 1551.32 269.124 1554.88 Q270.953 1558.42 274.564 1558.42 Q278.198 1558.42 280.004 1554.88 Q281.832 1551.32 281.832 1544.21 Q281.832 1537.08 280.004 1533.54 Q278.198 1529.97 274.564 1529.97 M274.564 1526.27 Q280.374 1526.27 283.43 1530.88 Q286.508 1535.46 286.508 1544.21 Q286.508 1552.94 283.43 1557.54 Q280.374 1562.13 274.564 1562.13 Q268.754 1562.13 265.675 1557.54 Q262.619 1552.94 262.619 1544.21 Q262.619 1535.46 265.675 1530.88 Q268.754 1526.27 274.564 1526.27 Z\" fill=\"#000000\" fill-rule=\"evenodd\" fill-opacity=\"1\" /><path clip-path=\"url(#clip410)\" d=\"M 0 0 M287.054 1530.85 L293.26 1530.85 L293.26 1509.43 L286.508 1510.78 L286.508 1507.32 L293.223 1505.96 L297.022 1505.96 L297.022 1530.85 L303.228 1530.85 L303.228 1534.04 L287.054 1534.04 L287.054 1530.85 Z\" fill=\"#000000\" fill-rule=\"evenodd\" fill-opacity=\"1\" /><path clip-path=\"url(#clip410)\" d=\"M 0 0 M912.716 1557.52 L920.355 1557.52 L920.355 1531.15 L912.045 1532.82 L912.045 1528.56 L920.309 1526.9 L924.985 1526.9 L924.985 1557.52 L932.624 1557.52 L932.624 1561.46 L912.716 1561.46 L912.716 1557.52 Z\" fill=\"#000000\" fill-rule=\"evenodd\" fill-opacity=\"1\" /><path clip-path=\"url(#clip410)\" d=\"M 0 0 M947.693 1529.97 Q944.082 1529.97 942.253 1533.54 Q940.448 1537.08 940.448 1544.21 Q940.448 1551.32 942.253 1554.88 Q944.082 1558.42 947.693 1558.42 Q951.327 1558.42 953.133 1554.88 Q954.962 1551.32 954.962 1544.21 Q954.962 1537.08 953.133 1533.54 Q951.327 1529.97 947.693 1529.97 M947.693 1526.27 Q953.503 1526.27 956.559 1530.88 Q959.637 1535.46 959.637 1544.21 Q959.637 1552.94 956.559 1557.54 Q953.503 1562.13 947.693 1562.13 Q941.883 1562.13 938.804 1557.54 Q935.749 1552.94 935.749 1544.21 Q935.749 1535.46 938.804 1530.88 Q941.883 1526.27 947.693 1526.27 Z\" fill=\"#000000\" fill-rule=\"evenodd\" fill-opacity=\"1\" /><path clip-path=\"url(#clip410)\" d=\"M 0 0 M964.208 1530.85 L977.467 1530.85 L977.467 1534.04 L959.637 1534.04 L959.637 1530.85 Q961.8 1528.61 965.524 1524.85 Q969.267 1521.07 970.226 1519.98 Q972.051 1517.93 972.765 1516.52 Q973.499 1515.09 973.499 1513.71 Q973.499 1511.48 971.919 1510.06 Q970.358 1508.65 967.838 1508.65 Q966.051 1508.65 964.057 1509.27 Q962.082 1509.9 959.826 1511.16 L959.826 1507.32 Q962.12 1506.4 964.114 1505.93 Q966.107 1505.46 967.762 1505.46 Q972.126 1505.46 974.721 1507.64 Q977.317 1509.82 977.317 1513.47 Q977.317 1515.2 976.659 1516.76 Q976.019 1518.3 974.308 1520.41 Q973.837 1520.95 971.317 1523.57 Q968.797 1526.16 964.208 1530.85 Z\" fill=\"#000000\" fill-rule=\"evenodd\" fill-opacity=\"1\" /><path clip-path=\"url(#clip410)\" d=\"M 0 0 M1586.07 1557.52 L1593.71 1557.52 L1593.71 1531.15 L1585.4 1532.82 L1585.4 1528.56 L1593.66 1526.9 L1598.34 1526.9 L1598.34 1557.52 L1605.98 1557.52 L1605.98 1561.46 L1586.07 1561.46 L1586.07 1557.52 Z\" fill=\"#000000\" fill-rule=\"evenodd\" fill-opacity=\"1\" /><path clip-path=\"url(#clip410)\" d=\"M 0 0 M1621.05 1529.97 Q1617.44 1529.97 1615.61 1533.54 Q1613.8 1537.08 1613.8 1544.21 Q1613.8 1551.32 1615.61 1554.88 Q1617.44 1558.42 1621.05 1558.42 Q1624.68 1558.42 1626.49 1554.88 Q1628.32 1551.32 1628.32 1544.21 Q1628.32 1537.08 1626.49 1533.54 Q1624.68 1529.97 1621.05 1529.97 M1621.05 1526.27 Q1626.86 1526.27 1629.91 1530.88 Q1632.99 1535.46 1632.99 1544.21 Q1632.99 1552.94 1629.91 1557.54 Q1626.86 1562.13 1621.05 1562.13 Q1615.24 1562.13 1612.16 1557.54 Q1609.1 1552.94 1609.1 1544.21 Q1609.1 1535.46 1612.16 1530.88 Q1615.24 1526.27 1621.05 1526.27 Z\" fill=\"#000000\" fill-rule=\"evenodd\" fill-opacity=\"1\" /><path clip-path=\"url(#clip410)\" d=\"M 0 0 M1645.69 1518.9 Q1648.41 1519.49 1649.94 1521.33 Q1651.48 1523.17 1651.48 1525.88 Q1651.48 1530.04 1648.62 1532.31 Q1645.76 1534.59 1640.5 1534.59 Q1638.73 1534.59 1636.85 1534.23 Q1634.99 1533.89 1632.99 1533.2 L1632.99 1529.53 Q1634.57 1530.45 1636.45 1530.92 Q1638.33 1531.39 1640.38 1531.39 Q1643.96 1531.39 1645.82 1529.98 Q1647.7 1528.57 1647.7 1525.88 Q1647.7 1523.4 1645.95 1522.01 Q1644.22 1520.6 1641.12 1520.6 L1637.84 1520.6 L1637.84 1517.48 L1641.27 1517.48 Q1644.07 1517.48 1645.56 1516.37 Q1647.04 1515.24 1647.04 1513.13 Q1647.04 1510.97 1645.5 1509.82 Q1643.98 1508.65 1641.12 1508.65 Q1639.56 1508.65 1637.77 1508.99 Q1635.98 1509.33 1633.84 1510.05 L1633.84 1506.66 Q1636 1506.06 1637.88 1505.76 Q1639.78 1505.46 1641.46 1505.46 Q1645.78 1505.46 1648.3 1507.43 Q1650.82 1509.39 1650.82 1512.74 Q1650.82 1515.07 1649.49 1516.69 Q1648.15 1518.28 1645.69 1518.9 Z\" fill=\"#000000\" fill-rule=\"evenodd\" fill-opacity=\"1\" /><path clip-path=\"url(#clip410)\" d=\"M 0 0 M2258.77 1557.52 L2266.41 1557.52 L2266.41 1531.15 L2258.1 1532.82 L2258.1 1528.56 L2266.36 1526.9 L2271.04 1526.9 L2271.04 1557.52 L2278.68 1557.52 L2278.68 1561.46 L2258.77 1561.46 L2258.77 1557.52 Z\" fill=\"#000000\" fill-rule=\"evenodd\" fill-opacity=\"1\" /><path clip-path=\"url(#clip410)\" d=\"M 0 0 M2293.74 1529.97 Q2290.13 1529.97 2288.3 1533.54 Q2286.5 1537.08 2286.5 1544.21 Q2286.5 1551.32 2288.3 1554.88 Q2290.13 1558.42 2293.74 1558.42 Q2297.38 1558.42 2299.18 1554.88 Q2301.01 1551.32 2301.01 1544.21 Q2301.01 1537.08 2299.18 1533.54 Q2297.38 1529.97 2293.74 1529.97 M2293.74 1526.27 Q2299.55 1526.27 2302.61 1530.88 Q2305.69 1535.46 2305.69 1544.21 Q2305.69 1552.94 2302.61 1557.54 Q2299.55 1562.13 2293.74 1562.13 Q2287.93 1562.13 2284.86 1557.54 Q2281.8 1552.94 2281.8 1544.21 Q2281.8 1535.46 2284.86 1530.88 Q2287.93 1526.27 2293.74 1526.27 Z\" fill=\"#000000\" fill-rule=\"evenodd\" fill-opacity=\"1\" /><path clip-path=\"url(#clip410)\" d=\"M 0 0 M2318.37 1509.27 L2308.77 1524.26 L2318.37 1524.26 L2318.37 1509.27 M2317.37 1505.96 L2322.15 1505.96 L2322.15 1524.26 L2326.15 1524.26 L2326.15 1527.42 L2322.15 1527.42 L2322.15 1534.04 L2318.37 1534.04 L2318.37 1527.42 L2305.69 1527.42 L2305.69 1523.76 L2317.37 1505.96 Z\" fill=\"#000000\" fill-rule=\"evenodd\" fill-opacity=\"1\" /><path clip-path=\"url(#clip410)\" d=\"M 0 0 M96.9199 1501.45 L104.559 1501.45 L104.559 1475.08 L96.2486 1476.75 L96.2486 1472.49 L104.512 1470.82 L109.188 1470.82 L109.188 1501.45 L116.827 1501.45 L116.827 1505.38 L96.9199 1505.38 L96.9199 1501.45 Z\" fill=\"#000000\" fill-rule=\"evenodd\" fill-opacity=\"1\" /><path clip-path=\"url(#clip410)\" d=\"M 0 0 M131.897 1473.9 Q128.285 1473.9 126.457 1477.47 Q124.651 1481.01 124.651 1488.14 Q124.651 1495.25 126.457 1498.81 Q128.285 1502.35 131.897 1502.35 Q135.531 1502.35 137.336 1498.81 Q139.165 1495.25 139.165 1488.14 Q139.165 1481.01 137.336 1477.47 Q135.531 1473.9 131.897 1473.9 M131.897 1470.2 Q137.707 1470.2 140.762 1474.81 Q143.841 1479.39 143.841 1488.14 Q143.841 1496.87 140.762 1501.47 Q137.707 1506.06 131.897 1506.06 Q126.086 1506.06 123.008 1501.47 Q119.952 1496.87 119.952 1488.14 Q119.952 1479.39 123.008 1474.81 Q126.086 1470.2 131.897 1470.2 Z\" fill=\"#000000\" fill-rule=\"evenodd\" fill-opacity=\"1\" /><path clip-path=\"url(#clip410)\" d=\"M 0 0 M143.841 1465.88 L153.978 1465.88 L153.978 1468.97 L143.841 1468.97 L143.841 1465.88 Z\" fill=\"#000000\" fill-rule=\"evenodd\" fill-opacity=\"1\" /><path clip-path=\"url(#clip410)\" d=\"M 0 0 M180.648 1462.83 Q183.375 1463.42 184.898 1465.26 Q186.441 1467.1 186.441 1469.81 Q186.441 1473.97 183.582 1476.24 Q180.723 1478.52 175.457 1478.52 Q173.689 1478.52 171.808 1478.16 Q169.946 1477.82 167.953 1477.13 L167.953 1473.46 Q169.532 1474.38 171.413 1474.85 Q173.294 1475.32 175.344 1475.32 Q178.917 1475.32 180.779 1473.91 Q182.66 1472.5 182.66 1469.81 Q182.66 1467.33 180.911 1465.94 Q179.181 1464.53 176.077 1464.53 L172.805 1464.53 L172.805 1461.4 L176.228 1461.4 Q179.03 1461.4 180.516 1460.29 Q182.002 1459.17 182.002 1457.06 Q182.002 1454.9 180.46 1453.75 Q178.936 1452.58 176.077 1452.58 Q174.516 1452.58 172.73 1452.92 Q170.943 1453.26 168.799 1453.98 L168.799 1450.59 Q170.962 1449.99 172.843 1449.69 Q174.742 1449.39 176.416 1449.39 Q180.742 1449.39 183.262 1451.36 Q185.782 1453.32 185.782 1456.66 Q185.782 1459 184.447 1460.61 Q183.112 1462.21 180.648 1462.83 Z\" fill=\"#000000\" fill-rule=\"evenodd\" fill-opacity=\"1\" /><path clip-path=\"url(#clip410)\" d=\"M 0 0 M97.5782 1074.86 L105.217 1074.86 L105.217 1048.5 L96.9069 1050.16 L96.9069 1045.91 L105.171 1044.24 L109.847 1044.24 L109.847 1074.86 L117.485 1074.86 L117.485 1078.8 L97.5782 1078.8 L97.5782 1074.86 Z\" fill=\"#000000\" fill-rule=\"evenodd\" fill-opacity=\"1\" /><path clip-path=\"url(#clip410)\" d=\"M 0 0 M132.555 1047.32 Q128.944 1047.32 127.115 1050.88 Q125.31 1054.42 125.31 1061.55 Q125.31 1068.66 127.115 1072.22 Q128.944 1075.77 132.555 1075.77 Q136.189 1075.77 137.995 1072.22 Q139.823 1068.66 139.823 1061.55 Q139.823 1054.42 137.995 1050.88 Q136.189 1047.32 132.555 1047.32 M132.555 1043.61 Q138.365 1043.61 141.421 1048.22 Q144.499 1052.8 144.499 1061.55 Q144.499 1070.28 141.421 1074.89 Q138.365 1079.47 132.555 1079.47 Q126.745 1079.47 123.666 1074.89 Q120.61 1070.28 120.61 1061.55 Q120.61 1052.8 123.666 1048.22 Q126.745 1043.61 132.555 1043.61 Z\" fill=\"#000000\" fill-rule=\"evenodd\" fill-opacity=\"1\" /><path clip-path=\"url(#clip410)\" d=\"M 0 0 M144.499 1039.29 L154.637 1039.29 L154.637 1042.38 L144.499 1042.38 L144.499 1039.29 Z\" fill=\"#000000\" fill-rule=\"evenodd\" fill-opacity=\"1\" /><path clip-path=\"url(#clip410)\" d=\"M 0 0 M173.181 1048.19 L186.441 1048.19 L186.441 1051.39 L168.611 1051.39 L168.611 1048.19 Q170.774 1045.95 174.498 1042.19 Q178.24 1038.41 179.2 1037.32 Q181.024 1035.27 181.739 1033.86 Q182.472 1032.43 182.472 1031.06 Q182.472 1028.82 180.892 1027.41 Q179.331 1026 176.811 1026 Q175.024 1026 173.031 1026.62 Q171.056 1027.24 168.799 1028.5 L168.799 1024.66 Q171.093 1023.74 173.087 1023.27 Q175.081 1022.8 176.736 1022.8 Q181.099 1022.8 183.695 1024.98 Q186.29 1027.16 186.29 1030.81 Q186.29 1032.54 185.632 1034.1 Q184.992 1035.65 183.281 1037.75 Q182.811 1038.3 180.29 1040.91 Q177.77 1043.51 173.181 1048.19 Z\" fill=\"#000000\" fill-rule=\"evenodd\" fill-opacity=\"1\" /><path clip-path=\"url(#clip410)\" d=\"M 0 0 M98.6878 648.278 L106.327 648.278 L106.327 621.912 L98.0165 623.579 L98.0165 619.319 L106.28 617.653 L110.956 617.653 L110.956 648.278 L118.595 648.278 L118.595 652.213 L98.6878 652.213 L98.6878 648.278 Z\" fill=\"#000000\" fill-rule=\"evenodd\" fill-opacity=\"1\" /><path clip-path=\"url(#clip410)\" d=\"M 0 0 M133.664 620.731 Q130.053 620.731 128.225 624.296 Q126.419 627.838 126.419 634.967 Q126.419 642.074 128.225 645.639 Q130.053 649.18 133.664 649.18 Q137.299 649.18 139.104 645.639 Q140.933 642.074 140.933 634.967 Q140.933 627.838 139.104 624.296 Q137.299 620.731 133.664 620.731 M133.664 617.028 Q139.475 617.028 142.53 621.634 Q145.609 626.218 145.609 634.967 Q145.609 643.694 142.53 648.301 Q139.475 652.884 133.664 652.884 Q127.854 652.884 124.776 648.301 Q121.72 643.694 121.72 634.967 Q121.72 626.218 124.776 621.634 Q127.854 617.028 133.664 617.028 Z\" fill=\"#000000\" fill-rule=\"evenodd\" fill-opacity=\"1\" /><path clip-path=\"url(#clip410)\" d=\"M 0 0 M145.609 612.709 L155.746 612.709 L155.746 615.793 L145.609 615.793 L145.609 612.709 Z\" fill=\"#000000\" fill-rule=\"evenodd\" fill-opacity=\"1\" /><path clip-path=\"url(#clip410)\" d=\"M 0 0 M170.266 621.605 L176.472 621.605 L176.472 600.183 L169.72 601.537 L169.72 598.077 L176.435 596.722 L180.234 596.722 L180.234 621.605 L186.441 621.605 L186.441 624.802 L170.266 624.802 L170.266 621.605 Z\" fill=\"#000000\" fill-rule=\"evenodd\" fill-opacity=\"1\" /><path clip-path=\"url(#clip410)\" d=\"M 0 0 M120.11 221.692 L127.749 221.692 L127.749 195.326 L119.439 196.993 L119.439 192.734 L127.702 191.067 L132.378 191.067 L132.378 221.692 L140.017 221.692 L140.017 225.627 L120.11 225.627 L120.11 221.692 Z\" fill=\"#000000\" fill-rule=\"evenodd\" fill-opacity=\"1\" /><path clip-path=\"url(#clip410)\" d=\"M 0 0 M155.087 194.146 Q151.475 194.146 149.647 197.71 Q147.841 201.252 147.841 208.382 Q147.841 215.488 149.647 219.053 Q151.475 222.594 155.087 222.594 Q158.721 222.594 160.526 219.053 Q162.355 215.488 162.355 208.382 Q162.355 201.252 160.526 197.71 Q158.721 194.146 155.087 194.146 M155.087 190.442 Q160.897 190.442 163.952 195.048 Q167.031 199.632 167.031 208.382 Q167.031 217.108 163.952 221.715 Q160.897 226.298 155.087 226.298 Q149.276 226.298 146.198 221.715 Q143.142 217.108 143.142 208.382 Q143.142 199.632 146.198 195.048 Q149.276 190.442 155.087 190.442 Z\" fill=\"#000000\" fill-rule=\"evenodd\" fill-opacity=\"1\" /><path clip-path=\"url(#clip410)\" d=\"M 0 0 M176.736 172.638 Q173.802 172.638 172.316 175.534 Q170.849 178.412 170.849 184.205 Q170.849 189.979 172.316 192.875 Q173.802 195.753 176.736 195.753 Q179.689 195.753 181.156 192.875 Q182.641 189.979 182.641 184.205 Q182.641 178.412 181.156 175.534 Q179.689 172.638 176.736 172.638 M176.736 169.629 Q181.456 169.629 183.939 173.371 Q186.441 177.095 186.441 184.205 Q186.441 191.295 183.939 195.038 Q181.456 198.762 176.736 198.762 Q172.015 198.762 169.514 195.038 Q167.031 191.295 167.031 184.205 Q167.031 177.095 169.514 173.371 Q172.015 169.629 176.736 169.629 Z\" fill=\"#000000\" fill-rule=\"evenodd\" fill-opacity=\"1\" /><path clip-path=\"url(#clip410)\" d=\"M 0 0 M1019.34 12.096 L1057.58 12.096 L1057.58 18.9825 L1027.53 18.9825 L1027.53 36.8875 L1056.33 36.8875 L1056.33 43.7741 L1027.53 43.7741 L1027.53 65.6895 L1058.31 65.6895 L1058.31 72.576 L1019.34 72.576 L1019.34 12.096 Z\" fill=\"#000000\" fill-rule=\"evenodd\" fill-opacity=\"1\" /><path clip-path=\"url(#clip410)\" d=\"M 0 0 M1092.42 34.1734 Q1091.17 33.4443 1089.67 33.1202 Q1088.21 32.7556 1086.43 32.7556 Q1080.11 32.7556 1076.7 36.8875 Q1073.34 40.9789 1073.34 48.6757 L1073.34 72.576 L1065.85 72.576 L1065.85 27.2059 L1073.34 27.2059 L1073.34 34.2544 Q1075.69 30.1225 1079.46 28.1376 Q1083.23 26.1121 1088.61 26.1121 Q1089.38 26.1121 1090.31 26.2337 Q1091.25 26.3147 1092.38 26.5172 L1092.42 34.1734 Z\" fill=\"#000000\" fill-rule=\"evenodd\" fill-opacity=\"1\" /><path clip-path=\"url(#clip410)\" d=\"M 0 0 M1125.07 34.1734 Q1123.82 33.4443 1122.32 33.1202 Q1120.86 32.7556 1119.08 32.7556 Q1112.76 32.7556 1109.35 36.8875 Q1105.99 40.9789 1105.99 48.6757 L1105.99 72.576 L1098.5 72.576 L1098.5 27.2059 L1105.99 27.2059 L1105.99 34.2544 Q1108.34 30.1225 1112.11 28.1376 Q1115.88 26.1121 1121.26 26.1121 Q1122.03 26.1121 1122.96 26.2337 Q1123.9 26.3147 1125.03 26.5172 L1125.07 34.1734 Z\" fill=\"#000000\" fill-rule=\"evenodd\" fill-opacity=\"1\" /><path clip-path=\"url(#clip410)\" d=\"M 0 0 M1148.65 32.4315 Q1142.65 32.4315 1139.17 37.1306 Q1135.68 41.7891 1135.68 49.9314 Q1135.68 58.0738 1139.13 62.7728 Q1142.61 67.4314 1148.65 67.4314 Q1154.6 67.4314 1158.09 62.7323 Q1161.57 58.0333 1161.57 49.9314 Q1161.57 41.8701 1158.09 37.1711 Q1154.6 32.4315 1148.65 32.4315 M1148.65 26.1121 Q1158.37 26.1121 1163.92 32.4315 Q1169.47 38.7509 1169.47 49.9314 Q1169.47 61.0714 1163.92 67.4314 Q1158.37 73.7508 1148.65 73.7508 Q1138.88 73.7508 1133.34 67.4314 Q1127.83 61.0714 1127.83 49.9314 Q1127.83 38.7509 1133.34 32.4315 Q1138.88 26.1121 1148.65 26.1121 Z\" fill=\"#000000\" fill-rule=\"evenodd\" fill-opacity=\"1\" /><path clip-path=\"url(#clip410)\" d=\"M 0 0 M1203.58 34.1734 Q1202.32 33.4443 1200.82 33.1202 Q1199.36 32.7556 1197.58 32.7556 Q1191.26 32.7556 1187.86 36.8875 Q1184.5 40.9789 1184.5 48.6757 L1184.5 72.576 L1177 72.576 L1177 27.2059 L1184.5 27.2059 L1184.5 34.2544 Q1186.85 30.1225 1190.61 28.1376 Q1194.38 26.1121 1199.77 26.1121 Q1200.54 26.1121 1201.47 26.2337 Q1202.4 26.3147 1203.54 26.5172 L1203.58 34.1734 Z\" fill=\"#000000\" fill-rule=\"evenodd\" fill-opacity=\"1\" /><path clip-path=\"url(#clip410)\" d=\"M 0 0 M1258.39 49.7694 Q1249.35 49.7694 1245.87 51.8354 Q1242.39 53.9013 1242.39 58.8839 Q1242.39 62.8538 1244.98 65.2034 Q1247.61 67.5124 1252.11 67.5124 Q1258.31 67.5124 1262.03 63.1374 Q1265.8 58.7219 1265.8 51.4303 L1265.8 49.7694 L1258.39 49.7694 M1273.25 46.6907 L1273.25 72.576 L1265.8 72.576 L1265.8 65.6895 Q1263.25 69.8214 1259.44 71.8063 Q1255.63 73.7508 1250.12 73.7508 Q1243.16 73.7508 1239.02 69.8619 Q1234.93 65.9325 1234.93 59.3701 Q1234.93 51.7138 1240.04 47.825 Q1245.18 43.9361 1255.35 43.9361 L1265.8 43.9361 L1265.8 43.2069 Q1265.8 38.0623 1262.4 35.2672 Q1259.03 32.4315 1252.92 32.4315 Q1249.03 32.4315 1245.34 33.3632 Q1241.66 34.295 1238.25 36.1584 L1238.25 29.2718 Q1242.34 27.692 1246.19 26.9223 Q1250.04 26.1121 1253.69 26.1121 Q1263.53 26.1121 1268.39 31.2163 Q1273.25 36.3204 1273.25 46.6907 Z\" fill=\"#000000\" fill-rule=\"evenodd\" fill-opacity=\"1\" /><path clip-path=\"url(#clip410)\" d=\"M 0 0 M1313.64 49.9314 Q1313.64 41.7081 1310.24 37.0496 Q1306.88 32.3505 1300.96 32.3505 Q1295.05 32.3505 1291.64 37.0496 Q1288.28 41.7081 1288.28 49.9314 Q1288.28 58.1548 1291.64 62.8538 Q1295.05 67.5124 1300.96 67.5124 Q1306.88 67.5124 1310.24 62.8538 Q1313.64 58.1548 1313.64 49.9314 M1288.28 34.0924 Q1290.63 30.0415 1294.2 28.0971 Q1297.8 26.1121 1302.78 26.1121 Q1311.05 26.1121 1316.19 32.6746 Q1321.38 39.2371 1321.38 49.9314 Q1321.38 60.6258 1316.19 67.1883 Q1311.05 73.7508 1302.78 73.7508 Q1297.8 73.7508 1294.2 71.8063 Q1290.63 69.8214 1288.28 65.7705 L1288.28 72.576 L1280.79 72.576 L1280.79 9.54393 L1288.28 9.54393 L1288.28 34.0924 Z\" fill=\"#000000\" fill-rule=\"evenodd\" fill-opacity=\"1\" /><path clip-path=\"url(#clip410)\" d=\"M 0 0 M1358.12 28.5427 L1358.12 35.5912 Q1354.96 33.9709 1351.56 33.1607 Q1348.15 32.3505 1344.51 32.3505 Q1338.96 32.3505 1336.16 34.0519 Q1333.41 35.7533 1333.41 39.156 Q1333.41 41.7486 1335.39 43.2475 Q1337.38 44.7058 1343.37 46.0426 L1345.93 46.6097 Q1353.87 48.3111 1357.19 51.4303 Q1360.55 54.509 1360.55 60.0587 Q1360.55 66.3781 1355.53 70.0644 Q1350.54 73.7508 1341.79 73.7508 Q1338.15 73.7508 1334.18 73.0216 Q1330.25 72.3329 1325.87 70.9151 L1325.87 63.2184 Q1330.01 65.3654 1334.02 66.4591 Q1338.03 67.5124 1341.96 67.5124 Q1347.22 67.5124 1350.06 65.73 Q1352.89 63.9071 1352.89 60.6258 Q1352.89 57.5877 1350.83 55.9673 Q1348.8 54.3469 1341.88 52.8481 L1339.28 52.2405 Q1332.36 50.7821 1329.28 47.7845 Q1326.2 44.7463 1326.2 39.4801 Q1326.2 33.0797 1330.74 29.5959 Q1335.27 26.1121 1343.62 26.1121 Q1347.75 26.1121 1351.4 26.7198 Q1355.04 27.3274 1358.12 28.5427 Z\" fill=\"#000000\" fill-rule=\"evenodd\" fill-opacity=\"1\" /><path clip-path=\"url(#clip410)\" d=\"M 0 0 M1385.95 32.4315 Q1379.95 32.4315 1376.47 37.1306 Q1372.99 41.7891 1372.99 49.9314 Q1372.99 58.0738 1376.43 62.7728 Q1379.91 67.4314 1385.95 67.4314 Q1391.9 67.4314 1395.39 62.7323 Q1398.87 58.0333 1398.87 49.9314 Q1398.87 41.8701 1395.39 37.1711 Q1391.9 32.4315 1385.95 32.4315 M1385.95 26.1121 Q1395.67 26.1121 1401.22 32.4315 Q1406.77 38.7509 1406.77 49.9314 Q1406.77 61.0714 1401.22 67.4314 Q1395.67 73.7508 1385.95 73.7508 Q1376.19 73.7508 1370.64 67.4314 Q1365.13 61.0714 1365.13 49.9314 Q1365.13 38.7509 1370.64 32.4315 Q1376.19 26.1121 1385.95 26.1121 Z\" fill=\"#000000\" fill-rule=\"evenodd\" fill-opacity=\"1\" /><path clip-path=\"url(#clip410)\" d=\"M 0 0 M1414.59 9.54393 L1422.04 9.54393 L1422.04 72.576 L1414.59 72.576 L1414.59 9.54393 Z\" fill=\"#000000\" fill-rule=\"evenodd\" fill-opacity=\"1\" /><path clip-path=\"url(#clip410)\" d=\"M 0 0 M1429.09 54.671 L1429.09 27.2059 L1436.55 27.2059 L1436.55 54.3874 Q1436.55 60.8284 1439.06 64.0691 Q1441.57 67.2693 1446.59 67.2693 Q1452.63 67.2693 1456.11 63.421 Q1459.64 59.5726 1459.64 52.9291 L1459.64 27.2059 L1467.09 27.2059 L1467.09 72.576 L1459.64 72.576 L1459.64 65.6084 Q1456.92 69.7404 1453.32 71.7658 Q1449.75 73.7508 1445.01 73.7508 Q1437.19 73.7508 1433.14 68.8897 Q1429.09 64.0286 1429.09 54.671 M1447.85 26.1121 L1447.85 26.1121 Z\" fill=\"#000000\" fill-rule=\"evenodd\" fill-opacity=\"1\" /><path clip-path=\"url(#clip410)\" d=\"M 0 0 M1482.28 14.324 L1482.28 27.2059 L1497.63 27.2059 L1497.63 32.9987 L1482.28 32.9987 L1482.28 57.6282 Q1482.28 63.1779 1483.78 64.7578 Q1485.32 66.3376 1489.98 66.3376 L1497.63 66.3376 L1497.63 72.576 L1489.98 72.576 Q1481.35 72.576 1478.07 69.3758 Q1474.79 66.1351 1474.79 57.6282 L1474.79 32.9987 L1469.32 32.9987 L1469.32 27.2059 L1474.79 27.2059 L1474.79 14.324 L1482.28 14.324 Z\" fill=\"#000000\" fill-rule=\"evenodd\" fill-opacity=\"1\" /><path clip-path=\"url(#clip410)\" d=\"M 0 0 M1523.03 32.4315 Q1517.04 32.4315 1513.55 37.1306 Q1510.07 41.7891 1510.07 49.9314 Q1510.07 58.0738 1513.51 62.7728 Q1517 67.4314 1523.03 67.4314 Q1528.99 67.4314 1532.47 62.7323 Q1535.95 58.0333 1535.95 49.9314 Q1535.95 41.8701 1532.47 37.1711 Q1528.99 32.4315 1523.03 32.4315 M1523.03 26.1121 Q1532.75 26.1121 1538.3 32.4315 Q1543.85 38.7509 1543.85 49.9314 Q1543.85 61.0714 1538.3 67.4314 Q1532.75 73.7508 1523.03 73.7508 Q1513.27 73.7508 1507.72 67.4314 Q1502.21 61.0714 1502.21 49.9314 Q1502.21 38.7509 1507.72 32.4315 Q1513.27 26.1121 1523.03 26.1121 Z\" fill=\"#000000\" fill-rule=\"evenodd\" fill-opacity=\"1\" /><circle clip-path=\"url(#clip412)\" cx=\"271.072\" cy=\"162.047\" r=\"14\" fill=\"#009af9\" fill-rule=\"evenodd\" fill-opacity=\"1\" stroke=\"#000000\" stroke-opacity=\"1\" stroke-width=\"3.2\"/>\n",
       "<circle clip-path=\"url(#clip412)\" cx=\"347.834\" cy=\"212.038\" r=\"14\" fill=\"#009af9\" fill-rule=\"evenodd\" fill-opacity=\"1\" stroke=\"#000000\" stroke-opacity=\"1\" stroke-width=\"3.2\"/>\n",
       "<circle clip-path=\"url(#clip412)\" cx=\"426.322\" cy=\"262.83\" r=\"14\" fill=\"#009af9\" fill-rule=\"evenodd\" fill-opacity=\"1\" stroke=\"#000000\" stroke-opacity=\"1\" stroke-width=\"3.2\"/>\n",
       "<circle clip-path=\"url(#clip412)\" cx=\"488.146\" cy=\"302.658\" r=\"14\" fill=\"#009af9\" fill-rule=\"evenodd\" fill-opacity=\"1\" stroke=\"#000000\" stroke-opacity=\"1\" stroke-width=\"3.2\"/>\n",
       "<circle clip-path=\"url(#clip412)\" cx=\"550.633\" cy=\"342.783\" r=\"14\" fill=\"#009af9\" fill-rule=\"evenodd\" fill-opacity=\"1\" stroke=\"#000000\" stroke-opacity=\"1\" stroke-width=\"3.2\"/>\n",
       "<circle clip-path=\"url(#clip412)\" cx=\"620.387\" cy=\"387.45\" r=\"14\" fill=\"#009af9\" fill-rule=\"evenodd\" fill-opacity=\"1\" stroke=\"#000000\" stroke-opacity=\"1\" stroke-width=\"3.2\"/>\n",
       "<circle clip-path=\"url(#clip412)\" cx=\"690.945\" cy=\"432.526\" r=\"14\" fill=\"#009af9\" fill-rule=\"evenodd\" fill-opacity=\"1\" stroke=\"#000000\" stroke-opacity=\"1\" stroke-width=\"3.2\"/>\n",
       "<circle clip-path=\"url(#clip412)\" cx=\"759.005\" cy=\"475.926\" r=\"14\" fill=\"#009af9\" fill-rule=\"evenodd\" fill-opacity=\"1\" stroke=\"#000000\" stroke-opacity=\"1\" stroke-width=\"3.2\"/>\n",
       "<circle clip-path=\"url(#clip412)\" cx=\"831.92\" cy=\"522.352\" r=\"14\" fill=\"#009af9\" fill-rule=\"evenodd\" fill-opacity=\"1\" stroke=\"#000000\" stroke-opacity=\"1\" stroke-width=\"3.2\"/>\n",
       "<circle clip-path=\"url(#clip412)\" cx=\"900.629\" cy=\"566.049\" r=\"14\" fill=\"#009af9\" fill-rule=\"evenodd\" fill-opacity=\"1\" stroke=\"#000000\" stroke-opacity=\"1\" stroke-width=\"3.2\"/>\n",
       "<circle clip-path=\"url(#clip412)\" cx=\"969.97\" cy=\"610.107\" r=\"14\" fill=\"#009af9\" fill-rule=\"evenodd\" fill-opacity=\"1\" stroke=\"#000000\" stroke-opacity=\"1\" stroke-width=\"3.2\"/>\n",
       "<circle clip-path=\"url(#clip412)\" cx=\"1038.99\" cy=\"653.931\" r=\"14\" fill=\"#009af9\" fill-rule=\"evenodd\" fill-opacity=\"1\" stroke=\"#000000\" stroke-opacity=\"1\" stroke-width=\"3.2\"/>\n",
       "<circle clip-path=\"url(#clip412)\" cx=\"1108.49\" cy=\"698.032\" r=\"14\" fill=\"#009af9\" fill-rule=\"evenodd\" fill-opacity=\"1\" stroke=\"#000000\" stroke-opacity=\"1\" stroke-width=\"3.2\"/>\n",
       "<circle clip-path=\"url(#clip412)\" cx=\"1178.09\" cy=\"742.179\" r=\"14\" fill=\"#009af9\" fill-rule=\"evenodd\" fill-opacity=\"1\" stroke=\"#000000\" stroke-opacity=\"1\" stroke-width=\"3.2\"/>\n",
       "<circle clip-path=\"url(#clip412)\" cx=\"1247.04\" cy=\"785.9\" r=\"14\" fill=\"#009af9\" fill-rule=\"evenodd\" fill-opacity=\"1\" stroke=\"#000000\" stroke-opacity=\"1\" stroke-width=\"3.2\"/>\n",
       "<circle clip-path=\"url(#clip412)\" cx=\"1317.08\" cy=\"830.295\" r=\"14\" fill=\"#009af9\" fill-rule=\"evenodd\" fill-opacity=\"1\" stroke=\"#000000\" stroke-opacity=\"1\" stroke-width=\"3.2\"/>\n",
       "<circle clip-path=\"url(#clip412)\" cx=\"1386.76\" cy=\"874.453\" r=\"14\" fill=\"#009af9\" fill-rule=\"evenodd\" fill-opacity=\"1\" stroke=\"#000000\" stroke-opacity=\"1\" stroke-width=\"3.2\"/>\n",
       "<circle clip-path=\"url(#clip412)\" cx=\"1456.02\" cy=\"918.341\" r=\"14\" fill=\"#009af9\" fill-rule=\"evenodd\" fill-opacity=\"1\" stroke=\"#000000\" stroke-opacity=\"1\" stroke-width=\"3.2\"/>\n",
       "<circle clip-path=\"url(#clip412)\" cx=\"1525.56\" cy=\"962.396\" r=\"14\" fill=\"#009af9\" fill-rule=\"evenodd\" fill-opacity=\"1\" stroke=\"#000000\" stroke-opacity=\"1\" stroke-width=\"3.2\"/>\n",
       "<circle clip-path=\"url(#clip412)\" cx=\"1595.31\" cy=\"1006.58\" r=\"14\" fill=\"#009af9\" fill-rule=\"evenodd\" fill-opacity=\"1\" stroke=\"#000000\" stroke-opacity=\"1\" stroke-width=\"3.2\"/>\n",
       "<circle clip-path=\"url(#clip412)\" cx=\"1665.13\" cy=\"1050.8\" r=\"14\" fill=\"#009af9\" fill-rule=\"evenodd\" fill-opacity=\"1\" stroke=\"#000000\" stroke-opacity=\"1\" stroke-width=\"3.2\"/>\n",
       "<circle clip-path=\"url(#clip412)\" cx=\"1734.72\" cy=\"1094.88\" r=\"14\" fill=\"#009af9\" fill-rule=\"evenodd\" fill-opacity=\"1\" stroke=\"#000000\" stroke-opacity=\"1\" stroke-width=\"3.2\"/>\n",
       "<circle clip-path=\"url(#clip412)\" cx=\"1804.38\" cy=\"1139\" r=\"14\" fill=\"#009af9\" fill-rule=\"evenodd\" fill-opacity=\"1\" stroke=\"#000000\" stroke-opacity=\"1\" stroke-width=\"3.2\"/>\n",
       "<circle clip-path=\"url(#clip412)\" cx=\"1874.09\" cy=\"1183.15\" r=\"14\" fill=\"#009af9\" fill-rule=\"evenodd\" fill-opacity=\"1\" stroke=\"#000000\" stroke-opacity=\"1\" stroke-width=\"3.2\"/>\n",
       "<circle clip-path=\"url(#clip412)\" cx=\"1943.74\" cy=\"1227.26\" r=\"14\" fill=\"#009af9\" fill-rule=\"evenodd\" fill-opacity=\"1\" stroke=\"#000000\" stroke-opacity=\"1\" stroke-width=\"3.2\"/>\n",
       "<circle clip-path=\"url(#clip412)\" cx=\"2013.39\" cy=\"1271.36\" r=\"14\" fill=\"#009af9\" fill-rule=\"evenodd\" fill-opacity=\"1\" stroke=\"#000000\" stroke-opacity=\"1\" stroke-width=\"3.2\"/>\n",
       "<circle clip-path=\"url(#clip412)\" cx=\"2083.06\" cy=\"1315.48\" r=\"14\" fill=\"#009af9\" fill-rule=\"evenodd\" fill-opacity=\"1\" stroke=\"#000000\" stroke-opacity=\"1\" stroke-width=\"3.2\"/>\n",
       "<circle clip-path=\"url(#clip412)\" cx=\"2152.78\" cy=\"1359.63\" r=\"14\" fill=\"#009af9\" fill-rule=\"evenodd\" fill-opacity=\"1\" stroke=\"#000000\" stroke-opacity=\"1\" stroke-width=\"3.2\"/>\n",
       "<circle clip-path=\"url(#clip412)\" cx=\"2222.45\" cy=\"1403.75\" r=\"14\" fill=\"#009af9\" fill-rule=\"evenodd\" fill-opacity=\"1\" stroke=\"#000000\" stroke-opacity=\"1\" stroke-width=\"3.2\"/>\n",
       "<circle clip-path=\"url(#clip412)\" cx=\"2292.12\" cy=\"1447.87\" r=\"14\" fill=\"#009af9\" fill-rule=\"evenodd\" fill-opacity=\"1\" stroke=\"#000000\" stroke-opacity=\"1\" stroke-width=\"3.2\"/>\n",
       "<path clip-path=\"url(#clip410)\" d=\"\n",
       "M1571.51 289.865 L2281.35 289.865 L2281.35 168.905 L1571.51 168.905  Z\n",
       "  \" fill=\"#ffffff\" fill-rule=\"evenodd\" fill-opacity=\"1\"/>\n",
       "<polyline clip-path=\"url(#clip410)\" style=\"stroke:#000000; stroke-width:4; stroke-opacity:1; fill:none\" points=\"\n",
       "  1571.51,289.865 2281.35,289.865 2281.35,168.905 1571.51,168.905 1571.51,289.865 \n",
       "  \"/>\n",
       "<circle clip-path=\"url(#clip410)\" cx=\"1666.72\" cy=\"229.385\" r=\"23\" fill=\"#009af9\" fill-rule=\"evenodd\" fill-opacity=\"1\" stroke=\"#000000\" stroke-opacity=\"1\" stroke-width=\"5.12\"/>\n",
       "<circle clip-path=\"url(#clip410)\" cx=\"1666.72\" cy=\"229.385\" r=\"23\" fill=\"#009af9\" fill-rule=\"evenodd\" fill-opacity=\"1\" stroke=\"#000000\" stroke-opacity=\"1\" stroke-width=\"5.12\"/>\n",
       "<circle clip-path=\"url(#clip410)\" cx=\"1666.72\" cy=\"229.385\" r=\"23\" fill=\"#009af9\" fill-rule=\"evenodd\" fill-opacity=\"1\" stroke=\"#000000\" stroke-opacity=\"1\" stroke-width=\"5.12\"/>\n",
       "<circle clip-path=\"url(#clip410)\" cx=\"1666.72\" cy=\"229.385\" r=\"23\" fill=\"#009af9\" fill-rule=\"evenodd\" fill-opacity=\"1\" stroke=\"#000000\" stroke-opacity=\"1\" stroke-width=\"5.12\"/>\n",
       "<circle clip-path=\"url(#clip410)\" cx=\"1666.72\" cy=\"229.385\" r=\"23\" fill=\"#009af9\" fill-rule=\"evenodd\" fill-opacity=\"1\" stroke=\"#000000\" stroke-opacity=\"1\" stroke-width=\"5.12\"/>\n",
       "<circle clip-path=\"url(#clip410)\" cx=\"1666.72\" cy=\"229.385\" r=\"23\" fill=\"#009af9\" fill-rule=\"evenodd\" fill-opacity=\"1\" stroke=\"#000000\" stroke-opacity=\"1\" stroke-width=\"5.12\"/>\n",
       "<circle clip-path=\"url(#clip410)\" cx=\"1666.72\" cy=\"229.385\" r=\"23\" fill=\"#009af9\" fill-rule=\"evenodd\" fill-opacity=\"1\" stroke=\"#000000\" stroke-opacity=\"1\" stroke-width=\"5.12\"/>\n",
       "<circle clip-path=\"url(#clip410)\" cx=\"1666.72\" cy=\"229.385\" r=\"23\" fill=\"#009af9\" fill-rule=\"evenodd\" fill-opacity=\"1\" stroke=\"#000000\" stroke-opacity=\"1\" stroke-width=\"5.12\"/>\n",
       "<circle clip-path=\"url(#clip410)\" cx=\"1666.72\" cy=\"229.385\" r=\"23\" fill=\"#009af9\" fill-rule=\"evenodd\" fill-opacity=\"1\" stroke=\"#000000\" stroke-opacity=\"1\" stroke-width=\"5.12\"/>\n",
       "<circle clip-path=\"url(#clip410)\" cx=\"1666.72\" cy=\"229.385\" r=\"23\" fill=\"#009af9\" fill-rule=\"evenodd\" fill-opacity=\"1\" stroke=\"#000000\" stroke-opacity=\"1\" stroke-width=\"5.12\"/>\n",
       "<circle clip-path=\"url(#clip410)\" cx=\"1666.72\" cy=\"229.385\" r=\"23\" fill=\"#009af9\" fill-rule=\"evenodd\" fill-opacity=\"1\" stroke=\"#000000\" stroke-opacity=\"1\" stroke-width=\"5.12\"/>\n",
       "<circle clip-path=\"url(#clip410)\" cx=\"1666.72\" cy=\"229.385\" r=\"23\" fill=\"#009af9\" fill-rule=\"evenodd\" fill-opacity=\"1\" stroke=\"#000000\" stroke-opacity=\"1\" stroke-width=\"5.12\"/>\n",
       "<circle clip-path=\"url(#clip410)\" cx=\"1666.72\" cy=\"229.385\" r=\"23\" fill=\"#009af9\" fill-rule=\"evenodd\" fill-opacity=\"1\" stroke=\"#000000\" stroke-opacity=\"1\" stroke-width=\"5.12\"/>\n",
       "<circle clip-path=\"url(#clip410)\" cx=\"1666.72\" cy=\"229.385\" r=\"23\" fill=\"#009af9\" fill-rule=\"evenodd\" fill-opacity=\"1\" stroke=\"#000000\" stroke-opacity=\"1\" stroke-width=\"5.12\"/>\n",
       "<circle clip-path=\"url(#clip410)\" cx=\"1666.72\" cy=\"229.385\" r=\"23\" fill=\"#009af9\" fill-rule=\"evenodd\" fill-opacity=\"1\" stroke=\"#000000\" stroke-opacity=\"1\" stroke-width=\"5.12\"/>\n",
       "<circle clip-path=\"url(#clip410)\" cx=\"1666.72\" cy=\"229.385\" r=\"23\" fill=\"#009af9\" fill-rule=\"evenodd\" fill-opacity=\"1\" stroke=\"#000000\" stroke-opacity=\"1\" stroke-width=\"5.12\"/>\n",
       "<circle clip-path=\"url(#clip410)\" cx=\"1666.72\" cy=\"229.385\" r=\"23\" fill=\"#009af9\" fill-rule=\"evenodd\" fill-opacity=\"1\" stroke=\"#000000\" stroke-opacity=\"1\" stroke-width=\"5.12\"/>\n",
       "<circle clip-path=\"url(#clip410)\" cx=\"1666.72\" cy=\"229.385\" r=\"23\" fill=\"#009af9\" fill-rule=\"evenodd\" fill-opacity=\"1\" stroke=\"#000000\" stroke-opacity=\"1\" stroke-width=\"5.12\"/>\n",
       "<circle clip-path=\"url(#clip410)\" cx=\"1666.72\" cy=\"229.385\" r=\"23\" fill=\"#009af9\" fill-rule=\"evenodd\" fill-opacity=\"1\" stroke=\"#000000\" stroke-opacity=\"1\" stroke-width=\"5.12\"/>\n",
       "<circle clip-path=\"url(#clip410)\" cx=\"1666.72\" cy=\"229.385\" r=\"23\" fill=\"#009af9\" fill-rule=\"evenodd\" fill-opacity=\"1\" stroke=\"#000000\" stroke-opacity=\"1\" stroke-width=\"5.12\"/>\n",
       "<circle clip-path=\"url(#clip410)\" cx=\"1666.72\" cy=\"229.385\" r=\"23\" fill=\"#009af9\" fill-rule=\"evenodd\" fill-opacity=\"1\" stroke=\"#000000\" stroke-opacity=\"1\" stroke-width=\"5.12\"/>\n",
       "<circle clip-path=\"url(#clip410)\" cx=\"1666.72\" cy=\"229.385\" r=\"23\" fill=\"#009af9\" fill-rule=\"evenodd\" fill-opacity=\"1\" stroke=\"#000000\" stroke-opacity=\"1\" stroke-width=\"5.12\"/>\n",
       "<circle clip-path=\"url(#clip410)\" cx=\"1666.72\" cy=\"229.385\" r=\"23\" fill=\"#009af9\" fill-rule=\"evenodd\" fill-opacity=\"1\" stroke=\"#000000\" stroke-opacity=\"1\" stroke-width=\"5.12\"/>\n",
       "<circle clip-path=\"url(#clip410)\" cx=\"1666.72\" cy=\"229.385\" r=\"23\" fill=\"#009af9\" fill-rule=\"evenodd\" fill-opacity=\"1\" stroke=\"#000000\" stroke-opacity=\"1\" stroke-width=\"5.12\"/>\n",
       "<circle clip-path=\"url(#clip410)\" cx=\"1666.72\" cy=\"229.385\" r=\"23\" fill=\"#009af9\" fill-rule=\"evenodd\" fill-opacity=\"1\" stroke=\"#000000\" stroke-opacity=\"1\" stroke-width=\"5.12\"/>\n",
       "<circle clip-path=\"url(#clip410)\" cx=\"1666.72\" cy=\"229.385\" r=\"23\" fill=\"#009af9\" fill-rule=\"evenodd\" fill-opacity=\"1\" stroke=\"#000000\" stroke-opacity=\"1\" stroke-width=\"5.12\"/>\n",
       "<circle clip-path=\"url(#clip410)\" cx=\"1666.72\" cy=\"229.385\" r=\"23\" fill=\"#009af9\" fill-rule=\"evenodd\" fill-opacity=\"1\" stroke=\"#000000\" stroke-opacity=\"1\" stroke-width=\"5.12\"/>\n",
       "<circle clip-path=\"url(#clip410)\" cx=\"1666.72\" cy=\"229.385\" r=\"23\" fill=\"#009af9\" fill-rule=\"evenodd\" fill-opacity=\"1\" stroke=\"#000000\" stroke-opacity=\"1\" stroke-width=\"5.12\"/>\n",
       "<circle clip-path=\"url(#clip410)\" cx=\"1666.72\" cy=\"229.385\" r=\"23\" fill=\"#009af9\" fill-rule=\"evenodd\" fill-opacity=\"1\" stroke=\"#000000\" stroke-opacity=\"1\" stroke-width=\"5.12\"/>\n",
       "<circle clip-path=\"url(#clip410)\" cx=\"1666.72\" cy=\"229.385\" r=\"23\" fill=\"#009af9\" fill-rule=\"evenodd\" fill-opacity=\"1\" stroke=\"#000000\" stroke-opacity=\"1\" stroke-width=\"5.12\"/>\n",
       "<path clip-path=\"url(#clip410)\" d=\"M 0 0 M1761.94 212.105 L1766.61 212.105 L1766.61 246.665 L1761.94 246.665 L1761.94 212.105 Z\" fill=\"#000000\" fill-rule=\"evenodd\" fill-opacity=\"1\" /><path clip-path=\"url(#clip410)\" d=\"M 0 0 M1792.63 231.017 L1792.63 246.665 L1788.37 246.665 L1788.37 231.155 Q1788.37 227.475 1786.94 225.646 Q1785.5 223.818 1782.63 223.818 Q1779.18 223.818 1777.19 226.017 Q1775.2 228.216 1775.2 232.012 L1775.2 246.665 L1770.92 246.665 L1770.92 220.739 L1775.2 220.739 L1775.2 224.767 Q1776.73 222.429 1778.79 221.271 Q1780.87 220.114 1783.58 220.114 Q1788.05 220.114 1790.34 222.892 Q1792.63 225.646 1792.63 231.017 Z\" fill=\"#000000\" fill-rule=\"evenodd\" fill-opacity=\"1\" /><path clip-path=\"url(#clip410)\" d=\"M 0 0 M1801.31 213.378 L1801.31 220.739 L1810.08 220.739 L1810.08 224.049 L1801.31 224.049 L1801.31 238.123 Q1801.31 241.294 1802.17 242.197 Q1803.05 243.1 1805.71 243.1 L1810.08 243.1 L1810.08 246.665 L1805.71 246.665 Q1800.78 246.665 1798.9 244.836 Q1797.03 242.984 1797.03 238.123 L1797.03 224.049 L1793.9 224.049 L1793.9 220.739 L1797.03 220.739 L1797.03 213.378 L1801.31 213.378 Z\" fill=\"#000000\" fill-rule=\"evenodd\" fill-opacity=\"1\" /><path clip-path=\"url(#clip410)\" d=\"M 0 0 M1836.73 232.637 L1836.73 234.72 L1817.14 234.72 Q1817.42 239.118 1819.78 241.433 Q1822.17 243.725 1826.4 243.725 Q1828.86 243.725 1831.15 243.123 Q1833.46 242.521 1835.73 241.317 L1835.73 245.345 Q1833.44 246.317 1831.03 246.827 Q1828.62 247.336 1826.15 247.336 Q1819.94 247.336 1816.31 243.725 Q1812.7 240.114 1812.7 233.956 Q1812.7 227.591 1816.12 223.864 Q1819.57 220.114 1825.41 220.114 Q1830.64 220.114 1833.67 223.493 Q1836.73 226.85 1836.73 232.637 M1832.47 231.387 Q1832.42 227.892 1830.5 225.808 Q1828.6 223.725 1825.45 223.725 Q1821.89 223.725 1819.74 225.739 Q1817.61 227.753 1817.28 231.41 L1832.47 231.387 Z\" fill=\"#000000\" fill-rule=\"evenodd\" fill-opacity=\"1\" /><path clip-path=\"url(#clip410)\" d=\"M 0 0 M1858.25 233.401 Q1858.25 228.771 1856.33 226.225 Q1854.43 223.679 1850.99 223.679 Q1847.56 223.679 1845.64 226.225 Q1843.74 228.771 1843.74 233.401 Q1843.74 238.007 1845.64 240.554 Q1847.56 243.1 1850.99 243.1 Q1854.43 243.1 1856.33 240.554 Q1858.25 238.007 1858.25 233.401 M1862.51 243.447 Q1862.51 250.067 1859.57 253.285 Q1856.63 256.526 1850.57 256.526 Q1848.32 256.526 1846.33 256.178 Q1844.34 255.854 1842.47 255.16 L1842.47 251.016 Q1844.34 252.035 1846.17 252.521 Q1848 253.007 1849.9 253.007 Q1854.09 253.007 1856.17 250.808 Q1858.25 248.632 1858.25 244.211 L1858.25 242.104 Q1856.93 244.396 1854.87 245.53 Q1852.81 246.665 1849.94 246.665 Q1845.18 246.665 1842.26 243.03 Q1839.34 239.396 1839.34 233.401 Q1839.34 227.382 1842.26 223.748 Q1845.18 220.114 1849.94 220.114 Q1852.81 220.114 1854.87 221.248 Q1856.93 222.382 1858.25 224.674 L1858.25 220.739 L1862.51 220.739 L1862.51 243.447 Z\" fill=\"#000000\" fill-rule=\"evenodd\" fill-opacity=\"1\" /><path clip-path=\"url(#clip410)\" d=\"M 0 0 M1882 224.72 Q1881.29 224.304 1880.43 224.118 Q1879.6 223.91 1878.58 223.91 Q1874.97 223.91 1873.02 226.271 Q1871.1 228.609 1871.1 233.007 L1871.1 246.665 L1866.82 246.665 L1866.82 220.739 L1871.1 220.739 L1871.1 224.767 Q1872.44 222.406 1874.6 221.271 Q1876.75 220.114 1879.83 220.114 Q1880.27 220.114 1880.8 220.183 Q1881.33 220.23 1881.98 220.345 L1882 224.72 Z\" fill=\"#000000\" fill-rule=\"evenodd\" fill-opacity=\"1\" /><path clip-path=\"url(#clip410)\" d=\"M 0 0 M1898.25 233.632 Q1893.09 233.632 1891.1 234.813 Q1889.11 235.993 1889.11 238.841 Q1889.11 241.109 1890.59 242.452 Q1892.1 243.771 1894.67 243.771 Q1898.21 243.771 1900.34 241.271 Q1902.49 238.748 1902.49 234.581 L1902.49 233.632 L1898.25 233.632 M1906.75 231.873 L1906.75 246.665 L1902.49 246.665 L1902.49 242.729 Q1901.03 245.091 1898.86 246.225 Q1896.68 247.336 1893.53 247.336 Q1889.55 247.336 1887.19 245.114 Q1884.85 242.868 1884.85 239.118 Q1884.85 234.743 1887.77 232.521 Q1890.71 230.299 1896.52 230.299 L1902.49 230.299 L1902.49 229.882 Q1902.49 226.943 1900.55 225.345 Q1898.62 223.725 1895.13 223.725 Q1892.91 223.725 1890.8 224.257 Q1888.69 224.79 1886.75 225.855 L1886.75 221.919 Q1889.09 221.017 1891.29 220.577 Q1893.49 220.114 1895.57 220.114 Q1901.19 220.114 1903.97 223.031 Q1906.75 225.947 1906.75 231.873 Z\" fill=\"#000000\" fill-rule=\"evenodd\" fill-opacity=\"1\" /><path clip-path=\"url(#clip410)\" d=\"M 0 0 M1911.22 210.646 L1915.48 210.646 L1915.48 246.665 L1911.22 246.665 L1911.22 210.646 Z\" fill=\"#000000\" fill-rule=\"evenodd\" fill-opacity=\"1\" /><path clip-path=\"url(#clip410)\" d=\"M 0 0 M1956.56 231.017 L1956.56 246.665 L1952.3 246.665 L1952.3 231.155 Q1952.3 227.475 1950.87 225.646 Q1949.43 223.818 1946.56 223.818 Q1943.11 223.818 1941.12 226.017 Q1939.13 228.216 1939.13 232.012 L1939.13 246.665 L1934.85 246.665 L1934.85 210.646 L1939.13 210.646 L1939.13 224.767 Q1940.66 222.429 1942.72 221.271 Q1944.8 220.114 1947.51 220.114 Q1951.98 220.114 1954.27 222.892 Q1956.56 225.646 1956.56 231.017 Z\" fill=\"#000000\" fill-rule=\"evenodd\" fill-opacity=\"1\" /><path clip-path=\"url(#clip410)\" d=\"M 0 0 M1972.81 233.632 Q1967.65 233.632 1965.66 234.813 Q1963.67 235.993 1963.67 238.841 Q1963.67 241.109 1965.15 242.452 Q1966.66 243.771 1969.23 243.771 Q1972.77 243.771 1974.9 241.271 Q1977.05 238.748 1977.05 234.581 L1977.05 233.632 L1972.81 233.632 M1981.31 231.873 L1981.31 246.665 L1977.05 246.665 L1977.05 242.729 Q1975.59 245.091 1973.42 246.225 Q1971.24 247.336 1968.09 247.336 Q1964.11 247.336 1961.75 245.114 Q1959.41 242.868 1959.41 239.118 Q1959.41 234.743 1962.33 232.521 Q1965.27 230.299 1971.08 230.299 L1977.05 230.299 L1977.05 229.882 Q1977.05 226.943 1975.11 225.345 Q1973.18 223.725 1969.69 223.725 Q1967.47 223.725 1965.36 224.257 Q1963.25 224.79 1961.31 225.855 L1961.31 221.919 Q1963.65 221.017 1965.85 220.577 Q1968.05 220.114 1970.13 220.114 Q1975.75 220.114 1978.53 223.031 Q1981.31 225.947 1981.31 231.873 Z\" fill=\"#000000\" fill-rule=\"evenodd\" fill-opacity=\"1\" /><path clip-path=\"url(#clip410)\" d=\"M 0 0 M2004.43 221.734 L2004.43 225.716 Q2002.63 224.72 2000.8 224.234 Q1998.99 223.725 1997.14 223.725 Q1993 223.725 1990.71 226.364 Q1988.42 228.98 1988.42 233.725 Q1988.42 238.47 1990.71 241.109 Q1993 243.725 1997.14 243.725 Q1998.99 243.725 2000.8 243.239 Q2002.63 242.729 2004.43 241.734 L2004.43 245.669 Q2002.65 246.503 2000.73 246.919 Q1998.83 247.336 1996.68 247.336 Q1990.82 247.336 1987.37 243.655 Q1983.92 239.975 1983.92 233.725 Q1983.92 227.382 1987.4 223.748 Q1990.89 220.114 1996.96 220.114 Q1998.92 220.114 2000.8 220.531 Q2002.67 220.924 2004.43 221.734 Z\" fill=\"#000000\" fill-rule=\"evenodd\" fill-opacity=\"1\" /><path clip-path=\"url(#clip410)\" d=\"M 0 0 M2008.9 220.739 L2013.16 220.739 L2013.16 246.665 L2008.9 246.665 L2008.9 220.739 M2008.9 210.646 L2013.16 210.646 L2013.16 216.04 L2008.9 216.04 L2008.9 210.646 Z\" fill=\"#000000\" fill-rule=\"evenodd\" fill-opacity=\"1\" /><path clip-path=\"url(#clip410)\" d=\"M 0 0 M2029.41 233.632 Q2024.25 233.632 2022.26 234.813 Q2020.27 235.993 2020.27 238.841 Q2020.27 241.109 2021.75 242.452 Q2023.25 243.771 2025.82 243.771 Q2029.36 243.771 2031.49 241.271 Q2033.65 238.748 2033.65 234.581 L2033.65 233.632 L2029.41 233.632 M2037.91 231.873 L2037.91 246.665 L2033.65 246.665 L2033.65 242.729 Q2032.19 245.091 2030.01 246.225 Q2027.84 247.336 2024.69 247.336 Q2020.71 247.336 2018.35 245.114 Q2016.01 242.868 2016.01 239.118 Q2016.01 234.743 2018.92 232.521 Q2021.86 230.299 2027.67 230.299 L2033.65 230.299 L2033.65 229.882 Q2033.65 226.943 2031.7 225.345 Q2029.78 223.725 2026.29 223.725 Q2024.06 223.725 2021.96 224.257 Q2019.85 224.79 2017.91 225.855 L2017.91 221.919 Q2020.24 221.017 2022.44 220.577 Q2024.64 220.114 2026.73 220.114 Q2032.35 220.114 2035.13 223.031 Q2037.91 225.947 2037.91 231.873 Z\" fill=\"#000000\" fill-rule=\"evenodd\" fill-opacity=\"1\" /><path clip-path=\"url(#clip410)\" d=\"M 0 0 M2069.23 233.632 Q2064.06 233.632 2062.07 234.813 Q2060.08 235.993 2060.08 238.841 Q2060.08 241.109 2061.56 242.452 Q2063.07 243.771 2065.64 243.771 Q2069.18 243.771 2071.31 241.271 Q2073.46 238.748 2073.46 234.581 L2073.46 233.632 L2069.23 233.632 M2077.72 231.873 L2077.72 246.665 L2073.46 246.665 L2073.46 242.729 Q2072 245.091 2069.83 246.225 Q2067.65 247.336 2064.5 247.336 Q2060.52 247.336 2058.16 245.114 Q2055.82 242.868 2055.82 239.118 Q2055.82 234.743 2058.74 232.521 Q2061.68 230.299 2067.49 230.299 L2073.46 230.299 L2073.46 229.882 Q2073.46 226.943 2071.52 225.345 Q2069.6 223.725 2066.1 223.725 Q2063.88 223.725 2061.77 224.257 Q2059.67 224.79 2057.72 225.855 L2057.72 221.919 Q2060.06 221.017 2062.26 220.577 Q2064.46 220.114 2066.54 220.114 Q2072.17 220.114 2074.94 223.031 Q2077.72 225.947 2077.72 231.873 Z\" fill=\"#000000\" fill-rule=\"evenodd\" fill-opacity=\"1\" /><path clip-path=\"url(#clip410)\" d=\"M 0 0 M2099.25 224.674 L2099.25 210.646 L2103.51 210.646 L2103.51 246.665 L2099.25 246.665 L2099.25 242.776 Q2097.91 245.091 2095.85 246.225 Q2093.81 247.336 2090.94 247.336 Q2086.24 247.336 2083.28 243.586 Q2080.34 239.836 2080.34 233.725 Q2080.34 227.614 2083.28 223.864 Q2086.24 220.114 2090.94 220.114 Q2093.81 220.114 2095.85 221.248 Q2097.91 222.359 2099.25 224.674 M2084.73 233.725 Q2084.73 238.424 2086.66 241.109 Q2088.6 243.771 2091.98 243.771 Q2095.36 243.771 2097.3 241.109 Q2099.25 238.424 2099.25 233.725 Q2099.25 229.026 2097.3 226.364 Q2095.36 223.679 2091.98 223.679 Q2088.6 223.679 2086.66 226.364 Q2084.73 229.026 2084.73 233.725 Z\" fill=\"#000000\" fill-rule=\"evenodd\" fill-opacity=\"1\" /><path clip-path=\"url(#clip410)\" d=\"M 0 0 M2130.15 232.637 L2130.15 234.72 L2110.57 234.72 Q2110.85 239.118 2113.21 241.433 Q2115.59 243.725 2119.83 243.725 Q2122.28 243.725 2124.57 243.123 Q2126.89 242.521 2129.16 241.317 L2129.16 245.345 Q2126.86 246.317 2124.46 246.827 Q2122.05 247.336 2119.57 247.336 Q2113.37 247.336 2109.73 243.725 Q2106.12 240.114 2106.12 233.956 Q2106.12 227.591 2109.55 223.864 Q2113 220.114 2118.83 220.114 Q2124.06 220.114 2127.1 223.493 Q2130.15 226.85 2130.15 232.637 M2125.89 231.387 Q2125.85 227.892 2123.92 225.808 Q2122.03 223.725 2118.88 223.725 Q2115.31 223.725 2113.16 225.739 Q2111.03 227.753 2110.71 231.41 L2125.89 231.387 Z\" fill=\"#000000\" fill-rule=\"evenodd\" fill-opacity=\"1\" /><path clip-path=\"url(#clip410)\" d=\"M 0 0 M2134.62 210.646 L2138.88 210.646 L2138.88 246.665 L2134.62 246.665 L2134.62 210.646 Z\" fill=\"#000000\" fill-rule=\"evenodd\" fill-opacity=\"1\" /><path clip-path=\"url(#clip410)\" d=\"M 0 0 M2155.13 233.632 Q2149.97 233.632 2147.97 234.813 Q2145.98 235.993 2145.98 238.841 Q2145.98 241.109 2147.47 242.452 Q2148.97 243.771 2151.54 243.771 Q2155.08 243.771 2157.21 241.271 Q2159.36 238.748 2159.36 234.581 L2159.36 233.632 L2155.13 233.632 M2163.62 231.873 L2163.62 246.665 L2159.36 246.665 L2159.36 242.729 Q2157.91 245.091 2155.73 246.225 Q2153.55 247.336 2150.41 247.336 Q2146.42 247.336 2144.06 245.114 Q2141.72 242.868 2141.72 239.118 Q2141.72 234.743 2144.64 232.521 Q2147.58 230.299 2153.39 230.299 L2159.36 230.299 L2159.36 229.882 Q2159.36 226.943 2157.42 225.345 Q2155.5 223.725 2152 223.725 Q2149.78 223.725 2147.67 224.257 Q2145.57 224.79 2143.62 225.855 L2143.62 221.919 Q2145.96 221.017 2148.16 220.577 Q2150.36 220.114 2152.44 220.114 Q2158.07 220.114 2160.85 223.031 Q2163.62 225.947 2163.62 231.873 Z\" fill=\"#000000\" fill-rule=\"evenodd\" fill-opacity=\"1\" /><path clip-path=\"url(#clip410)\" d=\"M 0 0 M2189.64 231.017 L2189.64 246.665 L2185.38 246.665 L2185.38 231.155 Q2185.38 227.475 2183.95 225.646 Q2182.51 223.818 2179.64 223.818 Q2176.19 223.818 2174.2 226.017 Q2172.21 228.216 2172.21 232.012 L2172.21 246.665 L2167.93 246.665 L2167.93 220.739 L2172.21 220.739 L2172.21 224.767 Q2173.74 222.429 2175.8 221.271 Q2177.88 220.114 2180.59 220.114 Q2185.06 220.114 2187.35 222.892 Q2189.64 225.646 2189.64 231.017 Z\" fill=\"#000000\" fill-rule=\"evenodd\" fill-opacity=\"1\" /><path clip-path=\"url(#clip410)\" d=\"M 0 0 M2198.32 213.378 L2198.32 220.739 L2207.1 220.739 L2207.1 224.049 L2198.32 224.049 L2198.32 238.123 Q2198.32 241.294 2199.18 242.197 Q2200.06 243.1 2202.72 243.1 L2207.1 243.1 L2207.1 246.665 L2202.72 246.665 Q2197.79 246.665 2195.91 244.836 Q2194.04 242.984 2194.04 238.123 L2194.04 224.049 L2190.91 224.049 L2190.91 220.739 L2194.04 220.739 L2194.04 213.378 L2198.32 213.378 Z\" fill=\"#000000\" fill-rule=\"evenodd\" fill-opacity=\"1\" /><path clip-path=\"url(#clip410)\" d=\"M 0 0 M2233.74 232.637 L2233.74 234.72 L2214.16 234.72 Q2214.43 239.118 2216.79 241.433 Q2219.18 243.725 2223.41 243.725 Q2225.87 243.725 2228.16 243.123 Q2230.47 242.521 2232.74 241.317 L2232.74 245.345 Q2230.45 246.317 2228.04 246.827 Q2225.64 247.336 2223.16 247.336 Q2216.96 247.336 2213.32 243.725 Q2209.71 240.114 2209.71 233.956 Q2209.71 227.591 2213.14 223.864 Q2216.59 220.114 2222.42 220.114 Q2227.65 220.114 2230.68 223.493 Q2233.74 226.85 2233.74 232.637 M2229.48 231.387 Q2229.43 227.892 2227.51 225.808 Q2225.61 223.725 2222.47 223.725 Q2218.9 223.725 2216.75 225.739 Q2214.62 227.753 2214.29 231.41 L2229.48 231.387 Z\" fill=\"#000000\" fill-rule=\"evenodd\" fill-opacity=\"1\" /></svg>\n"
      ]
     },
     "execution_count": 5,
     "metadata": {},
     "output_type": "execute_result"
    }
   ],
   "source": [
    "# seleccionamos ns espaciadas logaritmicamente\n",
    "# aux guarda los exponentes de las ns\n",
    "aux = range(1,stop=4,length=30)\n",
    "println(\"exponentes: \")\n",
    "println(collect(aux))\n",
    "# ns va a guardar mis ns (los distintos numeros de subintervalos)\n",
    "# todos los elementos de n deben ser enteros, por lo que debemos redondearlos hacia arriba con la función\n",
    "# ceil (función techo) y luego convertirlos a enteros con la función Int64()\n",
    "ns = [Int64(ceil(10^k)) for k in aux]\n",
    "println(\"numeros de  subintervalos: \")\n",
    "println(collect(ns))\n",
    "ys = [abs(intAdelante(prueba,0,2,n)-8) for n in ns]\n",
    "scatter(ns,ys,title=\"Error absoluto\",label=\"Integral hacia adelante\",xscale=:log10,yscale=:log10)"
   ]
  },
  {
   "cell_type": "markdown",
   "metadata": {},
   "source": [
    "## Ejercicio 1\n",
    "\n",
    "Resuelve las siguientes dos integrales utilizando la regla de integración hacia adelante:\n",
    "\n",
    "1. $$\\int_{0}^{1} \\frac{\\arctan{\\sqrt{x^2+2}}}{\\left(\\sqrt{x^2+2}\\right)(x^2+1)} \\; dx = \\frac{5\\pi^2}{96}$$\n",
    "\n",
    "\n",
    "\n",
    "2. $$\\int_{0}^{\\pi} \\ln{\\left(1 - 2 e \\cos{x}+ e^2 \\right) } \\; dx = 2\\pi$$\n",
    "\n",
    "$e$ es el número de Euler.\n",
    "\n",
    "Usando el resultado que se muestra, grafica el error absoluto como función del número de puntos de la partición $n$ y discute cuál es la tasa de convergencia del método al valor analítico."
   ]
  },
  {
   "cell_type": "markdown",
   "metadata": {},
   "source": [
    "## Preludio matemático: integrales como funciones\n",
    "\n",
    "Aunque sabemos que la integral de una función es un número real, podemos definir una función a partir de una integral de la siguiente forma:\n",
    "\n",
    "$$\n",
    "F(x) = \\int_{a}^{x} f(s) \\; ds\n",
    "$$\n",
    "\n",
    "Así, podemos utilizar nuestra función para integrar numéricamente también para construir una función cuya definición esté dada por una integral. Por ejemplo:\n",
    "\n",
    "$$\n",
    "\\ln{x} = \\int_{1}^x \\frac{1}{s} \\; ds\n",
    "$$"
   ]
  },
  {
   "cell_type": "code",
   "execution_count": 6,
   "metadata": {},
   "outputs": [
    {
     "data": {
      "text/plain": [
       "lnIntegral (generic function with 1 method)"
      ]
     },
     "execution_count": 6,
     "metadata": {},
     "output_type": "execute_result"
    }
   ],
   "source": [
    "# definimos una función auxiliar para nuestro logaritmo integrado numéricamente\n",
    "function inv(s)\n",
    "    return 1/s\n",
    "end\n",
    "# calculamos el logaritmo como una integral\n",
    "function lnIntegral(x,n)\n",
    "    return intAdelante(inv,1,x,n)\n",
    "end"
   ]
  },
  {
   "cell_type": "code",
   "execution_count": 7,
   "metadata": {},
   "outputs": [
    {
     "name": "stdout",
     "output_type": "stream",
     "text": [
      "Valor exacto: 1.0\n",
      "valor aproximado: 0.9945904672391623\n"
     ]
    }
   ],
   "source": [
    "print(\"Valor exacto: \")\n",
    "println(log(exp(1)))\n",
    "print(\"valor aproximado: \")\n",
    "println(lnIntegral(exp(1),100))"
   ]
  },
  {
   "cell_type": "code",
   "execution_count": 8,
   "metadata": {},
   "outputs": [
    {
     "data": {
      "image/svg+xml": [
       "<?xml version=\"1.0\" encoding=\"utf-8\"?>\n",
       "<svg xmlns=\"http://www.w3.org/2000/svg\" xmlns:xlink=\"http://www.w3.org/1999/xlink\" width=\"600\" height=\"400\" viewBox=\"0 0 2400 1600\">\n",
       "<defs>\n",
       "  <clipPath id=\"clip450\">\n",
       "    <rect x=\"0\" y=\"0\" width=\"2400\" height=\"1600\"/>\n",
       "  </clipPath>\n",
       "</defs>\n",
       "<path clip-path=\"url(#clip450)\" d=\"\n",
       "M0 1600 L2400 1600 L2400 0 L0 0  Z\n",
       "  \" fill=\"#ffffff\" fill-rule=\"evenodd\" fill-opacity=\"1\"/>\n",
       "<defs>\n",
       "  <clipPath id=\"clip451\">\n",
       "    <rect x=\"480\" y=\"0\" width=\"1681\" height=\"1600\"/>\n",
       "  </clipPath>\n",
       "</defs>\n",
       "<path clip-path=\"url(#clip450)\" d=\"\n",
       "M147.848 1486.45 L2352.76 1486.45 L2352.76 123.472 L147.848 123.472  Z\n",
       "  \" fill=\"#ffffff\" fill-rule=\"evenodd\" fill-opacity=\"1\"/>\n",
       "<defs>\n",
       "  <clipPath id=\"clip452\">\n",
       "    <rect x=\"147\" y=\"123\" width=\"2206\" height=\"1364\"/>\n",
       "  </clipPath>\n",
       "</defs>\n",
       "<polyline clip-path=\"url(#clip452)\" style=\"stroke:#000000; stroke-width:2; stroke-opacity:0.1; fill:none\" points=\"\n",
       "  441.374,1486.45 441.374,123.472 \n",
       "  \"/>\n",
       "<polyline clip-path=\"url(#clip452)\" style=\"stroke:#000000; stroke-width:2; stroke-opacity:0.1; fill:none\" points=\"\n",
       "  903.619,1486.45 903.619,123.472 \n",
       "  \"/>\n",
       "<polyline clip-path=\"url(#clip452)\" style=\"stroke:#000000; stroke-width:2; stroke-opacity:0.1; fill:none\" points=\"\n",
       "  1365.86,1486.45 1365.86,123.472 \n",
       "  \"/>\n",
       "<polyline clip-path=\"url(#clip452)\" style=\"stroke:#000000; stroke-width:2; stroke-opacity:0.1; fill:none\" points=\"\n",
       "  1828.11,1486.45 1828.11,123.472 \n",
       "  \"/>\n",
       "<polyline clip-path=\"url(#clip452)\" style=\"stroke:#000000; stroke-width:2; stroke-opacity:0.1; fill:none\" points=\"\n",
       "  2290.35,1486.45 2290.35,123.472 \n",
       "  \"/>\n",
       "<polyline clip-path=\"url(#clip452)\" style=\"stroke:#000000; stroke-width:2; stroke-opacity:0.1; fill:none\" points=\"\n",
       "  147.848,1447.87 2352.76,1447.87 \n",
       "  \"/>\n",
       "<polyline clip-path=\"url(#clip452)\" style=\"stroke:#000000; stroke-width:2; stroke-opacity:0.1; fill:none\" points=\"\n",
       "  147.848,1168.66 2352.76,1168.66 \n",
       "  \"/>\n",
       "<polyline clip-path=\"url(#clip452)\" style=\"stroke:#000000; stroke-width:2; stroke-opacity:0.1; fill:none\" points=\"\n",
       "  147.848,889.446 2352.76,889.446 \n",
       "  \"/>\n",
       "<polyline clip-path=\"url(#clip452)\" style=\"stroke:#000000; stroke-width:2; stroke-opacity:0.1; fill:none\" points=\"\n",
       "  147.848,610.232 2352.76,610.232 \n",
       "  \"/>\n",
       "<polyline clip-path=\"url(#clip452)\" style=\"stroke:#000000; stroke-width:2; stroke-opacity:0.1; fill:none\" points=\"\n",
       "  147.848,331.019 2352.76,331.019 \n",
       "  \"/>\n",
       "<polyline clip-path=\"url(#clip450)\" style=\"stroke:#000000; stroke-width:4; stroke-opacity:1; fill:none\" points=\"\n",
       "  147.848,1486.45 2352.76,1486.45 \n",
       "  \"/>\n",
       "<polyline clip-path=\"url(#clip450)\" style=\"stroke:#000000; stroke-width:4; stroke-opacity:1; fill:none\" points=\"\n",
       "  147.848,1486.45 147.848,123.472 \n",
       "  \"/>\n",
       "<polyline clip-path=\"url(#clip450)\" style=\"stroke:#000000; stroke-width:4; stroke-opacity:1; fill:none\" points=\"\n",
       "  441.374,1486.45 441.374,1470.09 \n",
       "  \"/>\n",
       "<polyline clip-path=\"url(#clip450)\" style=\"stroke:#000000; stroke-width:4; stroke-opacity:1; fill:none\" points=\"\n",
       "  903.619,1486.45 903.619,1470.09 \n",
       "  \"/>\n",
       "<polyline clip-path=\"url(#clip450)\" style=\"stroke:#000000; stroke-width:4; stroke-opacity:1; fill:none\" points=\"\n",
       "  1365.86,1486.45 1365.86,1470.09 \n",
       "  \"/>\n",
       "<polyline clip-path=\"url(#clip450)\" style=\"stroke:#000000; stroke-width:4; stroke-opacity:1; fill:none\" points=\"\n",
       "  1828.11,1486.45 1828.11,1470.09 \n",
       "  \"/>\n",
       "<polyline clip-path=\"url(#clip450)\" style=\"stroke:#000000; stroke-width:4; stroke-opacity:1; fill:none\" points=\"\n",
       "  2290.35,1486.45 2290.35,1470.09 \n",
       "  \"/>\n",
       "<polyline clip-path=\"url(#clip450)\" style=\"stroke:#000000; stroke-width:4; stroke-opacity:1; fill:none\" points=\"\n",
       "  147.848,1447.87 174.307,1447.87 \n",
       "  \"/>\n",
       "<polyline clip-path=\"url(#clip450)\" style=\"stroke:#000000; stroke-width:4; stroke-opacity:1; fill:none\" points=\"\n",
       "  147.848,1168.66 174.307,1168.66 \n",
       "  \"/>\n",
       "<polyline clip-path=\"url(#clip450)\" style=\"stroke:#000000; stroke-width:4; stroke-opacity:1; fill:none\" points=\"\n",
       "  147.848,889.446 174.307,889.446 \n",
       "  \"/>\n",
       "<polyline clip-path=\"url(#clip450)\" style=\"stroke:#000000; stroke-width:4; stroke-opacity:1; fill:none\" points=\"\n",
       "  147.848,610.232 174.307,610.232 \n",
       "  \"/>\n",
       "<polyline clip-path=\"url(#clip450)\" style=\"stroke:#000000; stroke-width:4; stroke-opacity:1; fill:none\" points=\"\n",
       "  147.848,331.019 174.307,331.019 \n",
       "  \"/>\n",
       "<path clip-path=\"url(#clip450)\" d=\"M 0 0 M436.027 1535.98 L452.346 1535.98 L452.346 1539.92 L430.402 1539.92 L430.402 1535.98 Q433.064 1533.23 437.647 1528.6 Q442.253 1523.95 443.434 1522.61 Q445.679 1520.08 446.559 1518.35 Q447.462 1516.59 447.462 1514.9 Q447.462 1512.14 445.517 1510.41 Q443.596 1508.67 440.494 1508.67 Q438.295 1508.67 435.841 1509.43 Q433.411 1510.2 430.633 1511.75 L430.633 1507.03 Q433.457 1505.89 435.911 1505.31 Q438.364 1504.73 440.402 1504.73 Q445.772 1504.73 448.966 1507.42 Q452.161 1510.11 452.161 1514.6 Q452.161 1516.73 451.351 1518.65 Q450.563 1520.54 448.457 1523.14 Q447.878 1523.81 444.776 1527.03 Q441.675 1530.22 436.027 1535.98 Z\" fill=\"#000000\" fill-rule=\"evenodd\" fill-opacity=\"1\" /><path clip-path=\"url(#clip450)\" d=\"M 0 0 M906.628 1509.43 L894.822 1527.88 L906.628 1527.88 L906.628 1509.43 M905.401 1505.36 L911.281 1505.36 L911.281 1527.88 L916.211 1527.88 L916.211 1531.77 L911.281 1531.77 L911.281 1539.92 L906.628 1539.92 L906.628 1531.77 L891.026 1531.77 L891.026 1527.26 L905.401 1505.36 Z\" fill=\"#000000\" fill-rule=\"evenodd\" fill-opacity=\"1\" /><path clip-path=\"url(#clip450)\" d=\"M 0 0 M1366.27 1520.78 Q1363.12 1520.78 1361.27 1522.93 Q1359.44 1525.08 1359.44 1528.83 Q1359.44 1532.56 1361.27 1534.73 Q1363.12 1536.89 1366.27 1536.89 Q1369.42 1536.89 1371.25 1534.73 Q1373.1 1532.56 1373.1 1528.83 Q1373.1 1525.08 1371.25 1522.93 Q1369.42 1520.78 1366.27 1520.78 M1375.55 1506.12 L1375.55 1510.38 Q1373.79 1509.55 1371.99 1509.11 Q1370.2 1508.67 1368.44 1508.67 Q1363.81 1508.67 1361.36 1511.8 Q1358.93 1514.92 1358.58 1521.24 Q1359.95 1519.23 1362.01 1518.16 Q1364.07 1517.07 1366.55 1517.07 Q1371.75 1517.07 1374.76 1520.24 Q1377.8 1523.39 1377.8 1528.83 Q1377.8 1534.16 1374.65 1537.37 Q1371.5 1540.59 1366.27 1540.59 Q1360.27 1540.59 1357.1 1536.01 Q1353.93 1531.4 1353.93 1522.67 Q1353.93 1514.48 1357.82 1509.62 Q1361.71 1504.73 1368.26 1504.73 Q1370.02 1504.73 1371.8 1505.08 Q1373.61 1505.43 1375.55 1506.12 Z\" fill=\"#000000\" fill-rule=\"evenodd\" fill-opacity=\"1\" /><path clip-path=\"url(#clip450)\" d=\"M 0 0 M1828.11 1523.51 Q1824.77 1523.51 1822.85 1525.29 Q1820.96 1527.07 1820.96 1530.2 Q1820.96 1533.32 1822.85 1535.11 Q1824.77 1536.89 1828.11 1536.89 Q1831.44 1536.89 1833.36 1535.11 Q1835.28 1533.3 1835.28 1530.2 Q1835.28 1527.07 1833.36 1525.29 Q1831.46 1523.51 1828.11 1523.51 M1823.43 1521.52 Q1820.42 1520.78 1818.73 1518.72 Q1817.07 1516.66 1817.07 1513.69 Q1817.07 1509.55 1820.01 1507.14 Q1822.97 1504.73 1828.11 1504.73 Q1833.27 1504.73 1836.21 1507.14 Q1839.15 1509.55 1839.15 1513.69 Q1839.15 1516.66 1837.46 1518.72 Q1835.79 1520.78 1832.81 1521.52 Q1836.19 1522.3 1838.06 1524.6 Q1839.96 1526.89 1839.96 1530.2 Q1839.96 1535.22 1836.88 1537.91 Q1833.83 1540.59 1828.11 1540.59 Q1822.39 1540.59 1819.31 1537.91 Q1816.26 1535.22 1816.26 1530.2 Q1816.26 1526.89 1818.15 1524.6 Q1820.05 1522.3 1823.43 1521.52 M1821.72 1514.13 Q1821.72 1516.82 1823.39 1518.32 Q1825.08 1519.83 1828.11 1519.83 Q1831.12 1519.83 1832.81 1518.32 Q1834.52 1516.82 1834.52 1514.13 Q1834.52 1511.45 1832.81 1509.94 Q1831.12 1508.44 1828.11 1508.44 Q1825.08 1508.44 1823.39 1509.94 Q1821.72 1511.45 1821.72 1514.13 Z\" fill=\"#000000\" fill-rule=\"evenodd\" fill-opacity=\"1\" /><path clip-path=\"url(#clip450)\" d=\"M 0 0 M2267.23 1535.98 L2274.87 1535.98 L2274.87 1509.62 L2266.56 1511.29 L2266.56 1507.03 L2274.82 1505.36 L2279.5 1505.36 L2279.5 1535.98 L2287.14 1535.98 L2287.14 1539.92 L2267.23 1539.92 L2267.23 1535.98 Z\" fill=\"#000000\" fill-rule=\"evenodd\" fill-opacity=\"1\" /><path clip-path=\"url(#clip450)\" d=\"M 0 0 M2302.2 1508.44 Q2298.59 1508.44 2296.76 1512 Q2294.96 1515.55 2294.96 1522.67 Q2294.96 1529.78 2296.76 1533.35 Q2298.59 1536.89 2302.2 1536.89 Q2305.84 1536.89 2307.64 1533.35 Q2309.47 1529.78 2309.47 1522.67 Q2309.47 1515.55 2307.64 1512 Q2305.84 1508.44 2302.2 1508.44 M2302.2 1504.73 Q2308.01 1504.73 2311.07 1509.34 Q2314.15 1513.92 2314.15 1522.67 Q2314.15 1531.4 2311.07 1536.01 Q2308.01 1540.59 2302.2 1540.59 Q2296.39 1540.59 2293.32 1536.01 Q2290.26 1531.4 2290.26 1522.67 Q2290.26 1513.92 2293.32 1509.34 Q2296.39 1504.73 2302.2 1504.73 Z\" fill=\"#000000\" fill-rule=\"evenodd\" fill-opacity=\"1\" /><path clip-path=\"url(#clip450)\" d=\"M 0 0 M74.9365 1433.67 Q71.3254 1433.67 69.4967 1437.24 Q67.6912 1440.78 67.6912 1447.91 Q67.6912 1455.01 69.4967 1458.58 Q71.3254 1462.12 74.9365 1462.12 Q78.5707 1462.12 80.3763 1458.58 Q82.205 1455.01 82.205 1447.91 Q82.205 1440.78 80.3763 1437.24 Q78.5707 1433.67 74.9365 1433.67 M74.9365 1429.97 Q80.7467 1429.97 83.8022 1434.57 Q86.8809 1439.16 86.8809 1447.91 Q86.8809 1456.63 83.8022 1461.24 Q80.7467 1465.82 74.9365 1465.82 Q69.1264 1465.82 66.0477 1461.24 Q62.9921 1456.63 62.9921 1447.91 Q62.9921 1439.16 66.0477 1434.57 Q69.1264 1429.97 74.9365 1429.97 Z\" fill=\"#000000\" fill-rule=\"evenodd\" fill-opacity=\"1\" /><path clip-path=\"url(#clip450)\" d=\"M 0 0 M91.9503 1459.27 L96.8345 1459.27 L96.8345 1465.15 L91.9503 1465.15 L91.9503 1459.27 Z\" fill=\"#000000\" fill-rule=\"evenodd\" fill-opacity=\"1\" /><path clip-path=\"url(#clip450)\" d=\"M 0 0 M111.904 1433.67 Q108.293 1433.67 106.464 1437.24 Q104.659 1440.78 104.659 1447.91 Q104.659 1455.01 106.464 1458.58 Q108.293 1462.12 111.904 1462.12 Q115.538 1462.12 117.344 1458.58 Q119.172 1455.01 119.172 1447.91 Q119.172 1440.78 117.344 1437.24 Q115.538 1433.67 111.904 1433.67 M111.904 1429.97 Q117.714 1429.97 120.77 1434.57 Q123.848 1439.16 123.848 1447.91 Q123.848 1456.63 120.77 1461.24 Q117.714 1465.82 111.904 1465.82 Q106.094 1465.82 103.015 1461.24 Q99.9595 1456.63 99.9595 1447.91 Q99.9595 1439.16 103.015 1434.57 Q106.094 1429.97 111.904 1429.97 Z\" fill=\"#000000\" fill-rule=\"evenodd\" fill-opacity=\"1\" /><path clip-path=\"url(#clip450)\" d=\"M 0 0 M75.9319 1154.46 Q72.3208 1154.46 70.4921 1158.02 Q68.6865 1161.56 68.6865 1168.69 Q68.6865 1175.8 70.4921 1179.37 Q72.3208 1182.91 75.9319 1182.91 Q79.5661 1182.91 81.3717 1179.37 Q83.2004 1175.8 83.2004 1168.69 Q83.2004 1161.56 81.3717 1158.02 Q79.5661 1154.46 75.9319 1154.46 M75.9319 1150.75 Q81.742 1150.75 84.7976 1155.36 Q87.8763 1159.94 87.8763 1168.69 Q87.8763 1177.42 84.7976 1182.03 Q81.742 1186.61 75.9319 1186.61 Q70.1217 1186.61 67.043 1182.03 Q63.9875 1177.42 63.9875 1168.69 Q63.9875 1159.94 67.043 1155.36 Q70.1217 1150.75 75.9319 1150.75 Z\" fill=\"#000000\" fill-rule=\"evenodd\" fill-opacity=\"1\" /><path clip-path=\"url(#clip450)\" d=\"M 0 0 M92.9457 1180.06 L97.8299 1180.06 L97.8299 1185.94 L92.9457 1185.94 L92.9457 1180.06 Z\" fill=\"#000000\" fill-rule=\"evenodd\" fill-opacity=\"1\" /><path clip-path=\"url(#clip450)\" d=\"M 0 0 M102.946 1151.38 L121.302 1151.38 L121.302 1155.31 L107.228 1155.31 L107.228 1163.79 Q108.247 1163.44 109.265 1163.28 Q110.284 1163.09 111.302 1163.09 Q117.089 1163.09 120.469 1166.26 Q123.848 1169.43 123.848 1174.85 Q123.848 1180.43 120.376 1183.53 Q116.904 1186.61 110.584 1186.61 Q108.409 1186.61 106.14 1186.24 Q103.895 1185.87 101.487 1185.13 L101.487 1180.43 Q103.571 1181.56 105.793 1182.12 Q108.015 1182.68 110.492 1182.68 Q114.496 1182.68 116.834 1180.57 Q119.172 1178.46 119.172 1174.85 Q119.172 1171.24 116.834 1169.13 Q114.496 1167.03 110.492 1167.03 Q108.617 1167.03 106.742 1167.44 Q104.89 1167.86 102.946 1168.74 L102.946 1151.38 Z\" fill=\"#000000\" fill-rule=\"evenodd\" fill-opacity=\"1\" /><path clip-path=\"url(#clip450)\" d=\"M 0 0 M66.9736 902.791 L74.6124 902.791 L74.6124 876.425 L66.3023 878.092 L66.3023 873.833 L74.5661 872.166 L79.242 872.166 L79.242 902.791 L86.8809 902.791 L86.8809 906.726 L66.9736 906.726 L66.9736 902.791 Z\" fill=\"#000000\" fill-rule=\"evenodd\" fill-opacity=\"1\" /><path clip-path=\"url(#clip450)\" d=\"M 0 0 M91.9503 900.846 L96.8345 900.846 L96.8345 906.726 L91.9503 906.726 L91.9503 900.846 Z\" fill=\"#000000\" fill-rule=\"evenodd\" fill-opacity=\"1\" /><path clip-path=\"url(#clip450)\" d=\"M 0 0 M111.904 875.245 Q108.293 875.245 106.464 878.809 Q104.659 882.351 104.659 889.481 Q104.659 896.587 106.464 900.152 Q108.293 903.693 111.904 903.693 Q115.538 903.693 117.344 900.152 Q119.172 896.587 119.172 889.481 Q119.172 882.351 117.344 878.809 Q115.538 875.245 111.904 875.245 M111.904 871.541 Q117.714 871.541 120.77 876.147 Q123.848 880.731 123.848 889.481 Q123.848 898.207 120.77 902.814 Q117.714 907.397 111.904 907.397 Q106.094 907.397 103.015 902.814 Q99.9595 898.207 99.9595 889.481 Q99.9595 880.731 103.015 876.147 Q106.094 871.541 111.904 871.541 Z\" fill=\"#000000\" fill-rule=\"evenodd\" fill-opacity=\"1\" /><path clip-path=\"url(#clip450)\" d=\"M 0 0 M67.969 623.577 L75.6078 623.577 L75.6078 597.212 L67.2977 598.878 L67.2977 594.619 L75.5615 592.952 L80.2374 592.952 L80.2374 623.577 L87.8763 623.577 L87.8763 627.512 L67.969 627.512 L67.969 623.577 Z\" fill=\"#000000\" fill-rule=\"evenodd\" fill-opacity=\"1\" /><path clip-path=\"url(#clip450)\" d=\"M 0 0 M92.9457 621.633 L97.8299 621.633 L97.8299 627.512 L92.9457 627.512 L92.9457 621.633 Z\" fill=\"#000000\" fill-rule=\"evenodd\" fill-opacity=\"1\" /><path clip-path=\"url(#clip450)\" d=\"M 0 0 M102.946 592.952 L121.302 592.952 L121.302 596.887 L107.228 596.887 L107.228 605.36 Q108.247 605.012 109.265 604.85 Q110.284 604.665 111.302 604.665 Q117.089 604.665 120.469 607.836 Q123.848 611.008 123.848 616.424 Q123.848 622.003 120.376 625.105 Q116.904 628.184 110.584 628.184 Q108.409 628.184 106.14 627.813 Q103.895 627.443 101.487 626.702 L101.487 622.003 Q103.571 623.137 105.793 623.693 Q108.015 624.248 110.492 624.248 Q114.496 624.248 116.834 622.142 Q119.172 620.035 119.172 616.424 Q119.172 612.813 116.834 610.707 Q114.496 608.6 110.492 608.6 Q108.617 608.6 106.742 609.017 Q104.89 609.434 102.946 610.313 L102.946 592.952 Z\" fill=\"#000000\" fill-rule=\"evenodd\" fill-opacity=\"1\" /><path clip-path=\"url(#clip450)\" d=\"M 0 0 M70.5615 344.363 L86.8809 344.363 L86.8809 348.299 L64.9366 348.299 L64.9366 344.363 Q67.5986 341.609 72.1819 336.979 Q76.7883 332.327 77.9689 330.984 Q80.2143 328.461 81.0939 326.725 Q81.9967 324.965 81.9967 323.276 Q81.9967 320.521 80.0522 318.785 Q78.1309 317.049 75.0291 317.049 Q72.83 317.049 70.3763 317.813 Q67.9458 318.577 65.168 320.128 L65.168 315.405 Q67.9921 314.271 70.4458 313.692 Q72.8995 313.114 74.9365 313.114 Q80.3068 313.114 83.5013 315.799 Q86.6957 318.484 86.6957 322.975 Q86.6957 325.104 85.8855 327.026 Q85.0985 328.924 82.992 331.516 Q82.4133 332.188 79.3115 335.405 Q76.2096 338.6 70.5615 344.363 Z\" fill=\"#000000\" fill-rule=\"evenodd\" fill-opacity=\"1\" /><path clip-path=\"url(#clip450)\" d=\"M 0 0 M91.9503 342.419 L96.8345 342.419 L96.8345 348.299 L91.9503 348.299 L91.9503 342.419 Z\" fill=\"#000000\" fill-rule=\"evenodd\" fill-opacity=\"1\" /><path clip-path=\"url(#clip450)\" d=\"M 0 0 M111.904 316.817 Q108.293 316.817 106.464 320.382 Q104.659 323.924 104.659 331.053 Q104.659 338.16 106.464 341.725 Q108.293 345.266 111.904 345.266 Q115.538 345.266 117.344 341.725 Q119.172 338.16 119.172 331.053 Q119.172 323.924 117.344 320.382 Q115.538 316.817 111.904 316.817 M111.904 313.114 Q117.714 313.114 120.77 317.72 Q123.848 322.303 123.848 331.053 Q123.848 339.78 120.77 344.387 Q117.714 348.97 111.904 348.97 Q106.094 348.97 103.015 344.387 Q99.9595 339.78 99.9595 331.053 Q99.9595 322.303 103.015 317.72 Q106.094 313.114 111.904 313.114 Z\" fill=\"#000000\" fill-rule=\"evenodd\" fill-opacity=\"1\" /><path clip-path=\"url(#clip450)\" d=\"M 0 0 M766.016 12.096 L774.199 12.096 L774.199 72.576 L766.016 72.576 L766.016 12.096 Z\" fill=\"#000000\" fill-rule=\"evenodd\" fill-opacity=\"1\" /><path clip-path=\"url(#clip450)\" d=\"M 0 0 M819.731 45.1919 L819.731 72.576 L812.278 72.576 L812.278 45.4349 Q812.278 38.994 809.766 35.7938 Q807.255 32.5936 802.232 32.5936 Q796.196 32.5936 792.712 36.4419 Q789.228 40.2903 789.228 46.9338 L789.228 72.576 L781.734 72.576 L781.734 27.2059 L789.228 27.2059 L789.228 34.2544 Q791.902 30.163 795.507 28.1376 Q799.153 26.1121 803.892 26.1121 Q811.711 26.1121 815.721 30.9732 Q819.731 35.7938 819.731 45.1919 Z\" fill=\"#000000\" fill-rule=\"evenodd\" fill-opacity=\"1\" /><path clip-path=\"url(#clip450)\" d=\"M 0 0 M834.922 14.324 L834.922 27.2059 L850.275 27.2059 L850.275 32.9987 L834.922 32.9987 L834.922 57.6282 Q834.922 63.1779 836.421 64.7578 Q837.961 66.3376 842.619 66.3376 L850.275 66.3376 L850.275 72.576 L842.619 72.576 Q833.991 72.576 830.709 69.3758 Q827.428 66.1351 827.428 57.6282 L827.428 32.9987 L821.959 32.9987 L821.959 27.2059 L827.428 27.2059 L827.428 14.324 L834.922 14.324 Z\" fill=\"#000000\" fill-rule=\"evenodd\" fill-opacity=\"1\" /><path clip-path=\"url(#clip450)\" d=\"M 0 0 M896.901 48.0275 L896.901 51.6733 L862.631 51.6733 Q863.117 59.3701 867.249 63.421 Q871.421 67.4314 878.834 67.4314 Q883.128 67.4314 887.139 66.3781 Q891.189 65.3249 895.159 63.2184 L895.159 70.267 Q891.149 71.9684 886.936 72.8596 Q882.723 73.7508 878.389 73.7508 Q867.532 73.7508 861.172 67.4314 Q854.853 61.1119 854.853 50.3365 Q854.853 39.1965 860.848 32.6746 Q866.884 26.1121 877.092 26.1121 Q886.247 26.1121 891.554 32.0264 Q896.901 37.9003 896.901 48.0275 M889.448 45.84 Q889.367 39.7232 886.004 36.0774 Q882.683 32.4315 877.173 32.4315 Q870.935 32.4315 867.168 35.9558 Q863.441 39.4801 862.874 45.8805 L889.448 45.84 Z\" fill=\"#000000\" fill-rule=\"evenodd\" fill-opacity=\"1\" /><path clip-path=\"url(#clip450)\" d=\"M 0 0 M934.575 49.3643 Q934.575 41.2625 931.212 36.8065 Q927.891 32.3505 921.855 32.3505 Q915.859 32.3505 912.497 36.8065 Q909.175 41.2625 909.175 49.3643 Q909.175 57.4256 912.497 61.8816 Q915.859 66.3376 921.855 66.3376 Q927.891 66.3376 931.212 61.8816 Q934.575 57.4256 934.575 49.3643 M942.028 66.9452 Q942.028 78.5308 936.884 84.1616 Q931.739 89.8329 921.126 89.8329 Q917.196 89.8329 913.712 89.2252 Q910.229 88.6581 906.947 87.4428 L906.947 80.1917 Q910.229 81.9741 913.429 82.8248 Q916.629 83.6755 919.951 83.6755 Q927.283 83.6755 930.929 79.8271 Q934.575 76.0193 934.575 68.282 L934.575 64.5957 Q932.266 68.6061 928.66 70.5911 Q925.055 72.576 920.032 72.576 Q911.687 72.576 906.583 66.2161 Q901.479 59.8562 901.479 49.3643 Q901.479 38.832 906.583 32.472 Q911.687 26.1121 920.032 26.1121 Q925.055 26.1121 928.66 28.0971 Q932.266 30.082 934.575 34.0924 L934.575 27.2059 L942.028 27.2059 L942.028 66.9452 Z\" fill=\"#000000\" fill-rule=\"evenodd\" fill-opacity=\"1\" /><path clip-path=\"url(#clip450)\" d=\"M 0 0 M976.137 34.1734 Q974.881 33.4443 973.382 33.1202 Q971.924 32.7556 970.142 32.7556 Q963.822 32.7556 960.419 36.8875 Q957.057 40.9789 957.057 48.6757 L957.057 72.576 L949.563 72.576 L949.563 27.2059 L957.057 27.2059 L957.057 34.2544 Q959.407 30.1225 963.174 28.1376 Q966.941 26.1121 972.329 26.1121 Q973.099 26.1121 974.03 26.2337 Q974.962 26.3147 976.096 26.5172 L976.137 34.1734 Z\" fill=\"#000000\" fill-rule=\"evenodd\" fill-opacity=\"1\" /><path clip-path=\"url(#clip450)\" d=\"M 0 0 M1004.57 49.7694 Q995.541 49.7694 992.057 51.8354 Q988.573 53.9013 988.573 58.8839 Q988.573 62.8538 991.166 65.2034 Q993.799 67.5124 998.295 67.5124 Q1004.49 67.5124 1008.22 63.1374 Q1011.99 58.7219 1011.99 51.4303 L1011.99 49.7694 L1004.57 49.7694 M1019.44 46.6907 L1019.44 72.576 L1011.99 72.576 L1011.99 65.6895 Q1009.44 69.8214 1005.63 71.8063 Q1001.82 73.7508 996.31 73.7508 Q989.343 73.7508 985.211 69.8619 Q981.12 65.9325 981.12 59.3701 Q981.12 51.7138 986.224 47.825 Q991.368 43.9361 1001.54 43.9361 L1011.99 43.9361 L1011.99 43.2069 Q1011.99 38.0623 1008.58 35.2672 Q1005.22 32.4315 999.106 32.4315 Q995.217 32.4315 991.53 33.3632 Q987.844 34.295 984.441 36.1584 L984.441 29.2718 Q988.533 27.692 992.381 26.9223 Q996.229 26.1121 999.875 26.1121 Q1009.72 26.1121 1014.58 31.2163 Q1019.44 36.3204 1019.44 46.6907 Z\" fill=\"#000000\" fill-rule=\"evenodd\" fill-opacity=\"1\" /><path clip-path=\"url(#clip450)\" d=\"M 0 0 M1027.26 9.54393 L1034.71 9.54393 L1034.71 72.576 L1027.26 72.576 L1027.26 9.54393 Z\" fill=\"#000000\" fill-rule=\"evenodd\" fill-opacity=\"1\" /><path clip-path=\"url(#clip450)\" d=\"M 0 0 M1081.34 48.0275 L1081.34 51.6733 L1047.07 51.6733 Q1047.55 59.3701 1051.69 63.421 Q1055.86 67.4314 1063.27 67.4314 Q1067.57 67.4314 1071.58 66.3781 Q1075.63 65.3249 1079.6 63.2184 L1079.6 70.267 Q1075.59 71.9684 1071.37 72.8596 Q1067.16 73.7508 1062.83 73.7508 Q1051.97 73.7508 1045.61 67.4314 Q1039.29 61.1119 1039.29 50.3365 Q1039.29 39.1965 1045.29 32.6746 Q1051.32 26.1121 1061.53 26.1121 Q1070.69 26.1121 1075.99 32.0264 Q1081.34 37.9003 1081.34 48.0275 M1073.89 45.84 Q1073.8 39.7232 1070.44 36.0774 Q1067.12 32.4315 1061.61 32.4315 Q1055.37 32.4315 1051.61 35.9558 Q1047.88 39.4801 1047.31 45.8805 L1073.89 45.84 Z\" fill=\"#000000\" fill-rule=\"evenodd\" fill-opacity=\"1\" /><path clip-path=\"url(#clip450)\" d=\"M 0 0 M1118.08 28.5427 L1118.08 35.5912 Q1114.92 33.9709 1111.52 33.1607 Q1108.12 32.3505 1104.47 32.3505 Q1098.92 32.3505 1096.12 34.0519 Q1093.37 35.7533 1093.37 39.156 Q1093.37 41.7486 1095.36 43.2475 Q1097.34 44.7058 1103.34 46.0426 L1105.89 46.6097 Q1113.83 48.3111 1117.15 51.4303 Q1120.51 54.509 1120.51 60.0587 Q1120.51 66.3781 1115.49 70.0644 Q1110.51 73.7508 1101.76 73.7508 Q1098.11 73.7508 1094.14 73.0216 Q1090.21 72.3329 1085.84 70.9151 L1085.84 63.2184 Q1089.97 65.3654 1093.98 66.4591 Q1097.99 67.5124 1101.92 67.5124 Q1107.18 67.5124 1110.02 65.73 Q1112.85 63.9071 1112.85 60.6258 Q1112.85 57.5877 1110.79 55.9673 Q1108.76 54.3469 1101.84 52.8481 L1099.24 52.2405 Q1092.32 50.7821 1089.24 47.7845 Q1086.16 44.7463 1086.16 39.4801 Q1086.16 33.0797 1090.7 29.5959 Q1095.23 26.1121 1103.58 26.1121 Q1107.71 26.1121 1111.36 26.7198 Q1115 27.3274 1118.08 28.5427 Z\" fill=\"#000000\" fill-rule=\"evenodd\" fill-opacity=\"1\" /><path clip-path=\"url(#clip450)\" d=\"M 0 0 M1187.35 28.9478 L1187.35 35.9153 Q1184.19 34.1734 1180.99 33.3227 Q1177.83 32.4315 1174.59 32.4315 Q1167.34 32.4315 1163.33 37.0496 Q1159.32 41.6271 1159.32 49.9314 Q1159.32 58.2358 1163.33 62.8538 Q1167.34 67.4314 1174.59 67.4314 Q1177.83 67.4314 1180.99 66.5807 Q1184.19 65.6895 1187.35 63.9476 L1187.35 70.8341 Q1184.23 72.2924 1180.87 73.0216 Q1177.55 73.7508 1173.78 73.7508 Q1163.53 73.7508 1157.5 67.3098 Q1151.46 60.8689 1151.46 49.9314 Q1151.46 38.832 1157.54 32.472 Q1163.65 26.1121 1174.27 26.1121 Q1177.71 26.1121 1180.99 26.8413 Q1184.27 27.5299 1187.35 28.9478 Z\" fill=\"#000000\" fill-rule=\"evenodd\" fill-opacity=\"1\" /><path clip-path=\"url(#clip450)\" d=\"M 0 0 M1212.75 32.4315 Q1206.75 32.4315 1203.27 37.1306 Q1199.79 41.7891 1199.79 49.9314 Q1199.79 58.0738 1203.23 62.7728 Q1206.71 67.4314 1212.75 67.4314 Q1218.71 67.4314 1222.19 62.7323 Q1225.67 58.0333 1225.67 49.9314 Q1225.67 41.8701 1222.19 37.1711 Q1218.71 32.4315 1212.75 32.4315 M1212.75 26.1121 Q1222.47 26.1121 1228.02 32.4315 Q1233.57 38.7509 1233.57 49.9314 Q1233.57 61.0714 1228.02 67.4314 Q1222.47 73.7508 1212.75 73.7508 Q1202.99 73.7508 1197.44 67.4314 Q1191.93 61.0714 1191.93 49.9314 Q1191.93 38.7509 1197.44 32.4315 Q1202.99 26.1121 1212.75 26.1121 Z\" fill=\"#000000\" fill-rule=\"evenodd\" fill-opacity=\"1\" /><path clip-path=\"url(#clip450)\" d=\"M 0 0 M1276.71 35.9153 Q1279.51 30.8922 1283.4 28.5022 Q1287.29 26.1121 1292.55 26.1121 Q1299.64 26.1121 1303.49 31.0947 Q1307.34 36.0368 1307.34 45.1919 L1307.34 72.576 L1299.84 72.576 L1299.84 45.4349 Q1299.84 38.913 1297.54 35.7533 Q1295.23 32.5936 1290.49 32.5936 Q1284.69 32.5936 1281.33 36.4419 Q1277.97 40.2903 1277.97 46.9338 L1277.97 72.576 L1270.48 72.576 L1270.48 45.4349 Q1270.48 38.8725 1268.17 35.7533 Q1265.86 32.5936 1261.04 32.5936 Q1255.33 32.5936 1251.96 36.4824 Q1248.6 40.3308 1248.6 46.9338 L1248.6 72.576 L1241.11 72.576 L1241.11 27.2059 L1248.6 27.2059 L1248.6 34.2544 Q1251.15 30.082 1254.72 28.0971 Q1258.28 26.1121 1263.18 26.1121 Q1268.13 26.1121 1271.57 28.6237 Q1275.05 31.1352 1276.71 35.9153 Z\" fill=\"#000000\" fill-rule=\"evenodd\" fill-opacity=\"1\" /><path clip-path=\"url(#clip450)\" d=\"M 0 0 M1332.74 32.4315 Q1326.74 32.4315 1323.26 37.1306 Q1319.78 41.7891 1319.78 49.9314 Q1319.78 58.0738 1323.22 62.7728 Q1326.7 67.4314 1332.74 67.4314 Q1338.69 67.4314 1342.18 62.7323 Q1345.66 58.0333 1345.66 49.9314 Q1345.66 41.8701 1342.18 37.1711 Q1338.69 32.4315 1332.74 32.4315 M1332.74 26.1121 Q1342.46 26.1121 1348.01 32.4315 Q1353.56 38.7509 1353.56 49.9314 Q1353.56 61.0714 1348.01 67.4314 Q1342.46 73.7508 1332.74 73.7508 Q1322.98 73.7508 1317.43 67.4314 Q1311.92 61.0714 1311.92 49.9314 Q1311.92 38.7509 1317.43 32.4315 Q1322.98 26.1121 1332.74 26.1121 Z\" fill=\"#000000\" fill-rule=\"evenodd\" fill-opacity=\"1\" /><path clip-path=\"url(#clip450)\" d=\"M 0 0 M1410.72 9.54393 L1410.72 15.7418 L1403.59 15.7418 Q1399.58 15.7418 1398 17.3622 Q1396.46 18.9825 1396.46 23.1955 L1396.46 27.2059 L1408.73 27.2059 L1408.73 32.9987 L1396.46 32.9987 L1396.46 72.576 L1388.96 72.576 L1388.96 32.9987 L1381.83 32.9987 L1381.83 27.2059 L1388.96 27.2059 L1388.96 24.0462 Q1388.96 16.471 1392.49 13.0277 Q1396.01 9.54393 1403.67 9.54393 L1410.72 9.54393 Z\" fill=\"#000000\" fill-rule=\"evenodd\" fill-opacity=\"1\" /><path clip-path=\"url(#clip450)\" d=\"M 0 0 M1417.77 54.671 L1417.77 27.2059 L1425.22 27.2059 L1425.22 54.3874 Q1425.22 60.8284 1427.73 64.0691 Q1430.24 67.2693 1435.27 67.2693 Q1441.3 67.2693 1444.79 63.421 Q1448.31 59.5726 1448.31 52.9291 L1448.31 27.2059 L1455.76 27.2059 L1455.76 72.576 L1448.31 72.576 L1448.31 65.6084 Q1445.6 69.7404 1441.99 71.7658 Q1438.43 73.7508 1433.69 73.7508 Q1425.87 73.7508 1421.82 68.8897 Q1417.77 64.0286 1417.77 54.671 M1436.52 26.1121 L1436.52 26.1121 Z\" fill=\"#000000\" fill-rule=\"evenodd\" fill-opacity=\"1\" /><path clip-path=\"url(#clip450)\" d=\"M 0 0 M1501.3 45.1919 L1501.3 72.576 L1493.84 72.576 L1493.84 45.4349 Q1493.84 38.994 1491.33 35.7938 Q1488.82 32.5936 1483.8 32.5936 Q1477.76 32.5936 1474.28 36.4419 Q1470.79 40.2903 1470.79 46.9338 L1470.79 72.576 L1463.3 72.576 L1463.3 27.2059 L1470.79 27.2059 L1470.79 34.2544 Q1473.47 30.163 1477.07 28.1376 Q1480.72 26.1121 1485.46 26.1121 Q1493.28 26.1121 1497.29 30.9732 Q1501.3 35.7938 1501.3 45.1919 Z\" fill=\"#000000\" fill-rule=\"evenodd\" fill-opacity=\"1\" /><path clip-path=\"url(#clip450)\" d=\"M 0 0 M1541.76 28.9478 L1541.76 35.9153 Q1538.6 34.1734 1535.4 33.3227 Q1532.25 32.4315 1529 32.4315 Q1521.75 32.4315 1517.74 37.0496 Q1513.73 41.6271 1513.73 49.9314 Q1513.73 58.2358 1517.74 62.8538 Q1521.75 67.4314 1529 67.4314 Q1532.25 67.4314 1535.4 66.5807 Q1538.6 65.6895 1541.76 63.9476 L1541.76 70.8341 Q1538.65 72.2924 1535.28 73.0216 Q1531.96 73.7508 1528.19 73.7508 Q1517.95 73.7508 1511.91 67.3098 Q1505.87 60.8689 1505.87 49.9314 Q1505.87 38.832 1511.95 32.472 Q1518.07 26.1121 1528.68 26.1121 Q1532.12 26.1121 1535.4 26.8413 Q1538.69 27.5299 1541.76 28.9478 Z\" fill=\"#000000\" fill-rule=\"evenodd\" fill-opacity=\"1\" /><path clip-path=\"url(#clip450)\" d=\"M 0 0 M1549.58 27.2059 L1557.04 27.2059 L1557.04 72.576 L1549.58 72.576 L1549.58 27.2059 M1549.58 9.54393 L1557.04 9.54393 L1557.04 18.9825 L1549.58 18.9825 L1549.58 9.54393 Z\" fill=\"#000000\" fill-rule=\"evenodd\" fill-opacity=\"1\" /><path clip-path=\"url(#clip450)\" d=\"M 0 0 M1582.44 32.4315 Q1576.44 32.4315 1572.96 37.1306 Q1569.47 41.7891 1569.47 49.9314 Q1569.47 58.0738 1572.92 62.7728 Q1576.4 67.4314 1582.44 67.4314 Q1588.39 67.4314 1591.87 62.7323 Q1595.36 58.0333 1595.36 49.9314 Q1595.36 41.8701 1591.87 37.1711 Q1588.39 32.4315 1582.44 32.4315 M1582.44 26.1121 Q1592.16 26.1121 1597.71 32.4315 Q1603.26 38.7509 1603.26 49.9314 Q1603.26 61.0714 1597.71 67.4314 Q1592.16 73.7508 1582.44 73.7508 Q1572.67 73.7508 1567.12 67.4314 Q1561.61 61.0714 1561.61 49.9314 Q1561.61 38.7509 1567.12 32.4315 Q1572.67 26.1121 1582.44 26.1121 Z\" fill=\"#000000\" fill-rule=\"evenodd\" fill-opacity=\"1\" /><path clip-path=\"url(#clip450)\" d=\"M 0 0 M1648.79 45.1919 L1648.79 72.576 L1641.34 72.576 L1641.34 45.4349 Q1641.34 38.994 1638.82 35.7938 Q1636.31 32.5936 1631.29 32.5936 Q1625.25 32.5936 1621.77 36.4419 Q1618.29 40.2903 1618.29 46.9338 L1618.29 72.576 L1610.79 72.576 L1610.79 27.2059 L1618.29 27.2059 L1618.29 34.2544 Q1620.96 30.163 1624.57 28.1376 Q1628.21 26.1121 1632.95 26.1121 Q1640.77 26.1121 1644.78 30.9732 Q1648.79 35.7938 1648.79 45.1919 Z\" fill=\"#000000\" fill-rule=\"evenodd\" fill-opacity=\"1\" /><path clip-path=\"url(#clip450)\" d=\"M 0 0 M1695.42 48.0275 L1695.42 51.6733 L1661.14 51.6733 Q1661.63 59.3701 1665.76 63.421 Q1669.94 67.4314 1677.35 67.4314 Q1681.64 67.4314 1685.65 66.3781 Q1689.7 65.3249 1693.67 63.2184 L1693.67 70.267 Q1689.66 71.9684 1685.45 72.8596 Q1681.24 73.7508 1676.9 73.7508 Q1666.05 73.7508 1659.69 67.4314 Q1653.37 61.1119 1653.37 50.3365 Q1653.37 39.1965 1659.36 32.6746 Q1665.4 26.1121 1675.61 26.1121 Q1684.76 26.1121 1690.07 32.0264 Q1695.42 37.9003 1695.42 48.0275 M1687.96 45.84 Q1687.88 39.7232 1684.52 36.0774 Q1681.2 32.4315 1675.69 32.4315 Q1669.45 32.4315 1665.68 35.9558 Q1661.95 39.4801 1661.39 45.8805 L1687.96 45.84 Z\" fill=\"#000000\" fill-rule=\"evenodd\" fill-opacity=\"1\" /><path clip-path=\"url(#clip450)\" d=\"M 0 0 M1732.16 28.5427 L1732.16 35.5912 Q1729 33.9709 1725.59 33.1607 Q1722.19 32.3505 1718.55 32.3505 Q1713 32.3505 1710.2 34.0519 Q1707.45 35.7533 1707.45 39.156 Q1707.45 41.7486 1709.43 43.2475 Q1711.42 44.7058 1717.41 46.0426 L1719.96 46.6097 Q1727.9 48.3111 1731.23 51.4303 Q1734.59 54.509 1734.59 60.0587 Q1734.59 66.3781 1729.56 70.0644 Q1724.58 73.7508 1715.83 73.7508 Q1712.19 73.7508 1708.22 73.0216 Q1704.29 72.3329 1699.91 70.9151 L1699.91 63.2184 Q1704.04 65.3654 1708.05 66.4591 Q1712.06 67.5124 1715.99 67.5124 Q1721.26 67.5124 1724.1 65.73 Q1726.93 63.9071 1726.93 60.6258 Q1726.93 57.5877 1724.87 55.9673 Q1722.84 54.3469 1715.91 52.8481 L1713.32 52.2405 Q1706.39 50.7821 1703.31 47.7845 Q1700.24 44.7463 1700.24 39.4801 Q1700.24 33.0797 1704.77 29.5959 Q1709.31 26.1121 1717.65 26.1121 Q1721.79 26.1121 1725.43 26.7198 Q1729.08 27.3274 1732.16 28.5427 Z\" fill=\"#000000\" fill-rule=\"evenodd\" fill-opacity=\"1\" /><polyline clip-path=\"url(#clip452)\" style=\"stroke:#009af9; stroke-width:4; stroke-opacity:1; fill:none\" points=\"\n",
       "  210.251,1447.87 231.262,1399.28 252.274,1354.59 273.285,1313.2 294.296,1274.67 315.307,1238.63 336.318,1204.78 357.329,1172.86 378.34,1142.67 399.351,1114.02 \n",
       "  420.363,1086.78 441.374,1060.8 462.385,1035.98 483.396,1012.21 504.407,989.415 525.418,967.513 546.429,946.438 567.44,926.129 588.452,906.533 609.463,887.602 \n",
       "  630.474,869.291 651.485,851.562 672.496,834.378 693.507,817.707 714.518,801.52 735.529,785.789 756.541,770.488 777.552,755.596 798.563,741.091 819.574,726.952 \n",
       "  840.585,713.163 861.596,699.707 882.607,686.567 903.619,673.729 924.63,661.179 945.641,648.906 966.652,636.896 987.663,625.139 1008.67,613.625 1029.69,602.343 \n",
       "  1050.7,591.285 1071.71,580.441 1092.72,569.804 1113.73,559.366 1134.74,549.119 1155.75,539.057 1176.76,529.173 1197.77,519.461 1218.79,509.915 1239.8,500.53 \n",
       "  1260.81,491.299 1281.82,482.219 1302.83,473.284 1323.84,464.49 1344.85,455.832 1365.86,447.306 1386.87,438.908 1407.89,430.635 1428.9,422.483 1449.91,414.448 \n",
       "  1470.92,406.527 1491.93,398.716 1512.94,391.014 1533.95,383.416 1554.96,375.92 1575.97,368.524 1596.99,361.224 1618,354.018 1639.01,346.904 1660.02,339.88 \n",
       "  1681.03,332.943 1702.04,326.091 1723.05,319.322 1744.06,312.634 1765.07,306.026 1786.09,299.494 1807.1,293.038 1828.11,286.656 1849.12,280.346 1870.13,274.107 \n",
       "  1891.14,267.936 1912.15,261.833 1933.16,255.796 1954.17,249.824 1975.19,243.914 1996.2,238.067 2017.21,232.28 2038.22,226.552 2059.23,220.883 2080.24,215.271 \n",
       "  2101.25,209.714 2122.26,204.212 2143.27,198.764 2164.29,193.369 2185.3,188.025 2206.31,182.732 2227.32,177.488 2248.33,172.294 2269.34,167.147 2290.35,162.047 \n",
       "  \n",
       "  \"/>\n",
       "<polyline clip-path=\"url(#clip452)\" style=\"stroke:#e26f46; stroke-width:4; stroke-opacity:1; fill:none\" points=\"\n",
       "  210.251,1447.87 231.262,1399.33 252.274,1354.74 273.285,1313.53 294.296,1275.21 315.307,1239.43 336.318,1205.85 357.329,1174.24 378.34,1144.37 399.351,1116.07 \n",
       "  420.363,1089.19 441.374,1063.58 462.385,1039.14 483.396,1015.77 504.407,993.371 525.418,971.878 546.429,951.219 567.44,931.332 588.452,912.163 609.463,893.663 \n",
       "  630.474,875.788 651.485,858.498 672.496,841.758 693.507,825.533 714.518,809.795 735.529,794.515 756.541,779.669 777.552,765.232 798.563,751.185 819.574,737.506 \n",
       "  840.585,724.179 861.596,711.185 882.607,698.509 903.619,686.136 924.63,674.053 945.641,662.247 966.652,650.706 987.663,639.419 1008.67,628.374 1029.69,617.563 \n",
       "  1050.7,606.977 1071.71,596.605 1092.72,586.441 1113.73,576.476 1134.74,566.703 1155.75,557.115 1176.76,547.706 1197.77,538.469 1218.79,529.398 1239.8,520.488 \n",
       "  1260.81,511.733 1281.82,503.129 1302.83,494.67 1323.84,486.352 1344.85,478.171 1365.86,470.122 1386.87,462.201 1407.89,454.405 1428.9,446.729 1449.91,439.171 \n",
       "  1470.92,431.727 1491.93,424.394 1512.94,417.169 1533.95,410.048 1554.96,403.03 1575.97,396.11 1596.99,389.288 1618,382.559 1639.01,375.922 1660.02,369.375 \n",
       "  1681.03,362.915 1702.04,356.54 1723.05,350.248 1744.06,344.036 1765.07,337.904 1786.09,331.849 1807.1,325.87 1828.11,319.964 1849.12,314.13 1870.13,308.367 \n",
       "  1891.14,302.672 1912.15,297.045 1933.16,291.483 1954.17,285.986 1975.19,280.552 1996.2,275.179 2017.21,269.867 2038.22,264.615 2059.23,259.42 2080.24,254.282 \n",
       "  2101.25,249.2 2122.26,244.172 2143.27,239.198 2164.29,234.276 2185.3,229.405 2206.31,224.585 2227.32,219.815 2248.33,215.093 2269.34,210.419 2290.35,205.792 \n",
       "  \n",
       "  \"/>\n",
       "<path clip-path=\"url(#clip450)\" d=\"\n",
       "M1358.23 350.345 L2279.26 350.345 L2279.26 168.905 L1358.23 168.905  Z\n",
       "  \" fill=\"#ffffff\" fill-rule=\"evenodd\" fill-opacity=\"1\"/>\n",
       "<polyline clip-path=\"url(#clip450)\" style=\"stroke:#000000; stroke-width:4; stroke-opacity:1; fill:none\" points=\"\n",
       "  1358.23,350.345 2279.26,350.345 2279.26,168.905 1358.23,168.905 1358.23,350.345 \n",
       "  \"/>\n",
       "<polyline clip-path=\"url(#clip450)\" style=\"stroke:#009af9; stroke-width:4; stroke-opacity:1; fill:none\" points=\"\n",
       "  1382.73,229.385 1529.72,229.385 \n",
       "  \"/>\n",
       "<path clip-path=\"url(#clip450)\" d=\"M 0 0 M1554.22 212.105 L1558.9 212.105 L1558.9 242.729 L1575.73 242.729 L1575.73 246.665 L1554.22 246.665 L1554.22 212.105 Z\" fill=\"#000000\" fill-rule=\"evenodd\" fill-opacity=\"1\" /><path clip-path=\"url(#clip450)\" d=\"M 0 0 M1589.41 223.725 Q1585.98 223.725 1583.99 226.41 Q1582 229.072 1582 233.725 Q1582 238.378 1583.97 241.063 Q1585.96 243.725 1589.41 243.725 Q1592.81 243.725 1594.8 241.04 Q1596.79 238.355 1596.79 233.725 Q1596.79 229.118 1594.8 226.433 Q1592.81 223.725 1589.41 223.725 M1589.41 220.114 Q1594.96 220.114 1598.13 223.725 Q1601.31 227.336 1601.31 233.725 Q1601.31 240.091 1598.13 243.725 Q1594.96 247.336 1589.41 247.336 Q1583.83 247.336 1580.66 243.725 Q1577.51 240.091 1577.51 233.725 Q1577.51 227.336 1580.66 223.725 Q1583.83 220.114 1589.41 220.114 Z\" fill=\"#000000\" fill-rule=\"evenodd\" fill-opacity=\"1\" /><path clip-path=\"url(#clip450)\" d=\"M 0 0 M1622.83 233.401 Q1622.83 228.771 1620.91 226.225 Q1619.01 223.679 1615.57 223.679 Q1612.14 223.679 1610.22 226.225 Q1608.32 228.771 1608.32 233.401 Q1608.32 238.007 1610.22 240.554 Q1612.14 243.1 1615.57 243.1 Q1619.01 243.1 1620.91 240.554 Q1622.83 238.007 1622.83 233.401 M1627.09 243.447 Q1627.09 250.067 1624.15 253.285 Q1621.21 256.526 1615.15 256.526 Q1612.9 256.526 1610.91 256.178 Q1608.92 255.854 1607.05 255.16 L1607.05 251.016 Q1608.92 252.035 1610.75 252.521 Q1612.58 253.007 1614.48 253.007 Q1618.67 253.007 1620.75 250.808 Q1622.83 248.632 1622.83 244.211 L1622.83 242.104 Q1621.51 244.396 1619.45 245.53 Q1617.39 246.665 1614.52 246.665 Q1609.76 246.665 1606.84 243.03 Q1603.92 239.396 1603.92 233.401 Q1603.92 227.382 1606.84 223.748 Q1609.76 220.114 1614.52 220.114 Q1617.39 220.114 1619.45 221.248 Q1621.51 222.382 1622.83 224.674 L1622.83 220.739 L1627.09 220.739 L1627.09 243.447 Z\" fill=\"#000000\" fill-rule=\"evenodd\" fill-opacity=\"1\" /><path clip-path=\"url(#clip450)\" d=\"M 0 0 M1643.34 233.632 Q1638.18 233.632 1636.19 234.813 Q1634.2 235.993 1634.2 238.841 Q1634.2 241.109 1635.68 242.452 Q1637.19 243.771 1639.75 243.771 Q1643.3 243.771 1645.43 241.271 Q1647.58 238.748 1647.58 234.581 L1647.58 233.632 L1643.34 233.632 M1651.84 231.873 L1651.84 246.665 L1647.58 246.665 L1647.58 242.729 Q1646.12 245.091 1643.94 246.225 Q1641.77 247.336 1638.62 247.336 Q1634.64 247.336 1632.28 245.114 Q1629.94 242.868 1629.94 239.118 Q1629.94 234.743 1632.86 232.521 Q1635.8 230.299 1641.61 230.299 L1647.58 230.299 L1647.58 229.882 Q1647.58 226.943 1645.63 225.345 Q1643.71 223.725 1640.22 223.725 Q1638 223.725 1635.89 224.257 Q1633.78 224.79 1631.84 225.855 L1631.84 221.919 Q1634.18 221.017 1636.38 220.577 Q1638.57 220.114 1640.66 220.114 Q1646.28 220.114 1649.06 223.031 Q1651.84 225.947 1651.84 231.873 Z\" fill=\"#000000\" fill-rule=\"evenodd\" fill-opacity=\"1\" /><path clip-path=\"url(#clip450)\" d=\"M 0 0 M1671.33 224.72 Q1670.61 224.304 1669.75 224.118 Q1668.92 223.91 1667.9 223.91 Q1664.29 223.91 1662.35 226.271 Q1660.43 228.609 1660.43 233.007 L1660.43 246.665 L1656.14 246.665 L1656.14 220.739 L1660.43 220.739 L1660.43 224.767 Q1661.77 222.406 1663.92 221.271 Q1666.07 220.114 1669.15 220.114 Q1669.59 220.114 1670.13 220.183 Q1670.66 220.23 1671.31 220.345 L1671.33 224.72 Z\" fill=\"#000000\" fill-rule=\"evenodd\" fill-opacity=\"1\" /><path clip-path=\"url(#clip450)\" d=\"M 0 0 M1675.8 220.739 L1680.06 220.739 L1680.06 246.665 L1675.8 246.665 L1675.8 220.739 M1675.8 210.646 L1680.06 210.646 L1680.06 216.04 L1675.8 216.04 L1675.8 210.646 Z\" fill=\"#000000\" fill-rule=\"evenodd\" fill-opacity=\"1\" /><path clip-path=\"url(#clip450)\" d=\"M 0 0 M1688.74 213.378 L1688.74 220.739 L1697.51 220.739 L1697.51 224.049 L1688.74 224.049 L1688.74 238.123 Q1688.74 241.294 1689.59 242.197 Q1690.47 243.1 1693.13 243.1 L1697.51 243.1 L1697.51 246.665 L1693.13 246.665 Q1688.2 246.665 1686.33 244.836 Q1684.45 242.984 1684.45 238.123 L1684.45 224.049 L1681.33 224.049 L1681.33 220.739 L1684.45 220.739 L1684.45 213.378 L1688.74 213.378 Z\" fill=\"#000000\" fill-rule=\"evenodd\" fill-opacity=\"1\" /><path clip-path=\"url(#clip450)\" d=\"M 0 0 M1722.16 225.716 Q1723.76 222.845 1725.98 221.48 Q1728.2 220.114 1731.21 220.114 Q1735.26 220.114 1737.46 222.961 Q1739.66 225.785 1739.66 231.017 L1739.66 246.665 L1735.38 246.665 L1735.38 231.155 Q1735.38 227.429 1734.06 225.623 Q1732.74 223.818 1730.03 223.818 Q1726.72 223.818 1724.8 226.017 Q1722.88 228.216 1722.88 232.012 L1722.88 246.665 L1718.6 246.665 L1718.6 231.155 Q1718.6 227.405 1717.28 225.623 Q1715.96 223.818 1713.2 223.818 Q1709.94 223.818 1708.02 226.04 Q1706.1 228.239 1706.1 232.012 L1706.1 246.665 L1701.81 246.665 L1701.81 220.739 L1706.1 220.739 L1706.1 224.767 Q1707.56 222.382 1709.59 221.248 Q1711.63 220.114 1714.43 220.114 Q1717.25 220.114 1719.22 221.549 Q1721.21 222.984 1722.16 225.716 Z\" fill=\"#000000\" fill-rule=\"evenodd\" fill-opacity=\"1\" /><path clip-path=\"url(#clip450)\" d=\"M 0 0 M1754.18 223.725 Q1750.75 223.725 1748.76 226.41 Q1746.77 229.072 1746.77 233.725 Q1746.77 238.378 1748.74 241.063 Q1750.73 243.725 1754.18 243.725 Q1757.58 243.725 1759.57 241.04 Q1761.56 238.355 1761.56 233.725 Q1761.56 229.118 1759.57 226.433 Q1757.58 223.725 1754.18 223.725 M1754.18 220.114 Q1759.73 220.114 1762.9 223.725 Q1766.07 227.336 1766.07 233.725 Q1766.07 240.091 1762.9 243.725 Q1759.73 247.336 1754.18 247.336 Q1748.6 247.336 1745.43 243.725 Q1742.28 240.091 1742.28 233.725 Q1742.28 227.336 1745.43 223.725 Q1748.6 220.114 1754.18 220.114 Z\" fill=\"#000000\" fill-rule=\"evenodd\" fill-opacity=\"1\" /><path clip-path=\"url(#clip450)\" d=\"M 0 0 M1795.66 223.725 Q1792.23 223.725 1790.24 226.41 Q1788.25 229.072 1788.25 233.725 Q1788.25 238.378 1790.22 241.063 Q1792.21 243.725 1795.66 243.725 Q1799.06 243.725 1801.05 241.04 Q1803.04 238.355 1803.04 233.725 Q1803.04 229.118 1801.05 226.433 Q1799.06 223.725 1795.66 223.725 M1795.66 220.114 Q1801.21 220.114 1804.38 223.725 Q1807.55 227.336 1807.55 233.725 Q1807.55 240.091 1804.38 243.725 Q1801.21 247.336 1795.66 247.336 Q1790.08 247.336 1786.91 243.725 Q1783.76 240.091 1783.76 233.725 Q1783.76 227.336 1786.91 223.725 Q1790.08 220.114 1795.66 220.114 Z\" fill=\"#000000\" fill-rule=\"evenodd\" fill-opacity=\"1\" /><path clip-path=\"url(#clip450)\" d=\"M 0 0 M1827.05 224.72 Q1826.33 224.304 1825.47 224.118 Q1824.64 223.91 1823.62 223.91 Q1820.01 223.91 1818.06 226.271 Q1816.14 228.609 1816.14 233.007 L1816.14 246.665 L1811.86 246.665 L1811.86 220.739 L1816.14 220.739 L1816.14 224.767 Q1817.49 222.406 1819.64 221.271 Q1821.79 220.114 1824.87 220.114 Q1825.31 220.114 1825.84 220.183 Q1826.37 220.23 1827.02 220.345 L1827.05 224.72 Z\" fill=\"#000000\" fill-rule=\"evenodd\" fill-opacity=\"1\" /><path clip-path=\"url(#clip450)\" d=\"M 0 0 M1831.51 220.739 L1835.77 220.739 L1835.77 246.665 L1831.51 246.665 L1831.51 220.739 M1831.51 210.646 L1835.77 210.646 L1835.77 216.04 L1831.51 216.04 L1831.51 210.646 Z\" fill=\"#000000\" fill-rule=\"evenodd\" fill-opacity=\"1\" /><path clip-path=\"url(#clip450)\" d=\"M 0 0 M1857.3 233.401 Q1857.3 228.771 1855.38 226.225 Q1853.48 223.679 1850.03 223.679 Q1846.61 223.679 1844.68 226.225 Q1842.79 228.771 1842.79 233.401 Q1842.79 238.007 1844.68 240.554 Q1846.61 243.1 1850.03 243.1 Q1853.48 243.1 1855.38 240.554 Q1857.3 238.007 1857.3 233.401 M1861.56 243.447 Q1861.56 250.067 1858.62 253.285 Q1855.68 256.526 1849.61 256.526 Q1847.37 256.526 1845.38 256.178 Q1843.39 255.854 1841.51 255.16 L1841.51 251.016 Q1843.39 252.035 1845.22 252.521 Q1847.05 253.007 1848.94 253.007 Q1853.13 253.007 1855.22 250.808 Q1857.3 248.632 1857.3 244.211 L1857.3 242.104 Q1855.98 244.396 1853.92 245.53 Q1851.86 246.665 1848.99 246.665 Q1844.22 246.665 1841.3 243.03 Q1838.39 239.396 1838.39 233.401 Q1838.39 227.382 1841.3 223.748 Q1844.22 220.114 1848.99 220.114 Q1851.86 220.114 1853.92 221.248 Q1855.98 222.382 1857.3 224.674 L1857.3 220.739 L1861.56 220.739 L1861.56 243.447 Z\" fill=\"#000000\" fill-rule=\"evenodd\" fill-opacity=\"1\" /><path clip-path=\"url(#clip450)\" d=\"M 0 0 M1866.03 220.739 L1870.29 220.739 L1870.29 246.665 L1866.03 246.665 L1866.03 220.739 M1866.03 210.646 L1870.29 210.646 L1870.29 216.04 L1866.03 216.04 L1866.03 210.646 Z\" fill=\"#000000\" fill-rule=\"evenodd\" fill-opacity=\"1\" /><path clip-path=\"url(#clip450)\" d=\"M 0 0 M1896.3 231.017 L1896.3 246.665 L1892.05 246.665 L1892.05 231.155 Q1892.05 227.475 1890.61 225.646 Q1889.17 223.818 1886.3 223.818 Q1882.86 223.818 1880.86 226.017 Q1878.87 228.216 1878.87 232.012 L1878.87 246.665 L1874.59 246.665 L1874.59 220.739 L1878.87 220.739 L1878.87 224.767 Q1880.4 222.429 1882.46 221.271 Q1884.55 220.114 1887.25 220.114 Q1891.72 220.114 1894.01 222.892 Q1896.3 225.646 1896.3 231.017 Z\" fill=\"#000000\" fill-rule=\"evenodd\" fill-opacity=\"1\" /><path clip-path=\"url(#clip450)\" d=\"M 0 0 M1912.55 233.632 Q1907.39 233.632 1905.4 234.813 Q1903.41 235.993 1903.41 238.841 Q1903.41 241.109 1904.89 242.452 Q1906.4 243.771 1908.97 243.771 Q1912.51 243.771 1914.64 241.271 Q1916.79 238.748 1916.79 234.581 L1916.79 233.632 L1912.55 233.632 M1921.05 231.873 L1921.05 246.665 L1916.79 246.665 L1916.79 242.729 Q1915.33 245.091 1913.16 246.225 Q1910.98 247.336 1907.83 247.336 Q1903.85 247.336 1901.49 245.114 Q1899.15 242.868 1899.15 239.118 Q1899.15 234.743 1902.07 232.521 Q1905.01 230.299 1910.82 230.299 L1916.79 230.299 L1916.79 229.882 Q1916.79 226.943 1914.85 225.345 Q1912.92 223.725 1909.43 223.725 Q1907.21 223.725 1905.1 224.257 Q1902.99 224.79 1901.05 225.855 L1901.05 221.919 Q1903.39 221.017 1905.59 220.577 Q1907.79 220.114 1909.87 220.114 Q1915.49 220.114 1918.27 223.031 Q1921.05 225.947 1921.05 231.873 Z\" fill=\"#000000\" fill-rule=\"evenodd\" fill-opacity=\"1\" /><path clip-path=\"url(#clip450)\" d=\"M 0 0 M1925.52 210.646 L1929.78 210.646 L1929.78 246.665 L1925.52 246.665 L1925.52 210.646 Z\" fill=\"#000000\" fill-rule=\"evenodd\" fill-opacity=\"1\" /><polyline clip-path=\"url(#clip450)\" style=\"stroke:#e26f46; stroke-width:4; stroke-opacity:1; fill:none\" points=\"\n",
       "  1382.73,289.865 1529.72,289.865 \n",
       "  \"/>\n",
       "<path clip-path=\"url(#clip450)\" d=\"M 0 0 M1558.9 276.427 L1558.9 303.302 L1564.55 303.302 Q1571.7 303.302 1575.01 300.061 Q1578.34 296.821 1578.34 289.83 Q1578.34 282.886 1575.01 279.668 Q1571.7 276.427 1564.55 276.427 L1558.9 276.427 M1554.22 272.585 L1563.83 272.585 Q1573.88 272.585 1578.57 276.774 Q1583.27 280.941 1583.27 289.83 Q1583.27 298.765 1578.55 302.955 Q1573.83 307.145 1563.83 307.145 L1554.22 307.145 L1554.22 272.585 Z\" fill=\"#000000\" fill-rule=\"evenodd\" fill-opacity=\"1\" /><path clip-path=\"url(#clip450)\" d=\"M 0 0 M1609.92 293.117 L1609.92 295.2 L1590.33 295.2 Q1590.61 299.598 1592.97 301.913 Q1595.36 304.205 1599.59 304.205 Q1602.05 304.205 1604.34 303.603 Q1606.65 303.001 1608.92 301.797 L1608.92 305.825 Q1606.63 306.797 1604.22 307.307 Q1601.82 307.816 1599.34 307.816 Q1593.13 307.816 1589.5 304.205 Q1585.89 300.594 1585.89 294.436 Q1585.89 288.071 1589.32 284.344 Q1592.76 280.594 1598.6 280.594 Q1603.83 280.594 1606.86 283.973 Q1609.92 287.33 1609.92 293.117 M1605.66 291.867 Q1605.61 288.372 1603.69 286.288 Q1601.79 284.205 1598.64 284.205 Q1595.08 284.205 1592.93 286.219 Q1590.8 288.233 1590.47 291.89 L1605.66 291.867 Z\" fill=\"#000000\" fill-rule=\"evenodd\" fill-opacity=\"1\" /><path clip-path=\"url(#clip450)\" d=\"M 0 0 M1627.51 271.126 L1627.51 274.668 L1623.44 274.668 Q1621.14 274.668 1620.24 275.594 Q1619.36 276.52 1619.36 278.927 L1619.36 281.219 L1626.38 281.219 L1626.38 284.529 L1619.36 284.529 L1619.36 307.145 L1615.08 307.145 L1615.08 284.529 L1611.01 284.529 L1611.01 281.219 L1615.08 281.219 L1615.08 279.413 Q1615.08 275.085 1617.09 273.117 Q1619.11 271.126 1623.48 271.126 L1627.51 271.126 Z\" fill=\"#000000\" fill-rule=\"evenodd\" fill-opacity=\"1\" /><path clip-path=\"url(#clip450)\" d=\"M 0 0 M1631.98 281.219 L1636.24 281.219 L1636.24 307.145 L1631.98 307.145 L1631.98 281.219 M1631.98 271.126 L1636.24 271.126 L1636.24 276.52 L1631.98 276.52 L1631.98 271.126 Z\" fill=\"#000000\" fill-rule=\"evenodd\" fill-opacity=\"1\" /><path clip-path=\"url(#clip450)\" d=\"M 0 0 M1662.25 291.497 L1662.25 307.145 L1658 307.145 L1658 291.635 Q1658 287.955 1656.56 286.126 Q1655.13 284.298 1652.25 284.298 Q1648.81 284.298 1646.82 286.497 Q1644.82 288.696 1644.82 292.492 L1644.82 307.145 L1640.54 307.145 L1640.54 281.219 L1644.82 281.219 L1644.82 285.247 Q1646.35 282.909 1648.41 281.751 Q1650.5 280.594 1653.2 280.594 Q1657.67 280.594 1659.96 283.372 Q1662.25 286.126 1662.25 291.497 Z\" fill=\"#000000\" fill-rule=\"evenodd\" fill-opacity=\"1\" /><path clip-path=\"url(#clip450)\" d=\"M 0 0 M1666.72 281.219 L1670.98 281.219 L1670.98 307.145 L1666.72 307.145 L1666.72 281.219 M1666.72 271.126 L1670.98 271.126 L1670.98 276.52 L1666.72 276.52 L1666.72 271.126 Z\" fill=\"#000000\" fill-rule=\"evenodd\" fill-opacity=\"1\" /><path clip-path=\"url(#clip450)\" d=\"M 0 0 M1694.11 282.214 L1694.11 286.196 Q1692.3 285.2 1690.47 284.714 Q1688.67 284.205 1686.81 284.205 Q1682.67 284.205 1680.38 286.844 Q1678.09 289.46 1678.09 294.205 Q1678.09 298.95 1680.38 301.589 Q1682.67 304.205 1686.81 304.205 Q1688.67 304.205 1690.47 303.719 Q1692.3 303.209 1694.11 302.214 L1694.11 306.149 Q1692.32 306.983 1690.4 307.399 Q1688.5 307.816 1686.35 307.816 Q1680.5 307.816 1677.05 304.135 Q1673.6 300.455 1673.6 294.205 Q1673.6 287.862 1677.07 284.228 Q1680.56 280.594 1686.63 280.594 Q1688.6 280.594 1690.47 281.011 Q1692.35 281.404 1694.11 282.214 Z\" fill=\"#000000\" fill-rule=\"evenodd\" fill-opacity=\"1\" /><path clip-path=\"url(#clip450)\" d=\"M 0 0 M1698.57 281.219 L1702.83 281.219 L1702.83 307.145 L1698.57 307.145 L1698.57 281.219 M1698.57 271.126 L1702.83 271.126 L1702.83 276.52 L1698.57 276.52 L1698.57 271.126 Z\" fill=\"#000000\" fill-rule=\"evenodd\" fill-opacity=\"1\" /><path clip-path=\"url(#clip450)\" d=\"M 0 0 M1717.35 284.205 Q1713.92 284.205 1711.93 286.89 Q1709.94 289.552 1709.94 294.205 Q1709.94 298.858 1711.91 301.543 Q1713.9 304.205 1717.35 304.205 Q1720.75 304.205 1722.74 301.52 Q1724.73 298.835 1724.73 294.205 Q1724.73 289.598 1722.74 286.913 Q1720.75 284.205 1717.35 284.205 M1717.35 280.594 Q1722.9 280.594 1726.07 284.205 Q1729.25 287.816 1729.25 294.205 Q1729.25 300.571 1726.07 304.205 Q1722.9 307.816 1717.35 307.816 Q1711.77 307.816 1708.6 304.205 Q1705.45 300.571 1705.45 294.205 Q1705.45 287.816 1708.6 284.205 Q1711.77 280.594 1717.35 280.594 M1720.56 269.228 L1725.17 269.228 L1717.62 277.932 L1714.08 277.932 L1720.56 269.228 Z\" fill=\"#000000\" fill-rule=\"evenodd\" fill-opacity=\"1\" /><path clip-path=\"url(#clip450)\" d=\"M 0 0 M1755.26 291.497 L1755.26 307.145 L1751 307.145 L1751 291.635 Q1751 287.955 1749.57 286.126 Q1748.13 284.298 1745.26 284.298 Q1741.81 284.298 1739.82 286.497 Q1737.83 288.696 1737.83 292.492 L1737.83 307.145 L1733.55 307.145 L1733.55 281.219 L1737.83 281.219 L1737.83 285.247 Q1739.36 282.909 1741.42 281.751 Q1743.5 280.594 1746.21 280.594 Q1750.68 280.594 1752.97 283.372 Q1755.26 286.126 1755.26 291.497 Z\" fill=\"#000000\" fill-rule=\"evenodd\" fill-opacity=\"1\" /><path clip-path=\"url(#clip450)\" d=\"M 0 0 M1793.46 282.214 L1793.46 286.196 Q1791.65 285.2 1789.82 284.714 Q1788.02 284.205 1786.17 284.205 Q1782.02 284.205 1779.73 286.844 Q1777.44 289.46 1777.44 294.205 Q1777.44 298.95 1779.73 301.589 Q1782.02 304.205 1786.17 304.205 Q1788.02 304.205 1789.82 303.719 Q1791.65 303.209 1793.46 302.214 L1793.46 306.149 Q1791.68 306.983 1789.75 307.399 Q1787.86 307.816 1785.7 307.816 Q1779.85 307.816 1776.4 304.135 Q1772.95 300.455 1772.95 294.205 Q1772.95 287.862 1776.42 284.228 Q1779.92 280.594 1785.98 280.594 Q1787.95 280.594 1789.82 281.011 Q1791.7 281.404 1793.46 282.214 Z\" fill=\"#000000\" fill-rule=\"evenodd\" fill-opacity=\"1\" /><path clip-path=\"url(#clip450)\" d=\"M 0 0 M1807.97 284.205 Q1804.55 284.205 1802.55 286.89 Q1800.56 289.552 1800.56 294.205 Q1800.56 298.858 1802.53 301.543 Q1804.52 304.205 1807.97 304.205 Q1811.37 304.205 1813.37 301.52 Q1815.36 298.835 1815.36 294.205 Q1815.36 289.598 1813.37 286.913 Q1811.37 284.205 1807.97 284.205 M1807.97 280.594 Q1813.53 280.594 1816.7 284.205 Q1819.87 287.816 1819.87 294.205 Q1819.87 300.571 1816.7 304.205 Q1813.53 307.816 1807.97 307.816 Q1802.39 307.816 1799.22 304.205 Q1796.07 300.571 1796.07 294.205 Q1796.07 287.816 1799.22 284.205 Q1802.39 280.594 1807.97 280.594 Z\" fill=\"#000000\" fill-rule=\"evenodd\" fill-opacity=\"1\" /><path clip-path=\"url(#clip450)\" d=\"M 0 0 M1845.89 291.497 L1845.89 307.145 L1841.63 307.145 L1841.63 291.635 Q1841.63 287.955 1840.19 286.126 Q1838.76 284.298 1835.89 284.298 Q1832.44 284.298 1830.45 286.497 Q1828.46 288.696 1828.46 292.492 L1828.46 307.145 L1824.18 307.145 L1824.18 281.219 L1828.46 281.219 L1828.46 285.247 Q1829.99 282.909 1832.05 281.751 Q1834.13 280.594 1836.84 280.594 Q1841.3 280.594 1843.6 283.372 Q1845.89 286.126 1845.89 291.497 Z\" fill=\"#000000\" fill-rule=\"evenodd\" fill-opacity=\"1\" /><path clip-path=\"url(#clip450)\" d=\"M 0 0 M1865.43 281.219 L1869.68 281.219 L1869.68 307.145 L1865.43 307.145 L1865.43 281.219 M1865.43 271.126 L1869.68 271.126 L1869.68 276.52 L1865.43 276.52 L1865.43 271.126 Z\" fill=\"#000000\" fill-rule=\"evenodd\" fill-opacity=\"1\" /><path clip-path=\"url(#clip450)\" d=\"M 0 0 M1895.7 291.497 L1895.7 307.145 L1891.44 307.145 L1891.44 291.635 Q1891.44 287.955 1890.01 286.126 Q1888.57 284.298 1885.7 284.298 Q1882.25 284.298 1880.26 286.497 Q1878.27 288.696 1878.27 292.492 L1878.27 307.145 L1873.99 307.145 L1873.99 281.219 L1878.27 281.219 L1878.27 285.247 Q1879.8 282.909 1881.86 281.751 Q1883.94 280.594 1886.65 280.594 Q1891.12 280.594 1893.41 283.372 Q1895.7 286.126 1895.7 291.497 Z\" fill=\"#000000\" fill-rule=\"evenodd\" fill-opacity=\"1\" /><path clip-path=\"url(#clip450)\" d=\"M 0 0 M1904.38 273.858 L1904.38 281.219 L1913.16 281.219 L1913.16 284.529 L1904.38 284.529 L1904.38 298.603 Q1904.38 301.774 1905.24 302.677 Q1906.12 303.58 1908.78 303.58 L1913.16 303.58 L1913.16 307.145 L1908.78 307.145 Q1903.85 307.145 1901.98 305.316 Q1900.1 303.464 1900.1 298.603 L1900.1 284.529 L1896.98 284.529 L1896.98 281.219 L1900.1 281.219 L1900.1 273.858 L1904.38 273.858 Z\" fill=\"#000000\" fill-rule=\"evenodd\" fill-opacity=\"1\" /><path clip-path=\"url(#clip450)\" d=\"M 0 0 M1939.8 293.117 L1939.8 295.2 L1920.22 295.2 Q1920.49 299.598 1922.86 301.913 Q1925.24 304.205 1929.48 304.205 Q1931.93 304.205 1934.22 303.603 Q1936.54 303.001 1938.8 301.797 L1938.8 305.825 Q1936.51 306.797 1934.11 307.307 Q1931.7 307.816 1929.22 307.816 Q1923.02 307.816 1919.38 304.205 Q1915.77 300.594 1915.77 294.436 Q1915.77 288.071 1919.2 284.344 Q1922.65 280.594 1928.48 280.594 Q1933.71 280.594 1936.74 283.973 Q1939.8 287.33 1939.8 293.117 M1935.54 291.867 Q1935.49 288.372 1933.57 286.288 Q1931.67 284.205 1928.53 284.205 Q1924.96 284.205 1922.81 286.219 Q1920.68 288.233 1920.36 291.89 L1935.54 291.867 Z\" fill=\"#000000\" fill-rule=\"evenodd\" fill-opacity=\"1\" /><path clip-path=\"url(#clip450)\" d=\"M 0 0 M1961.33 293.881 Q1961.33 289.251 1959.41 286.705 Q1957.51 284.159 1954.06 284.159 Q1950.63 284.159 1948.71 286.705 Q1946.81 289.251 1946.81 293.881 Q1946.81 298.487 1948.71 301.034 Q1950.63 303.58 1954.06 303.58 Q1957.51 303.58 1959.41 301.034 Q1961.33 298.487 1961.33 293.881 M1965.59 303.927 Q1965.59 310.547 1962.65 313.765 Q1959.71 317.006 1953.64 317.006 Q1951.4 317.006 1949.41 316.658 Q1947.42 316.334 1945.54 315.64 L1945.54 311.496 Q1947.42 312.515 1949.24 313.001 Q1951.07 313.487 1952.97 313.487 Q1957.16 313.487 1959.24 311.288 Q1961.33 309.112 1961.33 304.691 L1961.33 302.584 Q1960.01 304.876 1957.95 306.01 Q1955.89 307.145 1953.02 307.145 Q1948.25 307.145 1945.33 303.51 Q1942.42 299.876 1942.42 293.881 Q1942.42 287.862 1945.33 284.228 Q1948.25 280.594 1953.02 280.594 Q1955.89 280.594 1957.95 281.728 Q1960.01 282.862 1961.33 285.154 L1961.33 281.219 L1965.59 281.219 L1965.59 303.927 Z\" fill=\"#000000\" fill-rule=\"evenodd\" fill-opacity=\"1\" /><path clip-path=\"url(#clip450)\" d=\"M 0 0 M1985.08 285.2 Q1984.36 284.784 1983.5 284.598 Q1982.67 284.39 1981.65 284.39 Q1978.04 284.39 1976.1 286.751 Q1974.17 289.089 1974.17 293.487 L1974.17 307.145 L1969.89 307.145 L1969.89 281.219 L1974.17 281.219 L1974.17 285.247 Q1975.52 282.886 1977.67 281.751 Q1979.82 280.594 1982.9 280.594 Q1983.34 280.594 1983.87 280.663 Q1984.41 280.71 1985.05 280.825 L1985.08 285.2 Z\" fill=\"#000000\" fill-rule=\"evenodd\" fill-opacity=\"1\" /><path clip-path=\"url(#clip450)\" d=\"M 0 0 M2001.33 294.112 Q1996.17 294.112 1994.17 295.293 Q1992.18 296.473 1992.18 299.321 Q1992.18 301.589 1993.67 302.932 Q1995.17 304.251 1997.74 304.251 Q2001.28 304.251 2003.41 301.751 Q2005.56 299.228 2005.56 295.061 L2005.56 294.112 L2001.33 294.112 M2009.82 292.353 L2009.82 307.145 L2005.56 307.145 L2005.56 303.209 Q2004.1 305.571 2001.93 306.705 Q1999.75 307.816 1996.6 307.816 Q1992.62 307.816 1990.26 305.594 Q1987.92 303.348 1987.92 299.598 Q1987.92 295.223 1990.84 293.001 Q1993.78 290.779 1999.59 290.779 L2005.56 290.779 L2005.56 290.362 Q2005.56 287.423 2003.62 285.825 Q2001.7 284.205 1998.2 284.205 Q1995.98 284.205 1993.87 284.737 Q1991.77 285.27 1989.82 286.335 L1989.82 282.399 Q1992.16 281.497 1994.36 281.057 Q1996.56 280.594 1998.64 280.594 Q2004.27 280.594 2007.04 283.511 Q2009.82 286.427 2009.82 292.353 Z\" fill=\"#000000\" fill-rule=\"evenodd\" fill-opacity=\"1\" /><path clip-path=\"url(#clip450)\" d=\"M 0 0 M2014.29 271.126 L2018.55 271.126 L2018.55 307.145 L2014.29 307.145 L2014.29 271.126 Z\" fill=\"#000000\" fill-rule=\"evenodd\" fill-opacity=\"1\" /><path clip-path=\"url(#clip450)\" d=\"M 0 0 M2059.64 291.497 L2059.64 307.145 L2055.38 307.145 L2055.38 291.635 Q2055.38 287.955 2053.94 286.126 Q2052.51 284.298 2049.64 284.298 Q2046.19 284.298 2044.2 286.497 Q2042.21 288.696 2042.21 292.492 L2042.21 307.145 L2037.92 307.145 L2037.92 281.219 L2042.21 281.219 L2042.21 285.247 Q2043.73 282.909 2045.79 281.751 Q2047.88 280.594 2050.59 280.594 Q2055.05 280.594 2057.35 283.372 Q2059.64 286.126 2059.64 291.497 Z\" fill=\"#000000\" fill-rule=\"evenodd\" fill-opacity=\"1\" /><path clip-path=\"url(#clip450)\" d=\"M 0 0 M2063.66 296.913 L2063.66 281.219 L2067.92 281.219 L2067.92 296.751 Q2067.92 300.432 2069.36 302.284 Q2070.79 304.112 2073.66 304.112 Q2077.11 304.112 2079.1 301.913 Q2081.12 299.714 2081.12 295.918 L2081.12 281.219 L2085.38 281.219 L2085.38 307.145 L2081.12 307.145 L2081.12 303.163 Q2079.57 305.524 2077.51 306.682 Q2075.47 307.816 2072.76 307.816 Q2068.29 307.816 2065.98 305.038 Q2063.66 302.26 2063.66 296.913 M2074.38 280.594 L2074.38 280.594 Z\" fill=\"#000000\" fill-rule=\"evenodd\" fill-opacity=\"1\" /><path clip-path=\"url(#clip450)\" d=\"M 0 0 M2110.03 286.196 Q2111.63 283.325 2113.85 281.96 Q2116.07 280.594 2119.08 280.594 Q2123.13 280.594 2125.33 283.441 Q2127.53 286.265 2127.53 291.497 L2127.53 307.145 L2123.25 307.145 L2123.25 291.635 Q2123.25 287.909 2121.93 286.103 Q2120.61 284.298 2117.9 284.298 Q2114.59 284.298 2112.67 286.497 Q2110.75 288.696 2110.75 292.492 L2110.75 307.145 L2106.47 307.145 L2106.47 291.635 Q2106.47 287.885 2105.15 286.103 Q2103.83 284.298 2101.07 284.298 Q2097.81 284.298 2095.89 286.52 Q2093.97 288.719 2093.97 292.492 L2093.97 307.145 L2089.68 307.145 L2089.68 281.219 L2093.97 281.219 L2093.97 285.247 Q2095.42 282.862 2097.46 281.728 Q2099.5 280.594 2102.3 280.594 Q2105.12 280.594 2107.09 282.029 Q2109.08 283.464 2110.03 286.196 Z\" fill=\"#000000\" fill-rule=\"evenodd\" fill-opacity=\"1\" /><path clip-path=\"url(#clip450)\" d=\"M 0 0 M2154.17 293.117 L2154.17 295.2 L2134.59 295.2 Q2134.87 299.598 2137.23 301.913 Q2139.61 304.205 2143.85 304.205 Q2146.3 304.205 2148.59 303.603 Q2150.91 303.001 2153.18 301.797 L2153.18 305.825 Q2150.89 306.797 2148.48 307.307 Q2146.07 307.816 2143.59 307.816 Q2137.39 307.816 2133.76 304.205 Q2130.15 300.594 2130.15 294.436 Q2130.15 288.071 2133.57 284.344 Q2137.02 280.594 2142.85 280.594 Q2148.09 280.594 2151.12 283.973 Q2154.17 287.33 2154.17 293.117 M2149.91 291.867 Q2149.87 288.372 2147.95 286.288 Q2146.05 284.205 2142.9 284.205 Q2139.34 284.205 2137.18 286.219 Q2135.05 288.233 2134.73 291.89 L2149.91 291.867 M2145.82 269.228 L2150.42 269.228 L2142.88 277.932 L2139.34 277.932 L2145.82 269.228 Z\" fill=\"#000000\" fill-rule=\"evenodd\" fill-opacity=\"1\" /><path clip-path=\"url(#clip450)\" d=\"M 0 0 M2173.66 285.2 Q2172.95 284.784 2172.09 284.598 Q2171.26 284.39 2170.24 284.39 Q2166.63 284.39 2164.68 286.751 Q2162.76 289.089 2162.76 293.487 L2162.76 307.145 L2158.48 307.145 L2158.48 281.219 L2162.76 281.219 L2162.76 285.247 Q2164.1 282.886 2166.26 281.751 Q2168.41 280.594 2171.49 280.594 Q2171.93 280.594 2172.46 280.663 Q2172.99 280.71 2173.64 280.825 L2173.66 285.2 Z\" fill=\"#000000\" fill-rule=\"evenodd\" fill-opacity=\"1\" /><path clip-path=\"url(#clip450)\" d=\"M 0 0 M2178.13 281.219 L2182.39 281.219 L2182.39 307.145 L2178.13 307.145 L2178.13 281.219 M2178.13 271.126 L2182.39 271.126 L2182.39 276.52 L2178.13 276.52 L2178.13 271.126 Z\" fill=\"#000000\" fill-rule=\"evenodd\" fill-opacity=\"1\" /><path clip-path=\"url(#clip450)\" d=\"M 0 0 M2205.52 282.214 L2205.52 286.196 Q2203.71 285.2 2201.88 284.714 Q2200.08 284.205 2198.22 284.205 Q2194.08 284.205 2191.79 286.844 Q2189.5 289.46 2189.5 294.205 Q2189.5 298.95 2191.79 301.589 Q2194.08 304.205 2198.22 304.205 Q2200.08 304.205 2201.88 303.719 Q2203.71 303.209 2205.52 302.214 L2205.52 306.149 Q2203.73 306.983 2201.81 307.399 Q2199.91 307.816 2197.76 307.816 Q2191.9 307.816 2188.46 304.135 Q2185.01 300.455 2185.01 294.205 Q2185.01 287.862 2188.48 284.228 Q2191.97 280.594 2198.04 280.594 Q2200.01 280.594 2201.88 281.011 Q2203.76 281.404 2205.52 282.214 Z\" fill=\"#000000\" fill-rule=\"evenodd\" fill-opacity=\"1\" /><path clip-path=\"url(#clip450)\" d=\"M 0 0 M2221.77 294.112 Q2216.6 294.112 2214.61 295.293 Q2212.62 296.473 2212.62 299.321 Q2212.62 301.589 2214.1 302.932 Q2215.61 304.251 2218.18 304.251 Q2221.72 304.251 2223.85 301.751 Q2226 299.228 2226 295.061 L2226 294.112 L2221.77 294.112 M2230.26 292.353 L2230.26 307.145 L2226 307.145 L2226 303.209 Q2224.54 305.571 2222.37 306.705 Q2220.19 307.816 2217.04 307.816 Q2213.06 307.816 2210.7 305.594 Q2208.36 303.348 2208.36 299.598 Q2208.36 295.223 2211.28 293.001 Q2214.22 290.779 2220.03 290.779 L2226 290.779 L2226 290.362 Q2226 287.423 2224.06 285.825 Q2222.14 284.205 2218.64 284.205 Q2216.42 284.205 2214.31 284.737 Q2212.21 285.27 2210.26 286.335 L2210.26 282.399 Q2212.6 281.497 2214.8 281.057 Q2217 280.594 2219.08 280.594 Q2224.71 280.594 2227.48 283.511 Q2230.26 286.427 2230.26 292.353 Z\" fill=\"#000000\" fill-rule=\"evenodd\" fill-opacity=\"1\" /></svg>\n"
      ]
     },
     "execution_count": 8,
     "metadata": {},
     "output_type": "execute_result"
    }
   ],
   "source": [
    "# dominio de la gráfica\n",
    "xs = range(1,stop=10,length=100)\n",
    "# subintervalos de la integral\n",
    "n = 50\n",
    "ys1 = [log(x) for x in xs]\n",
    "ys2 = [lnIntegral(x,n) for x in xs]\n",
    "plot(xs,ys1,label=\"Logaritmo original\",title=\"Integrales como funciones\")\n",
    "plot!(xs,ys2,label=\"Definición con integral numérica\")"
   ]
  },
  {
   "cell_type": "markdown",
   "metadata": {},
   "source": [
    "## Ejercicio 2\n",
    "La función $\\text{erf}(x)$ se define de la siguiente forma\n",
    "    \\begin{equation}\n",
    "        \\text{erf}(x) = \\frac{2}{\\sqrt{\\pi}} \\int_0^x e^{-t^2} dt\n",
    "    \\end{equation}\n",
    " Define una función `miErf(x,n)` que regresa el valor la función $\\text{erf}(x)$ al calcular la integral utilizando la regla de integración rectangular hacia adelante con $n$ subintervalos."
   ]
  },
  {
   "cell_type": "markdown",
   "metadata": {},
   "source": [
    "## Otras opciones para definir integrales mediante sumas de Riemman:\n",
    "\n",
    "### Segunda opción: $\\xi_i = x_{i-1}$ (Integral rectangular hacia atras)\n",
    "\n",
    "\n",
    "$$\n",
    "\\int_{a}^{b} f(s) ds \\approx h \\sum_{i=1}^{n}  f(\\xi_i) =  h \\sum_{i=1}^{n}  f(x_{i-1})\n",
    "$$"
   ]
  },
  {
   "cell_type": "markdown",
   "metadata": {},
   "source": [
    "## Ejercicio 3\n",
    "\n",
    "Implementa una función `intAtrás(f,a,b,n)` regrese el valor la integral $\\int_a^b f(s) \\; ds$ calculado utilizando la fórmula de la integral rectangular hacia atrás con $n$ subintervalos. Prueba tu función integrando la función  `prueba`."
   ]
  },
  {
   "cell_type": "markdown",
   "metadata": {},
   "source": [
    "### Tercera opción: tomar el punto medio $\\xi_i = \\frac{x_{i-1} + x_{i}}{2}$ (Integral rectangular Centrada o regla rectangular)\n",
    "\n",
    "$$\n",
    "\\int_{a}^{b} f(s) ds \\approx h \\sum_{i=1}^{n}  f(\\xi_i) =  h \\sum_{i=1}^{n}  f\\left( \\frac{x_{i-1} + x_{i}}{2} \\right) \n",
    "$$"
   ]
  },
  {
   "cell_type": "markdown",
   "metadata": {},
   "source": [
    "## Ejercicio 4\n",
    "\n",
    "Implementa una función `intCentrada(f,a,b,n)` regrese el valor la integral $\\int_a^b f(s) \\; ds$ calculado utilizando la fórmula de la regla centrada con $n$ subintervalos. Prueba tu función integrando la función  `prueba`."
   ]
  },
  {
   "cell_type": "markdown",
   "metadata": {},
   "source": [
    "## Ejercicio 5 \n",
    "\n",
    "Repite el ejercicio 1 pero ahora utilizando las reglas de integración del ejercicio 3 y 4. ¿la tasa de convergencia mejora con las nuevas reglas?"
   ]
  },
  {
   "cell_type": "markdown",
   "metadata": {},
   "source": [
    "## Ejercicio 6\n",
    "\n",
    "Repite el ejercicio 2 pero ahora utilizando las reglas de integración del ejercicio 3 y 4."
   ]
  },
  {
   "cell_type": "markdown",
   "metadata": {},
   "source": [
    "## Aproximación más compleja: regla trapezoidal"
   ]
  },
  {
   "cell_type": "markdown",
   "metadata": {},
   "source": [
    "Notemos que todas las aproximaciones rectangulares de la integral, por su construcción a partir de sumas de Riemann, aproximaban a la función $f(x)$ en cada intervalo $[x_i,x_{i+1}]$ como una función constante, es decir, un **polinomio de grado 0**. \n",
    "\n",
    "Una aproximación más compleja para la función en dicho intervalo sería aproximar a la función no como una constante si no como una recta (o un **polinomio de grado 1**) que pasa por los puntos $(x_i,f(x_i))$ y $(x_{i+1},f(x_{i+1}))$. Así, el area de la integral se aproxima como la siguiente figura\n",
    "\n",
    "![trapecio](https://lh3.googleusercontent.com/4fHTGTZ75EhLjV-Q40IbPn19RltRw41brDPh5hKa--Zq6tNj7eHtr5KS6u9rld0BbM80nVamEAfPEhnBTnC9bfL8ON7gVXfHOHLMC4crhZKTwsqAcFj4qv4QVvpw_bAY78Ak0AAslw=w400)"
   ]
  },
  {
   "cell_type": "markdown",
   "metadata": {},
   "source": [
    "## Ejercicio 7\n",
    "\n",
    "Deduce la fórmula para el valor de $\\int_{x_{i}}^{x_{i+1}} f(s) \\; ds$ cuando aproximamos la función como una recta. Es decir, da la fórmula para el área del trapecio en un intervalo $[x_i,x_{i+1}]$ de la figura anterior. La fórmula solo debe depender de $x_i,f(x_i), x_{i+1},f(x_{i+1})$ y $y$\n",
    "\n",
    "**Sugerencia:** Las áreas siempre son valores positivos, por lo que debes de tratar por separado los casos $f(x_{i}) \\geq f(x_{i+1})$ y   $f(x_{i}) \\leq f(x_{i+1})$. \n",
    "\n",
    "Aunque trates ambos casos por separado, la fórmula obtenida **debe de ser la misma para ambos**."
   ]
  },
  {
   "cell_type": "markdown",
   "metadata": {},
   "source": [
    "### Planteamiento de la regla\n",
    "\n",
    "Podemos explotar el ejercicio para crear una nueva regla de integración. Recordando que, dada una partición regular de orden $n$, se cumple que \n",
    "\n",
    "$$\n",
    "\\int_{a}^b f(s) \\; ds = \\sum_{i=0}^{n-1} \\int_{x_{i}}^{x_{i+1}} f(s) \\; ds\n",
    "$$\n",
    "\n",
    "Podemos entonces utilizar la fórmula de $\\int_{x_{i}}^{x_{i+1}} f(s) \\; ds$ que encontramos en el ejercicio anterior para calcular la integral en todo el intervalo $[a,b]$. A este método de cálculo de la integral se le llama la **regla trapezoidal**"
   ]
  },
  {
   "cell_type": "markdown",
   "metadata": {},
   "source": [
    "## Ejercicio 8\n",
    "\n",
    "Escribe una función `intTrapezoidal(f,a,b,n)` que regresa el valor de la integral $\\int_{a}^b f(s) \\; ds$ calculado utilizando la regla trapezoidal. Es decir, que para cada integral $\\int_{x{i}}^{x_{i+1}} f(s) \\; ds$ se calcula como el area de un trapecio."
   ]
  },
  {
   "cell_type": "markdown",
   "metadata": {},
   "source": [
    "## Ejercicio 9\n",
    "\n",
    "Repite el ejercicio 1 utilizando ahora la regla de integración trapezoidal. ¿Mejora la tasa de convergencia?"
   ]
  },
  {
   "cell_type": "markdown",
   "metadata": {},
   "source": [
    "## Aproximación avanzada: regla de Simpson\n",
    "\n",
    "Una regla todavía más avanzada para integrar consiste en ahora aproximar la función $f(x)$ como un **polinomio de grado 2** en un subintervalo de la partición. Sin embargo, para aproximar dicha función por un polinomio, como vimos en la clase de interpolación, necesitamos conocer tres puntos por los que pasa la función. \n",
    "\n",
    "Para todo lo que sigue, supondremos que el orden $n$ de la partición tomada para aproximar la integral es un número **par**. Recordando el notebook de interpolación, sabemos que el polinomio de grado 2 $P_i(x)$ que pasa por los puntos $(x_{i-1},f(x_{i-1}))$, $(x_i,f(x_i))$ y $(x_{i+1},f(x_{i+1}))$ esta dado por la ecuación\n",
    "\n",
    "\\begin{align}\n",
    "P_i(x) &= f(x_{i-1}) \\frac{(x-x_{i})(x-x_{i+1})}{(x_{i-1}-x_{i})(x_{i-1}-x_{i+1})} \\\\\n",
    " &+ f(x_{i}) \\frac{(x-x_{i-1})(x-x_{i+1})}{(x_{i}-x_{i-1})(x_{i}-x_{i+1})} \\\\\n",
    " &+ f(x_{i+1}) \\frac{(x-x_{i-1})(x-x_{i})}{(x_{i+1}-x_{i-1})(x_{i+1}-x_{i})} \\\\\n",
    "\\end{align}\n",
    "\n",
    "Así, podemos entonces aproximar la integral en el subintervalo $[x_{i-1},x_{i+1}]$ como\n",
    "\n",
    "$$\n",
    "\\int_{x_{i-1}}^{x_{i+1}} f(s) \\; ds \\approx \\int_{x_{i-1}}^{x_{i+1}} P_i(s) \\;ds\n",
    "$$"
   ]
  },
  {
   "cell_type": "markdown",
   "metadata": {},
   "source": [
    "### Ejercicio 10\n",
    "\n",
    "Demuestra, realizando la integración analíticamente, que\n",
    "\n",
    "$$\n",
    "\\int_{x_{i-1}}^{x_{i+1}} P_i(s) \\; ds = h \\left(\\frac{f(x_{i-1})}{3} + \\frac{4 f(x_{i})}{3} + \\frac{f(x_{i+1})}{3} \\right)\n",
    "$$\n"
   ]
  },
  {
   "cell_type": "markdown",
   "metadata": {},
   "source": [
    "### Planteamiento de la regla\n",
    "\n",
    "Podemos ahora, después de demostrar la fórmula del ejercicio 9, utilizar dicha fórmula para implementar una regla de integración, notando que\n",
    "\n",
    "$$\n",
    "\\int_{a}^b f(s) \\; ds = \\sum_{i=0}^{(n-2)/2} \\int_{x_{2i}}^{x_{2i+2}} f(s) \\; ds\n",
    "$$\n",
    "\n",
    "\n",
    "A esta regla de integración se le conoce como **regla de Simpson**"
   ]
  },
  {
   "cell_type": "markdown",
   "metadata": {},
   "source": [
    "## Ejercicio 11\n",
    "\n",
    "Implementa una función `intSimpson(f,a,b,n)` que regrese el valor de la integral $\\int_{a}^b f(s) \\; ds $ calculado mediante regla de Simpson."
   ]
  },
  {
   "cell_type": "markdown",
   "metadata": {},
   "source": [
    "## Ejercicio 12\n",
    "\n",
    "Repite el ejercicio 1 ahora utilizando la regla de Simpson y compara con los otros resultados. ¿Qué tanto mejora la tasa de convergencia?"
   ]
  },
  {
   "cell_type": "markdown",
   "metadata": {},
   "source": [
    "## La visión general"
   ]
  },
  {
   "cell_type": "markdown",
   "metadata": {},
   "source": [
    "Integrar funciones es un problema que surge todo el tiempo a la hora de hacer cómputo científico. Muchísimos problemas se descomponen, desde el punto de vista teórico, en hacer integrales (electromagnetismo, por ejemplo). Existen, debido a eso, una infinidad de reglas y aproximaciones para hacer integrales de funciones de manera numérica. \n",
    "\n",
    "El mayor desafío es cuando tenemos ya no integrales en una dimensión, sino integrales en varias dimensiones (a veces más de 20). En esos casos, las aproximaciones aquí mencionadas se pueden volver inútiles.\n",
    "\n",
    "Las reglas rectangulares no son muy usadas en aplicaciones reales pues convergen a una velocidad muy pequeña. Las regla de Simpson y la trapezoidal, por el contrario, son mucho más usadas.\n",
    "\n"
   ]
  },
  {
   "cell_type": "markdown",
   "metadata": {},
   "source": [
    "Existe una manera formal de estimar el error de las reglas de integración mostradas aquí. No quise enseñárselos por que, aunque sea importante, es más largo y complicado que los errores de derivación numérica. \n",
    "\n",
    "Pueden consultar como calcular dichos errores en el libro de Stickler (*Basic Concepts in Computational Physics*)"
   ]
  },
  {
   "cell_type": "code",
   "execution_count": null,
   "metadata": {},
   "outputs": [],
   "source": []
  }
 ],
 "metadata": {
  "kernelspec": {
   "display_name": "Julia 1.4.2",
   "language": "julia",
   "name": "julia-1.4"
  },
  "language_info": {
   "file_extension": ".jl",
   "mimetype": "application/julia",
   "name": "julia",
   "version": "1.4.2"
  }
 },
 "nbformat": 4,
 "nbformat_minor": 4
}
