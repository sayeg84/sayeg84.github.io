{
 "cells": [
  {
   "cell_type": "markdown",
   "metadata": {},
   "source": [
    "# Clase 3"
   ]
  },
  {
   "cell_type": "markdown",
   "metadata": {},
   "source": [
    "## Más funciones"
   ]
  },
  {
   "cell_type": "markdown",
   "metadata": {},
   "source": [
    "Aunque en principio pareciera que las funciones solo son una herramienta para ahorrarnos reescribir código que vayamos a utilizar varias veces, en realidad en Julia tienen una función más importante."
   ]
  },
  {
   "cell_type": "markdown",
   "metadata": {},
   "source": [
    "En Julia, aunque es un lenguaje interpretado, **todas las funciones pasan por un compilador que, entre otras cosas, las optimiza**. Así, al parecer Julia no es solamente interpretado, también es un lenguaje compilado de alguna manera."
   ]
  },
  {
   "cell_type": "markdown",
   "metadata": {},
   "source": [
    "Ya que las funciones se compilan, y por lo tanto se optimizan, eso quiere decir que lo mejor para hacer código en Julia **es meter todo el código en funciones y solo ejecutar dichas funciones**. En particular, la mayoría del código que les voy a pedir y que deben de entrar va a estar compuesto puramente de funciones."
   ]
  },
  {
   "cell_type": "markdown",
   "metadata": {},
   "source": [
    "### Ejemplo de función: implementar la fórmula de Herón para el área de un triángulo\n",
    "\n"
   ]
  },
  {
   "cell_type": "markdown",
   "metadata": {},
   "source": [
    "Si tenemos un triangulo con lados de longitud $a,b,c$, entonces podemos calcular su área con la siguiente ecuación:\n",
    "\n",
    "\\begin{equation}\n",
    "    Area = \\sqrt{s(s-a)(s-b)(s-c)}\n",
    "\\end{equation}\n",
    "\n",
    "Con $s = \\frac{1}{2}(a+b+c)$\n",
    "\n",
    "Vamos a hacer una función que implemente dicha fórmula"
   ]
  },
  {
   "cell_type": "code",
   "execution_count": 2,
   "metadata": {},
   "outputs": [
    {
     "data": {
      "text/plain": [
       "areaTriangulo (generic function with 1 method)"
      ]
     },
     "execution_count": 2,
     "metadata": {},
     "output_type": "execute_result"
    }
   ],
   "source": [
    "function areaTriangulo(a,b,c)\n",
    "    # calcular el valor de s\n",
    "    s = (1/2)*(a + b + c)\n",
    "    # calcularmos el area\n",
    "    area = sqrt(s*(s-a)*(s-b)*(s-c))\n",
    "    # lo regresamos\n",
    "    return area\n",
    "end"
   ]
  },
  {
   "cell_type": "markdown",
   "metadata": {},
   "source": [
    "Para un triangulo rectangulo inscrito en un cuadrado de lado 1, sabemos que su area es 1/2. Hay que probar la función `areaTriangulo` con este resultado. Para ese triangulo, sabemos $a=1$, $b=1$ y $c = \\sqrt{2}$"
   ]
  },
  {
   "cell_type": "code",
   "execution_count": 3,
   "metadata": {},
   "outputs": [
    {
     "data": {
      "text/plain": [
       "0.49999999999999983"
      ]
     },
     "execution_count": 3,
     "metadata": {},
     "output_type": "execute_result"
    }
   ],
   "source": [
    "areaTriangulo(1,1,sqrt(2))"
   ]
  },
  {
   "cell_type": "markdown",
   "metadata": {},
   "source": [
    "Todo parece estar correcto!"
   ]
  },
  {
   "cell_type": "markdown",
   "metadata": {},
   "source": [
    "## Enunciados más interesantes: estructuras If"
   ]
  },
  {
   "cell_type": "markdown",
   "metadata": {},
   "source": [
    "Para hacer código más interesante, nos gustaría tener una estructura que nos permitiera ejecutar distinto código dependiendo de si una **expresión booleana** sea verdadera o no"
   ]
  },
  {
   "cell_type": "markdown",
   "metadata": {},
   "source": [
    "Dicha estructura existe y se llama una **Estructura If**. hagamos un ejemplo muy sencillo: hagamos una función que nos calcule la función $f(x) = |x|$. Recordando la definición:\n",
    "\n",
    "\\begin{equation}\n",
    "|x| = \\begin{cases}\n",
    "x & x \\geq 0 \\\\\n",
    " -x & x< 0\n",
    "\\end{cases}\n",
    "\\end{equation}"
   ]
  },
  {
   "cell_type": "code",
   "execution_count": 4,
   "metadata": {},
   "outputs": [
    {
     "data": {
      "text/plain": [
       "valorAbsoluto (generic function with 1 method)"
      ]
     },
     "execution_count": 4,
     "metadata": {},
     "output_type": "execute_result"
    }
   ],
   "source": [
    "function valorAbsoluto(x)\n",
    "    if x >= 0\n",
    "        # se ejecuta cuando la expresion es verdadera\n",
    "        return x\n",
    "    else\n",
    "        # se ejecuta cuando la expresion es falsa\n",
    "        return -x\n",
    "    end\n",
    "end"
   ]
  },
  {
   "cell_type": "code",
   "execution_count": 5,
   "metadata": {},
   "outputs": [
    {
     "name": "stdout",
     "output_type": "stream",
     "text": [
      "9821\n"
     ]
    }
   ],
   "source": [
    "x = valorAbsoluto(-9821)\n",
    "println(x)"
   ]
  },
  {
   "cell_type": "code",
   "execution_count": 6,
   "metadata": {},
   "outputs": [
    {
     "data": {
      "text/plain": [
       "problemasCurso (generic function with 1 method)"
      ]
     },
     "execution_count": 6,
     "metadata": {},
     "output_type": "execute_result"
    }
   ],
   "source": [
    "function problemasCurso(alumnos,sillas)\n",
    "    if alumnos < 5\n",
    "        println(\"No se abre el grupo\")\n",
    "    else\n",
    "        println(\"El grupo si se abre\")\n",
    "        if alumnos > sillas\n",
    "            println(\"Algunos van a estar parados\")\n",
    "        else\n",
    "            println(\"Todos van a estar sentados\")\n",
    "        end\n",
    "    end\n",
    "end"
   ]
  },
  {
   "cell_type": "code",
   "execution_count": 7,
   "metadata": {},
   "outputs": [
    {
     "name": "stdout",
     "output_type": "stream",
     "text": [
      "El grupo si se abre\n",
      "Algunos van a estar parados\n"
     ]
    }
   ],
   "source": [
    "problemasCurso(36,20)"
   ]
  },
  {
   "cell_type": "markdown",
   "metadata": {},
   "source": [
    "Para sintetizar, la estructura if tiene la siguiente sintaxis\n",
    "\n",
    "```Julia\n",
    "if expresionBooleana\n",
    "    # se ejecuta solo si expresionBooleana es verdadero\n",
    "    instruc1\n",
    "    instruc2\n",
    "end\n",
    "```\n",
    "Cuando queremos que algo más se ejecute si la expresión es falsa\n",
    "```Julia\n",
    "if expresionBooleana\n",
    "    # se ejecuta solo si expresionBooleana es verdadero\n",
    "    instruc1\n",
    "    instruc2\n",
    "else\n",
    "    # se ejecuta si expresionBooleana es falsa\n",
    "    instruc3\n",
    "    instruc4\n",
    "end\n",
    "```"
   ]
  },
  {
   "cell_type": "markdown",
   "metadata": {},
   "source": [
    "## Ciclos While"
   ]
  },
  {
   "cell_type": "markdown",
   "metadata": {},
   "source": [
    "¿Qué sucede si, en lugar de ejecutar **una vez** un pedazo de código dependiendo de si es verdadera o no una expresión boolena, quisiera ejectuar unas lineas de código **mientras  una expresión sea verdadera**?"
   ]
  },
  {
   "cell_type": "markdown",
   "metadata": {},
   "source": [
    "Existe una estructura que permite eso. Es la llamada **Estructura While** o **Ciclo While**"
   ]
  },
  {
   "cell_type": "code",
   "execution_count": 8,
   "metadata": {},
   "outputs": [
    {
     "data": {
      "text/plain": [
       "ejemploSimpleWhile (generic function with 1 method)"
      ]
     },
     "execution_count": 8,
     "metadata": {},
     "output_type": "execute_result"
    }
   ],
   "source": [
    "function ejemploSimpleWhile(lim)\n",
    "    # defino `c` para que cuente cuantas veces estoy en el while\n",
    "    c = 1\n",
    "    # `lim` es el límite de repeticiones de while\n",
    "    while c <= lim\n",
    "        println(\"Estoy en el while\")\n",
    "        print(\"c vale: \")\n",
    "        println(c)\n",
    "        # aumenta el valor de c en 1\n",
    "        c = c + 1\n",
    "    end\n",
    "    println(\"Ya salí del While\")\n",
    "    print(\"c vale: \")\n",
    "    println(c)\n",
    "end"
   ]
  },
  {
   "cell_type": "code",
   "execution_count": 9,
   "metadata": {},
   "outputs": [
    {
     "name": "stdout",
     "output_type": "stream",
     "text": [
      "Estoy en el while\n",
      "c vale: 1\n",
      "Estoy en el while\n",
      "c vale: 2\n",
      "Estoy en el while\n",
      "c vale: 3\n",
      "Estoy en el while\n",
      "c vale: 4\n",
      "Estoy en el while\n",
      "c vale: 5\n",
      "Ya salí del While\n",
      "c vale: 6\n"
     ]
    }
   ],
   "source": [
    "ejemploSimpleWhile(5)"
   ]
  },
  {
   "cell_type": "markdown",
   "metadata": {},
   "source": [
    "### ¿Qué pasa si la expresión booleana del While nunca cambia y siempre es verdadera?"
   ]
  },
  {
   "cell_type": "markdown",
   "metadata": {},
   "source": [
    "En ese caso, el código se ejecuta **infinitamente**"
   ]
  },
  {
   "cell_type": "code",
   "execution_count": 10,
   "metadata": {},
   "outputs": [
    {
     "data": {
      "text/plain": [
       "whileMalo (generic function with 1 method)"
      ]
     },
     "execution_count": 10,
     "metadata": {},
     "output_type": "execute_result"
    }
   ],
   "source": [
    "function whileMalo(lim)\n",
    "    c = 1\n",
    "    while c <= lim\n",
    "        println(\"Estoy en el while\")\n",
    "    end\n",
    "    println(\"salí del while\")\n",
    "end"
   ]
  },
  {
   "cell_type": "markdown",
   "metadata": {},
   "source": [
    "Cuando se ejecuta infinitamente el código, por lo general el intérprete se traba y no podemos trabajar con él. **Hay que ser muy muy cuidadosos a la hora usar ciclos While**"
   ]
  },
  {
   "cell_type": "markdown",
   "metadata": {},
   "source": [
    "### ¿No hay algo menos peligroso que un ciclo While que permita que cierto código se repita?"
   ]
  },
  {
   "cell_type": "markdown",
   "metadata": {},
   "source": [
    "Si, si lo hay. Eso se llama un **ciclo For** y eso es el tema de la siguiente clase."
   ]
  },
  {
   "cell_type": "markdown",
   "metadata": {},
   "source": [
    "Para terminar, recordemos que la sintaxis del While es\n",
    "\n",
    "```Julia\n",
    "while expresionBooleana\n",
    "    instruccion1\n",
    "    instruccion2\n",
    "end\n",
    "```\n",
    "\n",
    "Se repite mientras la condicion booleana sea cierta."
   ]
  },
  {
   "cell_type": "markdown",
   "metadata": {},
   "source": [
    "## Introducción a las arreglos, listas y rangos"
   ]
  },
  {
   "cell_type": "markdown",
   "metadata": {},
   "source": [
    "En la clase 1 vimos que los **arreglos** eran una sucesión finita de objetos del mismo tipo. Para definir un arreglo, utilizamos la sintaxis siguiente:\n",
    "\n",
    "```Julia\n",
    "arreglo = [obj1,obj2,obj3]\n",
    "```"
   ]
  },
  {
   "cell_type": "markdown",
   "metadata": {},
   "source": [
    "En Julia, las posiciones se empiezan a contar desde 1. Es decir:\n",
    "* arreglo[1] = obj1\n",
    "* arreglo[2] = obj2"
   ]
  },
  {
   "cell_type": "code",
   "execution_count": 17,
   "metadata": {},
   "outputs": [
    {
     "name": "stdout",
     "output_type": "stream",
     "text": [
      "Array{Int64,1}\n",
      "1\n",
      "Array{Float64,1}\n",
      "4.0\n",
      "8.57\n"
     ]
    }
   ],
   "source": [
    "arreglo1 = [1,2,3,4,5,6,7,8]\n",
    "println(typeof(arreglo1))\n",
    "println(arreglo1[1])\n",
    "arreglo2 = [2.3,4.0,4.4,-9.23,8.57]\n",
    "println(typeof(arreglo2))\n",
    "println(arreglo2[2])\n",
    "# si utilizamos `end` accedemos al último elemento\n",
    "println(arreglo2[end])"
   ]
  },
  {
   "cell_type": "markdown",
   "metadata": {},
   "source": [
    "Las **listas** son sucesiones finitas de objetos de disntito tipo. Se definen igual que un arreglo."
   ]
  },
  {
   "cell_type": "code",
   "execution_count": 22,
   "metadata": {},
   "outputs": [
    {
     "name": "stdout",
     "output_type": "stream",
     "text": [
      "Array{Any,1}\n",
      "Aldo\n",
      "9.87\n"
     ]
    }
   ],
   "source": [
    "lista1 = [1,\"Aldo\",false,9.87]\n",
    "println(typeof(lista1))\n",
    "println(lista1[2])\n",
    "println(lista1[end])"
   ]
  },
  {
   "cell_type": "markdown",
   "metadata": {},
   "source": [
    "En Julia, hay algo todavía más sofisticado. Los **rangos**. Un rango es un intervalo de números definido por tres valores: el menor valor posible, el mayor valor posible, y la separación entre cada elemento\n",
    "\n",
    "La sintaxis de un rango es:\n",
    "\n",
    "```Julia\n",
    "rango1 = inicial:separacion:final\n",
    "```"
   ]
  },
  {
   "cell_type": "code",
   "execution_count": 27,
   "metadata": {},
   "outputs": [
    {
     "name": "stdout",
     "output_type": "stream",
     "text": [
      "[1, 2, 3, 4, 5, 6, 7, 8, 9, 10]\n",
      "[1.0, 2.2, 3.4, 4.6, 5.8, 7.0, 8.2, 9.4]\n",
      "[3.3, 4.3, 5.3]\n"
     ]
    }
   ],
   "source": [
    "rango1 = 1:1:10\n",
    "println(collect(rango1))\n",
    "rango2 = 1:1.2:10\n",
    "println(collect(rango2))\n",
    "# si no especifica la separacion, se asume que la separacion es 1\n",
    "rango3 = 3.3:5.3\n",
    "println(collect(rango3))"
   ]
  },
  {
   "cell_type": "markdown",
   "metadata": {},
   "source": [
    "### ¿Un rango es igual a un arreglo?"
   ]
  },
  {
   "cell_type": "markdown",
   "metadata": {},
   "source": [
    "**No**. Mientras que un arreglo de $n$ elementos, se tiene que representar en la memoria como $n$ elementos distintos, un rango que puede tener muchos elementos solo se representa en la memoria como tres cosas: el valor incial, la separacion y el limite superior.\n",
    "\n",
    "**Esto ahora mucha memoria** y nos permite describir más rápidamente un arreglo"
   ]
  },
  {
   "cell_type": "code",
   "execution_count": 28,
   "metadata": {},
   "outputs": [
    {
     "name": "stdout",
     "output_type": "stream",
     "text": [
      "[1, 2, 3, 4, 5, 6, 7, 8]\n"
     ]
    }
   ],
   "source": [
    "println(collect(1:8))"
   ]
  },
  {
   "cell_type": "code",
   "execution_count": 33,
   "metadata": {},
   "outputs": [
    {
     "name": "stdout",
     "output_type": "stream",
     "text": [
      "1:8\n"
     ]
    }
   ],
   "source": [
    "# imprimirlos así no me da mucha información\n",
    "println(1:8)"
   ]
  },
  {
   "cell_type": "markdown",
   "metadata": {},
   "source": [
    "La función `collect(ran)` convierte explícitamente un rango `ran` en un arreglo"
   ]
  },
  {
   "cell_type": "code",
   "execution_count": 34,
   "metadata": {},
   "outputs": [
    {
     "name": "stdout",
     "output_type": "stream",
     "text": [
      "UnitRange{Int64}\n",
      "Array{Int64,1}\n"
     ]
    }
   ],
   "source": [
    "println(typeof(1:8))\n",
    "# lo convierto con collect a un arreglo\n",
    "println(typeof(collect(1:8)))"
   ]
  },
  {
   "cell_type": "markdown",
   "metadata": {},
   "source": [
    "# Ejercicios "
   ]
  },
  {
   "cell_type": "markdown",
   "metadata": {},
   "source": [
    "1. Escribe una función que tome como argumento dos números reales $r$ y  $h$ y nos regrese el valor del volumen de un cono circular de radio $r$ y altura $h$.\n",
    "\n",
    "2. En un laboratorio se mide la concentración de monóxido de carbono en el aire. Si la concentración es menor a 0.05, no hay ningún problema de oxígenación. Si la concentración es mayor a 0.50, entonces hay un problema de oxigenación. Si la oxigenación está entre 0.05 y 0.50, entonces hay dos casos:\n",
    "\n",
    "\n",
    "* Si hay más de 20 personas en el laboratorio, entonces hay un riesgo de oxigenación. \n",
    "* Si hay menos de 20, entonces no hay ningún riesgo.\n",
    "\n",
    "Escribe una función que tome como argumento dos números `co` y `personas`, que representan, respectivamente, la concentración de monóxido de carbono y el número de personas en el cuarto, y nos imprima si hay o no un riesgo de oxigenación en el laboratorio.\n",
    "\n",
    "\n",
    "3. Escribe una función que tome como argumento un número real $x$ y regrese el valor de la función $f$, definida por\n",
    "\n",
    "\\begin{equation}\n",
    "    f(x) = \\begin{cases}\n",
    "    \\sqrt{x-3} & x \\geq 3 \\\\\n",
    "    -3x^2 & -1 \\leq x < 3 \\\\\n",
    "    2x - 1 & x < -1 \\\\\n",
    "    \\end{cases}\n",
    "\\end{equation}\n",
    "\n",
    "4. Escribe una función que tome como argumento un numero entero positivo `edad` e imprima el texto `saludos, tengo x años`, donde `x` es remplazado por cada uno de tus años, empezando en 1.\n",
    "\n",
    "**Sugerencia:** usar un ciclo While y utilizar las funciones `print` y `println`\n",
    "\n",
    "\n",
    "5. Mediante el uso de un ciclo While, escribe una función que tome como argumento tres números reales $a,b$ y $l$ con $a<b$ y $0<l<b-a$ e imprima en la pantalla todos los números reales $r$ de la forma $r = a+nl$ con $n \\in \\mathbb{N}$ tales que $a\\leq r \\leq b$.\n",
    "\n",
    "**Sugerencia:** primero construir a mano los valores toma que $r$, después pensar como irlos construyendo partiendo de $a$ y luego implementar eso desde un ciclo While.\n"
   ]
  },
  {
   "cell_type": "code",
   "execution_count": null,
   "metadata": {},
   "outputs": [],
   "source": []
  }
 ],
 "metadata": {
  "kernelspec": {
   "display_name": "Julia 1.4.2",
   "language": "julia",
   "name": "julia-1.4"
  },
  "language_info": {
   "file_extension": ".jl",
   "mimetype": "application/julia",
   "name": "julia",
   "version": "1.4.2"
  }
 },
 "nbformat": 4,
 "nbformat_minor": 4
}
