{
 "cells": [
  {
   "cell_type": "markdown",
   "metadata": {},
   "source": [
    "# Ecuaciones Diferenciales Parciales"
   ]
  },
  {
   "cell_type": "markdown",
   "metadata": {},
   "source": [
    "Aunque muchos fenónemos físicos se pueden modelar solamente utilizando ecuaciones diferenciales ordinarias, hay muchos otros que se deben de extender a ser modelados con **Ecuaciones Diferenciales Parciales**, es decir, ecuaciones diferenciales para funciones de varias variables. Las 4 ecuaciones diferenciales más importantes que surgen mucho en física son\n",
    "\n",
    "1. Ecuación de Calor \n",
    "\n",
    "$$\n",
    "\\frac{\\partial u}{\\partial t} = D \\nabla^2 u\n",
    "$$\n",
    "\n",
    "2. Ecuación de Poisson\n",
    "\n",
    "$$\n",
    " \\nabla^2 \\phi = f(\\mathbf{r})\n",
    "$$\n",
    "\n",
    "3. Ecuación de Onda\n",
    "\n",
    "$$\n",
    "\\frac{\\partial^2 u}{\\partial t^2} = c^2 \\nabla^2 u\n",
    "$$\n",
    "\n",
    "4. Ecuación de Schrödinger independiente del tiempo\n",
    "\n",
    "$$\n",
    "- \\left(\\frac{\\hbar}{2m}\\nabla^2 + V(\\mathbf{r}) \\right) \\psi = E \\psi\n",
    "$$\n",
    "\n",
    "Los cursos de Matemáticas Avanzadas muestran como resolver estos problemas de manera analítica. Sin embargo, nosotros lo haremos de manera numérica"
   ]
  },
  {
   "cell_type": "markdown",
   "metadata": {},
   "source": [
    "## Primer caso: la ecuación de calor en 1D\n",
    "\n",
    "Para empezar nuestra introducción a las ecuaciones diferenciales parciales, utilizaremos la ecuación de calor en una dimensión para comenzar de manera sencilla. En una dimensión, la ecuación se ve de la siguiente forma\n",
    "\n",
    "$$\n",
    "\\frac{\\partial u}{\\partial t} = D \\frac{\\partial^2 u}{\\partial x^2}\n",
    "$$\n",
    "\n",
    "Con $D>0$ una constante positiva llamada **constante de difusión**. $u(t,x)$ es entonces una función de dos variables. Por simplicidad, trataremos el caso en el que ambas variables están dentro de un intervalo cerrado de la forma $t \\in [0,t_f]$ y $x \\in [0,1]$. Si el dominio del tiempo y el espacio es finito, siempre podemos definir que está en un intervalo arbitrario usando adimensionalización.\n",
    "\n",
    "Para resolver esta ecuación, hay dos clases de condiciones que necesitamos: **condiciones iniciales** y **condiciones de frontera**. Las condiciones iniciales se describen mediante una función puramente espacial que toma la función $u$ en el tiempo $0$, es decir, se expresan de la forma\n",
    "\n",
    "$$\n",
    "u(0,x) = g(x)\n",
    "$$\n",
    "\n",
    "Las condiciones de frontera, por otro lado, son más complicadas."
   ]
  },
  {
   "cell_type": "markdown",
   "metadata": {},
   "source": [
    "## Preludio matemático: condiciones de Frontera\n",
    "\n",
    "Ya que nuestro dominio espacial no es todo el espacio si no un intervalo cerrado, necesitamos tener información sobre nuestra función en los dos extremos del intervalo $[0,1]$ para obtener una solución única. Las condiciones de frontera pueden darse de distintas maneras, pero las más frecuentes son:\n",
    "\n",
    "### Condiciones de Dirichlet\n",
    "\n",
    "En esa clase de condiciones, conocemos los valores que toma la función $u$ en los extremos:\n",
    "\n",
    "$$\n",
    "u(t,0) = f_0(t) \\quad ,\\quad u(t,1) = f_1(t)\n",
    "$$\n",
    "\n",
    "### Condiciones de Neumann\n",
    "\n",
    "En esa clase de condiciones, conocemos los valores que toma la **derivada parcial respecto a la dirección normal de la frontera** (que, en este caso, es la dirección $x$) de la función $u$ en los extremos:\n",
    "\n",
    "$$\n",
    "\\frac{\\partial u}{\\partial x}(t,0) = f_0(t) \\quad ,\\quad \\frac{\\partial u}{\\partial x}(t,1) = f_1(t)\n",
    "$$\n",
    "\n",
    "### Condiciones periódicas\n",
    "\n",
    "En esa clase de condiciones, suponemos que la función toma el mismo valor en ambos extremos de su frontera\n",
    "$$\n",
    "u(t,0) =  u(t,1) \n",
    "$$\n",
    "\n",
    "Estas condiciones a la frontera son particularmente importantes por que le dan una nueva interpretación a la geometría de nuestro dominio: en 1D, podemos pensar que nuestro dominio está conectado por un extremo, por lo que eso le da la geometría de un **anillo**"
   ]
  },
  {
   "cell_type": "markdown",
   "metadata": {},
   "source": [
    "## Preludio computacional: Funciones Anónimas\n",
    "\n",
    "Muchas veces deberemos darle como argumento a nuestras funciones para resolver ecuaciones diferenciales parciales las funciones correspondientes a las condiciones a la frontera e iniciales. Muchas veces dichas condiciones serán funciones muy parecidas o que dependen de un parámetro, por lo que conviene encontrar formas más compactas de definir funciones.\n",
    "\n",
    "Sabemos que es posible definir funciones utilizando la sintaxis ya conocida:\n",
    "\n",
    "```julia\n",
    "function ejemplo(x)\n",
    "    return (sin(x))^2 - 4\n",
    "end\n",
    "```\n",
    "\n",
    "Sin embargo, existe una forma abreviada de definir funciones. Podemos usar la siguiente sintaxis:\n",
    "\n",
    "```julia\n",
    "ejemplo2(x) = (sin(x))^2 -4\n",
    "```"
   ]
  },
  {
   "cell_type": "code",
   "execution_count": 16,
   "metadata": {
    "collapsed": true,
    "jupyter": {
     "outputs_hidden": true
    }
   },
   "outputs": [
    {
     "data": {
      "text/plain": [
       "ejemplo (generic function with 1 method)"
      ]
     },
     "execution_count": 16,
     "metadata": {},
     "output_type": "execute_result"
    }
   ],
   "source": [
    "function ejemplo(x)\n",
    "    return (sin(x))^2 - 4\n",
    "end"
   ]
  },
  {
   "cell_type": "code",
   "execution_count": 17,
   "metadata": {
    "collapsed": true,
    "jupyter": {
     "outputs_hidden": true
    }
   },
   "outputs": [
    {
     "data": {
      "text/plain": [
       "ejemplo2 (generic function with 1 method)"
      ]
     },
     "execution_count": 17,
     "metadata": {},
     "output_type": "execute_result"
    }
   ],
   "source": [
    "ejemplo2(x) = (sin(x))^2 -4"
   ]
  },
  {
   "cell_type": "code",
   "execution_count": 14,
   "metadata": {
    "collapsed": true,
    "jupyter": {
     "outputs_hidden": true
    }
   },
   "outputs": [
    {
     "name": "stdout",
     "output_type": "stream",
     "text": [
      "-3.843452780258203\n",
      "-3.843452780258203\n",
      "true\n"
     ]
    }
   ],
   "source": [
    "x = rand()\n",
    "println(ejemplo(x))\n",
    "println(ejemplo2(x))\n",
    "println(ejemplo(x) == ejemplo2(x))"
   ]
  },
  {
   "cell_type": "markdown",
   "metadata": {},
   "source": [
    "Sin embargo, existe todavía una manera más corta de definir funciones. En todos los casos anteriores, las funciones que hemos definido tienen una variable asignada para usarla, son funciones con un  **identificador**. Sin embargo, es posible definir funciones que no tengan una variable identificadora. Esas funciones se llaman **funciones anónimas** y se denotan mediante la siguiente sintaxis\n",
    "\n",
    "```julia\n",
    "x -> (sin(x)^2)-4\n",
    "```\n"
   ]
  },
  {
   "cell_type": "code",
   "execution_count": 19,
   "metadata": {
    "collapsed": true,
    "jupyter": {
     "outputs_hidden": true
    }
   },
   "outputs": [
    {
     "data": {
      "text/plain": [
       "#7 (generic function with 1 method)"
      ]
     },
     "execution_count": 19,
     "metadata": {},
     "output_type": "execute_result"
    }
   ],
   "source": [
    "x -> (sin(x)^2) - 4"
   ]
  },
  {
   "cell_type": "markdown",
   "metadata": {},
   "source": [
    "Notemos como no aparece ningún nombre a su lado, y julia simplemente le asigna un nombre `#num`. Sin embargo, nosotros podemos asignarlas a una variable y así tener una función no anónima"
   ]
  },
  {
   "cell_type": "code",
   "execution_count": 20,
   "metadata": {},
   "outputs": [
    {
     "data": {
      "text/plain": [
       "#9 (generic function with 1 method)"
      ]
     },
     "execution_count": 20,
     "metadata": {},
     "output_type": "execute_result"
    }
   ],
   "source": [
    "ejemplo3 = x -> (sin(x)^2) - 4"
   ]
  },
  {
   "cell_type": "code",
   "execution_count": 22,
   "metadata": {},
   "outputs": [
    {
     "name": "stdout",
     "output_type": "stream",
     "text": [
      "-3.8814222494666453\n",
      "true\n"
     ]
    }
   ],
   "source": [
    "y = rand()\n",
    "println(ejemplo3(y))\n",
    "println((ejemplo(y)==ejemplo3(y)) && (ejemplo2(y)==ejemplo3(y)))"
   ]
  },
  {
   "cell_type": "markdown",
   "metadata": {},
   "source": [
    "Usar funciones anónimas es particularmente útil si queremos darle una función como argumento a otra función pero no queremos perder tiempo asignándole una variable"
   ]
  },
  {
   "cell_type": "code",
   "execution_count": 23,
   "metadata": {},
   "outputs": [
    {
     "data": {
      "text/plain": [
       "evaluarYSumarCuatro (generic function with 1 method)"
      ]
     },
     "execution_count": 23,
     "metadata": {},
     "output_type": "execute_result"
    }
   ],
   "source": [
    "# funcion que toma  como argumento otra función y la evalúa en un punto\n",
    "function evaluarYSumarCuatro(f,x)\n",
    "    return f(x)+4\n",
    "end"
   ]
  },
  {
   "cell_type": "code",
   "execution_count": 26,
   "metadata": {},
   "outputs": [
    {
     "name": "stdout",
     "output_type": "stream",
     "text": [
      "85\n",
      "733\n"
     ]
    }
   ],
   "source": [
    "# evalúa la función f(x) = x^2 y le suma 4 en x = 9\n",
    "# debe regresar 85\n",
    "println(evaluarYSumarCuatro(x -> x^2,9))\n",
    "# evalúa la función f(x) = x^3 y le suma 4 en x = 9\n",
    "# debe regresar 733\n",
    "println(evaluarYSumarCuatro(x -> x^3,9))"
   ]
  },
  {
   "cell_type": "markdown",
   "metadata": {},
   "source": [
    "Las funciones anónimas también nos permiten tomar funciones que tomen varios argumentos y convertirlas en funciones de un solo argumento. \n",
    "\n",
    "Por ejemplo, supongamos que queremos hacer la misma **gráfica en una sola figura** (i.e no quiero varias curvas en una sola figura, si no una figura por curva) para una función\n",
    "\n",
    "$$\n",
    "f(x) = \\frac{1}{\\sqrt{2\\pi\\sigma^2}} \\exp{\\left[ -\\frac{1}{2} \\left( \\frac{x-\\mu}{\\sigma}\\right)^2 \\right]}\n",
    "$$\n",
    "\n",
    "Con distintos valores de $\\mu$, $\\sigma$"
   ]
  },
  {
   "cell_type": "code",
   "execution_count": 27,
   "metadata": {},
   "outputs": [],
   "source": [
    "using Plots"
   ]
  },
  {
   "cell_type": "code",
   "execution_count": 31,
   "metadata": {},
   "outputs": [
    {
     "data": {
      "text/plain": [
       "graficar (generic function with 1 method)"
      ]
     },
     "execution_count": 31,
     "metadata": {},
     "output_type": "execute_result"
    }
   ],
   "source": [
    "# función que hace las gráfica que quiero de $f$\n",
    "# f debe de ser una función de una sola variable\n",
    "function graficar(xs,f)\n",
    "    ys = [f(x) for x in xs]\n",
    "    p = plot(xs,ys,label=\"datos\")\n",
    "    xlabel!(\"x\")\n",
    "    ylabel!(\"y\")\n",
    "    title!(\"La gráfica que quiero\")\n",
    "    # muestra la gráfica\n",
    "    display(p)\n",
    "end"
   ]
  },
  {
   "cell_type": "code",
   "execution_count": 29,
   "metadata": {},
   "outputs": [
    {
     "data": {
      "image/svg+xml": [
       "<?xml version=\"1.0\" encoding=\"utf-8\"?>\n",
       "<svg xmlns=\"http://www.w3.org/2000/svg\" xmlns:xlink=\"http://www.w3.org/1999/xlink\" width=\"600\" height=\"400\" viewBox=\"0 0 2400 1600\">\n",
       "<defs>\n",
       "  <clipPath id=\"clip050\">\n",
       "    <rect x=\"0\" y=\"0\" width=\"2400\" height=\"1600\"/>\n",
       "  </clipPath>\n",
       "</defs>\n",
       "<path clip-path=\"url(#clip050)\" d=\"\n",
       "M0 1600 L2400 1600 L2400 0 L0 0  Z\n",
       "  \" fill=\"#ffffff\" fill-rule=\"evenodd\" fill-opacity=\"1\"/>\n",
       "<defs>\n",
       "  <clipPath id=\"clip051\">\n",
       "    <rect x=\"480\" y=\"0\" width=\"1681\" height=\"1600\"/>\n",
       "  </clipPath>\n",
       "</defs>\n",
       "<path clip-path=\"url(#clip050)\" d=\"\n",
       "M225.723 1423.18 L2352.76 1423.18 L2352.76 123.472 L225.723 123.472  Z\n",
       "  \" fill=\"#ffffff\" fill-rule=\"evenodd\" fill-opacity=\"1\"/>\n",
       "<defs>\n",
       "  <clipPath id=\"clip052\">\n",
       "    <rect x=\"225\" y=\"123\" width=\"2128\" height=\"1301\"/>\n",
       "  </clipPath>\n",
       "</defs>\n",
       "<polyline clip-path=\"url(#clip052)\" style=\"stroke:#000000; stroke-width:2; stroke-opacity:0.1; fill:none\" points=\"\n",
       "  285.922,1423.18 285.922,123.472 \n",
       "  \"/>\n",
       "<polyline clip-path=\"url(#clip052)\" style=\"stroke:#000000; stroke-width:2; stroke-opacity:0.1; fill:none\" points=\"\n",
       "  787.581,1423.18 787.581,123.472 \n",
       "  \"/>\n",
       "<polyline clip-path=\"url(#clip052)\" style=\"stroke:#000000; stroke-width:2; stroke-opacity:0.1; fill:none\" points=\"\n",
       "  1289.24,1423.18 1289.24,123.472 \n",
       "  \"/>\n",
       "<polyline clip-path=\"url(#clip052)\" style=\"stroke:#000000; stroke-width:2; stroke-opacity:0.1; fill:none\" points=\"\n",
       "  1790.9,1423.18 1790.9,123.472 \n",
       "  \"/>\n",
       "<polyline clip-path=\"url(#clip052)\" style=\"stroke:#000000; stroke-width:2; stroke-opacity:0.1; fill:none\" points=\"\n",
       "  2292.56,1423.18 2292.56,123.472 \n",
       "  \"/>\n",
       "<polyline clip-path=\"url(#clip052)\" style=\"stroke:#000000; stroke-width:2; stroke-opacity:0.1; fill:none\" points=\"\n",
       "  225.723,1386.4 2352.76,1386.4 \n",
       "  \"/>\n",
       "<polyline clip-path=\"url(#clip052)\" style=\"stroke:#000000; stroke-width:2; stroke-opacity:0.1; fill:none\" points=\"\n",
       "  225.723,1079.86 2352.76,1079.86 \n",
       "  \"/>\n",
       "<polyline clip-path=\"url(#clip052)\" style=\"stroke:#000000; stroke-width:2; stroke-opacity:0.1; fill:none\" points=\"\n",
       "  225.723,773.326 2352.76,773.326 \n",
       "  \"/>\n",
       "<polyline clip-path=\"url(#clip052)\" style=\"stroke:#000000; stroke-width:2; stroke-opacity:0.1; fill:none\" points=\"\n",
       "  225.723,466.791 2352.76,466.791 \n",
       "  \"/>\n",
       "<polyline clip-path=\"url(#clip052)\" style=\"stroke:#000000; stroke-width:2; stroke-opacity:0.1; fill:none\" points=\"\n",
       "  225.723,160.256 2352.76,160.256 \n",
       "  \"/>\n",
       "<polyline clip-path=\"url(#clip050)\" style=\"stroke:#000000; stroke-width:4; stroke-opacity:1; fill:none\" points=\"\n",
       "  225.723,1423.18 2352.76,1423.18 \n",
       "  \"/>\n",
       "<polyline clip-path=\"url(#clip050)\" style=\"stroke:#000000; stroke-width:4; stroke-opacity:1; fill:none\" points=\"\n",
       "  225.723,1423.18 225.723,123.472 \n",
       "  \"/>\n",
       "<polyline clip-path=\"url(#clip050)\" style=\"stroke:#000000; stroke-width:4; stroke-opacity:1; fill:none\" points=\"\n",
       "  285.922,1423.18 285.922,1407.58 \n",
       "  \"/>\n",
       "<polyline clip-path=\"url(#clip050)\" style=\"stroke:#000000; stroke-width:4; stroke-opacity:1; fill:none\" points=\"\n",
       "  787.581,1423.18 787.581,1407.58 \n",
       "  \"/>\n",
       "<polyline clip-path=\"url(#clip050)\" style=\"stroke:#000000; stroke-width:4; stroke-opacity:1; fill:none\" points=\"\n",
       "  1289.24,1423.18 1289.24,1407.58 \n",
       "  \"/>\n",
       "<polyline clip-path=\"url(#clip050)\" style=\"stroke:#000000; stroke-width:4; stroke-opacity:1; fill:none\" points=\"\n",
       "  1790.9,1423.18 1790.9,1407.58 \n",
       "  \"/>\n",
       "<polyline clip-path=\"url(#clip050)\" style=\"stroke:#000000; stroke-width:4; stroke-opacity:1; fill:none\" points=\"\n",
       "  2292.56,1423.18 2292.56,1407.58 \n",
       "  \"/>\n",
       "<polyline clip-path=\"url(#clip050)\" style=\"stroke:#000000; stroke-width:4; stroke-opacity:1; fill:none\" points=\"\n",
       "  225.723,1386.4 251.247,1386.4 \n",
       "  \"/>\n",
       "<polyline clip-path=\"url(#clip050)\" style=\"stroke:#000000; stroke-width:4; stroke-opacity:1; fill:none\" points=\"\n",
       "  225.723,1079.86 251.247,1079.86 \n",
       "  \"/>\n",
       "<polyline clip-path=\"url(#clip050)\" style=\"stroke:#000000; stroke-width:4; stroke-opacity:1; fill:none\" points=\"\n",
       "  225.723,773.326 251.247,773.326 \n",
       "  \"/>\n",
       "<polyline clip-path=\"url(#clip050)\" style=\"stroke:#000000; stroke-width:4; stroke-opacity:1; fill:none\" points=\"\n",
       "  225.723,466.791 251.247,466.791 \n",
       "  \"/>\n",
       "<polyline clip-path=\"url(#clip050)\" style=\"stroke:#000000; stroke-width:4; stroke-opacity:1; fill:none\" points=\"\n",
       "  225.723,160.256 251.247,160.256 \n",
       "  \"/>\n",
       "<path clip-path=\"url(#clip050)\" d=\"M 0 0 M253.931 1445.17 Q250.32 1445.17 248.491 1448.74 Q246.686 1452.28 246.686 1459.41 Q246.686 1466.51 248.491 1470.08 Q250.32 1473.62 253.931 1473.62 Q257.565 1473.62 259.371 1470.08 Q261.2 1466.51 261.2 1459.41 Q261.2 1452.28 259.371 1448.74 Q257.565 1445.17 253.931 1445.17 M253.931 1441.47 Q259.741 1441.47 262.797 1446.07 Q265.876 1450.66 265.876 1459.41 Q265.876 1468.13 262.797 1472.74 Q259.741 1477.32 253.931 1477.32 Q248.121 1477.32 245.042 1472.74 Q241.987 1468.13 241.987 1459.41 Q241.987 1450.66 245.042 1446.07 Q248.121 1441.47 253.931 1441.47 Z\" fill=\"#000000\" fill-rule=\"evenodd\" fill-opacity=\"1\" /><path clip-path=\"url(#clip050)\" d=\"M 0 0 M270.945 1470.77 L275.829 1470.77 L275.829 1476.65 L270.945 1476.65 L270.945 1470.77 Z\" fill=\"#000000\" fill-rule=\"evenodd\" fill-opacity=\"1\" /><path clip-path=\"url(#clip050)\" d=\"M 0 0 M290.899 1445.17 Q287.288 1445.17 285.459 1448.74 Q283.653 1452.28 283.653 1459.41 Q283.653 1466.51 285.459 1470.08 Q287.288 1473.62 290.899 1473.62 Q294.533 1473.62 296.338 1470.08 Q298.167 1466.51 298.167 1459.41 Q298.167 1452.28 296.338 1448.74 Q294.533 1445.17 290.899 1445.17 M290.899 1441.47 Q296.709 1441.47 299.764 1446.07 Q302.843 1450.66 302.843 1459.41 Q302.843 1468.13 299.764 1472.74 Q296.709 1477.32 290.899 1477.32 Q285.088 1477.32 282.01 1472.74 Q278.954 1468.13 278.954 1459.41 Q278.954 1450.66 282.01 1446.07 Q285.088 1441.47 290.899 1441.47 Z\" fill=\"#000000\" fill-rule=\"evenodd\" fill-opacity=\"1\" /><path clip-path=\"url(#clip050)\" d=\"M 0 0 M317.912 1445.17 Q314.301 1445.17 312.473 1448.74 Q310.667 1452.28 310.667 1459.41 Q310.667 1466.51 312.473 1470.08 Q314.301 1473.62 317.912 1473.62 Q321.547 1473.62 323.352 1470.08 Q325.181 1466.51 325.181 1459.41 Q325.181 1452.28 323.352 1448.74 Q321.547 1445.17 317.912 1445.17 M317.912 1441.47 Q323.722 1441.47 326.778 1446.07 Q329.857 1450.66 329.857 1459.41 Q329.857 1468.13 326.778 1472.74 Q323.722 1477.32 317.912 1477.32 Q312.102 1477.32 309.023 1472.74 Q305.968 1468.13 305.968 1459.41 Q305.968 1450.66 309.023 1446.07 Q312.102 1441.47 317.912 1441.47 Z\" fill=\"#000000\" fill-rule=\"evenodd\" fill-opacity=\"1\" /><path clip-path=\"url(#clip050)\" d=\"M 0 0 M756.886 1445.17 Q753.275 1445.17 751.446 1448.74 Q749.641 1452.28 749.641 1459.41 Q749.641 1466.51 751.446 1470.08 Q753.275 1473.62 756.886 1473.62 Q760.52 1473.62 762.326 1470.08 Q764.155 1466.51 764.155 1459.41 Q764.155 1452.28 762.326 1448.74 Q760.52 1445.17 756.886 1445.17 M756.886 1441.47 Q762.696 1441.47 765.752 1446.07 Q768.831 1450.66 768.831 1459.41 Q768.831 1468.13 765.752 1472.74 Q762.696 1477.32 756.886 1477.32 Q751.076 1477.32 747.997 1472.74 Q744.942 1468.13 744.942 1459.41 Q744.942 1450.66 747.997 1446.07 Q751.076 1441.47 756.886 1441.47 Z\" fill=\"#000000\" fill-rule=\"evenodd\" fill-opacity=\"1\" /><path clip-path=\"url(#clip050)\" d=\"M 0 0 M773.9 1470.77 L778.784 1470.77 L778.784 1476.65 L773.9 1476.65 L773.9 1470.77 Z\" fill=\"#000000\" fill-rule=\"evenodd\" fill-opacity=\"1\" /><path clip-path=\"url(#clip050)\" d=\"M 0 0 M787.881 1472.72 L804.201 1472.72 L804.201 1476.65 L782.256 1476.65 L782.256 1472.72 Q784.919 1469.96 789.502 1465.33 Q794.108 1460.68 795.289 1459.34 Q797.534 1456.81 798.414 1455.08 Q799.317 1453.32 799.317 1451.63 Q799.317 1448.87 797.372 1447.14 Q795.451 1445.4 792.349 1445.4 Q790.15 1445.4 787.696 1446.17 Q785.266 1446.93 782.488 1448.48 L782.488 1443.76 Q785.312 1442.62 787.766 1442.05 Q790.219 1441.47 792.256 1441.47 Q797.627 1441.47 800.821 1444.15 Q804.016 1446.84 804.016 1451.33 Q804.016 1453.46 803.205 1455.38 Q802.418 1457.28 800.312 1459.87 Q799.733 1460.54 796.631 1463.76 Q793.53 1466.95 787.881 1472.72 Z\" fill=\"#000000\" fill-rule=\"evenodd\" fill-opacity=\"1\" /><path clip-path=\"url(#clip050)\" d=\"M 0 0 M809.317 1442.09 L827.673 1442.09 L827.673 1446.03 L813.599 1446.03 L813.599 1454.5 Q814.617 1454.15 815.636 1453.99 Q816.654 1453.8 817.673 1453.8 Q823.46 1453.8 826.84 1456.98 Q830.219 1460.15 830.219 1465.56 Q830.219 1471.14 826.747 1474.24 Q823.275 1477.32 816.955 1477.32 Q814.779 1477.32 812.511 1476.95 Q810.266 1476.58 807.858 1475.84 L807.858 1471.14 Q809.942 1472.28 812.164 1472.83 Q814.386 1473.39 816.863 1473.39 Q820.867 1473.39 823.205 1471.28 Q825.543 1469.18 825.543 1465.56 Q825.543 1461.95 823.205 1459.85 Q820.867 1457.74 816.863 1457.74 Q814.988 1457.74 813.113 1458.16 Q811.261 1458.57 809.317 1459.45 L809.317 1442.09 Z\" fill=\"#000000\" fill-rule=\"evenodd\" fill-opacity=\"1\" /><path clip-path=\"url(#clip050)\" d=\"M 0 0 M1257.75 1445.17 Q1254.14 1445.17 1252.31 1448.74 Q1250.5 1452.28 1250.5 1459.41 Q1250.5 1466.51 1252.31 1470.08 Q1254.14 1473.62 1257.75 1473.62 Q1261.38 1473.62 1263.19 1470.08 Q1265.01 1466.51 1265.01 1459.41 Q1265.01 1452.28 1263.19 1448.74 Q1261.38 1445.17 1257.75 1445.17 M1257.75 1441.47 Q1263.56 1441.47 1266.61 1446.07 Q1269.69 1450.66 1269.69 1459.41 Q1269.69 1468.13 1266.61 1472.74 Q1263.56 1477.32 1257.75 1477.32 Q1251.94 1477.32 1248.86 1472.74 Q1245.8 1468.13 1245.8 1459.41 Q1245.8 1450.66 1248.86 1446.07 Q1251.94 1441.47 1257.75 1441.47 Z\" fill=\"#000000\" fill-rule=\"evenodd\" fill-opacity=\"1\" /><path clip-path=\"url(#clip050)\" d=\"M 0 0 M1274.76 1470.77 L1279.64 1470.77 L1279.64 1476.65 L1274.76 1476.65 L1274.76 1470.77 Z\" fill=\"#000000\" fill-rule=\"evenodd\" fill-opacity=\"1\" /><path clip-path=\"url(#clip050)\" d=\"M 0 0 M1284.76 1442.09 L1303.12 1442.09 L1303.12 1446.03 L1289.04 1446.03 L1289.04 1454.5 Q1290.06 1454.15 1291.08 1453.99 Q1292.1 1453.8 1293.12 1453.8 Q1298.9 1453.8 1302.28 1456.98 Q1305.66 1460.15 1305.66 1465.56 Q1305.66 1471.14 1302.19 1474.24 Q1298.72 1477.32 1292.4 1477.32 Q1290.22 1477.32 1287.95 1476.95 Q1285.71 1476.58 1283.3 1475.84 L1283.3 1471.14 Q1285.39 1472.28 1287.61 1472.83 Q1289.83 1473.39 1292.31 1473.39 Q1296.31 1473.39 1298.65 1471.28 Q1300.99 1469.18 1300.99 1465.56 Q1300.99 1461.95 1298.65 1459.85 Q1296.31 1457.74 1292.31 1457.74 Q1290.43 1457.74 1288.56 1458.16 Q1286.7 1458.57 1284.76 1459.45 L1284.76 1442.09 Z\" fill=\"#000000\" fill-rule=\"evenodd\" fill-opacity=\"1\" /><path clip-path=\"url(#clip050)\" d=\"M 0 0 M1320.73 1445.17 Q1317.12 1445.17 1315.29 1448.74 Q1313.49 1452.28 1313.49 1459.41 Q1313.49 1466.51 1315.29 1470.08 Q1317.12 1473.62 1320.73 1473.62 Q1324.37 1473.62 1326.17 1470.08 Q1328 1466.51 1328 1459.41 Q1328 1452.28 1326.17 1448.74 Q1324.37 1445.17 1320.73 1445.17 M1320.73 1441.47 Q1326.54 1441.47 1329.6 1446.07 Q1332.68 1450.66 1332.68 1459.41 Q1332.68 1468.13 1329.6 1472.74 Q1326.54 1477.32 1320.73 1477.32 Q1314.92 1477.32 1311.84 1472.74 Q1308.79 1468.13 1308.79 1459.41 Q1308.79 1450.66 1311.84 1446.07 Q1314.92 1441.47 1320.73 1441.47 Z\" fill=\"#000000\" fill-rule=\"evenodd\" fill-opacity=\"1\" /><path clip-path=\"url(#clip050)\" d=\"M 0 0 M1759.86 1445.17 Q1756.25 1445.17 1754.42 1448.74 Q1752.61 1452.28 1752.61 1459.41 Q1752.61 1466.51 1754.42 1470.08 Q1756.25 1473.62 1759.86 1473.62 Q1763.49 1473.62 1765.3 1470.08 Q1767.13 1466.51 1767.13 1459.41 Q1767.13 1452.28 1765.3 1448.74 Q1763.49 1445.17 1759.86 1445.17 M1759.86 1441.47 Q1765.67 1441.47 1768.72 1446.07 Q1771.8 1450.66 1771.8 1459.41 Q1771.8 1468.13 1768.72 1472.74 Q1765.67 1477.32 1759.86 1477.32 Q1754.05 1477.32 1750.97 1472.74 Q1747.91 1468.13 1747.91 1459.41 Q1747.91 1450.66 1750.97 1446.07 Q1754.05 1441.47 1759.86 1441.47 Z\" fill=\"#000000\" fill-rule=\"evenodd\" fill-opacity=\"1\" /><path clip-path=\"url(#clip050)\" d=\"M 0 0 M1776.87 1470.77 L1781.75 1470.77 L1781.75 1476.65 L1776.87 1476.65 L1776.87 1470.77 Z\" fill=\"#000000\" fill-rule=\"evenodd\" fill-opacity=\"1\" /><path clip-path=\"url(#clip050)\" d=\"M 0 0 M1785.64 1442.09 L1807.87 1442.09 L1807.87 1444.08 L1795.32 1476.65 L1790.44 1476.65 L1802.24 1446.03 L1785.64 1446.03 L1785.64 1442.09 Z\" fill=\"#000000\" fill-rule=\"evenodd\" fill-opacity=\"1\" /><path clip-path=\"url(#clip050)\" d=\"M 0 0 M1812.98 1442.09 L1831.34 1442.09 L1831.34 1446.03 L1817.26 1446.03 L1817.26 1454.5 Q1818.28 1454.15 1819.3 1453.99 Q1820.32 1453.8 1821.34 1453.8 Q1827.12 1453.8 1830.5 1456.98 Q1833.88 1460.15 1833.88 1465.56 Q1833.88 1471.14 1830.41 1474.24 Q1826.94 1477.32 1820.62 1477.32 Q1818.44 1477.32 1816.18 1476.95 Q1813.93 1476.58 1811.52 1475.84 L1811.52 1471.14 Q1813.61 1472.28 1815.83 1472.83 Q1818.05 1473.39 1820.53 1473.39 Q1824.53 1473.39 1826.87 1471.28 Q1829.21 1469.18 1829.21 1465.56 Q1829.21 1461.95 1826.87 1459.85 Q1824.53 1457.74 1820.53 1457.74 Q1818.65 1457.74 1816.78 1458.16 Q1814.93 1458.57 1812.98 1459.45 L1812.98 1442.09 Z\" fill=\"#000000\" fill-rule=\"evenodd\" fill-opacity=\"1\" /><path clip-path=\"url(#clip050)\" d=\"M 0 0 M2250.95 1472.72 L2258.59 1472.72 L2258.59 1446.35 L2250.28 1448.02 L2250.28 1443.76 L2258.54 1442.09 L2263.22 1442.09 L2263.22 1472.72 L2270.86 1472.72 L2270.86 1476.65 L2250.95 1476.65 L2250.95 1472.72 Z\" fill=\"#000000\" fill-rule=\"evenodd\" fill-opacity=\"1\" /><path clip-path=\"url(#clip050)\" d=\"M 0 0 M2275.92 1470.77 L2280.81 1470.77 L2280.81 1476.65 L2275.92 1476.65 L2275.92 1470.77 Z\" fill=\"#000000\" fill-rule=\"evenodd\" fill-opacity=\"1\" /><path clip-path=\"url(#clip050)\" d=\"M 0 0 M2295.88 1445.17 Q2292.27 1445.17 2290.44 1448.74 Q2288.63 1452.28 2288.63 1459.41 Q2288.63 1466.51 2290.44 1470.08 Q2292.27 1473.62 2295.88 1473.62 Q2299.51 1473.62 2301.32 1470.08 Q2303.15 1466.51 2303.15 1459.41 Q2303.15 1452.28 2301.32 1448.74 Q2299.51 1445.17 2295.88 1445.17 M2295.88 1441.47 Q2301.69 1441.47 2304.74 1446.07 Q2307.82 1450.66 2307.82 1459.41 Q2307.82 1468.13 2304.74 1472.74 Q2301.69 1477.32 2295.88 1477.32 Q2290.07 1477.32 2286.99 1472.74 Q2283.93 1468.13 2283.93 1459.41 Q2283.93 1450.66 2286.99 1446.07 Q2290.07 1441.47 2295.88 1441.47 Z\" fill=\"#000000\" fill-rule=\"evenodd\" fill-opacity=\"1\" /><path clip-path=\"url(#clip050)\" d=\"M 0 0 M2322.89 1445.17 Q2319.28 1445.17 2317.45 1448.74 Q2315.65 1452.28 2315.65 1459.41 Q2315.65 1466.51 2317.45 1470.08 Q2319.28 1473.62 2322.89 1473.62 Q2326.53 1473.62 2328.33 1470.08 Q2330.16 1466.51 2330.16 1459.41 Q2330.16 1452.28 2328.33 1448.74 Q2326.53 1445.17 2322.89 1445.17 M2322.89 1441.47 Q2328.7 1441.47 2331.76 1446.07 Q2334.84 1450.66 2334.84 1459.41 Q2334.84 1468.13 2331.76 1472.74 Q2328.7 1477.32 2322.89 1477.32 Q2317.08 1477.32 2314 1472.74 Q2310.95 1468.13 2310.95 1459.41 Q2310.95 1450.66 2314 1446.07 Q2317.08 1441.47 2322.89 1441.47 Z\" fill=\"#000000\" fill-rule=\"evenodd\" fill-opacity=\"1\" /><path clip-path=\"url(#clip050)\" d=\"M 0 0 M126.492 1388.79 L138.968 1388.79 L138.968 1392.59 L126.492 1392.59 L126.492 1388.79 Z\" fill=\"#000000\" fill-rule=\"evenodd\" fill-opacity=\"1\" /><path clip-path=\"url(#clip050)\" d=\"M 0 0 M144.848 1399.74 L152.487 1399.74 L152.487 1373.37 L144.177 1375.04 L144.177 1370.78 L152.441 1369.12 L157.116 1369.12 L157.116 1399.74 L164.755 1399.74 L164.755 1403.68 L144.848 1403.68 L144.848 1399.74 Z\" fill=\"#000000\" fill-rule=\"evenodd\" fill-opacity=\"1\" /><path clip-path=\"url(#clip050)\" d=\"M 0 0 M169.825 1397.8 L174.709 1397.8 L174.709 1403.68 L169.825 1403.68 L169.825 1397.8 Z\" fill=\"#000000\" fill-rule=\"evenodd\" fill-opacity=\"1\" /><path clip-path=\"url(#clip050)\" d=\"M 0 0 M189.778 1372.19 Q186.167 1372.19 184.339 1375.76 Q182.533 1379.3 182.533 1386.43 Q182.533 1393.54 184.339 1397.1 Q186.167 1400.64 189.778 1400.64 Q193.413 1400.64 195.218 1397.1 Q197.047 1393.54 197.047 1386.43 Q197.047 1379.3 195.218 1375.76 Q193.413 1372.19 189.778 1372.19 M189.778 1368.49 Q195.588 1368.49 198.644 1373.1 Q201.723 1377.68 201.723 1386.43 Q201.723 1395.16 198.644 1399.76 Q195.588 1404.35 189.778 1404.35 Q183.968 1404.35 180.889 1399.76 Q177.834 1395.16 177.834 1386.43 Q177.834 1377.68 180.889 1373.1 Q183.968 1368.49 189.778 1368.49 Z\" fill=\"#000000\" fill-rule=\"evenodd\" fill-opacity=\"1\" /><path clip-path=\"url(#clip050)\" d=\"M 0 0 M126.26 1082.26 L138.737 1082.26 L138.737 1086.05 L126.26 1086.05 L126.26 1082.26 Z\" fill=\"#000000\" fill-rule=\"evenodd\" fill-opacity=\"1\" /><path clip-path=\"url(#clip050)\" d=\"M 0 0 M153.806 1065.66 Q150.195 1065.66 148.367 1069.22 Q146.561 1072.77 146.561 1079.9 Q146.561 1087 148.367 1090.57 Q150.195 1094.11 153.806 1094.11 Q157.441 1094.11 159.246 1090.57 Q161.075 1087 161.075 1079.9 Q161.075 1072.77 159.246 1069.22 Q157.441 1065.66 153.806 1065.66 M153.806 1061.96 Q159.616 1061.96 162.672 1066.56 Q165.751 1071.15 165.751 1079.9 Q165.751 1088.62 162.672 1093.23 Q159.616 1097.81 153.806 1097.81 Q147.996 1097.81 144.917 1093.23 Q141.862 1088.62 141.862 1079.9 Q141.862 1071.15 144.917 1066.56 Q147.996 1061.96 153.806 1061.96 Z\" fill=\"#000000\" fill-rule=\"evenodd\" fill-opacity=\"1\" /><path clip-path=\"url(#clip050)\" d=\"M 0 0 M170.82 1091.26 L175.704 1091.26 L175.704 1097.14 L170.82 1097.14 L170.82 1091.26 Z\" fill=\"#000000\" fill-rule=\"evenodd\" fill-opacity=\"1\" /><path clip-path=\"url(#clip050)\" d=\"M 0 0 M180.82 1062.58 L199.176 1062.58 L199.176 1066.52 L185.102 1066.52 L185.102 1074.99 Q186.121 1074.64 187.139 1074.48 Q188.158 1074.29 189.176 1074.29 Q194.963 1074.29 198.343 1077.47 Q201.723 1080.64 201.723 1086.05 Q201.723 1091.63 198.251 1094.73 Q194.778 1097.81 188.459 1097.81 Q186.283 1097.81 184.014 1097.44 Q181.769 1097.07 179.362 1096.33 L179.362 1091.63 Q181.445 1092.77 183.667 1093.32 Q185.889 1093.88 188.366 1093.88 Q192.371 1093.88 194.709 1091.77 Q197.047 1089.66 197.047 1086.05 Q197.047 1082.44 194.709 1080.34 Q192.371 1078.23 188.366 1078.23 Q186.491 1078.23 184.616 1078.65 Q182.764 1079.06 180.82 1079.94 L180.82 1062.58 Z\" fill=\"#000000\" fill-rule=\"evenodd\" fill-opacity=\"1\" /><path clip-path=\"url(#clip050)\" d=\"M 0 0 M152.811 759.125 Q149.2 759.125 147.371 762.689 Q145.566 766.231 145.566 773.361 Q145.566 780.467 147.371 784.032 Q149.2 787.574 152.811 787.574 Q156.445 787.574 158.251 784.032 Q160.079 780.467 160.079 773.361 Q160.079 766.231 158.251 762.689 Q156.445 759.125 152.811 759.125 M152.811 755.421 Q158.621 755.421 161.677 760.027 Q164.755 764.611 164.755 773.361 Q164.755 782.088 161.677 786.694 Q158.621 791.277 152.811 791.277 Q147.001 791.277 143.922 786.694 Q140.867 782.088 140.867 773.361 Q140.867 764.611 143.922 760.027 Q147.001 755.421 152.811 755.421 Z\" fill=\"#000000\" fill-rule=\"evenodd\" fill-opacity=\"1\" /><path clip-path=\"url(#clip050)\" d=\"M 0 0 M169.825 784.726 L174.709 784.726 L174.709 790.606 L169.825 790.606 L169.825 784.726 Z\" fill=\"#000000\" fill-rule=\"evenodd\" fill-opacity=\"1\" /><path clip-path=\"url(#clip050)\" d=\"M 0 0 M189.778 759.125 Q186.167 759.125 184.339 762.689 Q182.533 766.231 182.533 773.361 Q182.533 780.467 184.339 784.032 Q186.167 787.574 189.778 787.574 Q193.413 787.574 195.218 784.032 Q197.047 780.467 197.047 773.361 Q197.047 766.231 195.218 762.689 Q193.413 759.125 189.778 759.125 M189.778 755.421 Q195.588 755.421 198.644 760.027 Q201.723 764.611 201.723 773.361 Q201.723 782.088 198.644 786.694 Q195.588 791.277 189.778 791.277 Q183.968 791.277 180.889 786.694 Q177.834 782.088 177.834 773.361 Q177.834 764.611 180.889 760.027 Q183.968 755.421 189.778 755.421 Z\" fill=\"#000000\" fill-rule=\"evenodd\" fill-opacity=\"1\" /><path clip-path=\"url(#clip050)\" d=\"M 0 0 M153.806 452.59 Q150.195 452.59 148.367 456.155 Q146.561 459.696 146.561 466.826 Q146.561 473.932 148.367 477.497 Q150.195 481.039 153.806 481.039 Q157.441 481.039 159.246 477.497 Q161.075 473.932 161.075 466.826 Q161.075 459.696 159.246 456.155 Q157.441 452.59 153.806 452.59 M153.806 448.886 Q159.616 448.886 162.672 453.493 Q165.751 458.076 165.751 466.826 Q165.751 475.553 162.672 480.159 Q159.616 484.742 153.806 484.742 Q147.996 484.742 144.917 480.159 Q141.862 475.553 141.862 466.826 Q141.862 458.076 144.917 453.493 Q147.996 448.886 153.806 448.886 Z\" fill=\"#000000\" fill-rule=\"evenodd\" fill-opacity=\"1\" /><path clip-path=\"url(#clip050)\" d=\"M 0 0 M170.82 478.192 L175.704 478.192 L175.704 484.071 L170.82 484.071 L170.82 478.192 Z\" fill=\"#000000\" fill-rule=\"evenodd\" fill-opacity=\"1\" /><path clip-path=\"url(#clip050)\" d=\"M 0 0 M180.82 449.511 L199.176 449.511 L199.176 453.446 L185.102 453.446 L185.102 461.918 Q186.121 461.571 187.139 461.409 Q188.158 461.224 189.176 461.224 Q194.963 461.224 198.343 464.395 Q201.723 467.567 201.723 472.983 Q201.723 478.562 198.251 481.664 Q194.778 484.742 188.459 484.742 Q186.283 484.742 184.014 484.372 Q181.769 484.002 179.362 483.261 L179.362 478.562 Q181.445 479.696 183.667 480.252 Q185.889 480.807 188.366 480.807 Q192.371 480.807 194.709 478.701 Q197.047 476.594 197.047 472.983 Q197.047 469.372 194.709 467.266 Q192.371 465.159 188.366 465.159 Q186.491 465.159 184.616 465.576 Q182.764 465.993 180.82 466.872 L180.82 449.511 Z\" fill=\"#000000\" fill-rule=\"evenodd\" fill-opacity=\"1\" /><path clip-path=\"url(#clip050)\" d=\"M 0 0 M144.848 173.601 L152.487 173.601 L152.487 147.236 L144.177 148.902 L144.177 144.643 L152.441 142.976 L157.116 142.976 L157.116 173.601 L164.755 173.601 L164.755 177.536 L144.848 177.536 L144.848 173.601 Z\" fill=\"#000000\" fill-rule=\"evenodd\" fill-opacity=\"1\" /><path clip-path=\"url(#clip050)\" d=\"M 0 0 M169.825 171.657 L174.709 171.657 L174.709 177.536 L169.825 177.536 L169.825 171.657 Z\" fill=\"#000000\" fill-rule=\"evenodd\" fill-opacity=\"1\" /><path clip-path=\"url(#clip050)\" d=\"M 0 0 M189.778 146.055 Q186.167 146.055 184.339 149.62 Q182.533 153.161 182.533 160.291 Q182.533 167.397 184.339 170.962 Q186.167 174.504 189.778 174.504 Q193.413 174.504 195.218 170.962 Q197.047 167.397 197.047 160.291 Q197.047 153.161 195.218 149.62 Q193.413 146.055 189.778 146.055 M189.778 142.351 Q195.588 142.351 198.644 146.958 Q201.723 151.541 201.723 160.291 Q201.723 169.018 198.644 173.624 Q195.588 178.208 189.778 178.208 Q183.968 178.208 180.889 173.624 Q177.834 169.018 177.834 160.291 Q177.834 151.541 180.889 146.958 Q183.968 142.351 189.778 142.351 Z\" fill=\"#000000\" fill-rule=\"evenodd\" fill-opacity=\"1\" /><path clip-path=\"url(#clip050)\" d=\"M 0 0 M899.34 12.096 L907.523 12.096 L907.523 65.6895 L936.973 65.6895 L936.973 72.576 L899.34 72.576 L899.34 12.096 Z\" fill=\"#000000\" fill-rule=\"evenodd\" fill-opacity=\"1\" /><path clip-path=\"url(#clip050)\" d=\"M 0 0 M965.41 49.7694 Q956.377 49.7694 952.893 51.8354 Q949.409 53.9013 949.409 58.8839 Q949.409 62.8538 952.002 65.2034 Q954.635 67.5124 959.131 67.5124 Q965.329 67.5124 969.056 63.1374 Q972.823 58.7219 972.823 51.4303 L972.823 49.7694 L965.41 49.7694 M980.277 46.6907 L980.277 72.576 L972.823 72.576 L972.823 65.6895 Q970.271 69.8214 966.463 71.8063 Q962.655 73.7508 957.146 73.7508 Q950.179 73.7508 946.047 69.8619 Q941.955 65.9325 941.955 59.3701 Q941.955 51.7138 947.059 47.825 Q952.204 43.9361 962.372 43.9361 L972.823 43.9361 L972.823 43.2069 Q972.823 38.0623 969.42 35.2672 Q966.058 32.4315 959.941 32.4315 Q956.052 32.4315 952.366 33.3632 Q948.68 34.295 945.277 36.1584 L945.277 29.2718 Q949.368 27.692 953.217 26.9223 Q957.065 26.1121 960.711 26.1121 Q970.555 26.1121 975.416 31.2163 Q980.277 36.3204 980.277 46.6907 Z\" fill=\"#000000\" fill-rule=\"evenodd\" fill-opacity=\"1\" /><path clip-path=\"url(#clip050)\" d=\"M 0 0 M1044.32 49.3643 Q1044.32 41.2625 1040.96 36.8065 Q1037.64 32.3505 1031.6 32.3505 Q1025.61 32.3505 1022.24 36.8065 Q1018.92 41.2625 1018.92 49.3643 Q1018.92 57.4256 1022.24 61.8816 Q1025.61 66.3376 1031.6 66.3376 Q1037.64 66.3376 1040.96 61.8816 Q1044.32 57.4256 1044.32 49.3643 M1051.78 66.9452 Q1051.78 78.5308 1046.63 84.1616 Q1041.49 89.8329 1030.87 89.8329 Q1026.94 89.8329 1023.46 89.2252 Q1019.98 88.6581 1016.69 87.4428 L1016.69 80.1917 Q1019.98 81.9741 1023.18 82.8248 Q1026.38 83.6755 1029.7 83.6755 Q1037.03 83.6755 1040.68 79.8271 Q1044.32 76.0193 1044.32 68.282 L1044.32 64.5957 Q1042.01 68.6061 1038.41 70.5911 Q1034.8 72.576 1029.78 72.576 Q1021.43 72.576 1016.33 66.2161 Q1011.23 59.8562 1011.23 49.3643 Q1011.23 38.832 1016.33 32.472 Q1021.43 26.1121 1029.78 26.1121 Q1034.8 26.1121 1038.41 28.0971 Q1042.01 30.082 1044.32 34.0924 L1044.32 27.2059 L1051.78 27.2059 L1051.78 66.9452 Z\" fill=\"#000000\" fill-rule=\"evenodd\" fill-opacity=\"1\" /><path clip-path=\"url(#clip050)\" d=\"M 0 0 M1085.88 34.1734 Q1084.63 33.4443 1083.13 33.1202 Q1081.67 32.7556 1079.89 32.7556 Q1073.57 32.7556 1070.17 36.8875 Q1066.8 40.9789 1066.8 48.6757 L1066.8 72.576 L1059.31 72.576 L1059.31 27.2059 L1066.8 27.2059 L1066.8 34.2544 Q1069.15 30.1225 1072.92 28.1376 Q1076.69 26.1121 1082.08 26.1121 Q1082.85 26.1121 1083.78 26.2337 Q1084.71 26.3147 1085.84 26.5172 L1085.88 34.1734 Z\" fill=\"#000000\" fill-rule=\"evenodd\" fill-opacity=\"1\" /><path clip-path=\"url(#clip050)\" d=\"M 0 0 M1114.32 49.7694 Q1105.29 49.7694 1101.8 51.8354 Q1098.32 53.9013 1098.32 58.8839 Q1098.32 62.8538 1100.91 65.2034 Q1103.55 67.5124 1108.04 67.5124 Q1114.24 67.5124 1117.97 63.1374 Q1121.73 58.7219 1121.73 51.4303 L1121.73 49.7694 L1114.32 49.7694 M1129.19 46.6907 L1129.19 72.576 L1121.73 72.576 L1121.73 65.6895 Q1119.18 69.8214 1115.37 71.8063 Q1111.57 73.7508 1106.06 73.7508 Q1099.09 73.7508 1094.96 69.8619 Q1090.87 65.9325 1090.87 59.3701 Q1090.87 51.7138 1095.97 47.825 Q1101.12 43.9361 1111.28 43.9361 L1121.73 43.9361 L1121.73 43.2069 Q1121.73 38.0623 1118.33 35.2672 Q1114.97 32.4315 1108.85 32.4315 Q1104.96 32.4315 1101.28 33.3632 Q1097.59 34.295 1094.19 36.1584 L1094.19 29.2718 Q1098.28 27.692 1102.13 26.9223 Q1105.98 26.1121 1109.62 26.1121 Q1119.47 26.1121 1124.33 31.2163 Q1129.19 36.3204 1129.19 46.6907 M1115.58 6.22219 L1123.64 6.22219 L1110.43 21.4536 L1104.23 21.4536 L1115.58 6.22219 Z\" fill=\"#000000\" fill-rule=\"evenodd\" fill-opacity=\"1\" /><path clip-path=\"url(#clip050)\" d=\"M 0 0 M1159.97 9.54393 L1159.97 15.7418 L1152.85 15.7418 Q1148.83 15.7418 1147.26 17.3622 Q1145.72 18.9825 1145.72 23.1955 L1145.72 27.2059 L1157.99 27.2059 L1157.99 32.9987 L1145.72 32.9987 L1145.72 72.576 L1138.22 72.576 L1138.22 32.9987 L1131.09 32.9987 L1131.09 27.2059 L1138.22 27.2059 L1138.22 24.0462 Q1138.22 16.471 1141.75 13.0277 Q1145.27 9.54393 1152.93 9.54393 L1159.97 9.54393 Z\" fill=\"#000000\" fill-rule=\"evenodd\" fill-opacity=\"1\" /><path clip-path=\"url(#clip050)\" d=\"M 0 0 M1167.79 27.2059 L1175.25 27.2059 L1175.25 72.576 L1167.79 72.576 L1167.79 27.2059 M1167.79 9.54393 L1175.25 9.54393 L1175.25 18.9825 L1167.79 18.9825 L1167.79 9.54393 Z\" fill=\"#000000\" fill-rule=\"evenodd\" fill-opacity=\"1\" /><path clip-path=\"url(#clip050)\" d=\"M 0 0 M1215.72 28.9478 L1215.72 35.9153 Q1212.56 34.1734 1209.36 33.3227 Q1206.2 32.4315 1202.96 32.4315 Q1195.7 32.4315 1191.69 37.0496 Q1187.68 41.6271 1187.68 49.9314 Q1187.68 58.2358 1191.69 62.8538 Q1195.7 67.4314 1202.96 67.4314 Q1206.2 67.4314 1209.36 66.5807 Q1212.56 65.6895 1215.72 63.9476 L1215.72 70.8341 Q1212.6 72.2924 1209.23 73.0216 Q1205.91 73.7508 1202.14 73.7508 Q1191.9 73.7508 1185.86 67.3098 Q1179.82 60.8689 1179.82 49.9314 Q1179.82 38.832 1185.9 32.472 Q1192.02 26.1121 1202.63 26.1121 Q1206.07 26.1121 1209.36 26.8413 Q1212.64 27.5299 1215.72 28.9478 Z\" fill=\"#000000\" fill-rule=\"evenodd\" fill-opacity=\"1\" /><path clip-path=\"url(#clip050)\" d=\"M 0 0 M1244.15 49.7694 Q1235.12 49.7694 1231.64 51.8354 Q1228.15 53.9013 1228.15 58.8839 Q1228.15 62.8538 1230.74 65.2034 Q1233.38 67.5124 1237.87 67.5124 Q1244.07 67.5124 1247.8 63.1374 Q1251.57 58.7219 1251.57 51.4303 L1251.57 49.7694 L1244.15 49.7694 M1259.02 46.6907 L1259.02 72.576 L1251.57 72.576 L1251.57 65.6895 Q1249.01 69.8214 1245.21 71.8063 Q1241.4 73.7508 1235.89 73.7508 Q1228.92 73.7508 1224.79 69.8619 Q1220.7 65.9325 1220.7 59.3701 Q1220.7 51.7138 1225.8 47.825 Q1230.95 43.9361 1241.11 43.9361 L1251.57 43.9361 L1251.57 43.2069 Q1251.57 38.0623 1248.16 35.2672 Q1244.8 32.4315 1238.68 32.4315 Q1234.8 32.4315 1231.11 33.3632 Q1227.42 34.295 1224.02 36.1584 L1224.02 29.2718 Q1228.11 27.692 1231.96 26.9223 Q1235.81 26.1121 1239.45 26.1121 Q1249.3 26.1121 1254.16 31.2163 Q1259.02 36.3204 1259.02 46.6907 Z\" fill=\"#000000\" fill-rule=\"evenodd\" fill-opacity=\"1\" /><path clip-path=\"url(#clip050)\" d=\"M 0 0 M1297.67 49.9314 Q1297.67 58.1548 1301.03 62.8538 Q1304.43 67.5124 1310.34 67.5124 Q1316.26 67.5124 1319.66 62.8538 Q1323.06 58.1548 1323.06 49.9314 Q1323.06 41.7081 1319.66 37.0496 Q1316.26 32.3505 1310.34 32.3505 Q1304.43 32.3505 1301.03 37.0496 Q1297.67 41.7081 1297.67 49.9314 M1323.06 65.7705 Q1320.71 69.8214 1317.11 71.8063 Q1313.54 73.7508 1308.52 73.7508 Q1300.3 73.7508 1295.11 67.1883 Q1289.97 60.6258 1289.97 49.9314 Q1289.97 39.2371 1295.11 32.6746 Q1300.3 26.1121 1308.52 26.1121 Q1313.54 26.1121 1317.11 28.0971 Q1320.71 30.0415 1323.06 34.0924 L1323.06 27.2059 L1330.52 27.2059 L1330.52 89.8329 L1323.06 89.8329 L1323.06 65.7705 Z\" fill=\"#000000\" fill-rule=\"evenodd\" fill-opacity=\"1\" /><path clip-path=\"url(#clip050)\" d=\"M 0 0 M1337.57 54.671 L1337.57 27.2059 L1345.02 27.2059 L1345.02 54.3874 Q1345.02 60.8284 1347.53 64.0691 Q1350.04 67.2693 1355.07 67.2693 Q1361.1 67.2693 1364.59 63.421 Q1368.11 59.5726 1368.11 52.9291 L1368.11 27.2059 L1375.56 27.2059 L1375.56 72.576 L1368.11 72.576 L1368.11 65.6084 Q1365.4 69.7404 1361.79 71.7658 Q1358.23 73.7508 1353.49 73.7508 Q1345.67 73.7508 1341.62 68.8897 Q1337.57 64.0286 1337.57 54.671 M1356.32 26.1121 L1356.32 26.1121 Z\" fill=\"#000000\" fill-rule=\"evenodd\" fill-opacity=\"1\" /><path clip-path=\"url(#clip050)\" d=\"M 0 0 M1422.19 48.0275 L1422.19 51.6733 L1387.92 51.6733 Q1388.41 59.3701 1392.54 63.421 Q1396.71 67.4314 1404.12 67.4314 Q1408.42 67.4314 1412.43 66.3781 Q1416.48 65.3249 1420.45 63.2184 L1420.45 70.267 Q1416.44 71.9684 1412.22 72.8596 Q1408.01 73.7508 1403.68 73.7508 Q1392.82 73.7508 1386.46 67.4314 Q1380.14 61.1119 1380.14 50.3365 Q1380.14 39.1965 1386.14 32.6746 Q1392.17 26.1121 1402.38 26.1121 Q1411.54 26.1121 1416.84 32.0264 Q1422.19 37.9003 1422.19 48.0275 M1414.74 45.84 Q1414.66 39.7232 1411.29 36.0774 Q1407.97 32.4315 1402.46 32.4315 Q1396.22 32.4315 1392.46 35.9558 Q1388.73 39.4801 1388.16 45.8805 L1414.74 45.84 Z\" fill=\"#000000\" fill-rule=\"evenodd\" fill-opacity=\"1\" /><path clip-path=\"url(#clip050)\" d=\"M 0 0 M1460.84 49.9314 Q1460.84 58.1548 1464.2 62.8538 Q1467.6 67.5124 1473.51 67.5124 Q1479.43 67.5124 1482.83 62.8538 Q1486.23 58.1548 1486.23 49.9314 Q1486.23 41.7081 1482.83 37.0496 Q1479.43 32.3505 1473.51 32.3505 Q1467.6 32.3505 1464.2 37.0496 Q1460.84 41.7081 1460.84 49.9314 M1486.23 65.7705 Q1483.89 69.8214 1480.28 71.8063 Q1476.72 73.7508 1471.69 73.7508 Q1463.47 73.7508 1458.28 67.1883 Q1453.14 60.6258 1453.14 49.9314 Q1453.14 39.2371 1458.28 32.6746 Q1463.47 26.1121 1471.69 26.1121 Q1476.72 26.1121 1480.28 28.0971 Q1483.89 30.0415 1486.23 34.0924 L1486.23 27.2059 L1493.69 27.2059 L1493.69 89.8329 L1486.23 89.8329 L1486.23 65.7705 Z\" fill=\"#000000\" fill-rule=\"evenodd\" fill-opacity=\"1\" /><path clip-path=\"url(#clip050)\" d=\"M 0 0 M1500.74 54.671 L1500.74 27.2059 L1508.19 27.2059 L1508.19 54.3874 Q1508.19 60.8284 1510.7 64.0691 Q1513.21 67.2693 1518.24 67.2693 Q1524.27 67.2693 1527.76 63.421 Q1531.28 59.5726 1531.28 52.9291 L1531.28 27.2059 L1538.73 27.2059 L1538.73 72.576 L1531.28 72.576 L1531.28 65.6084 Q1528.57 69.7404 1524.96 71.7658 Q1521.4 73.7508 1516.66 73.7508 Q1508.84 73.7508 1504.79 68.8897 Q1500.74 64.0286 1500.74 54.671 M1519.49 26.1121 L1519.49 26.1121 Z\" fill=\"#000000\" fill-rule=\"evenodd\" fill-opacity=\"1\" /><path clip-path=\"url(#clip050)\" d=\"M 0 0 M1546.55 27.2059 L1554.01 27.2059 L1554.01 72.576 L1546.55 72.576 L1546.55 27.2059 M1546.55 9.54393 L1554.01 9.54393 L1554.01 18.9825 L1546.55 18.9825 L1546.55 9.54393 Z\" fill=\"#000000\" fill-rule=\"evenodd\" fill-opacity=\"1\" /><path clip-path=\"url(#clip050)\" d=\"M 0 0 M1600.63 48.0275 L1600.63 51.6733 L1566.36 51.6733 Q1566.85 59.3701 1570.98 63.421 Q1575.15 67.4314 1582.57 67.4314 Q1586.86 67.4314 1590.87 66.3781 Q1594.92 65.3249 1598.89 63.2184 L1598.89 70.267 Q1594.88 71.9684 1590.67 72.8596 Q1586.45 73.7508 1582.12 73.7508 Q1571.26 73.7508 1564.9 67.4314 Q1558.58 61.1119 1558.58 50.3365 Q1558.58 39.1965 1564.58 32.6746 Q1570.62 26.1121 1580.82 26.1121 Q1589.98 26.1121 1595.29 32.0264 Q1600.63 37.9003 1600.63 48.0275 M1593.18 45.84 Q1593.1 39.7232 1589.74 36.0774 Q1586.41 32.4315 1580.9 32.4315 Q1574.67 32.4315 1570.9 35.9558 Q1567.17 39.4801 1566.6 45.8805 L1593.18 45.84 Z\" fill=\"#000000\" fill-rule=\"evenodd\" fill-opacity=\"1\" /><path clip-path=\"url(#clip050)\" d=\"M 0 0 M1634.74 34.1734 Q1633.49 33.4443 1631.99 33.1202 Q1630.53 32.7556 1628.75 32.7556 Q1622.43 32.7556 1619.02 36.8875 Q1615.66 40.9789 1615.66 48.6757 L1615.66 72.576 L1608.17 72.576 L1608.17 27.2059 L1615.66 27.2059 L1615.66 34.2544 Q1618.01 30.1225 1621.78 28.1376 Q1625.55 26.1121 1630.93 26.1121 Q1631.7 26.1121 1632.63 26.2337 Q1633.57 26.3147 1634.7 26.5172 L1634.74 34.1734 Z\" fill=\"#000000\" fill-rule=\"evenodd\" fill-opacity=\"1\" /><path clip-path=\"url(#clip050)\" d=\"M 0 0 M1658.32 32.4315 Q1652.32 32.4315 1648.84 37.1306 Q1645.35 41.7891 1645.35 49.9314 Q1645.35 58.0738 1648.8 62.7728 Q1652.28 67.4314 1658.32 67.4314 Q1664.27 67.4314 1667.76 62.7323 Q1671.24 58.0333 1671.24 49.9314 Q1671.24 41.8701 1667.76 37.1711 Q1664.27 32.4315 1658.32 32.4315 M1658.32 26.1121 Q1668.04 26.1121 1673.59 32.4315 Q1679.14 38.7509 1679.14 49.9314 Q1679.14 61.0714 1673.59 67.4314 Q1668.04 73.7508 1658.32 73.7508 Q1648.55 73.7508 1643 67.4314 Q1637.5 61.0714 1637.5 49.9314 Q1637.5 38.7509 1643 32.4315 Q1648.55 26.1121 1658.32 26.1121 Z\" fill=\"#000000\" fill-rule=\"evenodd\" fill-opacity=\"1\" /><path clip-path=\"url(#clip050)\" d=\"M 0 0 M1305.85 1520.4 L1292.96 1537.74 L1306.52 1556.04 L1299.62 1556.04 L1289.24 1542.04 L1278.86 1556.04 L1271.96 1556.04 L1285.8 1537.39 L1273.13 1520.4 L1280.04 1520.4 L1289.49 1533.1 L1298.95 1520.4 L1305.85 1520.4 Z\" fill=\"#000000\" fill-rule=\"evenodd\" fill-opacity=\"1\" /><path clip-path=\"url(#clip050)\" d=\"M 0 0 M91.3143 771.639 Q97.68 774.122 99.6216 776.477 Q101.563 778.832 101.563 782.779 L101.563 787.458 L96.6615 787.458 L96.6615 784.02 Q96.6615 781.601 95.5157 780.265 Q94.3699 778.928 90.1048 777.305 L87.4312 776.254 L52.3562 790.673 L52.3562 784.466 L80.238 773.326 L52.3562 762.186 L52.3562 755.979 L91.3143 771.639 Z\" fill=\"#000000\" fill-rule=\"evenodd\" fill-opacity=\"1\" /><polyline clip-path=\"url(#clip052)\" style=\"stroke:#009af9; stroke-width:4; stroke-opacity:1; fill:none\" points=\"\n",
       "  285.922,773.326 305.988,734.831 326.054,696.488 346.121,658.448 366.187,620.862 386.254,583.877 406.32,547.64 426.386,512.294 446.453,477.977 466.519,444.827 \n",
       "  486.585,412.973 506.652,382.541 526.718,353.651 546.784,326.417 566.851,300.948 586.917,277.342 606.983,255.694 627.05,236.089 647.116,218.604 667.182,203.308 \n",
       "  687.249,190.262 707.315,179.517 727.381,171.115 747.448,165.091 767.514,161.466 787.581,160.256 807.647,161.466 827.713,165.091 847.78,171.115 867.846,179.517 \n",
       "  887.912,190.262 907.979,203.308 928.045,218.604 948.111,236.089 968.178,255.694 988.244,277.342 1008.31,300.948 1028.38,326.417 1048.44,353.651 1068.51,382.541 \n",
       "  1088.58,412.973 1108.64,444.827 1128.71,477.977 1148.77,512.294 1168.84,547.64 1188.91,583.877 1208.97,620.862 1229.04,658.448 1249.11,696.488 1269.17,734.831 \n",
       "  1289.24,773.326 1309.31,811.821 1329.37,850.164 1349.44,888.204 1369.5,925.79 1389.57,962.775 1409.64,999.012 1429.7,1034.36 1449.77,1068.67 1469.84,1101.83 \n",
       "  1489.9,1133.68 1509.97,1164.11 1530.04,1193 1550.1,1220.23 1570.17,1245.7 1590.23,1269.31 1610.3,1290.96 1630.37,1310.56 1650.43,1328.05 1670.5,1343.34 \n",
       "  1690.57,1356.39 1710.63,1367.13 1730.7,1375.54 1750.77,1381.56 1770.83,1385.19 1790.9,1386.4 1810.96,1385.19 1831.03,1381.56 1851.1,1375.54 1871.16,1367.13 \n",
       "  1891.23,1356.39 1911.3,1343.34 1931.36,1328.05 1951.43,1310.56 1971.5,1290.96 1991.56,1269.31 2011.63,1245.7 2031.69,1220.23 2051.76,1193 2071.83,1164.11 \n",
       "  2091.89,1133.68 2111.96,1101.83 2132.03,1068.67 2152.09,1034.36 2172.16,999.012 2192.23,962.775 2212.29,925.79 2232.36,888.204 2252.42,850.164 2272.49,811.821 \n",
       "  2292.56,773.326 \n",
       "  \"/>\n",
       "<path clip-path=\"url(#clip050)\" d=\"\n",
       "M1931.35 287.756 L2281.85 287.756 L2281.85 166.796 L1931.35 166.796  Z\n",
       "  \" fill=\"#ffffff\" fill-rule=\"evenodd\" fill-opacity=\"1\"/>\n",
       "<polyline clip-path=\"url(#clip050)\" style=\"stroke:#000000; stroke-width:4; stroke-opacity:1; fill:none\" points=\"\n",
       "  1931.35,287.756 2281.85,287.756 2281.85,166.796 1931.35,166.796 1931.35,287.756 \n",
       "  \"/>\n",
       "<polyline clip-path=\"url(#clip050)\" style=\"stroke:#009af9; stroke-width:4; stroke-opacity:1; fill:none\" points=\"\n",
       "  1954.99,227.276 2096.79,227.276 \n",
       "  \"/>\n",
       "<path clip-path=\"url(#clip050)\" d=\"M 0 0 M2139.33 222.565 L2139.33 208.537 L2143.59 208.537 L2143.59 244.556 L2139.33 244.556 L2139.33 240.667 Q2137.99 242.982 2135.93 244.116 Q2133.89 245.227 2131.02 245.227 Q2126.32 245.227 2123.36 241.477 Q2120.42 237.727 2120.42 231.616 Q2120.42 225.505 2123.36 221.755 Q2126.32 218.005 2131.02 218.005 Q2133.89 218.005 2135.93 219.139 Q2137.99 220.25 2139.33 222.565 M2124.82 231.616 Q2124.82 236.315 2126.74 239 Q2128.69 241.662 2132.06 241.662 Q2135.44 241.662 2137.39 239 Q2139.33 236.315 2139.33 231.616 Q2139.33 226.917 2137.39 224.255 Q2135.44 221.57 2132.06 221.57 Q2128.69 221.57 2126.74 224.255 Q2124.82 226.917 2124.82 231.616 Z\" fill=\"#000000\" fill-rule=\"evenodd\" fill-opacity=\"1\" /><path clip-path=\"url(#clip050)\" d=\"M 0 0 M2159.84 231.523 Q2154.68 231.523 2152.69 232.704 Q2150.7 233.884 2150.7 236.732 Q2150.7 239 2152.18 240.343 Q2153.69 241.662 2156.25 241.662 Q2159.8 241.662 2161.93 239.162 Q2164.08 236.639 2164.08 232.472 L2164.08 231.523 L2159.84 231.523 M2168.34 229.764 L2168.34 244.556 L2164.08 244.556 L2164.08 240.621 Q2162.62 242.982 2160.44 244.116 Q2158.27 245.227 2155.12 245.227 Q2151.14 245.227 2148.78 243.005 Q2146.44 240.759 2146.44 237.009 Q2146.44 232.634 2149.36 230.412 Q2152.3 228.19 2158.11 228.19 L2164.08 228.19 L2164.08 227.773 Q2164.08 224.834 2162.13 223.236 Q2160.21 221.616 2156.72 221.616 Q2154.5 221.616 2152.39 222.148 Q2150.28 222.681 2148.34 223.746 L2148.34 219.81 Q2150.68 218.908 2152.87 218.468 Q2155.07 218.005 2157.16 218.005 Q2162.78 218.005 2165.56 220.922 Q2168.34 223.838 2168.34 229.764 Z\" fill=\"#000000\" fill-rule=\"evenodd\" fill-opacity=\"1\" /><path clip-path=\"url(#clip050)\" d=\"M 0 0 M2177.02 211.269 L2177.02 218.63 L2185.79 218.63 L2185.79 221.94 L2177.02 221.94 L2177.02 236.014 Q2177.02 239.185 2177.87 240.088 Q2178.75 240.991 2181.42 240.991 L2185.79 240.991 L2185.79 244.556 L2181.42 244.556 Q2176.49 244.556 2174.61 242.727 Q2172.74 240.875 2172.74 236.014 L2172.74 221.94 L2169.61 221.94 L2169.61 218.63 L2172.74 218.63 L2172.74 211.269 L2177.02 211.269 Z\" fill=\"#000000\" fill-rule=\"evenodd\" fill-opacity=\"1\" /><path clip-path=\"url(#clip050)\" d=\"M 0 0 M2200.31 221.616 Q2196.88 221.616 2194.89 224.301 Q2192.9 226.963 2192.9 231.616 Q2192.9 236.269 2194.87 238.954 Q2196.86 241.616 2200.31 241.616 Q2203.71 241.616 2205.7 238.931 Q2207.69 236.246 2207.69 231.616 Q2207.69 227.01 2205.7 224.324 Q2203.71 221.616 2200.31 221.616 M2200.31 218.005 Q2205.86 218.005 2209.03 221.616 Q2212.2 225.227 2212.2 231.616 Q2212.2 237.982 2209.03 241.616 Q2205.86 245.227 2200.31 245.227 Q2194.73 245.227 2191.56 241.616 Q2188.41 237.982 2188.41 231.616 Q2188.41 225.227 2191.56 221.616 Q2194.73 218.005 2200.31 218.005 Z\" fill=\"#000000\" fill-rule=\"evenodd\" fill-opacity=\"1\" /><path clip-path=\"url(#clip050)\" d=\"M 0 0 M2233.2 219.394 L2233.2 223.422 Q2231.39 222.496 2229.45 222.033 Q2227.5 221.57 2225.42 221.57 Q2222.25 221.57 2220.65 222.542 Q2219.08 223.514 2219.08 225.459 Q2219.08 226.94 2220.21 227.797 Q2221.35 228.63 2224.77 229.394 L2226.23 229.718 Q2230.77 230.69 2232.67 232.472 Q2234.59 234.232 2234.59 237.403 Q2234.59 241.014 2231.72 243.121 Q2228.87 245.227 2223.87 245.227 Q2221.79 245.227 2219.52 244.81 Q2217.27 244.417 2214.77 243.607 L2214.77 239.209 Q2217.13 240.435 2219.43 241.06 Q2221.72 241.662 2223.96 241.662 Q2226.97 241.662 2228.59 240.644 Q2230.21 239.602 2230.21 237.727 Q2230.21 235.991 2229.03 235.065 Q2227.87 234.139 2223.92 233.283 L2222.43 232.935 Q2218.48 232.102 2216.72 230.389 Q2214.96 228.653 2214.96 225.644 Q2214.96 221.986 2217.55 219.996 Q2220.14 218.005 2224.91 218.005 Q2227.27 218.005 2229.36 218.352 Q2231.44 218.699 2233.2 219.394 Z\" fill=\"#000000\" fill-rule=\"evenodd\" fill-opacity=\"1\" /></svg>\n"
      ]
     },
     "metadata": {},
     "output_type": "display_data"
    }
   ],
   "source": [
    "xs = range(0,stop=1,length=101)\n",
    "graficar(xs,x -> sin(2*pi*x))"
   ]
  },
  {
   "cell_type": "code",
   "execution_count": 30,
   "metadata": {},
   "outputs": [
    {
     "data": {
      "text/plain": [
       "gaussiana (generic function with 1 method)"
      ]
     },
     "execution_count": 30,
     "metadata": {},
     "output_type": "execute_result"
    }
   ],
   "source": [
    "function gaussiana(x,mu,sigma)\n",
    "    a = 1/sqrt(2*pi*sigma^2)\n",
    "    b = (x-mu)/sigma\n",
    "    return a*exp(-b^2/2)\n",
    "end"
   ]
  },
  {
   "cell_type": "code",
   "execution_count": 32,
   "metadata": {},
   "outputs": [
    {
     "data": {
      "image/svg+xml": [
       "<?xml version=\"1.0\" encoding=\"utf-8\"?>\n",
       "<svg xmlns=\"http://www.w3.org/2000/svg\" xmlns:xlink=\"http://www.w3.org/1999/xlink\" width=\"600\" height=\"400\" viewBox=\"0 0 2400 1600\">\n",
       "<defs>\n",
       "  <clipPath id=\"clip090\">\n",
       "    <rect x=\"0\" y=\"0\" width=\"2400\" height=\"1600\"/>\n",
       "  </clipPath>\n",
       "</defs>\n",
       "<path clip-path=\"url(#clip090)\" d=\"\n",
       "M0 1600 L2400 1600 L2400 0 L0 0  Z\n",
       "  \" fill=\"#ffffff\" fill-rule=\"evenodd\" fill-opacity=\"1\"/>\n",
       "<defs>\n",
       "  <clipPath id=\"clip091\">\n",
       "    <rect x=\"480\" y=\"0\" width=\"1681\" height=\"1600\"/>\n",
       "  </clipPath>\n",
       "</defs>\n",
       "<path clip-path=\"url(#clip090)\" d=\"\n",
       "M175.445 1423.18 L2352.76 1423.18 L2352.76 123.472 L175.445 123.472  Z\n",
       "  \" fill=\"#ffffff\" fill-rule=\"evenodd\" fill-opacity=\"1\"/>\n",
       "<defs>\n",
       "  <clipPath id=\"clip092\">\n",
       "    <rect x=\"175\" y=\"123\" width=\"2178\" height=\"1301\"/>\n",
       "  </clipPath>\n",
       "</defs>\n",
       "<polyline clip-path=\"url(#clip092)\" style=\"stroke:#000000; stroke-width:2; stroke-opacity:0.1; fill:none\" points=\"\n",
       "  237.067,1423.18 237.067,123.472 \n",
       "  \"/>\n",
       "<polyline clip-path=\"url(#clip092)\" style=\"stroke:#000000; stroke-width:2; stroke-opacity:0.1; fill:none\" points=\"\n",
       "  750.584,1423.18 750.584,123.472 \n",
       "  \"/>\n",
       "<polyline clip-path=\"url(#clip092)\" style=\"stroke:#000000; stroke-width:2; stroke-opacity:0.1; fill:none\" points=\"\n",
       "  1264.1,1423.18 1264.1,123.472 \n",
       "  \"/>\n",
       "<polyline clip-path=\"url(#clip092)\" style=\"stroke:#000000; stroke-width:2; stroke-opacity:0.1; fill:none\" points=\"\n",
       "  1777.62,1423.18 1777.62,123.472 \n",
       "  \"/>\n",
       "<polyline clip-path=\"url(#clip092)\" style=\"stroke:#000000; stroke-width:2; stroke-opacity:0.1; fill:none\" points=\"\n",
       "  2291.13,1423.18 2291.13,123.472 \n",
       "  \"/>\n",
       "<polyline clip-path=\"url(#clip092)\" style=\"stroke:#000000; stroke-width:2; stroke-opacity:0.1; fill:none\" points=\"\n",
       "  175.445,1386.4 2352.76,1386.4 \n",
       "  \"/>\n",
       "<polyline clip-path=\"url(#clip092)\" style=\"stroke:#000000; stroke-width:2; stroke-opacity:0.1; fill:none\" points=\"\n",
       "  175.445,1077.78 2352.76,1077.78 \n",
       "  \"/>\n",
       "<polyline clip-path=\"url(#clip092)\" style=\"stroke:#000000; stroke-width:2; stroke-opacity:0.1; fill:none\" points=\"\n",
       "  175.445,769.155 2352.76,769.155 \n",
       "  \"/>\n",
       "<polyline clip-path=\"url(#clip092)\" style=\"stroke:#000000; stroke-width:2; stroke-opacity:0.1; fill:none\" points=\"\n",
       "  175.445,460.535 2352.76,460.535 \n",
       "  \"/>\n",
       "<polyline clip-path=\"url(#clip092)\" style=\"stroke:#000000; stroke-width:2; stroke-opacity:0.1; fill:none\" points=\"\n",
       "  175.445,151.915 2352.76,151.915 \n",
       "  \"/>\n",
       "<polyline clip-path=\"url(#clip090)\" style=\"stroke:#000000; stroke-width:4; stroke-opacity:1; fill:none\" points=\"\n",
       "  175.445,1423.18 2352.76,1423.18 \n",
       "  \"/>\n",
       "<polyline clip-path=\"url(#clip090)\" style=\"stroke:#000000; stroke-width:4; stroke-opacity:1; fill:none\" points=\"\n",
       "  175.445,1423.18 175.445,123.472 \n",
       "  \"/>\n",
       "<polyline clip-path=\"url(#clip090)\" style=\"stroke:#000000; stroke-width:4; stroke-opacity:1; fill:none\" points=\"\n",
       "  237.067,1423.18 237.067,1407.58 \n",
       "  \"/>\n",
       "<polyline clip-path=\"url(#clip090)\" style=\"stroke:#000000; stroke-width:4; stroke-opacity:1; fill:none\" points=\"\n",
       "  750.584,1423.18 750.584,1407.58 \n",
       "  \"/>\n",
       "<polyline clip-path=\"url(#clip090)\" style=\"stroke:#000000; stroke-width:4; stroke-opacity:1; fill:none\" points=\"\n",
       "  1264.1,1423.18 1264.1,1407.58 \n",
       "  \"/>\n",
       "<polyline clip-path=\"url(#clip090)\" style=\"stroke:#000000; stroke-width:4; stroke-opacity:1; fill:none\" points=\"\n",
       "  1777.62,1423.18 1777.62,1407.58 \n",
       "  \"/>\n",
       "<polyline clip-path=\"url(#clip090)\" style=\"stroke:#000000; stroke-width:4; stroke-opacity:1; fill:none\" points=\"\n",
       "  2291.13,1423.18 2291.13,1407.58 \n",
       "  \"/>\n",
       "<polyline clip-path=\"url(#clip090)\" style=\"stroke:#000000; stroke-width:4; stroke-opacity:1; fill:none\" points=\"\n",
       "  175.445,1386.4 201.573,1386.4 \n",
       "  \"/>\n",
       "<polyline clip-path=\"url(#clip090)\" style=\"stroke:#000000; stroke-width:4; stroke-opacity:1; fill:none\" points=\"\n",
       "  175.445,1077.78 201.573,1077.78 \n",
       "  \"/>\n",
       "<polyline clip-path=\"url(#clip090)\" style=\"stroke:#000000; stroke-width:4; stroke-opacity:1; fill:none\" points=\"\n",
       "  175.445,769.155 201.573,769.155 \n",
       "  \"/>\n",
       "<polyline clip-path=\"url(#clip090)\" style=\"stroke:#000000; stroke-width:4; stroke-opacity:1; fill:none\" points=\"\n",
       "  175.445,460.535 201.573,460.535 \n",
       "  \"/>\n",
       "<polyline clip-path=\"url(#clip090)\" style=\"stroke:#000000; stroke-width:4; stroke-opacity:1; fill:none\" points=\"\n",
       "  175.445,151.915 201.573,151.915 \n",
       "  \"/>\n",
       "<path clip-path=\"url(#clip090)\" d=\"M 0 0 M199.452 1461.77 L211.928 1461.77 L211.928 1465.56 L199.452 1465.56 L199.452 1461.77 Z\" fill=\"#000000\" fill-rule=\"evenodd\" fill-opacity=\"1\" /><path clip-path=\"url(#clip090)\" d=\"M 0 0 M217.808 1472.72 L225.447 1472.72 L225.447 1446.35 L217.137 1448.02 L217.137 1443.76 L225.401 1442.09 L230.077 1442.09 L230.077 1472.72 L237.715 1472.72 L237.715 1476.65 L217.808 1476.65 L217.808 1472.72 Z\" fill=\"#000000\" fill-rule=\"evenodd\" fill-opacity=\"1\" /><path clip-path=\"url(#clip090)\" d=\"M 0 0 M242.785 1470.77 L247.669 1470.77 L247.669 1476.65 L242.785 1476.65 L242.785 1470.77 Z\" fill=\"#000000\" fill-rule=\"evenodd\" fill-opacity=\"1\" /><path clip-path=\"url(#clip090)\" d=\"M 0 0 M262.738 1445.17 Q259.127 1445.17 257.299 1448.74 Q255.493 1452.28 255.493 1459.41 Q255.493 1466.51 257.299 1470.08 Q259.127 1473.62 262.738 1473.62 Q266.373 1473.62 268.178 1470.08 Q270.007 1466.51 270.007 1459.41 Q270.007 1452.28 268.178 1448.74 Q266.373 1445.17 262.738 1445.17 M262.738 1441.47 Q268.549 1441.47 271.604 1446.07 Q274.683 1450.66 274.683 1459.41 Q274.683 1468.13 271.604 1472.74 Q268.549 1477.32 262.738 1477.32 Q256.928 1477.32 253.85 1472.74 Q250.794 1468.13 250.794 1459.41 Q250.794 1450.66 253.85 1446.07 Q256.928 1441.47 262.738 1441.47 Z\" fill=\"#000000\" fill-rule=\"evenodd\" fill-opacity=\"1\" /><path clip-path=\"url(#clip090)\" d=\"M 0 0 M712.853 1461.77 L725.329 1461.77 L725.329 1465.56 L712.853 1465.56 L712.853 1461.77 Z\" fill=\"#000000\" fill-rule=\"evenodd\" fill-opacity=\"1\" /><path clip-path=\"url(#clip090)\" d=\"M 0 0 M740.399 1445.17 Q736.788 1445.17 734.959 1448.74 Q733.153 1452.28 733.153 1459.41 Q733.153 1466.51 734.959 1470.08 Q736.788 1473.62 740.399 1473.62 Q744.033 1473.62 745.839 1470.08 Q747.667 1466.51 747.667 1459.41 Q747.667 1452.28 745.839 1448.74 Q744.033 1445.17 740.399 1445.17 M740.399 1441.47 Q746.209 1441.47 749.264 1446.07 Q752.343 1450.66 752.343 1459.41 Q752.343 1468.13 749.264 1472.74 Q746.209 1477.32 740.399 1477.32 Q734.589 1477.32 731.51 1472.74 Q728.454 1468.13 728.454 1459.41 Q728.454 1450.66 731.51 1446.07 Q734.589 1441.47 740.399 1441.47 Z\" fill=\"#000000\" fill-rule=\"evenodd\" fill-opacity=\"1\" /><path clip-path=\"url(#clip090)\" d=\"M 0 0 M757.413 1470.77 L762.297 1470.77 L762.297 1476.65 L757.413 1476.65 L757.413 1470.77 Z\" fill=\"#000000\" fill-rule=\"evenodd\" fill-opacity=\"1\" /><path clip-path=\"url(#clip090)\" d=\"M 0 0 M767.412 1442.09 L785.769 1442.09 L785.769 1446.03 L771.695 1446.03 L771.695 1454.5 Q772.713 1454.15 773.732 1453.99 Q774.75 1453.8 775.769 1453.8 Q781.556 1453.8 784.936 1456.98 Q788.315 1460.15 788.315 1465.56 Q788.315 1471.14 784.843 1474.24 Q781.371 1477.32 775.051 1477.32 Q772.875 1477.32 770.607 1476.95 Q768.362 1476.58 765.954 1475.84 L765.954 1471.14 Q768.037 1472.28 770.26 1472.83 Q772.482 1473.39 774.959 1473.39 Q778.963 1473.39 781.301 1471.28 Q783.639 1469.18 783.639 1465.56 Q783.639 1461.95 781.301 1459.85 Q778.963 1457.74 774.959 1457.74 Q773.084 1457.74 771.209 1458.16 Q769.357 1458.57 767.412 1459.45 L767.412 1442.09 Z\" fill=\"#000000\" fill-rule=\"evenodd\" fill-opacity=\"1\" /><path clip-path=\"url(#clip090)\" d=\"M 0 0 M1245.62 1445.17 Q1242.01 1445.17 1240.18 1448.74 Q1238.37 1452.28 1238.37 1459.41 Q1238.37 1466.51 1240.18 1470.08 Q1242.01 1473.62 1245.62 1473.62 Q1249.25 1473.62 1251.06 1470.08 Q1252.89 1466.51 1252.89 1459.41 Q1252.89 1452.28 1251.06 1448.74 Q1249.25 1445.17 1245.62 1445.17 M1245.62 1441.47 Q1251.43 1441.47 1254.48 1446.07 Q1257.56 1450.66 1257.56 1459.41 Q1257.56 1468.13 1254.48 1472.74 Q1251.43 1477.32 1245.62 1477.32 Q1239.81 1477.32 1236.73 1472.74 Q1233.67 1468.13 1233.67 1459.41 Q1233.67 1450.66 1236.73 1446.07 Q1239.81 1441.47 1245.62 1441.47 Z\" fill=\"#000000\" fill-rule=\"evenodd\" fill-opacity=\"1\" /><path clip-path=\"url(#clip090)\" d=\"M 0 0 M1262.63 1470.77 L1267.51 1470.77 L1267.51 1476.65 L1262.63 1476.65 L1262.63 1470.77 Z\" fill=\"#000000\" fill-rule=\"evenodd\" fill-opacity=\"1\" /><path clip-path=\"url(#clip090)\" d=\"M 0 0 M1282.58 1445.17 Q1278.97 1445.17 1277.14 1448.74 Q1275.34 1452.28 1275.34 1459.41 Q1275.34 1466.51 1277.14 1470.08 Q1278.97 1473.62 1282.58 1473.62 Q1286.22 1473.62 1288.02 1470.08 Q1289.85 1466.51 1289.85 1459.41 Q1289.85 1452.28 1288.02 1448.74 Q1286.22 1445.17 1282.58 1445.17 M1282.58 1441.47 Q1288.39 1441.47 1291.45 1446.07 Q1294.53 1450.66 1294.53 1459.41 Q1294.53 1468.13 1291.45 1472.74 Q1288.39 1477.32 1282.58 1477.32 Q1276.77 1477.32 1273.7 1472.74 Q1270.64 1468.13 1270.64 1459.41 Q1270.64 1450.66 1273.7 1446.07 Q1276.77 1441.47 1282.58 1441.47 Z\" fill=\"#000000\" fill-rule=\"evenodd\" fill-opacity=\"1\" /><path clip-path=\"url(#clip090)\" d=\"M 0 0 M1759.63 1445.17 Q1756.02 1445.17 1754.19 1448.74 Q1752.39 1452.28 1752.39 1459.41 Q1752.39 1466.51 1754.19 1470.08 Q1756.02 1473.62 1759.63 1473.62 Q1763.27 1473.62 1765.07 1470.08 Q1766.9 1466.51 1766.9 1459.41 Q1766.9 1452.28 1765.07 1448.74 Q1763.27 1445.17 1759.63 1445.17 M1759.63 1441.47 Q1765.44 1441.47 1768.5 1446.07 Q1771.58 1450.66 1771.58 1459.41 Q1771.58 1468.13 1768.5 1472.74 Q1765.44 1477.32 1759.63 1477.32 Q1753.82 1477.32 1750.74 1472.74 Q1747.69 1468.13 1747.69 1459.41 Q1747.69 1450.66 1750.74 1446.07 Q1753.82 1441.47 1759.63 1441.47 Z\" fill=\"#000000\" fill-rule=\"evenodd\" fill-opacity=\"1\" /><path clip-path=\"url(#clip090)\" d=\"M 0 0 M1776.65 1470.77 L1781.53 1470.77 L1781.53 1476.65 L1776.65 1476.65 L1776.65 1470.77 Z\" fill=\"#000000\" fill-rule=\"evenodd\" fill-opacity=\"1\" /><path clip-path=\"url(#clip090)\" d=\"M 0 0 M1786.64 1442.09 L1805 1442.09 L1805 1446.03 L1790.93 1446.03 L1790.93 1454.5 Q1791.95 1454.15 1792.96 1453.99 Q1793.98 1453.8 1795 1453.8 Q1800.79 1453.8 1804.17 1456.98 Q1807.55 1460.15 1807.55 1465.56 Q1807.55 1471.14 1804.08 1474.24 Q1800.6 1477.32 1794.28 1477.32 Q1792.11 1477.32 1789.84 1476.95 Q1787.59 1476.58 1785.19 1475.84 L1785.19 1471.14 Q1787.27 1472.28 1789.49 1472.83 Q1791.71 1473.39 1794.19 1473.39 Q1798.2 1473.39 1800.53 1471.28 Q1802.87 1469.18 1802.87 1465.56 Q1802.87 1461.95 1800.53 1459.85 Q1798.2 1457.74 1794.19 1457.74 Q1792.32 1457.74 1790.44 1458.16 Q1788.59 1458.57 1786.64 1459.45 L1786.64 1442.09 Z\" fill=\"#000000\" fill-rule=\"evenodd\" fill-opacity=\"1\" /><path clip-path=\"url(#clip090)\" d=\"M 0 0 M2263.03 1472.72 L2270.67 1472.72 L2270.67 1446.35 L2262.36 1448.02 L2262.36 1443.76 L2270.62 1442.09 L2275.3 1442.09 L2275.3 1472.72 L2282.94 1472.72 L2282.94 1476.65 L2263.03 1476.65 L2263.03 1472.72 Z\" fill=\"#000000\" fill-rule=\"evenodd\" fill-opacity=\"1\" /><path clip-path=\"url(#clip090)\" d=\"M 0 0 M2288.01 1470.77 L2292.89 1470.77 L2292.89 1476.65 L2288.01 1476.65 L2288.01 1470.77 Z\" fill=\"#000000\" fill-rule=\"evenodd\" fill-opacity=\"1\" /><path clip-path=\"url(#clip090)\" d=\"M 0 0 M2307.96 1445.17 Q2304.35 1445.17 2302.52 1448.74 Q2300.72 1452.28 2300.72 1459.41 Q2300.72 1466.51 2302.52 1470.08 Q2304.35 1473.62 2307.96 1473.62 Q2311.6 1473.62 2313.4 1470.08 Q2315.23 1466.51 2315.23 1459.41 Q2315.23 1452.28 2313.4 1448.74 Q2311.6 1445.17 2307.96 1445.17 M2307.96 1441.47 Q2313.77 1441.47 2316.83 1446.07 Q2319.91 1450.66 2319.91 1459.41 Q2319.91 1468.13 2316.83 1472.74 Q2313.77 1477.32 2307.96 1477.32 Q2302.15 1477.32 2299.07 1472.74 Q2296.02 1468.13 2296.02 1459.41 Q2296.02 1450.66 2299.07 1446.07 Q2302.15 1441.47 2307.96 1441.47 Z\" fill=\"#000000\" fill-rule=\"evenodd\" fill-opacity=\"1\" /><path clip-path=\"url(#clip090)\" d=\"M 0 0 M139.501 1372.19 Q135.89 1372.19 134.061 1375.76 Q132.255 1379.3 132.255 1386.43 Q132.255 1393.54 134.061 1397.1 Q135.89 1400.64 139.501 1400.64 Q143.135 1400.64 144.941 1397.1 Q146.769 1393.54 146.769 1386.43 Q146.769 1379.3 144.941 1375.76 Q143.135 1372.19 139.501 1372.19 M139.501 1368.49 Q145.311 1368.49 148.367 1373.1 Q151.445 1377.68 151.445 1386.43 Q151.445 1395.16 148.367 1399.76 Q145.311 1404.35 139.501 1404.35 Q133.691 1404.35 130.612 1399.76 Q127.556 1395.16 127.556 1386.43 Q127.556 1377.68 130.612 1373.1 Q133.691 1368.49 139.501 1368.49 Z\" fill=\"#000000\" fill-rule=\"evenodd\" fill-opacity=\"1\" /><path clip-path=\"url(#clip090)\" d=\"M 0 0 M131.538 1091.12 L139.177 1091.12 L139.177 1064.75 L130.867 1066.42 L130.867 1062.16 L139.13 1060.5 L143.806 1060.5 L143.806 1091.12 L151.445 1091.12 L151.445 1095.06 L131.538 1095.06 L131.538 1091.12 Z\" fill=\"#000000\" fill-rule=\"evenodd\" fill-opacity=\"1\" /><path clip-path=\"url(#clip090)\" d=\"M 0 0 M135.126 782.5 L151.445 782.5 L151.445 786.435 L129.501 786.435 L129.501 782.5 Q132.163 779.745 136.746 775.116 Q141.353 770.463 142.533 769.121 Q144.779 766.597 145.658 764.861 Q146.561 763.102 146.561 761.412 Q146.561 758.658 144.617 756.921 Q142.695 755.185 139.593 755.185 Q137.394 755.185 134.941 755.949 Q132.51 756.713 129.732 758.264 L129.732 753.542 Q132.556 752.408 135.01 751.829 Q137.464 751.25 139.501 751.25 Q144.871 751.25 148.066 753.935 Q151.26 756.621 151.26 761.111 Q151.26 763.241 150.45 765.162 Q149.663 767.06 147.556 769.653 Q146.978 770.324 143.876 773.542 Q140.774 776.736 135.126 782.5 Z\" fill=\"#000000\" fill-rule=\"evenodd\" fill-opacity=\"1\" /><path clip-path=\"url(#clip090)\" d=\"M 0 0 M144.316 459.181 Q147.672 459.898 149.547 462.167 Q151.445 464.435 151.445 467.769 Q151.445 472.884 147.927 475.685 Q144.408 478.486 137.927 478.486 Q135.751 478.486 133.436 478.046 Q131.144 477.63 128.691 476.773 L128.691 472.259 Q130.635 473.394 132.95 473.972 Q135.265 474.551 137.788 474.551 Q142.186 474.551 144.478 472.815 Q146.792 471.079 146.792 467.769 Q146.792 464.713 144.64 463 Q142.51 461.264 138.691 461.264 L134.663 461.264 L134.663 457.422 L138.876 457.422 Q142.325 457.422 144.154 456.056 Q145.982 454.667 145.982 452.074 Q145.982 449.412 144.084 448 Q142.209 446.565 138.691 446.565 Q136.769 446.565 134.57 446.982 Q132.371 447.399 129.732 448.278 L129.732 444.111 Q132.394 443.371 134.709 443 Q137.047 442.63 139.107 442.63 Q144.431 442.63 147.533 445.061 Q150.635 447.468 150.635 451.588 Q150.635 454.459 148.992 456.449 Q147.348 458.417 144.316 459.181 Z\" fill=\"#000000\" fill-rule=\"evenodd\" fill-opacity=\"1\" /><path clip-path=\"url(#clip090)\" d=\"M 0 0 M141.862 138.709 L130.056 157.158 L141.862 157.158 L141.862 138.709 M140.635 134.635 L146.515 134.635 L146.515 157.158 L151.445 157.158 L151.445 161.047 L146.515 161.047 L146.515 169.195 L141.862 169.195 L141.862 161.047 L126.26 161.047 L126.26 156.533 L140.635 134.635 Z\" fill=\"#000000\" fill-rule=\"evenodd\" fill-opacity=\"1\" /><path clip-path=\"url(#clip090)\" d=\"M 0 0 M874.201 12.096 L882.384 12.096 L882.384 65.6895 L911.834 65.6895 L911.834 72.576 L874.201 72.576 L874.201 12.096 Z\" fill=\"#000000\" fill-rule=\"evenodd\" fill-opacity=\"1\" /><path clip-path=\"url(#clip090)\" d=\"M 0 0 M940.271 49.7694 Q931.238 49.7694 927.754 51.8354 Q924.27 53.9013 924.27 58.8839 Q924.27 62.8538 926.863 65.2034 Q929.496 67.5124 933.992 67.5124 Q940.19 67.5124 943.917 63.1374 Q947.684 58.7219 947.684 51.4303 L947.684 49.7694 L940.271 49.7694 M955.138 46.6907 L955.138 72.576 L947.684 72.576 L947.684 65.6895 Q945.132 69.8214 941.325 71.8063 Q937.517 73.7508 932.007 73.7508 Q925.04 73.7508 920.908 69.8619 Q916.817 65.9325 916.817 59.3701 Q916.817 51.7138 921.921 47.825 Q927.065 43.9361 937.233 43.9361 L947.684 43.9361 L947.684 43.2069 Q947.684 38.0623 944.282 35.2672 Q940.919 32.4315 934.803 32.4315 Q930.914 32.4315 927.227 33.3632 Q923.541 34.295 920.138 36.1584 L920.138 29.2718 Q924.23 27.692 928.078 26.9223 Q931.926 26.1121 935.572 26.1121 Q945.416 26.1121 950.277 31.2163 Q955.138 36.3204 955.138 46.6907 Z\" fill=\"#000000\" fill-rule=\"evenodd\" fill-opacity=\"1\" /><path clip-path=\"url(#clip090)\" d=\"M 0 0 M1019.18 49.3643 Q1019.18 41.2625 1015.82 36.8065 Q1012.5 32.3505 1006.46 32.3505 Q1000.47 32.3505 997.105 36.8065 Q993.784 41.2625 993.784 49.3643 Q993.784 57.4256 997.105 61.8816 Q1000.47 66.3376 1006.46 66.3376 Q1012.5 66.3376 1015.82 61.8816 Q1019.18 57.4256 1019.18 49.3643 M1026.64 66.9452 Q1026.64 78.5308 1021.49 84.1616 Q1016.35 89.8329 1005.73 89.8329 Q1001.8 89.8329 998.321 89.2252 Q994.837 88.6581 991.556 87.4428 L991.556 80.1917 Q994.837 81.9741 998.037 82.8248 Q1001.24 83.6755 1004.56 83.6755 Q1011.89 83.6755 1015.54 79.8271 Q1019.18 76.0193 1019.18 68.282 L1019.18 64.5957 Q1016.87 68.6061 1013.27 70.5911 Q1009.66 72.576 1004.64 72.576 Q996.295 72.576 991.191 66.2161 Q986.087 59.8562 986.087 49.3643 Q986.087 38.832 991.191 32.472 Q996.295 26.1121 1004.64 26.1121 Q1009.66 26.1121 1013.27 28.0971 Q1016.87 30.082 1019.18 34.0924 L1019.18 27.2059 L1026.64 27.2059 L1026.64 66.9452 Z\" fill=\"#000000\" fill-rule=\"evenodd\" fill-opacity=\"1\" /><path clip-path=\"url(#clip090)\" d=\"M 0 0 M1060.75 34.1734 Q1059.49 33.4443 1057.99 33.1202 Q1056.53 32.7556 1054.75 32.7556 Q1048.43 32.7556 1045.03 36.8875 Q1041.67 40.9789 1041.67 48.6757 L1041.67 72.576 L1034.17 72.576 L1034.17 27.2059 L1041.67 27.2059 L1041.67 34.2544 Q1044.01 30.1225 1047.78 28.1376 Q1051.55 26.1121 1056.94 26.1121 Q1057.71 26.1121 1058.64 26.2337 Q1059.57 26.3147 1060.7 26.5172 L1060.75 34.1734 Z\" fill=\"#000000\" fill-rule=\"evenodd\" fill-opacity=\"1\" /><path clip-path=\"url(#clip090)\" d=\"M 0 0 M1089.18 49.7694 Q1080.15 49.7694 1076.67 51.8354 Q1073.18 53.9013 1073.18 58.8839 Q1073.18 62.8538 1075.77 65.2034 Q1078.41 67.5124 1082.9 67.5124 Q1089.1 67.5124 1092.83 63.1374 Q1096.6 58.7219 1096.6 51.4303 L1096.6 49.7694 L1089.18 49.7694 M1104.05 46.6907 L1104.05 72.576 L1096.6 72.576 L1096.6 65.6895 Q1094.04 69.8214 1090.24 71.8063 Q1086.43 73.7508 1080.92 73.7508 Q1073.95 73.7508 1069.82 69.8619 Q1065.73 65.9325 1065.73 59.3701 Q1065.73 51.7138 1070.83 47.825 Q1075.98 43.9361 1086.14 43.9361 L1096.6 43.9361 L1096.6 43.2069 Q1096.6 38.0623 1093.19 35.2672 Q1089.83 32.4315 1083.71 32.4315 Q1079.82 32.4315 1076.14 33.3632 Q1072.45 34.295 1069.05 36.1584 L1069.05 29.2718 Q1073.14 27.692 1076.99 26.9223 Q1080.84 26.1121 1084.48 26.1121 Q1094.33 26.1121 1099.19 31.2163 Q1104.05 36.3204 1104.05 46.6907 M1090.44 6.22219 L1098.5 6.22219 L1085.29 21.4536 L1079.1 21.4536 L1090.44 6.22219 Z\" fill=\"#000000\" fill-rule=\"evenodd\" fill-opacity=\"1\" /><path clip-path=\"url(#clip090)\" d=\"M 0 0 M1134.84 9.54393 L1134.84 15.7418 L1127.71 15.7418 Q1123.7 15.7418 1122.12 17.3622 Q1120.58 18.9825 1120.58 23.1955 L1120.58 27.2059 L1132.85 27.2059 L1132.85 32.9987 L1120.58 32.9987 L1120.58 72.576 L1113.08 72.576 L1113.08 32.9987 L1105.95 32.9987 L1105.95 27.2059 L1113.08 27.2059 L1113.08 24.0462 Q1113.08 16.471 1116.61 13.0277 Q1120.13 9.54393 1127.79 9.54393 L1134.84 9.54393 Z\" fill=\"#000000\" fill-rule=\"evenodd\" fill-opacity=\"1\" /><path clip-path=\"url(#clip090)\" d=\"M 0 0 M1142.65 27.2059 L1150.11 27.2059 L1150.11 72.576 L1142.65 72.576 L1142.65 27.2059 M1142.65 9.54393 L1150.11 9.54393 L1150.11 18.9825 L1142.65 18.9825 L1142.65 9.54393 Z\" fill=\"#000000\" fill-rule=\"evenodd\" fill-opacity=\"1\" /><path clip-path=\"url(#clip090)\" d=\"M 0 0 M1190.58 28.9478 L1190.58 35.9153 Q1187.42 34.1734 1184.22 33.3227 Q1181.06 32.4315 1177.82 32.4315 Q1170.57 32.4315 1166.55 37.0496 Q1162.54 41.6271 1162.54 49.9314 Q1162.54 58.2358 1166.55 62.8538 Q1170.57 67.4314 1177.82 67.4314 Q1181.06 67.4314 1184.22 66.5807 Q1187.42 65.6895 1190.58 63.9476 L1190.58 70.8341 Q1187.46 72.2924 1184.1 73.0216 Q1180.77 73.7508 1177.01 73.7508 Q1166.76 73.7508 1160.72 67.3098 Q1154.69 60.8689 1154.69 49.9314 Q1154.69 38.832 1160.76 32.472 Q1166.88 26.1121 1177.49 26.1121 Q1180.94 26.1121 1184.22 26.8413 Q1187.5 27.5299 1190.58 28.9478 Z\" fill=\"#000000\" fill-rule=\"evenodd\" fill-opacity=\"1\" /><path clip-path=\"url(#clip090)\" d=\"M 0 0 M1219.01 49.7694 Q1209.98 49.7694 1206.5 51.8354 Q1203.01 53.9013 1203.01 58.8839 Q1203.01 62.8538 1205.61 65.2034 Q1208.24 67.5124 1212.74 67.5124 Q1218.93 67.5124 1222.66 63.1374 Q1226.43 58.7219 1226.43 51.4303 L1226.43 49.7694 L1219.01 49.7694 M1233.88 46.6907 L1233.88 72.576 L1226.43 72.576 L1226.43 65.6895 Q1223.88 69.8214 1220.07 71.8063 Q1216.26 73.7508 1210.75 73.7508 Q1203.78 73.7508 1199.65 69.8619 Q1195.56 65.9325 1195.56 59.3701 Q1195.56 51.7138 1200.66 47.825 Q1205.81 43.9361 1215.98 43.9361 L1226.43 43.9361 L1226.43 43.2069 Q1226.43 38.0623 1223.02 35.2672 Q1219.66 32.4315 1213.55 32.4315 Q1209.66 32.4315 1205.97 33.3632 Q1202.28 34.295 1198.88 36.1584 L1198.88 29.2718 Q1202.97 27.692 1206.82 26.9223 Q1210.67 26.1121 1214.31 26.1121 Q1224.16 26.1121 1229.02 31.2163 Q1233.88 36.3204 1233.88 46.6907 Z\" fill=\"#000000\" fill-rule=\"evenodd\" fill-opacity=\"1\" /><path clip-path=\"url(#clip090)\" d=\"M 0 0 M1272.53 49.9314 Q1272.53 58.1548 1275.89 62.8538 Q1279.29 67.5124 1285.21 67.5124 Q1291.12 67.5124 1294.52 62.8538 Q1297.93 58.1548 1297.93 49.9314 Q1297.93 41.7081 1294.52 37.0496 Q1291.12 32.3505 1285.21 32.3505 Q1279.29 32.3505 1275.89 37.0496 Q1272.53 41.7081 1272.53 49.9314 M1297.93 65.7705 Q1295.58 69.8214 1291.97 71.8063 Q1288.41 73.7508 1283.38 73.7508 Q1275.16 73.7508 1269.97 67.1883 Q1264.83 60.6258 1264.83 49.9314 Q1264.83 39.2371 1269.97 32.6746 Q1275.16 26.1121 1283.38 26.1121 Q1288.41 26.1121 1291.97 28.0971 Q1295.58 30.0415 1297.93 34.0924 L1297.93 27.2059 L1305.38 27.2059 L1305.38 89.8329 L1297.93 89.8329 L1297.93 65.7705 Z\" fill=\"#000000\" fill-rule=\"evenodd\" fill-opacity=\"1\" /><path clip-path=\"url(#clip090)\" d=\"M 0 0 M1312.43 54.671 L1312.43 27.2059 L1319.88 27.2059 L1319.88 54.3874 Q1319.88 60.8284 1322.39 64.0691 Q1324.9 67.2693 1329.93 67.2693 Q1335.96 67.2693 1339.45 63.421 Q1342.97 59.5726 1342.97 52.9291 L1342.97 27.2059 L1350.43 27.2059 L1350.43 72.576 L1342.97 72.576 L1342.97 65.6084 Q1340.26 69.7404 1336.65 71.7658 Q1333.09 73.7508 1328.35 73.7508 Q1320.53 73.7508 1316.48 68.8897 Q1312.43 64.0286 1312.43 54.671 M1331.18 26.1121 L1331.18 26.1121 Z\" fill=\"#000000\" fill-rule=\"evenodd\" fill-opacity=\"1\" /><path clip-path=\"url(#clip090)\" d=\"M 0 0 M1397.05 48.0275 L1397.05 51.6733 L1362.78 51.6733 Q1363.27 59.3701 1367.4 63.421 Q1371.57 67.4314 1378.98 67.4314 Q1383.28 67.4314 1387.29 66.3781 Q1391.34 65.3249 1395.31 63.2184 L1395.31 70.267 Q1391.3 71.9684 1387.09 72.8596 Q1382.87 73.7508 1378.54 73.7508 Q1367.68 73.7508 1361.32 67.4314 Q1355 61.1119 1355 50.3365 Q1355 39.1965 1361 32.6746 Q1367.03 26.1121 1377.24 26.1121 Q1386.4 26.1121 1391.7 32.0264 Q1397.05 37.9003 1397.05 48.0275 M1389.6 45.84 Q1389.52 39.7232 1386.15 36.0774 Q1382.83 32.4315 1377.32 32.4315 Q1371.08 32.4315 1367.32 35.9558 Q1363.59 39.4801 1363.02 45.8805 L1389.6 45.84 Z\" fill=\"#000000\" fill-rule=\"evenodd\" fill-opacity=\"1\" /><path clip-path=\"url(#clip090)\" d=\"M 0 0 M1435.7 49.9314 Q1435.7 58.1548 1439.06 62.8538 Q1442.46 67.5124 1448.38 67.5124 Q1454.29 67.5124 1457.69 62.8538 Q1461.1 58.1548 1461.1 49.9314 Q1461.1 41.7081 1457.69 37.0496 Q1454.29 32.3505 1448.38 32.3505 Q1442.46 32.3505 1439.06 37.0496 Q1435.7 41.7081 1435.7 49.9314 M1461.1 65.7705 Q1458.75 69.8214 1455.14 71.8063 Q1451.58 73.7508 1446.55 73.7508 Q1438.33 73.7508 1433.14 67.1883 Q1428 60.6258 1428 49.9314 Q1428 39.2371 1433.14 32.6746 Q1438.33 26.1121 1446.55 26.1121 Q1451.58 26.1121 1455.14 28.0971 Q1458.75 30.0415 1461.1 34.0924 L1461.1 27.2059 L1468.55 27.2059 L1468.55 89.8329 L1461.1 89.8329 L1461.1 65.7705 Z\" fill=\"#000000\" fill-rule=\"evenodd\" fill-opacity=\"1\" /><path clip-path=\"url(#clip090)\" d=\"M 0 0 M1475.6 54.671 L1475.6 27.2059 L1483.05 27.2059 L1483.05 54.3874 Q1483.05 60.8284 1485.56 64.0691 Q1488.08 67.2693 1493.1 67.2693 Q1499.13 67.2693 1502.62 63.421 Q1506.14 59.5726 1506.14 52.9291 L1506.14 27.2059 L1513.6 27.2059 L1513.6 72.576 L1506.14 72.576 L1506.14 65.6084 Q1503.43 69.7404 1499.82 71.7658 Q1496.26 73.7508 1491.52 73.7508 Q1483.7 73.7508 1479.65 68.8897 Q1475.6 64.0286 1475.6 54.671 M1494.35 26.1121 L1494.35 26.1121 Z\" fill=\"#000000\" fill-rule=\"evenodd\" fill-opacity=\"1\" /><path clip-path=\"url(#clip090)\" d=\"M 0 0 M1521.41 27.2059 L1528.87 27.2059 L1528.87 72.576 L1521.41 72.576 L1521.41 27.2059 M1521.41 9.54393 L1528.87 9.54393 L1528.87 18.9825 L1521.41 18.9825 L1521.41 9.54393 Z\" fill=\"#000000\" fill-rule=\"evenodd\" fill-opacity=\"1\" /><path clip-path=\"url(#clip090)\" d=\"M 0 0 M1575.49 48.0275 L1575.49 51.6733 L1541.22 51.6733 Q1541.71 59.3701 1545.84 63.421 Q1550.01 67.4314 1557.43 67.4314 Q1561.72 67.4314 1565.73 66.3781 Q1569.78 65.3249 1573.75 63.2184 L1573.75 70.267 Q1569.74 71.9684 1565.53 72.8596 Q1561.32 73.7508 1556.98 73.7508 Q1546.12 73.7508 1539.76 67.4314 Q1533.45 61.1119 1533.45 50.3365 Q1533.45 39.1965 1539.44 32.6746 Q1545.48 26.1121 1555.68 26.1121 Q1564.84 26.1121 1570.15 32.0264 Q1575.49 37.9003 1575.49 48.0275 M1568.04 45.84 Q1567.96 39.7232 1564.6 36.0774 Q1561.27 32.4315 1555.77 32.4315 Q1549.53 32.4315 1545.76 35.9558 Q1542.03 39.4801 1541.47 45.8805 L1568.04 45.84 Z\" fill=\"#000000\" fill-rule=\"evenodd\" fill-opacity=\"1\" /><path clip-path=\"url(#clip090)\" d=\"M 0 0 M1609.6 34.1734 Q1608.35 33.4443 1606.85 33.1202 Q1605.39 32.7556 1603.61 32.7556 Q1597.29 32.7556 1593.88 36.8875 Q1590.52 40.9789 1590.52 48.6757 L1590.52 72.576 L1583.03 72.576 L1583.03 27.2059 L1590.52 27.2059 L1590.52 34.2544 Q1592.87 30.1225 1596.64 28.1376 Q1600.41 26.1121 1605.79 26.1121 Q1606.56 26.1121 1607.5 26.2337 Q1608.43 26.3147 1609.56 26.5172 L1609.6 34.1734 Z\" fill=\"#000000\" fill-rule=\"evenodd\" fill-opacity=\"1\" /><path clip-path=\"url(#clip090)\" d=\"M 0 0 M1633.18 32.4315 Q1627.18 32.4315 1623.7 37.1306 Q1620.22 41.7891 1620.22 49.9314 Q1620.22 58.0738 1623.66 62.7728 Q1627.14 67.4314 1633.18 67.4314 Q1639.13 67.4314 1642.62 62.7323 Q1646.1 58.0333 1646.1 49.9314 Q1646.1 41.8701 1642.62 37.1711 Q1639.13 32.4315 1633.18 32.4315 M1633.18 26.1121 Q1642.9 26.1121 1648.45 32.4315 Q1654 38.7509 1654 49.9314 Q1654 61.0714 1648.45 67.4314 Q1642.9 73.7508 1633.18 73.7508 Q1623.42 73.7508 1617.87 67.4314 Q1612.36 61.0714 1612.36 49.9314 Q1612.36 38.7509 1617.87 32.4315 Q1623.42 26.1121 1633.18 26.1121 Z\" fill=\"#000000\" fill-rule=\"evenodd\" fill-opacity=\"1\" /><path clip-path=\"url(#clip090)\" d=\"M 0 0 M1280.72 1520.4 L1267.82 1537.74 L1281.38 1556.04 L1274.48 1556.04 L1264.1 1542.04 L1253.72 1556.04 L1246.82 1556.04 L1260.66 1537.39 L1248 1520.4 L1254.9 1520.4 L1264.36 1533.1 L1273.81 1520.4 L1280.72 1520.4 Z\" fill=\"#000000\" fill-rule=\"evenodd\" fill-opacity=\"1\" /><path clip-path=\"url(#clip090)\" d=\"M 0 0 M91.3143 771.639 Q97.68 774.122 99.6216 776.477 Q101.563 778.832 101.563 782.779 L101.563 787.458 L96.6615 787.458 L96.6615 784.02 Q96.6615 781.601 95.5157 780.265 Q94.3699 778.928 90.1048 777.305 L87.4312 776.254 L52.3562 790.673 L52.3562 784.466 L80.238 773.326 L52.3562 762.186 L52.3562 755.979 L91.3143 771.639 Z\" fill=\"#000000\" fill-rule=\"evenodd\" fill-opacity=\"1\" /><polyline clip-path=\"url(#clip092)\" style=\"stroke:#009af9; stroke-width:4; stroke-opacity:1; fill:none\" points=\"\n",
       "  237.067,1386.4 257.815,1386.4 278.564,1386.4 299.312,1386.4 320.06,1386.4 340.808,1386.4 361.556,1386.4 382.304,1386.4 403.052,1386.4 423.801,1386.4 \n",
       "  444.549,1386.4 465.297,1386.4 486.045,1386.4 506.793,1386.4 527.541,1386.4 548.289,1386.4 569.038,1386.4 589.786,1386.4 610.534,1386.4 631.282,1386.4 \n",
       "  652.03,1386.4 672.778,1386.4 693.526,1386.4 714.275,1386.4 735.023,1386.4 755.771,1386.4 776.519,1386.4 797.267,1386.4 818.015,1386.39 838.764,1386.39 \n",
       "  859.512,1386.39 880.26,1386.38 901.008,1386.35 921.756,1386.29 942.504,1386.15 963.252,1385.85 984.001,1385.21 1004.75,1383.93 1025.5,1381.47 1046.24,1376.96 \n",
       "  1066.99,1369.02 1087.74,1355.7 1108.49,1334.32 1129.24,1301.58 1149.99,1253.79 1170.73,1187.37 1191.48,1099.62 1212.23,989.7 1232.98,859.599 1253.73,714.807 \n",
       "  1274.47,564.456 1295.22,420.675 1315.97,297.118 1336.72,206.886 1357.47,160.256 1378.22,162.756 1398.96,214.085 1419.71,308.175 1440.46,434.372 1461.21,579.414 \n",
       "  1481.96,729.714 1502.7,873.39 1523.45,1001.66 1544.2,1109.39 1564.95,1194.94 1585.7,1259.35 1606.45,1305.47 1627.19,1336.91 1647.94,1357.34 1668.69,1370.02 \n",
       "  1689.44,1377.54 1710.19,1381.79 1730.93,1384.1 1751.68,1385.3 1772.43,1385.89 1793.18,1386.17 1813.93,1386.3 1834.67,1386.36 1855.42,1386.38 1876.17,1386.39 \n",
       "  1896.92,1386.39 1917.67,1386.39 1938.42,1386.4 1959.16,1386.4 1979.91,1386.4 2000.66,1386.4 2021.41,1386.4 2042.16,1386.4 2062.9,1386.4 2083.65,1386.4 \n",
       "  2104.4,1386.4 2125.15,1386.4 2145.9,1386.4 2166.65,1386.4 2187.39,1386.4 2208.14,1386.4 2228.89,1386.4 2249.64,1386.4 2270.39,1386.4 2291.13,1386.4 \n",
       "  \n",
       "  \"/>\n",
       "<path clip-path=\"url(#clip090)\" d=\"\n",
       "M1924.09 287.756 L2280.18 287.756 L2280.18 166.796 L1924.09 166.796  Z\n",
       "  \" fill=\"#ffffff\" fill-rule=\"evenodd\" fill-opacity=\"1\"/>\n",
       "<polyline clip-path=\"url(#clip090)\" style=\"stroke:#000000; stroke-width:4; stroke-opacity:1; fill:none\" points=\"\n",
       "  1924.09,287.756 2280.18,287.756 2280.18,166.796 1924.09,166.796 1924.09,287.756 \n",
       "  \"/>\n",
       "<polyline clip-path=\"url(#clip090)\" style=\"stroke:#009af9; stroke-width:4; stroke-opacity:1; fill:none\" points=\"\n",
       "  1948.28,227.276 2093.44,227.276 \n",
       "  \"/>\n",
       "<path clip-path=\"url(#clip090)\" d=\"M 0 0 M2136.54 222.565 L2136.54 208.537 L2140.8 208.537 L2140.8 244.556 L2136.54 244.556 L2136.54 240.667 Q2135.2 242.982 2133.14 244.116 Q2131.1 245.227 2128.23 245.227 Q2123.53 245.227 2120.57 241.477 Q2117.63 237.727 2117.63 231.616 Q2117.63 225.505 2120.57 221.755 Q2123.53 218.005 2128.23 218.005 Q2131.1 218.005 2133.14 219.139 Q2135.2 220.25 2136.54 222.565 M2122.03 231.616 Q2122.03 236.315 2123.95 239 Q2125.89 241.662 2129.27 241.662 Q2132.65 241.662 2134.6 239 Q2136.54 236.315 2136.54 231.616 Q2136.54 226.917 2134.6 224.255 Q2132.65 221.57 2129.27 221.57 Q2125.89 221.57 2123.95 224.255 Q2122.03 226.917 2122.03 231.616 Z\" fill=\"#000000\" fill-rule=\"evenodd\" fill-opacity=\"1\" /><path clip-path=\"url(#clip090)\" d=\"M 0 0 M2157.05 231.523 Q2151.89 231.523 2149.9 232.704 Q2147.91 233.884 2147.91 236.732 Q2147.91 239 2149.39 240.343 Q2150.89 241.662 2153.46 241.662 Q2157 241.662 2159.13 239.162 Q2161.29 236.639 2161.29 232.472 L2161.29 231.523 L2157.05 231.523 M2165.54 229.764 L2165.54 244.556 L2161.29 244.556 L2161.29 240.621 Q2159.83 242.982 2157.65 244.116 Q2155.48 245.227 2152.33 245.227 Q2148.35 245.227 2145.98 243.005 Q2143.65 240.759 2143.65 237.009 Q2143.65 232.634 2146.56 230.412 Q2149.5 228.19 2155.31 228.19 L2161.29 228.19 L2161.29 227.773 Q2161.29 224.834 2159.34 223.236 Q2157.42 221.616 2153.92 221.616 Q2151.7 221.616 2149.6 222.148 Q2147.49 222.681 2145.54 223.746 L2145.54 219.81 Q2147.88 218.908 2150.08 218.468 Q2152.28 218.005 2154.36 218.005 Q2159.99 218.005 2162.77 220.922 Q2165.54 223.838 2165.54 229.764 Z\" fill=\"#000000\" fill-rule=\"evenodd\" fill-opacity=\"1\" /><path clip-path=\"url(#clip090)\" d=\"M 0 0 M2174.23 211.269 L2174.23 218.63 L2183 218.63 L2183 221.94 L2174.23 221.94 L2174.23 236.014 Q2174.23 239.185 2175.08 240.088 Q2175.96 240.991 2178.62 240.991 L2183 240.991 L2183 244.556 L2178.62 244.556 Q2173.69 244.556 2171.82 242.727 Q2169.94 240.875 2169.94 236.014 L2169.94 221.94 L2166.82 221.94 L2166.82 218.63 L2169.94 218.63 L2169.94 211.269 L2174.23 211.269 Z\" fill=\"#000000\" fill-rule=\"evenodd\" fill-opacity=\"1\" /><path clip-path=\"url(#clip090)\" d=\"M 0 0 M2197.51 221.616 Q2194.09 221.616 2192.1 224.301 Q2190.1 226.963 2190.1 231.616 Q2190.1 236.269 2192.07 238.954 Q2194.06 241.616 2197.51 241.616 Q2200.91 241.616 2202.91 238.931 Q2204.9 236.246 2204.9 231.616 Q2204.9 227.01 2202.91 224.324 Q2200.91 221.616 2197.51 221.616 M2197.51 218.005 Q2203.07 218.005 2206.24 221.616 Q2209.41 225.227 2209.41 231.616 Q2209.41 237.982 2206.24 241.616 Q2203.07 245.227 2197.51 245.227 Q2191.93 245.227 2188.76 241.616 Q2185.61 237.982 2185.61 231.616 Q2185.61 225.227 2188.76 221.616 Q2191.93 218.005 2197.51 218.005 Z\" fill=\"#000000\" fill-rule=\"evenodd\" fill-opacity=\"1\" /><path clip-path=\"url(#clip090)\" d=\"M 0 0 M2230.41 219.394 L2230.41 223.422 Q2228.6 222.496 2226.66 222.033 Q2224.71 221.57 2222.63 221.57 Q2219.46 221.57 2217.86 222.542 Q2216.29 223.514 2216.29 225.459 Q2216.29 226.94 2217.42 227.797 Q2218.55 228.63 2221.98 229.394 L2223.44 229.718 Q2227.97 230.69 2229.87 232.472 Q2231.79 234.232 2231.79 237.403 Q2231.79 241.014 2228.92 243.121 Q2226.08 245.227 2221.08 245.227 Q2218.99 245.227 2216.72 244.81 Q2214.48 244.417 2211.98 243.607 L2211.98 239.209 Q2214.34 240.435 2216.63 241.06 Q2218.92 241.662 2221.17 241.662 Q2224.18 241.662 2225.8 240.644 Q2227.42 239.602 2227.42 237.727 Q2227.42 235.991 2226.24 235.065 Q2225.08 234.139 2221.12 233.283 L2219.64 232.935 Q2215.68 232.102 2213.92 230.389 Q2212.16 228.653 2212.16 225.644 Q2212.16 221.986 2214.76 219.996 Q2217.35 218.005 2222.12 218.005 Q2224.48 218.005 2226.56 218.352 Q2228.65 218.699 2230.41 219.394 Z\" fill=\"#000000\" fill-rule=\"evenodd\" fill-opacity=\"1\" /></svg>\n"
      ]
     },
     "metadata": {},
     "output_type": "display_data"
    },
    {
     "data": {
      "image/svg+xml": [
       "<?xml version=\"1.0\" encoding=\"utf-8\"?>\n",
       "<svg xmlns=\"http://www.w3.org/2000/svg\" xmlns:xlink=\"http://www.w3.org/1999/xlink\" width=\"600\" height=\"400\" viewBox=\"0 0 2400 1600\">\n",
       "<defs>\n",
       "  <clipPath id=\"clip130\">\n",
       "    <rect x=\"0\" y=\"0\" width=\"2400\" height=\"1600\"/>\n",
       "  </clipPath>\n",
       "</defs>\n",
       "<path clip-path=\"url(#clip130)\" d=\"\n",
       "M0 1600 L2400 1600 L2400 0 L0 0  Z\n",
       "  \" fill=\"#ffffff\" fill-rule=\"evenodd\" fill-opacity=\"1\"/>\n",
       "<defs>\n",
       "  <clipPath id=\"clip131\">\n",
       "    <rect x=\"480\" y=\"0\" width=\"1681\" height=\"1600\"/>\n",
       "  </clipPath>\n",
       "</defs>\n",
       "<path clip-path=\"url(#clip130)\" d=\"\n",
       "M211.116 1423.18 L2352.76 1423.18 L2352.76 123.472 L211.116 123.472  Z\n",
       "  \" fill=\"#ffffff\" fill-rule=\"evenodd\" fill-opacity=\"1\"/>\n",
       "<defs>\n",
       "  <clipPath id=\"clip132\">\n",
       "    <rect x=\"211\" y=\"123\" width=\"2143\" height=\"1301\"/>\n",
       "  </clipPath>\n",
       "</defs>\n",
       "<polyline clip-path=\"url(#clip132)\" style=\"stroke:#000000; stroke-width:2; stroke-opacity:0.1; fill:none\" points=\"\n",
       "  271.729,1423.18 271.729,123.472 \n",
       "  \"/>\n",
       "<polyline clip-path=\"url(#clip132)\" style=\"stroke:#000000; stroke-width:2; stroke-opacity:0.1; fill:none\" points=\"\n",
       "  776.832,1423.18 776.832,123.472 \n",
       "  \"/>\n",
       "<polyline clip-path=\"url(#clip132)\" style=\"stroke:#000000; stroke-width:2; stroke-opacity:0.1; fill:none\" points=\"\n",
       "  1281.94,1423.18 1281.94,123.472 \n",
       "  \"/>\n",
       "<polyline clip-path=\"url(#clip132)\" style=\"stroke:#000000; stroke-width:2; stroke-opacity:0.1; fill:none\" points=\"\n",
       "  1787.04,1423.18 1787.04,123.472 \n",
       "  \"/>\n",
       "<polyline clip-path=\"url(#clip132)\" style=\"stroke:#000000; stroke-width:2; stroke-opacity:0.1; fill:none\" points=\"\n",
       "  2292.14,1423.18 2292.14,123.472 \n",
       "  \"/>\n",
       "<polyline clip-path=\"url(#clip132)\" style=\"stroke:#000000; stroke-width:2; stroke-opacity:0.1; fill:none\" points=\"\n",
       "  211.116,1386.4 2352.76,1386.4 \n",
       "  \"/>\n",
       "<polyline clip-path=\"url(#clip132)\" style=\"stroke:#000000; stroke-width:2; stroke-opacity:0.1; fill:none\" points=\"\n",
       "  211.116,1078.73 2352.76,1078.73 \n",
       "  \"/>\n",
       "<polyline clip-path=\"url(#clip132)\" style=\"stroke:#000000; stroke-width:2; stroke-opacity:0.1; fill:none\" points=\"\n",
       "  211.116,771.065 2352.76,771.065 \n",
       "  \"/>\n",
       "<polyline clip-path=\"url(#clip132)\" style=\"stroke:#000000; stroke-width:2; stroke-opacity:0.1; fill:none\" points=\"\n",
       "  211.116,463.4 2352.76,463.4 \n",
       "  \"/>\n",
       "<polyline clip-path=\"url(#clip132)\" style=\"stroke:#000000; stroke-width:2; stroke-opacity:0.1; fill:none\" points=\"\n",
       "  211.116,155.735 2352.76,155.735 \n",
       "  \"/>\n",
       "<polyline clip-path=\"url(#clip130)\" style=\"stroke:#000000; stroke-width:4; stroke-opacity:1; fill:none\" points=\"\n",
       "  211.116,1423.18 2352.76,1423.18 \n",
       "  \"/>\n",
       "<polyline clip-path=\"url(#clip130)\" style=\"stroke:#000000; stroke-width:4; stroke-opacity:1; fill:none\" points=\"\n",
       "  211.116,1423.18 211.116,123.472 \n",
       "  \"/>\n",
       "<polyline clip-path=\"url(#clip130)\" style=\"stroke:#000000; stroke-width:4; stroke-opacity:1; fill:none\" points=\"\n",
       "  271.729,1423.18 271.729,1407.58 \n",
       "  \"/>\n",
       "<polyline clip-path=\"url(#clip130)\" style=\"stroke:#000000; stroke-width:4; stroke-opacity:1; fill:none\" points=\"\n",
       "  776.832,1423.18 776.832,1407.58 \n",
       "  \"/>\n",
       "<polyline clip-path=\"url(#clip130)\" style=\"stroke:#000000; stroke-width:4; stroke-opacity:1; fill:none\" points=\"\n",
       "  1281.94,1423.18 1281.94,1407.58 \n",
       "  \"/>\n",
       "<polyline clip-path=\"url(#clip130)\" style=\"stroke:#000000; stroke-width:4; stroke-opacity:1; fill:none\" points=\"\n",
       "  1787.04,1423.18 1787.04,1407.58 \n",
       "  \"/>\n",
       "<polyline clip-path=\"url(#clip130)\" style=\"stroke:#000000; stroke-width:4; stroke-opacity:1; fill:none\" points=\"\n",
       "  2292.14,1423.18 2292.14,1407.58 \n",
       "  \"/>\n",
       "<polyline clip-path=\"url(#clip130)\" style=\"stroke:#000000; stroke-width:4; stroke-opacity:1; fill:none\" points=\"\n",
       "  211.116,1386.4 236.816,1386.4 \n",
       "  \"/>\n",
       "<polyline clip-path=\"url(#clip130)\" style=\"stroke:#000000; stroke-width:4; stroke-opacity:1; fill:none\" points=\"\n",
       "  211.116,1078.73 236.816,1078.73 \n",
       "  \"/>\n",
       "<polyline clip-path=\"url(#clip130)\" style=\"stroke:#000000; stroke-width:4; stroke-opacity:1; fill:none\" points=\"\n",
       "  211.116,771.065 236.816,771.065 \n",
       "  \"/>\n",
       "<polyline clip-path=\"url(#clip130)\" style=\"stroke:#000000; stroke-width:4; stroke-opacity:1; fill:none\" points=\"\n",
       "  211.116,463.4 236.816,463.4 \n",
       "  \"/>\n",
       "<polyline clip-path=\"url(#clip130)\" style=\"stroke:#000000; stroke-width:4; stroke-opacity:1; fill:none\" points=\"\n",
       "  211.116,155.735 236.816,155.735 \n",
       "  \"/>\n",
       "<path clip-path=\"url(#clip130)\" d=\"M 0 0 M234.113 1461.77 L246.59 1461.77 L246.59 1465.56 L234.113 1465.56 L234.113 1461.77 Z\" fill=\"#000000\" fill-rule=\"evenodd\" fill-opacity=\"1\" /><path clip-path=\"url(#clip130)\" d=\"M 0 0 M252.47 1472.72 L260.108 1472.72 L260.108 1446.35 L251.798 1448.02 L251.798 1443.76 L260.062 1442.09 L264.738 1442.09 L264.738 1472.72 L272.377 1472.72 L272.377 1476.65 L252.47 1476.65 L252.47 1472.72 Z\" fill=\"#000000\" fill-rule=\"evenodd\" fill-opacity=\"1\" /><path clip-path=\"url(#clip130)\" d=\"M 0 0 M277.446 1470.77 L282.331 1470.77 L282.331 1476.65 L277.446 1476.65 L277.446 1470.77 Z\" fill=\"#000000\" fill-rule=\"evenodd\" fill-opacity=\"1\" /><path clip-path=\"url(#clip130)\" d=\"M 0 0 M297.4 1445.17 Q293.789 1445.17 291.96 1448.74 Q290.155 1452.28 290.155 1459.41 Q290.155 1466.51 291.96 1470.08 Q293.789 1473.62 297.4 1473.62 Q301.034 1473.62 302.84 1470.08 Q304.668 1466.51 304.668 1459.41 Q304.668 1452.28 302.84 1448.74 Q301.034 1445.17 297.4 1445.17 M297.4 1441.47 Q303.21 1441.47 306.266 1446.07 Q309.344 1450.66 309.344 1459.41 Q309.344 1468.13 306.266 1472.74 Q303.21 1477.32 297.4 1477.32 Q291.59 1477.32 288.511 1472.74 Q285.456 1468.13 285.456 1459.41 Q285.456 1450.66 288.511 1446.07 Q291.59 1441.47 297.4 1441.47 Z\" fill=\"#000000\" fill-rule=\"evenodd\" fill-opacity=\"1\" /><path clip-path=\"url(#clip130)\" d=\"M 0 0 M739.101 1461.77 L751.578 1461.77 L751.578 1465.56 L739.101 1465.56 L739.101 1461.77 Z\" fill=\"#000000\" fill-rule=\"evenodd\" fill-opacity=\"1\" /><path clip-path=\"url(#clip130)\" d=\"M 0 0 M766.647 1445.17 Q763.036 1445.17 761.208 1448.74 Q759.402 1452.28 759.402 1459.41 Q759.402 1466.51 761.208 1470.08 Q763.036 1473.62 766.647 1473.62 Q770.282 1473.62 772.087 1470.08 Q773.916 1466.51 773.916 1459.41 Q773.916 1452.28 772.087 1448.74 Q770.282 1445.17 766.647 1445.17 M766.647 1441.47 Q772.457 1441.47 775.513 1446.07 Q778.592 1450.66 778.592 1459.41 Q778.592 1468.13 775.513 1472.74 Q772.457 1477.32 766.647 1477.32 Q760.837 1477.32 757.758 1472.74 Q754.703 1468.13 754.703 1459.41 Q754.703 1450.66 757.758 1446.07 Q760.837 1441.47 766.647 1441.47 Z\" fill=\"#000000\" fill-rule=\"evenodd\" fill-opacity=\"1\" /><path clip-path=\"url(#clip130)\" d=\"M 0 0 M783.661 1470.77 L788.545 1470.77 L788.545 1476.65 L783.661 1476.65 L783.661 1470.77 Z\" fill=\"#000000\" fill-rule=\"evenodd\" fill-opacity=\"1\" /><path clip-path=\"url(#clip130)\" d=\"M 0 0 M793.661 1442.09 L812.017 1442.09 L812.017 1446.03 L797.943 1446.03 L797.943 1454.5 Q798.962 1454.15 799.98 1453.99 Q800.999 1453.8 802.017 1453.8 Q807.804 1453.8 811.184 1456.98 Q814.564 1460.15 814.564 1465.56 Q814.564 1471.14 811.092 1474.24 Q807.619 1477.32 801.3 1477.32 Q799.124 1477.32 796.855 1476.95 Q794.61 1476.58 792.203 1475.84 L792.203 1471.14 Q794.286 1472.28 796.508 1472.83 Q798.73 1473.39 801.207 1473.39 Q805.212 1473.39 807.55 1471.28 Q809.888 1469.18 809.888 1465.56 Q809.888 1461.95 807.55 1459.85 Q805.212 1457.74 801.207 1457.74 Q799.332 1457.74 797.457 1458.16 Q795.605 1458.57 793.661 1459.45 L793.661 1442.09 Z\" fill=\"#000000\" fill-rule=\"evenodd\" fill-opacity=\"1\" /><path clip-path=\"url(#clip130)\" d=\"M 0 0 M1263.45 1445.17 Q1259.84 1445.17 1258.01 1448.74 Q1256.21 1452.28 1256.21 1459.41 Q1256.21 1466.51 1258.01 1470.08 Q1259.84 1473.62 1263.45 1473.62 Q1267.09 1473.62 1268.89 1470.08 Q1270.72 1466.51 1270.72 1459.41 Q1270.72 1452.28 1268.89 1448.74 Q1267.09 1445.17 1263.45 1445.17 M1263.45 1441.47 Q1269.26 1441.47 1272.32 1446.07 Q1275.4 1450.66 1275.4 1459.41 Q1275.4 1468.13 1272.32 1472.74 Q1269.26 1477.32 1263.45 1477.32 Q1257.64 1477.32 1254.56 1472.74 Q1251.51 1468.13 1251.51 1459.41 Q1251.51 1450.66 1254.56 1446.07 Q1257.64 1441.47 1263.45 1441.47 Z\" fill=\"#000000\" fill-rule=\"evenodd\" fill-opacity=\"1\" /><path clip-path=\"url(#clip130)\" d=\"M 0 0 M1280.47 1470.77 L1285.35 1470.77 L1285.35 1476.65 L1280.47 1476.65 L1280.47 1470.77 Z\" fill=\"#000000\" fill-rule=\"evenodd\" fill-opacity=\"1\" /><path clip-path=\"url(#clip130)\" d=\"M 0 0 M1300.42 1445.17 Q1296.81 1445.17 1294.98 1448.74 Q1293.17 1452.28 1293.17 1459.41 Q1293.17 1466.51 1294.98 1470.08 Q1296.81 1473.62 1300.42 1473.62 Q1304.05 1473.62 1305.86 1470.08 Q1307.69 1466.51 1307.69 1459.41 Q1307.69 1452.28 1305.86 1448.74 Q1304.05 1445.17 1300.42 1445.17 M1300.42 1441.47 Q1306.23 1441.47 1309.29 1446.07 Q1312.36 1450.66 1312.36 1459.41 Q1312.36 1468.13 1309.29 1472.74 Q1306.23 1477.32 1300.42 1477.32 Q1294.61 1477.32 1291.53 1472.74 Q1288.48 1468.13 1288.48 1459.41 Q1288.48 1450.66 1291.53 1446.07 Q1294.61 1441.47 1300.42 1441.47 Z\" fill=\"#000000\" fill-rule=\"evenodd\" fill-opacity=\"1\" /><path clip-path=\"url(#clip130)\" d=\"M 0 0 M1769.05 1445.17 Q1765.44 1445.17 1763.61 1448.74 Q1761.81 1452.28 1761.81 1459.41 Q1761.81 1466.51 1763.61 1470.08 Q1765.44 1473.62 1769.05 1473.62 Q1772.69 1473.62 1774.49 1470.08 Q1776.32 1466.51 1776.32 1459.41 Q1776.32 1452.28 1774.49 1448.74 Q1772.69 1445.17 1769.05 1445.17 M1769.05 1441.47 Q1774.86 1441.47 1777.92 1446.07 Q1781 1450.66 1781 1459.41 Q1781 1468.13 1777.92 1472.74 Q1774.86 1477.32 1769.05 1477.32 Q1763.24 1477.32 1760.16 1472.74 Q1757.11 1468.13 1757.11 1459.41 Q1757.11 1450.66 1760.16 1446.07 Q1763.24 1441.47 1769.05 1441.47 Z\" fill=\"#000000\" fill-rule=\"evenodd\" fill-opacity=\"1\" /><path clip-path=\"url(#clip130)\" d=\"M 0 0 M1786.07 1470.77 L1790.95 1470.77 L1790.95 1476.65 L1786.07 1476.65 L1786.07 1470.77 Z\" fill=\"#000000\" fill-rule=\"evenodd\" fill-opacity=\"1\" /><path clip-path=\"url(#clip130)\" d=\"M 0 0 M1796.07 1442.09 L1814.42 1442.09 L1814.42 1446.03 L1800.35 1446.03 L1800.35 1454.5 Q1801.37 1454.15 1802.39 1453.99 Q1803.41 1453.8 1804.42 1453.8 Q1810.21 1453.8 1813.59 1456.98 Q1816.97 1460.15 1816.97 1465.56 Q1816.97 1471.14 1813.5 1474.24 Q1810.03 1477.32 1803.71 1477.32 Q1801.53 1477.32 1799.26 1476.95 Q1797.02 1476.58 1794.61 1475.84 L1794.61 1471.14 Q1796.69 1472.28 1798.91 1472.83 Q1801.14 1473.39 1803.61 1473.39 Q1807.62 1473.39 1809.96 1471.28 Q1812.29 1469.18 1812.29 1465.56 Q1812.29 1461.95 1809.96 1459.85 Q1807.62 1457.74 1803.61 1457.74 Q1801.74 1457.74 1799.86 1458.16 Q1798.01 1458.57 1796.07 1459.45 L1796.07 1442.09 Z\" fill=\"#000000\" fill-rule=\"evenodd\" fill-opacity=\"1\" /><path clip-path=\"url(#clip130)\" d=\"M 0 0 M2264.04 1472.72 L2271.68 1472.72 L2271.68 1446.35 L2263.37 1448.02 L2263.37 1443.76 L2271.63 1442.09 L2276.31 1442.09 L2276.31 1472.72 L2283.95 1472.72 L2283.95 1476.65 L2264.04 1476.65 L2264.04 1472.72 Z\" fill=\"#000000\" fill-rule=\"evenodd\" fill-opacity=\"1\" /><path clip-path=\"url(#clip130)\" d=\"M 0 0 M2289.02 1470.77 L2293.9 1470.77 L2293.9 1476.65 L2289.02 1476.65 L2289.02 1470.77 Z\" fill=\"#000000\" fill-rule=\"evenodd\" fill-opacity=\"1\" /><path clip-path=\"url(#clip130)\" d=\"M 0 0 M2308.97 1445.17 Q2305.36 1445.17 2303.53 1448.74 Q2301.73 1452.28 2301.73 1459.41 Q2301.73 1466.51 2303.53 1470.08 Q2305.36 1473.62 2308.97 1473.62 Q2312.61 1473.62 2314.41 1470.08 Q2316.24 1466.51 2316.24 1459.41 Q2316.24 1452.28 2314.41 1448.74 Q2312.61 1445.17 2308.97 1445.17 M2308.97 1441.47 Q2314.78 1441.47 2317.84 1446.07 Q2320.92 1450.66 2320.92 1459.41 Q2320.92 1468.13 2317.84 1472.74 Q2314.78 1477.32 2308.97 1477.32 Q2303.16 1477.32 2300.08 1472.74 Q2297.03 1468.13 2297.03 1459.41 Q2297.03 1450.66 2300.08 1446.07 Q2303.16 1441.47 2308.97 1441.47 Z\" fill=\"#000000\" fill-rule=\"evenodd\" fill-opacity=\"1\" /><path clip-path=\"url(#clip130)\" d=\"M 0 0 M138.205 1372.19 Q134.593 1372.19 132.765 1375.76 Q130.959 1379.3 130.959 1386.43 Q130.959 1393.54 132.765 1397.1 Q134.593 1400.64 138.205 1400.64 Q141.839 1400.64 143.644 1397.1 Q145.473 1393.54 145.473 1386.43 Q145.473 1379.3 143.644 1375.76 Q141.839 1372.19 138.205 1372.19 M138.205 1368.49 Q144.015 1368.49 147.07 1373.1 Q150.149 1377.68 150.149 1386.43 Q150.149 1395.16 147.07 1399.76 Q144.015 1404.35 138.205 1404.35 Q132.394 1404.35 129.316 1399.76 Q126.26 1395.16 126.26 1386.43 Q126.26 1377.68 129.316 1373.1 Q132.394 1368.49 138.205 1368.49 Z\" fill=\"#000000\" fill-rule=\"evenodd\" fill-opacity=\"1\" /><path clip-path=\"url(#clip130)\" d=\"M 0 0 M155.218 1397.8 L160.103 1397.8 L160.103 1403.68 L155.218 1403.68 L155.218 1397.8 Z\" fill=\"#000000\" fill-rule=\"evenodd\" fill-opacity=\"1\" /><path clip-path=\"url(#clip130)\" d=\"M 0 0 M175.172 1372.19 Q171.561 1372.19 169.732 1375.76 Q167.927 1379.3 167.927 1386.43 Q167.927 1393.54 169.732 1397.1 Q171.561 1400.64 175.172 1400.64 Q178.806 1400.64 180.612 1397.1 Q182.44 1393.54 182.44 1386.43 Q182.44 1379.3 180.612 1375.76 Q178.806 1372.19 175.172 1372.19 M175.172 1368.49 Q180.982 1368.49 184.038 1373.1 Q187.116 1377.68 187.116 1386.43 Q187.116 1395.16 184.038 1399.76 Q180.982 1404.35 175.172 1404.35 Q169.362 1404.35 166.283 1399.76 Q163.228 1395.16 163.228 1386.43 Q163.228 1377.68 166.283 1373.1 Q169.362 1368.49 175.172 1368.49 Z\" fill=\"#000000\" fill-rule=\"evenodd\" fill-opacity=\"1\" /><path clip-path=\"url(#clip130)\" d=\"M 0 0 M139.2 1064.53 Q135.589 1064.53 133.76 1068.09 Q131.955 1071.64 131.955 1078.77 Q131.955 1085.87 133.76 1089.44 Q135.589 1092.98 139.2 1092.98 Q142.834 1092.98 144.64 1089.44 Q146.468 1085.87 146.468 1078.77 Q146.468 1071.64 144.64 1068.09 Q142.834 1064.53 139.2 1064.53 M139.2 1060.83 Q145.01 1060.83 148.066 1065.43 Q151.144 1070.02 151.144 1078.77 Q151.144 1087.49 148.066 1092.1 Q145.01 1096.68 139.2 1096.68 Q133.39 1096.68 130.311 1092.1 Q127.256 1087.49 127.256 1078.77 Q127.256 1070.02 130.311 1065.43 Q133.39 1060.83 139.2 1060.83 Z\" fill=\"#000000\" fill-rule=\"evenodd\" fill-opacity=\"1\" /><path clip-path=\"url(#clip130)\" d=\"M 0 0 M156.214 1090.13 L161.098 1090.13 L161.098 1096.01 L156.214 1096.01 L156.214 1090.13 Z\" fill=\"#000000\" fill-rule=\"evenodd\" fill-opacity=\"1\" /><path clip-path=\"url(#clip130)\" d=\"M 0 0 M166.214 1061.45 L184.57 1061.45 L184.57 1065.39 L170.496 1065.39 L170.496 1073.86 Q171.515 1073.51 172.533 1073.35 Q173.552 1073.16 174.57 1073.16 Q180.357 1073.16 183.737 1076.33 Q187.116 1079.51 187.116 1084.92 Q187.116 1090.5 183.644 1093.6 Q180.172 1096.68 173.852 1096.68 Q171.677 1096.68 169.408 1096.31 Q167.163 1095.94 164.755 1095.2 L164.755 1090.5 Q166.839 1091.64 169.061 1092.19 Q171.283 1092.75 173.76 1092.75 Q177.765 1092.75 180.102 1090.64 Q182.44 1088.53 182.44 1084.92 Q182.44 1081.31 180.102 1079.21 Q177.765 1077.1 173.76 1077.1 Q171.885 1077.1 170.01 1077.52 Q168.158 1077.93 166.214 1078.81 L166.214 1061.45 Z\" fill=\"#000000\" fill-rule=\"evenodd\" fill-opacity=\"1\" /><path clip-path=\"url(#clip130)\" d=\"M 0 0 M130.242 784.41 L137.88 784.41 L137.88 758.045 L129.57 759.711 L129.57 755.452 L137.834 753.785 L142.51 753.785 L142.51 784.41 L150.149 784.41 L150.149 788.345 L130.242 788.345 L130.242 784.41 Z\" fill=\"#000000\" fill-rule=\"evenodd\" fill-opacity=\"1\" /><path clip-path=\"url(#clip130)\" d=\"M 0 0 M155.218 782.466 L160.103 782.466 L160.103 788.345 L155.218 788.345 L155.218 782.466 Z\" fill=\"#000000\" fill-rule=\"evenodd\" fill-opacity=\"1\" /><path clip-path=\"url(#clip130)\" d=\"M 0 0 M175.172 756.864 Q171.561 756.864 169.732 760.429 Q167.927 763.97 167.927 771.1 Q167.927 778.207 169.732 781.771 Q171.561 785.313 175.172 785.313 Q178.806 785.313 180.612 781.771 Q182.44 778.207 182.44 771.1 Q182.44 763.97 180.612 760.429 Q178.806 756.864 175.172 756.864 M175.172 753.16 Q180.982 753.16 184.038 757.767 Q187.116 762.35 187.116 771.1 Q187.116 779.827 184.038 784.433 Q180.982 789.017 175.172 789.017 Q169.362 789.017 166.283 784.433 Q163.228 779.827 163.228 771.1 Q163.228 762.35 166.283 757.767 Q169.362 753.16 175.172 753.16 Z\" fill=\"#000000\" fill-rule=\"evenodd\" fill-opacity=\"1\" /><path clip-path=\"url(#clip130)\" d=\"M 0 0 M131.237 476.745 L138.876 476.745 L138.876 450.379 L130.566 452.046 L130.566 447.787 L138.83 446.12 L143.505 446.12 L143.505 476.745 L151.144 476.745 L151.144 480.68 L131.237 480.68 L131.237 476.745 Z\" fill=\"#000000\" fill-rule=\"evenodd\" fill-opacity=\"1\" /><path clip-path=\"url(#clip130)\" d=\"M 0 0 M156.214 474.8 L161.098 474.8 L161.098 480.68 L156.214 480.68 L156.214 474.8 Z\" fill=\"#000000\" fill-rule=\"evenodd\" fill-opacity=\"1\" /><path clip-path=\"url(#clip130)\" d=\"M 0 0 M166.214 446.12 L184.57 446.12 L184.57 450.055 L170.496 450.055 L170.496 458.527 Q171.515 458.18 172.533 458.018 Q173.552 457.833 174.57 457.833 Q180.357 457.833 183.737 461.004 Q187.116 464.176 187.116 469.592 Q187.116 475.171 183.644 478.273 Q180.172 481.351 173.852 481.351 Q171.677 481.351 169.408 480.981 Q167.163 480.611 164.755 479.87 L164.755 475.171 Q166.839 476.305 169.061 476.861 Q171.283 477.416 173.76 477.416 Q177.765 477.416 180.102 475.31 Q182.44 473.203 182.44 469.592 Q182.44 465.981 180.102 463.875 Q177.765 461.768 173.76 461.768 Q171.885 461.768 170.01 462.185 Q168.158 462.601 166.214 463.481 L166.214 446.12 Z\" fill=\"#000000\" fill-rule=\"evenodd\" fill-opacity=\"1\" /><path clip-path=\"url(#clip130)\" d=\"M 0 0 M133.83 169.08 L150.149 169.08 L150.149 173.015 L128.205 173.015 L128.205 169.08 Q130.867 166.325 135.45 161.695 Q140.056 157.043 141.237 155.7 Q143.482 153.177 144.362 151.441 Q145.265 149.682 145.265 147.992 Q145.265 145.237 143.32 143.501 Q141.399 141.765 138.297 141.765 Q136.098 141.765 133.644 142.529 Q131.214 143.293 128.436 144.844 L128.436 140.121 Q131.26 138.987 133.714 138.408 Q136.168 137.83 138.205 137.83 Q143.575 137.83 146.769 140.515 Q149.964 143.2 149.964 147.691 Q149.964 149.82 149.154 151.742 Q148.367 153.64 146.26 156.232 Q145.681 156.904 142.58 160.121 Q139.478 163.316 133.83 169.08 Z\" fill=\"#000000\" fill-rule=\"evenodd\" fill-opacity=\"1\" /><path clip-path=\"url(#clip130)\" d=\"M 0 0 M155.218 167.135 L160.103 167.135 L160.103 173.015 L155.218 173.015 L155.218 167.135 Z\" fill=\"#000000\" fill-rule=\"evenodd\" fill-opacity=\"1\" /><path clip-path=\"url(#clip130)\" d=\"M 0 0 M175.172 141.533 Q171.561 141.533 169.732 145.098 Q167.927 148.64 167.927 155.769 Q167.927 162.876 169.732 166.441 Q171.561 169.982 175.172 169.982 Q178.806 169.982 180.612 166.441 Q182.44 162.876 182.44 155.769 Q182.44 148.64 180.612 145.098 Q178.806 141.533 175.172 141.533 M175.172 137.83 Q180.982 137.83 184.038 142.436 Q187.116 147.02 187.116 155.769 Q187.116 164.496 184.038 169.103 Q180.982 173.686 175.172 173.686 Q169.362 173.686 166.283 169.103 Q163.228 164.496 163.228 155.769 Q163.228 147.02 166.283 142.436 Q169.362 137.83 175.172 137.83 Z\" fill=\"#000000\" fill-rule=\"evenodd\" fill-opacity=\"1\" /><path clip-path=\"url(#clip130)\" d=\"M 0 0 M892.037 12.096 L900.219 12.096 L900.219 65.6895 L929.669 65.6895 L929.669 72.576 L892.037 72.576 L892.037 12.096 Z\" fill=\"#000000\" fill-rule=\"evenodd\" fill-opacity=\"1\" /><path clip-path=\"url(#clip130)\" d=\"M 0 0 M958.107 49.7694 Q949.073 49.7694 945.59 51.8354 Q942.106 53.9013 942.106 58.8839 Q942.106 62.8538 944.698 65.2034 Q947.331 67.5124 951.828 67.5124 Q958.026 67.5124 961.753 63.1374 Q965.52 58.7219 965.52 51.4303 L965.52 49.7694 L958.107 49.7694 M972.974 46.6907 L972.974 72.576 L965.52 72.576 L965.52 65.6895 Q962.968 69.8214 959.16 71.8063 Q955.352 73.7508 949.843 73.7508 Q942.875 73.7508 938.744 69.8619 Q934.652 65.9325 934.652 59.3701 Q934.652 51.7138 939.756 47.825 Q944.901 43.9361 955.069 43.9361 L965.52 43.9361 L965.52 43.2069 Q965.52 38.0623 962.117 35.2672 Q958.755 32.4315 952.638 32.4315 Q948.749 32.4315 945.063 33.3632 Q941.377 34.295 937.974 36.1584 L937.974 29.2718 Q942.065 27.692 945.914 26.9223 Q949.762 26.1121 953.408 26.1121 Q963.251 26.1121 968.113 31.2163 Q972.974 36.3204 972.974 46.6907 Z\" fill=\"#000000\" fill-rule=\"evenodd\" fill-opacity=\"1\" /><path clip-path=\"url(#clip130)\" d=\"M 0 0 M1037.02 49.3643 Q1037.02 41.2625 1033.66 36.8065 Q1030.33 32.3505 1024.3 32.3505 Q1018.3 32.3505 1014.94 36.8065 Q1011.62 41.2625 1011.62 49.3643 Q1011.62 57.4256 1014.94 61.8816 Q1018.3 66.3376 1024.3 66.3376 Q1030.33 66.3376 1033.66 61.8816 Q1037.02 57.4256 1037.02 49.3643 M1044.47 66.9452 Q1044.47 78.5308 1039.33 84.1616 Q1034.18 89.8329 1023.57 89.8329 Q1019.64 89.8329 1016.16 89.2252 Q1012.67 88.6581 1009.39 87.4428 L1009.39 80.1917 Q1012.67 81.9741 1015.87 82.8248 Q1019.07 83.6755 1022.39 83.6755 Q1029.73 83.6755 1033.37 79.8271 Q1037.02 76.0193 1037.02 68.282 L1037.02 64.5957 Q1034.71 68.6061 1031.1 70.5911 Q1027.5 72.576 1022.48 72.576 Q1014.13 72.576 1009.03 66.2161 Q1003.92 59.8562 1003.92 49.3643 Q1003.92 38.832 1009.03 32.472 Q1014.13 26.1121 1022.48 26.1121 Q1027.5 26.1121 1031.1 28.0971 Q1034.71 30.082 1037.02 34.0924 L1037.02 27.2059 L1044.47 27.2059 L1044.47 66.9452 Z\" fill=\"#000000\" fill-rule=\"evenodd\" fill-opacity=\"1\" /><path clip-path=\"url(#clip130)\" d=\"M 0 0 M1078.58 34.1734 Q1077.32 33.4443 1075.83 33.1202 Q1074.37 32.7556 1072.59 32.7556 Q1066.27 32.7556 1062.86 36.8875 Q1059.5 40.9789 1059.5 48.6757 L1059.5 72.576 L1052.01 72.576 L1052.01 27.2059 L1059.5 27.2059 L1059.5 34.2544 Q1061.85 30.1225 1065.62 28.1376 Q1069.39 26.1121 1074.77 26.1121 Q1075.54 26.1121 1076.47 26.2337 Q1077.41 26.3147 1078.54 26.5172 L1078.58 34.1734 Z\" fill=\"#000000\" fill-rule=\"evenodd\" fill-opacity=\"1\" /><path clip-path=\"url(#clip130)\" d=\"M 0 0 M1107.02 49.7694 Q1097.98 49.7694 1094.5 51.8354 Q1091.02 53.9013 1091.02 58.8839 Q1091.02 62.8538 1093.61 65.2034 Q1096.24 67.5124 1100.74 67.5124 Q1106.94 67.5124 1110.66 63.1374 Q1114.43 58.7219 1114.43 51.4303 L1114.43 49.7694 L1107.02 49.7694 M1121.88 46.6907 L1121.88 72.576 L1114.43 72.576 L1114.43 65.6895 Q1111.88 69.8214 1108.07 71.8063 Q1104.26 73.7508 1098.75 73.7508 Q1091.79 73.7508 1087.65 69.8619 Q1083.56 65.9325 1083.56 59.3701 Q1083.56 51.7138 1088.67 47.825 Q1093.81 43.9361 1103.98 43.9361 L1114.43 43.9361 L1114.43 43.2069 Q1114.43 38.0623 1111.03 35.2672 Q1107.67 32.4315 1101.55 32.4315 Q1097.66 32.4315 1093.97 33.3632 Q1090.29 34.295 1086.89 36.1584 L1086.89 29.2718 Q1090.98 27.692 1094.82 26.9223 Q1098.67 26.1121 1102.32 26.1121 Q1112.16 26.1121 1117.02 31.2163 Q1121.88 36.3204 1121.88 46.6907 M1108.27 6.22219 L1116.34 6.22219 L1103.13 21.4536 L1096.93 21.4536 L1108.27 6.22219 Z\" fill=\"#000000\" fill-rule=\"evenodd\" fill-opacity=\"1\" /><path clip-path=\"url(#clip130)\" d=\"M 0 0 M1152.67 9.54393 L1152.67 15.7418 L1145.54 15.7418 Q1141.53 15.7418 1139.95 17.3622 Q1138.41 18.9825 1138.41 23.1955 L1138.41 27.2059 L1150.69 27.2059 L1150.69 32.9987 L1138.41 32.9987 L1138.41 72.576 L1130.92 72.576 L1130.92 32.9987 L1123.79 32.9987 L1123.79 27.2059 L1130.92 27.2059 L1130.92 24.0462 Q1130.92 16.471 1134.44 13.0277 Q1137.97 9.54393 1145.62 9.54393 L1152.67 9.54393 Z\" fill=\"#000000\" fill-rule=\"evenodd\" fill-opacity=\"1\" /><path clip-path=\"url(#clip130)\" d=\"M 0 0 M1160.49 27.2059 L1167.94 27.2059 L1167.94 72.576 L1160.49 72.576 L1160.49 27.2059 M1160.49 9.54393 L1167.94 9.54393 L1167.94 18.9825 L1160.49 18.9825 L1160.49 9.54393 Z\" fill=\"#000000\" fill-rule=\"evenodd\" fill-opacity=\"1\" /><path clip-path=\"url(#clip130)\" d=\"M 0 0 M1208.41 28.9478 L1208.41 35.9153 Q1205.25 34.1734 1202.05 33.3227 Q1198.89 32.4315 1195.65 32.4315 Q1188.4 32.4315 1184.39 37.0496 Q1180.38 41.6271 1180.38 49.9314 Q1180.38 58.2358 1184.39 62.8538 Q1188.4 67.4314 1195.65 67.4314 Q1198.89 67.4314 1202.05 66.5807 Q1205.25 65.6895 1208.41 63.9476 L1208.41 70.8341 Q1205.29 72.2924 1201.93 73.0216 Q1198.61 73.7508 1194.84 73.7508 Q1184.59 73.7508 1178.56 67.3098 Q1172.52 60.8689 1172.52 49.9314 Q1172.52 38.832 1178.6 32.472 Q1184.71 26.1121 1195.33 26.1121 Q1198.77 26.1121 1202.05 26.8413 Q1205.33 27.5299 1208.41 28.9478 Z\" fill=\"#000000\" fill-rule=\"evenodd\" fill-opacity=\"1\" /><path clip-path=\"url(#clip130)\" d=\"M 0 0 M1236.85 49.7694 Q1227.82 49.7694 1224.33 51.8354 Q1220.85 53.9013 1220.85 58.8839 Q1220.85 62.8538 1223.44 65.2034 Q1226.07 67.5124 1230.57 67.5124 Q1236.77 67.5124 1240.5 63.1374 Q1244.26 58.7219 1244.26 51.4303 L1244.26 49.7694 L1236.85 49.7694 M1251.72 46.6907 L1251.72 72.576 L1244.26 72.576 L1244.26 65.6895 Q1241.71 69.8214 1237.9 71.8063 Q1234.09 73.7508 1228.59 73.7508 Q1221.62 73.7508 1217.49 69.8619 Q1213.39 65.9325 1213.39 59.3701 Q1213.39 51.7138 1218.5 47.825 Q1223.64 43.9361 1233.81 43.9361 L1244.26 43.9361 L1244.26 43.2069 Q1244.26 38.0623 1240.86 35.2672 Q1237.5 32.4315 1231.38 32.4315 Q1227.49 32.4315 1223.81 33.3632 Q1220.12 34.295 1216.72 36.1584 L1216.72 29.2718 Q1220.81 27.692 1224.66 26.9223 Q1228.5 26.1121 1232.15 26.1121 Q1241.99 26.1121 1246.86 31.2163 Q1251.72 36.3204 1251.72 46.6907 Z\" fill=\"#000000\" fill-rule=\"evenodd\" fill-opacity=\"1\" /><path clip-path=\"url(#clip130)\" d=\"M 0 0 M1290.36 49.9314 Q1290.36 58.1548 1293.72 62.8538 Q1297.13 67.5124 1303.04 67.5124 Q1308.96 67.5124 1312.36 62.8538 Q1315.76 58.1548 1315.76 49.9314 Q1315.76 41.7081 1312.36 37.0496 Q1308.96 32.3505 1303.04 32.3505 Q1297.13 32.3505 1293.72 37.0496 Q1290.36 41.7081 1290.36 49.9314 M1315.76 65.7705 Q1313.41 69.8214 1309.81 71.8063 Q1306.24 73.7508 1301.22 73.7508 Q1293 73.7508 1287.81 67.1883 Q1282.67 60.6258 1282.67 49.9314 Q1282.67 39.2371 1287.81 32.6746 Q1293 26.1121 1301.22 26.1121 Q1306.24 26.1121 1309.81 28.0971 Q1313.41 30.0415 1315.76 34.0924 L1315.76 27.2059 L1323.21 27.2059 L1323.21 89.8329 L1315.76 89.8329 L1315.76 65.7705 Z\" fill=\"#000000\" fill-rule=\"evenodd\" fill-opacity=\"1\" /><path clip-path=\"url(#clip130)\" d=\"M 0 0 M1330.26 54.671 L1330.26 27.2059 L1337.72 27.2059 L1337.72 54.3874 Q1337.72 60.8284 1340.23 64.0691 Q1342.74 67.2693 1347.76 67.2693 Q1353.8 67.2693 1357.28 63.421 Q1360.81 59.5726 1360.81 52.9291 L1360.81 27.2059 L1368.26 27.2059 L1368.26 72.576 L1360.81 72.576 L1360.81 65.6084 Q1358.09 69.7404 1354.49 71.7658 Q1350.92 73.7508 1346.18 73.7508 Q1338.37 73.7508 1334.31 68.8897 Q1330.26 64.0286 1330.26 54.671 M1349.02 26.1121 L1349.02 26.1121 Z\" fill=\"#000000\" fill-rule=\"evenodd\" fill-opacity=\"1\" /><path clip-path=\"url(#clip130)\" d=\"M 0 0 M1414.89 48.0275 L1414.89 51.6733 L1380.62 51.6733 Q1381.1 59.3701 1385.23 63.421 Q1389.41 67.4314 1396.82 67.4314 Q1401.11 67.4314 1405.12 66.3781 Q1409.18 65.3249 1413.14 63.2184 L1413.14 70.267 Q1409.13 71.9684 1404.92 72.8596 Q1400.71 73.7508 1396.37 73.7508 Q1385.52 73.7508 1379.16 67.4314 Q1372.84 61.1119 1372.84 50.3365 Q1372.84 39.1965 1378.83 32.6746 Q1384.87 26.1121 1395.08 26.1121 Q1404.23 26.1121 1409.54 32.0264 Q1414.89 37.9003 1414.89 48.0275 M1407.43 45.84 Q1407.35 39.7232 1403.99 36.0774 Q1400.67 32.4315 1395.16 32.4315 Q1388.92 32.4315 1385.15 35.9558 Q1381.43 39.4801 1380.86 45.8805 L1407.43 45.84 Z\" fill=\"#000000\" fill-rule=\"evenodd\" fill-opacity=\"1\" /><path clip-path=\"url(#clip130)\" d=\"M 0 0 M1453.53 49.9314 Q1453.53 58.1548 1456.89 62.8538 Q1460.3 67.5124 1466.21 67.5124 Q1472.13 67.5124 1475.53 62.8538 Q1478.93 58.1548 1478.93 49.9314 Q1478.93 41.7081 1475.53 37.0496 Q1472.13 32.3505 1466.21 32.3505 Q1460.3 32.3505 1456.89 37.0496 Q1453.53 41.7081 1453.53 49.9314 M1478.93 65.7705 Q1476.58 69.8214 1472.98 71.8063 Q1469.41 73.7508 1464.39 73.7508 Q1456.17 73.7508 1450.98 67.1883 Q1445.84 60.6258 1445.84 49.9314 Q1445.84 39.2371 1450.98 32.6746 Q1456.17 26.1121 1464.39 26.1121 Q1469.41 26.1121 1472.98 28.0971 Q1476.58 30.0415 1478.93 34.0924 L1478.93 27.2059 L1486.39 27.2059 L1486.39 89.8329 L1478.93 89.8329 L1478.93 65.7705 Z\" fill=\"#000000\" fill-rule=\"evenodd\" fill-opacity=\"1\" /><path clip-path=\"url(#clip130)\" d=\"M 0 0 M1493.43 54.671 L1493.43 27.2059 L1500.89 27.2059 L1500.89 54.3874 Q1500.89 60.8284 1503.4 64.0691 Q1505.91 67.2693 1510.93 67.2693 Q1516.97 67.2693 1520.45 63.421 Q1523.98 59.5726 1523.98 52.9291 L1523.98 27.2059 L1531.43 27.2059 L1531.43 72.576 L1523.98 72.576 L1523.98 65.6084 Q1521.26 69.7404 1517.66 71.7658 Q1514.09 73.7508 1509.35 73.7508 Q1501.54 73.7508 1497.48 68.8897 Q1493.43 64.0286 1493.43 54.671 M1512.19 26.1121 L1512.19 26.1121 Z\" fill=\"#000000\" fill-rule=\"evenodd\" fill-opacity=\"1\" /><path clip-path=\"url(#clip130)\" d=\"M 0 0 M1539.25 27.2059 L1546.7 27.2059 L1546.7 72.576 L1539.25 72.576 L1539.25 27.2059 M1539.25 9.54393 L1546.7 9.54393 L1546.7 18.9825 L1539.25 18.9825 L1539.25 9.54393 Z\" fill=\"#000000\" fill-rule=\"evenodd\" fill-opacity=\"1\" /><path clip-path=\"url(#clip130)\" d=\"M 0 0 M1593.33 48.0275 L1593.33 51.6733 L1559.06 51.6733 Q1559.54 59.3701 1563.68 63.421 Q1567.85 67.4314 1575.26 67.4314 Q1579.56 67.4314 1583.57 66.3781 Q1587.62 65.3249 1591.59 63.2184 L1591.59 70.267 Q1587.58 71.9684 1583.36 72.8596 Q1579.15 73.7508 1574.82 73.7508 Q1563.96 73.7508 1557.6 67.4314 Q1551.28 61.1119 1551.28 50.3365 Q1551.28 39.1965 1557.28 32.6746 Q1563.31 26.1121 1573.52 26.1121 Q1582.68 26.1121 1587.98 32.0264 Q1593.33 37.9003 1593.33 48.0275 M1585.88 45.84 Q1585.79 39.7232 1582.43 36.0774 Q1579.11 32.4315 1573.6 32.4315 Q1567.36 32.4315 1563.6 35.9558 Q1559.87 39.4801 1559.3 45.8805 L1585.88 45.84 Z\" fill=\"#000000\" fill-rule=\"evenodd\" fill-opacity=\"1\" /><path clip-path=\"url(#clip130)\" d=\"M 0 0 M1627.44 34.1734 Q1626.18 33.4443 1624.68 33.1202 Q1623.22 32.7556 1621.44 32.7556 Q1615.12 32.7556 1611.72 36.8875 Q1608.36 40.9789 1608.36 48.6757 L1608.36 72.576 L1600.86 72.576 L1600.86 27.2059 L1608.36 27.2059 L1608.36 34.2544 Q1610.71 30.1225 1614.47 28.1376 Q1618.24 26.1121 1623.63 26.1121 Q1624.4 26.1121 1625.33 26.2337 Q1626.26 26.3147 1627.4 26.5172 L1627.44 34.1734 Z\" fill=\"#000000\" fill-rule=\"evenodd\" fill-opacity=\"1\" /><path clip-path=\"url(#clip130)\" d=\"M 0 0 M1651.01 32.4315 Q1645.02 32.4315 1641.53 37.1306 Q1638.05 41.7891 1638.05 49.9314 Q1638.05 58.0738 1641.49 62.7728 Q1644.98 67.4314 1651.01 67.4314 Q1656.97 67.4314 1660.45 62.7323 Q1663.94 58.0333 1663.94 49.9314 Q1663.94 41.8701 1660.45 37.1711 Q1656.97 32.4315 1651.01 32.4315 M1651.01 26.1121 Q1660.74 26.1121 1666.29 32.4315 Q1671.84 38.7509 1671.84 49.9314 Q1671.84 61.0714 1666.29 67.4314 Q1660.74 73.7508 1651.01 73.7508 Q1641.25 73.7508 1635.7 67.4314 Q1630.19 61.0714 1630.19 49.9314 Q1630.19 38.7509 1635.7 32.4315 Q1641.25 26.1121 1651.01 26.1121 Z\" fill=\"#000000\" fill-rule=\"evenodd\" fill-opacity=\"1\" /><path clip-path=\"url(#clip130)\" d=\"M 0 0 M1298.55 1520.4 L1285.66 1537.74 L1299.22 1556.04 L1292.31 1556.04 L1281.94 1542.04 L1271.56 1556.04 L1264.65 1556.04 L1278.5 1537.39 L1265.83 1520.4 L1272.74 1520.4 L1282.19 1533.1 L1291.64 1520.4 L1298.55 1520.4 Z\" fill=\"#000000\" fill-rule=\"evenodd\" fill-opacity=\"1\" /><path clip-path=\"url(#clip130)\" d=\"M 0 0 M91.3143 771.639 Q97.68 774.122 99.6216 776.477 Q101.563 778.832 101.563 782.779 L101.563 787.458 L96.6615 787.458 L96.6615 784.02 Q96.6615 781.601 95.5157 780.265 Q94.3699 778.928 90.1048 777.305 L87.4312 776.254 L52.3562 790.673 L52.3562 784.466 L80.238 773.326 L52.3562 762.186 L52.3562 755.979 L91.3143 771.639 Z\" fill=\"#000000\" fill-rule=\"evenodd\" fill-opacity=\"1\" /><polyline clip-path=\"url(#clip132)\" style=\"stroke:#009af9; stroke-width:4; stroke-opacity:1; fill:none\" points=\"\n",
       "  271.729,1386.4 292.137,1386.4 312.545,1386.4 332.953,1386.39 353.362,1386.39 373.77,1386.39 394.178,1386.39 414.586,1386.38 434.995,1386.38 455.403,1386.36 \n",
       "  475.811,1386.34 496.219,1386.32 516.628,1386.27 537.036,1386.2 557.444,1386.11 577.852,1385.96 598.26,1385.75 618.669,1385.44 639.077,1385 659.485,1384.38 \n",
       "  679.893,1383.51 700.302,1382.32 720.71,1380.69 741.118,1378.5 761.526,1375.56 781.934,1371.69 802.343,1366.64 822.751,1360.12 843.159,1351.8 863.567,1341.32 \n",
       "  883.976,1328.25 904.384,1312.15 924.792,1292.57 945.2,1269.01 965.609,1241.04 986.017,1208.23 1006.43,1170.22 1026.83,1126.77 1047.24,1077.76 1067.65,1023.21 \n",
       "  1088.06,963.364 1108.47,898.657 1128.87,829.76 1149.28,757.581 1169.69,683.253 1190.1,608.12 1210.51,533.705 1230.92,461.657 1251.32,393.701 1271.73,331.57 \n",
       "  1292.14,276.928 1312.55,231.301 1332.96,196.005 1353.36,172.084 1373.77,160.256 1394.18,160.882 1414.59,173.941 1435,199.037 1455.41,235.418 1475.81,282.01 \n",
       "  1496.22,337.473 1516.63,400.263 1537.04,468.706 1557.45,541.068 1577.86,615.628 1598.26,690.746 1618.67,764.916 1639.08,836.815 1659.49,905.329 1679.9,969.576 \n",
       "  1700.3,1028.91 1720.71,1082.91 1741.12,1131.37 1761.53,1174.26 1781.94,1211.74 1802.35,1244.05 1822.75,1271.56 1843.16,1294.7 1863.57,1313.91 1883.98,1329.69 \n",
       "  1904.39,1342.48 1924.8,1352.73 1945.2,1360.85 1965.61,1367.21 1986.02,1372.13 2006.43,1375.9 2026.84,1378.75 2047.24,1380.88 2067.65,1382.46 2088.06,1383.61 \n",
       "  2108.47,1384.45 2128.88,1385.05 2149.29,1385.47 2169.69,1385.77 2190.1,1385.98 2210.51,1386.12 2230.92,1386.21 2251.33,1386.28 2271.74,1386.32 2292.14,1386.35 \n",
       "  \n",
       "  \"/>\n",
       "<path clip-path=\"url(#clip130)\" d=\"\n",
       "M1929.24 287.756 L2281.37 287.756 L2281.37 166.796 L1929.24 166.796  Z\n",
       "  \" fill=\"#ffffff\" fill-rule=\"evenodd\" fill-opacity=\"1\"/>\n",
       "<polyline clip-path=\"url(#clip130)\" style=\"stroke:#000000; stroke-width:4; stroke-opacity:1; fill:none\" points=\"\n",
       "  1929.24,287.756 2281.37,287.756 2281.37,166.796 1929.24,166.796 1929.24,287.756 \n",
       "  \"/>\n",
       "<polyline clip-path=\"url(#clip130)\" style=\"stroke:#009af9; stroke-width:4; stroke-opacity:1; fill:none\" points=\"\n",
       "  1953.04,227.276 2095.81,227.276 \n",
       "  \"/>\n",
       "<path clip-path=\"url(#clip130)\" d=\"M 0 0 M2138.52 222.565 L2138.52 208.537 L2142.78 208.537 L2142.78 244.556 L2138.52 244.556 L2138.52 240.667 Q2137.18 242.982 2135.12 244.116 Q2133.08 245.227 2130.21 245.227 Q2125.51 245.227 2122.55 241.477 Q2119.61 237.727 2119.61 231.616 Q2119.61 225.505 2122.55 221.755 Q2125.51 218.005 2130.21 218.005 Q2133.08 218.005 2135.12 219.139 Q2137.18 220.25 2138.52 222.565 M2124.01 231.616 Q2124.01 236.315 2125.93 239 Q2127.87 241.662 2131.25 241.662 Q2134.63 241.662 2136.58 239 Q2138.52 236.315 2138.52 231.616 Q2138.52 226.917 2136.58 224.255 Q2134.63 221.57 2131.25 221.57 Q2127.87 221.57 2125.93 224.255 Q2124.01 226.917 2124.01 231.616 Z\" fill=\"#000000\" fill-rule=\"evenodd\" fill-opacity=\"1\" /><path clip-path=\"url(#clip130)\" d=\"M 0 0 M2159.03 231.523 Q2153.87 231.523 2151.88 232.704 Q2149.89 233.884 2149.89 236.732 Q2149.89 239 2151.37 240.343 Q2152.87 241.662 2155.44 241.662 Q2158.98 241.662 2161.11 239.162 Q2163.27 236.639 2163.27 232.472 L2163.27 231.523 L2159.03 231.523 M2167.53 229.764 L2167.53 244.556 L2163.27 244.556 L2163.27 240.621 Q2161.81 242.982 2159.63 244.116 Q2157.46 245.227 2154.31 245.227 Q2150.33 245.227 2147.97 243.005 Q2145.63 240.759 2145.63 237.009 Q2145.63 232.634 2148.54 230.412 Q2151.48 228.19 2157.29 228.19 L2163.27 228.19 L2163.27 227.773 Q2163.27 224.834 2161.32 223.236 Q2159.4 221.616 2155.91 221.616 Q2153.68 221.616 2151.58 222.148 Q2149.47 222.681 2147.53 223.746 L2147.53 219.81 Q2149.86 218.908 2152.06 218.468 Q2154.26 218.005 2156.35 218.005 Q2161.97 218.005 2164.75 220.922 Q2167.53 223.838 2167.53 229.764 Z\" fill=\"#000000\" fill-rule=\"evenodd\" fill-opacity=\"1\" /><path clip-path=\"url(#clip130)\" d=\"M 0 0 M2176.21 211.269 L2176.21 218.63 L2184.98 218.63 L2184.98 221.94 L2176.21 221.94 L2176.21 236.014 Q2176.21 239.185 2177.06 240.088 Q2177.94 240.991 2180.6 240.991 L2184.98 240.991 L2184.98 244.556 L2180.6 244.556 Q2175.67 244.556 2173.8 242.727 Q2171.92 240.875 2171.92 236.014 L2171.92 221.94 L2168.8 221.94 L2168.8 218.63 L2171.92 218.63 L2171.92 211.269 L2176.21 211.269 Z\" fill=\"#000000\" fill-rule=\"evenodd\" fill-opacity=\"1\" /><path clip-path=\"url(#clip130)\" d=\"M 0 0 M2199.49 221.616 Q2196.07 221.616 2194.08 224.301 Q2192.09 226.963 2192.09 231.616 Q2192.09 236.269 2194.05 238.954 Q2196.04 241.616 2199.49 241.616 Q2202.9 241.616 2204.89 238.931 Q2206.88 236.246 2206.88 231.616 Q2206.88 227.01 2204.89 224.324 Q2202.9 221.616 2199.49 221.616 M2199.49 218.005 Q2205.05 218.005 2208.22 221.616 Q2211.39 225.227 2211.39 231.616 Q2211.39 237.982 2208.22 241.616 Q2205.05 245.227 2199.49 245.227 Q2193.92 245.227 2190.74 241.616 Q2187.6 237.982 2187.6 231.616 Q2187.6 225.227 2190.74 221.616 Q2193.92 218.005 2199.49 218.005 Z\" fill=\"#000000\" fill-rule=\"evenodd\" fill-opacity=\"1\" /><path clip-path=\"url(#clip130)\" d=\"M 0 0 M2232.39 219.394 L2232.39 223.422 Q2230.58 222.496 2228.64 222.033 Q2226.69 221.57 2224.61 221.57 Q2221.44 221.57 2219.84 222.542 Q2218.27 223.514 2218.27 225.459 Q2218.27 226.94 2219.4 227.797 Q2220.54 228.63 2223.96 229.394 L2225.42 229.718 Q2229.96 230.69 2231.85 232.472 Q2233.78 234.232 2233.78 237.403 Q2233.78 241.014 2230.91 243.121 Q2228.06 245.227 2223.06 245.227 Q2220.98 245.227 2218.71 244.81 Q2216.46 244.417 2213.96 243.607 L2213.96 239.209 Q2216.32 240.435 2218.61 241.06 Q2220.91 241.662 2223.15 241.662 Q2226.16 241.662 2227.78 240.644 Q2229.4 239.602 2229.4 237.727 Q2229.4 235.991 2228.22 235.065 Q2227.06 234.139 2223.1 233.283 L2221.62 232.935 Q2217.66 232.102 2215.91 230.389 Q2214.15 228.653 2214.15 225.644 Q2214.15 221.986 2216.74 219.996 Q2219.33 218.005 2224.1 218.005 Q2226.46 218.005 2228.54 218.352 Q2230.63 218.699 2232.39 219.394 Z\" fill=\"#000000\" fill-rule=\"evenodd\" fill-opacity=\"1\" /></svg>\n"
      ]
     },
     "metadata": {},
     "output_type": "display_data"
    },
    {
     "data": {
      "image/svg+xml": [
       "<?xml version=\"1.0\" encoding=\"utf-8\"?>\n",
       "<svg xmlns=\"http://www.w3.org/2000/svg\" xmlns:xlink=\"http://www.w3.org/1999/xlink\" width=\"600\" height=\"400\" viewBox=\"0 0 2400 1600\">\n",
       "<defs>\n",
       "  <clipPath id=\"clip170\">\n",
       "    <rect x=\"0\" y=\"0\" width=\"2400\" height=\"1600\"/>\n",
       "  </clipPath>\n",
       "</defs>\n",
       "<path clip-path=\"url(#clip170)\" d=\"\n",
       "M0 1600 L2400 1600 L2400 0 L0 0  Z\n",
       "  \" fill=\"#ffffff\" fill-rule=\"evenodd\" fill-opacity=\"1\"/>\n",
       "<defs>\n",
       "  <clipPath id=\"clip171\">\n",
       "    <rect x=\"480\" y=\"0\" width=\"1681\" height=\"1600\"/>\n",
       "  </clipPath>\n",
       "</defs>\n",
       "<path clip-path=\"url(#clip170)\" d=\"\n",
       "M175.445 1423.18 L2352.76 1423.18 L2352.76 123.472 L175.445 123.472  Z\n",
       "  \" fill=\"#ffffff\" fill-rule=\"evenodd\" fill-opacity=\"1\"/>\n",
       "<defs>\n",
       "  <clipPath id=\"clip172\">\n",
       "    <rect x=\"175\" y=\"123\" width=\"2178\" height=\"1301\"/>\n",
       "  </clipPath>\n",
       "</defs>\n",
       "<polyline clip-path=\"url(#clip172)\" style=\"stroke:#000000; stroke-width:2; stroke-opacity:0.1; fill:none\" points=\"\n",
       "  237.067,1423.18 237.067,123.472 \n",
       "  \"/>\n",
       "<polyline clip-path=\"url(#clip172)\" style=\"stroke:#000000; stroke-width:2; stroke-opacity:0.1; fill:none\" points=\"\n",
       "  750.584,1423.18 750.584,123.472 \n",
       "  \"/>\n",
       "<polyline clip-path=\"url(#clip172)\" style=\"stroke:#000000; stroke-width:2; stroke-opacity:0.1; fill:none\" points=\"\n",
       "  1264.1,1423.18 1264.1,123.472 \n",
       "  \"/>\n",
       "<polyline clip-path=\"url(#clip172)\" style=\"stroke:#000000; stroke-width:2; stroke-opacity:0.1; fill:none\" points=\"\n",
       "  1777.62,1423.18 1777.62,123.472 \n",
       "  \"/>\n",
       "<polyline clip-path=\"url(#clip172)\" style=\"stroke:#000000; stroke-width:2; stroke-opacity:0.1; fill:none\" points=\"\n",
       "  2291.13,1423.18 2291.13,123.472 \n",
       "  \"/>\n",
       "<polyline clip-path=\"url(#clip172)\" style=\"stroke:#000000; stroke-width:2; stroke-opacity:0.1; fill:none\" points=\"\n",
       "  175.445,1386.4 2352.76,1386.4 \n",
       "  \"/>\n",
       "<polyline clip-path=\"url(#clip172)\" style=\"stroke:#000000; stroke-width:2; stroke-opacity:0.1; fill:none\" points=\"\n",
       "  175.445,1078.28 2352.76,1078.28 \n",
       "  \"/>\n",
       "<polyline clip-path=\"url(#clip172)\" style=\"stroke:#000000; stroke-width:2; stroke-opacity:0.1; fill:none\" points=\"\n",
       "  175.445,770.162 2352.76,770.162 \n",
       "  \"/>\n",
       "<polyline clip-path=\"url(#clip172)\" style=\"stroke:#000000; stroke-width:2; stroke-opacity:0.1; fill:none\" points=\"\n",
       "  175.445,462.045 2352.76,462.045 \n",
       "  \"/>\n",
       "<polyline clip-path=\"url(#clip172)\" style=\"stroke:#000000; stroke-width:2; stroke-opacity:0.1; fill:none\" points=\"\n",
       "  175.445,153.928 2352.76,153.928 \n",
       "  \"/>\n",
       "<polyline clip-path=\"url(#clip170)\" style=\"stroke:#000000; stroke-width:4; stroke-opacity:1; fill:none\" points=\"\n",
       "  175.445,1423.18 2352.76,1423.18 \n",
       "  \"/>\n",
       "<polyline clip-path=\"url(#clip170)\" style=\"stroke:#000000; stroke-width:4; stroke-opacity:1; fill:none\" points=\"\n",
       "  175.445,1423.18 175.445,123.472 \n",
       "  \"/>\n",
       "<polyline clip-path=\"url(#clip170)\" style=\"stroke:#000000; stroke-width:4; stroke-opacity:1; fill:none\" points=\"\n",
       "  237.067,1423.18 237.067,1407.58 \n",
       "  \"/>\n",
       "<polyline clip-path=\"url(#clip170)\" style=\"stroke:#000000; stroke-width:4; stroke-opacity:1; fill:none\" points=\"\n",
       "  750.584,1423.18 750.584,1407.58 \n",
       "  \"/>\n",
       "<polyline clip-path=\"url(#clip170)\" style=\"stroke:#000000; stroke-width:4; stroke-opacity:1; fill:none\" points=\"\n",
       "  1264.1,1423.18 1264.1,1407.58 \n",
       "  \"/>\n",
       "<polyline clip-path=\"url(#clip170)\" style=\"stroke:#000000; stroke-width:4; stroke-opacity:1; fill:none\" points=\"\n",
       "  1777.62,1423.18 1777.62,1407.58 \n",
       "  \"/>\n",
       "<polyline clip-path=\"url(#clip170)\" style=\"stroke:#000000; stroke-width:4; stroke-opacity:1; fill:none\" points=\"\n",
       "  2291.13,1423.18 2291.13,1407.58 \n",
       "  \"/>\n",
       "<polyline clip-path=\"url(#clip170)\" style=\"stroke:#000000; stroke-width:4; stroke-opacity:1; fill:none\" points=\"\n",
       "  175.445,1386.4 201.573,1386.4 \n",
       "  \"/>\n",
       "<polyline clip-path=\"url(#clip170)\" style=\"stroke:#000000; stroke-width:4; stroke-opacity:1; fill:none\" points=\"\n",
       "  175.445,1078.28 201.573,1078.28 \n",
       "  \"/>\n",
       "<polyline clip-path=\"url(#clip170)\" style=\"stroke:#000000; stroke-width:4; stroke-opacity:1; fill:none\" points=\"\n",
       "  175.445,770.162 201.573,770.162 \n",
       "  \"/>\n",
       "<polyline clip-path=\"url(#clip170)\" style=\"stroke:#000000; stroke-width:4; stroke-opacity:1; fill:none\" points=\"\n",
       "  175.445,462.045 201.573,462.045 \n",
       "  \"/>\n",
       "<polyline clip-path=\"url(#clip170)\" style=\"stroke:#000000; stroke-width:4; stroke-opacity:1; fill:none\" points=\"\n",
       "  175.445,153.928 201.573,153.928 \n",
       "  \"/>\n",
       "<path clip-path=\"url(#clip170)\" d=\"M 0 0 M199.452 1461.77 L211.928 1461.77 L211.928 1465.56 L199.452 1465.56 L199.452 1461.77 Z\" fill=\"#000000\" fill-rule=\"evenodd\" fill-opacity=\"1\" /><path clip-path=\"url(#clip170)\" d=\"M 0 0 M217.808 1472.72 L225.447 1472.72 L225.447 1446.35 L217.137 1448.02 L217.137 1443.76 L225.401 1442.09 L230.077 1442.09 L230.077 1472.72 L237.715 1472.72 L237.715 1476.65 L217.808 1476.65 L217.808 1472.72 Z\" fill=\"#000000\" fill-rule=\"evenodd\" fill-opacity=\"1\" /><path clip-path=\"url(#clip170)\" d=\"M 0 0 M242.785 1470.77 L247.669 1470.77 L247.669 1476.65 L242.785 1476.65 L242.785 1470.77 Z\" fill=\"#000000\" fill-rule=\"evenodd\" fill-opacity=\"1\" /><path clip-path=\"url(#clip170)\" d=\"M 0 0 M262.738 1445.17 Q259.127 1445.17 257.299 1448.74 Q255.493 1452.28 255.493 1459.41 Q255.493 1466.51 257.299 1470.08 Q259.127 1473.62 262.738 1473.62 Q266.373 1473.62 268.178 1470.08 Q270.007 1466.51 270.007 1459.41 Q270.007 1452.28 268.178 1448.74 Q266.373 1445.17 262.738 1445.17 M262.738 1441.47 Q268.549 1441.47 271.604 1446.07 Q274.683 1450.66 274.683 1459.41 Q274.683 1468.13 271.604 1472.74 Q268.549 1477.32 262.738 1477.32 Q256.928 1477.32 253.85 1472.74 Q250.794 1468.13 250.794 1459.41 Q250.794 1450.66 253.85 1446.07 Q256.928 1441.47 262.738 1441.47 Z\" fill=\"#000000\" fill-rule=\"evenodd\" fill-opacity=\"1\" /><path clip-path=\"url(#clip170)\" d=\"M 0 0 M712.853 1461.77 L725.329 1461.77 L725.329 1465.56 L712.853 1465.56 L712.853 1461.77 Z\" fill=\"#000000\" fill-rule=\"evenodd\" fill-opacity=\"1\" /><path clip-path=\"url(#clip170)\" d=\"M 0 0 M740.399 1445.17 Q736.788 1445.17 734.959 1448.74 Q733.153 1452.28 733.153 1459.41 Q733.153 1466.51 734.959 1470.08 Q736.788 1473.62 740.399 1473.62 Q744.033 1473.62 745.839 1470.08 Q747.667 1466.51 747.667 1459.41 Q747.667 1452.28 745.839 1448.74 Q744.033 1445.17 740.399 1445.17 M740.399 1441.47 Q746.209 1441.47 749.264 1446.07 Q752.343 1450.66 752.343 1459.41 Q752.343 1468.13 749.264 1472.74 Q746.209 1477.32 740.399 1477.32 Q734.589 1477.32 731.51 1472.74 Q728.454 1468.13 728.454 1459.41 Q728.454 1450.66 731.51 1446.07 Q734.589 1441.47 740.399 1441.47 Z\" fill=\"#000000\" fill-rule=\"evenodd\" fill-opacity=\"1\" /><path clip-path=\"url(#clip170)\" d=\"M 0 0 M757.413 1470.77 L762.297 1470.77 L762.297 1476.65 L757.413 1476.65 L757.413 1470.77 Z\" fill=\"#000000\" fill-rule=\"evenodd\" fill-opacity=\"1\" /><path clip-path=\"url(#clip170)\" d=\"M 0 0 M767.412 1442.09 L785.769 1442.09 L785.769 1446.03 L771.695 1446.03 L771.695 1454.5 Q772.713 1454.15 773.732 1453.99 Q774.75 1453.8 775.769 1453.8 Q781.556 1453.8 784.936 1456.98 Q788.315 1460.15 788.315 1465.56 Q788.315 1471.14 784.843 1474.24 Q781.371 1477.32 775.051 1477.32 Q772.875 1477.32 770.607 1476.95 Q768.362 1476.58 765.954 1475.84 L765.954 1471.14 Q768.037 1472.28 770.26 1472.83 Q772.482 1473.39 774.959 1473.39 Q778.963 1473.39 781.301 1471.28 Q783.639 1469.18 783.639 1465.56 Q783.639 1461.95 781.301 1459.85 Q778.963 1457.74 774.959 1457.74 Q773.084 1457.74 771.209 1458.16 Q769.357 1458.57 767.412 1459.45 L767.412 1442.09 Z\" fill=\"#000000\" fill-rule=\"evenodd\" fill-opacity=\"1\" /><path clip-path=\"url(#clip170)\" d=\"M 0 0 M1245.62 1445.17 Q1242.01 1445.17 1240.18 1448.74 Q1238.37 1452.28 1238.37 1459.41 Q1238.37 1466.51 1240.18 1470.08 Q1242.01 1473.62 1245.62 1473.62 Q1249.25 1473.62 1251.06 1470.08 Q1252.89 1466.51 1252.89 1459.41 Q1252.89 1452.28 1251.06 1448.74 Q1249.25 1445.17 1245.62 1445.17 M1245.62 1441.47 Q1251.43 1441.47 1254.48 1446.07 Q1257.56 1450.66 1257.56 1459.41 Q1257.56 1468.13 1254.48 1472.74 Q1251.43 1477.32 1245.62 1477.32 Q1239.81 1477.32 1236.73 1472.74 Q1233.67 1468.13 1233.67 1459.41 Q1233.67 1450.66 1236.73 1446.07 Q1239.81 1441.47 1245.62 1441.47 Z\" fill=\"#000000\" fill-rule=\"evenodd\" fill-opacity=\"1\" /><path clip-path=\"url(#clip170)\" d=\"M 0 0 M1262.63 1470.77 L1267.51 1470.77 L1267.51 1476.65 L1262.63 1476.65 L1262.63 1470.77 Z\" fill=\"#000000\" fill-rule=\"evenodd\" fill-opacity=\"1\" /><path clip-path=\"url(#clip170)\" d=\"M 0 0 M1282.58 1445.17 Q1278.97 1445.17 1277.14 1448.74 Q1275.34 1452.28 1275.34 1459.41 Q1275.34 1466.51 1277.14 1470.08 Q1278.97 1473.62 1282.58 1473.62 Q1286.22 1473.62 1288.02 1470.08 Q1289.85 1466.51 1289.85 1459.41 Q1289.85 1452.28 1288.02 1448.74 Q1286.22 1445.17 1282.58 1445.17 M1282.58 1441.47 Q1288.39 1441.47 1291.45 1446.07 Q1294.53 1450.66 1294.53 1459.41 Q1294.53 1468.13 1291.45 1472.74 Q1288.39 1477.32 1282.58 1477.32 Q1276.77 1477.32 1273.7 1472.74 Q1270.64 1468.13 1270.64 1459.41 Q1270.64 1450.66 1273.7 1446.07 Q1276.77 1441.47 1282.58 1441.47 Z\" fill=\"#000000\" fill-rule=\"evenodd\" fill-opacity=\"1\" /><path clip-path=\"url(#clip170)\" d=\"M 0 0 M1759.63 1445.17 Q1756.02 1445.17 1754.19 1448.74 Q1752.39 1452.28 1752.39 1459.41 Q1752.39 1466.51 1754.19 1470.08 Q1756.02 1473.62 1759.63 1473.62 Q1763.27 1473.62 1765.07 1470.08 Q1766.9 1466.51 1766.9 1459.41 Q1766.9 1452.28 1765.07 1448.74 Q1763.27 1445.17 1759.63 1445.17 M1759.63 1441.47 Q1765.44 1441.47 1768.5 1446.07 Q1771.58 1450.66 1771.58 1459.41 Q1771.58 1468.13 1768.5 1472.74 Q1765.44 1477.32 1759.63 1477.32 Q1753.82 1477.32 1750.74 1472.74 Q1747.69 1468.13 1747.69 1459.41 Q1747.69 1450.66 1750.74 1446.07 Q1753.82 1441.47 1759.63 1441.47 Z\" fill=\"#000000\" fill-rule=\"evenodd\" fill-opacity=\"1\" /><path clip-path=\"url(#clip170)\" d=\"M 0 0 M1776.65 1470.77 L1781.53 1470.77 L1781.53 1476.65 L1776.65 1476.65 L1776.65 1470.77 Z\" fill=\"#000000\" fill-rule=\"evenodd\" fill-opacity=\"1\" /><path clip-path=\"url(#clip170)\" d=\"M 0 0 M1786.64 1442.09 L1805 1442.09 L1805 1446.03 L1790.93 1446.03 L1790.93 1454.5 Q1791.95 1454.15 1792.96 1453.99 Q1793.98 1453.8 1795 1453.8 Q1800.79 1453.8 1804.17 1456.98 Q1807.55 1460.15 1807.55 1465.56 Q1807.55 1471.14 1804.08 1474.24 Q1800.6 1477.32 1794.28 1477.32 Q1792.11 1477.32 1789.84 1476.95 Q1787.59 1476.58 1785.19 1475.84 L1785.19 1471.14 Q1787.27 1472.28 1789.49 1472.83 Q1791.71 1473.39 1794.19 1473.39 Q1798.2 1473.39 1800.53 1471.28 Q1802.87 1469.18 1802.87 1465.56 Q1802.87 1461.95 1800.53 1459.85 Q1798.2 1457.74 1794.19 1457.74 Q1792.32 1457.74 1790.44 1458.16 Q1788.59 1458.57 1786.64 1459.45 L1786.64 1442.09 Z\" fill=\"#000000\" fill-rule=\"evenodd\" fill-opacity=\"1\" /><path clip-path=\"url(#clip170)\" d=\"M 0 0 M2263.03 1472.72 L2270.67 1472.72 L2270.67 1446.35 L2262.36 1448.02 L2262.36 1443.76 L2270.62 1442.09 L2275.3 1442.09 L2275.3 1472.72 L2282.94 1472.72 L2282.94 1476.65 L2263.03 1476.65 L2263.03 1472.72 Z\" fill=\"#000000\" fill-rule=\"evenodd\" fill-opacity=\"1\" /><path clip-path=\"url(#clip170)\" d=\"M 0 0 M2288.01 1470.77 L2292.89 1470.77 L2292.89 1476.65 L2288.01 1476.65 L2288.01 1470.77 Z\" fill=\"#000000\" fill-rule=\"evenodd\" fill-opacity=\"1\" /><path clip-path=\"url(#clip170)\" d=\"M 0 0 M2307.96 1445.17 Q2304.35 1445.17 2302.52 1448.74 Q2300.72 1452.28 2300.72 1459.41 Q2300.72 1466.51 2302.52 1470.08 Q2304.35 1473.62 2307.96 1473.62 Q2311.6 1473.62 2313.4 1470.08 Q2315.23 1466.51 2315.23 1459.41 Q2315.23 1452.28 2313.4 1448.74 Q2311.6 1445.17 2307.96 1445.17 M2307.96 1441.47 Q2313.77 1441.47 2316.83 1446.07 Q2319.91 1450.66 2319.91 1459.41 Q2319.91 1468.13 2316.83 1472.74 Q2313.77 1477.32 2307.96 1477.32 Q2302.15 1477.32 2299.07 1472.74 Q2296.02 1468.13 2296.02 1459.41 Q2296.02 1450.66 2299.07 1446.07 Q2302.15 1441.47 2307.96 1441.47 Z\" fill=\"#000000\" fill-rule=\"evenodd\" fill-opacity=\"1\" /><path clip-path=\"url(#clip170)\" d=\"M 0 0 M139.501 1372.19 Q135.89 1372.19 134.061 1375.76 Q132.255 1379.3 132.255 1386.43 Q132.255 1393.54 134.061 1397.1 Q135.89 1400.64 139.501 1400.64 Q143.135 1400.64 144.941 1397.1 Q146.769 1393.54 146.769 1386.43 Q146.769 1379.3 144.941 1375.76 Q143.135 1372.19 139.501 1372.19 M139.501 1368.49 Q145.311 1368.49 148.367 1373.1 Q151.445 1377.68 151.445 1386.43 Q151.445 1395.16 148.367 1399.76 Q145.311 1404.35 139.501 1404.35 Q133.691 1404.35 130.612 1399.76 Q127.556 1395.16 127.556 1386.43 Q127.556 1377.68 130.612 1373.1 Q133.691 1368.49 139.501 1368.49 Z\" fill=\"#000000\" fill-rule=\"evenodd\" fill-opacity=\"1\" /><path clip-path=\"url(#clip170)\" d=\"M 0 0 M131.538 1091.62 L139.177 1091.62 L139.177 1065.26 L130.867 1066.92 L130.867 1062.67 L139.13 1061 L143.806 1061 L143.806 1091.62 L151.445 1091.62 L151.445 1095.56 L131.538 1095.56 L131.538 1091.62 Z\" fill=\"#000000\" fill-rule=\"evenodd\" fill-opacity=\"1\" /><path clip-path=\"url(#clip170)\" d=\"M 0 0 M135.126 783.507 L151.445 783.507 L151.445 787.442 L129.501 787.442 L129.501 783.507 Q132.163 780.752 136.746 776.123 Q141.353 771.47 142.533 770.127 Q144.779 767.604 145.658 765.868 Q146.561 764.109 146.561 762.419 Q146.561 759.664 144.617 757.928 Q142.695 756.192 139.593 756.192 Q137.394 756.192 134.941 756.956 Q132.51 757.72 129.732 759.271 L129.732 754.549 Q132.556 753.414 135.01 752.836 Q137.464 752.257 139.501 752.257 Q144.871 752.257 148.066 754.942 Q151.26 757.627 151.26 762.118 Q151.26 764.248 150.45 766.169 Q149.663 768.067 147.556 770.66 Q146.978 771.331 143.876 774.549 Q140.774 777.743 135.126 783.507 Z\" fill=\"#000000\" fill-rule=\"evenodd\" fill-opacity=\"1\" /><path clip-path=\"url(#clip170)\" d=\"M 0 0 M144.316 460.691 Q147.672 461.409 149.547 463.677 Q151.445 465.946 151.445 469.279 Q151.445 474.395 147.927 477.196 Q144.408 479.997 137.927 479.997 Q135.751 479.997 133.436 479.557 Q131.144 479.14 128.691 478.284 L128.691 473.77 Q130.635 474.904 132.95 475.483 Q135.265 476.061 137.788 476.061 Q142.186 476.061 144.478 474.325 Q146.792 472.589 146.792 469.279 Q146.792 466.223 144.64 464.51 Q142.51 462.774 138.691 462.774 L134.663 462.774 L134.663 458.932 L138.876 458.932 Q142.325 458.932 144.154 457.566 Q145.982 456.177 145.982 453.585 Q145.982 450.923 144.084 449.511 Q142.209 448.075 138.691 448.075 Q136.769 448.075 134.57 448.492 Q132.371 448.909 129.732 449.788 L129.732 445.622 Q132.394 444.881 134.709 444.511 Q137.047 444.14 139.107 444.14 Q144.431 444.14 147.533 446.571 Q150.635 448.978 150.635 453.099 Q150.635 455.969 148.992 457.96 Q147.348 459.927 144.316 460.691 Z\" fill=\"#000000\" fill-rule=\"evenodd\" fill-opacity=\"1\" /><path clip-path=\"url(#clip170)\" d=\"M 0 0 M141.862 140.722 L130.056 159.171 L141.862 159.171 L141.862 140.722 M140.635 136.648 L146.515 136.648 L146.515 159.171 L151.445 159.171 L151.445 163.06 L146.515 163.06 L146.515 171.208 L141.862 171.208 L141.862 163.06 L126.26 163.06 L126.26 158.546 L140.635 136.648 Z\" fill=\"#000000\" fill-rule=\"evenodd\" fill-opacity=\"1\" /><path clip-path=\"url(#clip170)\" d=\"M 0 0 M874.201 12.096 L882.384 12.096 L882.384 65.6895 L911.834 65.6895 L911.834 72.576 L874.201 72.576 L874.201 12.096 Z\" fill=\"#000000\" fill-rule=\"evenodd\" fill-opacity=\"1\" /><path clip-path=\"url(#clip170)\" d=\"M 0 0 M940.271 49.7694 Q931.238 49.7694 927.754 51.8354 Q924.27 53.9013 924.27 58.8839 Q924.27 62.8538 926.863 65.2034 Q929.496 67.5124 933.992 67.5124 Q940.19 67.5124 943.917 63.1374 Q947.684 58.7219 947.684 51.4303 L947.684 49.7694 L940.271 49.7694 M955.138 46.6907 L955.138 72.576 L947.684 72.576 L947.684 65.6895 Q945.132 69.8214 941.325 71.8063 Q937.517 73.7508 932.007 73.7508 Q925.04 73.7508 920.908 69.8619 Q916.817 65.9325 916.817 59.3701 Q916.817 51.7138 921.921 47.825 Q927.065 43.9361 937.233 43.9361 L947.684 43.9361 L947.684 43.2069 Q947.684 38.0623 944.282 35.2672 Q940.919 32.4315 934.803 32.4315 Q930.914 32.4315 927.227 33.3632 Q923.541 34.295 920.138 36.1584 L920.138 29.2718 Q924.23 27.692 928.078 26.9223 Q931.926 26.1121 935.572 26.1121 Q945.416 26.1121 950.277 31.2163 Q955.138 36.3204 955.138 46.6907 Z\" fill=\"#000000\" fill-rule=\"evenodd\" fill-opacity=\"1\" /><path clip-path=\"url(#clip170)\" d=\"M 0 0 M1019.18 49.3643 Q1019.18 41.2625 1015.82 36.8065 Q1012.5 32.3505 1006.46 32.3505 Q1000.47 32.3505 997.105 36.8065 Q993.784 41.2625 993.784 49.3643 Q993.784 57.4256 997.105 61.8816 Q1000.47 66.3376 1006.46 66.3376 Q1012.5 66.3376 1015.82 61.8816 Q1019.18 57.4256 1019.18 49.3643 M1026.64 66.9452 Q1026.64 78.5308 1021.49 84.1616 Q1016.35 89.8329 1005.73 89.8329 Q1001.8 89.8329 998.321 89.2252 Q994.837 88.6581 991.556 87.4428 L991.556 80.1917 Q994.837 81.9741 998.037 82.8248 Q1001.24 83.6755 1004.56 83.6755 Q1011.89 83.6755 1015.54 79.8271 Q1019.18 76.0193 1019.18 68.282 L1019.18 64.5957 Q1016.87 68.6061 1013.27 70.5911 Q1009.66 72.576 1004.64 72.576 Q996.295 72.576 991.191 66.2161 Q986.087 59.8562 986.087 49.3643 Q986.087 38.832 991.191 32.472 Q996.295 26.1121 1004.64 26.1121 Q1009.66 26.1121 1013.27 28.0971 Q1016.87 30.082 1019.18 34.0924 L1019.18 27.2059 L1026.64 27.2059 L1026.64 66.9452 Z\" fill=\"#000000\" fill-rule=\"evenodd\" fill-opacity=\"1\" /><path clip-path=\"url(#clip170)\" d=\"M 0 0 M1060.75 34.1734 Q1059.49 33.4443 1057.99 33.1202 Q1056.53 32.7556 1054.75 32.7556 Q1048.43 32.7556 1045.03 36.8875 Q1041.67 40.9789 1041.67 48.6757 L1041.67 72.576 L1034.17 72.576 L1034.17 27.2059 L1041.67 27.2059 L1041.67 34.2544 Q1044.01 30.1225 1047.78 28.1376 Q1051.55 26.1121 1056.94 26.1121 Q1057.71 26.1121 1058.64 26.2337 Q1059.57 26.3147 1060.7 26.5172 L1060.75 34.1734 Z\" fill=\"#000000\" fill-rule=\"evenodd\" fill-opacity=\"1\" /><path clip-path=\"url(#clip170)\" d=\"M 0 0 M1089.18 49.7694 Q1080.15 49.7694 1076.67 51.8354 Q1073.18 53.9013 1073.18 58.8839 Q1073.18 62.8538 1075.77 65.2034 Q1078.41 67.5124 1082.9 67.5124 Q1089.1 67.5124 1092.83 63.1374 Q1096.6 58.7219 1096.6 51.4303 L1096.6 49.7694 L1089.18 49.7694 M1104.05 46.6907 L1104.05 72.576 L1096.6 72.576 L1096.6 65.6895 Q1094.04 69.8214 1090.24 71.8063 Q1086.43 73.7508 1080.92 73.7508 Q1073.95 73.7508 1069.82 69.8619 Q1065.73 65.9325 1065.73 59.3701 Q1065.73 51.7138 1070.83 47.825 Q1075.98 43.9361 1086.14 43.9361 L1096.6 43.9361 L1096.6 43.2069 Q1096.6 38.0623 1093.19 35.2672 Q1089.83 32.4315 1083.71 32.4315 Q1079.82 32.4315 1076.14 33.3632 Q1072.45 34.295 1069.05 36.1584 L1069.05 29.2718 Q1073.14 27.692 1076.99 26.9223 Q1080.84 26.1121 1084.48 26.1121 Q1094.33 26.1121 1099.19 31.2163 Q1104.05 36.3204 1104.05 46.6907 M1090.44 6.22219 L1098.5 6.22219 L1085.29 21.4536 L1079.1 21.4536 L1090.44 6.22219 Z\" fill=\"#000000\" fill-rule=\"evenodd\" fill-opacity=\"1\" /><path clip-path=\"url(#clip170)\" d=\"M 0 0 M1134.84 9.54393 L1134.84 15.7418 L1127.71 15.7418 Q1123.7 15.7418 1122.12 17.3622 Q1120.58 18.9825 1120.58 23.1955 L1120.58 27.2059 L1132.85 27.2059 L1132.85 32.9987 L1120.58 32.9987 L1120.58 72.576 L1113.08 72.576 L1113.08 32.9987 L1105.95 32.9987 L1105.95 27.2059 L1113.08 27.2059 L1113.08 24.0462 Q1113.08 16.471 1116.61 13.0277 Q1120.13 9.54393 1127.79 9.54393 L1134.84 9.54393 Z\" fill=\"#000000\" fill-rule=\"evenodd\" fill-opacity=\"1\" /><path clip-path=\"url(#clip170)\" d=\"M 0 0 M1142.65 27.2059 L1150.11 27.2059 L1150.11 72.576 L1142.65 72.576 L1142.65 27.2059 M1142.65 9.54393 L1150.11 9.54393 L1150.11 18.9825 L1142.65 18.9825 L1142.65 9.54393 Z\" fill=\"#000000\" fill-rule=\"evenodd\" fill-opacity=\"1\" /><path clip-path=\"url(#clip170)\" d=\"M 0 0 M1190.58 28.9478 L1190.58 35.9153 Q1187.42 34.1734 1184.22 33.3227 Q1181.06 32.4315 1177.82 32.4315 Q1170.57 32.4315 1166.55 37.0496 Q1162.54 41.6271 1162.54 49.9314 Q1162.54 58.2358 1166.55 62.8538 Q1170.57 67.4314 1177.82 67.4314 Q1181.06 67.4314 1184.22 66.5807 Q1187.42 65.6895 1190.58 63.9476 L1190.58 70.8341 Q1187.46 72.2924 1184.1 73.0216 Q1180.77 73.7508 1177.01 73.7508 Q1166.76 73.7508 1160.72 67.3098 Q1154.69 60.8689 1154.69 49.9314 Q1154.69 38.832 1160.76 32.472 Q1166.88 26.1121 1177.49 26.1121 Q1180.94 26.1121 1184.22 26.8413 Q1187.5 27.5299 1190.58 28.9478 Z\" fill=\"#000000\" fill-rule=\"evenodd\" fill-opacity=\"1\" /><path clip-path=\"url(#clip170)\" d=\"M 0 0 M1219.01 49.7694 Q1209.98 49.7694 1206.5 51.8354 Q1203.01 53.9013 1203.01 58.8839 Q1203.01 62.8538 1205.61 65.2034 Q1208.24 67.5124 1212.74 67.5124 Q1218.93 67.5124 1222.66 63.1374 Q1226.43 58.7219 1226.43 51.4303 L1226.43 49.7694 L1219.01 49.7694 M1233.88 46.6907 L1233.88 72.576 L1226.43 72.576 L1226.43 65.6895 Q1223.88 69.8214 1220.07 71.8063 Q1216.26 73.7508 1210.75 73.7508 Q1203.78 73.7508 1199.65 69.8619 Q1195.56 65.9325 1195.56 59.3701 Q1195.56 51.7138 1200.66 47.825 Q1205.81 43.9361 1215.98 43.9361 L1226.43 43.9361 L1226.43 43.2069 Q1226.43 38.0623 1223.02 35.2672 Q1219.66 32.4315 1213.55 32.4315 Q1209.66 32.4315 1205.97 33.3632 Q1202.28 34.295 1198.88 36.1584 L1198.88 29.2718 Q1202.97 27.692 1206.82 26.9223 Q1210.67 26.1121 1214.31 26.1121 Q1224.16 26.1121 1229.02 31.2163 Q1233.88 36.3204 1233.88 46.6907 Z\" fill=\"#000000\" fill-rule=\"evenodd\" fill-opacity=\"1\" /><path clip-path=\"url(#clip170)\" d=\"M 0 0 M1272.53 49.9314 Q1272.53 58.1548 1275.89 62.8538 Q1279.29 67.5124 1285.21 67.5124 Q1291.12 67.5124 1294.52 62.8538 Q1297.93 58.1548 1297.93 49.9314 Q1297.93 41.7081 1294.52 37.0496 Q1291.12 32.3505 1285.21 32.3505 Q1279.29 32.3505 1275.89 37.0496 Q1272.53 41.7081 1272.53 49.9314 M1297.93 65.7705 Q1295.58 69.8214 1291.97 71.8063 Q1288.41 73.7508 1283.38 73.7508 Q1275.16 73.7508 1269.97 67.1883 Q1264.83 60.6258 1264.83 49.9314 Q1264.83 39.2371 1269.97 32.6746 Q1275.16 26.1121 1283.38 26.1121 Q1288.41 26.1121 1291.97 28.0971 Q1295.58 30.0415 1297.93 34.0924 L1297.93 27.2059 L1305.38 27.2059 L1305.38 89.8329 L1297.93 89.8329 L1297.93 65.7705 Z\" fill=\"#000000\" fill-rule=\"evenodd\" fill-opacity=\"1\" /><path clip-path=\"url(#clip170)\" d=\"M 0 0 M1312.43 54.671 L1312.43 27.2059 L1319.88 27.2059 L1319.88 54.3874 Q1319.88 60.8284 1322.39 64.0691 Q1324.9 67.2693 1329.93 67.2693 Q1335.96 67.2693 1339.45 63.421 Q1342.97 59.5726 1342.97 52.9291 L1342.97 27.2059 L1350.43 27.2059 L1350.43 72.576 L1342.97 72.576 L1342.97 65.6084 Q1340.26 69.7404 1336.65 71.7658 Q1333.09 73.7508 1328.35 73.7508 Q1320.53 73.7508 1316.48 68.8897 Q1312.43 64.0286 1312.43 54.671 M1331.18 26.1121 L1331.18 26.1121 Z\" fill=\"#000000\" fill-rule=\"evenodd\" fill-opacity=\"1\" /><path clip-path=\"url(#clip170)\" d=\"M 0 0 M1397.05 48.0275 L1397.05 51.6733 L1362.78 51.6733 Q1363.27 59.3701 1367.4 63.421 Q1371.57 67.4314 1378.98 67.4314 Q1383.28 67.4314 1387.29 66.3781 Q1391.34 65.3249 1395.31 63.2184 L1395.31 70.267 Q1391.3 71.9684 1387.09 72.8596 Q1382.87 73.7508 1378.54 73.7508 Q1367.68 73.7508 1361.32 67.4314 Q1355 61.1119 1355 50.3365 Q1355 39.1965 1361 32.6746 Q1367.03 26.1121 1377.24 26.1121 Q1386.4 26.1121 1391.7 32.0264 Q1397.05 37.9003 1397.05 48.0275 M1389.6 45.84 Q1389.52 39.7232 1386.15 36.0774 Q1382.83 32.4315 1377.32 32.4315 Q1371.08 32.4315 1367.32 35.9558 Q1363.59 39.4801 1363.02 45.8805 L1389.6 45.84 Z\" fill=\"#000000\" fill-rule=\"evenodd\" fill-opacity=\"1\" /><path clip-path=\"url(#clip170)\" d=\"M 0 0 M1435.7 49.9314 Q1435.7 58.1548 1439.06 62.8538 Q1442.46 67.5124 1448.38 67.5124 Q1454.29 67.5124 1457.69 62.8538 Q1461.1 58.1548 1461.1 49.9314 Q1461.1 41.7081 1457.69 37.0496 Q1454.29 32.3505 1448.38 32.3505 Q1442.46 32.3505 1439.06 37.0496 Q1435.7 41.7081 1435.7 49.9314 M1461.1 65.7705 Q1458.75 69.8214 1455.14 71.8063 Q1451.58 73.7508 1446.55 73.7508 Q1438.33 73.7508 1433.14 67.1883 Q1428 60.6258 1428 49.9314 Q1428 39.2371 1433.14 32.6746 Q1438.33 26.1121 1446.55 26.1121 Q1451.58 26.1121 1455.14 28.0971 Q1458.75 30.0415 1461.1 34.0924 L1461.1 27.2059 L1468.55 27.2059 L1468.55 89.8329 L1461.1 89.8329 L1461.1 65.7705 Z\" fill=\"#000000\" fill-rule=\"evenodd\" fill-opacity=\"1\" /><path clip-path=\"url(#clip170)\" d=\"M 0 0 M1475.6 54.671 L1475.6 27.2059 L1483.05 27.2059 L1483.05 54.3874 Q1483.05 60.8284 1485.56 64.0691 Q1488.08 67.2693 1493.1 67.2693 Q1499.13 67.2693 1502.62 63.421 Q1506.14 59.5726 1506.14 52.9291 L1506.14 27.2059 L1513.6 27.2059 L1513.6 72.576 L1506.14 72.576 L1506.14 65.6084 Q1503.43 69.7404 1499.82 71.7658 Q1496.26 73.7508 1491.52 73.7508 Q1483.7 73.7508 1479.65 68.8897 Q1475.6 64.0286 1475.6 54.671 M1494.35 26.1121 L1494.35 26.1121 Z\" fill=\"#000000\" fill-rule=\"evenodd\" fill-opacity=\"1\" /><path clip-path=\"url(#clip170)\" d=\"M 0 0 M1521.41 27.2059 L1528.87 27.2059 L1528.87 72.576 L1521.41 72.576 L1521.41 27.2059 M1521.41 9.54393 L1528.87 9.54393 L1528.87 18.9825 L1521.41 18.9825 L1521.41 9.54393 Z\" fill=\"#000000\" fill-rule=\"evenodd\" fill-opacity=\"1\" /><path clip-path=\"url(#clip170)\" d=\"M 0 0 M1575.49 48.0275 L1575.49 51.6733 L1541.22 51.6733 Q1541.71 59.3701 1545.84 63.421 Q1550.01 67.4314 1557.43 67.4314 Q1561.72 67.4314 1565.73 66.3781 Q1569.78 65.3249 1573.75 63.2184 L1573.75 70.267 Q1569.74 71.9684 1565.53 72.8596 Q1561.32 73.7508 1556.98 73.7508 Q1546.12 73.7508 1539.76 67.4314 Q1533.45 61.1119 1533.45 50.3365 Q1533.45 39.1965 1539.44 32.6746 Q1545.48 26.1121 1555.68 26.1121 Q1564.84 26.1121 1570.15 32.0264 Q1575.49 37.9003 1575.49 48.0275 M1568.04 45.84 Q1567.96 39.7232 1564.6 36.0774 Q1561.27 32.4315 1555.77 32.4315 Q1549.53 32.4315 1545.76 35.9558 Q1542.03 39.4801 1541.47 45.8805 L1568.04 45.84 Z\" fill=\"#000000\" fill-rule=\"evenodd\" fill-opacity=\"1\" /><path clip-path=\"url(#clip170)\" d=\"M 0 0 M1609.6 34.1734 Q1608.35 33.4443 1606.85 33.1202 Q1605.39 32.7556 1603.61 32.7556 Q1597.29 32.7556 1593.88 36.8875 Q1590.52 40.9789 1590.52 48.6757 L1590.52 72.576 L1583.03 72.576 L1583.03 27.2059 L1590.52 27.2059 L1590.52 34.2544 Q1592.87 30.1225 1596.64 28.1376 Q1600.41 26.1121 1605.79 26.1121 Q1606.56 26.1121 1607.5 26.2337 Q1608.43 26.3147 1609.56 26.5172 L1609.6 34.1734 Z\" fill=\"#000000\" fill-rule=\"evenodd\" fill-opacity=\"1\" /><path clip-path=\"url(#clip170)\" d=\"M 0 0 M1633.18 32.4315 Q1627.18 32.4315 1623.7 37.1306 Q1620.22 41.7891 1620.22 49.9314 Q1620.22 58.0738 1623.66 62.7728 Q1627.14 67.4314 1633.18 67.4314 Q1639.13 67.4314 1642.62 62.7323 Q1646.1 58.0333 1646.1 49.9314 Q1646.1 41.8701 1642.62 37.1711 Q1639.13 32.4315 1633.18 32.4315 M1633.18 26.1121 Q1642.9 26.1121 1648.45 32.4315 Q1654 38.7509 1654 49.9314 Q1654 61.0714 1648.45 67.4314 Q1642.9 73.7508 1633.18 73.7508 Q1623.42 73.7508 1617.87 67.4314 Q1612.36 61.0714 1612.36 49.9314 Q1612.36 38.7509 1617.87 32.4315 Q1623.42 26.1121 1633.18 26.1121 Z\" fill=\"#000000\" fill-rule=\"evenodd\" fill-opacity=\"1\" /><path clip-path=\"url(#clip170)\" d=\"M 0 0 M1280.72 1520.4 L1267.82 1537.74 L1281.38 1556.04 L1274.48 1556.04 L1264.1 1542.04 L1253.72 1556.04 L1246.82 1556.04 L1260.66 1537.39 L1248 1520.4 L1254.9 1520.4 L1264.36 1533.1 L1273.81 1520.4 L1280.72 1520.4 Z\" fill=\"#000000\" fill-rule=\"evenodd\" fill-opacity=\"1\" /><path clip-path=\"url(#clip170)\" d=\"M 0 0 M91.3143 771.639 Q97.68 774.122 99.6216 776.477 Q101.563 778.832 101.563 782.779 L101.563 787.458 L96.6615 787.458 L96.6615 784.02 Q96.6615 781.601 95.5157 780.265 Q94.3699 778.928 90.1048 777.305 L87.4312 776.254 L52.3562 790.673 L52.3562 784.466 L80.238 773.326 L52.3562 762.186 L52.3562 755.979 L91.3143 771.639 Z\" fill=\"#000000\" fill-rule=\"evenodd\" fill-opacity=\"1\" /><polyline clip-path=\"url(#clip172)\" style=\"stroke:#009af9; stroke-width:4; stroke-opacity:1; fill:none\" points=\"\n",
       "  237.067,1386.4 257.815,1386.4 278.564,1386.4 299.312,1386.4 320.06,1386.4 340.808,1386.4 361.556,1386.4 382.304,1386.4 403.052,1386.4 423.801,1386.39 \n",
       "  444.549,1386.39 465.297,1386.38 486.045,1386.36 506.793,1386.31 527.541,1386.19 548.289,1385.93 569.038,1385.38 589.786,1384.26 610.534,1382.1 631.282,1378.1 \n",
       "  652.03,1370.99 672.778,1358.96 693.526,1339.46 714.275,1309.34 735.023,1264.93 755.771,1202.59 776.519,1119.38 797.267,1014.02 818.015,887.839 838.764,745.599 \n",
       "  859.512,595.714 880.26,449.787 901.008,321.296 921.756,223.615 942.504,167.74 963.252,160.256 984.001,202.062 1004.75,288.19 1025.5,408.778 1046.24,550.928 \n",
       "  1066.99,700.961 1087.74,846.54 1108.49,978.204 1129.24,1090.1 1149.99,1179.92 1170.73,1248.27 1191.48,1297.69 1212.23,1331.7 1232.98,1354.02 1253.73,1368 \n",
       "  1274.47,1376.36 1295.22,1381.14 1315.97,1383.75 1336.72,1385.12 1357.47,1385.8 1378.22,1386.13 1398.96,1386.28 1419.71,1386.35 1440.46,1386.38 1461.21,1386.39 \n",
       "  1481.96,1386.39 1502.7,1386.39 1523.45,1386.4 1544.2,1386.4 1564.95,1386.4 1585.7,1386.4 1606.45,1386.4 1627.19,1386.4 1647.94,1386.4 1668.69,1386.4 \n",
       "  1689.44,1386.4 1710.19,1386.4 1730.93,1386.4 1751.68,1386.4 1772.43,1386.4 1793.18,1386.4 1813.93,1386.4 1834.67,1386.4 1855.42,1386.4 1876.17,1386.4 \n",
       "  1896.92,1386.4 1917.67,1386.4 1938.42,1386.4 1959.16,1386.4 1979.91,1386.4 2000.66,1386.4 2021.41,1386.4 2042.16,1386.4 2062.9,1386.4 2083.65,1386.4 \n",
       "  2104.4,1386.4 2125.15,1386.4 2145.9,1386.4 2166.65,1386.4 2187.39,1386.4 2208.14,1386.4 2228.89,1386.4 2249.64,1386.4 2270.39,1386.4 2291.13,1386.4 \n",
       "  \n",
       "  \"/>\n",
       "<path clip-path=\"url(#clip170)\" d=\"\n",
       "M1924.09 287.756 L2280.18 287.756 L2280.18 166.796 L1924.09 166.796  Z\n",
       "  \" fill=\"#ffffff\" fill-rule=\"evenodd\" fill-opacity=\"1\"/>\n",
       "<polyline clip-path=\"url(#clip170)\" style=\"stroke:#000000; stroke-width:4; stroke-opacity:1; fill:none\" points=\"\n",
       "  1924.09,287.756 2280.18,287.756 2280.18,166.796 1924.09,166.796 1924.09,287.756 \n",
       "  \"/>\n",
       "<polyline clip-path=\"url(#clip170)\" style=\"stroke:#009af9; stroke-width:4; stroke-opacity:1; fill:none\" points=\"\n",
       "  1948.28,227.276 2093.44,227.276 \n",
       "  \"/>\n",
       "<path clip-path=\"url(#clip170)\" d=\"M 0 0 M2136.54 222.565 L2136.54 208.537 L2140.8 208.537 L2140.8 244.556 L2136.54 244.556 L2136.54 240.667 Q2135.2 242.982 2133.14 244.116 Q2131.1 245.227 2128.23 245.227 Q2123.53 245.227 2120.57 241.477 Q2117.63 237.727 2117.63 231.616 Q2117.63 225.505 2120.57 221.755 Q2123.53 218.005 2128.23 218.005 Q2131.1 218.005 2133.14 219.139 Q2135.2 220.25 2136.54 222.565 M2122.03 231.616 Q2122.03 236.315 2123.95 239 Q2125.89 241.662 2129.27 241.662 Q2132.65 241.662 2134.6 239 Q2136.54 236.315 2136.54 231.616 Q2136.54 226.917 2134.6 224.255 Q2132.65 221.57 2129.27 221.57 Q2125.89 221.57 2123.95 224.255 Q2122.03 226.917 2122.03 231.616 Z\" fill=\"#000000\" fill-rule=\"evenodd\" fill-opacity=\"1\" /><path clip-path=\"url(#clip170)\" d=\"M 0 0 M2157.05 231.523 Q2151.89 231.523 2149.9 232.704 Q2147.91 233.884 2147.91 236.732 Q2147.91 239 2149.39 240.343 Q2150.89 241.662 2153.46 241.662 Q2157 241.662 2159.13 239.162 Q2161.29 236.639 2161.29 232.472 L2161.29 231.523 L2157.05 231.523 M2165.54 229.764 L2165.54 244.556 L2161.29 244.556 L2161.29 240.621 Q2159.83 242.982 2157.65 244.116 Q2155.48 245.227 2152.33 245.227 Q2148.35 245.227 2145.98 243.005 Q2143.65 240.759 2143.65 237.009 Q2143.65 232.634 2146.56 230.412 Q2149.5 228.19 2155.31 228.19 L2161.29 228.19 L2161.29 227.773 Q2161.29 224.834 2159.34 223.236 Q2157.42 221.616 2153.92 221.616 Q2151.7 221.616 2149.6 222.148 Q2147.49 222.681 2145.54 223.746 L2145.54 219.81 Q2147.88 218.908 2150.08 218.468 Q2152.28 218.005 2154.36 218.005 Q2159.99 218.005 2162.77 220.922 Q2165.54 223.838 2165.54 229.764 Z\" fill=\"#000000\" fill-rule=\"evenodd\" fill-opacity=\"1\" /><path clip-path=\"url(#clip170)\" d=\"M 0 0 M2174.23 211.269 L2174.23 218.63 L2183 218.63 L2183 221.94 L2174.23 221.94 L2174.23 236.014 Q2174.23 239.185 2175.08 240.088 Q2175.96 240.991 2178.62 240.991 L2183 240.991 L2183 244.556 L2178.62 244.556 Q2173.69 244.556 2171.82 242.727 Q2169.94 240.875 2169.94 236.014 L2169.94 221.94 L2166.82 221.94 L2166.82 218.63 L2169.94 218.63 L2169.94 211.269 L2174.23 211.269 Z\" fill=\"#000000\" fill-rule=\"evenodd\" fill-opacity=\"1\" /><path clip-path=\"url(#clip170)\" d=\"M 0 0 M2197.51 221.616 Q2194.09 221.616 2192.1 224.301 Q2190.1 226.963 2190.1 231.616 Q2190.1 236.269 2192.07 238.954 Q2194.06 241.616 2197.51 241.616 Q2200.91 241.616 2202.91 238.931 Q2204.9 236.246 2204.9 231.616 Q2204.9 227.01 2202.91 224.324 Q2200.91 221.616 2197.51 221.616 M2197.51 218.005 Q2203.07 218.005 2206.24 221.616 Q2209.41 225.227 2209.41 231.616 Q2209.41 237.982 2206.24 241.616 Q2203.07 245.227 2197.51 245.227 Q2191.93 245.227 2188.76 241.616 Q2185.61 237.982 2185.61 231.616 Q2185.61 225.227 2188.76 221.616 Q2191.93 218.005 2197.51 218.005 Z\" fill=\"#000000\" fill-rule=\"evenodd\" fill-opacity=\"1\" /><path clip-path=\"url(#clip170)\" d=\"M 0 0 M2230.41 219.394 L2230.41 223.422 Q2228.6 222.496 2226.66 222.033 Q2224.71 221.57 2222.63 221.57 Q2219.46 221.57 2217.86 222.542 Q2216.29 223.514 2216.29 225.459 Q2216.29 226.94 2217.42 227.797 Q2218.55 228.63 2221.98 229.394 L2223.44 229.718 Q2227.97 230.69 2229.87 232.472 Q2231.79 234.232 2231.79 237.403 Q2231.79 241.014 2228.92 243.121 Q2226.08 245.227 2221.08 245.227 Q2218.99 245.227 2216.72 244.81 Q2214.48 244.417 2211.98 243.607 L2211.98 239.209 Q2214.34 240.435 2216.63 241.06 Q2218.92 241.662 2221.17 241.662 Q2224.18 241.662 2225.8 240.644 Q2227.42 239.602 2227.42 237.727 Q2227.42 235.991 2226.24 235.065 Q2225.08 234.139 2221.12 233.283 L2219.64 232.935 Q2215.68 232.102 2213.92 230.389 Q2212.16 228.653 2212.16 225.644 Q2212.16 221.986 2214.76 219.996 Q2217.35 218.005 2222.12 218.005 Q2224.48 218.005 2226.56 218.352 Q2228.65 218.699 2230.41 219.394 Z\" fill=\"#000000\" fill-rule=\"evenodd\" fill-opacity=\"1\" /></svg>\n"
      ]
     },
     "metadata": {},
     "output_type": "display_data"
    }
   ],
   "source": [
    "xs = range(-1,stop=1,length=100)\n",
    "# grafica para mu=0.1, sigma = 0.1\n",
    "# uso la funcion anónima para que `gaussiana` se vuelva de una sola variable\n",
    "graficar(xs,x -> gaussiana(x,0.1,0.1))\n",
    "# grafica para mu=0.1, sigma = 0.2\n",
    "graficar(xs, x -> gaussiana(x,0.1,0.2))\n",
    "# grafica para mu=-0.3, sigma = 0.1\n",
    "graficar(xs,x -> gaussiana(x,-0.3,0.1))"
   ]
  },
  {
   "cell_type": "markdown",
   "metadata": {},
   "source": [
    "### Ejercicio 1\n",
    "\n",
    "La función delta de dirac, denotada $\\delta(x)$, se puede aproximar como\n",
    "\n",
    "$$\n",
    "\\delta_\\epsilon(x) = \\begin{cases}\n",
    "0 & \\text{si } |x|> \\epsilon \\\\\n",
    "\\frac{1}{2\\epsilon} & \\text{si } |x| \\leq \\epsilon \\\\\n",
    "\\end{cases}\n",
    "$$\n",
    "\n",
    "Para un $\\epsilon>0$ pequeño"
   ]
  },
  {
   "cell_type": "markdown",
   "metadata": {},
   "source": [
    "Implementa una función `delta(x,epsilon)` que calcule dicha función y realiza distintas gráficas utiliznado la función `graficar` para varios valores de $\\epsilon$."
   ]
  },
  {
   "cell_type": "markdown",
   "metadata": {},
   "source": [
    "## Diferencias finitas para la ecuación de calor.\n",
    "\n",
    "Supongamos que discretizamos todo nuestro dominio utilizando un paso de tamaño $h$ para el tiempo y un paso de tamaño $k$ para el espacio. Por simplicdad, supongamos que nuestros pasos dividen exactamente a los dos intervalos de tiempo y espacio y que obtenemos $n$ subintervalos temporales ($n+1$ puntos $[t_0 = 0, t_1,\\ldots,t_n]$) y $m$ subintervalos espaciales ($m+1$ puntos $[x_0 = 0, x_1,\\ldots,x_m = 1]$)\n",
    "\n",
    "Utilizando esa discretización, podemos aproximar las derivadas de nuestra ecuación con diferencias finitas: para $t$ una diferencia hacia adelante mientras que para $x$ una diferencia centrada, para obtener:\n",
    "\n",
    "$$\n",
    "\\frac{u(t+h,x) - u(t,x)}{h} = D \\frac{u(t,x+h) + u(t,x-h) - 2u(t,x)}{k^2}\n",
    "$$\n",
    "\n",
    "Recordando que nuestra función estará evaluada en tiempos y espacios discretos $(t_k,x_i)$, para simplificar la notación, denotamos:\n",
    "\n",
    "$$\n",
    "u(t_k,x_i) = u^{(k)}_i\n",
    "$$\n",
    "\n",
    "Nuestra ecuación discretizada se vuelve\n",
    "\n",
    "$$\n",
    "\\frac{u^{(k+1)}_i - u^{(k)}_i}{h} = D \\frac{u^{(k)}_{i+1} + u^{(k)}_{i-1} - 2u^{(k)}_{i}}{k^2}\n",
    "$$\n",
    "\n",
    "Podemos despejar $ u^{(k+1)}_i $ para obtener:\n",
    "\n",
    "$$\n",
    "u^{(k+1)}_i  = u^{(k)}_i + \\frac{Dh}{k^2} \\left( u^{(k)}_{i+1} + u^{(k)}_{i-1} - 2u^{(k)}_{i} \\right)\n",
    "$$\n",
    "\n",
    "Notemos que, si ahora conocemos todos los $u^{(k)}_i$, es posible calcular el valor para el siguiente tiempo. Así, esto nos da una método explícito para ir generando los valores $u^{(1)}_i$, $u^{(2)}_i$ a partir del anterior. La condición incial nos permite conocer $u$ al tiempo $0$ pues $u^{(0)}_i = g(x_i)$\n",
    "\n",
    "Notemos que para calcular $u^{(k)}_{0}$ y $u^{(k)}_m$ necesitaríamos conocer $u^{(k)}_{-1}$ y $u^{(k)}_{m+1}$ los cuales, en principio, **no existen** pues no forman parte de nuestra discretización. Sin embargo, es posible deducir **cuales deberían ser esos estos valores** utilizando las condiciones de frontera. Dependiendo del tipo de condiciones de frontera, $u^{(k)}_{-1}$ y $u^{(k)}_{m+1}$ cumplirán distintas expresiones"
   ]
  },
  {
   "cell_type": "markdown",
   "metadata": {},
   "source": [
    "### Ejercicio 2\n",
    "\n",
    "Supongamos que tenemos el caso de condiciones de frontera **absorbentes**, descrito por las condiciones de Dirichlet:\n",
    "\n",
    "$$\n",
    "u(t,0) = u(t,1) = 0\n",
    "$$\n",
    "\n",
    "Expresa analíticamente qué valor deberían de tomar $u^{(k)}_{-1}$ y $u^{(k)}_{m+1}$"
   ]
  },
  {
   "cell_type": "markdown",
   "metadata": {},
   "source": [
    "### Ejercicio 3\n",
    "\n",
    "Implementa una función `calor1dAbsorbentes(D,t_f,h,k,g)` que resuelva el problema de la ecuación de calor en una dimensión con condición inicial $u(0,x) = g(x)$ y condiciones de frontera absorbentes.\n",
    "\n",
    "Los argumentos de tu función deben ser una constante de difusión `D`, tiempo final `t_f`, pasos de tiempo y espacial `h`,`k`, respectivamente y `g` una función **escalar** correspondiente a la condición inicial. Tu función debe de regresar los tiempos `[0,t_1,..,t_n]`, los puntos de x `[0,x_1,...,x_{m-1},1]` y una matriz de $ (n+1)\\times (m+1)$  cuyos renglones sean los valores de la función `[u_0^0,...,u_m^0]`, `[u_0^1,...,u_m^1]`,.., `[u_0^n,...,u_m^n]`\n",
    "\n",
    "**Sugerencia 1**: antes de cualquier cosa, encuentra las expresiones que deben cumplir $u^{(k)}_{-1}$ y $u^{(k)}_{m+1}$ en cada tiempo\n",
    " "
   ]
  },
  {
   "cell_type": "markdown",
   "metadata": {},
   "source": [
    "### Ejercicio 4\n",
    "\n",
    "Utiliza tu función `calor1dAbsorbentes` para resolver el problema anteriormente citado, con condición inicial \n",
    "\n",
    "$$g(x) = \\delta(x-0.5)$$\n",
    "\n",
    "Toma valores arbitrarios del los parámetros `D`, `k`, `h` que cumplan que \n",
    "\n",
    "$$\n",
    "\\frac{Dh}{k^2} < \\frac{1}{2}\n",
    "$$\n",
    "\n",
    "Grafica la solucion en los primeros tiempos y después realiza una animación de la solución en todo el intervalo de tiempo. Juega con el valor $h$ y el número de cuadros para que tu animación se pueda ver bien.\n",
    "\n",
    "\n",
    "**Sugerencia 1**: Toma un valor fijo de `epsilon` y utiliza tu función `delta(x,epsilon)` para dar una función anónima que solo dependa de `x` como argumento a `calor1dAbsorbentes`. Ten cuidado con el valor de epsilon, pues si lo tomas demasiado pequeño tu condición incial será la función $0$.\n",
    "\n",
    "**Sugerencia 2**: Antes de hacer tu animación, utiliza la función `heatmap`  del paquete Plots para graficar la matriz como un [**mapa de calor**](https://en.wikipedia.org/wiki/Heat_map) de las soluciones en un plano $(t,x)$ y ver como cambian a lo largo del tiempo\n"
   ]
  },
  {
   "cell_type": "markdown",
   "metadata": {},
   "source": [
    "### Ejercicio 5\n",
    "\n",
    "(i) Fija `h`, `k` y resuelve el problema planteado para el ejercicio 4 para distintos valores (no más de 4) de la constante $D$ y compara los resultados en una misma animación. Recuerda tomar `h` y  `k` de suficiente tamaño para que siempre se cumpla la condición \n",
    "\n",
    "$$\n",
    "\\frac{Dh}{k^2} < \\frac{1}{2}\n",
    "$$\n",
    "\n",
    "Para cualquier $D$ que tomes\n",
    "\n",
    "(ii) repite el inciso (i) pero ahora con valores de $D$ que no cumplan la desigualdad. ¿Cuál es la solución obtenida? ¿Tiene eso algún sentido?"
   ]
  },
  {
   "cell_type": "markdown",
   "metadata": {},
   "source": [
    "### Ejercicio 6\n",
    "\n",
    "Al integrar la ecuación de calor en un intervalo, uno puede encontrar que necesariamente se cumple que \n",
    "\n",
    "$$\n",
    "\\int_{0}^{1} \\frac{u(x,t)}{D} \\; dx = Q \n",
    "$$\n",
    "\n",
    "Para $Q$ la energía interna del sistema. Toma alguna la solución obtenida en el ejercicio 4 y utiliza una suma de Riemman (o cualquiera de los métodos vistos en la clase de integración) para calcular $Q$ en los tiempos discretos $t_0,...,t_n$. ¿La energía se conserva? ¿A qué crees que se deba tu respuesta anterior?"
   ]
  },
  {
   "cell_type": "markdown",
   "metadata": {},
   "source": [
    "### Ejercicio 7\n",
    "\n",
    "Implementa una función `calor1dPeriodicas(D,t_f,h,k,g)` que resuelva el problema de la ecuación de calor en una dimensión con condición inicial $u(0,x) = g(x)$ y condiciones de frontera periodicas $u(t,0) = u(t,1)$.\n",
    "\n",
    "Los argumentos de tu función deben ser una constante de difusión `D`, tiempo final `t_f`, pasos de tiempo y espacial `h`,`k`, respectivamente y `g` una función **escalar** correspondiente a la condición inicial. Tu función debe de regresar los tiempos `[0,t_1,..,t_n]`, los puntos de x `[0,x_1,...,x_{m-1},1]` y una matriz de $(n+1)\\times (m+1)$  cuyos renglones sean los valores de la función `[u_0^0,...,u_m^0]`, `[u_0^1,...,u_m^1]`,.., `[u_0^n,...,u_m^n]`\n",
    "\n",
    "Resuelvelo para valores fijos de `h` y `k` y los $D$ que utilizaste en el inciso i del ejercicio 5. Realiza animaciones de las soluciones.\n",
    "\n",
    "**Sugerencia 1**: antes de cualquier cosa, encuentra las expresiones que deben cumplir $u^{(k)}_{-1}$ y $u^{(k)}_{m+1}$ en cada tiempo.\n",
    " "
   ]
  },
  {
   "cell_type": "markdown",
   "metadata": {},
   "source": [
    "### Ejercicio 8\n",
    "\n",
    "Repite el ejercicio 6 pero ahora utilizando alguna de las soluciones obtenidas en el ejercicio 7. ¿Cómo evolucionan ahora los valores de $Q$? ¿Existe algún cambio con lo observado en el ejercicio 6? ¿Por qué?"
   ]
  },
  {
   "cell_type": "markdown",
   "metadata": {},
   "source": [
    "### Ejercicio 9 \n",
    "Supongamos que ahora tenemos un problema con condiciones de frontera **reflejantes**, es decir, condiciones de Neumann que cumplen con:\n",
    "\n",
    "$$\n",
    "\\frac{\\partial u}{\\partial x}(t,0) =  \\frac{\\partial u}{\\partial x}(t,1) = 0\n",
    "$$\n",
    "\n",
    "Utiliza una aproximación de diferencias finitas de  $\\partial / \\partial x$ en los extremos  $u^{(k)}_0$, $u^{(k)}_m$ para encontrar una expresión analítica para $u^{(k)}_{-1}$ y $u^{(k)}_{m+1}$"
   ]
  },
  {
   "cell_type": "markdown",
   "metadata": {},
   "source": [
    "### Ejercicio 10\n",
    "\n",
    "Utiliza las expresiones del ejercicio anterior para implementar una función `calor1dReflejantes(D,t_f,h,k,g)` que resuelva el problema de la ecuación de calor en una dimensión con condición inicial $u(0,x) = g(x)$ y condiciones de frontera reflejantes.\n",
    "\n",
    "Los argumentos de tu función deben ser una constante de difusión `D`, tiempo final `t_f`, pasos de tiempo y espacial `h`,`k`, respectivamente y `g` una función **escalar** correspondiente a la condición inicial. Tu función debe de regresar los tiempos `[0,t_1,..,t_n]`, los puntos de x `[0,x_1,...,x_{m-1},1]` y una matriz de $n\\times m$  cuyos renglones sean los valores de la función `[u_0^0,...,u_m^0]`, `[u_0^1,...,u_m^1]`,.., `[u_0^n,...,u_m^n]`\n",
    "\n",
    "Resuelvelo para valores fijos de `h` y `k` y los $D$ que utilizaste en el inciso i del ejercicio 5. Realiza animaciones de las soluciones.\n",
    " "
   ]
  },
  {
   "cell_type": "markdown",
   "metadata": {},
   "source": [
    "### Ejercicio 11\n",
    "\n",
    "Repite el ejercicio 8 para este sistema. ¿Qué observas? Cómparalo con lo obtenido en los otros dos sistemas."
   ]
  },
  {
   "cell_type": "code",
   "execution_count": null,
   "metadata": {
    "collapsed": true,
    "jupyter": {
     "outputs_hidden": true
    }
   },
   "outputs": [],
   "source": []
  }
 ],
 "metadata": {
  "kernelspec": {
   "display_name": "Julia 1.4.2",
   "language": "julia",
   "name": "julia-1.4"
  },
  "language_info": {
   "file_extension": ".jl",
   "mimetype": "application/julia",
   "name": "julia",
   "version": "1.4.2"
  }
 },
 "nbformat": 4,
 "nbformat_minor": 4
}
