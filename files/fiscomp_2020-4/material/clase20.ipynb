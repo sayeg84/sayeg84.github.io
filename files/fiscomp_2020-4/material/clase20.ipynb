{
 "cells": [
  {
   "cell_type": "markdown",
   "metadata": {},
   "source": [
    "# Ecuación de Poisson\n",
    "\n",
    "Otra de las ecuaciones diferenciales parciales más comunes en varias ramas de la física es la ecuación de Poisson, que se escribe como\n",
    "\n",
    "$$\n",
    "\\nabla^2 \\phi = f\n",
    "$$\n",
    "\n",
    "En $n$ dimensiones, $\\phi:\\mathbb{R}^{n} \\to \\mathbb{R}$ y $f: \\mathbb{R}^{n} \\to \\mathbb{R}$. Por simplicidad, nosotros solamente atacaremos el caso de dos dimensiones $n=2$. Así, explícitamente la ecuación toma la forma\n",
    "\n",
    "$$\n",
    "\\left( \\frac{\\partial^2 \\phi}{\\partial x^2} + \\frac{\\partial^2 \\phi}{\\partial y^2} \\right)  = f(x,y)\n",
    "$$\n"
   ]
  },
  {
   "cell_type": "markdown",
   "metadata": {},
   "source": [
    "También supondremos que estamos trabajando en el dominio finito $x \\in [0,1]$, $y \\in [0,1]$ .En caso contrario a la ecuación de calor, notemos que aquí no hay ninguna dependencia temporal, por lo que para resolver la ecuación **no necesitamos condiciones iniciales**"
   ]
  },
  {
   "cell_type": "markdown",
   "metadata": {},
   "source": [
    "Sin embargo, por trabajar en el dominio finito, **necesitamos conocer condiciones de frontera**. Nuevamente, las condiciones de frontera pueden darse en los mismos tres casos que en la ecuación de calor: condiciones de Dirichlet (conocemos $\\phi$ en la frontera), condiciones de Neumann (conocemos $\\partial \\phi / \\partial x$ y $\\partial \\phi / \\partial y$ en sus respectivas fronteras) y condiciones periódicas  ($\\phi(0,y) = \\phi(1,y)$ y $\\phi(x,0) = \\phi(x,1)$)"
   ]
  },
  {
   "cell_type": "markdown",
   "metadata": {},
   "source": [
    "## Preludio matemático: discretización de la ecuación\n",
    "\n",
    "Para atacar la ecuación de Poisson, discretizamos los valores de la función y utilizamos diferencias finitas para estimar las derivadas. Como ya hemos realizado antes, discretizamos los intervalos de $x$ y $y$ con el **mismo** paso espacial $k$, que divide el intervalo $[0,1]$ en $m$ subintervalos, para obtener $m+1$ puntos $\\{x_0 = 0, x_1,\\ldots, x_m = 1\\}$ y $\\{y_0 = 0, y_1,\\ldots, y_m = 1\\}$. \n",
    "\n",
    "El dominio de $\\phi$ ahora es la malla $\\{x_0,\\ldots,x_m\\} \\times \\{y_0,\\ldots,y_m\\}$. Así, denotamos\n",
    "\n",
    "$$\n",
    "\\phi(x_i,y_j) = \\phi_{i,j}\n",
    "$$\n",
    "\n",
    "Aproximando la segunda derivada, la ecuación discretizada toma la forma\n",
    "\n",
    "$$\n",
    "\\left( \\frac{\\phi_{i+1,j} + \\phi_{i-1,j} - 2\\phi_{i,j}}{k^2} + \\frac{\\phi_{i,j+1} + \\phi_{i,j-1} - 2\\phi_{i,j}}{k^2} \\right) = f_{i,j}\n",
    "$$\n",
    "\n",
    "Con $f_{i,j} = f(x_i,y_j)$"
   ]
  },
  {
   "cell_type": "markdown",
   "metadata": {},
   "source": [
    "Reacomodando los términos, la ecuación queda de la siguiente forma\n",
    "\n",
    "$$\n",
    "\\phi_{i+1,j} + \\phi_{i-1,j}  + \\phi_{i,j+1} + \\phi_{i,j-1} - 4\\phi_{i,j} = k^2 f_{i,j}\n",
    "$$"
   ]
  },
  {
   "cell_type": "markdown",
   "metadata": {},
   "source": [
    "En la ecuación anterior, las incógnitas son $\\phi_{i,j}$ $\\phi_{i+1,j}$, $\\phi_{i-1,j}$, $\\phi_{i,j+1}$ y $\\phi_{i,j-1}$ y todos los demás valores son conocidos. Así, la ecuación anterior es una **ecuación lineal** para dichas incógnitas.\n",
    "\n",
    "Es claro que, para cada par de índices $i,j$, tendremos una ecuación lineal como la anterior. Todas estas ecuaciones se deben de cumplir simultáneamente, por lo que eso constituye un **sistema de ecuaciones lineales** de $(m+1)(m+1) = (m+1)^2$ incógnitas\n",
    "\n",
    "Nuevamente, en las fronteras surge el problema de que para $i=0,i=m,j=0$ o $j=m$ los términos $\\phi_{-1,j}$, $\\phi_{m+1,j}$, $\\phi_{i,-1}$  y $\\phi_{i,m+1}$ (respectivamente) aparecerán en la ecuación lineal. Igual que en la ecuación de calor, dichos valores se pueden estimar a partir de las condiciones de frontera, dependiendo del tipo de condiciones que tengamos"
   ]
  },
  {
   "cell_type": "markdown",
   "metadata": {},
   "source": [
    "## Cambio de índices\n",
    "\n",
    "Notemos que hay un problema en cuanto a los índices. Normalmente nosotros denotamos un sistema de ecuaciones lineales como un problema de la forma $\\mathbf{Ax} = \\mathbf{b}$, donde nuestras incógnitas (indexadas por **un solo índice**) $x_k$ se representan con **un vector** $\\mathbf{x} = (x_1,\\ldots,x_n)$.\n",
    "\n",
    "Sin embargo, en las ecuaciones lineales de la ecuación de Poisson, nuestras incógnitas tienen **dos índices** $\\phi_{i,j}$ y parecen más bien estar representadas por **una matriz**. Así, para poder resolver el problema de la ecuación de Poisson, debemos convertir nuestras variables indexadas por dos índices en uno solo. \n",
    "\n",
    "Es decir, debemos convertir la matriz $\\phi_{i,j}$ de dimensiones $(m+1) \\times (m+1)$ en un vector $\\tilde{\\phi}_k$ de longitud $(m+1)(m+1)$. "
   ]
  },
  {
   "cell_type": "markdown",
   "metadata": {},
   "source": [
    "Existen múltiples maneras de hacer dicha conversión. Lo más sensato es irlos **acomodando por columnas** (una columna tras la otra), es decir\n",
    "\n",
    "$$\n",
    "\\phi_{0,0} = \\tilde{\\phi}_1 \\\\\n",
    "\\phi_{1,0} = \\tilde{\\phi}_2 \\\\ \n",
    "\\vdots \\\\\n",
    "\\phi_{m,0} = \\tilde{\\phi}_{m+1} \\\\ \n",
    "\\phi_{0,1} = \\tilde{\\phi}_{(m+1)+1} \\\\ \n",
    "\\phi_{1,1} = \\tilde{\\phi}_{(m+1)+2} \\\\ \n",
    "\\vdots \\\\\n",
    "\\phi_{m,m} = \\tilde{\\phi}_{(m+1)(m+1)} \\\\ \n",
    "$$\n",
    "\n",
    "Dicho acomodo se puede generalizar para una matriz arbitraria $\\phi_{i,j}$ de dimensiones $s \\times t$ en un vector $\\tilde{\\phi}_k$ de longitud $st$. \n",
    "\n",
    "$$\n",
    "\\phi_{1,1} = \\tilde{\\phi}_1 \\\\\n",
    "\\phi_{2,1} = \\tilde{\\phi}_2 \\\\ \n",
    "\\vdots \\\\\n",
    "\\phi_{s,1} = \\tilde{\\phi}_{s} \\\\ \n",
    "\\phi_{1,2} = \\tilde{\\phi}_{s+1} \\\\ \n",
    "\\phi_{2,2} = \\tilde{\\phi}_{s+2} \\\\ \n",
    "\\vdots \\\\\n",
    "\\phi_{s,t} = \\tilde{\\phi}_{st} \\\\ \n",
    "$$\n"
   ]
  },
  {
   "cell_type": "markdown",
   "metadata": {},
   "source": [
    "### Ejercicio 1\n",
    "\n",
    "Sea $\\phi$ una matriz de $s \\times t$. Para el acomodo por columnas de la expresión anterior,  expresa analíticamente la el valor del índice $k$ que cumple \n",
    "\n",
    "$$\n",
    "\\phi_{i,j} = \\tilde{\\phi}_{k}\n",
    "$$\n"
   ]
  },
  {
   "cell_type": "markdown",
   "metadata": {},
   "source": [
    "### Ejercicio 2\n",
    "\n",
    "Utiliza la expresión del ejercicio anterior para implementar una función `vectorizar(phi)` que tome como argumento una matriz `phi` de $s\\times t$.\n",
    "\n",
    "La función debe de regresar el vector $\\tilde{\\mathbf{\\phi}_k}$ de longitud $st$ cuyas entradas corresponden al acomodo por columnas de la matriz `phi`.\n",
    "\n",
    "**Sugerencia 1** prealoca el arreglo que va a representar al vector $\\tilde{\\mathbf{\\phi}}$"
   ]
  },
  {
   "cell_type": "markdown",
   "metadata": {},
   "source": [
    "## Problema inverso\n",
    "\n",
    "Ya convertida la matriz $\\phi$ en un vector $\\tilde{\\phi}$, podríamos armar la matriz $A$ y  resolver el sistema de ecuaciones lineales asociado a la ecuación de Poisson. Sin embargo, cuando lo hagamos, para graficar y visualizar la solución, nos gustaría ahora regresar al vector $\\tilde{\\phi}$ a su forma matricial.\n",
    "\n",
    "Para eso, debemos resolver el **problema inverso**: tenemos un vector de $\\tilde{\\phi}$ de longitud $st$, ¿como lo acomodamos en una matriz $\\phi$ de $s\\times t$ tal que\n",
    "\n",
    "$$\n",
    " \\tilde{\\phi}_1 = \\phi_{1,1}  \\\\\n",
    " \\tilde{\\phi}_2  = \\phi_{2,1} \\\\ \n",
    "\\vdots \\\\\n",
    " \\tilde{\\phi}_{s}  = \\phi_{s,1} \\\\ \n",
    " \\tilde{\\phi}_{s+1}  = \\phi_{1,2} \\\\ \n",
    " \\tilde{\\phi}_{s+2}  = \\phi_{2,2} \\\\ \n",
    "\\vdots \\\\\n",
    " \\tilde{\\phi}_{st}  = \\phi_{s,t} \\\\ \n",
    "$$\n",
    "\n",
    "?\n",
    "\n"
   ]
  },
  {
   "cell_type": "markdown",
   "metadata": {},
   "source": [
    "### Ejercicio 3\n",
    "\n",
    "Sea $\\tilde{\\phi}$ un vector de longitud $st$. Para el acomodo por columnas de la expresión anterior,  expresa analíticamente el valor de los índice $i,j$ que cumple \n",
    "\n",
    "$$\n",
    "\\tilde{\\phi}_{k} = \\phi_{i,j}\n",
    "$$\n",
    "\n",
    "**Sugerencia 1** recuerda que `n % m` te da el residuo entero de dividir `n` por `m`\n",
    "\n",
    "**Sugerencia 2** `div(n,m)` te da la parte **entera** de dividir `n` por `m`.\n",
    "\n",
    "**Sugerencia 3** En tu fórmula debe aparece tanto $s$ como $t$\n"
   ]
  },
  {
   "cell_type": "code",
   "execution_count": 5,
   "metadata": {},
   "outputs": [
    {
     "name": "stdout",
     "output_type": "stream",
     "text": [
      "0\n",
      "2\n"
     ]
    }
   ],
   "source": [
    "println(div(1,2))\n",
    "println(div(7,3))"
   ]
  },
  {
   "cell_type": "markdown",
   "metadata": {},
   "source": [
    "### Ejericicio 4\n",
    "\n",
    "Utiliza la expresión del ejercicio anterior para implementar una función `matrizar(phiTilde,s,t)` que tome como argumento un vector `phiTilde` de longitud $st$.\n",
    "\n",
    "La función debe de regresar la matriz $\\phi_{i,j}$ de $s\\times t$ cuyas entradas corresponden al acomodo por columnas del vector `phiTilde`.\n",
    "\n",
    "**Sugerencia 1** prealoca el arreglo que va a representar a la matriz $\\phi_{i,j}$ "
   ]
  },
  {
   "cell_type": "markdown",
   "metadata": {},
   "source": [
    "## Preludio computacional: la función `reshape`\n",
    "\n",
    "Una de las ventajas de utilizar un lenguaje de alto nivel como Julia es que ya tiene funciones implementadas para realizar los procesos de los cuatro ejercicios anteriores.\n",
    "\n",
    "Dicha función se llama `reshape` y se utiliza de la siguiente manera:"
   ]
  },
  {
   "cell_type": "code",
   "execution_count": 46,
   "metadata": {},
   "outputs": [
    {
     "data": {
      "text/plain": [
       "4×3 LinearAlgebra.Transpose{Int64,Array{Int64,2}}:\n",
       " 1  5   9\n",
       " 2  6  10\n",
       " 3  7  11\n",
       " 4  8  12"
      ]
     },
     "metadata": {},
     "output_type": "display_data"
    }
   ],
   "source": [
    "# matriz inicial\n",
    "phi = transpose([[1 2 3 4] ; [5 6 7 8] ; [9 10 11 12]])\n",
    "display(phi)"
   ]
  },
  {
   "cell_type": "code",
   "execution_count": 47,
   "metadata": {},
   "outputs": [
    {
     "name": "stdout",
     "output_type": "stream",
     "text": [
      "(4, 3)\n",
      "[1, 2, 3, 4, 5, 6, 7, 8, 9, 10, 11, 12]\n"
     ]
    }
   ],
   "source": [
    "# obtengo las dimensiones de la matriz\n",
    "dims = size(phi)\n",
    "println(dims)\n",
    "# las utilizo para acomodar por columnas a phi en un vector de 4*3 =12\n",
    "phitilde = reshape(phi,dims[1]*dims[2])\n",
    "println(phitilde)"
   ]
  },
  {
   "cell_type": "markdown",
   "metadata": {},
   "source": [
    "Puedo hacer ahora el problema inverso también con la misma función:"
   ]
  },
  {
   "cell_type": "code",
   "execution_count": 48,
   "metadata": {},
   "outputs": [
    {
     "data": {
      "text/plain": [
       "4×3 reshape(::LinearAlgebra.Transpose{Int64,Array{Int64,2}}, 4, 3) with eltype Int64:\n",
       " 1  5   9\n",
       " 2  6  10\n",
       " 3  7  11\n",
       " 4  8  12"
      ]
     },
     "metadata": {},
     "output_type": "display_data"
    },
    {
     "name": "stdout",
     "output_type": "stream",
     "text": [
      "true\n"
     ]
    }
   ],
   "source": [
    "# vuelvo a convertir el vector phitilde en una matriz de 4 x 3\n",
    "phiNueva = reshape(phitilde,dims)\n",
    "display(phiNueva)\n",
    "println(phiNueva==phi)"
   ]
  },
  {
   "cell_type": "markdown",
   "metadata": {},
   "source": [
    "### Ejercicio 5\n",
    "\n",
    "Muestra que tu función `vectorizar` y `matrizar` dan los mismos resultados que `reshape` al aplicarla a las siguiente matriz\n",
    "\n",
    "$$\n",
    "\\mathbf{A} = \\begin{pmatrix}\n",
    "1 & 6 & 11 & 16 \\\\ \n",
    "2 & 7 & 12 & 17 \\\\ \n",
    "3 & 8 & 13 & 18 \\\\ \n",
    "4 & 9 & 14 & 19 \\\\ \n",
    "5 & 10 & 15 & 20 \\\\ \n",
    "\\end{pmatrix}\n",
    "$$"
   ]
  },
  {
   "cell_type": "markdown",
   "metadata": {},
   "source": [
    "## De vuelta a la ecuación de Poisson"
   ]
  },
  {
   "cell_type": "markdown",
   "metadata": {},
   "source": [
    "Recordemos la discretización de la ecuación en ecuaciones lineales:\n",
    "\n",
    "\n",
    "$$\n",
    "\\phi_{i+1,j} + \\phi_{i-1,j}  + \\phi_{i,j+1} + \\phi_{i,j-1} - 4\\phi_{i,j} = k^2 f_{i,j}\n",
    "$$\n",
    "\n",
    "Ya habiendo resuelto el problema de convertir los índices de la matriz en un vector, podemos, dada las condiciones de frontera, construir una matriz $\\mathbf{A}$ y  un vector $\\mathbf{b}$ tal que el vector $\\tilde{\\psi}$, que representa la solución discretizada de la ecuación de Poisson, cumple que\n",
    "\n",
    "$$\n",
    "\\mathbf{A} \\tilde{\\psi} = \\mathbf{b}\n",
    "$$\n",
    "\n",
    "Notemos que $\\mathbf{A}$ será una matriz de $(m+1)^2 \\times (m+1)^2$ y  $b$ un vector de $(m+1)^2$"
   ]
  },
  {
   "cell_type": "markdown",
   "metadata": {},
   "source": [
    "Sin embargo, ya que habrá entradas en dicha matriz que deberan ser distintas dependiendo de las condiciones de frontera, conviene construir la matriz $A$ con distintas funciones para distintos casos de condiciones de frontera"
   ]
  },
  {
   "cell_type": "markdown",
   "metadata": {},
   "source": [
    "### Caso simple: condiciones de Dirichlet constantes\n",
    "\n",
    "Supongamos que tenemos condiciones de Dirichlet constantes, es decir, que\n",
    "\n",
    "$$\n",
    "u(t,0,y) = a_0 \\quad ,\\quad u(t,1,y) = a_1\n",
    "$$\n",
    "\n",
    "Por otro lado, para los extremos $y=0$ y $y=1$ tenemos:\n",
    "\n",
    "$$\n",
    "u(t,x,0) = b_0 \\quad ,\\quad u(t,x,1) = b_1\n",
    "$$\n",
    "\n",
    "Con $a_0$, $a_1$, $b_0$ y $b_1$ constantes conocidas. "
   ]
  },
  {
   "cell_type": "markdown",
   "metadata": {},
   "source": [
    "### Ejercicio 6\n",
    "\n",
    "Define una función `poissonDirchConst(m,a_0,a_1,b_0,b_1,f)`. Tus argumentos deben de ser los siguientes\n",
    "\n",
    "* Un entero positivo`m`, que corresponde al número de subintervalos en los que dividimos el intervalo $[0,1]$ y  que define al paso espacial `k` mediante.\n",
    "\n",
    "$$\n",
    "k = \\frac{1}{m}\n",
    "$$\n",
    "\n",
    "* Consantes reales `a_0,a_1,b_0,b_1` que corresponden a las condiciones de Dirichlet constantes.\n",
    "\n",
    "* Una función **vectorial** `f` que corresponda a la función $f$\n",
    "\n",
    "Tu función debe de regresar la matriz $\\mathbf{A}$ de $(m+1)^2 \\times (m+1)^2$ y el vector $\\mathbf{b}$ de longitud $(m+1)^2$ que representan al problema de la discretización de a ecuación de Poisson $\\mathbf{A} \\tilde{\\psi} = \\mathbf{b}$.\n",
    "\n",
    "**Sugerencia 1** Para construir $\\mathbf{A}$, prealoca la matriz y procede llenando columna por columna. Pudes hacer cada columna como un `reshape` de otra matriz.\n",
    "\n",
    "**Sugerencia 2** Construir $\\mathbf{b}$ solo requiere hacer reshape de una matriz."
   ]
  },
  {
   "cell_type": "markdown",
   "metadata": {},
   "source": [
    "## Aplicación inmediata: Electrostática"
   ]
  },
  {
   "cell_type": "markdown",
   "metadata": {},
   "source": [
    "La ecuación de Poisson surge en electrostática de varias maneras. Usando unidades adecuadas, en ese caso $\\phi$ es el potencial electrostático, y la función $f(x,y) = -\\rho(x,y)$ es el negativo de la densidad superficial de carga $\\rho(x,y)$. Los valores $a_0$, $a_1$, $b_0$ y $b_1$ son el potencial electrostático en la frontera\n",
    "\n",
    "El campo eléctrico $\\mathbf{E} = (E_x, E_y)$ se define como\n",
    "\n",
    "$$\n",
    "\\mathbf{E} = -\\nabla\\phi = (-\\frac{\\partial \\phi}{\\partial x},-\\frac{\\partial \\phi}{\\partial y})\n",
    "$$"
   ]
  },
  {
   "cell_type": "markdown",
   "metadata": {},
   "source": [
    "### Ejercicio 7\n",
    "\n",
    "Utiliza tu función `poissonDirchConst`, la función `deltaVec(X,epsilon)` de la clase 19 y alguno de los métodos de solución de las clases de álgebra lineal (Eliminación Gaussiana, Jacobi, Gauss-Siedel) para encontrar el potencial electrostático $\\phi$ en el caso $a_0=a_1=b_0=b_1=0$ y densidad de carga $\\rho(x,y) = \\delta((x-0.5,y-0.5))$ (una carga puntual en el punto $(0.5,0.5)$)\n",
    "\n",
    "Grafica el potencial eléctrico como un mapa de calor y como una superficie. \n",
    "\n",
    "**Sugerencia 1** den el argumento `f` de la función `poissonDirchConst` como una función anónima.\n",
    "\n",
    "**Sugerencia 2** apóyense en el operador `\\` para ver que su método de solución de sistemas lineales si les esté dando la solución."
   ]
  },
  {
   "cell_type": "markdown",
   "metadata": {},
   "source": [
    "### Ejercicio 8\n",
    "\n",
    "Aproxima las derivadas parciales de $\\phi$ con diferencias finitas, calcula el campo elétrico y utiliza la función `quiver` para graficarlo.\n",
    "\n",
    "¿El resultado coincide con lo aprendido en Electromagnetismo I?\n",
    "\n",
    "**Sugerencia 1**: no utilicen el vector $\\tilde{\\psi}$, si no la representación matricial $\\psi$ para calcular el campo electrico\n",
    "\n",
    "**Sugerencia 2** no te olvides de normalizar el campo electrico de manera adecuada para que tu gráfica se vea bien. "
   ]
  },
  {
   "cell_type": "markdown",
   "metadata": {},
   "source": [
    "### Ejercicio 9 \n",
    "\n",
    "Repite el Ejercicio 7 y 8 pero para el caso $a_0 = a_1 = b_0 = 1$, $b_1 = 0$ y $\\rho(x,y) = 0$."
   ]
  },
  {
   "cell_type": "markdown",
   "metadata": {},
   "source": [
    "### Ejercicio 10\n",
    "\n",
    "Repite el Ejercicio 7 y 8 pero para el caso $a_0 = a_1 = b_0 = 0$, $b_1 = 1$ y $\\rho(x,y) = \\delta((x-0.5,y-0.5))$."
   ]
  },
  {
   "cell_type": "code",
   "execution_count": null,
   "metadata": {},
   "outputs": [],
   "source": []
  }
 ],
 "metadata": {
  "kernelspec": {
   "display_name": "Julia 1.4.2",
   "language": "julia",
   "name": "julia-1.4"
  },
  "language_info": {
   "file_extension": ".jl",
   "mimetype": "application/julia",
   "name": "julia",
   "version": "1.4.2"
  }
 },
 "nbformat": 4,
 "nbformat_minor": 4
}
