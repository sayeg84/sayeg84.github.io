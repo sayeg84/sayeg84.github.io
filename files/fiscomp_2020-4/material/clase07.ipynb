{
 "cells": [
  {
   "cell_type": "markdown",
   "metadata": {},
   "source": [
    "# Ecuaciones trascendentales"
   ]
  },
  {
   "cell_type": "markdown",
   "metadata": {},
   "source": [
    "## Preludio: sucesiones y funciones recursivas"
   ]
  },
  {
   "cell_type": "markdown",
   "metadata": {},
   "source": [
    "Una sucesión es una función $s:\\mathbb{N} \\to \\mathbb{R}$, en la que denotamos $s(k):= s_k$. Por la naturaleza **inductiva** de $\\mathbb{N}$, es posible hacer definiciones **recursivas** de sucesiones, en la cual definimos el primer término de la sucesión $s_1$ de manera explítica, y después el términos $s_{k+1}$ se define como una función de todos los anteriores, es decir\n",
    "\n",
    "$$\n",
    "s_1 = f(s_1) \\\\\n",
    "s_{k+1} = g_k(s_1,\\ldots,s_k)\n",
    "$$"
   ]
  },
  {
   "cell_type": "markdown",
   "metadata": {},
   "source": [
    "En la práctica, casi siempre utilizamos solamente el elemento anterior $s_k$ para construir $s_{k+1}$ y no los otros $s_1 ,\\ldots, s_k$. Existen dos ejemplos canónicos de sucesiones recursivas\n",
    "\n",
    "1. El **factorial** $n! = 1 \\cdot 2 \\cdot \\ldots \\cdot n = \\pi_{k=1}^{n} k $ puede definirse de la siguiente forma:\n",
    "\n",
    "$$\n",
    "n! = \\begin{cases}\n",
    "1 & \\text{si } n=1 \\\\\n",
    "n \\cdot (n-1)! & \\text{si } n>1\n",
    " \\end{cases}\n",
    "$$\n",
    "\n",
    "2. La sucesión de **Fibonacci** $1,1,2,3,5,8, \\ldots$ obedece la siguiente relación\n",
    "\n",
    "$$\n",
    "F_n = \\begin{cases}\n",
    "1 & \\text{si } n=1 \\\\\n",
    "1 & \\text{si } n=2 \\\\\n",
    "F_{n-1} + F_{n-2} & \\text{si } n>2 \n",
    "\\end{cases}\n",
    "$$"
   ]
  },
  {
   "cell_type": "markdown",
   "metadata": {},
   "source": [
    "Dichas definiciones recursivas pueden implementarse en cualquier lenguaje de programación mediante una **función recursiva**"
   ]
  },
  {
   "cell_type": "code",
   "execution_count": 12,
   "metadata": {},
   "outputs": [
    {
     "data": {
      "text/plain": [
       "ejemploElseIf (generic function with 1 method)"
      ]
     },
     "execution_count": 12,
     "metadata": {},
     "output_type": "execute_result"
    }
   ],
   "source": [
    "# la estructura elseif nos permite ir probando distintos casos\n",
    "function ejemploElseIf(n)\n",
    "    if n<6\n",
    "        println(\"mas chico que 6\")\n",
    "    elseif n<10\n",
    "        # se ejecuta si !(n<6) && n<10\n",
    "        println(\"mas chico que 10\")\n",
    "    else \n",
    "        println(\"mayor o igual a 10\")\n",
    "    end\n",
    "end"
   ]
  },
  {
   "cell_type": "code",
   "execution_count": 11,
   "metadata": {},
   "outputs": [
    {
     "name": "stdout",
     "output_type": "stream",
     "text": [
      "mayor o igual a 10\n"
     ]
    }
   ],
   "source": [
    "ejemploElseIf(10)"
   ]
  },
  {
   "cell_type": "code",
   "execution_count": 1,
   "metadata": {},
   "outputs": [
    {
     "data": {
      "text/plain": [
       "miFactorial (generic function with 1 method)"
      ]
     },
     "execution_count": 1,
     "metadata": {},
     "output_type": "execute_result"
    }
   ],
   "source": [
    "# funcion para calcular el factorial de n\n",
    "function miFactorial(n)\n",
    "    # caso base\n",
    "    if n==1\n",
    "        return 1\n",
    "    # elseif se ejecuta en caso de que n!=1 && n>1\n",
    "    elseif n>1\n",
    "        return n*miFactorial(n-1)\n",
    "    # si nunca tocamos el caso base, algo está mal\n",
    "    else\n",
    "        print(\"No se puede calcular para \")\n",
    "        println(n)\n",
    "    end\n",
    "end"
   ]
  },
  {
   "cell_type": "code",
   "execution_count": 19,
   "metadata": {},
   "outputs": [
    {
     "data": {
      "text/plain": [
       "120"
      ]
     },
     "execution_count": 19,
     "metadata": {},
     "output_type": "execute_result"
    }
   ],
   "source": [
    "miFactorial(5)"
   ]
  },
  {
   "cell_type": "markdown",
   "metadata": {},
   "source": [
    "#### Ejercicio 1\n",
    "\n",
    "Define una función recursiva `miFibonacci(n)` que te regrese el $n$-ésimo número de Fibonacci. Pruébala con distintos valores, inclusive incorrectos, de $n$ para ver que da el valor bueno para $n$ positiva y entera y para lo demás falla."
   ]
  },
  {
   "cell_type": "markdown",
   "metadata": {},
   "source": [
    "#### ¿Y si no quiero nada más el $n$-ésimo término de la sucesión, si no los primeros $n$ términos?"
   ]
  },
  {
   "cell_type": "markdown",
   "metadata": {},
   "source": [
    "En principio, si ya tenemos la función recursiva, podemos utilizar comprensión de arreglos para generar un arreglo con los primeros $n$-términos"
   ]
  },
  {
   "cell_type": "code",
   "execution_count": 20,
   "metadata": {},
   "outputs": [
    {
     "name": "stdout",
     "output_type": "stream",
     "text": [
      "el 1-ésimo factorial es 1\n",
      "el 2-ésimo factorial es 2\n",
      "el 3-ésimo factorial es 6\n",
      "el 4-ésimo factorial es 24\n",
      "el 5-ésimo factorial es 120\n",
      "el 6-ésimo factorial es 720\n",
      "el 7-ésimo factorial es 5040\n",
      "el 8-ésimo factorial es 40320\n",
      "el 9-ésimo factorial es 362880\n",
      "el 10-ésimo factorial es 3628800\n"
     ]
    }
   ],
   "source": [
    "# generando los primeros n términos:\n",
    "n = 10\n",
    "factArr = [miFactorial(k) for k in 1:n]\n",
    "for k in 1:n\n",
    "    print(\"el \")\n",
    "    print(k)\n",
    "    print(\"-ésimo factorial es \")\n",
    "    println(factArr[k])\n",
    "end"
   ]
  },
  {
   "cell_type": "markdown",
   "metadata": {},
   "source": [
    "Sin embargo, este método es poco eficiente. Eso se debe a que, para consturir el $n$-ésimo, la función ya debe de construir todos los anteriores. Nos gustaría construir la lista solo teniendo que construir una vez cada uno"
   ]
  },
  {
   "cell_type": "markdown",
   "metadata": {},
   "source": [
    "### Creación de arreglos elemento a elemento\n",
    "\n",
    "En general, los arreglos en un lenguaje de programación son una sucesión finita de objetos del mismo tipo. En Julia, los arreglos son **dinámicos**, es decir, la cantidad de objetos que tienen puede cambiar: le podemos añadir y quitar objetos a un arreglo.\n",
    "\n",
    "La función `push!(arr,obj)` nos permite añadirle `obj` al final del arreglo `arr`"
   ]
  },
  {
   "cell_type": "code",
   "execution_count": 21,
   "metadata": {},
   "outputs": [
    {
     "name": "stdout",
     "output_type": "stream",
     "text": [
      "Antes: [1, 24, 5, 2]\n",
      "Despues: [1, 24, 5, 2, 11]\n"
     ]
    }
   ],
   "source": [
    "arr1 = [1,24,5,2]\n",
    "print(\"Antes: \")\n",
    "println(arr1)\n",
    "# añadimos el 11 al final\n",
    "push!(arr1,11)\n",
    "print(\"Despues: \")\n",
    "println(arr1)"
   ]
  },
  {
   "cell_type": "markdown",
   "metadata": {},
   "source": [
    "Notemos que si intentamos añadir un objeto de tipo distinto al del arreglo, obtendremos un error"
   ]
  },
  {
   "cell_type": "code",
   "execution_count": 22,
   "metadata": {},
   "outputs": [
    {
     "ename": "InexactError",
     "evalue": "InexactError: Bool(4.6)",
     "output_type": "error",
     "traceback": [
      "InexactError: Bool(4.6)",
      "",
      "Stacktrace:",
      " [1] Bool at .\\float.jl:73 [inlined]",
      " [2] convert at .\\number.jl:7 [inlined]",
      " [3] push!(::Array{Bool,1}, ::Float64) at .\\array.jl:913",
      " [4] top-level scope at In[22]:2"
     ]
    }
   ],
   "source": [
    "arr2 = [true,false,true,true]\n",
    "push!(arr2,4.6)"
   ]
  },
  {
   "cell_type": "markdown",
   "metadata": {},
   "source": [
    "Sin embargo, a una lista si le podemos añadir cosas del mismo tipo"
   ]
  },
  {
   "cell_type": "code",
   "execution_count": 23,
   "metadata": {},
   "outputs": [
    {
     "name": "stdout",
     "output_type": "stream",
     "text": [
      "Any[true, \"aldo\", 'c', 5.7, 8]\n"
     ]
    }
   ],
   "source": [
    "list1 = [true,\"aldo\",'c',5.7]\n",
    "push!(list1,8)\n",
    "println(list1)"
   ]
  },
  {
   "cell_type": "markdown",
   "metadata": {},
   "source": [
    "### ¿Como aprovechamos esto para la sucesión recursiva?"
   ]
  },
  {
   "cell_type": "code",
   "execution_count": 24,
   "metadata": {},
   "outputs": [
    {
     "name": "stdout",
     "output_type": "stream",
     "text": [
      "Antes: [1, 2, 6, 24]\n",
      "Después: [1, 2, 6, 24, 120]\n"
     ]
    }
   ],
   "source": [
    "# primeros 4 factoriales\n",
    "arr3 = [1,2,6,24]\n",
    "print(\"Antes: \")\n",
    "println(arr3)\n",
    "# añado el nuevo: factorial(5) = factorial(4)*5 = arr[4]*5 \n",
    "push!(arr3,arr3[4]*5)\n",
    "print(\"Después: \")\n",
    "println(arr3)"
   ]
  },
  {
   "cell_type": "code",
   "execution_count": 25,
   "metadata": {},
   "outputs": [
    {
     "data": {
      "text/plain": [
       "miArregloFactorial (generic function with 1 method)"
      ]
     },
     "execution_count": 25,
     "metadata": {},
     "output_type": "execute_result"
    }
   ],
   "source": [
    "function miArregloFactorial(n)\n",
    "    # creo el arreglo, lo inicializo con el primer valor\n",
    "    final = [1]\n",
    "    # creamos todos los subsecuentes\n",
    "    for k in 2:n\n",
    "        push!(final,final[k-1]*k)\n",
    "    end\n",
    "    # regreso el arreglo\n",
    "    return final\n",
    "end"
   ]
  },
  {
   "cell_type": "code",
   "execution_count": 26,
   "metadata": {},
   "outputs": [
    {
     "name": "stdout",
     "output_type": "stream",
     "text": [
      "miArregloFactorial\n"
     ]
    }
   ],
   "source": [
    "println(miArregloFactorial)"
   ]
  },
  {
   "cell_type": "code",
   "execution_count": 27,
   "metadata": {},
   "outputs": [
    {
     "data": {
      "text/plain": [
       "10-element Array{Int64,1}:\n",
       "       1\n",
       "       2\n",
       "       6\n",
       "      24\n",
       "     120\n",
       "     720\n",
       "    5040\n",
       "   40320\n",
       "  362880\n",
       " 3628800"
      ]
     },
     "execution_count": 27,
     "metadata": {},
     "output_type": "execute_result"
    }
   ],
   "source": [
    "miArregloFactorial(10)"
   ]
  },
  {
   "cell_type": "code",
   "execution_count": 28,
   "metadata": {},
   "outputs": [
    {
     "data": {
      "text/plain": [
       "true"
      ]
     },
     "execution_count": 28,
     "metadata": {},
     "output_type": "execute_result"
    }
   ],
   "source": [
    "arr3 == miArregloFactorial(5)"
   ]
  },
  {
   "cell_type": "markdown",
   "metadata": {},
   "source": [
    "#### Ejercicio 2\n",
    "\n",
    "Crea una función `miArregloFibonacci(n)` que regrese un arreglo con los primeros $n$ números de la sucesión de Fibonacci."
   ]
  },
  {
   "cell_type": "markdown",
   "metadata": {},
   "source": [
    "#### Ejercicio 3"
   ]
  },
  {
   "cell_type": "markdown",
   "metadata": {},
   "source": [
    "Sea $s \\geq 0$ un número real **no negativo**, defino entonces la sucesión recursiva $x_k$ de la siguiente forma\n",
    "\n",
    "$$\n",
    "x_k =\\begin{cases}\n",
    "1 & \\text{si } k=1 \\\\\n",
    "\\\\\n",
    "\\frac{1}{2} \\left( x_{k-1} +  \\frac{s}{x_{k-1}} \\right) & \\text{si } k>1 \\\\\n",
    "\\end{cases}\n",
    "$$\n",
    "\n",
    "Define una función `miHeron(n,s)` que construya los primeros $n$ términos de dicha sucesión. "
   ]
  },
  {
   "cell_type": "markdown",
   "metadata": {},
   "source": [
    "#### Ejercicio 4\n",
    "\n",
    "Fija $n = 100$ y utiliza la función `miHeron(n,s)` con distintos valores de $s>0$. Analizando el arreglo obtenido, ¿Puedes ver si converge la sucesión? ¿De ser así, el número al que converge tiene alguna relación con $s$? ¿?\n",
    "\n",
    "**Sugerencia** puedes graficar la sucesión para analizar su convergencia."
   ]
  },
  {
   "cell_type": "markdown",
   "metadata": {},
   "source": [
    "## Ahora si: ¿Qué es una ecuación trascendental?\n",
    "\n",
    "Una ecuación trascedental es de la forma:\n",
    "\n",
    "$f(x) = 0$\n",
    "\n",
    "Equivalente a sacarle raíces a una función $f: \\mathbb{R} \\to \\mathbb{R}$\n",
    "\n",
    "### Ejemplos:\n",
    "\n",
    "1. $x^2 - x -12 = 0$ \n",
    "\n",
    "$\\quad \\quad  f(x) = x^2 -x - 12$\n",
    "\n",
    "\n",
    "2. $\\frac{\\cos{x}}{3} = x$ \n",
    "\n",
    "$ \\quad \\quad  f(x) = \\cos{x} - 3x$\n",
    "\n",
    "\n",
    "3. $\\tanh{\\left( e^{x^2-1} \\right)} = x^2 - \\sqrt[3]{\\cos{x}} $ \n",
    "\n",
    "Despejando: \n",
    "\n",
    "$ \\implies \\tanh{\\left( e^{x^2-1} \\right)} - x^2 + \\sqrt[3]{\\cos{x}} = 0$ \n",
    "\n",
    "$ \\quad \\quad f(x) = \\tanh{\\left( e^{x^2-1} \\right)} - x^2 + \\sqrt[3]{\\cos{x}}$\n",
    "\n",
    "En general, no hay solución analítica o  teórica para una ecuación trascendental arbitraria, por lo que se deben de solucionar de manera **numérica**. En análisis numérico se diseñan algoritmos para resolver estos problemas. \n",
    "\n",
    "Debido a la dificultad de algunas ecuaciones trascentenales, dichos algoritmos funcionan de distintas maneras, no todos llegan a una solución, y no todos se pueden usar para cualquier clase de función $f$."
   ]
  },
  {
   "cell_type": "markdown",
   "metadata": {},
   "source": [
    "## Caso particular: iteraciones de punto fijo\n",
    "\n",
    "Supongamos que podemos descomponer la función $f(x)$ como \n",
    "\n",
    "$$\n",
    "f(x) = F(x) - x\n",
    "$$\n",
    "\n",
    "Por ejemplo, para el ejemplo 1, tenemos que: $F(x) = x^2 - 12$\n",
    "\n",
    "En ese caso, resolver la ecuación $f(x) = 0$ es equivalente a resolver $F(x) = x$, o a encontrar los **puntos fijos** de la función $F$. Para resolver esa ecuación, podemos proponer un esquema iterativo mediante la siguiente sucesión recursiva:\n",
    "\n",
    "$$\n",
    "x_k = \\begin{cases}\n",
    "x_{\\text{inicial}} & \\text{si } k=1 \\\\\n",
    "\\\\\n",
    "F(x_{k-1}) & \\text{si } k>1 \\\\\n",
    "\\end{cases}\n",
    "$$\n",
    "\n",
    "A este método se le llama **iteración de punto fijo**."
   ]
  },
  {
   "cell_type": "markdown",
   "metadata": {},
   "source": [
    "#### Ejercicio 5\n",
    "\n",
    "Escribe una función `miIteración(F,x_inicial,n)` que tome como argumento la función $F$, el valor $x_{\\text{inicial}}$ y construya y regrese los primeros $n$ términos de la sucesión de la iteración de la función $F$."
   ]
  },
  {
   "cell_type": "markdown",
   "metadata": {},
   "source": [
    "#### Ejercicio 6\n",
    "\n",
    "Fija $n=20$ y utiliza la función `miIteración` para resolver las siguientes ecuaciones trascendentales\n",
    "\n",
    "\n",
    "* $-\\frac{x}{2} + 12 = 0$\n",
    "\n",
    "*  $ \\frac{\\cos{x}}{3} - x = 0$\n",
    "\n",
    "¿El método converge? ¿La convergencia depende de la condición inicial $x_{\\text{inicial}}$?\n",
    "¿$n=20$ son suficientes iteraciones?\n",
    "\n",
    "**Sugerencia:** recuerda que primero debes encontrar la función $F(x)$. Nuevamente, lo más fácil para analizar la convergencia es ver gráficamente como evolucionan los términos de la sucesión."
   ]
  },
  {
   "cell_type": "markdown",
   "metadata": {},
   "source": [
    "#### Ejercicio 7\n",
    "\n",
    "Resuelve analíticamente la primera ecuación trascendental del ejercicio 6 y, al ya tener la solución analítica,  haz una gráfica del error absoluto como función de $n$. ¿cómo se comporta?"
   ]
  },
  {
   "cell_type": "markdown",
   "metadata": {},
   "source": [
    "## Método de la bisección\n",
    "\n",
    "Si suponemos que $f(x)$ es una función continua, entonces podemos utilizar el teorema del valor intermedio para encontrar raíces de $f$. Sabemos que si existe un intervalo $[a,b]$ tal que $f(a)$ y $f(b)$ tienen signos distintos (i. e. uno es positivo y el otro negativo) entonces dicho teorema garantiza que debe existir $c \\in [a,b]$ con $f(c)=0$, es decir, existe una solución a la ecuación trascendental en dicho intervalo.\n",
    "\n",
    "### ¿Cómo podemos utilizar eso para crear un método de búsqueda?\n",
    "\n",
    "Supongamos que conocemos mágicamente el intervalo $[a,b]$ en el que la función cambia de signo.\n",
    "\n",
    "La idea consiste en primero proponer el **punto medio**, denotado $p$, del intervalo $[a,b]$ como posible solución a la ecuación. Si ese punto medio es solución (i.e. $f(p)$ está suficientemente cerca de cero), entonces ya obtuvimos lo que queremos: $p$ es la solución. \n",
    "\n",
    "Si $p$ no es la solución, entonces  dicha solución debe de estar o bien en $[a,p]$ o $[p,b]$."
   ]
  },
  {
   "cell_type": "markdown",
   "metadata": {},
   "source": [
    "#### Ejercicio 9\n",
    "\n",
    "Supón que $p$ no es solución de la ecuación. ¿Cómo puedes saber en cual de los dos intervalos $[a,p]$ o $[p,b]$ está la solución?\n",
    "\n",
    "**Sugerencia:** Si $f(p)$ no es cero, entonces es negativo o positivo."
   ]
  },
  {
   "cell_type": "markdown",
   "metadata": {},
   "source": [
    "Ya que sabemos en cuál de los dos intervalos se encuentra la solución, podemos **repetir el proceso**: ahora proponemos que el punto medio de ese nuevo intervalo es solución. Si nuevamente no lo es, podemos volver a dividir el intervalo y repetimos el proceso. Y así lo seguimos repitiendo las veces que sea necesario hasta encontrar una raíz, cuya existencia está garantizada por el teorema.\n",
    "\n",
    "A este método se le llama el **método de la bisección**"
   ]
  },
  {
   "cell_type": "markdown",
   "metadata": {},
   "source": [
    "### Ejercicio 10\n",
    "\n",
    "Implementa una función `miBisección(f,a,b)` que implemente el método de la bisección en un intervalo $[a,b]$ para una función $f$. Prueba tu función con las funciones del ejercicio 6. ¿Este método necesita más iteraciones para converger que el del ejerccio 6? ¿Hay funciones que converjan con este método pero no con las iteraciones de punto fijo?"
   ]
  },
  {
   "cell_type": "markdown",
   "metadata": {},
   "source": [
    "### Ejercicio 11\n",
    "\n",
    "Realiza el análisis de convergencia del método de la bisección al analizar el error absoluto como función de $n$ para la primera función del ejercicio 6."
   ]
  },
  {
   "cell_type": "markdown",
   "metadata": {},
   "source": [
    "## La visión general\n",
    "\n",
    "Usar funciones recursivas es peligroso por que, si la función está mal diseñada, es posible que se de un fenómeno de recursión infinita en el que la función nunca llegue a su caso base. Los lenguajes de alto nivel como Julia tienen un límite en la cantidad de llamadas recursivas que puede hacer una función recursiva para evitar estos problemas.\n",
    "\n",
    "Aunque es mejor que utilizar la función recursiva y comprensión de arreglos, crear una lista aumentandola en cada paso tampoco es buena idea. Lo mejor es, desde un inicio, crear un arreglo del tamaño que necesitamos y no cambiar su longitud. En la mayoría de los lenguajes de bajo nivel, los arreglos son **estáticos**: su longitud no puede cambiar."
   ]
  },
  {
   "cell_type": "markdown",
   "metadata": {},
   "source": [
    "Tanto las iteraciones de punto fijo como el método de la bisección son algoritmos **lentos** a la hora de converger. Además, las iteraciones de punto fijo no se pueden hacer para cualquier función (pruébenlo con funciones raras).\n",
    "\n",
    "En la siguiente clase veremos un mejor método para resolver ecuaciones trascedentales"
   ]
  },
  {
   "cell_type": "code",
   "execution_count": null,
   "metadata": {},
   "outputs": [],
   "source": []
  }
 ],
 "metadata": {
  "kernelspec": {
   "display_name": "Julia 1.4.2",
   "language": "julia",
   "name": "julia-1.4"
  },
  "language_info": {
   "file_extension": ".jl",
   "mimetype": "application/julia",
   "name": "julia",
   "version": "1.4.2"
  }
 },
 "nbformat": 4,
 "nbformat_minor": 4
}
