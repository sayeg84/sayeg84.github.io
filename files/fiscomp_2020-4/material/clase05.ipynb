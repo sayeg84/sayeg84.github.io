{
 "cells": [
  {
   "cell_type": "markdown",
   "metadata": {},
   "source": [
    "# Clase 5"
   ]
  },
  {
   "cell_type": "markdown",
   "metadata": {},
   "source": [
    "## Introducción a las librerías o paquetes"
   ]
  },
  {
   "cell_type": "markdown",
   "metadata": {},
   "source": [
    "En el mundo de la computación, hay muchos problemas o necesidades que le son comunes a muchos programadores. Debido a eso, existe código que implementa programas para resolver dichos problemas o necesidades que se puede utilizar **libre de costo**."
   ]
  },
  {
   "cell_type": "markdown",
   "metadata": {},
   "source": [
    "A ese código se le llama normalmente **librería** o paquete. Lo más importante es que lo podemos usar y extiende a Julia para dejarnos hacer otras cosas"
   ]
  },
  {
   "cell_type": "markdown",
   "metadata": {},
   "source": [
    "### ¿Cómo se si hay librerías para lo que necesito?"
   ]
  },
  {
   "cell_type": "markdown",
   "metadata": {},
   "source": [
    "Buscando en Google. Sin embargo, todas las librerías relevantes para el curso yo se las voy a enseñar."
   ]
  },
  {
   "cell_type": "markdown",
   "metadata": {},
   "source": [
    "Para utilizar una librería en Julia hay que hacer dos cosas\n",
    "\n",
    "1. Instalarla\n",
    "\n",
    "2. Importarla cada vez que la necesitemos"
   ]
  },
  {
   "cell_type": "markdown",
   "metadata": {},
   "source": [
    "### ¿Cómo instalamos librerías?"
   ]
  },
  {
   "cell_type": "markdown",
   "metadata": {},
   "source": [
    "Julia tiene integrado a si mismo un instalador de librerías. Para acceder a él, solo debemos de ejecutar ciertos comandos iniciando con el símbolo `]`. Por ejemplo\n",
    "\n",
    "* `]add lib` añade la librería `lib`\n",
    "\n",
    "* `]help` nos muestra los comandos que podemos utilizar para instalar paquetes"
   ]
  },
  {
   "cell_type": "code",
   "execution_count": 1,
   "metadata": {},
   "outputs": [
    {
     "name": "stdout",
     "output_type": "stream",
     "text": [
      "  \u001b[1mWelcome to the Pkg REPL-mode\u001b[22m. To return to the \u001b[36mjulia>\u001b[39m prompt, either press\n",
      "  backspace when the input line is empty or press Ctrl+C.\n",
      "\n",
      "  \u001b[1mSynopsis\u001b[22m\n",
      "\n",
      "\u001b[36m  pkg> cmd [opts] [args]\u001b[39m\n",
      "\n",
      "  Multiple commands can be given on the same line by interleaving a \u001b[36m;\u001b[39m between\n",
      "  the commands.\n",
      "\n",
      "  \u001b[1mCommands\u001b[22m\n",
      "\n",
      "  \u001b[36mactivate\u001b[39m: set the primary environment the package manager manipulates\n",
      "\n",
      "  \u001b[36madd\u001b[39m: add packages to project\n",
      "\n",
      "  \u001b[36mbuild\u001b[39m: run the build script for packages\n",
      "\n",
      "  \u001b[36mdevelop\u001b[39m: clone the full package repo locally for development\n",
      "\n",
      "  \u001b[36mfree\u001b[39m: undoes a \u001b[36mpin\u001b[39m, \u001b[36mdevelop\u001b[39m, or stops tracking a repo\n",
      "\n",
      "  \u001b[36mgc\u001b[39m: garbage collect packages not used for a significant time\n",
      "\n",
      "  \u001b[36mgenerate\u001b[39m: generate files for a new project\n",
      "\n",
      "  \u001b[36mhelp\u001b[39m: show this message\n",
      "\n",
      "  \u001b[36minstantiate\u001b[39m: downloads all the dependencies for the project\n",
      "\n",
      "  \u001b[36mpin\u001b[39m: pins the version of packages\n",
      "\n",
      "  \u001b[36mprecompile\u001b[39m: precompile all the project dependencies\n",
      "\n",
      "  \u001b[36mredo\u001b[39m: redo the latest change to the active project\n",
      "\n",
      "  \u001b[36mremove\u001b[39m: remove packages from project or manifest\n",
      "\n",
      "  \u001b[36mresolve\u001b[39m: resolves to update the manifest from changes in dependencies of\n",
      "  developed packages\n",
      "\n",
      "  \u001b[36mstatus\u001b[39m: summarize contents of and changes to environment\n",
      "\n",
      "  \u001b[36mtest\u001b[39m: run tests for packages\n",
      "\n",
      "  \u001b[36mundo\u001b[39m: undo the latest change to the active project\n",
      "\n",
      "  \u001b[36mupdate\u001b[39m: update packages in manifest\n",
      "\n",
      "  \u001b[36mregistry add\u001b[39m: add package registries\n",
      "\n",
      "  \u001b[36mregistry remove\u001b[39m: remove package registries\n",
      "\n",
      "  \u001b[36mregistry status\u001b[39m: information about installed registries\n",
      "\n",
      "  \u001b[36mregistry update\u001b[39m: update package registries"
     ]
    }
   ],
   "source": [
    "]help"
   ]
  },
  {
   "cell_type": "markdown",
   "metadata": {},
   "source": [
    "## Graficación"
   ]
  },
  {
   "cell_type": "markdown",
   "metadata": {},
   "source": [
    "Para hacer gráficas de funciones, nosotros utilizaremos una librería simple y sencilla de usar llamada `Plots.jl`"
   ]
  },
  {
   "cell_type": "code",
   "execution_count": 3,
   "metadata": {},
   "outputs": [
    {
     "name": "stderr",
     "output_type": "stream",
     "text": [
      "\u001b[32m\u001b[1m   Updating\u001b[22m\u001b[39m registry at `C:\\Users\\sayeg\\.julia\\registries\\General`\n"
     ]
    },
    {
     "name": "stdout",
     "output_type": "stream",
     "text": [
      "\u001b[?25l"
     ]
    },
    {
     "name": "stderr",
     "output_type": "stream",
     "text": [
      "\u001b[32m\u001b[1m   Updating\u001b[22m\u001b[39m git-repo `https://github.com/JuliaRegistries/General.git`\n"
     ]
    },
    {
     "name": "stdout",
     "output_type": "stream",
     "text": [
      "\u001b[2K\u001b[36m\u001b[1mFetching:\u001b[22m\u001b[39m [========================================>]  100.0 %[36m\u001b[1mFetching:\u001b[22m\u001b[39m [=====>                                   ]  10.4 %.6 %51.2 %>              ]  63.7 %\u001b[?25h"
     ]
    },
    {
     "name": "stderr",
     "output_type": "stream",
     "text": [
      "\u001b[32m\u001b[1m  Resolving\u001b[22m\u001b[39m package versions...\n",
      "\u001b[32m\u001b[1m   Updating\u001b[22m\u001b[39m `C:\\Users\\sayeg\\.julia\\environments\\v1.4\\Project.toml`\n",
      "\u001b[90m [no changes]\u001b[39m\n",
      "\u001b[32m\u001b[1m   Updating\u001b[22m\u001b[39m `C:\\Users\\sayeg\\.julia\\environments\\v1.4\\Manifest.toml`\n",
      "\u001b[90m [no changes]\u001b[39m\n"
     ]
    }
   ],
   "source": [
    "]add Plots"
   ]
  },
  {
   "cell_type": "markdown",
   "metadata": {},
   "source": [
    "### Ya instalé la librería. ¿Cómo hago para importarla y utilizarla?\n",
    "\n",
    "Aunque instalemos una librería, el código y las funciones de la librería no se vuelven inmediatamente accesibles para nosotros. Para que podamos acceder a ese código, debemos importar la librería. Para importar la librería, simplemente utilizamos el comando `using` de la siguiente manera:\n",
    "\n",
    "`using Plots`"
   ]
  },
  {
   "cell_type": "code",
   "execution_count": 4,
   "metadata": {},
   "outputs": [],
   "source": [
    "using Plots"
   ]
  },
  {
   "cell_type": "markdown",
   "metadata": {},
   "source": [
    "### Graficas simples: `plot`"
   ]
  },
  {
   "cell_type": "markdown",
   "metadata": {},
   "source": [
    "La función `plot` nos permite graficar dos arreglos del mismo tamaño que corresponden a los valores en el eje $x$ y en el eje $y$ de una función. La función une los puntos entre ellos por un segmento de recta en el orden en el que aparecen"
   ]
  },
  {
   "cell_type": "code",
   "execution_count": 5,
   "metadata": {},
   "outputs": [
    {
     "data": {
      "text/plain": [
       "primeraGrafica (generic function with 1 method)"
      ]
     },
     "execution_count": 5,
     "metadata": {},
     "output_type": "execute_result"
    }
   ],
   "source": [
    "function primeraGrafica()\n",
    "    xs = [0,1,2]\n",
    "    ys = [0,1,0.5]\n",
    "    plot(xs,ys)\n",
    "end"
   ]
  },
  {
   "cell_type": "code",
   "execution_count": 6,
   "metadata": {},
   "outputs": [
    {
     "data": {
      "image/svg+xml": [
       "<?xml version=\"1.0\" encoding=\"utf-8\"?>\n",
       "<svg xmlns=\"http://www.w3.org/2000/svg\" xmlns:xlink=\"http://www.w3.org/1999/xlink\" width=\"600\" height=\"400\" viewBox=\"0 0 2400 1600\">\n",
       "<defs>\n",
       "  <clipPath id=\"clip4200\">\n",
       "    <rect x=\"0\" y=\"0\" width=\"2400\" height=\"1600\"/>\n",
       "  </clipPath>\n",
       "</defs>\n",
       "<path clip-path=\"url(#clip4200)\" d=\"\n",
       "M0 1600 L2400 1600 L2400 0 L0 0  Z\n",
       "  \" fill=\"#ffffff\" fill-rule=\"evenodd\" fill-opacity=\"1\"/>\n",
       "<defs>\n",
       "  <clipPath id=\"clip4201\">\n",
       "    <rect x=\"480\" y=\"0\" width=\"1681\" height=\"1600\"/>\n",
       "  </clipPath>\n",
       "</defs>\n",
       "<path clip-path=\"url(#clip4200)\" d=\"\n",
       "M180.66 1487.47 L2352.76 1487.47 L2352.76 47.2441 L180.66 47.2441  Z\n",
       "  \" fill=\"#ffffff\" fill-rule=\"evenodd\" fill-opacity=\"1\"/>\n",
       "<defs>\n",
       "  <clipPath id=\"clip4202\">\n",
       "    <rect x=\"180\" y=\"47\" width=\"2173\" height=\"1441\"/>\n",
       "  </clipPath>\n",
       "</defs>\n",
       "<polyline clip-path=\"url(#clip4202)\" style=\"stroke:#000000; stroke-width:2; stroke-opacity:0.1; fill:none\" points=\"\n",
       "  242.135,1487.47 242.135,47.2441 \n",
       "  \"/>\n",
       "<polyline clip-path=\"url(#clip4202)\" style=\"stroke:#000000; stroke-width:2; stroke-opacity:0.1; fill:none\" points=\"\n",
       "  754.421,1487.47 754.421,47.2441 \n",
       "  \"/>\n",
       "<polyline clip-path=\"url(#clip4202)\" style=\"stroke:#000000; stroke-width:2; stroke-opacity:0.1; fill:none\" points=\"\n",
       "  1266.71,1487.47 1266.71,47.2441 \n",
       "  \"/>\n",
       "<polyline clip-path=\"url(#clip4202)\" style=\"stroke:#000000; stroke-width:2; stroke-opacity:0.1; fill:none\" points=\"\n",
       "  1778.99,1487.47 1778.99,47.2441 \n",
       "  \"/>\n",
       "<polyline clip-path=\"url(#clip4202)\" style=\"stroke:#000000; stroke-width:2; stroke-opacity:0.1; fill:none\" points=\"\n",
       "  2291.28,1487.47 2291.28,47.2441 \n",
       "  \"/>\n",
       "<polyline clip-path=\"url(#clip4202)\" style=\"stroke:#000000; stroke-width:2; stroke-opacity:0.1; fill:none\" points=\"\n",
       "  180.66,1446.71 2352.76,1446.71 \n",
       "  \"/>\n",
       "<polyline clip-path=\"url(#clip4202)\" style=\"stroke:#000000; stroke-width:2; stroke-opacity:0.1; fill:none\" points=\"\n",
       "  180.66,1107.04 2352.76,1107.04 \n",
       "  \"/>\n",
       "<polyline clip-path=\"url(#clip4202)\" style=\"stroke:#000000; stroke-width:2; stroke-opacity:0.1; fill:none\" points=\"\n",
       "  180.66,767.359 2352.76,767.359 \n",
       "  \"/>\n",
       "<polyline clip-path=\"url(#clip4202)\" style=\"stroke:#000000; stroke-width:2; stroke-opacity:0.1; fill:none\" points=\"\n",
       "  180.66,427.682 2352.76,427.682 \n",
       "  \"/>\n",
       "<polyline clip-path=\"url(#clip4202)\" style=\"stroke:#000000; stroke-width:2; stroke-opacity:0.1; fill:none\" points=\"\n",
       "  180.66,88.0053 2352.76,88.0053 \n",
       "  \"/>\n",
       "<polyline clip-path=\"url(#clip4200)\" style=\"stroke:#000000; stroke-width:4; stroke-opacity:1; fill:none\" points=\"\n",
       "  180.66,1487.47 2352.76,1487.47 \n",
       "  \"/>\n",
       "<polyline clip-path=\"url(#clip4200)\" style=\"stroke:#000000; stroke-width:4; stroke-opacity:1; fill:none\" points=\"\n",
       "  180.66,1487.47 180.66,47.2441 \n",
       "  \"/>\n",
       "<polyline clip-path=\"url(#clip4200)\" style=\"stroke:#000000; stroke-width:4; stroke-opacity:1; fill:none\" points=\"\n",
       "  242.135,1487.47 242.135,1470.19 \n",
       "  \"/>\n",
       "<polyline clip-path=\"url(#clip4200)\" style=\"stroke:#000000; stroke-width:4; stroke-opacity:1; fill:none\" points=\"\n",
       "  754.421,1487.47 754.421,1470.19 \n",
       "  \"/>\n",
       "<polyline clip-path=\"url(#clip4200)\" style=\"stroke:#000000; stroke-width:4; stroke-opacity:1; fill:none\" points=\"\n",
       "  1266.71,1487.47 1266.71,1470.19 \n",
       "  \"/>\n",
       "<polyline clip-path=\"url(#clip4200)\" style=\"stroke:#000000; stroke-width:4; stroke-opacity:1; fill:none\" points=\"\n",
       "  1778.99,1487.47 1778.99,1470.19 \n",
       "  \"/>\n",
       "<polyline clip-path=\"url(#clip4200)\" style=\"stroke:#000000; stroke-width:4; stroke-opacity:1; fill:none\" points=\"\n",
       "  2291.28,1487.47 2291.28,1470.19 \n",
       "  \"/>\n",
       "<polyline clip-path=\"url(#clip4200)\" style=\"stroke:#000000; stroke-width:4; stroke-opacity:1; fill:none\" points=\"\n",
       "  180.66,1446.71 206.725,1446.71 \n",
       "  \"/>\n",
       "<polyline clip-path=\"url(#clip4200)\" style=\"stroke:#000000; stroke-width:4; stroke-opacity:1; fill:none\" points=\"\n",
       "  180.66,1107.04 206.725,1107.04 \n",
       "  \"/>\n",
       "<polyline clip-path=\"url(#clip4200)\" style=\"stroke:#000000; stroke-width:4; stroke-opacity:1; fill:none\" points=\"\n",
       "  180.66,767.359 206.725,767.359 \n",
       "  \"/>\n",
       "<polyline clip-path=\"url(#clip4200)\" style=\"stroke:#000000; stroke-width:4; stroke-opacity:1; fill:none\" points=\"\n",
       "  180.66,427.682 206.725,427.682 \n",
       "  \"/>\n",
       "<polyline clip-path=\"url(#clip4200)\" style=\"stroke:#000000; stroke-width:4; stroke-opacity:1; fill:none\" points=\"\n",
       "  180.66,88.0053 206.725,88.0053 \n",
       "  \"/>\n",
       "<g clip-path=\"url(#clip4200)\">\n",
       "<text style=\"fill:#000000; fill-opacity:1; font-family:Arial,Helvetica Neue,Helvetica,sans-serif; font-size:48px; text-anchor:middle;\" transform=\"rotate(0, 242.135, 1541.47)\" x=\"242.135\" y=\"1541.47\">0.0</text>\n",
       "</g>\n",
       "<g clip-path=\"url(#clip4200)\">\n",
       "<text style=\"fill:#000000; fill-opacity:1; font-family:Arial,Helvetica Neue,Helvetica,sans-serif; font-size:48px; text-anchor:middle;\" transform=\"rotate(0, 754.421, 1541.47)\" x=\"754.421\" y=\"1541.47\">0.5</text>\n",
       "</g>\n",
       "<g clip-path=\"url(#clip4200)\">\n",
       "<text style=\"fill:#000000; fill-opacity:1; font-family:Arial,Helvetica Neue,Helvetica,sans-serif; font-size:48px; text-anchor:middle;\" transform=\"rotate(0, 1266.71, 1541.47)\" x=\"1266.71\" y=\"1541.47\">1.0</text>\n",
       "</g>\n",
       "<g clip-path=\"url(#clip4200)\">\n",
       "<text style=\"fill:#000000; fill-opacity:1; font-family:Arial,Helvetica Neue,Helvetica,sans-serif; font-size:48px; text-anchor:middle;\" transform=\"rotate(0, 1778.99, 1541.47)\" x=\"1778.99\" y=\"1541.47\">1.5</text>\n",
       "</g>\n",
       "<g clip-path=\"url(#clip4200)\">\n",
       "<text style=\"fill:#000000; fill-opacity:1; font-family:Arial,Helvetica Neue,Helvetica,sans-serif; font-size:48px; text-anchor:middle;\" transform=\"rotate(0, 2291.28, 1541.47)\" x=\"2291.28\" y=\"1541.47\">2.0</text>\n",
       "</g>\n",
       "<g clip-path=\"url(#clip4200)\">\n",
       "<text style=\"fill:#000000; fill-opacity:1; font-family:Arial,Helvetica Neue,Helvetica,sans-serif; font-size:48px; text-anchor:end;\" transform=\"rotate(0, 156.66, 1464.21)\" x=\"156.66\" y=\"1464.21\">0.00</text>\n",
       "</g>\n",
       "<g clip-path=\"url(#clip4200)\">\n",
       "<text style=\"fill:#000000; fill-opacity:1; font-family:Arial,Helvetica Neue,Helvetica,sans-serif; font-size:48px; text-anchor:end;\" transform=\"rotate(0, 156.66, 1124.54)\" x=\"156.66\" y=\"1124.54\">0.25</text>\n",
       "</g>\n",
       "<g clip-path=\"url(#clip4200)\">\n",
       "<text style=\"fill:#000000; fill-opacity:1; font-family:Arial,Helvetica Neue,Helvetica,sans-serif; font-size:48px; text-anchor:end;\" transform=\"rotate(0, 156.66, 784.859)\" x=\"156.66\" y=\"784.859\">0.50</text>\n",
       "</g>\n",
       "<g clip-path=\"url(#clip4200)\">\n",
       "<text style=\"fill:#000000; fill-opacity:1; font-family:Arial,Helvetica Neue,Helvetica,sans-serif; font-size:48px; text-anchor:end;\" transform=\"rotate(0, 156.66, 445.182)\" x=\"156.66\" y=\"445.182\">0.75</text>\n",
       "</g>\n",
       "<g clip-path=\"url(#clip4200)\">\n",
       "<text style=\"fill:#000000; fill-opacity:1; font-family:Arial,Helvetica Neue,Helvetica,sans-serif; font-size:48px; text-anchor:end;\" transform=\"rotate(0, 156.66, 105.505)\" x=\"156.66\" y=\"105.505\">1.00</text>\n",
       "</g>\n",
       "<polyline clip-path=\"url(#clip4202)\" style=\"stroke:#009af9; stroke-width:4; stroke-opacity:1; fill:none\" points=\"\n",
       "  242.135,1446.71 1266.71,88.0053 2291.28,767.359 \n",
       "  \"/>\n",
       "<path clip-path=\"url(#clip4200)\" d=\"\n",
       "M1989.93 251.724 L2280.76 251.724 L2280.76 130.764 L1989.93 130.764  Z\n",
       "  \" fill=\"#ffffff\" fill-rule=\"evenodd\" fill-opacity=\"1\"/>\n",
       "<polyline clip-path=\"url(#clip4200)\" style=\"stroke:#000000; stroke-width:4; stroke-opacity:1; fill:none\" points=\"\n",
       "  1989.93,251.724 2280.76,251.724 2280.76,130.764 1989.93,130.764 1989.93,251.724 \n",
       "  \"/>\n",
       "<polyline clip-path=\"url(#clip4200)\" style=\"stroke:#009af9; stroke-width:4; stroke-opacity:1; fill:none\" points=\"\n",
       "  2013.93,191.244 2157.93,191.244 \n",
       "  \"/>\n",
       "<g clip-path=\"url(#clip4200)\">\n",
       "<text style=\"fill:#000000; fill-opacity:1; font-family:Arial,Helvetica Neue,Helvetica,sans-serif; font-size:48px; text-anchor:start;\" transform=\"rotate(0, 2181.93, 208.744)\" x=\"2181.93\" y=\"208.744\">y1</text>\n",
       "</g>\n",
       "</svg>\n"
      ]
     },
     "execution_count": 6,
     "metadata": {},
     "output_type": "execute_result"
    }
   ],
   "source": [
    "primeraGrafica()"
   ]
  },
  {
   "cell_type": "code",
   "execution_count": 7,
   "metadata": {},
   "outputs": [
    {
     "data": {
      "text/plain": [
       "segundaGrafica (generic function with 1 method)"
      ]
     },
     "execution_count": 7,
     "metadata": {},
     "output_type": "execute_result"
    }
   ],
   "source": [
    "function segundaGrafica()\n",
    "    xs = [0,2,1]\n",
    "    ys = [0,0.5,1]\n",
    "    plot(xs,ys)\n",
    "end"
   ]
  },
  {
   "cell_type": "code",
   "execution_count": 8,
   "metadata": {},
   "outputs": [
    {
     "data": {
      "image/svg+xml": [
       "<?xml version=\"1.0\" encoding=\"utf-8\"?>\n",
       "<svg xmlns=\"http://www.w3.org/2000/svg\" xmlns:xlink=\"http://www.w3.org/1999/xlink\" width=\"600\" height=\"400\" viewBox=\"0 0 2400 1600\">\n",
       "<defs>\n",
       "  <clipPath id=\"clip4600\">\n",
       "    <rect x=\"0\" y=\"0\" width=\"2400\" height=\"1600\"/>\n",
       "  </clipPath>\n",
       "</defs>\n",
       "<path clip-path=\"url(#clip4600)\" d=\"\n",
       "M0 1600 L2400 1600 L2400 0 L0 0  Z\n",
       "  \" fill=\"#ffffff\" fill-rule=\"evenodd\" fill-opacity=\"1\"/>\n",
       "<defs>\n",
       "  <clipPath id=\"clip4601\">\n",
       "    <rect x=\"480\" y=\"0\" width=\"1681\" height=\"1600\"/>\n",
       "  </clipPath>\n",
       "</defs>\n",
       "<path clip-path=\"url(#clip4600)\" d=\"\n",
       "M180.66 1487.47 L2352.76 1487.47 L2352.76 47.2441 L180.66 47.2441  Z\n",
       "  \" fill=\"#ffffff\" fill-rule=\"evenodd\" fill-opacity=\"1\"/>\n",
       "<defs>\n",
       "  <clipPath id=\"clip4602\">\n",
       "    <rect x=\"180\" y=\"47\" width=\"2173\" height=\"1441\"/>\n",
       "  </clipPath>\n",
       "</defs>\n",
       "<polyline clip-path=\"url(#clip4602)\" style=\"stroke:#000000; stroke-width:2; stroke-opacity:0.1; fill:none\" points=\"\n",
       "  242.135,1487.47 242.135,47.2441 \n",
       "  \"/>\n",
       "<polyline clip-path=\"url(#clip4602)\" style=\"stroke:#000000; stroke-width:2; stroke-opacity:0.1; fill:none\" points=\"\n",
       "  754.421,1487.47 754.421,47.2441 \n",
       "  \"/>\n",
       "<polyline clip-path=\"url(#clip4602)\" style=\"stroke:#000000; stroke-width:2; stroke-opacity:0.1; fill:none\" points=\"\n",
       "  1266.71,1487.47 1266.71,47.2441 \n",
       "  \"/>\n",
       "<polyline clip-path=\"url(#clip4602)\" style=\"stroke:#000000; stroke-width:2; stroke-opacity:0.1; fill:none\" points=\"\n",
       "  1778.99,1487.47 1778.99,47.2441 \n",
       "  \"/>\n",
       "<polyline clip-path=\"url(#clip4602)\" style=\"stroke:#000000; stroke-width:2; stroke-opacity:0.1; fill:none\" points=\"\n",
       "  2291.28,1487.47 2291.28,47.2441 \n",
       "  \"/>\n",
       "<polyline clip-path=\"url(#clip4602)\" style=\"stroke:#000000; stroke-width:2; stroke-opacity:0.1; fill:none\" points=\"\n",
       "  180.66,1446.71 2352.76,1446.71 \n",
       "  \"/>\n",
       "<polyline clip-path=\"url(#clip4602)\" style=\"stroke:#000000; stroke-width:2; stroke-opacity:0.1; fill:none\" points=\"\n",
       "  180.66,1107.04 2352.76,1107.04 \n",
       "  \"/>\n",
       "<polyline clip-path=\"url(#clip4602)\" style=\"stroke:#000000; stroke-width:2; stroke-opacity:0.1; fill:none\" points=\"\n",
       "  180.66,767.359 2352.76,767.359 \n",
       "  \"/>\n",
       "<polyline clip-path=\"url(#clip4602)\" style=\"stroke:#000000; stroke-width:2; stroke-opacity:0.1; fill:none\" points=\"\n",
       "  180.66,427.682 2352.76,427.682 \n",
       "  \"/>\n",
       "<polyline clip-path=\"url(#clip4602)\" style=\"stroke:#000000; stroke-width:2; stroke-opacity:0.1; fill:none\" points=\"\n",
       "  180.66,88.0053 2352.76,88.0053 \n",
       "  \"/>\n",
       "<polyline clip-path=\"url(#clip4600)\" style=\"stroke:#000000; stroke-width:4; stroke-opacity:1; fill:none\" points=\"\n",
       "  180.66,1487.47 2352.76,1487.47 \n",
       "  \"/>\n",
       "<polyline clip-path=\"url(#clip4600)\" style=\"stroke:#000000; stroke-width:4; stroke-opacity:1; fill:none\" points=\"\n",
       "  180.66,1487.47 180.66,47.2441 \n",
       "  \"/>\n",
       "<polyline clip-path=\"url(#clip4600)\" style=\"stroke:#000000; stroke-width:4; stroke-opacity:1; fill:none\" points=\"\n",
       "  242.135,1487.47 242.135,1470.19 \n",
       "  \"/>\n",
       "<polyline clip-path=\"url(#clip4600)\" style=\"stroke:#000000; stroke-width:4; stroke-opacity:1; fill:none\" points=\"\n",
       "  754.421,1487.47 754.421,1470.19 \n",
       "  \"/>\n",
       "<polyline clip-path=\"url(#clip4600)\" style=\"stroke:#000000; stroke-width:4; stroke-opacity:1; fill:none\" points=\"\n",
       "  1266.71,1487.47 1266.71,1470.19 \n",
       "  \"/>\n",
       "<polyline clip-path=\"url(#clip4600)\" style=\"stroke:#000000; stroke-width:4; stroke-opacity:1; fill:none\" points=\"\n",
       "  1778.99,1487.47 1778.99,1470.19 \n",
       "  \"/>\n",
       "<polyline clip-path=\"url(#clip4600)\" style=\"stroke:#000000; stroke-width:4; stroke-opacity:1; fill:none\" points=\"\n",
       "  2291.28,1487.47 2291.28,1470.19 \n",
       "  \"/>\n",
       "<polyline clip-path=\"url(#clip4600)\" style=\"stroke:#000000; stroke-width:4; stroke-opacity:1; fill:none\" points=\"\n",
       "  180.66,1446.71 206.725,1446.71 \n",
       "  \"/>\n",
       "<polyline clip-path=\"url(#clip4600)\" style=\"stroke:#000000; stroke-width:4; stroke-opacity:1; fill:none\" points=\"\n",
       "  180.66,1107.04 206.725,1107.04 \n",
       "  \"/>\n",
       "<polyline clip-path=\"url(#clip4600)\" style=\"stroke:#000000; stroke-width:4; stroke-opacity:1; fill:none\" points=\"\n",
       "  180.66,767.359 206.725,767.359 \n",
       "  \"/>\n",
       "<polyline clip-path=\"url(#clip4600)\" style=\"stroke:#000000; stroke-width:4; stroke-opacity:1; fill:none\" points=\"\n",
       "  180.66,427.682 206.725,427.682 \n",
       "  \"/>\n",
       "<polyline clip-path=\"url(#clip4600)\" style=\"stroke:#000000; stroke-width:4; stroke-opacity:1; fill:none\" points=\"\n",
       "  180.66,88.0053 206.725,88.0053 \n",
       "  \"/>\n",
       "<g clip-path=\"url(#clip4600)\">\n",
       "<text style=\"fill:#000000; fill-opacity:1; font-family:Arial,Helvetica Neue,Helvetica,sans-serif; font-size:48px; text-anchor:middle;\" transform=\"rotate(0, 242.135, 1541.47)\" x=\"242.135\" y=\"1541.47\">0.0</text>\n",
       "</g>\n",
       "<g clip-path=\"url(#clip4600)\">\n",
       "<text style=\"fill:#000000; fill-opacity:1; font-family:Arial,Helvetica Neue,Helvetica,sans-serif; font-size:48px; text-anchor:middle;\" transform=\"rotate(0, 754.421, 1541.47)\" x=\"754.421\" y=\"1541.47\">0.5</text>\n",
       "</g>\n",
       "<g clip-path=\"url(#clip4600)\">\n",
       "<text style=\"fill:#000000; fill-opacity:1; font-family:Arial,Helvetica Neue,Helvetica,sans-serif; font-size:48px; text-anchor:middle;\" transform=\"rotate(0, 1266.71, 1541.47)\" x=\"1266.71\" y=\"1541.47\">1.0</text>\n",
       "</g>\n",
       "<g clip-path=\"url(#clip4600)\">\n",
       "<text style=\"fill:#000000; fill-opacity:1; font-family:Arial,Helvetica Neue,Helvetica,sans-serif; font-size:48px; text-anchor:middle;\" transform=\"rotate(0, 1778.99, 1541.47)\" x=\"1778.99\" y=\"1541.47\">1.5</text>\n",
       "</g>\n",
       "<g clip-path=\"url(#clip4600)\">\n",
       "<text style=\"fill:#000000; fill-opacity:1; font-family:Arial,Helvetica Neue,Helvetica,sans-serif; font-size:48px; text-anchor:middle;\" transform=\"rotate(0, 2291.28, 1541.47)\" x=\"2291.28\" y=\"1541.47\">2.0</text>\n",
       "</g>\n",
       "<g clip-path=\"url(#clip4600)\">\n",
       "<text style=\"fill:#000000; fill-opacity:1; font-family:Arial,Helvetica Neue,Helvetica,sans-serif; font-size:48px; text-anchor:end;\" transform=\"rotate(0, 156.66, 1464.21)\" x=\"156.66\" y=\"1464.21\">0.00</text>\n",
       "</g>\n",
       "<g clip-path=\"url(#clip4600)\">\n",
       "<text style=\"fill:#000000; fill-opacity:1; font-family:Arial,Helvetica Neue,Helvetica,sans-serif; font-size:48px; text-anchor:end;\" transform=\"rotate(0, 156.66, 1124.54)\" x=\"156.66\" y=\"1124.54\">0.25</text>\n",
       "</g>\n",
       "<g clip-path=\"url(#clip4600)\">\n",
       "<text style=\"fill:#000000; fill-opacity:1; font-family:Arial,Helvetica Neue,Helvetica,sans-serif; font-size:48px; text-anchor:end;\" transform=\"rotate(0, 156.66, 784.859)\" x=\"156.66\" y=\"784.859\">0.50</text>\n",
       "</g>\n",
       "<g clip-path=\"url(#clip4600)\">\n",
       "<text style=\"fill:#000000; fill-opacity:1; font-family:Arial,Helvetica Neue,Helvetica,sans-serif; font-size:48px; text-anchor:end;\" transform=\"rotate(0, 156.66, 445.182)\" x=\"156.66\" y=\"445.182\">0.75</text>\n",
       "</g>\n",
       "<g clip-path=\"url(#clip4600)\">\n",
       "<text style=\"fill:#000000; fill-opacity:1; font-family:Arial,Helvetica Neue,Helvetica,sans-serif; font-size:48px; text-anchor:end;\" transform=\"rotate(0, 156.66, 105.505)\" x=\"156.66\" y=\"105.505\">1.00</text>\n",
       "</g>\n",
       "<polyline clip-path=\"url(#clip4602)\" style=\"stroke:#009af9; stroke-width:4; stroke-opacity:1; fill:none\" points=\"\n",
       "  242.135,1446.71 2291.28,767.359 1266.71,88.0053 \n",
       "  \"/>\n",
       "<path clip-path=\"url(#clip4600)\" d=\"\n",
       "M1989.93 251.724 L2280.76 251.724 L2280.76 130.764 L1989.93 130.764  Z\n",
       "  \" fill=\"#ffffff\" fill-rule=\"evenodd\" fill-opacity=\"1\"/>\n",
       "<polyline clip-path=\"url(#clip4600)\" style=\"stroke:#000000; stroke-width:4; stroke-opacity:1; fill:none\" points=\"\n",
       "  1989.93,251.724 2280.76,251.724 2280.76,130.764 1989.93,130.764 1989.93,251.724 \n",
       "  \"/>\n",
       "<polyline clip-path=\"url(#clip4600)\" style=\"stroke:#009af9; stroke-width:4; stroke-opacity:1; fill:none\" points=\"\n",
       "  2013.93,191.244 2157.93,191.244 \n",
       "  \"/>\n",
       "<g clip-path=\"url(#clip4600)\">\n",
       "<text style=\"fill:#000000; fill-opacity:1; font-family:Arial,Helvetica Neue,Helvetica,sans-serif; font-size:48px; text-anchor:start;\" transform=\"rotate(0, 2181.93, 208.744)\" x=\"2181.93\" y=\"208.744\">y1</text>\n",
       "</g>\n",
       "</svg>\n"
      ]
     },
     "execution_count": 8,
     "metadata": {},
     "output_type": "execute_result"
    }
   ],
   "source": [
    "segundaGrafica()"
   ]
  },
  {
   "cell_type": "markdown",
   "metadata": {},
   "source": [
    "### Aplicación útil: gráficas de funciones"
   ]
  },
  {
   "cell_type": "markdown",
   "metadata": {},
   "source": [
    "Si graficamos suficientes pares de $(x,y)$, no parecera que están unidos por segmentos de recta si no parecerán una curva suave"
   ]
  },
  {
   "cell_type": "code",
   "execution_count": 14,
   "metadata": {},
   "outputs": [
    {
     "name": "stdout",
     "output_type": "stream",
     "text": [
      "π\n",
      "1.2246467991473532e-16\n"
     ]
    }
   ],
   "source": [
    "# Julia entiende quién es pi\n",
    "println(pi)\n",
    "println(sin(pi))"
   ]
  },
  {
   "cell_type": "code",
   "execution_count": 16,
   "metadata": {},
   "outputs": [
    {
     "ename": "ErrorException",
     "evalue": "cannot assign a value to variable MathConstants.pi from module Main",
     "output_type": "error",
     "traceback": [
      "cannot assign a value to variable MathConstants.pi from module Main",
      "",
      "Stacktrace:",
      " [1] top-level scope at In[16]:1"
     ]
    }
   ],
   "source": [
    "# esto manda un error\n",
    "pi = 8"
   ]
  },
  {
   "cell_type": "code",
   "execution_count": 21,
   "metadata": {},
   "outputs": [
    {
     "data": {
      "text/plain": [
       "primeraFuncGraficada (generic function with 2 methods)"
      ]
     },
     "execution_count": 21,
     "metadata": {},
     "output_type": "execute_result"
    }
   ],
   "source": [
    "function primeraFuncGraficada(n)\n",
    "    xs = range(0,stop = 2 * pi, length = n)\n",
    "    ys = [sin(x) for x in xs]\n",
    "    plot(xs,ys)\n",
    "end"
   ]
  },
  {
   "cell_type": "code",
   "execution_count": 24,
   "metadata": {},
   "outputs": [
    {
     "data": {
      "image/svg+xml": [
       "<?xml version=\"1.0\" encoding=\"utf-8\"?>\n",
       "<svg xmlns=\"http://www.w3.org/2000/svg\" xmlns:xlink=\"http://www.w3.org/1999/xlink\" width=\"600\" height=\"400\" viewBox=\"0 0 2400 1600\">\n",
       "<defs>\n",
       "  <clipPath id=\"clip6600\">\n",
       "    <rect x=\"0\" y=\"0\" width=\"2400\" height=\"1600\"/>\n",
       "  </clipPath>\n",
       "</defs>\n",
       "<path clip-path=\"url(#clip6600)\" d=\"\n",
       "M0 1600 L2400 1600 L2400 0 L0 0  Z\n",
       "  \" fill=\"#ffffff\" fill-rule=\"evenodd\" fill-opacity=\"1\"/>\n",
       "<defs>\n",
       "  <clipPath id=\"clip6601\">\n",
       "    <rect x=\"480\" y=\"0\" width=\"1681\" height=\"1600\"/>\n",
       "  </clipPath>\n",
       "</defs>\n",
       "<path clip-path=\"url(#clip6600)\" d=\"\n",
       "M182.008 1487.47 L2352.76 1487.47 L2352.76 47.2441 L182.008 47.2441  Z\n",
       "  \" fill=\"#ffffff\" fill-rule=\"evenodd\" fill-opacity=\"1\"/>\n",
       "<defs>\n",
       "  <clipPath id=\"clip6602\">\n",
       "    <rect x=\"182\" y=\"47\" width=\"2172\" height=\"1441\"/>\n",
       "  </clipPath>\n",
       "</defs>\n",
       "<polyline clip-path=\"url(#clip6602)\" style=\"stroke:#000000; stroke-width:2; stroke-opacity:0.1; fill:none\" points=\"\n",
       "  243.444,1487.47 243.444,47.2441 \n",
       "  \"/>\n",
       "<polyline clip-path=\"url(#clip6602)\" style=\"stroke:#000000; stroke-width:2; stroke-opacity:0.1; fill:none\" points=\"\n",
       "  569.374,1487.47 569.374,47.2441 \n",
       "  \"/>\n",
       "<polyline clip-path=\"url(#clip6602)\" style=\"stroke:#000000; stroke-width:2; stroke-opacity:0.1; fill:none\" points=\"\n",
       "  895.303,1487.47 895.303,47.2441 \n",
       "  \"/>\n",
       "<polyline clip-path=\"url(#clip6602)\" style=\"stroke:#000000; stroke-width:2; stroke-opacity:0.1; fill:none\" points=\"\n",
       "  1221.23,1487.47 1221.23,47.2441 \n",
       "  \"/>\n",
       "<polyline clip-path=\"url(#clip6602)\" style=\"stroke:#000000; stroke-width:2; stroke-opacity:0.1; fill:none\" points=\"\n",
       "  1547.16,1487.47 1547.16,47.2441 \n",
       "  \"/>\n",
       "<polyline clip-path=\"url(#clip6602)\" style=\"stroke:#000000; stroke-width:2; stroke-opacity:0.1; fill:none\" points=\"\n",
       "  1873.09,1487.47 1873.09,47.2441 \n",
       "  \"/>\n",
       "<polyline clip-path=\"url(#clip6602)\" style=\"stroke:#000000; stroke-width:2; stroke-opacity:0.1; fill:none\" points=\"\n",
       "  2199.02,1487.47 2199.02,47.2441 \n",
       "  \"/>\n",
       "<polyline clip-path=\"url(#clip6602)\" style=\"stroke:#000000; stroke-width:2; stroke-opacity:0.1; fill:none\" points=\"\n",
       "  182.008,1446.8 2352.76,1446.8 \n",
       "  \"/>\n",
       "<polyline clip-path=\"url(#clip6602)\" style=\"stroke:#000000; stroke-width:2; stroke-opacity:0.1; fill:none\" points=\"\n",
       "  182.008,1107.08 2352.76,1107.08 \n",
       "  \"/>\n",
       "<polyline clip-path=\"url(#clip6602)\" style=\"stroke:#000000; stroke-width:2; stroke-opacity:0.1; fill:none\" points=\"\n",
       "  182.008,767.359 2352.76,767.359 \n",
       "  \"/>\n",
       "<polyline clip-path=\"url(#clip6602)\" style=\"stroke:#000000; stroke-width:2; stroke-opacity:0.1; fill:none\" points=\"\n",
       "  182.008,427.64 2352.76,427.64 \n",
       "  \"/>\n",
       "<polyline clip-path=\"url(#clip6602)\" style=\"stroke:#000000; stroke-width:2; stroke-opacity:0.1; fill:none\" points=\"\n",
       "  182.008,87.9198 2352.76,87.9198 \n",
       "  \"/>\n",
       "<polyline clip-path=\"url(#clip6600)\" style=\"stroke:#000000; stroke-width:4; stroke-opacity:1; fill:none\" points=\"\n",
       "  182.008,1487.47 2352.76,1487.47 \n",
       "  \"/>\n",
       "<polyline clip-path=\"url(#clip6600)\" style=\"stroke:#000000; stroke-width:4; stroke-opacity:1; fill:none\" points=\"\n",
       "  182.008,1487.47 182.008,47.2441 \n",
       "  \"/>\n",
       "<polyline clip-path=\"url(#clip6600)\" style=\"stroke:#000000; stroke-width:4; stroke-opacity:1; fill:none\" points=\"\n",
       "  243.444,1487.47 243.444,1470.19 \n",
       "  \"/>\n",
       "<polyline clip-path=\"url(#clip6600)\" style=\"stroke:#000000; stroke-width:4; stroke-opacity:1; fill:none\" points=\"\n",
       "  569.374,1487.47 569.374,1470.19 \n",
       "  \"/>\n",
       "<polyline clip-path=\"url(#clip6600)\" style=\"stroke:#000000; stroke-width:4; stroke-opacity:1; fill:none\" points=\"\n",
       "  895.303,1487.47 895.303,1470.19 \n",
       "  \"/>\n",
       "<polyline clip-path=\"url(#clip6600)\" style=\"stroke:#000000; stroke-width:4; stroke-opacity:1; fill:none\" points=\"\n",
       "  1221.23,1487.47 1221.23,1470.19 \n",
       "  \"/>\n",
       "<polyline clip-path=\"url(#clip6600)\" style=\"stroke:#000000; stroke-width:4; stroke-opacity:1; fill:none\" points=\"\n",
       "  1547.16,1487.47 1547.16,1470.19 \n",
       "  \"/>\n",
       "<polyline clip-path=\"url(#clip6600)\" style=\"stroke:#000000; stroke-width:4; stroke-opacity:1; fill:none\" points=\"\n",
       "  1873.09,1487.47 1873.09,1470.19 \n",
       "  \"/>\n",
       "<polyline clip-path=\"url(#clip6600)\" style=\"stroke:#000000; stroke-width:4; stroke-opacity:1; fill:none\" points=\"\n",
       "  2199.02,1487.47 2199.02,1470.19 \n",
       "  \"/>\n",
       "<polyline clip-path=\"url(#clip6600)\" style=\"stroke:#000000; stroke-width:4; stroke-opacity:1; fill:none\" points=\"\n",
       "  182.008,1446.8 208.057,1446.8 \n",
       "  \"/>\n",
       "<polyline clip-path=\"url(#clip6600)\" style=\"stroke:#000000; stroke-width:4; stroke-opacity:1; fill:none\" points=\"\n",
       "  182.008,1107.08 208.057,1107.08 \n",
       "  \"/>\n",
       "<polyline clip-path=\"url(#clip6600)\" style=\"stroke:#000000; stroke-width:4; stroke-opacity:1; fill:none\" points=\"\n",
       "  182.008,767.359 208.057,767.359 \n",
       "  \"/>\n",
       "<polyline clip-path=\"url(#clip6600)\" style=\"stroke:#000000; stroke-width:4; stroke-opacity:1; fill:none\" points=\"\n",
       "  182.008,427.64 208.057,427.64 \n",
       "  \"/>\n",
       "<polyline clip-path=\"url(#clip6600)\" style=\"stroke:#000000; stroke-width:4; stroke-opacity:1; fill:none\" points=\"\n",
       "  182.008,87.9198 208.057,87.9198 \n",
       "  \"/>\n",
       "<g clip-path=\"url(#clip6600)\">\n",
       "<text style=\"fill:#000000; fill-opacity:1; font-family:Arial,Helvetica Neue,Helvetica,sans-serif; font-size:48px; text-anchor:middle;\" transform=\"rotate(0, 243.444, 1541.47)\" x=\"243.444\" y=\"1541.47\">0</text>\n",
       "</g>\n",
       "<g clip-path=\"url(#clip6600)\">\n",
       "<text style=\"fill:#000000; fill-opacity:1; font-family:Arial,Helvetica Neue,Helvetica,sans-serif; font-size:48px; text-anchor:middle;\" transform=\"rotate(0, 569.374, 1541.47)\" x=\"569.374\" y=\"1541.47\">1</text>\n",
       "</g>\n",
       "<g clip-path=\"url(#clip6600)\">\n",
       "<text style=\"fill:#000000; fill-opacity:1; font-family:Arial,Helvetica Neue,Helvetica,sans-serif; font-size:48px; text-anchor:middle;\" transform=\"rotate(0, 895.303, 1541.47)\" x=\"895.303\" y=\"1541.47\">2</text>\n",
       "</g>\n",
       "<g clip-path=\"url(#clip6600)\">\n",
       "<text style=\"fill:#000000; fill-opacity:1; font-family:Arial,Helvetica Neue,Helvetica,sans-serif; font-size:48px; text-anchor:middle;\" transform=\"rotate(0, 1221.23, 1541.47)\" x=\"1221.23\" y=\"1541.47\">3</text>\n",
       "</g>\n",
       "<g clip-path=\"url(#clip6600)\">\n",
       "<text style=\"fill:#000000; fill-opacity:1; font-family:Arial,Helvetica Neue,Helvetica,sans-serif; font-size:48px; text-anchor:middle;\" transform=\"rotate(0, 1547.16, 1541.47)\" x=\"1547.16\" y=\"1541.47\">4</text>\n",
       "</g>\n",
       "<g clip-path=\"url(#clip6600)\">\n",
       "<text style=\"fill:#000000; fill-opacity:1; font-family:Arial,Helvetica Neue,Helvetica,sans-serif; font-size:48px; text-anchor:middle;\" transform=\"rotate(0, 1873.09, 1541.47)\" x=\"1873.09\" y=\"1541.47\">5</text>\n",
       "</g>\n",
       "<g clip-path=\"url(#clip6600)\">\n",
       "<text style=\"fill:#000000; fill-opacity:1; font-family:Arial,Helvetica Neue,Helvetica,sans-serif; font-size:48px; text-anchor:middle;\" transform=\"rotate(0, 2199.02, 1541.47)\" x=\"2199.02\" y=\"1541.47\">6</text>\n",
       "</g>\n",
       "<g clip-path=\"url(#clip6600)\">\n",
       "<text style=\"fill:#000000; fill-opacity:1; font-family:Arial,Helvetica Neue,Helvetica,sans-serif; font-size:48px; text-anchor:end;\" transform=\"rotate(0, 158.008, 1464.3)\" x=\"158.008\" y=\"1464.3\">-1.0</text>\n",
       "</g>\n",
       "<g clip-path=\"url(#clip6600)\">\n",
       "<text style=\"fill:#000000; fill-opacity:1; font-family:Arial,Helvetica Neue,Helvetica,sans-serif; font-size:48px; text-anchor:end;\" transform=\"rotate(0, 158.008, 1124.58)\" x=\"158.008\" y=\"1124.58\">-0.5</text>\n",
       "</g>\n",
       "<g clip-path=\"url(#clip6600)\">\n",
       "<text style=\"fill:#000000; fill-opacity:1; font-family:Arial,Helvetica Neue,Helvetica,sans-serif; font-size:48px; text-anchor:end;\" transform=\"rotate(0, 158.008, 784.859)\" x=\"158.008\" y=\"784.859\">0.0</text>\n",
       "</g>\n",
       "<g clip-path=\"url(#clip6600)\">\n",
       "<text style=\"fill:#000000; fill-opacity:1; font-family:Arial,Helvetica Neue,Helvetica,sans-serif; font-size:48px; text-anchor:end;\" transform=\"rotate(0, 158.008, 445.14)\" x=\"158.008\" y=\"445.14\">0.5</text>\n",
       "</g>\n",
       "<g clip-path=\"url(#clip6600)\">\n",
       "<text style=\"fill:#000000; fill-opacity:1; font-family:Arial,Helvetica Neue,Helvetica,sans-serif; font-size:48px; text-anchor:end;\" transform=\"rotate(0, 158.008, 105.42)\" x=\"158.008\" y=\"105.42\">1.0</text>\n",
       "</g>\n",
       "<polyline clip-path=\"url(#clip6602)\" style=\"stroke:#009af9; stroke-width:4; stroke-opacity:1; fill:none\" points=\"\n",
       "  243.444,767.359 264.13,724.267 284.816,681.347 305.501,638.775 326.187,596.72 346.872,555.352 367.558,514.837 388.244,475.34 408.929,437.018 429.615,400.027 \n",
       "  450.3,364.514 470.986,330.624 491.672,298.492 512.357,268.249 533.043,240.015 553.728,213.904 574.414,190.022 595.1,168.465 615.785,149.319 636.471,132.662 \n",
       "  657.157,118.561 677.842,107.072 698.528,98.242 719.213,92.1062 739.899,88.6894 760.585,88.0053 781.27,90.0568 801.956,94.8355 822.641,102.322 843.327,112.487 \n",
       "  864.013,125.288 884.698,140.675 905.384,158.586 926.069,178.947 946.755,201.678 967.441,226.687 988.126,253.873 1008.81,283.127 1029.5,314.33 1050.18,347.358 \n",
       "  1070.87,382.076 1091.55,418.347 1112.24,456.022 1132.93,494.951 1153.61,534.977 1174.3,575.939 1194.98,617.672 1215.67,660.007 1236.35,702.775 1257.04,745.802 \n",
       "  1277.72,788.917 1298.41,831.944 1319.1,874.712 1339.78,917.047 1360.47,958.78 1381.15,999.741 1401.84,1039.77 1422.52,1078.7 1443.21,1116.37 1463.9,1152.64 \n",
       "  1484.58,1187.36 1505.27,1220.39 1525.95,1251.59 1546.64,1280.85 1567.32,1308.03 1588.01,1333.04 1608.69,1355.77 1629.38,1376.13 1650.07,1394.04 1670.75,1409.43 \n",
       "  1691.44,1422.23 1712.12,1432.4 1732.81,1439.88 1753.49,1444.66 1774.18,1446.71 1794.87,1446.03 1815.55,1442.61 1836.24,1436.48 1856.92,1427.65 1877.61,1416.16 \n",
       "  1898.29,1402.06 1918.98,1385.4 1939.66,1366.25 1960.35,1344.7 1981.04,1320.81 2001.72,1294.7 2022.41,1266.47 2043.09,1236.23 2063.78,1204.09 2084.46,1170.2 \n",
       "  2105.15,1134.69 2125.83,1097.7 2146.52,1059.38 2167.21,1019.88 2187.89,979.367 2208.58,937.999 2229.26,895.944 2249.95,853.371 2270.63,810.452 2291.32,767.359 \n",
       "  \n",
       "  \"/>\n",
       "<path clip-path=\"url(#clip6600)\" d=\"\n",
       "M1989.93 251.724 L2280.76 251.724 L2280.76 130.764 L1989.93 130.764  Z\n",
       "  \" fill=\"#ffffff\" fill-rule=\"evenodd\" fill-opacity=\"1\"/>\n",
       "<polyline clip-path=\"url(#clip6600)\" style=\"stroke:#000000; stroke-width:4; stroke-opacity:1; fill:none\" points=\"\n",
       "  1989.93,251.724 2280.76,251.724 2280.76,130.764 1989.93,130.764 1989.93,251.724 \n",
       "  \"/>\n",
       "<polyline clip-path=\"url(#clip6600)\" style=\"stroke:#009af9; stroke-width:4; stroke-opacity:1; fill:none\" points=\"\n",
       "  2013.93,191.244 2157.93,191.244 \n",
       "  \"/>\n",
       "<g clip-path=\"url(#clip6600)\">\n",
       "<text style=\"fill:#000000; fill-opacity:1; font-family:Arial,Helvetica Neue,Helvetica,sans-serif; font-size:48px; text-anchor:start;\" transform=\"rotate(0, 2181.93, 208.744)\" x=\"2181.93\" y=\"208.744\">y1</text>\n",
       "</g>\n",
       "</svg>\n"
      ]
     },
     "execution_count": 24,
     "metadata": {},
     "output_type": "execute_result"
    }
   ],
   "source": [
    "primeraFuncGraficada(100)"
   ]
  },
  {
   "cell_type": "markdown",
   "metadata": {},
   "source": [
    "### Gráficas de puntos: la función `scatter`"
   ]
  },
  {
   "cell_type": "markdown",
   "metadata": {},
   "source": [
    "`scatter` grafica un conjunto de puntos tomando los mismos argumentos que `plot`, pero no une ninguna recta entre ellos."
   ]
  },
  {
   "cell_type": "code",
   "execution_count": 25,
   "metadata": {},
   "outputs": [
    {
     "data": {
      "text/plain": [
       "primerScatter (generic function with 1 method)"
      ]
     },
     "execution_count": 25,
     "metadata": {},
     "output_type": "execute_result"
    }
   ],
   "source": [
    "function primerScatter()\n",
    "    xs = [0,1,2]\n",
    "    ys = [0,1,0.5]\n",
    "    scatter(xs,ys)\n",
    "end"
   ]
  },
  {
   "cell_type": "code",
   "execution_count": 26,
   "metadata": {},
   "outputs": [
    {
     "data": {
      "image/svg+xml": [
       "<?xml version=\"1.0\" encoding=\"utf-8\"?>\n",
       "<svg xmlns=\"http://www.w3.org/2000/svg\" xmlns:xlink=\"http://www.w3.org/1999/xlink\" width=\"600\" height=\"400\" viewBox=\"0 0 2400 1600\">\n",
       "<defs>\n",
       "  <clipPath id=\"clip7000\">\n",
       "    <rect x=\"0\" y=\"0\" width=\"2400\" height=\"1600\"/>\n",
       "  </clipPath>\n",
       "</defs>\n",
       "<path clip-path=\"url(#clip7000)\" d=\"\n",
       "M0 1600 L2400 1600 L2400 0 L0 0  Z\n",
       "  \" fill=\"#ffffff\" fill-rule=\"evenodd\" fill-opacity=\"1\"/>\n",
       "<defs>\n",
       "  <clipPath id=\"clip7001\">\n",
       "    <rect x=\"480\" y=\"0\" width=\"1681\" height=\"1600\"/>\n",
       "  </clipPath>\n",
       "</defs>\n",
       "<path clip-path=\"url(#clip7000)\" d=\"\n",
       "M180.66 1487.47 L2352.76 1487.47 L2352.76 47.2441 L180.66 47.2441  Z\n",
       "  \" fill=\"#ffffff\" fill-rule=\"evenodd\" fill-opacity=\"1\"/>\n",
       "<defs>\n",
       "  <clipPath id=\"clip7002\">\n",
       "    <rect x=\"180\" y=\"47\" width=\"2173\" height=\"1441\"/>\n",
       "  </clipPath>\n",
       "</defs>\n",
       "<polyline clip-path=\"url(#clip7002)\" style=\"stroke:#000000; stroke-width:2; stroke-opacity:0.1; fill:none\" points=\"\n",
       "  242.135,1487.47 242.135,47.2441 \n",
       "  \"/>\n",
       "<polyline clip-path=\"url(#clip7002)\" style=\"stroke:#000000; stroke-width:2; stroke-opacity:0.1; fill:none\" points=\"\n",
       "  754.421,1487.47 754.421,47.2441 \n",
       "  \"/>\n",
       "<polyline clip-path=\"url(#clip7002)\" style=\"stroke:#000000; stroke-width:2; stroke-opacity:0.1; fill:none\" points=\"\n",
       "  1266.71,1487.47 1266.71,47.2441 \n",
       "  \"/>\n",
       "<polyline clip-path=\"url(#clip7002)\" style=\"stroke:#000000; stroke-width:2; stroke-opacity:0.1; fill:none\" points=\"\n",
       "  1778.99,1487.47 1778.99,47.2441 \n",
       "  \"/>\n",
       "<polyline clip-path=\"url(#clip7002)\" style=\"stroke:#000000; stroke-width:2; stroke-opacity:0.1; fill:none\" points=\"\n",
       "  2291.28,1487.47 2291.28,47.2441 \n",
       "  \"/>\n",
       "<polyline clip-path=\"url(#clip7002)\" style=\"stroke:#000000; stroke-width:2; stroke-opacity:0.1; fill:none\" points=\"\n",
       "  180.66,1446.71 2352.76,1446.71 \n",
       "  \"/>\n",
       "<polyline clip-path=\"url(#clip7002)\" style=\"stroke:#000000; stroke-width:2; stroke-opacity:0.1; fill:none\" points=\"\n",
       "  180.66,1107.04 2352.76,1107.04 \n",
       "  \"/>\n",
       "<polyline clip-path=\"url(#clip7002)\" style=\"stroke:#000000; stroke-width:2; stroke-opacity:0.1; fill:none\" points=\"\n",
       "  180.66,767.359 2352.76,767.359 \n",
       "  \"/>\n",
       "<polyline clip-path=\"url(#clip7002)\" style=\"stroke:#000000; stroke-width:2; stroke-opacity:0.1; fill:none\" points=\"\n",
       "  180.66,427.682 2352.76,427.682 \n",
       "  \"/>\n",
       "<polyline clip-path=\"url(#clip7002)\" style=\"stroke:#000000; stroke-width:2; stroke-opacity:0.1; fill:none\" points=\"\n",
       "  180.66,88.0053 2352.76,88.0053 \n",
       "  \"/>\n",
       "<polyline clip-path=\"url(#clip7000)\" style=\"stroke:#000000; stroke-width:4; stroke-opacity:1; fill:none\" points=\"\n",
       "  180.66,1487.47 2352.76,1487.47 \n",
       "  \"/>\n",
       "<polyline clip-path=\"url(#clip7000)\" style=\"stroke:#000000; stroke-width:4; stroke-opacity:1; fill:none\" points=\"\n",
       "  180.66,1487.47 180.66,47.2441 \n",
       "  \"/>\n",
       "<polyline clip-path=\"url(#clip7000)\" style=\"stroke:#000000; stroke-width:4; stroke-opacity:1; fill:none\" points=\"\n",
       "  242.135,1487.47 242.135,1470.19 \n",
       "  \"/>\n",
       "<polyline clip-path=\"url(#clip7000)\" style=\"stroke:#000000; stroke-width:4; stroke-opacity:1; fill:none\" points=\"\n",
       "  754.421,1487.47 754.421,1470.19 \n",
       "  \"/>\n",
       "<polyline clip-path=\"url(#clip7000)\" style=\"stroke:#000000; stroke-width:4; stroke-opacity:1; fill:none\" points=\"\n",
       "  1266.71,1487.47 1266.71,1470.19 \n",
       "  \"/>\n",
       "<polyline clip-path=\"url(#clip7000)\" style=\"stroke:#000000; stroke-width:4; stroke-opacity:1; fill:none\" points=\"\n",
       "  1778.99,1487.47 1778.99,1470.19 \n",
       "  \"/>\n",
       "<polyline clip-path=\"url(#clip7000)\" style=\"stroke:#000000; stroke-width:4; stroke-opacity:1; fill:none\" points=\"\n",
       "  2291.28,1487.47 2291.28,1470.19 \n",
       "  \"/>\n",
       "<polyline clip-path=\"url(#clip7000)\" style=\"stroke:#000000; stroke-width:4; stroke-opacity:1; fill:none\" points=\"\n",
       "  180.66,1446.71 206.725,1446.71 \n",
       "  \"/>\n",
       "<polyline clip-path=\"url(#clip7000)\" style=\"stroke:#000000; stroke-width:4; stroke-opacity:1; fill:none\" points=\"\n",
       "  180.66,1107.04 206.725,1107.04 \n",
       "  \"/>\n",
       "<polyline clip-path=\"url(#clip7000)\" style=\"stroke:#000000; stroke-width:4; stroke-opacity:1; fill:none\" points=\"\n",
       "  180.66,767.359 206.725,767.359 \n",
       "  \"/>\n",
       "<polyline clip-path=\"url(#clip7000)\" style=\"stroke:#000000; stroke-width:4; stroke-opacity:1; fill:none\" points=\"\n",
       "  180.66,427.682 206.725,427.682 \n",
       "  \"/>\n",
       "<polyline clip-path=\"url(#clip7000)\" style=\"stroke:#000000; stroke-width:4; stroke-opacity:1; fill:none\" points=\"\n",
       "  180.66,88.0053 206.725,88.0053 \n",
       "  \"/>\n",
       "<g clip-path=\"url(#clip7000)\">\n",
       "<text style=\"fill:#000000; fill-opacity:1; font-family:Arial,Helvetica Neue,Helvetica,sans-serif; font-size:48px; text-anchor:middle;\" transform=\"rotate(0, 242.135, 1541.47)\" x=\"242.135\" y=\"1541.47\">0.0</text>\n",
       "</g>\n",
       "<g clip-path=\"url(#clip7000)\">\n",
       "<text style=\"fill:#000000; fill-opacity:1; font-family:Arial,Helvetica Neue,Helvetica,sans-serif; font-size:48px; text-anchor:middle;\" transform=\"rotate(0, 754.421, 1541.47)\" x=\"754.421\" y=\"1541.47\">0.5</text>\n",
       "</g>\n",
       "<g clip-path=\"url(#clip7000)\">\n",
       "<text style=\"fill:#000000; fill-opacity:1; font-family:Arial,Helvetica Neue,Helvetica,sans-serif; font-size:48px; text-anchor:middle;\" transform=\"rotate(0, 1266.71, 1541.47)\" x=\"1266.71\" y=\"1541.47\">1.0</text>\n",
       "</g>\n",
       "<g clip-path=\"url(#clip7000)\">\n",
       "<text style=\"fill:#000000; fill-opacity:1; font-family:Arial,Helvetica Neue,Helvetica,sans-serif; font-size:48px; text-anchor:middle;\" transform=\"rotate(0, 1778.99, 1541.47)\" x=\"1778.99\" y=\"1541.47\">1.5</text>\n",
       "</g>\n",
       "<g clip-path=\"url(#clip7000)\">\n",
       "<text style=\"fill:#000000; fill-opacity:1; font-family:Arial,Helvetica Neue,Helvetica,sans-serif; font-size:48px; text-anchor:middle;\" transform=\"rotate(0, 2291.28, 1541.47)\" x=\"2291.28\" y=\"1541.47\">2.0</text>\n",
       "</g>\n",
       "<g clip-path=\"url(#clip7000)\">\n",
       "<text style=\"fill:#000000; fill-opacity:1; font-family:Arial,Helvetica Neue,Helvetica,sans-serif; font-size:48px; text-anchor:end;\" transform=\"rotate(0, 156.66, 1464.21)\" x=\"156.66\" y=\"1464.21\">0.00</text>\n",
       "</g>\n",
       "<g clip-path=\"url(#clip7000)\">\n",
       "<text style=\"fill:#000000; fill-opacity:1; font-family:Arial,Helvetica Neue,Helvetica,sans-serif; font-size:48px; text-anchor:end;\" transform=\"rotate(0, 156.66, 1124.54)\" x=\"156.66\" y=\"1124.54\">0.25</text>\n",
       "</g>\n",
       "<g clip-path=\"url(#clip7000)\">\n",
       "<text style=\"fill:#000000; fill-opacity:1; font-family:Arial,Helvetica Neue,Helvetica,sans-serif; font-size:48px; text-anchor:end;\" transform=\"rotate(0, 156.66, 784.859)\" x=\"156.66\" y=\"784.859\">0.50</text>\n",
       "</g>\n",
       "<g clip-path=\"url(#clip7000)\">\n",
       "<text style=\"fill:#000000; fill-opacity:1; font-family:Arial,Helvetica Neue,Helvetica,sans-serif; font-size:48px; text-anchor:end;\" transform=\"rotate(0, 156.66, 445.182)\" x=\"156.66\" y=\"445.182\">0.75</text>\n",
       "</g>\n",
       "<g clip-path=\"url(#clip7000)\">\n",
       "<text style=\"fill:#000000; fill-opacity:1; font-family:Arial,Helvetica Neue,Helvetica,sans-serif; font-size:48px; text-anchor:end;\" transform=\"rotate(0, 156.66, 105.505)\" x=\"156.66\" y=\"105.505\">1.00</text>\n",
       "</g>\n",
       "<circle clip-path=\"url(#clip7002)\" cx=\"242.135\" cy=\"1446.71\" r=\"14\" fill=\"#009af9\" fill-rule=\"evenodd\" fill-opacity=\"1\" stroke=\"#000000\" stroke-opacity=\"1\" stroke-width=\"3.2\"/>\n",
       "<circle clip-path=\"url(#clip7002)\" cx=\"1266.71\" cy=\"88.0053\" r=\"14\" fill=\"#009af9\" fill-rule=\"evenodd\" fill-opacity=\"1\" stroke=\"#000000\" stroke-opacity=\"1\" stroke-width=\"3.2\"/>\n",
       "<circle clip-path=\"url(#clip7002)\" cx=\"2291.28\" cy=\"767.359\" r=\"14\" fill=\"#009af9\" fill-rule=\"evenodd\" fill-opacity=\"1\" stroke=\"#000000\" stroke-opacity=\"1\" stroke-width=\"3.2\"/>\n",
       "<path clip-path=\"url(#clip7000)\" d=\"\n",
       "M1989.93 251.724 L2280.76 251.724 L2280.76 130.764 L1989.93 130.764  Z\n",
       "  \" fill=\"#ffffff\" fill-rule=\"evenodd\" fill-opacity=\"1\"/>\n",
       "<polyline clip-path=\"url(#clip7000)\" style=\"stroke:#000000; stroke-width:4; stroke-opacity:1; fill:none\" points=\"\n",
       "  1989.93,251.724 2280.76,251.724 2280.76,130.764 1989.93,130.764 1989.93,251.724 \n",
       "  \"/>\n",
       "<circle clip-path=\"url(#clip7000)\" cx=\"2097.93\" cy=\"191.244\" r=\"21\" fill=\"#009af9\" fill-rule=\"evenodd\" fill-opacity=\"1\" stroke=\"#000000\" stroke-opacity=\"1\" stroke-width=\"3.2\"/>\n",
       "<g clip-path=\"url(#clip7000)\">\n",
       "<text style=\"fill:#000000; fill-opacity:1; font-family:Arial,Helvetica Neue,Helvetica,sans-serif; font-size:48px; text-anchor:start;\" transform=\"rotate(0, 2181.93, 208.744)\" x=\"2181.93\" y=\"208.744\">y1</text>\n",
       "</g>\n",
       "</svg>\n"
      ]
     },
     "execution_count": 26,
     "metadata": {},
     "output_type": "execute_result"
    }
   ],
   "source": [
    "primerScatter()"
   ]
  },
  {
   "cell_type": "code",
   "execution_count": 29,
   "metadata": {},
   "outputs": [
    {
     "data": {
      "text/plain": [
       "segundoScatter (generic function with 1 method)"
      ]
     },
     "execution_count": 29,
     "metadata": {},
     "output_type": "execute_result"
    }
   ],
   "source": [
    "function segundoScatter(n)\n",
    "    xs = range(0,stop=5,length=n)\n",
    "    ys = [exp(x) for x in xs]\n",
    "    scatter(xs,ys)\n",
    "end"
   ]
  },
  {
   "cell_type": "code",
   "execution_count": 31,
   "metadata": {},
   "outputs": [
    {
     "data": {
      "image/svg+xml": [
       "<?xml version=\"1.0\" encoding=\"utf-8\"?>\n",
       "<svg xmlns=\"http://www.w3.org/2000/svg\" xmlns:xlink=\"http://www.w3.org/1999/xlink\" width=\"600\" height=\"400\" viewBox=\"0 0 2400 1600\">\n",
       "<defs>\n",
       "  <clipPath id=\"clip8200\">\n",
       "    <rect x=\"0\" y=\"0\" width=\"2400\" height=\"1600\"/>\n",
       "  </clipPath>\n",
       "</defs>\n",
       "<path clip-path=\"url(#clip8200)\" d=\"\n",
       "M0 1600 L2400 1600 L2400 0 L0 0  Z\n",
       "  \" fill=\"#ffffff\" fill-rule=\"evenodd\" fill-opacity=\"1\"/>\n",
       "<defs>\n",
       "  <clipPath id=\"clip8201\">\n",
       "    <rect x=\"480\" y=\"0\" width=\"1681\" height=\"1600\"/>\n",
       "  </clipPath>\n",
       "</defs>\n",
       "<path clip-path=\"url(#clip8200)\" d=\"\n",
       "M167.279 1487.47 L2352.76 1487.47 L2352.76 47.2441 L167.279 47.2441  Z\n",
       "  \" fill=\"#ffffff\" fill-rule=\"evenodd\" fill-opacity=\"1\"/>\n",
       "<defs>\n",
       "  <clipPath id=\"clip8202\">\n",
       "    <rect x=\"167\" y=\"47\" width=\"2186\" height=\"1441\"/>\n",
       "  </clipPath>\n",
       "</defs>\n",
       "<polyline clip-path=\"url(#clip8202)\" style=\"stroke:#000000; stroke-width:2; stroke-opacity:0.1; fill:none\" points=\"\n",
       "  229.132,1487.47 229.132,47.2441 \n",
       "  \"/>\n",
       "<polyline clip-path=\"url(#clip8202)\" style=\"stroke:#000000; stroke-width:2; stroke-opacity:0.1; fill:none\" points=\"\n",
       "  641.486,1487.47 641.486,47.2441 \n",
       "  \"/>\n",
       "<polyline clip-path=\"url(#clip8202)\" style=\"stroke:#000000; stroke-width:2; stroke-opacity:0.1; fill:none\" points=\"\n",
       "  1053.84,1487.47 1053.84,47.2441 \n",
       "  \"/>\n",
       "<polyline clip-path=\"url(#clip8202)\" style=\"stroke:#000000; stroke-width:2; stroke-opacity:0.1; fill:none\" points=\"\n",
       "  1466.19,1487.47 1466.19,47.2441 \n",
       "  \"/>\n",
       "<polyline clip-path=\"url(#clip8202)\" style=\"stroke:#000000; stroke-width:2; stroke-opacity:0.1; fill:none\" points=\"\n",
       "  1878.55,1487.47 1878.55,47.2441 \n",
       "  \"/>\n",
       "<polyline clip-path=\"url(#clip8202)\" style=\"stroke:#000000; stroke-width:2; stroke-opacity:0.1; fill:none\" points=\"\n",
       "  2290.9,1487.47 2290.9,47.2441 \n",
       "  \"/>\n",
       "<polyline clip-path=\"url(#clip8202)\" style=\"stroke:#000000; stroke-width:2; stroke-opacity:0.1; fill:none\" points=\"\n",
       "  167.279,1455.93 2352.76,1455.93 \n",
       "  \"/>\n",
       "<polyline clip-path=\"url(#clip8202)\" style=\"stroke:#000000; stroke-width:2; stroke-opacity:0.1; fill:none\" points=\"\n",
       "  167.279,995.08 2352.76,995.08 \n",
       "  \"/>\n",
       "<polyline clip-path=\"url(#clip8202)\" style=\"stroke:#000000; stroke-width:2; stroke-opacity:0.1; fill:none\" points=\"\n",
       "  167.279,534.23 2352.76,534.23 \n",
       "  \"/>\n",
       "<polyline clip-path=\"url(#clip8202)\" style=\"stroke:#000000; stroke-width:2; stroke-opacity:0.1; fill:none\" points=\"\n",
       "  167.279,73.3794 2352.76,73.3794 \n",
       "  \"/>\n",
       "<polyline clip-path=\"url(#clip8200)\" style=\"stroke:#000000; stroke-width:4; stroke-opacity:1; fill:none\" points=\"\n",
       "  167.279,1487.47 2352.76,1487.47 \n",
       "  \"/>\n",
       "<polyline clip-path=\"url(#clip8200)\" style=\"stroke:#000000; stroke-width:4; stroke-opacity:1; fill:none\" points=\"\n",
       "  167.279,1487.47 167.279,47.2441 \n",
       "  \"/>\n",
       "<polyline clip-path=\"url(#clip8200)\" style=\"stroke:#000000; stroke-width:4; stroke-opacity:1; fill:none\" points=\"\n",
       "  229.132,1487.47 229.132,1470.19 \n",
       "  \"/>\n",
       "<polyline clip-path=\"url(#clip8200)\" style=\"stroke:#000000; stroke-width:4; stroke-opacity:1; fill:none\" points=\"\n",
       "  641.486,1487.47 641.486,1470.19 \n",
       "  \"/>\n",
       "<polyline clip-path=\"url(#clip8200)\" style=\"stroke:#000000; stroke-width:4; stroke-opacity:1; fill:none\" points=\"\n",
       "  1053.84,1487.47 1053.84,1470.19 \n",
       "  \"/>\n",
       "<polyline clip-path=\"url(#clip8200)\" style=\"stroke:#000000; stroke-width:4; stroke-opacity:1; fill:none\" points=\"\n",
       "  1466.19,1487.47 1466.19,1470.19 \n",
       "  \"/>\n",
       "<polyline clip-path=\"url(#clip8200)\" style=\"stroke:#000000; stroke-width:4; stroke-opacity:1; fill:none\" points=\"\n",
       "  1878.55,1487.47 1878.55,1470.19 \n",
       "  \"/>\n",
       "<polyline clip-path=\"url(#clip8200)\" style=\"stroke:#000000; stroke-width:4; stroke-opacity:1; fill:none\" points=\"\n",
       "  2290.9,1487.47 2290.9,1470.19 \n",
       "  \"/>\n",
       "<polyline clip-path=\"url(#clip8200)\" style=\"stroke:#000000; stroke-width:4; stroke-opacity:1; fill:none\" points=\"\n",
       "  167.279,1455.93 193.505,1455.93 \n",
       "  \"/>\n",
       "<polyline clip-path=\"url(#clip8200)\" style=\"stroke:#000000; stroke-width:4; stroke-opacity:1; fill:none\" points=\"\n",
       "  167.279,995.08 193.505,995.08 \n",
       "  \"/>\n",
       "<polyline clip-path=\"url(#clip8200)\" style=\"stroke:#000000; stroke-width:4; stroke-opacity:1; fill:none\" points=\"\n",
       "  167.279,534.23 193.505,534.23 \n",
       "  \"/>\n",
       "<polyline clip-path=\"url(#clip8200)\" style=\"stroke:#000000; stroke-width:4; stroke-opacity:1; fill:none\" points=\"\n",
       "  167.279,73.3794 193.505,73.3794 \n",
       "  \"/>\n",
       "<g clip-path=\"url(#clip8200)\">\n",
       "<text style=\"fill:#000000; fill-opacity:1; font-family:Arial,Helvetica Neue,Helvetica,sans-serif; font-size:48px; text-anchor:middle;\" transform=\"rotate(0, 229.132, 1541.47)\" x=\"229.132\" y=\"1541.47\">0</text>\n",
       "</g>\n",
       "<g clip-path=\"url(#clip8200)\">\n",
       "<text style=\"fill:#000000; fill-opacity:1; font-family:Arial,Helvetica Neue,Helvetica,sans-serif; font-size:48px; text-anchor:middle;\" transform=\"rotate(0, 641.486, 1541.47)\" x=\"641.486\" y=\"1541.47\">1</text>\n",
       "</g>\n",
       "<g clip-path=\"url(#clip8200)\">\n",
       "<text style=\"fill:#000000; fill-opacity:1; font-family:Arial,Helvetica Neue,Helvetica,sans-serif; font-size:48px; text-anchor:middle;\" transform=\"rotate(0, 1053.84, 1541.47)\" x=\"1053.84\" y=\"1541.47\">2</text>\n",
       "</g>\n",
       "<g clip-path=\"url(#clip8200)\">\n",
       "<text style=\"fill:#000000; fill-opacity:1; font-family:Arial,Helvetica Neue,Helvetica,sans-serif; font-size:48px; text-anchor:middle;\" transform=\"rotate(0, 1466.19, 1541.47)\" x=\"1466.19\" y=\"1541.47\">3</text>\n",
       "</g>\n",
       "<g clip-path=\"url(#clip8200)\">\n",
       "<text style=\"fill:#000000; fill-opacity:1; font-family:Arial,Helvetica Neue,Helvetica,sans-serif; font-size:48px; text-anchor:middle;\" transform=\"rotate(0, 1878.55, 1541.47)\" x=\"1878.55\" y=\"1541.47\">4</text>\n",
       "</g>\n",
       "<g clip-path=\"url(#clip8200)\">\n",
       "<text style=\"fill:#000000; fill-opacity:1; font-family:Arial,Helvetica Neue,Helvetica,sans-serif; font-size:48px; text-anchor:middle;\" transform=\"rotate(0, 2290.9, 1541.47)\" x=\"2290.9\" y=\"1541.47\">5</text>\n",
       "</g>\n",
       "<g clip-path=\"url(#clip8200)\">\n",
       "<text style=\"fill:#000000; fill-opacity:1; font-family:Arial,Helvetica Neue,Helvetica,sans-serif; font-size:48px; text-anchor:end;\" transform=\"rotate(0, 143.279, 1473.43)\" x=\"143.279\" y=\"1473.43\">0</text>\n",
       "</g>\n",
       "<g clip-path=\"url(#clip8200)\">\n",
       "<text style=\"fill:#000000; fill-opacity:1; font-family:Arial,Helvetica Neue,Helvetica,sans-serif; font-size:48px; text-anchor:end;\" transform=\"rotate(0, 143.279, 1012.58)\" x=\"143.279\" y=\"1012.58\">50</text>\n",
       "</g>\n",
       "<g clip-path=\"url(#clip8200)\">\n",
       "<text style=\"fill:#000000; fill-opacity:1; font-family:Arial,Helvetica Neue,Helvetica,sans-serif; font-size:48px; text-anchor:end;\" transform=\"rotate(0, 143.279, 551.73)\" x=\"143.279\" y=\"551.73\">100</text>\n",
       "</g>\n",
       "<g clip-path=\"url(#clip8200)\">\n",
       "<text style=\"fill:#000000; fill-opacity:1; font-family:Arial,Helvetica Neue,Helvetica,sans-serif; font-size:48px; text-anchor:end;\" transform=\"rotate(0, 143.279, 90.8794)\" x=\"143.279\" y=\"90.8794\">150</text>\n",
       "</g>\n",
       "<circle clip-path=\"url(#clip8202)\" cx=\"229.132\" cy=\"1446.71\" r=\"14\" fill=\"#009af9\" fill-rule=\"evenodd\" fill-opacity=\"1\" stroke=\"#000000\" stroke-opacity=\"1\" stroke-width=\"3.2\"/>\n",
       "<circle clip-path=\"url(#clip8202)\" cx=\"337.646\" cy=\"1443.94\" r=\"14\" fill=\"#009af9\" fill-rule=\"evenodd\" fill-opacity=\"1\" stroke=\"#000000\" stroke-opacity=\"1\" stroke-width=\"3.2\"/>\n",
       "<circle clip-path=\"url(#clip8202)\" cx=\"446.161\" cy=\"1440.33\" r=\"14\" fill=\"#009af9\" fill-rule=\"evenodd\" fill-opacity=\"1\" stroke=\"#000000\" stroke-opacity=\"1\" stroke-width=\"3.2\"/>\n",
       "<circle clip-path=\"url(#clip8202)\" cx=\"554.675\" cy=\"1435.63\" r=\"14\" fill=\"#009af9\" fill-rule=\"evenodd\" fill-opacity=\"1\" stroke=\"#000000\" stroke-opacity=\"1\" stroke-width=\"3.2\"/>\n",
       "<circle clip-path=\"url(#clip8202)\" cx=\"663.189\" cy=\"1429.52\" r=\"14\" fill=\"#009af9\" fill-rule=\"evenodd\" fill-opacity=\"1\" stroke=\"#000000\" stroke-opacity=\"1\" stroke-width=\"3.2\"/>\n",
       "<circle clip-path=\"url(#clip8202)\" cx=\"771.703\" cy=\"1421.57\" r=\"14\" fill=\"#009af9\" fill-rule=\"evenodd\" fill-opacity=\"1\" stroke=\"#000000\" stroke-opacity=\"1\" stroke-width=\"3.2\"/>\n",
       "<circle clip-path=\"url(#clip8202)\" cx=\"880.218\" cy=\"1411.23\" r=\"14\" fill=\"#009af9\" fill-rule=\"evenodd\" fill-opacity=\"1\" stroke=\"#000000\" stroke-opacity=\"1\" stroke-width=\"3.2\"/>\n",
       "<circle clip-path=\"url(#clip8202)\" cx=\"988.732\" cy=\"1397.77\" r=\"14\" fill=\"#009af9\" fill-rule=\"evenodd\" fill-opacity=\"1\" stroke=\"#000000\" stroke-opacity=\"1\" stroke-width=\"3.2\"/>\n",
       "<circle clip-path=\"url(#clip8202)\" cx=\"1097.25\" cy=\"1380.27\" r=\"14\" fill=\"#009af9\" fill-rule=\"evenodd\" fill-opacity=\"1\" stroke=\"#000000\" stroke-opacity=\"1\" stroke-width=\"3.2\"/>\n",
       "<circle clip-path=\"url(#clip8202)\" cx=\"1205.76\" cy=\"1357.49\" r=\"14\" fill=\"#009af9\" fill-rule=\"evenodd\" fill-opacity=\"1\" stroke=\"#000000\" stroke-opacity=\"1\" stroke-width=\"3.2\"/>\n",
       "<circle clip-path=\"url(#clip8202)\" cx=\"1314.27\" cy=\"1327.85\" r=\"14\" fill=\"#009af9\" fill-rule=\"evenodd\" fill-opacity=\"1\" stroke=\"#000000\" stroke-opacity=\"1\" stroke-width=\"3.2\"/>\n",
       "<circle clip-path=\"url(#clip8202)\" cx=\"1422.79\" cy=\"1289.3\" r=\"14\" fill=\"#009af9\" fill-rule=\"evenodd\" fill-opacity=\"1\" stroke=\"#000000\" stroke-opacity=\"1\" stroke-width=\"3.2\"/>\n",
       "<circle clip-path=\"url(#clip8202)\" cx=\"1531.3\" cy=\"1239.14\" r=\"14\" fill=\"#009af9\" fill-rule=\"evenodd\" fill-opacity=\"1\" stroke=\"#000000\" stroke-opacity=\"1\" stroke-width=\"3.2\"/>\n",
       "<circle clip-path=\"url(#clip8202)\" cx=\"1639.82\" cy=\"1173.88\" r=\"14\" fill=\"#009af9\" fill-rule=\"evenodd\" fill-opacity=\"1\" stroke=\"#000000\" stroke-opacity=\"1\" stroke-width=\"3.2\"/>\n",
       "<circle clip-path=\"url(#clip8202)\" cx=\"1748.33\" cy=\"1088.97\" r=\"14\" fill=\"#009af9\" fill-rule=\"evenodd\" fill-opacity=\"1\" stroke=\"#000000\" stroke-opacity=\"1\" stroke-width=\"3.2\"/>\n",
       "<circle clip-path=\"url(#clip8202)\" cx=\"1856.85\" cy=\"978.5\" r=\"14\" fill=\"#009af9\" fill-rule=\"evenodd\" fill-opacity=\"1\" stroke=\"#000000\" stroke-opacity=\"1\" stroke-width=\"3.2\"/>\n",
       "<circle clip-path=\"url(#clip8202)\" cx=\"1965.36\" cy=\"834.778\" r=\"14\" fill=\"#009af9\" fill-rule=\"evenodd\" fill-opacity=\"1\" stroke=\"#000000\" stroke-opacity=\"1\" stroke-width=\"3.2\"/>\n",
       "<circle clip-path=\"url(#clip8202)\" cx=\"2073.87\" cy=\"647.791\" r=\"14\" fill=\"#009af9\" fill-rule=\"evenodd\" fill-opacity=\"1\" stroke=\"#000000\" stroke-opacity=\"1\" stroke-width=\"3.2\"/>\n",
       "<circle clip-path=\"url(#clip8202)\" cx=\"2182.39\" cy=\"404.515\" r=\"14\" fill=\"#009af9\" fill-rule=\"evenodd\" fill-opacity=\"1\" stroke=\"#000000\" stroke-opacity=\"1\" stroke-width=\"3.2\"/>\n",
       "<circle clip-path=\"url(#clip8202)\" cx=\"2290.9\" cy=\"88.0053\" r=\"14\" fill=\"#009af9\" fill-rule=\"evenodd\" fill-opacity=\"1\" stroke=\"#000000\" stroke-opacity=\"1\" stroke-width=\"3.2\"/>\n",
       "<path clip-path=\"url(#clip8200)\" d=\"\n",
       "M1989.93 251.724 L2280.76 251.724 L2280.76 130.764 L1989.93 130.764  Z\n",
       "  \" fill=\"#ffffff\" fill-rule=\"evenodd\" fill-opacity=\"1\"/>\n",
       "<polyline clip-path=\"url(#clip8200)\" style=\"stroke:#000000; stroke-width:4; stroke-opacity:1; fill:none\" points=\"\n",
       "  1989.93,251.724 2280.76,251.724 2280.76,130.764 1989.93,130.764 1989.93,251.724 \n",
       "  \"/>\n",
       "<circle clip-path=\"url(#clip8200)\" cx=\"2097.93\" cy=\"191.244\" r=\"21\" fill=\"#009af9\" fill-rule=\"evenodd\" fill-opacity=\"1\" stroke=\"#000000\" stroke-opacity=\"1\" stroke-width=\"3.2\"/>\n",
       "<g clip-path=\"url(#clip8200)\">\n",
       "<text style=\"fill:#000000; fill-opacity:1; font-family:Arial,Helvetica Neue,Helvetica,sans-serif; font-size:48px; text-anchor:start;\" transform=\"rotate(0, 2181.93, 208.744)\" x=\"2181.93\" y=\"208.744\">y1</text>\n",
       "</g>\n",
       "</svg>\n"
      ]
     },
     "execution_count": 31,
     "metadata": {},
     "output_type": "execute_result"
    }
   ],
   "source": [
    "segundoScatter(20)"
   ]
  },
  {
   "cell_type": "markdown",
   "metadata": {},
   "source": [
    "### ¿Cómo hacemos estas gráficas más bonitas?"
   ]
  },
  {
   "cell_type": "code",
   "execution_count": 51,
   "metadata": {},
   "outputs": [
    {
     "data": {
      "text/plain": [
       "graficaBonita (generic function with 1 method)"
      ]
     },
     "execution_count": 51,
     "metadata": {},
     "output_type": "execute_result"
    }
   ],
   "source": [
    "function graficaBonita(n)\n",
    "    xs = range(0,stop = 6 * pi, length = n)\n",
    "    ys = [sin(x)*cos(x) for x in xs]\n",
    "    plot(xs,ys,title=\"Mi primera grafica bonita\",xlabel=\"eje x\", ylabel=\"eje y\",label=\"mis datos\")\n",
    "end"
   ]
  },
  {
   "cell_type": "code",
   "execution_count": 52,
   "metadata": {},
   "outputs": [
    {
     "data": {
      "image/svg+xml": [
       "<?xml version=\"1.0\" encoding=\"utf-8\"?>\n",
       "<svg xmlns=\"http://www.w3.org/2000/svg\" xmlns:xlink=\"http://www.w3.org/1999/xlink\" width=\"600\" height=\"400\" viewBox=\"0 0 2400 1600\">\n",
       "<defs>\n",
       "  <clipPath id=\"clip1000\">\n",
       "    <rect x=\"0\" y=\"0\" width=\"2400\" height=\"1600\"/>\n",
       "  </clipPath>\n",
       "</defs>\n",
       "<path clip-path=\"url(#clip1000)\" d=\"\n",
       "M0 1600 L2400 1600 L2400 0 L0 0  Z\n",
       "  \" fill=\"#ffffff\" fill-rule=\"evenodd\" fill-opacity=\"1\"/>\n",
       "<defs>\n",
       "  <clipPath id=\"clip1001\">\n",
       "    <rect x=\"480\" y=\"0\" width=\"1681\" height=\"1600\"/>\n",
       "  </clipPath>\n",
       "</defs>\n",
       "<path clip-path=\"url(#clip1000)\" d=\"\n",
       "M243.864 1425.62 L2352.76 1425.62 L2352.76 121.675 L243.864 121.675  Z\n",
       "  \" fill=\"#ffffff\" fill-rule=\"evenodd\" fill-opacity=\"1\"/>\n",
       "<defs>\n",
       "  <clipPath id=\"clip1002\">\n",
       "    <rect x=\"243\" y=\"121\" width=\"2110\" height=\"1305\"/>\n",
       "  </clipPath>\n",
       "</defs>\n",
       "<polyline clip-path=\"url(#clip1002)\" style=\"stroke:#000000; stroke-width:2; stroke-opacity:0.1; fill:none\" points=\"\n",
       "  303.55,1425.62 303.55,121.675 \n",
       "  \"/>\n",
       "<polyline clip-path=\"url(#clip1002)\" style=\"stroke:#000000; stroke-width:2; stroke-opacity:0.1; fill:none\" points=\"\n",
       "  831.286,1425.62 831.286,121.675 \n",
       "  \"/>\n",
       "<polyline clip-path=\"url(#clip1002)\" style=\"stroke:#000000; stroke-width:2; stroke-opacity:0.1; fill:none\" points=\"\n",
       "  1359.02,1425.62 1359.02,121.675 \n",
       "  \"/>\n",
       "<polyline clip-path=\"url(#clip1002)\" style=\"stroke:#000000; stroke-width:2; stroke-opacity:0.1; fill:none\" points=\"\n",
       "  1886.76,1425.62 1886.76,121.675 \n",
       "  \"/>\n",
       "<polyline clip-path=\"url(#clip1002)\" style=\"stroke:#000000; stroke-width:2; stroke-opacity:0.1; fill:none\" points=\"\n",
       "  243.864,1265.72 2352.76,1265.72 \n",
       "  \"/>\n",
       "<polyline clip-path=\"url(#clip1002)\" style=\"stroke:#000000; stroke-width:2; stroke-opacity:0.1; fill:none\" points=\"\n",
       "  243.864,1019.68 2352.76,1019.68 \n",
       "  \"/>\n",
       "<polyline clip-path=\"url(#clip1002)\" style=\"stroke:#000000; stroke-width:2; stroke-opacity:0.1; fill:none\" points=\"\n",
       "  243.864,773.647 2352.76,773.647 \n",
       "  \"/>\n",
       "<polyline clip-path=\"url(#clip1002)\" style=\"stroke:#000000; stroke-width:2; stroke-opacity:0.1; fill:none\" points=\"\n",
       "  243.864,527.612 2352.76,527.612 \n",
       "  \"/>\n",
       "<polyline clip-path=\"url(#clip1002)\" style=\"stroke:#000000; stroke-width:2; stroke-opacity:0.1; fill:none\" points=\"\n",
       "  243.864,281.577 2352.76,281.577 \n",
       "  \"/>\n",
       "<polyline clip-path=\"url(#clip1000)\" style=\"stroke:#000000; stroke-width:4; stroke-opacity:1; fill:none\" points=\"\n",
       "  243.864,1425.62 2352.76,1425.62 \n",
       "  \"/>\n",
       "<polyline clip-path=\"url(#clip1000)\" style=\"stroke:#000000; stroke-width:4; stroke-opacity:1; fill:none\" points=\"\n",
       "  243.864,1425.62 243.864,121.675 \n",
       "  \"/>\n",
       "<polyline clip-path=\"url(#clip1000)\" style=\"stroke:#000000; stroke-width:4; stroke-opacity:1; fill:none\" points=\"\n",
       "  303.55,1425.62 303.55,1409.97 \n",
       "  \"/>\n",
       "<polyline clip-path=\"url(#clip1000)\" style=\"stroke:#000000; stroke-width:4; stroke-opacity:1; fill:none\" points=\"\n",
       "  831.286,1425.62 831.286,1409.97 \n",
       "  \"/>\n",
       "<polyline clip-path=\"url(#clip1000)\" style=\"stroke:#000000; stroke-width:4; stroke-opacity:1; fill:none\" points=\"\n",
       "  1359.02,1425.62 1359.02,1409.97 \n",
       "  \"/>\n",
       "<polyline clip-path=\"url(#clip1000)\" style=\"stroke:#000000; stroke-width:4; stroke-opacity:1; fill:none\" points=\"\n",
       "  1886.76,1425.62 1886.76,1409.97 \n",
       "  \"/>\n",
       "<polyline clip-path=\"url(#clip1000)\" style=\"stroke:#000000; stroke-width:4; stroke-opacity:1; fill:none\" points=\"\n",
       "  243.864,1265.72 269.171,1265.72 \n",
       "  \"/>\n",
       "<polyline clip-path=\"url(#clip1000)\" style=\"stroke:#000000; stroke-width:4; stroke-opacity:1; fill:none\" points=\"\n",
       "  243.864,1019.68 269.171,1019.68 \n",
       "  \"/>\n",
       "<polyline clip-path=\"url(#clip1000)\" style=\"stroke:#000000; stroke-width:4; stroke-opacity:1; fill:none\" points=\"\n",
       "  243.864,773.647 269.171,773.647 \n",
       "  \"/>\n",
       "<polyline clip-path=\"url(#clip1000)\" style=\"stroke:#000000; stroke-width:4; stroke-opacity:1; fill:none\" points=\"\n",
       "  243.864,527.612 269.171,527.612 \n",
       "  \"/>\n",
       "<polyline clip-path=\"url(#clip1000)\" style=\"stroke:#000000; stroke-width:4; stroke-opacity:1; fill:none\" points=\"\n",
       "  243.864,281.577 269.171,281.577 \n",
       "  \"/>\n",
       "<g clip-path=\"url(#clip1000)\">\n",
       "<text style=\"fill:#000000; fill-opacity:1; font-family:Arial,Helvetica Neue,Helvetica,sans-serif; font-size:48px; text-anchor:middle;\" transform=\"rotate(0, 303.55, 1479.62)\" x=\"303.55\" y=\"1479.62\">0</text>\n",
       "</g>\n",
       "<g clip-path=\"url(#clip1000)\">\n",
       "<text style=\"fill:#000000; fill-opacity:1; font-family:Arial,Helvetica Neue,Helvetica,sans-serif; font-size:48px; text-anchor:middle;\" transform=\"rotate(0, 831.286, 1479.62)\" x=\"831.286\" y=\"1479.62\">5</text>\n",
       "</g>\n",
       "<g clip-path=\"url(#clip1000)\">\n",
       "<text style=\"fill:#000000; fill-opacity:1; font-family:Arial,Helvetica Neue,Helvetica,sans-serif; font-size:48px; text-anchor:middle;\" transform=\"rotate(0, 1359.02, 1479.62)\" x=\"1359.02\" y=\"1479.62\">10</text>\n",
       "</g>\n",
       "<g clip-path=\"url(#clip1000)\">\n",
       "<text style=\"fill:#000000; fill-opacity:1; font-family:Arial,Helvetica Neue,Helvetica,sans-serif; font-size:48px; text-anchor:middle;\" transform=\"rotate(0, 1886.76, 1479.62)\" x=\"1886.76\" y=\"1479.62\">15</text>\n",
       "</g>\n",
       "<g clip-path=\"url(#clip1000)\">\n",
       "<text style=\"fill:#000000; fill-opacity:1; font-family:Arial,Helvetica Neue,Helvetica,sans-serif; font-size:48px; text-anchor:end;\" transform=\"rotate(0, 219.864, 1283.22)\" x=\"219.864\" y=\"1283.22\">-0.4</text>\n",
       "</g>\n",
       "<g clip-path=\"url(#clip1000)\">\n",
       "<text style=\"fill:#000000; fill-opacity:1; font-family:Arial,Helvetica Neue,Helvetica,sans-serif; font-size:48px; text-anchor:end;\" transform=\"rotate(0, 219.864, 1037.18)\" x=\"219.864\" y=\"1037.18\">-0.2</text>\n",
       "</g>\n",
       "<g clip-path=\"url(#clip1000)\">\n",
       "<text style=\"fill:#000000; fill-opacity:1; font-family:Arial,Helvetica Neue,Helvetica,sans-serif; font-size:48px; text-anchor:end;\" transform=\"rotate(0, 219.864, 791.147)\" x=\"219.864\" y=\"791.147\">0.0</text>\n",
       "</g>\n",
       "<g clip-path=\"url(#clip1000)\">\n",
       "<text style=\"fill:#000000; fill-opacity:1; font-family:Arial,Helvetica Neue,Helvetica,sans-serif; font-size:48px; text-anchor:end;\" transform=\"rotate(0, 219.864, 545.112)\" x=\"219.864\" y=\"545.112\">0.2</text>\n",
       "</g>\n",
       "<g clip-path=\"url(#clip1000)\">\n",
       "<text style=\"fill:#000000; fill-opacity:1; font-family:Arial,Helvetica Neue,Helvetica,sans-serif; font-size:48px; text-anchor:end;\" transform=\"rotate(0, 219.864, 299.077)\" x=\"219.864\" y=\"299.077\">0.4</text>\n",
       "</g>\n",
       "<g clip-path=\"url(#clip1000)\">\n",
       "<text style=\"fill:#000000; fill-opacity:1; font-family:Arial,Helvetica Neue,Helvetica,sans-serif; font-size:84px; text-anchor:middle;\" transform=\"rotate(0, 1298.31, 73.2)\" x=\"1298.31\" y=\"73.2\">Mi primera grafica bonita</text>\n",
       "</g>\n",
       "<g clip-path=\"url(#clip1000)\">\n",
       "<text style=\"fill:#000000; fill-opacity:1; font-family:Arial,Helvetica Neue,Helvetica,sans-serif; font-size:66px; text-anchor:middle;\" transform=\"rotate(0, 1298.31, 1559.48)\" x=\"1298.31\" y=\"1559.48\">eje x</text>\n",
       "</g>\n",
       "<g clip-path=\"url(#clip1000)\">\n",
       "<text style=\"fill:#000000; fill-opacity:1; font-family:Arial,Helvetica Neue,Helvetica,sans-serif; font-size:66px; text-anchor:middle;\" transform=\"rotate(-90, 89.2861, 773.647)\" x=\"89.2861\" y=\"773.647\">eje y</text>\n",
       "</g>\n",
       "<polyline clip-path=\"url(#clip1002)\" style=\"stroke:#009af9; stroke-width:4; stroke-opacity:1; fill:none\" points=\"\n",
       "  303.55,773.647 313.547,657.819 323.545,546.135 333.543,442.592 343.54,350.895 353.538,274.324 363.535,215.62 373.533,176.883 383.531,159.499 393.528,164.09 \n",
       "  403.526,190.491 413.523,237.759 423.521,304.201 433.518,387.441 443.516,484.5 453.514,591.905 463.511,705.813 473.509,822.148 483.506,936.748 493.504,1045.51 \n",
       "  503.502,1144.55 513.499,1230.31 523.497,1299.74 533.494,1350.34 543.492,1380.3 553.49,1388.56 563.487,1374.82 573.485,1339.56 583.482,1284.06 593.48,1210.29 \n",
       "  603.477,1120.9 613.475,1019.09 623.473,908.487 633.47,793.064 643.468,676.947 653.465,564.289 663.463,459.122 673.461,365.21 683.458,285.912 693.456,224.066 \n",
       "  703.453,181.885 713.451,160.877 723.449,161.796 733.446,184.607 743.444,228.495 753.441,291.889 763.439,372.521 773.437,467.506 783.434,573.445 793.432,686.548 \n",
       "  803.429,802.767 813.427,917.944 823.424,1027.96 833.422,1128.87 843.42,1217.08 853.417,1289.41 863.415,1343.3 873.412,1376.8 883.41,1388.71 893.408,1378.62 \n",
       "  903.405,1346.89 913.403,1294.64 923.4,1223.75 933.398,1136.76 943.396,1036.77 953.393,927.365 963.391,812.462 973.388,696.171 983.386,582.651 993.384,475.966 \n",
       "  1003.38,379.932 1013.38,297.986 1023.38,233.059 1033.37,187.476 1043.37,162.866 1053.37,160.111 1063.37,179.31 1073.36,219.774 1083.36,280.057 1093.36,358.001 \n",
       "  1103.36,450.817 1113.35,555.185 1123.35,667.369 1133.35,783.357 1143.35,898.997 1153.34,1010.15 1163.34,1112.84 1173.34,1203.4 1183.34,1278.58 1193.34,1335.69 \n",
       "  1203.33,1372.69 1213.33,1388.25 1223.33,1381.83 1233.33,1353.64 1243.32,1304.7 1253.32,1236.76 1263.32,1152.25 1273.32,1054.19 1283.31,946.09 1293.31,831.822 \n",
       "  1303.31,715.472 1313.31,601.204 1323.3,493.106 1333.3,395.047 1343.3,310.534 1353.3,242.592 1363.29,193.652 1373.29,165.465 1383.29,159.039 1393.29,174.605 \n",
       "  1403.28,211.606 1413.28,268.717 1423.28,343.895 1433.28,434.45 1443.28,537.142 1453.27,648.297 1463.27,763.937 1473.27,879.924 1483.27,992.109 1493.26,1096.48 \n",
       "  1503.26,1189.29 1513.26,1267.24 1523.26,1327.52 1533.25,1367.98 1543.25,1387.18 1553.25,1384.43 1563.25,1359.82 1573.24,1314.23 1583.24,1249.31 1593.24,1167.36 \n",
       "  1603.24,1071.33 1613.23,964.642 1623.23,851.123 1633.23,734.831 1643.23,619.929 1653.22,510.526 1663.22,410.539 1673.22,323.543 1683.22,252.654 1693.21,200.406 \n",
       "  1703.21,168.669 1713.21,158.579 1723.21,170.497 1733.21,203.997 1743.2,257.88 1753.2,330.217 1763.2,418.421 1773.2,519.336 1783.19,629.35 1793.19,744.527 \n",
       "  1803.19,860.746 1813.19,973.849 1823.18,1079.79 1833.18,1174.77 1843.18,1255.4 1853.18,1318.8 1863.17,1362.69 1873.17,1385.5 1883.17,1386.42 1893.17,1365.41 \n",
       "  1903.16,1323.23 1913.16,1261.38 1923.16,1182.08 1933.16,1088.17 1943.15,983.005 1953.15,870.347 1963.15,754.229 1973.15,638.807 1983.14,528.208 1993.14,426.392 \n",
       "  2003.14,337.002 2013.14,263.235 2023.14,207.731 2033.13,172.476 2043.13,158.732 2053.13,166.991 2063.13,196.957 2073.12,247.557 2083.12,316.982 2093.12,402.746 \n",
       "  2103.12,501.782 2113.11,610.546 2123.11,725.146 2133.11,841.481 2143.11,955.389 2153.1,1062.79 2163.1,1159.85 2173.1,1243.09 2183.1,1309.53 2193.09,1356.8 \n",
       "  2203.09,1383.2 2213.09,1387.8 2223.09,1370.41 2233.08,1331.67 2243.08,1272.97 2253.08,1196.4 2263.08,1104.7 2273.08,1001.16 2283.07,889.475 2293.07,773.647 \n",
       "  \n",
       "  \"/>\n",
       "<path clip-path=\"url(#clip1000)\" d=\"\n",
       "M1834.79 326.155 L2280.76 326.155 L2280.76 205.195 L1834.79 205.195  Z\n",
       "  \" fill=\"#ffffff\" fill-rule=\"evenodd\" fill-opacity=\"1\"/>\n",
       "<polyline clip-path=\"url(#clip1000)\" style=\"stroke:#000000; stroke-width:4; stroke-opacity:1; fill:none\" points=\"\n",
       "  1834.79,326.155 2280.76,326.155 2280.76,205.195 1834.79,205.195 1834.79,326.155 \n",
       "  \"/>\n",
       "<polyline clip-path=\"url(#clip1000)\" style=\"stroke:#009af9; stroke-width:4; stroke-opacity:1; fill:none\" points=\"\n",
       "  1858.79,265.675 2002.79,265.675 \n",
       "  \"/>\n",
       "<g clip-path=\"url(#clip1000)\">\n",
       "<text style=\"fill:#000000; fill-opacity:1; font-family:Arial,Helvetica Neue,Helvetica,sans-serif; font-size:48px; text-anchor:start;\" transform=\"rotate(0, 2026.79, 283.175)\" x=\"2026.79\" y=\"283.175\">mis datos</text>\n",
       "</g>\n",
       "</svg>\n"
      ]
     },
     "execution_count": 52,
     "metadata": {},
     "output_type": "execute_result"
    }
   ],
   "source": [
    "graficaBonita(200)"
   ]
  },
  {
   "cell_type": "markdown",
   "metadata": {},
   "source": [
    "### Ejercicios\n",
    "\n",
    "Realiza la gráfica de las siguientes funciones en el intervalo dado:\n",
    "\n",
    "1. $f(x) = \\sin{(e^x)}$ para $x \\in [-1,2]$\n",
    "\n",
    "2. $g(x) = \\log{3x}$ para $x \\in (0,20)$\n",
    "\n",
    "Utiliza `scatter` para graficar los siguientes conjuntos de puntos.\n",
    "\n",
    "3. Unos 40 puntos de la gráfica de la función $\\sin{\\frac{1}{x}}$ para $x \\in [0.1,10]$\n",
    "\n",
    "**Sugerencia:** utiliza la función `range`"
   ]
  },
  {
   "cell_type": "markdown",
   "metadata": {},
   "source": [
    "## Cómputo Científico"
   ]
  },
  {
   "cell_type": "markdown",
   "metadata": {},
   "source": [
    "La programación en general es una cosa **muy, muy, muy amplia**. Mucha gente de distintas áreas y con distintos problemas a resolver sabe programar en algún lenguaje orientado a los problemas que necesita resolver."
   ]
  },
  {
   "cell_type": "markdown",
   "metadata": {},
   "source": [
    "Nosotros no vamos a aprender ni a hacer cosas de progrmaación en general y abstracto o aplicadas a algo raro. Nosotros haremos algo que se conoce como **cómputo científico** que se encarga de utilizar la computadora, básicamente, para resolver problemas matemáticos. \n",
    "\n",
    "### ¿Qué problemas matemáticos?: los más aplicables a física\n",
    "\n",
    "* Calcular una derivada, calcular una integral\n",
    "* Resolver un sistema de ecuaciones lineales\n",
    "* Resolver una Ecuacion Diferencial Ordinaria (EDO)\n",
    "* Resolver una Ecuación Diferencial Parcial (EDP)\n",
    "\n",
    "Esta es una clase de **cómputo científico aplicado a física**. En el cómputo científico, debemos de enfrentarnos a varios problemas, a errores que pueden surgir de los resultados **num éricos** (no abstractos, no analíticos ni exactos) que obtengamos de nuestros problemas"
   ]
  },
  {
   "cell_type": "markdown",
   "metadata": {},
   "source": [
    "## Errores numéricos"
   ]
  },
  {
   "cell_type": "markdown",
   "metadata": {},
   "source": [
    "Por lo que platicamos de los sistemas de punto flotante, no todos los números se representan exactamente, por lo que las operaciones no siempre nos van a dar el resultado exacto. Por otro lado, muchas de las operaciones que realiza la computadora, aunque las hagamos en numeros representados exactamente, **no se hacen** de manera exacta si no aproximada.\n",
    "\n",
    "A los problemas por aritmética de punto flotante normalmente les llaman **errores de redondeo**\n",
    "\n",
    "A los problemas por hacer un cálculo no exacto, les llaman **error de aproximación**"
   ]
  },
  {
   "cell_type": "markdown",
   "metadata": {},
   "source": [
    "### Ejemplo de un error de aproximación. la función `sqrt`"
   ]
  },
  {
   "cell_type": "code",
   "execution_count": 56,
   "metadata": {},
   "outputs": [
    {
     "data": {
      "text/plain": [
       "2"
      ]
     },
     "execution_count": 56,
     "metadata": {},
     "output_type": "execute_result"
    }
   ],
   "source": [
    "# hagamos un ejemplo\n",
    "aprox = sqrt(2)^2\n",
    "real = 2"
   ]
  },
  {
   "cell_type": "code",
   "execution_count": 58,
   "metadata": {},
   "outputs": [
    {
     "data": {
      "text/plain": [
       "false"
      ]
     },
     "execution_count": 58,
     "metadata": {},
     "output_type": "execute_result"
    }
   ],
   "source": [
    "# ¿sqrt(2)^2 es igual a 2 ?\n",
    "aprox == real"
   ]
  },
  {
   "cell_type": "markdown",
   "metadata": {},
   "source": [
    "### ¿Qué hacemos?"
   ]
  },
  {
   "cell_type": "markdown",
   "metadata": {},
   "source": [
    "1. Estos errores de aproximación escapan nuestras capacidades computacionales, por lo que ahora no podemos evadirlos. Sin embargo, podemos darles la vuelta"
   ]
  },
  {
   "cell_type": "markdown",
   "metadata": {},
   "source": [
    "En lugar de preguntarnos, si dos numeros que sabemos analíticamente son iguales pero en la práctica no lo son, podemos preguntarnos si son **muy, muy cercanos**"
   ]
  },
  {
   "cell_type": "code",
   "execution_count": 63,
   "metadata": {},
   "outputs": [
    {
     "data": {
      "text/plain": [
       "true"
      ]
     },
     "execution_count": 63,
     "metadata": {},
     "output_type": "execute_result"
    }
   ],
   "source": [
    "# ¿sqrt(2)^2 es muy cercano a 2?\n",
    "abs(aprox - real) < 10^15"
   ]
  },
  {
   "cell_type": "markdown",
   "metadata": {},
   "source": [
    "Hay que convertir nuestras preguntas por igualdad, en preguntas por cercanía"
   ]
  },
  {
   "cell_type": "markdown",
   "metadata": {},
   "source": [
    "## Velocidades de convergencia"
   ]
  },
  {
   "cell_type": "markdown",
   "metadata": {},
   "source": [
    "Podemos preguntarnos por que tan rápido se acercan al valor real las aproximaciones que hacemos"
   ]
  },
  {
   "cell_type": "markdown",
   "metadata": {},
   "source": [
    "### Ejemplo: $\\pi$\n",
    "\n",
    "Fórmula de Basel\n",
    "\n",
    "$$\n",
    "\\sum_{k=1}^{\\infty} \\frac{1}{k^2} = \\frac{\\pi^2}{6} \\approx  \\sum_{k=1}^{n} \\frac{1}{k^2}\n",
    "$$\n",
    "\n",
    "Fórmula de Leibniz\n",
    "\n",
    "$$\n",
    "\\sum_{k=0}^{\\infty} \\frac{(-1)^k}{2k+1} = \\frac{\\pi}{4} \\approx \\sum_{k=0}^{n-1} \\frac{(-1)^k}{2k+1}\n",
    "$$"
   ]
  },
  {
   "cell_type": "code",
   "execution_count": 64,
   "metadata": {},
   "outputs": [
    {
     "data": {
      "text/plain": [
       "piBasel (generic function with 1 method)"
      ]
     },
     "execution_count": 64,
     "metadata": {},
     "output_type": "execute_result"
    }
   ],
   "source": [
    "function piBasel(n)\n",
    "    suma = 0\n",
    "    for k in 1:n\n",
    "        suma = suma + 1/k^2\n",
    "    end\n",
    "    res = sqrt(6 * suma)\n",
    "    return res\n",
    "end"
   ]
  },
  {
   "cell_type": "code",
   "execution_count": 65,
   "metadata": {},
   "outputs": [
    {
     "data": {
      "text/plain": [
       "piLeibniz (generic function with 1 method)"
      ]
     },
     "execution_count": 65,
     "metadata": {},
     "output_type": "execute_result"
    }
   ],
   "source": [
    "function piLeibniz(n)\n",
    "    suma = 0\n",
    "    for k in 0:(n-1)\n",
    "        suma = suma + (-1)^k/(2*k+1)\n",
    "    end\n",
    "    res = suma*4\n",
    "    return res\n",
    "end"
   ]
  },
  {
   "cell_type": "code",
   "execution_count": 68,
   "metadata": {},
   "outputs": [
    {
     "data": {
      "text/plain": [
       "3.094669524113704"
      ]
     },
     "execution_count": 68,
     "metadata": {},
     "output_type": "execute_result"
    }
   ],
   "source": [
    "piBasel(20)"
   ]
  },
  {
   "cell_type": "code",
   "execution_count": 69,
   "metadata": {},
   "outputs": [
    {
     "data": {
      "text/plain": [
       "3.09162380666784"
      ]
     },
     "execution_count": 69,
     "metadata": {},
     "output_type": "execute_result"
    }
   ],
   "source": [
    "piLeibniz(20)"
   ]
  },
  {
   "cell_type": "code",
   "execution_count": 80,
   "metadata": {},
   "outputs": [
    {
     "data": {
      "text/plain": [
       "comparacion (generic function with 1 method)"
      ]
     },
     "execution_count": 80,
     "metadata": {},
     "output_type": "execute_result"
    }
   ],
   "source": [
    "function comparacion(n)\n",
    "    xs = 1:n\n",
    "    # grafico el error relativo: la diferencia entre el valor real y el obtenido\n",
    "    ys1 = [abs(pi-piBasel(x)) for x in xs]\n",
    "    ys2 = [abs(pi-piLeibniz(x)) for x in xs]\n",
    "    # cambiar la escala a una gráfica log-log\n",
    "    scatter(xs,ys1,label=\"Basel\",title=\"comparacion\",xlabel=\"terminos en la suma\",ylabel=\"error absoluto\",alpha=0.7,xscale=:log10,yscale=:log10)\n",
    "    # pongo un signo de admiración para que añada la nueva gráfica a la anterior\n",
    "    scatter!(xs,ys2,label=\"Leibniz\",alpha=0.7)\n",
    "end"
   ]
  },
  {
   "cell_type": "code",
   "execution_count": 81,
   "metadata": {},
   "outputs": [
    {
     "data": {
      "image/svg+xml": [
       "<?xml version=\"1.0\" encoding=\"utf-8\"?>\n",
       "<svg xmlns=\"http://www.w3.org/2000/svg\" xmlns:xlink=\"http://www.w3.org/1999/xlink\" width=\"600\" height=\"400\" viewBox=\"0 0 2400 1600\">\n",
       "<defs>\n",
       "  <clipPath id=\"clip3400\">\n",
       "    <rect x=\"0\" y=\"0\" width=\"2400\" height=\"1600\"/>\n",
       "  </clipPath>\n",
       "</defs>\n",
       "<path clip-path=\"url(#clip3400)\" d=\"\n",
       "M0 1600 L2400 1600 L2400 0 L0 0  Z\n",
       "  \" fill=\"#ffffff\" fill-rule=\"evenodd\" fill-opacity=\"1\"/>\n",
       "<defs>\n",
       "  <clipPath id=\"clip3401\">\n",
       "    <rect x=\"480\" y=\"0\" width=\"1681\" height=\"1600\"/>\n",
       "  </clipPath>\n",
       "</defs>\n",
       "<path clip-path=\"url(#clip3400)\" d=\"\n",
       "M319.964 1425.62 L2352.76 1425.62 L2352.76 121.675 L319.964 121.675  Z\n",
       "  \" fill=\"#ffffff\" fill-rule=\"evenodd\" fill-opacity=\"1\"/>\n",
       "<defs>\n",
       "  <clipPath id=\"clip3402\">\n",
       "    <rect x=\"319\" y=\"121\" width=\"2034\" height=\"1305\"/>\n",
       "  </clipPath>\n",
       "</defs>\n",
       "<polyline clip-path=\"url(#clip3402)\" style=\"stroke:#000000; stroke-width:2; stroke-opacity:0.1; fill:none\" points=\"\n",
       "  377.495,1425.62 377.495,121.675 \n",
       "  \"/>\n",
       "<polyline clip-path=\"url(#clip3402)\" style=\"stroke:#000000; stroke-width:2; stroke-opacity:0.1; fill:none\" points=\"\n",
       "  1026.64,1425.62 1026.64,121.675 \n",
       "  \"/>\n",
       "<polyline clip-path=\"url(#clip3402)\" style=\"stroke:#000000; stroke-width:2; stroke-opacity:0.1; fill:none\" points=\"\n",
       "  1675.78,1425.62 1675.78,121.675 \n",
       "  \"/>\n",
       "<polyline clip-path=\"url(#clip3402)\" style=\"stroke:#000000; stroke-width:2; stroke-opacity:0.1; fill:none\" points=\"\n",
       "  2324.93,1425.62 2324.93,121.675 \n",
       "  \"/>\n",
       "<polyline clip-path=\"url(#clip3402)\" style=\"stroke:#000000; stroke-width:2; stroke-opacity:0.1; fill:none\" points=\"\n",
       "  319.964,1301.17 2352.76,1301.17 \n",
       "  \"/>\n",
       "<polyline clip-path=\"url(#clip3402)\" style=\"stroke:#000000; stroke-width:2; stroke-opacity:0.1; fill:none\" points=\"\n",
       "  319.964,1129.83 2352.76,1129.83 \n",
       "  \"/>\n",
       "<polyline clip-path=\"url(#clip3402)\" style=\"stroke:#000000; stroke-width:2; stroke-opacity:0.1; fill:none\" points=\"\n",
       "  319.964,958.485 2352.76,958.485 \n",
       "  \"/>\n",
       "<polyline clip-path=\"url(#clip3402)\" style=\"stroke:#000000; stroke-width:2; stroke-opacity:0.1; fill:none\" points=\"\n",
       "  319.964,787.143 2352.76,787.143 \n",
       "  \"/>\n",
       "<polyline clip-path=\"url(#clip3402)\" style=\"stroke:#000000; stroke-width:2; stroke-opacity:0.1; fill:none\" points=\"\n",
       "  319.964,615.8 2352.76,615.8 \n",
       "  \"/>\n",
       "<polyline clip-path=\"url(#clip3402)\" style=\"stroke:#000000; stroke-width:2; stroke-opacity:0.1; fill:none\" points=\"\n",
       "  319.964,444.458 2352.76,444.458 \n",
       "  \"/>\n",
       "<polyline clip-path=\"url(#clip3402)\" style=\"stroke:#000000; stroke-width:2; stroke-opacity:0.1; fill:none\" points=\"\n",
       "  319.964,273.116 2352.76,273.116 \n",
       "  \"/>\n",
       "<polyline clip-path=\"url(#clip3400)\" style=\"stroke:#000000; stroke-width:4; stroke-opacity:1; fill:none\" points=\"\n",
       "  319.964,1425.62 2352.76,1425.62 \n",
       "  \"/>\n",
       "<polyline clip-path=\"url(#clip3400)\" style=\"stroke:#000000; stroke-width:4; stroke-opacity:1; fill:none\" points=\"\n",
       "  319.964,1425.62 319.964,121.675 \n",
       "  \"/>\n",
       "<polyline clip-path=\"url(#clip3400)\" style=\"stroke:#000000; stroke-width:4; stroke-opacity:1; fill:none\" points=\"\n",
       "  377.495,1425.62 377.495,1409.97 \n",
       "  \"/>\n",
       "<polyline clip-path=\"url(#clip3400)\" style=\"stroke:#000000; stroke-width:4; stroke-opacity:1; fill:none\" points=\"\n",
       "  1026.64,1425.62 1026.64,1409.97 \n",
       "  \"/>\n",
       "<polyline clip-path=\"url(#clip3400)\" style=\"stroke:#000000; stroke-width:4; stroke-opacity:1; fill:none\" points=\"\n",
       "  1675.78,1425.62 1675.78,1409.97 \n",
       "  \"/>\n",
       "<polyline clip-path=\"url(#clip3400)\" style=\"stroke:#000000; stroke-width:4; stroke-opacity:1; fill:none\" points=\"\n",
       "  2324.93,1425.62 2324.93,1409.97 \n",
       "  \"/>\n",
       "<polyline clip-path=\"url(#clip3400)\" style=\"stroke:#000000; stroke-width:4; stroke-opacity:1; fill:none\" points=\"\n",
       "  319.964,1301.17 344.357,1301.17 \n",
       "  \"/>\n",
       "<polyline clip-path=\"url(#clip3400)\" style=\"stroke:#000000; stroke-width:4; stroke-opacity:1; fill:none\" points=\"\n",
       "  319.964,1129.83 344.357,1129.83 \n",
       "  \"/>\n",
       "<polyline clip-path=\"url(#clip3400)\" style=\"stroke:#000000; stroke-width:4; stroke-opacity:1; fill:none\" points=\"\n",
       "  319.964,958.485 344.357,958.485 \n",
       "  \"/>\n",
       "<polyline clip-path=\"url(#clip3400)\" style=\"stroke:#000000; stroke-width:4; stroke-opacity:1; fill:none\" points=\"\n",
       "  319.964,787.143 344.357,787.143 \n",
       "  \"/>\n",
       "<polyline clip-path=\"url(#clip3400)\" style=\"stroke:#000000; stroke-width:4; stroke-opacity:1; fill:none\" points=\"\n",
       "  319.964,615.8 344.357,615.8 \n",
       "  \"/>\n",
       "<polyline clip-path=\"url(#clip3400)\" style=\"stroke:#000000; stroke-width:4; stroke-opacity:1; fill:none\" points=\"\n",
       "  319.964,444.458 344.357,444.458 \n",
       "  \"/>\n",
       "<polyline clip-path=\"url(#clip3400)\" style=\"stroke:#000000; stroke-width:4; stroke-opacity:1; fill:none\" points=\"\n",
       "  319.964,273.116 344.357,273.116 \n",
       "  \"/>\n",
       "<g clip-path=\"url(#clip3400)\">\n",
       "<text style=\"fill:#000000; fill-opacity:1; font-family:Arial,Helvetica Neue,Helvetica,sans-serif; font-size:48px; text-anchor:start;\" transform=\"rotate(0, 323.553, 1500.63)\" x=\"323.553\" y=\"1500.63\">10</text>\n",
       "</g>\n",
       "<g clip-path=\"url(#clip3400)\">\n",
       "<text style=\"fill:#000000; fill-opacity:1; font-family:Arial,Helvetica Neue,Helvetica,sans-serif; font-size:38px; text-anchor:start;\" transform=\"rotate(0, 377.077, 1473.22)\" x=\"377.077\" y=\"1473.22\">0.0</text>\n",
       "</g>\n",
       "<g clip-path=\"url(#clip3400)\">\n",
       "<text style=\"fill:#000000; fill-opacity:1; font-family:Arial,Helvetica Neue,Helvetica,sans-serif; font-size:48px; text-anchor:start;\" transform=\"rotate(0, 972.697, 1500.63)\" x=\"972.697\" y=\"1500.63\">10</text>\n",
       "</g>\n",
       "<g clip-path=\"url(#clip3400)\">\n",
       "<text style=\"fill:#000000; fill-opacity:1; font-family:Arial,Helvetica Neue,Helvetica,sans-serif; font-size:38px; text-anchor:start;\" transform=\"rotate(0, 1026.22, 1473.22)\" x=\"1026.22\" y=\"1473.22\">0.5</text>\n",
       "</g>\n",
       "<g clip-path=\"url(#clip3400)\">\n",
       "<text style=\"fill:#000000; fill-opacity:1; font-family:Arial,Helvetica Neue,Helvetica,sans-serif; font-size:48px; text-anchor:start;\" transform=\"rotate(0, 1621.84, 1500.63)\" x=\"1621.84\" y=\"1500.63\">10</text>\n",
       "</g>\n",
       "<g clip-path=\"url(#clip3400)\">\n",
       "<text style=\"fill:#000000; fill-opacity:1; font-family:Arial,Helvetica Neue,Helvetica,sans-serif; font-size:38px; text-anchor:start;\" transform=\"rotate(0, 1675.37, 1473.22)\" x=\"1675.37\" y=\"1473.22\">1.0</text>\n",
       "</g>\n",
       "<g clip-path=\"url(#clip3400)\">\n",
       "<text style=\"fill:#000000; fill-opacity:1; font-family:Arial,Helvetica Neue,Helvetica,sans-serif; font-size:48px; text-anchor:start;\" transform=\"rotate(0, 2270.98, 1500.63)\" x=\"2270.98\" y=\"1500.63\">10</text>\n",
       "</g>\n",
       "<g clip-path=\"url(#clip3400)\">\n",
       "<text style=\"fill:#000000; fill-opacity:1; font-family:Arial,Helvetica Neue,Helvetica,sans-serif; font-size:38px; text-anchor:start;\" transform=\"rotate(0, 2324.51, 1473.22)\" x=\"2324.51\" y=\"1473.22\">1.5</text>\n",
       "</g>\n",
       "<g clip-path=\"url(#clip3400)\">\n",
       "<text style=\"fill:#000000; fill-opacity:1; font-family:Arial,Helvetica Neue,Helvetica,sans-serif; font-size:48px; text-anchor:start;\" transform=\"rotate(0, 165.238, 1324.9)\" x=\"165.238\" y=\"1324.9\">10</text>\n",
       "</g>\n",
       "<g clip-path=\"url(#clip3400)\">\n",
       "<text style=\"fill:#000000; fill-opacity:1; font-family:Arial,Helvetica Neue,Helvetica,sans-serif; font-size:38px; text-anchor:start;\" transform=\"rotate(0, 218.763, 1297.49)\" x=\"218.763\" y=\"1297.49\">-</text>\n",
       "</g>\n",
       "<g clip-path=\"url(#clip3400)\">\n",
       "<text style=\"fill:#000000; fill-opacity:1; font-family:Arial,Helvetica Neue,Helvetica,sans-serif; font-size:38px; text-anchor:start;\" transform=\"rotate(0, 241.603, 1297.49)\" x=\"241.603\" y=\"1297.49\">1.4</text>\n",
       "</g>\n",
       "<g clip-path=\"url(#clip3400)\">\n",
       "<text style=\"fill:#000000; fill-opacity:1; font-family:Arial,Helvetica Neue,Helvetica,sans-serif; font-size:48px; text-anchor:start;\" transform=\"rotate(0, 165.238, 1153.55)\" x=\"165.238\" y=\"1153.55\">10</text>\n",
       "</g>\n",
       "<g clip-path=\"url(#clip3400)\">\n",
       "<text style=\"fill:#000000; fill-opacity:1; font-family:Arial,Helvetica Neue,Helvetica,sans-serif; font-size:38px; text-anchor:start;\" transform=\"rotate(0, 218.763, 1126.14)\" x=\"218.763\" y=\"1126.14\">-</text>\n",
       "</g>\n",
       "<g clip-path=\"url(#clip3400)\">\n",
       "<text style=\"fill:#000000; fill-opacity:1; font-family:Arial,Helvetica Neue,Helvetica,sans-serif; font-size:38px; text-anchor:start;\" transform=\"rotate(0, 241.603, 1126.14)\" x=\"241.603\" y=\"1126.14\">1.2</text>\n",
       "</g>\n",
       "<g clip-path=\"url(#clip3400)\">\n",
       "<text style=\"fill:#000000; fill-opacity:1; font-family:Arial,Helvetica Neue,Helvetica,sans-serif; font-size:48px; text-anchor:start;\" transform=\"rotate(0, 165.238, 982.213)\" x=\"165.238\" y=\"982.213\">10</text>\n",
       "</g>\n",
       "<g clip-path=\"url(#clip3400)\">\n",
       "<text style=\"fill:#000000; fill-opacity:1; font-family:Arial,Helvetica Neue,Helvetica,sans-serif; font-size:38px; text-anchor:start;\" transform=\"rotate(0, 218.763, 954.802)\" x=\"218.763\" y=\"954.802\">-</text>\n",
       "</g>\n",
       "<g clip-path=\"url(#clip3400)\">\n",
       "<text style=\"fill:#000000; fill-opacity:1; font-family:Arial,Helvetica Neue,Helvetica,sans-serif; font-size:38px; text-anchor:start;\" transform=\"rotate(0, 241.603, 954.802)\" x=\"241.603\" y=\"954.802\">1.0</text>\n",
       "</g>\n",
       "<g clip-path=\"url(#clip3400)\">\n",
       "<text style=\"fill:#000000; fill-opacity:1; font-family:Arial,Helvetica Neue,Helvetica,sans-serif; font-size:48px; text-anchor:start;\" transform=\"rotate(0, 165.238, 810.87)\" x=\"165.238\" y=\"810.87\">10</text>\n",
       "</g>\n",
       "<g clip-path=\"url(#clip3400)\">\n",
       "<text style=\"fill:#000000; fill-opacity:1; font-family:Arial,Helvetica Neue,Helvetica,sans-serif; font-size:38px; text-anchor:start;\" transform=\"rotate(0, 218.763, 783.46)\" x=\"218.763\" y=\"783.46\">-</text>\n",
       "</g>\n",
       "<g clip-path=\"url(#clip3400)\">\n",
       "<text style=\"fill:#000000; fill-opacity:1; font-family:Arial,Helvetica Neue,Helvetica,sans-serif; font-size:38px; text-anchor:start;\" transform=\"rotate(0, 241.603, 783.46)\" x=\"241.603\" y=\"783.46\">0.8</text>\n",
       "</g>\n",
       "<g clip-path=\"url(#clip3400)\">\n",
       "<text style=\"fill:#000000; fill-opacity:1; font-family:Arial,Helvetica Neue,Helvetica,sans-serif; font-size:48px; text-anchor:start;\" transform=\"rotate(0, 165.238, 639.528)\" x=\"165.238\" y=\"639.528\">10</text>\n",
       "</g>\n",
       "<g clip-path=\"url(#clip3400)\">\n",
       "<text style=\"fill:#000000; fill-opacity:1; font-family:Arial,Helvetica Neue,Helvetica,sans-serif; font-size:38px; text-anchor:start;\" transform=\"rotate(0, 218.763, 612.118)\" x=\"218.763\" y=\"612.118\">-</text>\n",
       "</g>\n",
       "<g clip-path=\"url(#clip3400)\">\n",
       "<text style=\"fill:#000000; fill-opacity:1; font-family:Arial,Helvetica Neue,Helvetica,sans-serif; font-size:38px; text-anchor:start;\" transform=\"rotate(0, 241.603, 612.118)\" x=\"241.603\" y=\"612.118\">0.6</text>\n",
       "</g>\n",
       "<g clip-path=\"url(#clip3400)\">\n",
       "<text style=\"fill:#000000; fill-opacity:1; font-family:Arial,Helvetica Neue,Helvetica,sans-serif; font-size:48px; text-anchor:start;\" transform=\"rotate(0, 165.238, 468.186)\" x=\"165.238\" y=\"468.186\">10</text>\n",
       "</g>\n",
       "<g clip-path=\"url(#clip3400)\">\n",
       "<text style=\"fill:#000000; fill-opacity:1; font-family:Arial,Helvetica Neue,Helvetica,sans-serif; font-size:38px; text-anchor:start;\" transform=\"rotate(0, 218.763, 440.775)\" x=\"218.763\" y=\"440.775\">-</text>\n",
       "</g>\n",
       "<g clip-path=\"url(#clip3400)\">\n",
       "<text style=\"fill:#000000; fill-opacity:1; font-family:Arial,Helvetica Neue,Helvetica,sans-serif; font-size:38px; text-anchor:start;\" transform=\"rotate(0, 241.603, 440.775)\" x=\"241.603\" y=\"440.775\">0.4</text>\n",
       "</g>\n",
       "<g clip-path=\"url(#clip3400)\">\n",
       "<text style=\"fill:#000000; fill-opacity:1; font-family:Arial,Helvetica Neue,Helvetica,sans-serif; font-size:48px; text-anchor:start;\" transform=\"rotate(0, 165.238, 296.843)\" x=\"165.238\" y=\"296.843\">10</text>\n",
       "</g>\n",
       "<g clip-path=\"url(#clip3400)\">\n",
       "<text style=\"fill:#000000; fill-opacity:1; font-family:Arial,Helvetica Neue,Helvetica,sans-serif; font-size:38px; text-anchor:start;\" transform=\"rotate(0, 218.763, 269.433)\" x=\"218.763\" y=\"269.433\">-</text>\n",
       "</g>\n",
       "<g clip-path=\"url(#clip3400)\">\n",
       "<text style=\"fill:#000000; fill-opacity:1; font-family:Arial,Helvetica Neue,Helvetica,sans-serif; font-size:38px; text-anchor:start;\" transform=\"rotate(0, 241.603, 269.433)\" x=\"241.603\" y=\"269.433\">0.2</text>\n",
       "</g>\n",
       "<g clip-path=\"url(#clip3400)\">\n",
       "<text style=\"fill:#000000; fill-opacity:1; font-family:Arial,Helvetica Neue,Helvetica,sans-serif; font-size:84px; text-anchor:middle;\" transform=\"rotate(0, 1336.36, 73.2)\" x=\"1336.36\" y=\"73.2\">comparacion</text>\n",
       "</g>\n",
       "<g clip-path=\"url(#clip3400)\">\n",
       "<text style=\"fill:#000000; fill-opacity:1; font-family:Arial,Helvetica Neue,Helvetica,sans-serif; font-size:66px; text-anchor:middle;\" transform=\"rotate(0, 1336.36, 1559.48)\" x=\"1336.36\" y=\"1559.48\">terminos en la suma</text>\n",
       "</g>\n",
       "<g clip-path=\"url(#clip3400)\">\n",
       "<text style=\"fill:#000000; fill-opacity:1; font-family:Arial,Helvetica Neue,Helvetica,sans-serif; font-size:66px; text-anchor:middle;\" transform=\"rotate(-90, 89.2861, 773.647)\" x=\"89.2861\" y=\"773.647\">error absoluto</text>\n",
       "</g>\n",
       "<circle clip-path=\"url(#clip3402)\" cx=\"377.495\" cy=\"238.701\" r=\"14\" fill=\"#009af9\" fill-rule=\"evenodd\" fill-opacity=\"0.7\" stroke=\"#000000\" stroke-opacity=\"0.7\" stroke-width=\"3.2\"/>\n",
       "<circle clip-path=\"url(#clip3402)\" cx=\"768.319\" cy=\"439.932\" r=\"14\" fill=\"#009af9\" fill-rule=\"evenodd\" fill-opacity=\"0.7\" stroke=\"#000000\" stroke-opacity=\"0.7\" stroke-width=\"3.2\"/>\n",
       "<circle clip-path=\"url(#clip3402)\" cx=\"996.936\" cy=\"570.313\" r=\"14\" fill=\"#009af9\" fill-rule=\"evenodd\" fill-opacity=\"0.7\" stroke=\"#000000\" stroke-opacity=\"0.7\" stroke-width=\"3.2\"/>\n",
       "<circle clip-path=\"url(#clip3402)\" cx=\"1159.14\" cy=\"666.857\" r=\"14\" fill=\"#009af9\" fill-rule=\"evenodd\" fill-opacity=\"0.7\" stroke=\"#000000\" stroke-opacity=\"0.7\" stroke-width=\"3.2\"/>\n",
       "<circle clip-path=\"url(#clip3402)\" cx=\"1284.96\" cy=\"743.519\" r=\"14\" fill=\"#009af9\" fill-rule=\"evenodd\" fill-opacity=\"0.7\" stroke=\"#000000\" stroke-opacity=\"0.7\" stroke-width=\"3.2\"/>\n",
       "<circle clip-path=\"url(#clip3402)\" cx=\"1387.76\" cy=\"807.09\" r=\"14\" fill=\"#009af9\" fill-rule=\"evenodd\" fill-opacity=\"0.7\" stroke=\"#000000\" stroke-opacity=\"0.7\" stroke-width=\"3.2\"/>\n",
       "<circle clip-path=\"url(#clip3402)\" cx=\"1474.68\" cy=\"861.388\" r=\"14\" fill=\"#009af9\" fill-rule=\"evenodd\" fill-opacity=\"0.7\" stroke=\"#000000\" stroke-opacity=\"0.7\" stroke-width=\"3.2\"/>\n",
       "<circle clip-path=\"url(#clip3402)\" cx=\"1549.97\" cy=\"908.773\" r=\"14\" fill=\"#009af9\" fill-rule=\"evenodd\" fill-opacity=\"0.7\" stroke=\"#000000\" stroke-opacity=\"0.7\" stroke-width=\"3.2\"/>\n",
       "<circle clip-path=\"url(#clip3402)\" cx=\"1616.38\" cy=\"950.807\" r=\"14\" fill=\"#009af9\" fill-rule=\"evenodd\" fill-opacity=\"0.7\" stroke=\"#000000\" stroke-opacity=\"0.7\" stroke-width=\"3.2\"/>\n",
       "<circle clip-path=\"url(#clip3402)\" cx=\"1675.78\" cy=\"988.575\" r=\"14\" fill=\"#009af9\" fill-rule=\"evenodd\" fill-opacity=\"0.7\" stroke=\"#000000\" stroke-opacity=\"0.7\" stroke-width=\"3.2\"/>\n",
       "<circle clip-path=\"url(#clip3402)\" cx=\"1729.52\" cy=\"1022.86\" r=\"14\" fill=\"#009af9\" fill-rule=\"evenodd\" fill-opacity=\"0.7\" stroke=\"#000000\" stroke-opacity=\"0.7\" stroke-width=\"3.2\"/>\n",
       "<circle clip-path=\"url(#clip3402)\" cx=\"1778.58\" cy=\"1054.26\" r=\"14\" fill=\"#009af9\" fill-rule=\"evenodd\" fill-opacity=\"0.7\" stroke=\"#000000\" stroke-opacity=\"0.7\" stroke-width=\"3.2\"/>\n",
       "<circle clip-path=\"url(#clip3402)\" cx=\"1823.71\" cy=\"1083.21\" r=\"14\" fill=\"#009af9\" fill-rule=\"evenodd\" fill-opacity=\"0.7\" stroke=\"#000000\" stroke-opacity=\"0.7\" stroke-width=\"3.2\"/>\n",
       "<circle clip-path=\"url(#clip3402)\" cx=\"1865.5\" cy=\"1110.08\" r=\"14\" fill=\"#009af9\" fill-rule=\"evenodd\" fill-opacity=\"0.7\" stroke=\"#000000\" stroke-opacity=\"0.7\" stroke-width=\"3.2\"/>\n",
       "<circle clip-path=\"url(#clip3402)\" cx=\"1904.4\" cy=\"1135.13\" r=\"14\" fill=\"#009af9\" fill-rule=\"evenodd\" fill-opacity=\"0.7\" stroke=\"#000000\" stroke-opacity=\"0.7\" stroke-width=\"3.2\"/>\n",
       "<circle clip-path=\"url(#clip3402)\" cx=\"1940.79\" cy=\"1158.6\" r=\"14\" fill=\"#009af9\" fill-rule=\"evenodd\" fill-opacity=\"0.7\" stroke=\"#000000\" stroke-opacity=\"0.7\" stroke-width=\"3.2\"/>\n",
       "<circle clip-path=\"url(#clip3402)\" cx=\"1974.97\" cy=\"1180.69\" r=\"14\" fill=\"#009af9\" fill-rule=\"evenodd\" fill-opacity=\"0.7\" stroke=\"#000000\" stroke-opacity=\"0.7\" stroke-width=\"3.2\"/>\n",
       "<circle clip-path=\"url(#clip3402)\" cx=\"2007.2\" cy=\"1201.53\" r=\"14\" fill=\"#009af9\" fill-rule=\"evenodd\" fill-opacity=\"0.7\" stroke=\"#000000\" stroke-opacity=\"0.7\" stroke-width=\"3.2\"/>\n",
       "<circle clip-path=\"url(#clip3402)\" cx=\"2037.69\" cy=\"1221.27\" r=\"14\" fill=\"#009af9\" fill-rule=\"evenodd\" fill-opacity=\"0.7\" stroke=\"#000000\" stroke-opacity=\"0.7\" stroke-width=\"3.2\"/>\n",
       "<circle clip-path=\"url(#clip3402)\" cx=\"2066.61\" cy=\"1240.01\" r=\"14\" fill=\"#009af9\" fill-rule=\"evenodd\" fill-opacity=\"0.7\" stroke=\"#000000\" stroke-opacity=\"0.7\" stroke-width=\"3.2\"/>\n",
       "<circle clip-path=\"url(#clip3402)\" cx=\"2094.12\" cy=\"1257.86\" r=\"14\" fill=\"#009af9\" fill-rule=\"evenodd\" fill-opacity=\"0.7\" stroke=\"#000000\" stroke-opacity=\"0.7\" stroke-width=\"3.2\"/>\n",
       "<circle clip-path=\"url(#clip3402)\" cx=\"2120.35\" cy=\"1274.89\" r=\"14\" fill=\"#009af9\" fill-rule=\"evenodd\" fill-opacity=\"0.7\" stroke=\"#000000\" stroke-opacity=\"0.7\" stroke-width=\"3.2\"/>\n",
       "<circle clip-path=\"url(#clip3402)\" cx=\"2145.41\" cy=\"1291.17\" r=\"14\" fill=\"#009af9\" fill-rule=\"evenodd\" fill-opacity=\"0.7\" stroke=\"#000000\" stroke-opacity=\"0.7\" stroke-width=\"3.2\"/>\n",
       "<circle clip-path=\"url(#clip3402)\" cx=\"2169.41\" cy=\"1306.77\" r=\"14\" fill=\"#009af9\" fill-rule=\"evenodd\" fill-opacity=\"0.7\" stroke=\"#000000\" stroke-opacity=\"0.7\" stroke-width=\"3.2\"/>\n",
       "<circle clip-path=\"url(#clip3402)\" cx=\"2192.42\" cy=\"1321.74\" r=\"14\" fill=\"#009af9\" fill-rule=\"evenodd\" fill-opacity=\"0.7\" stroke=\"#000000\" stroke-opacity=\"0.7\" stroke-width=\"3.2\"/>\n",
       "<circle clip-path=\"url(#clip3402)\" cx=\"2214.54\" cy=\"1336.14\" r=\"14\" fill=\"#009af9\" fill-rule=\"evenodd\" fill-opacity=\"0.7\" stroke=\"#000000\" stroke-opacity=\"0.7\" stroke-width=\"3.2\"/>\n",
       "<circle clip-path=\"url(#clip3402)\" cx=\"2235.82\" cy=\"1349.99\" r=\"14\" fill=\"#009af9\" fill-rule=\"evenodd\" fill-opacity=\"0.7\" stroke=\"#000000\" stroke-opacity=\"0.7\" stroke-width=\"3.2\"/>\n",
       "<circle clip-path=\"url(#clip3402)\" cx=\"2256.32\" cy=\"1363.35\" r=\"14\" fill=\"#009af9\" fill-rule=\"evenodd\" fill-opacity=\"0.7\" stroke=\"#000000\" stroke-opacity=\"0.7\" stroke-width=\"3.2\"/>\n",
       "<circle clip-path=\"url(#clip3402)\" cx=\"2276.11\" cy=\"1376.25\" r=\"14\" fill=\"#009af9\" fill-rule=\"evenodd\" fill-opacity=\"0.7\" stroke=\"#000000\" stroke-opacity=\"0.7\" stroke-width=\"3.2\"/>\n",
       "<circle clip-path=\"url(#clip3402)\" cx=\"2295.22\" cy=\"1388.71\" r=\"14\" fill=\"#009af9\" fill-rule=\"evenodd\" fill-opacity=\"0.7\" stroke=\"#000000\" stroke-opacity=\"0.7\" stroke-width=\"3.2\"/>\n",
       "<circle clip-path=\"url(#clip3402)\" cx=\"377.495\" cy=\"158.579\" r=\"14\" fill=\"#e26f46\" fill-rule=\"evenodd\" fill-opacity=\"0.7\" stroke=\"#000000\" stroke-opacity=\"0.7\" stroke-width=\"3.2\"/>\n",
       "<circle clip-path=\"url(#clip3402)\" cx=\"768.319\" cy=\"378.812\" r=\"14\" fill=\"#e26f46\" fill-rule=\"evenodd\" fill-opacity=\"0.7\" stroke=\"#000000\" stroke-opacity=\"0.7\" stroke-width=\"3.2\"/>\n",
       "<circle clip-path=\"url(#clip3402)\" cx=\"996.936\" cy=\"519.864\" r=\"14\" fill=\"#e26f46\" fill-rule=\"evenodd\" fill-opacity=\"0.7\" stroke=\"#000000\" stroke-opacity=\"0.7\" stroke-width=\"3.2\"/>\n",
       "<circle clip-path=\"url(#clip3402)\" cx=\"1159.14\" cy=\"623.031\" r=\"14\" fill=\"#e26f46\" fill-rule=\"evenodd\" fill-opacity=\"0.7\" stroke=\"#000000\" stroke-opacity=\"0.7\" stroke-width=\"3.2\"/>\n",
       "<circle clip-path=\"url(#clip3402)\" cx=\"1284.96\" cy=\"704.16\" r=\"14\" fill=\"#e26f46\" fill-rule=\"evenodd\" fill-opacity=\"0.7\" stroke=\"#000000\" stroke-opacity=\"0.7\" stroke-width=\"3.2\"/>\n",
       "<circle clip-path=\"url(#clip3402)\" cx=\"1387.76\" cy=\"770.934\" r=\"14\" fill=\"#e26f46\" fill-rule=\"evenodd\" fill-opacity=\"0.7\" stroke=\"#000000\" stroke-opacity=\"0.7\" stroke-width=\"3.2\"/>\n",
       "<circle clip-path=\"url(#clip3402)\" cx=\"1474.68\" cy=\"827.636\" r=\"14\" fill=\"#e26f46\" fill-rule=\"evenodd\" fill-opacity=\"0.7\" stroke=\"#000000\" stroke-opacity=\"0.7\" stroke-width=\"3.2\"/>\n",
       "<circle clip-path=\"url(#clip3402)\" cx=\"1549.97\" cy=\"876.89\" r=\"14\" fill=\"#e26f46\" fill-rule=\"evenodd\" fill-opacity=\"0.7\" stroke=\"#000000\" stroke-opacity=\"0.7\" stroke-width=\"3.2\"/>\n",
       "<circle clip-path=\"url(#clip3402)\" cx=\"1616.38\" cy=\"920.417\" r=\"14\" fill=\"#e26f46\" fill-rule=\"evenodd\" fill-opacity=\"0.7\" stroke=\"#000000\" stroke-opacity=\"0.7\" stroke-width=\"3.2\"/>\n",
       "<circle clip-path=\"url(#clip3402)\" cx=\"1675.78\" cy=\"959.405\" r=\"14\" fill=\"#e26f46\" fill-rule=\"evenodd\" fill-opacity=\"0.7\" stroke=\"#000000\" stroke-opacity=\"0.7\" stroke-width=\"3.2\"/>\n",
       "<circle clip-path=\"url(#clip3402)\" cx=\"1729.52\" cy=\"994.708\" r=\"14\" fill=\"#e26f46\" fill-rule=\"evenodd\" fill-opacity=\"0.7\" stroke=\"#000000\" stroke-opacity=\"0.7\" stroke-width=\"3.2\"/>\n",
       "<circle clip-path=\"url(#clip3402)\" cx=\"1778.58\" cy=\"1026.96\" r=\"14\" fill=\"#e26f46\" fill-rule=\"evenodd\" fill-opacity=\"0.7\" stroke=\"#000000\" stroke-opacity=\"0.7\" stroke-width=\"3.2\"/>\n",
       "<circle clip-path=\"url(#clip3402)\" cx=\"1823.71\" cy=\"1056.65\" r=\"14\" fill=\"#e26f46\" fill-rule=\"evenodd\" fill-opacity=\"0.7\" stroke=\"#000000\" stroke-opacity=\"0.7\" stroke-width=\"3.2\"/>\n",
       "<circle clip-path=\"url(#clip3402)\" cx=\"1865.5\" cy=\"1084.15\" r=\"14\" fill=\"#e26f46\" fill-rule=\"evenodd\" fill-opacity=\"0.7\" stroke=\"#000000\" stroke-opacity=\"0.7\" stroke-width=\"3.2\"/>\n",
       "<circle clip-path=\"url(#clip3402)\" cx=\"1904.4\" cy=\"1109.76\" r=\"14\" fill=\"#e26f46\" fill-rule=\"evenodd\" fill-opacity=\"0.7\" stroke=\"#000000\" stroke-opacity=\"0.7\" stroke-width=\"3.2\"/>\n",
       "<circle clip-path=\"url(#clip3402)\" cx=\"1940.79\" cy=\"1133.72\" r=\"14\" fill=\"#e26f46\" fill-rule=\"evenodd\" fill-opacity=\"0.7\" stroke=\"#000000\" stroke-opacity=\"0.7\" stroke-width=\"3.2\"/>\n",
       "<circle clip-path=\"url(#clip3402)\" cx=\"1974.97\" cy=\"1156.23\" r=\"14\" fill=\"#e26f46\" fill-rule=\"evenodd\" fill-opacity=\"0.7\" stroke=\"#000000\" stroke-opacity=\"0.7\" stroke-width=\"3.2\"/>\n",
       "<circle clip-path=\"url(#clip3402)\" cx=\"2007.2\" cy=\"1177.47\" r=\"14\" fill=\"#e26f46\" fill-rule=\"evenodd\" fill-opacity=\"0.7\" stroke=\"#000000\" stroke-opacity=\"0.7\" stroke-width=\"3.2\"/>\n",
       "<circle clip-path=\"url(#clip3402)\" cx=\"2037.69\" cy=\"1197.55\" r=\"14\" fill=\"#e26f46\" fill-rule=\"evenodd\" fill-opacity=\"0.7\" stroke=\"#000000\" stroke-opacity=\"0.7\" stroke-width=\"3.2\"/>\n",
       "<circle clip-path=\"url(#clip3402)\" cx=\"2066.61\" cy=\"1216.61\" r=\"14\" fill=\"#e26f46\" fill-rule=\"evenodd\" fill-opacity=\"0.7\" stroke=\"#000000\" stroke-opacity=\"0.7\" stroke-width=\"3.2\"/>\n",
       "<circle clip-path=\"url(#clip3402)\" cx=\"2094.12\" cy=\"1234.74\" r=\"14\" fill=\"#e26f46\" fill-rule=\"evenodd\" fill-opacity=\"0.7\" stroke=\"#000000\" stroke-opacity=\"0.7\" stroke-width=\"3.2\"/>\n",
       "<circle clip-path=\"url(#clip3402)\" cx=\"2120.35\" cy=\"1252.03\" r=\"14\" fill=\"#e26f46\" fill-rule=\"evenodd\" fill-opacity=\"0.7\" stroke=\"#000000\" stroke-opacity=\"0.7\" stroke-width=\"3.2\"/>\n",
       "<circle clip-path=\"url(#clip3402)\" cx=\"2145.41\" cy=\"1268.56\" r=\"14\" fill=\"#e26f46\" fill-rule=\"evenodd\" fill-opacity=\"0.7\" stroke=\"#000000\" stroke-opacity=\"0.7\" stroke-width=\"3.2\"/>\n",
       "<circle clip-path=\"url(#clip3402)\" cx=\"2169.41\" cy=\"1284.38\" r=\"14\" fill=\"#e26f46\" fill-rule=\"evenodd\" fill-opacity=\"0.7\" stroke=\"#000000\" stroke-opacity=\"0.7\" stroke-width=\"3.2\"/>\n",
       "<circle clip-path=\"url(#clip3402)\" cx=\"2192.42\" cy=\"1299.55\" r=\"14\" fill=\"#e26f46\" fill-rule=\"evenodd\" fill-opacity=\"0.7\" stroke=\"#000000\" stroke-opacity=\"0.7\" stroke-width=\"3.2\"/>\n",
       "<circle clip-path=\"url(#clip3402)\" cx=\"2214.54\" cy=\"1314.13\" r=\"14\" fill=\"#e26f46\" fill-rule=\"evenodd\" fill-opacity=\"0.7\" stroke=\"#000000\" stroke-opacity=\"0.7\" stroke-width=\"3.2\"/>\n",
       "<circle clip-path=\"url(#clip3402)\" cx=\"2235.82\" cy=\"1328.17\" r=\"14\" fill=\"#e26f46\" fill-rule=\"evenodd\" fill-opacity=\"0.7\" stroke=\"#000000\" stroke-opacity=\"0.7\" stroke-width=\"3.2\"/>\n",
       "<circle clip-path=\"url(#clip3402)\" cx=\"2256.32\" cy=\"1341.69\" r=\"14\" fill=\"#e26f46\" fill-rule=\"evenodd\" fill-opacity=\"0.7\" stroke=\"#000000\" stroke-opacity=\"0.7\" stroke-width=\"3.2\"/>\n",
       "<circle clip-path=\"url(#clip3402)\" cx=\"2276.11\" cy=\"1354.74\" r=\"14\" fill=\"#e26f46\" fill-rule=\"evenodd\" fill-opacity=\"0.7\" stroke=\"#000000\" stroke-opacity=\"0.7\" stroke-width=\"3.2\"/>\n",
       "<circle clip-path=\"url(#clip3402)\" cx=\"2295.22\" cy=\"1367.34\" r=\"14\" fill=\"#e26f46\" fill-rule=\"evenodd\" fill-opacity=\"0.7\" stroke=\"#000000\" stroke-opacity=\"0.7\" stroke-width=\"3.2\"/>\n",
       "<path clip-path=\"url(#clip3400)\" d=\"\n",
       "M1888.27 386.635 L2280.76 386.635 L2280.76 205.195 L1888.27 205.195  Z\n",
       "  \" fill=\"#ffffff\" fill-rule=\"evenodd\" fill-opacity=\"1\"/>\n",
       "<polyline clip-path=\"url(#clip3400)\" style=\"stroke:#000000; stroke-width:4; stroke-opacity:1; fill:none\" points=\"\n",
       "  1888.27,386.635 2280.76,386.635 2280.76,205.195 1888.27,205.195 1888.27,386.635 \n",
       "  \"/>\n",
       "<circle clip-path=\"url(#clip3400)\" cx=\"1996.27\" cy=\"265.675\" r=\"21\" fill=\"#009af9\" fill-rule=\"evenodd\" fill-opacity=\"0.7\" stroke=\"#000000\" stroke-opacity=\"0.7\" stroke-width=\"3.2\"/>\n",
       "<g clip-path=\"url(#clip3400)\">\n",
       "<text style=\"fill:#000000; fill-opacity:1; font-family:Arial,Helvetica Neue,Helvetica,sans-serif; font-size:48px; text-anchor:start;\" transform=\"rotate(0, 2080.27, 283.175)\" x=\"2080.27\" y=\"283.175\">Basel</text>\n",
       "</g>\n",
       "<circle clip-path=\"url(#clip3400)\" cx=\"1996.27\" cy=\"326.155\" r=\"21\" fill=\"#e26f46\" fill-rule=\"evenodd\" fill-opacity=\"0.7\" stroke=\"#000000\" stroke-opacity=\"0.7\" stroke-width=\"3.2\"/>\n",
       "<g clip-path=\"url(#clip3400)\">\n",
       "<text style=\"fill:#000000; fill-opacity:1; font-family:Arial,Helvetica Neue,Helvetica,sans-serif; font-size:48px; text-anchor:start;\" transform=\"rotate(0, 2080.27, 343.655)\" x=\"2080.27\" y=\"343.655\">Leibniz</text>\n",
       "</g>\n",
       "</svg>\n"
      ]
     },
     "execution_count": 81,
     "metadata": {},
     "output_type": "execute_result"
    }
   ],
   "source": [
    "comparacion(30)"
   ]
  },
  {
   "cell_type": "markdown",
   "metadata": {},
   "source": [
    "Hacer el análisis anterior, nos muestra que el error relativo disminuye más rápido con la serie de Besel que con la de Leibniz. **Este análisis nos muestra que es mejor utilizar una aproximación que otra**, es decir, que una **converge más rápidamente a la solución**"
   ]
  },
  {
   "cell_type": "markdown",
   "metadata": {},
   "source": [
    "## Estabilidad"
   ]
  },
  {
   "cell_type": "markdown",
   "metadata": {},
   "source": [
    "Hay problemas matemáticos que tienen problemas de **estabilidad**. Es decir, que cambios pequeños en los parámetros del problema traen cambios **muy, muy grandes** en sus soluciones."
   ]
  },
  {
   "cell_type": "markdown",
   "metadata": {},
   "source": [
    "### Ejemplo: ecuaciones lineales\n",
    "\n",
    "Sistema 1\n",
    "\\begin{cases}\n",
    "x + y &= 2.0  \\\\\n",
    "x + 1.01y &= 2.01 \\\\\n",
    "\\end{cases}\n",
    "\n",
    "Solución: $x = 1$, $y=1$"
   ]
  },
  {
   "cell_type": "markdown",
   "metadata": {},
   "source": [
    "#### ¿Qué pasa si cambio ligeramente el resultado de la segunda ecuación?\n",
    "Sistema 2\n",
    "\\begin{cases}\n",
    "x + y &= 2.0 \\\\\n",
    "x + 1.01y &= 2.02 \\\\\n",
    "\\end{cases}\n",
    "\n",
    "Solución: $x = 0$, $y = 2$"
   ]
  },
  {
   "cell_type": "markdown",
   "metadata": {},
   "source": [
    "### ¿Qué acaba de pasar? ¿Por que las soluciones a ambos sistemas son taaan distintas si los sistemas son casi iguales?\n",
    "\n",
    "Aunque cambiamos un valor en un orden de magnitud muy pequeño ($10^{-2}$), las soluciones al sistema cambiaron mucho (en sentido **relativo**, hubo un cambio de 100 % en las soluciones) \n",
    "\n",
    "Cuando un problema matemático tiene esta propiedad de que sus resultados son muy sensibles a cambios en sus condiciones, decimos que el sistema es **inestable** (*ill-posed*)"
   ]
  },
  {
   "cell_type": "markdown",
   "metadata": {},
   "source": [
    "Trabajar con sistemas inestables es **muy,muy difícil**. Existe toda una rama de la matemática que trabaja con esos problemas y es la llamada **teoría del caos**. En particular, por los errores numéricos (de aproximación y de redondeo) que hay a la hora de hacer cómputo científico, si nos enfretamos a problemas intestables es muy probable que las soluciones que obtengamos tengan un error muy grande o sean muy distantes de las soluciones analíticas reales."
   ]
  },
  {
   "cell_type": "markdown",
   "metadata": {},
   "source": [
    "En el curso, **casi nunca** vamos a trabajar con sistemas inestables para evitar estos problemas"
   ]
  },
  {
   "cell_type": "markdown",
   "metadata": {},
   "source": [
    "### Ejercicios\n",
    "\n",
    "4. Investiga y enuncia el teorema de Taylor. Es decir, el teorema mediante el cuál podemos aproximar una función $k$-veces derivable como un polinomio de grado $k$.\n",
    "\n",
    "5. Compara las velocidades de convergencia de los siguients métodos para calcular $e$\n",
    "\n",
    "* $\\sum_{k=0}^{\\infty} \\frac{1}{k!}$\n",
    "* $\\lim_{n \\to \\infty} \\left( 1 + \\frac{1}{n} \\right)^n$\n",
    "\n"
   ]
  },
  {
   "cell_type": "code",
   "execution_count": null,
   "metadata": {},
   "outputs": [],
   "source": []
  }
 ],
 "metadata": {
  "kernelspec": {
   "display_name": "Julia 1.4.2",
   "language": "julia",
   "name": "julia-1.4"
  },
  "language_info": {
   "file_extension": ".jl",
   "mimetype": "application/julia",
   "name": "julia",
   "version": "1.4.2"
  }
 },
 "nbformat": 4,
 "nbformat_minor": 4
}
