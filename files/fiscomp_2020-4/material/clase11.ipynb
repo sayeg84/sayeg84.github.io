{
 "cells": [
  {
   "cell_type": "markdown",
   "metadata": {},
   "source": [
    "# Álgebra Lineal Numérica"
   ]
  },
  {
   "cell_type": "markdown",
   "metadata": {},
   "source": [
    "El álgebra lineal es el área de las matemáticas que estudia los espacios vectoriales y las transformaciones lineales entre dichos espacios. Independientemente del espacio vectorial que trabajemos, mientras sea de dimensión finita, todos elementos del espacio se pueden representar como un **vector** (una $n$-ada de elementos del campo del espacio) y toda transofmación lineal se representa como una **matriz** (una colección de $n \\times n$ elementos del campo del espacio)"
   ]
  },
  {
   "cell_type": "markdown",
   "metadata": {},
   "source": [
    "## El problema $\\mathbf{Ax}=\\mathbf{b}$ y sus equivalencias"
   ]
  },
  {
   "cell_type": "markdown",
   "metadata": {},
   "source": [
    "En matemáticas y física, muchas veces surgen problemas en los que tenemos que resolver un sistema de ecuaciones lineales de la siguiente forma:\n",
    "\n",
    "$$\n",
    "\\begin{align}\n",
    "a_{11} x_1 + a_{12} x_2 + \\ldots + a_{1n} x_n &= b_1 \\\\\n",
    "a_{21} x_1 + a_{22} x_2 + \\ldots + a_{2n} x_n &= b_2 \\\\\n",
    "\\vdots \\quad \\quad \\quad \\vdots \\quad \\quad \\quad \\vdots \\\\\n",
    "a_{n1} x_1 + a_{n2} x_2 + \\ldots + a_{nn} x_n &= b_n \\\\\n",
    "\\end{align}\n",
    "$$\n",
    "\n",
    "Que se pueden representar, de forma matricial, como\n",
    "\n",
    "$$\n",
    " \\begin{pmatrix}\n",
    "  a_{1,1} & a_{1,2} & \\cdots & a_{1,n} \\\\\n",
    "  a_{2,1} & a_{2,2} & \\cdots & a_{2,n} \\\\\n",
    "  \\vdots  & \\vdots  & \\ddots & \\vdots  \\\\\n",
    "  a_{n,1} & a_{n,2} & \\cdots & a_{n,n} \n",
    " \\end{pmatrix} \n",
    " \\begin{pmatrix}\n",
    " x_1 \\\\\n",
    " x_2 \\\\\n",
    " \\vdots \\\\\n",
    " x_n\n",
    " \\end{pmatrix} \n",
    " =\n",
    " \\begin{pmatrix}\n",
    " b_1 \\\\\n",
    " b_2 \\\\\n",
    " \\vdots \\\\\n",
    " b_n\n",
    " \\end{pmatrix} \n",
    "$$\n",
    "\n",
    "\n",
    "Si definimos\n",
    "\n",
    "$$\n",
    "\\mathbf{A} = \n",
    "\\begin{pmatrix}\n",
    "  a_{1,1} & a_{1,2} & \\cdots & a_{1,n} \\\\\n",
    "  a_{2,1} & a_{2,2} & \\cdots & a_{2,n} \\\\\n",
    "  \\vdots  & \\vdots  & \\ddots & \\vdots  \\\\\n",
    "  a_{n,1} & a_{n,2} & \\cdots & a_{n,n} \n",
    " \\end{pmatrix} \\quad , \\quad \\mathbf{x} = \\begin{pmatrix}\n",
    " x_1 \\\\\n",
    " x_2 \\\\\n",
    " \\vdots \\\\\n",
    " x_n\n",
    " \\end{pmatrix} \\quad \\text{y} \\quad \\mathbf{b}= \\begin{pmatrix}\n",
    " b_1 \\\\\n",
    " b_2 \\\\\n",
    " \\vdots \\\\\n",
    " b_n\n",
    " \\end{pmatrix} $$\n",
    " \n",
    " Podemos escribir el sistema de manera compacta:\n",
    " \n",
    " $$\\mathbf{Ax} = \\mathbf{b}$$"
   ]
  },
  {
   "cell_type": "markdown",
   "metadata": {},
   "source": [
    "### Equivalencias del problema\n",
    "\n",
    "Muchos problemas de álgebra lineal se pueden plantear como problemas de resolver un sistema de ecuaciones lineales. Por ejemplo:\n",
    "\n",
    "* Encontrar la inversa de una matriz, es decir, encontrar $\\mathbf{B}$ tal que $\\mathbf{A}\\mathbf{B} = \\mathbf{Id}$\n",
    "\n",
    "* Encontrar intersecciones de rectas o planos en el espacio\n",
    "\n",
    "* Encontrar matrices de cambio de base.\n",
    "\n",
    "* Encontrar los coeficientes una transformación lineal aplicada en $n$ vectores linealmente independientes\n",
    "\n",
    "* Resolver ecuaciones diferenciales (parciales y ordinarias) discretizadas o numéricas.\n",
    "\n",
    "### Sistemas de ecuaciones lineales problemáticos\n",
    "\n",
    "En principio, no necesariamente se da el caso donde la matriz $A$ es de $n\\times n$, puede suceder que tengamos menos o más ecuaciones que incógnitas. Tratar con esos casos es **complicado**. Así, siempre vamos a realizar la suposición de que *la matriz es de $n\\times n$*.\n",
    "\n",
    "Aunque nuestra matriz $A$ sea de $n\\times n$, puede darse el caso de que nuestro sistema de ecuaciones lineales **no acepte una solución única**. Nuevamente, por simplicidad, siempre asumiremos que nuestro sistema admite una solución **única**. Condiciones equivalentes para eso son:\n",
    "\n",
    "* $\\mathbf{A}$ es invertible\n",
    "\n",
    "* $\\text{det}(\\mathbf{A}) \\neq 0$ \n",
    "\n",
    "* $\\text{rango}(\\mathbf{A}) = n$"
   ]
  },
  {
   "cell_type": "markdown",
   "metadata": {},
   "source": [
    "## ¿Cómo resolvemos un sistema lineal? \n",
    "\n",
    "Existen varias maneras analíticas y exactas de resolver un sistema de ecuaciones lineales (Regla de Kraemer, Eliminación Gaussiana, Sustitución, etc). Sin embargo, la gran mayoría de ellas son **tediosas**, **mecánicas** y largas de realizar manualmente. En particular, cuando tenemos más de $4$ ecuaciones, se vuelve extremadamente tedioso resolverlas.\n",
    "\n",
    "Debido a su tediosidad y a su importancia en todas las ramas, resulta ideal utilizar la computadora para resolver dichos sistemas. "
   ]
  },
  {
   "cell_type": "markdown",
   "metadata": {},
   "source": [
    "## Preludio computacional: vectores y matrices en Julia"
   ]
  },
  {
   "cell_type": "markdown",
   "metadata": {},
   "source": [
    "En Julia podemos trabajar de manera nativa con matrices y vectores. Es claro que un **arreglo de flotantes** puede interpretarse como un **vector** por ser un conjunto ordenado de elementos del mismo tipo.\n",
    "\n",
    "Dentro de Julia, es posible operar a los arreglos entre sí de la misma manera que operamos a los vectores: con suma y producto por un escalar"
   ]
  },
  {
   "cell_type": "code",
   "execution_count": 61,
   "metadata": {},
   "outputs": [
    {
     "name": "stdout",
     "output_type": "stream",
     "text": [
      "suma: [2.0, 1.0, 1.0]\n",
      "producto por un escalar: [5.0, 5.0, 0.0]\n"
     ]
    }
   ],
   "source": [
    "vec1 = [1.0,1.0,0.0]\n",
    "vec2 = [1.0,0.0,1.0]\n",
    "print(\"suma: \")\n",
    "println(vec1+vec2)\n",
    "alpha = 5.0\n",
    "print(\"producto por un escalar: \")\n",
    "println(alpha*vec1)"
   ]
  },
  {
   "cell_type": "markdown",
   "metadata": {},
   "source": [
    "Para representar a las matrices, una de las ventajas de Julia es que podemos construir **arreglos $n$-dimensionales**. Por ahora, nos basta con construir arreglos $2$ dimensionales. La sintaxis para construir un arreglo 2 dimensional de manera explícita es la siguiente:"
   ]
  },
  {
   "cell_type": "code",
   "execution_count": 62,
   "metadata": {},
   "outputs": [
    {
     "data": {
      "text/plain": [
       "2×3 Array{Float64,2}:\n",
       " 1.0  2.0  3.0\n",
       " 4.0  5.0  6.0"
      ]
     },
     "execution_count": 62,
     "metadata": {},
     "output_type": "execute_result"
    }
   ],
   "source": [
    "# ponemos los renglones como arreglos 1D separados por ESPACIOS, no por comas\n",
    "# cada renglon se separa entre sí por un punto y coma\n",
    "A = [[1.0 2.0 3.0] ; [4.0 5.0 6.0] ]"
   ]
  },
  {
   "cell_type": "markdown",
   "metadata": {},
   "source": [
    "Podemos concatenar también vectores de manera horizontal (i.e. como si fueran columnas) para construir una matriz, utilizando la siguiente sintaxis"
   ]
  },
  {
   "cell_type": "code",
   "execution_count": 16,
   "metadata": {},
   "outputs": [
    {
     "data": {
      "text/plain": [
       "3×2 Array{Float64,2}:\n",
       " 1.0  1.0\n",
       " 1.0  0.0\n",
       " 0.0  1.0"
      ]
     },
     "execution_count": 16,
     "metadata": {},
     "output_type": "execute_result"
    }
   ],
   "source": [
    "A2 = [vec1 vec2]"
   ]
  },
  {
   "cell_type": "markdown",
   "metadata": {},
   "source": [
    "Es posible transponer una matriz utilizando la función `transpose`"
   ]
  },
  {
   "cell_type": "code",
   "execution_count": 17,
   "metadata": {},
   "outputs": [
    {
     "data": {
      "text/plain": [
       "2×3 LinearAlgebra.Transpose{Float64,Array{Float64,2}}:\n",
       " 1.0  1.0  0.0\n",
       " 1.0  0.0  1.0"
      ]
     },
     "execution_count": 17,
     "metadata": {},
     "output_type": "execute_result"
    }
   ],
   "source": [
    "transpose(A2)"
   ]
  },
  {
   "cell_type": "markdown",
   "metadata": {},
   "source": [
    "Si ahora nos preguntamos cuál es el tipo de una matriz, podemos usar la función `typeof`"
   ]
  },
  {
   "cell_type": "code",
   "execution_count": 8,
   "metadata": {},
   "outputs": [
    {
     "data": {
      "text/plain": [
       "Array{Float64,2}"
      ]
     },
     "execution_count": 8,
     "metadata": {},
     "output_type": "execute_result"
    }
   ],
   "source": [
    "typeof(A)"
   ]
  },
  {
   "cell_type": "markdown",
   "metadata": {},
   "source": [
    "Notemos que ahora la función `typeof(A)` nos muestra un `2` después de `Float64`, lo que nos indica que nuestro objeto `A` es un arreglo de dimensión 2. Para los vectores normales, utilizamos arreglos de dimensión $1$. Las dimensiones del arreglo se pueden consultar con la función `size`"
   ]
  },
  {
   "cell_type": "code",
   "execution_count": 63,
   "metadata": {},
   "outputs": [
    {
     "data": {
      "text/plain": [
       "(3, 2)"
      ]
     },
     "execution_count": 63,
     "metadata": {},
     "output_type": "execute_result"
    }
   ],
   "source": [
    "size(A2)"
   ]
  },
  {
   "cell_type": "markdown",
   "metadata": {},
   "source": [
    "Podemos multiplicar una matrix por un vector si coinciden las dimensiones"
   ]
  },
  {
   "cell_type": "code",
   "execution_count": 24,
   "metadata": {},
   "outputs": [
    {
     "name": "stdout",
     "output_type": "stream",
     "text": [
      "[1, 2, 7]\n"
     ]
    }
   ],
   "source": [
    "# matriz de 3x3\n",
    "A4 = [[1 2 3] ; [2 4 5] ; [7 8 9]]\n",
    "# vector de 3 entradas\n",
    "vec = [1,0,0]\n",
    "# su multiplicación\n",
    "println(A4*vec)"
   ]
  },
  {
   "cell_type": "code",
   "execution_count": 29,
   "metadata": {},
   "outputs": [
    {
     "name": "stdout",
     "output_type": "stream",
     "text": [
      "[0, 1, 2, 7]\n"
     ]
    }
   ],
   "source": [
    "# matriz de 4x3\n",
    "A5 = [[0 1 4] ; [1 2 3] ; [2 4 5] ; [7 8 9]]\n",
    "# vector de 3 entradas\n",
    "vec = [1,0,0]\n",
    "# su multiplicación\n",
    "println(A5*vec)"
   ]
  },
  {
   "cell_type": "markdown",
   "metadata": {},
   "source": [
    "Si no coinciden las columnas de la matriz con la longitud del vector, intentar la multiplicación nos arrojará un error:"
   ]
  },
  {
   "cell_type": "code",
   "execution_count": 64,
   "metadata": {},
   "outputs": [
    {
     "ename": "DimensionMismatch",
     "evalue": "DimensionMismatch(\"matrix A has dimensions (3,2), vector B has length 3\")",
     "output_type": "error",
     "traceback": [
      "DimensionMismatch(\"matrix A has dimensions (3,2), vector B has length 3\")",
      "",
      "Stacktrace:",
      " [1] generic_matvecmul!(::Array{Int64,1}, ::Char, ::Array{Int64,2}, ::Array{Int64,1}, ::LinearAlgebra.MulAddMul{true,true,Bool,Bool}) at D:\\buildbot\\worker\\package_win64\\build\\usr\\share\\julia\\stdlib\\v1.4\\LinearAlgebra\\src\\matmul.jl:639",
      " [2] mul! at D:\\buildbot\\worker\\package_win64\\build\\usr\\share\\julia\\stdlib\\v1.4\\LinearAlgebra\\src\\matmul.jl:81 [inlined]",
      " [3] mul! at D:\\buildbot\\worker\\package_win64\\build\\usr\\share\\julia\\stdlib\\v1.4\\LinearAlgebra\\src\\matmul.jl:208 [inlined]",
      " [4] *(::Array{Int64,2}, ::Array{Int64,1}) at D:\\buildbot\\worker\\package_win64\\build\\usr\\share\\julia\\stdlib\\v1.4\\LinearAlgebra\\src\\matmul.jl:51",
      " [5] top-level scope at In[64]:5"
     ]
    }
   ],
   "source": [
    "# matriz de 3x2\n",
    "A6 = [[1 2] ; [2 4] ; [7 8]]\n",
    "# vector de 3 entradas\n",
    "vec = [1,0,0]\n",
    "# no está definida la multiplicación\n",
    "println(A6*vec)"
   ]
  },
  {
   "cell_type": "markdown",
   "metadata": {},
   "source": [
    "Si le pedimos a Julia que nos imprima una matriz, el formato es bastante feo"
   ]
  },
  {
   "cell_type": "code",
   "execution_count": 65,
   "metadata": {},
   "outputs": [
    {
     "name": "stdout",
     "output_type": "stream",
     "text": [
      "[1 2; 2 4; 7 8]\n"
     ]
    }
   ],
   "source": [
    "# impresión fea\n",
    "println(A6)"
   ]
  },
  {
   "cell_type": "markdown",
   "metadata": {},
   "source": [
    "Podemos utilizar la función `display(A)` para imprimirlo como una matriz. La sintaxis es la siguiente:"
   ]
  },
  {
   "cell_type": "code",
   "execution_count": 66,
   "metadata": {},
   "outputs": [
    {
     "data": {
      "text/plain": [
       "3×2 Array{Int64,2}:\n",
       " 1  2\n",
       " 2  4\n",
       " 7  8"
      ]
     },
     "metadata": {},
     "output_type": "display_data"
    }
   ],
   "source": [
    "# impresión bonita\n",
    "display(A6)"
   ]
  },
  {
   "cell_type": "markdown",
   "metadata": {},
   "source": [
    "Para acceder a los elementos de una matriz, utilizamos la sintaxis `A[i,j]`"
   ]
  },
  {
   "cell_type": "code",
   "execution_count": 38,
   "metadata": {},
   "outputs": [
    {
     "data": {
      "text/plain": [
       "2×3 Array{Float64,2}:\n",
       " 1.0  2.0  3.0\n",
       " 4.0  5.0  6.0"
      ]
     },
     "metadata": {},
     "output_type": "display_data"
    },
    {
     "name": "stdout",
     "output_type": "stream",
     "text": [
      "2.0\n",
      "6.0\n"
     ]
    }
   ],
   "source": [
    "display(A)\n",
    "println(A[1,2])\n",
    "println(A[2,3])"
   ]
  },
  {
   "cell_type": "markdown",
   "metadata": {},
   "source": [
    "Podemos acceder a renglones o columnas completos utilizando `:` en lugar de `i` o `j`, respectivamente"
   ]
  },
  {
   "cell_type": "code",
   "execution_count": 41,
   "metadata": {},
   "outputs": [
    {
     "name": "stdout",
     "output_type": "stream",
     "text": [
      "[1.0, 2.0, 3.0]\n",
      "[3.0, 6.0]\n"
     ]
    }
   ],
   "source": [
    "# primera renglón\n",
    "println(A[1,:])\n",
    "# tercer columna\n",
    "println(A[:,3])"
   ]
  },
  {
   "cell_type": "markdown",
   "metadata": {},
   "source": [
    "Notemos que en julia podemos utilizar una rango o arreglo de enteros como índice de otro arreglo para obtener el subarreglo con los elementos de dichos índices. Por ejemplo:"
   ]
  },
  {
   "cell_type": "code",
   "execution_count": 67,
   "metadata": {},
   "outputs": [
    {
     "name": "stdout",
     "output_type": "stream",
     "text": [
      "[4, 32]\n",
      "[2, 4, 8]\n"
     ]
    }
   ],
   "source": [
    "arr1 = [2,4,8,16,32,128]\n",
    "println(arr1[[2,5]])\n",
    "println(arr1[1:3])"
   ]
  },
  {
   "cell_type": "markdown",
   "metadata": {},
   "source": [
    "Lo mismo sucede con las matrices: podemos obtener una submatriz de esa forma"
   ]
  },
  {
   "cell_type": "code",
   "execution_count": 69,
   "metadata": {},
   "outputs": [
    {
     "data": {
      "text/plain": [
       "2×4 Array{Int64,2}:\n",
       " 1  2  3  4\n",
       " 5  6  7  8"
      ]
     },
     "metadata": {},
     "output_type": "display_data"
    },
    {
     "data": {
      "text/plain": [
       "2×2 Array{Int64,2}:\n",
       " 3  4\n",
       " 7  8"
      ]
     },
     "metadata": {},
     "output_type": "display_data"
    },
    {
     "data": {
      "text/plain": [
       "2×3 Array{Int64,2}:\n",
       " 2  3  4\n",
       " 6  7  8"
      ]
     },
     "metadata": {},
     "output_type": "display_data"
    }
   ],
   "source": [
    "mat1 = [[1 2 3 4] ; [5 6 7 8]]\n",
    "display(mat1)\n",
    "display(mat1[1:2,3:4])\n",
    "display(mat1[1:2,2:4])"
   ]
  },
  {
   "cell_type": "markdown",
   "metadata": {},
   "source": [
    "## Caso sencillo: $A$ es triangular superior"
   ]
  },
  {
   "cell_type": "markdown",
   "metadata": {},
   "source": [
    "Regresando a querer resolver el problema $\\mathbf{Ax} = \\mathbf{b}$\n",
    "\n",
    "Antes que atacar el problema de manera general, consideremos el caso sencillo en el que la matriz $\\mathbf{A}$ \n",
    " es una matriz triangular superior, es decir, de la forma.\n",
    " \n",
    " $$\n",
    " \\mathbf{A} = \n",
    "\\begin{pmatrix}\n",
    "  a_{1,1} & a_{1,2} & \\cdots & a_{1,n} \\\\\n",
    "  0 & a_{2,2} & \\cdots & a_{2,n} \\\\\n",
    "  \\vdots  & \\vdots  & \\ddots & \\vdots  \\\\\n",
    "   0 & \\ldots  & a_{n-1,n-1} & a_{n-1,n} \\\\\n",
    " 0 & \\ldots  & 0 & a_{n,n} \\\\\n",
    " \\end{pmatrix}\n",
    " $$\n",
    " \n",
    " Matemáticamente, eso quiere decir que para $i>j$, $A_{ij} = 0$"
   ]
  },
  {
   "cell_type": "markdown",
   "metadata": {},
   "source": [
    "Cuando la matriz es así, es muy sencillo resolver el sistema de ecuaciones.\n",
    "\n",
    "$$\n",
    "\\begin{pmatrix}\n",
    "  a_{1,1} & a_{1,2} & \\cdots & a_{1,n} \\\\\n",
    "  0 & a_{2,2} & \\cdots & a_{2,n} \\\\\n",
    "  \\vdots  & \\vdots  & \\ddots & \\vdots  \\\\\n",
    "   0 & \\ldots  & a_{n-1,n-1} & a_{n-1,n} \\\\\n",
    " 0 & \\ldots  & 0 & a_{n,n} \\\\\n",
    " \\end{pmatrix}\n",
    " \\begin{pmatrix}\n",
    " x_1 \\\\\n",
    " x_2 \\\\\n",
    " \\vdots \\\\\n",
    " x_{n-1} \\\\\n",
    " x_n\n",
    " \\end{pmatrix} \n",
    " =\n",
    " \\begin{pmatrix}\n",
    " b_1 \\\\\n",
    " b_2 \\\\\n",
    " \\vdots \\\\\n",
    " b_{n-1} \\\\\n",
    " b_n\n",
    " \\end{pmatrix}\n",
    "$$ \n",
    "\n",
    "### Ejercicio 1\n",
    "\n",
    "(i) Suponiendo que $\\mathbf{A}$ es triangular superior y que no tiene ceros en la diagonal, encuentra la expresión (analítica) para $x_n$ en términos de las entradas de $A$ y las entradas del vector solución $\\mathbf{b}$. \n",
    "\n",
    "(ii) Ya que tengas la expresión para $x_n$, ahora encuentra una expresión para $x_{n-1}$ (que también debe de depender del valor de $x_n$) y para $x_{n-2}$ (que depende también del valor de $x_n$ y $x_{n-1}$ )\n",
    "\n",
    "(iii) Generaliza las expresiones anteriores para obtener una expresión general para cualquier $x_i$ en términos de las entradas de $A$, las entradas del vector solución $\\mathbf{b}$ y de otros valores $x_k$ con $k>i$ "
   ]
  },
  {
   "cell_type": "markdown",
   "metadata": {},
   "source": [
    "### Ejercicio 2\n",
    "\n",
    "Implementa una función `solTriSuperior(A,b)` que tome como argumento un arreglo 2D `A`, que representa a una matriz **triangular superior, sin ceros en la diagonal**, de $n\\times n$ , un vector solución `b` de longitud $n$ y que regresa un arreglo `xs` con la solución del sistema $\\mathbf{Ax} = \\mathbf{b}$ calculada usando la fórmula del inciso (iii) del ejercicio anterior."
   ]
  },
  {
   "cell_type": "markdown",
   "metadata": {},
   "source": [
    "## Caso general: volver a $\\mathbf{A}$ una matriz triangular superior\n",
    "\n",
    "Generalmente, $\\mathbf{A}$ no va a ser una matriz triangular superior. Sin embargo, mediante el procedimiento de [**eliminación gaussiana**](https://en.wikipedia.org/wiki/Gaussian_elimination) es posible llevarla a una de ellas. \n",
    "\n",
    "### Eliminación Gaussiana\n",
    "\n",
    "La eliminación Gaussiana consiste en trabajar con la **matriz aumentada**, denotada $\\mathbf{C}$, cuya expresión es\n",
    "\n",
    "$$\n",
    "\\mathbf{C} = \n",
    "\\begin{pmatrix}\n",
    "  a_{1,1} & a_{1,2} & \\cdots & a_{1,n} & b_1 \\\\\n",
    "  a_{2,1} & a_{2,2} & \\cdots & a_{2,n} & b_2 \\\\\n",
    "  \\vdots  &   & \\ddots &   & \\vdots \\\\\n",
    "  a_{n,1} & a_{n,2} & \\cdots & a_{n,n} & b_n \n",
    " \\end{pmatrix} \n",
    " $$\n",
    "\n",
    "Mediante operaciones elementales de renglones (intercambiar renglones, multiplicarlos por un escalar o sumarlos), buscamos reducir la matriz $\\mathbf{C}$ a una forma **escalonada**, denotada $\\mathbf{C}^*$, en la que todos los elementos por debajo de la diagonal sean $0$:\n",
    "\n",
    "$$\n",
    "\\mathbf{C}^* = \n",
    "\\begin{pmatrix}\n",
    "  a^*_{1,1} & a^*_{1,2} & \\cdots & a^*_{1,n} & b^*_1 \\\\\n",
    "  0 & a^*_{2,2} & \\cdots & a^*_{2,n} & b^*_2 \\\\\n",
    "  \\vdots  &   & \\ddots &   & \\vdots \\\\\n",
    "  0 & 0 & \\cdots & a^*_{n,n} & b^*_n \n",
    " \\end{pmatrix} \n",
    " $$\n",
    " \n",
    " Esa matriz aumenta representa al sistema de ecuaciones:\n",
    " \n",
    " $$\n",
    "\\begin{pmatrix}\n",
    "  a^*_{1,1} & a^*_{1,2} & \\cdots & a^*_{1,n} \\\\\n",
    "  0 & a^*_{2,2} & \\cdots & a^*_{2,n} \\\\\n",
    "  \\vdots  &   & \\ddots &   \\vdots \\\\\n",
    "  0 & 0 & \\cdots & a^*_{n,n} \n",
    " \\end{pmatrix} \n",
    " \\begin{pmatrix}\n",
    "x_1 \\\\\n",
    "x_2 \\\\\n",
    "\\vdots \\\\\n",
    "x_n \n",
    " \\end{pmatrix}=\n",
    " \\begin{pmatrix}\n",
    "b^*_1 \\\\\n",
    "b^*_2 \\\\\n",
    "\\vdots \\\\\n",
    "b^*_n \n",
    " \\end{pmatrix}\n",
    " $$\n",
    " \n",
    "\n",
    "El sistema de ecuaciones representado por $\\mathbf{C}^*$ es equivalente al representado por $\\mathbf{C}$, por lo que sus soluciones son las mismas. Sin embargo, el sistema asociado a la matriz escalonada es triangular superior, por lo que es mucho más fácil de resolver, como vimos en los ejercicios anteriores."
   ]
  },
  {
   "cell_type": "markdown",
   "metadata": {},
   "source": [
    "### Ejercicio 3:\n",
    "\n",
    "(i) Supón que $a_{1,1} \\neq 0$. ¿Qué operación elemental podrías aplicarle al renglón $n$ para hacer que el elemento $a_{n,1}$ se vuelva 0?\n",
    "\n",
    "**Sugerencia** La operación es convertir al renglón $n$ en una combinación lineal del renglón $1$ y el renglón $n$\n",
    "\n",
    "(ii) ¿Puedes aplicar el procedimiento un procedimiento similar al del inciso anterior pero ahora para hacer $a_{n-1,1}=0$? ¿y para cualquier otro $a_{k,1}=0$ con $k \\neq 1$?\n",
    "\n",
    "(iii) Vamos ahora a la segunda columna. Supón que ya realizaste todas las operaciones elementales necesarias para que $a_{k,1} =0$ para $k \\neq 1$. Nuevamente suponiendo que $a_{2,2}\\neq 0$, ¿cómo puedes hacer algo parecido a las operaciones elementales de los incisos anteriores para volver $a_{k,2} =0$ para $k \\neq 2$?\n",
    "\n",
    "(iv) Generaliza todo lo visto anteriormente para encontrar las operaciones elementales necesarias (y el orden de ellas) para convertir a la matriz aumentada $\\mathbf{C}$ en la matriz escalonada $\\mathbf{C}^*$."
   ]
  },
  {
   "cell_type": "markdown",
   "metadata": {},
   "source": [
    "### Ejercicio 4\n",
    "\n",
    "Implementa una función `elimGaussBasica(A,b)` que toma como argumento un arreglo 2D `A` de $n\\times n$ **suponiendo que no tiene ceros en la diagonal** y un arreglo 1D `b` de longitud $n$. La función debe de construir la matriz aumentada $\\mathbf{C}$ obtenida a partir de `A` y `b` y luego realizar las operaciones elementales obtenidas en el ejercicio anterior para generar la matriz escalonada $\\mathbf{C}^*$. La función debe de regresar la matriz escalonada obtenida de $n\\times (n+1)$.\n",
    "\n",
    "**Sugerencia:** la función `hcat` te permite concatenar vectores y matrices horizontalmente de la siguiente forma:"
   ]
  },
  {
   "cell_type": "code",
   "execution_count": 55,
   "metadata": {},
   "outputs": [
    {
     "data": {
      "text/plain": [
       "2×3 Array{Int64,2}:\n",
       " 1  2  3\n",
       " 4  5  6"
      ]
     },
     "metadata": {},
     "output_type": "display_data"
    },
    {
     "data": {
      "text/plain": [
       "2-element Array{Int64,1}:\n",
       " 8\n",
       " 9"
      ]
     },
     "metadata": {},
     "output_type": "display_data"
    },
    {
     "data": {
      "text/plain": [
       "2×4 Array{Int64,2}:\n",
       " 1  2  3  8\n",
       " 4  5  6  9"
      ]
     },
     "metadata": {},
     "output_type": "display_data"
    }
   ],
   "source": [
    "A = [[1 2 3] ; [4 5 6]]\n",
    "B = [8,9]\n",
    "display(A)\n",
    "display(B)\n",
    "display(hcat(A,B))"
   ]
  },
  {
   "cell_type": "markdown",
   "metadata": {},
   "source": [
    "## ¿Qué sucede si hay elementos $a_{ii}=0$?\n",
    "\n",
    "Es fundamental que los elementos de la diagonal no sean $0$ para que nuestro método funcione. Sin embargo, es posible que se de el caso en el que sean $0$. Si $a_{k,k}=0$, podemos buscar un renglón $l$ en el que $a_{l,k}\\neq 0 $ y luego **intercambiar** el renglón $k$ por el $l$.\n",
    "\n",
    "Debido a que estamos suponiendo que la solución al sistema es única, no puede nunca darse el caso de $a_{l,k}=0$ para toda $l$ pues eso implicaría que no existe solución única para el sistema"
   ]
  },
  {
   "cell_type": "markdown",
   "metadata": {},
   "source": [
    "### Ejercicio 5\n",
    "\n",
    "Implementa una función `checarDiagonal(A,b)` que toma como argumento un arreglo 2D `A` de $n\\times n$ **suponiendo que no tiene ceros en la diagonal** y un arreglo 1D `b` de longitud $n$. La función debe de construir la matriz aumentada $\\mathbf{C}$ obtenida a partir de `A` y `b` y luego revisar sus elementos diagonales para ver que no sean $0$. Si encuentra alguno que sea $0$, debe de intercambiar el renglón por otro en el que sea distinto de cero. La función debe de regresar una matriz aumentada  en la que no haya ceros en las diagonales."
   ]
  },
  {
   "cell_type": "markdown",
   "metadata": {},
   "source": [
    "### Ejercicio 6\n",
    "\n",
    "Implementa una función `eliminaciónGaussiana(A,b)` que toma como argumento un arreglo 2D `A` de $n\\times n$ **suponiendo que no tiene ceros en la diagonal** y un arreglo 1D `b` de longitud $n$. La función primero debe de usar `checarDiagonal(A,b)` para obtener una matriz aumentada sin ceros en las diagonales y luego debe de aplicar las operaciones elementales del ejercicio 3 para obtener una matriz escalonada $\\mathbf{C}^*$. La función debe de regresar dicha matriz escalonada de $n\\times (n+1)$."
   ]
  },
  {
   "cell_type": "markdown",
   "metadata": {},
   "source": [
    "### Ejercicio 7\n",
    "\n",
    "Implementa una función `ecLineales(A,b)` que toma como argumento un arreglo 2D `A` de $n\\times n$  y un arreglo 1D `b` de longitud $n$. Tu función debe de utilizar las funciones `eliminaciónGaussiana(A,b)` y `solTriSuperior(A,b)` para resolver el sistema de ecuaciones lineales y regresar un arreglo 1D de longitud $n$ correspondiente a las soluciones $x_i$."
   ]
  },
  {
   "cell_type": "markdown",
   "metadata": {},
   "source": [
    "### Ejercicio 8\n",
    "\n",
    "Prueba tu función `ecLineales(A,b)` con el siguiente sistema\n",
    "\n",
    "$$\n",
    "\\begin{align}\n",
    "    x+y+z &= 1 \\\\\n",
    "    3x-2y+w &= -4 \\\\\n",
    "    y - w &= 2 \\\\\n",
    "    x-2y+4z-5w &= -6\n",
    "\\end{align}\n",
    "$$\n",
    "\n",
    "Cuya solución está dada por $x= -0.0555$, $y=1.8333$, $z=-0.7777$ y $-w=0.1666$"
   ]
  }
 ],
 "metadata": {
  "kernelspec": {
   "display_name": "Julia 1.4.2",
   "language": "julia",
   "name": "julia-1.4"
  },
  "language_info": {
   "file_extension": ".jl",
   "mimetype": "application/julia",
   "name": "julia",
   "version": "1.4.2"
  }
 },
 "nbformat": 4,
 "nbformat_minor": 4
}
