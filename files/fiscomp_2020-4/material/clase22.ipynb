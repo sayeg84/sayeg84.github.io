{
 "cells": [
  {
   "cell_type": "markdown",
   "metadata": {},
   "source": [
    "# Caminatas aleatorias"
   ]
  },
  {
   "cell_type": "markdown",
   "metadata": {},
   "source": [
    "Una caminata aleatoria se puede definir como una sucesión \"recursiva\" de puntos que representan la posición de una partícula como función del tiempo. La particula cambia de posición de manera **aleatoria**, no hay manera de predecir hacia donde dará su siguiente paso.\n",
    "\n",
    "Supongamos que tenemos un tiempo discreto, es decit, que nuestra partícula se mueve en tiempos $t = 0, 1,2,\\ldots,n$. La posición de la partícula al tiempo $t$ la denotaremos como $x^{(t)}$.\n",
    "\n",
    "En el caso más simple, si tenemos una partícula en una sola dimensión, podemos suponer que solo puede dar pasos de tamaño fijo $1$ hacia dos direcciones, derecha e izquierda, con probabilidades $p$ y $1-p$, respectivamente. La fórmula de la sucesión de las posiciones, para $t\\geq 1$ entonces es\n",
    "\n",
    "$$\n",
    "x^{(t)} = \\begin{cases}\n",
    "x^{(t-1)}+1 & \\text{con probabilidad } p \\\\\n",
    "x^{(t-1)}-1 & \\text{con probabilidad } 1-p \\\\\n",
    "\\end{cases}\n",
    "$$\n"
   ]
  },
  {
   "cell_type": "markdown",
   "metadata": {},
   "source": [
    "Por simplicidad, podemos suponer que $x^{(0)} = 0$"
   ]
  },
  {
   "cell_type": "markdown",
   "metadata": {},
   "source": [
    "### Ejercicio 1\n",
    "\n",
    "Define una función `caminante1D(p,n)` con `p` un número real entre 0 y 1 y `n` un entero positivo, que regrese un arreglo `[x_0,..,x_n]` con las $n+1$ posiciones de un caminante aleatorio con probabilidad $p$ desde un tiempo $t=0$ hasta un tiempo $t=n$"
   ]
  },
  {
   "cell_type": "markdown",
   "metadata": {},
   "source": [
    "### Ejercicio 2\n",
    "\n",
    "Para $p=1/2$, fija un valor de `n`  y grafica, en una misma figura, la posición de 10 caminantes distintos como función del tiempo. ¿qué observas en sus trayectorias?"
   ]
  },
  {
   "cell_type": "markdown",
   "metadata": {},
   "source": [
    "### Ejercicio 3\n",
    "\n",
    "Repite el ejercicio 3 pero para $p= 0.49$, $p=0.1$ y $p=0.75$. ¿Qué diferencias hay entre todas estas trayectorias?"
   ]
  },
  {
   "cell_type": "markdown",
   "metadata": {},
   "source": [
    "## Promedios estadísticos\n",
    "\n",
    "Analizar la trayectoria de un solo caminante no tiene mucho sentido. En general, lo que nos interesa es tener $m$ caminantes independientes. Así, para un tiempo cualquiera, podemos preguntarnos por todas las $m$ posiciones en ese tiempo y así calcular su **promedio** y su **varianza**. Supongamos que $x^{(t)}_{i}$ es la posición del $i$-ésimo caminante en el tiempo $t$, entonces la posición promedio al tiempo t, denotada, $\\langle x^{(t)} \\rangle$ y la varianza de las posiciones al tiempo t, denotada $\\Delta x^{(t)} $, se calculan como \n",
    "\n",
    "$$\\langle x^{(t)} \\rangle = \\frac{1}{m} \\sum_{i=1}^{m} x^{(t)}_{i}$$\n",
    "\n",
    "$$\\Delta x^{(t)} = \\frac{1}{m} \\sum_{i=1}^{m} \\left( x^{(t)}_{i} -\\langle x^{(t)} \\rangle \\right)^2$$"
   ]
  },
  {
   "cell_type": "markdown",
   "metadata": {},
   "source": [
    "### Ejercicio 4\n",
    "\n",
    "Define una función `caminantes1D(p,m,n)` con `p` un número real entre 0 y 1, `n` y `m` enteros positivos, que regrese una matriz de $m\\times (n+1)$ cuyos renglones sean las $n+1$ posiciones de un caminante aleatorio con probabilidad $p$ desde un tiempo $t=0$ hasta un tiempo $t=n$."
   ]
  },
  {
   "cell_type": "markdown",
   "metadata": {},
   "source": [
    "### Ejercicio 5\n",
    "\n",
    "Implementa una función `promedio(X)` y luego una función `varianza(X)` que calculen la varianza y el promedio de un vector de datos `X`\n",
    "\n",
    "**Sugerencia:** define primero `promedio` pues la vas a necesitar usar detro de`varianza`"
   ]
  },
  {
   "cell_type": "raw",
   "metadata": {},
   "source": [
    "### Ejercicio 6\n",
    "\n",
    "Toma valores fijos de $p$,de $ n \\geq 1000$ y $m \\geq 10$ y usa la función `caminantes1D(p,n,m)`. Para obtener las trayectorias de de $m$ caminantes. Luego, utiliza tus funciones `promedio` y `varianza` para calcular la posición promedio y la varianza en cada tiempo.\n",
    "\n",
    "Realiza una animación de la trayectoria de todos los caminantes en cada paso de tiempo.\n",
    "\n",
    "Grafica el promedio y la varianza como función del tiempo.\n",
    "\n",
    "**Sugerencia 1** recuerda que el límite del eje `x` en tu animación debe de ser el intervalo `[0,n]` para que se vea bien.\n",
    "\n",
    "**Sugerencia 2** no hagan la animación con $n$ cuadros. Cambien el ciclo `for` de la animación para que solo hagan 100 o 200 cuadros"
   ]
  },
  {
   "cell_type": "markdown",
   "metadata": {},
   "source": [
    "## Caminantes aleatorios en 2D: coordenadas polares"
   ]
  },
  {
   "cell_type": "markdown",
   "metadata": {},
   "source": [
    "Una manera interesante de extender el camimante aleatorio a 2D es suponiendo ahora que no se mueve en posiciones discretas, si no que puede dar un paso pequeño en cualquier dirección.\n",
    "\n",
    "Matemáticamente, sea ahora $\\mathbf{x}^{(t)} = (x^{(t)},y^{(t)})$ la posición en un tiempo $t$. Entonces el paso para la siguiente posición es\n",
    "\n",
    "$$\n",
    "\\mathbf{x}^{(t)} = \n",
    "\\mathbf{x}^{(t-1)}+r (\\cos{\\theta}, \\sin{\\theta}) \n",
    "$$\n",
    "\n",
    "Con $r$ y $\\theta$ muestras de números aleatorios con distribución uniforme entre $[0,1]$, y $[0,2\\pi]$. Nuevamente, por simplicidad, suponemos que los caminanes parten del origen $\\mathbf{x}^{(0)} = (0,0)$\n",
    "\n"
   ]
  },
  {
   "cell_type": "markdown",
   "metadata": {},
   "source": [
    "### Ejercicio 7\n",
    "\n",
    "Define una función `caminantes2D(n,m)` `m` y `n` enteros positivos, que regrese una dos matrices de $m\\times (n+1)$ cuyos renglones sean las $n+1$ posiciones de un caminante aleatorio en 2D. Una matriz debe regresar las posiciones en $x$ y otra matriz debe regresar las posiciones en $y$, desde un tiempo $t=0$ hasta un tiempo $t=n$.\n",
    "\n",
    "**Sugerencia:** si $x \\in [0,1]$ entonces $\\alpha x \\in [0,\\alpha]$"
   ]
  },
  {
   "cell_type": "markdown",
   "metadata": {},
   "source": [
    "### Ejercicio 8\n",
    "\n",
    "Repite el ejercicio 6 pero en dos dimensiones. Ahora el promedio y la varianza se deben hacer para cada coordenada.\n",
    "\n",
    "¿Observan alguna distinción?"
   ]
  },
  {
   "cell_type": "code",
   "execution_count": null,
   "metadata": {},
   "outputs": [],
   "source": []
  }
 ],
 "metadata": {
  "kernelspec": {
   "display_name": "Julia 1.4.2",
   "language": "julia",
   "name": "julia-1.4"
  },
  "language_info": {
   "file_extension": ".jl",
   "mimetype": "application/julia",
   "name": "julia",
   "version": "1.4.2"
  }
 },
 "nbformat": 4,
 "nbformat_minor": 4
}
