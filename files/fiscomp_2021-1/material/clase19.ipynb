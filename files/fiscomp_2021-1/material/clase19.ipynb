{
 "cells": [
  {
   "cell_type": "markdown",
   "metadata": {},
   "source": [
    "# Ecuaciones Diferenciales Parciales"
   ]
  },
  {
   "cell_type": "markdown",
   "metadata": {},
   "source": [
    "Aunque muchos fenónemos físicos se pueden modelar solamente utilizando ecuaciones diferenciales ordinarias, hay muchos otros que se deben de extender a ser modelados con **Ecuaciones Diferenciales Parciales**, es decir, ecuaciones diferenciales para funciones de varias variables. Las 4 ecuaciones diferenciales más importantes que surgen mucho en física son\n",
    "\n",
    "1. Ecuación de Calor \n",
    "\n",
    "$$\n",
    "\\frac{\\partial u}{\\partial t} = D \\nabla^2 u\n",
    "$$\n",
    "\n",
    "2. Ecuación de Poisson\n",
    "\n",
    "$$\n",
    " \\nabla^2 \\phi = f(\\mathbf{r})\n",
    "$$\n",
    "\n",
    "3. Ecuación de Onda\n",
    "\n",
    "$$\n",
    "\\frac{\\partial^2 u}{\\partial t^2} = c^2 \\nabla^2 u\n",
    "$$\n",
    "\n",
    "4. Ecuación de Schrödinger independiente del tiempo\n",
    "\n",
    "$$\n",
    "- \\left(\\frac{\\hbar}{2m}\\nabla^2 + V(\\mathbf{r}) \\right) \\psi = E \\psi\n",
    "$$\n",
    "\n",
    "Los cursos de Matemáticas Avanzadas muestran como resolver estos problemas de manera analítica. Sin embargo, nosotros lo haremos de manera numérica"
   ]
  },
  {
   "cell_type": "markdown",
   "metadata": {},
   "source": [
    "## Primer caso: la ecuación de calor en 1D\n",
    "\n",
    "Para empezar nuestra introducción a las ecuaciones diferenciales parciales, utilizaremos la ecuación de calor en una dimensión para comenzar de manera sencilla. En una dimensión, la ecuación se ve de la siguiente forma\n",
    "\n",
    "$$\n",
    "\\frac{\\partial u}{\\partial t} = D \\frac{\\partial^2 u}{\\partial x^2}\n",
    "$$\n",
    "\n",
    "Con $D>0$ una constante positiva llamada **constante de difusión**. $u(t,x)$ es entonces una función de dos variables. Por simplicidad, trataremos el caso en el que ambas variables están dentro de un intervalo cerrado de la forma $t \\in [0,t_f]$ y $x \\in [0,1]$. Si el dominio del tiempo y el espacio es finito, siempre podemos definir que está en un intervalo arbitrario usando adimensionalización.\n",
    "\n",
    "Para resolver esta ecuación, hay dos clases de condiciones que necesitamos: **condiciones iniciales** y **condiciones de frontera**. Las condiciones iniciales se describen mediante una función puramente espacial que toma la función $u$ en el tiempo $0$, es decir, se expresan de la forma\n",
    "\n",
    "$$\n",
    "u(0,x) = g(x)\n",
    "$$\n",
    "\n",
    "Con una función $g(x)$ dada. Las condiciones de frontera, por otro lado, son más complicadas."
   ]
  },
  {
   "cell_type": "markdown",
   "metadata": {},
   "source": [
    "## Preludio matemático: condiciones de Frontera\n",
    "\n",
    "Ya que nuestro dominio espacial no es todo el espacio si no un intervalo cerrado, necesitamos tener información sobre el valor de nuestra función $u$ en los dos extremos del intervalo $[0,1]$ en cualquier instante de tiempo para obtener una solución única. Las condiciones de frontera pueden darse de distintas maneras, pero las más frecuentes son:\n",
    "\n",
    "### Condiciones de Dirichlet\n",
    "\n",
    "En esa clase de condiciones, conocemos los valores que toma la función $u$ en los extremos:\n",
    "\n",
    "$$\n",
    "u(t,0) = f_0(t) \\quad ,\\quad u(t,1) = f_1(t)\n",
    "$$\n",
    "\n",
    "Con $ f_0(t), f_1(t)$ funciones dadas\n",
    "\n",
    "### Condiciones de Neumann\n",
    "\n",
    "En esa clase de condiciones, conocemos los valores que toma la **derivada parcial respecto a la dirección normal de la frontera** (que, en este caso, es la dirección $x$) de la función $u$ en los extremos:\n",
    "\n",
    "$$\n",
    "\\frac{\\partial u}{\\partial x}(t,0) = f_0(t) \\quad ,\\quad \\frac{\\partial u}{\\partial x}(t,1) = f_1(t)\n",
    "$$\n",
    "\n",
    "### Condiciones periódicas\n",
    "\n",
    "En esa clase de condiciones, suponemos que la función toma el mismo valor en ambos extremos de su frontera\n",
    "$$\n",
    "u(t,0) =  u(t,1) \n",
    "$$\n",
    "\n",
    "Estas condiciones a la frontera son particularmente importantes por que le dan una nueva interpretación a la geometría de nuestro dominio: en 1D, podemos pensar que nuestro dominio está conectado por un extremo, por lo que eso le da la geometría de un **anillo**"
   ]
  },
  {
   "cell_type": "markdown",
   "metadata": {},
   "source": [
    "## Preludio computacional: Funciones Anónimas\n",
    "\n",
    "Muchas veces deberemos darle como argumento a nuestras funciones para resolver ecuaciones diferenciales parciales las funciones correspondientes a las condiciones a la frontera e iniciales. Muchas veces dichas condiciones serán funciones muy parecidas o que dependen de un parámetro, por lo que conviene encontrar formas más compactas de definir funciones.\n",
    "\n",
    "Sabemos que es posible definir funciones utilizando la sintaxis ya conocida:\n",
    "\n",
    "```julia\n",
    "function ejemplo(x)\n",
    "    return (sin(x))^2 - 4\n",
    "end\n",
    "```\n",
    "\n",
    "Sin embargo, existe una forma abreviada de definir funciones. Podemos usar la siguiente sintaxis:\n",
    "\n",
    "```julia\n",
    "ejemplo2(x) = (sin(x))^2 -4\n",
    "```"
   ]
  },
  {
   "cell_type": "code",
   "execution_count": 1,
   "metadata": {},
   "outputs": [
    {
     "data": {
      "text/plain": [
       "ejemplo (generic function with 1 method)"
      ]
     },
     "execution_count": 1,
     "metadata": {},
     "output_type": "execute_result"
    }
   ],
   "source": [
    "function ejemplo(x)\n",
    "    return (sin(x))^2 - 4\n",
    "end"
   ]
  },
  {
   "cell_type": "code",
   "execution_count": 2,
   "metadata": {},
   "outputs": [
    {
     "data": {
      "text/plain": [
       "ejemplo2 (generic function with 1 method)"
      ]
     },
     "execution_count": 2,
     "metadata": {},
     "output_type": "execute_result"
    }
   ],
   "source": [
    "ejemplo2(x) = (sin(x))^2 - 4"
   ]
  },
  {
   "cell_type": "code",
   "execution_count": 7,
   "metadata": {},
   "outputs": [
    {
     "name": "stdout",
     "output_type": "stream",
     "text": [
      "-3.6463642959499016\n",
      "-3.6463642959499016\n",
      "true\n"
     ]
    }
   ],
   "source": [
    "# genero un numero aleatorio y lo uso para probar que las funciones sean iguales\n",
    "x = rand()\n",
    "println(ejemplo(x))\n",
    "println(ejemplo2(x))\n",
    "println(ejemplo(x) == ejemplo2(x))"
   ]
  },
  {
   "cell_type": "markdown",
   "metadata": {},
   "source": [
    "Sin embargo, existe todavía una manera más corta de definir funciones. En todos los casos anteriores, las funciones que hemos definido tienen una variable asignada para usarla, son funciones con un  **identificador**. Sin embargo, es posible definir funciones que no tengan una variable identificadora. Esas funciones se llaman **funciones anónimas** y se denotan mediante la siguiente sintaxis\n",
    "\n",
    "```julia\n",
    "x -> (sin(x)^2)-4\n",
    "```\n"
   ]
  },
  {
   "cell_type": "code",
   "execution_count": 8,
   "metadata": {},
   "outputs": [
    {
     "data": {
      "text/plain": [
       "#3 (generic function with 1 method)"
      ]
     },
     "execution_count": 8,
     "metadata": {},
     "output_type": "execute_result"
    }
   ],
   "source": [
    "x -> (sin(x)^2) - 4"
   ]
  },
  {
   "cell_type": "markdown",
   "metadata": {},
   "source": [
    "Notemos como no aparece ningún nombre a su lado, y julia simplemente le asigna un nombre `#num`. Sin embargo, nosotros podemos asignarlas a una variable y así tener una función no anónima"
   ]
  },
  {
   "cell_type": "code",
   "execution_count": 9,
   "metadata": {},
   "outputs": [
    {
     "data": {
      "text/plain": [
       "#5 (generic function with 1 method)"
      ]
     },
     "execution_count": 9,
     "metadata": {},
     "output_type": "execute_result"
    }
   ],
   "source": [
    "ejemplo3 = x -> (sin(x)^2) - 4"
   ]
  },
  {
   "cell_type": "code",
   "execution_count": 12,
   "metadata": {},
   "outputs": [
    {
     "name": "stdout",
     "output_type": "stream",
     "text": [
      "-3.8062846111214643\n",
      "true\n"
     ]
    }
   ],
   "source": [
    "y = rand()\n",
    "# ejemplo3 es la variable de una función que manda a x en sin^2(x)-4\n",
    "println(ejemplo3(y))\n",
    "println((ejemplo(y)==ejemplo3(y)) && (ejemplo2(y)==ejemplo3(y)))"
   ]
  },
  {
   "cell_type": "markdown",
   "metadata": {},
   "source": [
    "Usar funciones anónimas es particularmente útil si queremos darle una función como argumento a otra función pero no queremos perder tiempo asignándole una variable"
   ]
  },
  {
   "cell_type": "code",
   "execution_count": 13,
   "metadata": {},
   "outputs": [
    {
     "data": {
      "text/plain": [
       "evaluarYSumarCuatro (generic function with 1 method)"
      ]
     },
     "execution_count": 13,
     "metadata": {},
     "output_type": "execute_result"
    }
   ],
   "source": [
    "# funcion que toma  como argumento otra función y la evalúa en un punto\n",
    "function evaluarYSumarCuatro(f,x)\n",
    "    return f(x)+4\n",
    "end"
   ]
  },
  {
   "cell_type": "markdown",
   "metadata": {},
   "source": [
    "Podemos evaluar `evaluarYSumarCuatro` con dos funciones distintas dándole funciones anónimas como argumento"
   ]
  },
  {
   "cell_type": "code",
   "execution_count": 14,
   "metadata": {},
   "outputs": [
    {
     "name": "stdout",
     "output_type": "stream",
     "text": [
      "85\n",
      "733\n"
     ]
    }
   ],
   "source": [
    "# evalúa la función f(x) = x^2 y le suma 4 en x = 9\n",
    "# debe regresar 85\n",
    "println(evaluarYSumarCuatro(x -> x^2,9))\n",
    "# evalúa la función f(x) = x^3 y le suma 4 en x = 9\n",
    "# debe regresar 733\n",
    "println(evaluarYSumarCuatro(x -> x^3,9))"
   ]
  },
  {
   "cell_type": "markdown",
   "metadata": {},
   "source": [
    "Las funciones anónimas también nos permiten tomar funciones que tomen varios argumentos y convertirlas en funciones de un solo argumento. \n",
    "\n",
    "Por ejemplo, supongamos que queremos hacer la misma **gráfica en una sola figura** (i.e no quiero varias curvas en una sola figura, si no una figura por curva) para una función\n",
    "\n",
    "$$\n",
    "f(x) = \\frac{1}{\\sqrt{2\\pi\\sigma^2}} \\exp{\\left[ -\\frac{1}{2} \\left( \\frac{x-\\mu}{\\sigma}\\right)^2 \\right]}\n",
    "$$\n",
    "\n",
    "Con distintos valores de $\\mu$, $\\sigma$"
   ]
  },
  {
   "cell_type": "code",
   "execution_count": 15,
   "metadata": {},
   "outputs": [],
   "source": [
    "using Plots"
   ]
  },
  {
   "cell_type": "code",
   "execution_count": 16,
   "metadata": {},
   "outputs": [
    {
     "data": {
      "text/plain": [
       "graficar (generic function with 1 method)"
      ]
     },
     "execution_count": 16,
     "metadata": {},
     "output_type": "execute_result"
    }
   ],
   "source": [
    "# función que hace las gráfica que quiero de $f$\n",
    "# f debe de ser una función de una sola variable\n",
    "function graficar(xs,f)\n",
    "    ys = [f(x) for x in xs]\n",
    "    p = plot(xs,ys,label=\"datos\")\n",
    "    xlabel!(\"x\")\n",
    "    ylabel!(\"y\")\n",
    "    title!(\"La gráfica que quiero\")\n",
    "    # muestra la gráfica\n",
    "    display(p)\n",
    "end"
   ]
  },
  {
   "cell_type": "code",
   "execution_count": 17,
   "metadata": {},
   "outputs": [
    {
     "data": {
      "image/svg+xml": [
       "<?xml version=\"1.0\" encoding=\"utf-8\"?>\n",
       "<svg xmlns=\"http://www.w3.org/2000/svg\" xmlns:xlink=\"http://www.w3.org/1999/xlink\" width=\"600\" height=\"400\" viewBox=\"0 0 2400 1600\">\n",
       "<defs>\n",
       "  <clipPath id=\"clip560\">\n",
       "    <rect x=\"0\" y=\"0\" width=\"2400\" height=\"1600\"/>\n",
       "  </clipPath>\n",
       "</defs>\n",
       "<path clip-path=\"url(#clip560)\" d=\"\n",
       "M0 1600 L2400 1600 L2400 0 L0 0  Z\n",
       "  \" fill=\"#ffffff\" fill-rule=\"evenodd\" fill-opacity=\"1\"/>\n",
       "<defs>\n",
       "  <clipPath id=\"clip561\">\n",
       "    <rect x=\"480\" y=\"0\" width=\"1681\" height=\"1600\"/>\n",
       "  </clipPath>\n",
       "</defs>\n",
       "<path clip-path=\"url(#clip560)\" d=\"\n",
       "M242.922 1423.18 L2352.76 1423.18 L2352.76 123.472 L242.922 123.472  Z\n",
       "  \" fill=\"#ffffff\" fill-rule=\"evenodd\" fill-opacity=\"1\"/>\n",
       "<defs>\n",
       "  <clipPath id=\"clip562\">\n",
       "    <rect x=\"242\" y=\"123\" width=\"2111\" height=\"1301\"/>\n",
       "  </clipPath>\n",
       "</defs>\n",
       "<polyline clip-path=\"url(#clip562)\" style=\"stroke:#000000; stroke-width:2; stroke-opacity:0.1; fill:none\" points=\"\n",
       "  302.634,1423.18 302.634,123.472 \n",
       "  \"/>\n",
       "<polyline clip-path=\"url(#clip562)\" style=\"stroke:#000000; stroke-width:2; stroke-opacity:0.1; fill:none\" points=\"\n",
       "  800.236,1423.18 800.236,123.472 \n",
       "  \"/>\n",
       "<polyline clip-path=\"url(#clip562)\" style=\"stroke:#000000; stroke-width:2; stroke-opacity:0.1; fill:none\" points=\"\n",
       "  1297.84,1423.18 1297.84,123.472 \n",
       "  \"/>\n",
       "<polyline clip-path=\"url(#clip562)\" style=\"stroke:#000000; stroke-width:2; stroke-opacity:0.1; fill:none\" points=\"\n",
       "  1795.44,1423.18 1795.44,123.472 \n",
       "  \"/>\n",
       "<polyline clip-path=\"url(#clip562)\" style=\"stroke:#000000; stroke-width:2; stroke-opacity:0.1; fill:none\" points=\"\n",
       "  2293.04,1423.18 2293.04,123.472 \n",
       "  \"/>\n",
       "<polyline clip-path=\"url(#clip560)\" style=\"stroke:#000000; stroke-width:4; stroke-opacity:1; fill:none\" points=\"\n",
       "  242.922,1423.18 2352.76,1423.18 \n",
       "  \"/>\n",
       "<polyline clip-path=\"url(#clip560)\" style=\"stroke:#000000; stroke-width:4; stroke-opacity:1; fill:none\" points=\"\n",
       "  302.634,1423.18 302.634,1407.58 \n",
       "  \"/>\n",
       "<polyline clip-path=\"url(#clip560)\" style=\"stroke:#000000; stroke-width:4; stroke-opacity:1; fill:none\" points=\"\n",
       "  800.236,1423.18 800.236,1407.58 \n",
       "  \"/>\n",
       "<polyline clip-path=\"url(#clip560)\" style=\"stroke:#000000; stroke-width:4; stroke-opacity:1; fill:none\" points=\"\n",
       "  1297.84,1423.18 1297.84,1407.58 \n",
       "  \"/>\n",
       "<polyline clip-path=\"url(#clip560)\" style=\"stroke:#000000; stroke-width:4; stroke-opacity:1; fill:none\" points=\"\n",
       "  1795.44,1423.18 1795.44,1407.58 \n",
       "  \"/>\n",
       "<polyline clip-path=\"url(#clip560)\" style=\"stroke:#000000; stroke-width:4; stroke-opacity:1; fill:none\" points=\"\n",
       "  2293.04,1423.18 2293.04,1407.58 \n",
       "  \"/>\n",
       "<path clip-path=\"url(#clip560)\" d=\"M 0 0 M270.643 1452.37 Q267.032 1452.37 265.204 1455.94 Q263.398 1459.48 263.398 1466.61 Q263.398 1473.71 265.204 1477.28 Q267.032 1480.82 270.643 1480.82 Q274.278 1480.82 276.083 1477.28 Q277.912 1473.71 277.912 1466.61 Q277.912 1459.48 276.083 1455.94 Q274.278 1452.37 270.643 1452.37 M270.643 1448.67 Q276.454 1448.67 279.509 1453.27 Q282.588 1457.86 282.588 1466.61 Q282.588 1475.33 279.509 1479.94 Q276.454 1484.52 270.643 1484.52 Q264.833 1484.52 261.755 1479.94 Q258.699 1475.33 258.699 1466.61 Q258.699 1457.86 261.755 1453.27 Q264.833 1448.67 270.643 1448.67 Z\" fill=\"#000000\" fill-rule=\"evenodd\" fill-opacity=\"1\" /><path clip-path=\"url(#clip560)\" d=\"M 0 0 M287.657 1477.97 L292.541 1477.97 L292.541 1483.85 L287.657 1483.85 L287.657 1477.97 Z\" fill=\"#000000\" fill-rule=\"evenodd\" fill-opacity=\"1\" /><path clip-path=\"url(#clip560)\" d=\"M 0 0 M307.611 1452.37 Q304 1452.37 302.171 1455.94 Q300.365 1459.48 300.365 1466.61 Q300.365 1473.71 302.171 1477.28 Q304 1480.82 307.611 1480.82 Q311.245 1480.82 313.051 1477.28 Q314.879 1473.71 314.879 1466.61 Q314.879 1459.48 313.051 1455.94 Q311.245 1452.37 307.611 1452.37 M307.611 1448.67 Q313.421 1448.67 316.477 1453.27 Q319.555 1457.86 319.555 1466.61 Q319.555 1475.33 316.477 1479.94 Q313.421 1484.52 307.611 1484.52 Q301.801 1484.52 298.722 1479.94 Q295.666 1475.33 295.666 1466.61 Q295.666 1457.86 298.722 1453.27 Q301.801 1448.67 307.611 1448.67 Z\" fill=\"#000000\" fill-rule=\"evenodd\" fill-opacity=\"1\" /><path clip-path=\"url(#clip560)\" d=\"M 0 0 M334.625 1452.37 Q331.013 1452.37 329.185 1455.94 Q327.379 1459.48 327.379 1466.61 Q327.379 1473.71 329.185 1477.28 Q331.013 1480.82 334.625 1480.82 Q338.259 1480.82 340.064 1477.28 Q341.893 1473.71 341.893 1466.61 Q341.893 1459.48 340.064 1455.94 Q338.259 1452.37 334.625 1452.37 M334.625 1448.67 Q340.435 1448.67 343.49 1453.27 Q346.569 1457.86 346.569 1466.61 Q346.569 1475.33 343.49 1479.94 Q340.435 1484.52 334.625 1484.52 Q328.814 1484.52 325.736 1479.94 Q322.68 1475.33 322.68 1466.61 Q322.68 1457.86 325.736 1453.27 Q328.814 1448.67 334.625 1448.67 Z\" fill=\"#000000\" fill-rule=\"evenodd\" fill-opacity=\"1\" /><path clip-path=\"url(#clip560)\" d=\"M 0 0 M769.542 1452.37 Q765.931 1452.37 764.102 1455.94 Q762.297 1459.48 762.297 1466.61 Q762.297 1473.71 764.102 1477.28 Q765.931 1480.82 769.542 1480.82 Q773.176 1480.82 774.982 1477.28 Q776.811 1473.71 776.811 1466.61 Q776.811 1459.48 774.982 1455.94 Q773.176 1452.37 769.542 1452.37 M769.542 1448.67 Q775.352 1448.67 778.408 1453.27 Q781.486 1457.86 781.486 1466.61 Q781.486 1475.33 778.408 1479.94 Q775.352 1484.52 769.542 1484.52 Q763.732 1484.52 760.653 1479.94 Q757.598 1475.33 757.598 1466.61 Q757.598 1457.86 760.653 1453.27 Q763.732 1448.67 769.542 1448.67 Z\" fill=\"#000000\" fill-rule=\"evenodd\" fill-opacity=\"1\" /><path clip-path=\"url(#clip560)\" d=\"M 0 0 M786.556 1477.97 L791.44 1477.97 L791.44 1483.85 L786.556 1483.85 L786.556 1477.97 Z\" fill=\"#000000\" fill-rule=\"evenodd\" fill-opacity=\"1\" /><path clip-path=\"url(#clip560)\" d=\"M 0 0 M800.537 1479.92 L816.857 1479.92 L816.857 1483.85 L794.912 1483.85 L794.912 1479.92 Q797.574 1477.16 802.158 1472.53 Q806.764 1467.88 807.945 1466.54 Q810.19 1464.01 811.07 1462.28 Q811.972 1460.52 811.972 1458.83 Q811.972 1456.07 810.028 1454.34 Q808.107 1452.6 805.005 1452.6 Q802.806 1452.6 800.352 1453.37 Q797.922 1454.13 795.144 1455.68 L795.144 1450.96 Q797.968 1449.82 800.422 1449.25 Q802.875 1448.67 804.912 1448.67 Q810.283 1448.67 813.477 1451.35 Q816.671 1454.04 816.671 1458.53 Q816.671 1460.66 815.861 1462.58 Q815.074 1464.48 812.968 1467.07 Q812.389 1467.74 809.287 1470.96 Q806.185 1474.15 800.537 1479.92 Z\" fill=\"#000000\" fill-rule=\"evenodd\" fill-opacity=\"1\" /><path clip-path=\"url(#clip560)\" d=\"M 0 0 M821.972 1449.29 L840.329 1449.29 L840.329 1453.23 L826.255 1453.23 L826.255 1461.7 Q827.273 1461.35 828.292 1461.19 Q829.31 1461 830.329 1461 Q836.116 1461 839.495 1464.18 Q842.875 1467.35 842.875 1472.76 Q842.875 1478.34 839.403 1481.44 Q835.931 1484.52 829.611 1484.52 Q827.435 1484.52 825.167 1484.15 Q822.921 1483.78 820.514 1483.04 L820.514 1478.34 Q822.597 1479.48 824.82 1480.03 Q827.042 1480.59 829.519 1480.59 Q833.523 1480.59 835.861 1478.48 Q838.199 1476.38 838.199 1472.76 Q838.199 1469.15 835.861 1467.05 Q833.523 1464.94 829.519 1464.94 Q827.644 1464.94 825.769 1465.36 Q823.917 1465.77 821.972 1466.65 L821.972 1449.29 Z\" fill=\"#000000\" fill-rule=\"evenodd\" fill-opacity=\"1\" /><path clip-path=\"url(#clip560)\" d=\"M 0 0 M1266.35 1452.37 Q1262.73 1452.37 1260.91 1455.94 Q1259.1 1459.48 1259.1 1466.61 Q1259.1 1473.71 1260.91 1477.28 Q1262.73 1480.82 1266.35 1480.82 Q1269.98 1480.82 1271.79 1477.28 Q1273.61 1473.71 1273.61 1466.61 Q1273.61 1459.48 1271.79 1455.94 Q1269.98 1452.37 1266.35 1452.37 M1266.35 1448.67 Q1272.16 1448.67 1275.21 1453.27 Q1278.29 1457.86 1278.29 1466.61 Q1278.29 1475.33 1275.21 1479.94 Q1272.16 1484.52 1266.35 1484.52 Q1260.54 1484.52 1257.46 1479.94 Q1254.4 1475.33 1254.4 1466.61 Q1254.4 1457.86 1257.46 1453.27 Q1260.54 1448.67 1266.35 1448.67 Z\" fill=\"#000000\" fill-rule=\"evenodd\" fill-opacity=\"1\" /><path clip-path=\"url(#clip560)\" d=\"M 0 0 M1283.36 1477.97 L1288.24 1477.97 L1288.24 1483.85 L1283.36 1483.85 L1283.36 1477.97 Z\" fill=\"#000000\" fill-rule=\"evenodd\" fill-opacity=\"1\" /><path clip-path=\"url(#clip560)\" d=\"M 0 0 M1293.36 1449.29 L1311.72 1449.29 L1311.72 1453.23 L1297.64 1453.23 L1297.64 1461.7 Q1298.66 1461.35 1299.68 1461.19 Q1300.7 1461 1301.72 1461 Q1307.5 1461 1310.88 1464.18 Q1314.26 1467.35 1314.26 1472.76 Q1314.26 1478.34 1310.79 1481.44 Q1307.32 1484.52 1301 1484.52 Q1298.82 1484.52 1296.55 1484.15 Q1294.31 1483.78 1291.9 1483.04 L1291.9 1478.34 Q1293.98 1479.48 1296.21 1480.03 Q1298.43 1480.59 1300.91 1480.59 Q1304.91 1480.59 1307.25 1478.48 Q1309.59 1476.38 1309.59 1472.76 Q1309.59 1469.15 1307.25 1467.05 Q1304.91 1464.94 1300.91 1464.94 Q1299.03 1464.94 1297.16 1465.36 Q1295.3 1465.77 1293.36 1466.65 L1293.36 1449.29 Z\" fill=\"#000000\" fill-rule=\"evenodd\" fill-opacity=\"1\" /><path clip-path=\"url(#clip560)\" d=\"M 0 0 M1329.33 1452.37 Q1325.72 1452.37 1323.89 1455.94 Q1322.09 1459.48 1322.09 1466.61 Q1322.09 1473.71 1323.89 1477.28 Q1325.72 1480.82 1329.33 1480.82 Q1332.97 1480.82 1334.77 1477.28 Q1336.6 1473.71 1336.6 1466.61 Q1336.6 1459.48 1334.77 1455.94 Q1332.97 1452.37 1329.33 1452.37 M1329.33 1448.67 Q1335.14 1448.67 1338.2 1453.27 Q1341.28 1457.86 1341.28 1466.61 Q1341.28 1475.33 1338.2 1479.94 Q1335.14 1484.52 1329.33 1484.52 Q1323.52 1484.52 1320.44 1479.94 Q1317.39 1475.33 1317.39 1466.61 Q1317.39 1457.86 1320.44 1453.27 Q1323.52 1448.67 1329.33 1448.67 Z\" fill=\"#000000\" fill-rule=\"evenodd\" fill-opacity=\"1\" /><path clip-path=\"url(#clip560)\" d=\"M 0 0 M1764.4 1452.37 Q1760.79 1452.37 1758.96 1455.94 Q1757.15 1459.48 1757.15 1466.61 Q1757.15 1473.71 1758.96 1477.28 Q1760.79 1480.82 1764.4 1480.82 Q1768.03 1480.82 1769.84 1477.28 Q1771.67 1473.71 1771.67 1466.61 Q1771.67 1459.48 1769.84 1455.94 Q1768.03 1452.37 1764.4 1452.37 M1764.4 1448.67 Q1770.21 1448.67 1773.27 1453.27 Q1776.34 1457.86 1776.34 1466.61 Q1776.34 1475.33 1773.27 1479.94 Q1770.21 1484.52 1764.4 1484.52 Q1758.59 1484.52 1755.51 1479.94 Q1752.46 1475.33 1752.46 1466.61 Q1752.46 1457.86 1755.51 1453.27 Q1758.59 1448.67 1764.4 1448.67 Z\" fill=\"#000000\" fill-rule=\"evenodd\" fill-opacity=\"1\" /><path clip-path=\"url(#clip560)\" d=\"M 0 0 M1781.41 1477.97 L1786.3 1477.97 L1786.3 1483.85 L1781.41 1483.85 L1781.41 1477.97 Z\" fill=\"#000000\" fill-rule=\"evenodd\" fill-opacity=\"1\" /><path clip-path=\"url(#clip560)\" d=\"M 0 0 M1790.19 1449.29 L1812.41 1449.29 L1812.41 1451.28 L1799.86 1483.85 L1794.98 1483.85 L1806.78 1453.23 L1790.19 1453.23 L1790.19 1449.29 Z\" fill=\"#000000\" fill-rule=\"evenodd\" fill-opacity=\"1\" /><path clip-path=\"url(#clip560)\" d=\"M 0 0 M1817.52 1449.29 L1835.88 1449.29 L1835.88 1453.23 L1821.81 1453.23 L1821.81 1461.7 Q1822.83 1461.35 1823.84 1461.19 Q1824.86 1461 1825.88 1461 Q1831.67 1461 1835.05 1464.18 Q1838.43 1467.35 1838.43 1472.76 Q1838.43 1478.34 1834.95 1481.44 Q1831.48 1484.52 1825.16 1484.52 Q1822.99 1484.52 1820.72 1484.15 Q1818.47 1483.78 1816.07 1483.04 L1816.07 1478.34 Q1818.15 1479.48 1820.37 1480.03 Q1822.59 1480.59 1825.07 1480.59 Q1829.08 1480.59 1831.41 1478.48 Q1833.75 1476.38 1833.75 1472.76 Q1833.75 1469.15 1831.41 1467.05 Q1829.08 1464.94 1825.07 1464.94 Q1823.2 1464.94 1821.32 1465.36 Q1819.47 1465.77 1817.52 1466.65 L1817.52 1449.29 Z\" fill=\"#000000\" fill-rule=\"evenodd\" fill-opacity=\"1\" /><path clip-path=\"url(#clip560)\" d=\"M 0 0 M2251.44 1479.92 L2259.07 1479.92 L2259.07 1453.55 L2250.76 1455.22 L2250.76 1450.96 L2259.03 1449.29 L2263.7 1449.29 L2263.7 1479.92 L2271.34 1479.92 L2271.34 1483.85 L2251.44 1483.85 L2251.44 1479.92 Z\" fill=\"#000000\" fill-rule=\"evenodd\" fill-opacity=\"1\" /><path clip-path=\"url(#clip560)\" d=\"M 0 0 M2276.41 1477.97 L2281.3 1477.97 L2281.3 1483.85 L2276.41 1483.85 L2276.41 1477.97 Z\" fill=\"#000000\" fill-rule=\"evenodd\" fill-opacity=\"1\" /><path clip-path=\"url(#clip560)\" d=\"M 0 0 M2296.37 1452.37 Q2292.75 1452.37 2290.93 1455.94 Q2289.12 1459.48 2289.12 1466.61 Q2289.12 1473.71 2290.93 1477.28 Q2292.75 1480.82 2296.37 1480.82 Q2300 1480.82 2301.81 1477.28 Q2303.63 1473.71 2303.63 1466.61 Q2303.63 1459.48 2301.81 1455.94 Q2300 1452.37 2296.37 1452.37 M2296.37 1448.67 Q2302.18 1448.67 2305.23 1453.27 Q2308.31 1457.86 2308.31 1466.61 Q2308.31 1475.33 2305.23 1479.94 Q2302.18 1484.52 2296.37 1484.52 Q2290.56 1484.52 2287.48 1479.94 Q2284.42 1475.33 2284.42 1466.61 Q2284.42 1457.86 2287.48 1453.27 Q2290.56 1448.67 2296.37 1448.67 Z\" fill=\"#000000\" fill-rule=\"evenodd\" fill-opacity=\"1\" /><path clip-path=\"url(#clip560)\" d=\"M 0 0 M2323.38 1452.37 Q2319.77 1452.37 2317.94 1455.94 Q2316.13 1459.48 2316.13 1466.61 Q2316.13 1473.71 2317.94 1477.28 Q2319.77 1480.82 2323.38 1480.82 Q2327.01 1480.82 2328.82 1477.28 Q2330.65 1473.71 2330.65 1466.61 Q2330.65 1459.48 2328.82 1455.94 Q2327.01 1452.37 2323.38 1452.37 M2323.38 1448.67 Q2329.19 1448.67 2332.24 1453.27 Q2335.32 1457.86 2335.32 1466.61 Q2335.32 1475.33 2332.24 1479.94 Q2329.19 1484.52 2323.38 1484.52 Q2317.57 1484.52 2314.49 1479.94 Q2311.43 1475.33 2311.43 1466.61 Q2311.43 1457.86 2314.49 1453.27 Q2317.57 1448.67 2323.38 1448.67 Z\" fill=\"#000000\" fill-rule=\"evenodd\" fill-opacity=\"1\" /><path clip-path=\"url(#clip560)\" d=\"M 0 0 M1314.45 1520.4 L1301.56 1537.74 L1315.12 1556.04 L1308.21 1556.04 L1297.84 1542.04 L1287.46 1556.04 L1280.56 1556.04 L1294.4 1537.39 L1281.73 1520.4 L1288.64 1520.4 L1298.09 1533.1 L1307.55 1520.4 L1314.45 1520.4 Z\" fill=\"#000000\" fill-rule=\"evenodd\" fill-opacity=\"1\" /><polyline clip-path=\"url(#clip562)\" style=\"stroke:#000000; stroke-width:2; stroke-opacity:0.1; fill:none\" points=\"\n",
       "  242.922,1386.4 2352.76,1386.4 \n",
       "  \"/>\n",
       "<polyline clip-path=\"url(#clip562)\" style=\"stroke:#000000; stroke-width:2; stroke-opacity:0.1; fill:none\" points=\"\n",
       "  242.922,1079.86 2352.76,1079.86 \n",
       "  \"/>\n",
       "<polyline clip-path=\"url(#clip562)\" style=\"stroke:#000000; stroke-width:2; stroke-opacity:0.1; fill:none\" points=\"\n",
       "  242.922,773.326 2352.76,773.326 \n",
       "  \"/>\n",
       "<polyline clip-path=\"url(#clip562)\" style=\"stroke:#000000; stroke-width:2; stroke-opacity:0.1; fill:none\" points=\"\n",
       "  242.922,466.791 2352.76,466.791 \n",
       "  \"/>\n",
       "<polyline clip-path=\"url(#clip562)\" style=\"stroke:#000000; stroke-width:2; stroke-opacity:0.1; fill:none\" points=\"\n",
       "  242.922,160.256 2352.76,160.256 \n",
       "  \"/>\n",
       "<polyline clip-path=\"url(#clip560)\" style=\"stroke:#000000; stroke-width:4; stroke-opacity:1; fill:none\" points=\"\n",
       "  242.922,1423.18 242.922,123.472 \n",
       "  \"/>\n",
       "<polyline clip-path=\"url(#clip560)\" style=\"stroke:#000000; stroke-width:4; stroke-opacity:1; fill:none\" points=\"\n",
       "  242.922,1386.4 268.24,1386.4 \n",
       "  \"/>\n",
       "<polyline clip-path=\"url(#clip560)\" style=\"stroke:#000000; stroke-width:4; stroke-opacity:1; fill:none\" points=\"\n",
       "  242.922,1079.86 268.24,1079.86 \n",
       "  \"/>\n",
       "<polyline clip-path=\"url(#clip560)\" style=\"stroke:#000000; stroke-width:4; stroke-opacity:1; fill:none\" points=\"\n",
       "  242.922,773.326 268.24,773.326 \n",
       "  \"/>\n",
       "<polyline clip-path=\"url(#clip560)\" style=\"stroke:#000000; stroke-width:4; stroke-opacity:1; fill:none\" points=\"\n",
       "  242.922,466.791 268.24,466.791 \n",
       "  \"/>\n",
       "<polyline clip-path=\"url(#clip560)\" style=\"stroke:#000000; stroke-width:4; stroke-opacity:1; fill:none\" points=\"\n",
       "  242.922,160.256 268.24,160.256 \n",
       "  \"/>\n",
       "<path clip-path=\"url(#clip560)\" d=\"M 0 0 M114.492 1386.85 L144.167 1386.85 L144.167 1390.78 L114.492 1390.78 L114.492 1386.85 Z\" fill=\"#000000\" fill-rule=\"evenodd\" fill-opacity=\"1\" /><path clip-path=\"url(#clip560)\" d=\"M 0 0 M150.047 1399.74 L157.686 1399.74 L157.686 1373.37 L149.376 1375.04 L149.376 1370.78 L157.64 1369.12 L162.315 1369.12 L162.315 1399.74 L169.954 1399.74 L169.954 1403.68 L150.047 1403.68 L150.047 1399.74 Z\" fill=\"#000000\" fill-rule=\"evenodd\" fill-opacity=\"1\" /><path clip-path=\"url(#clip560)\" d=\"M 0 0 M175.024 1397.8 L179.908 1397.8 L179.908 1403.68 L175.024 1403.68 L175.024 1397.8 Z\" fill=\"#000000\" fill-rule=\"evenodd\" fill-opacity=\"1\" /><path clip-path=\"url(#clip560)\" d=\"M 0 0 M194.977 1372.19 Q191.366 1372.19 189.538 1375.76 Q187.732 1379.3 187.732 1386.43 Q187.732 1393.54 189.538 1397.1 Q191.366 1400.64 194.977 1400.64 Q198.612 1400.64 200.417 1397.1 Q202.246 1393.54 202.246 1386.43 Q202.246 1379.3 200.417 1375.76 Q198.612 1372.19 194.977 1372.19 M194.977 1368.49 Q200.787 1368.49 203.843 1373.1 Q206.922 1377.68 206.922 1386.43 Q206.922 1395.16 203.843 1399.76 Q200.787 1404.35 194.977 1404.35 Q189.167 1404.35 186.088 1399.76 Q183.033 1395.16 183.033 1386.43 Q183.033 1377.68 186.088 1373.1 Q189.167 1368.49 194.977 1368.49 Z\" fill=\"#000000\" fill-rule=\"evenodd\" fill-opacity=\"1\" /><path clip-path=\"url(#clip560)\" d=\"M 0 0 M114.26 1080.31 L143.936 1080.31 L143.936 1084.25 L114.26 1084.25 L114.26 1080.31 Z\" fill=\"#000000\" fill-rule=\"evenodd\" fill-opacity=\"1\" /><path clip-path=\"url(#clip560)\" d=\"M 0 0 M159.005 1065.66 Q155.394 1065.66 153.566 1069.22 Q151.76 1072.77 151.76 1079.9 Q151.76 1087 153.566 1090.57 Q155.394 1094.11 159.005 1094.11 Q162.64 1094.11 164.445 1090.57 Q166.274 1087 166.274 1079.9 Q166.274 1072.77 164.445 1069.22 Q162.64 1065.66 159.005 1065.66 M159.005 1061.96 Q164.815 1061.96 167.871 1066.56 Q170.95 1071.15 170.95 1079.9 Q170.95 1088.62 167.871 1093.23 Q164.815 1097.81 159.005 1097.81 Q153.195 1097.81 150.116 1093.23 Q147.061 1088.62 147.061 1079.9 Q147.061 1071.15 150.116 1066.56 Q153.195 1061.96 159.005 1061.96 Z\" fill=\"#000000\" fill-rule=\"evenodd\" fill-opacity=\"1\" /><path clip-path=\"url(#clip560)\" d=\"M 0 0 M176.019 1091.26 L180.903 1091.26 L180.903 1097.14 L176.019 1097.14 L176.019 1091.26 Z\" fill=\"#000000\" fill-rule=\"evenodd\" fill-opacity=\"1\" /><path clip-path=\"url(#clip560)\" d=\"M 0 0 M186.019 1062.58 L204.375 1062.58 L204.375 1066.52 L190.301 1066.52 L190.301 1074.99 Q191.32 1074.64 192.338 1074.48 Q193.357 1074.29 194.375 1074.29 Q200.162 1074.29 203.542 1077.47 Q206.922 1080.64 206.922 1086.05 Q206.922 1091.63 203.449 1094.73 Q199.977 1097.81 193.658 1097.81 Q191.482 1097.81 189.213 1097.44 Q186.968 1097.07 184.561 1096.33 L184.561 1091.63 Q186.644 1092.77 188.866 1093.32 Q191.088 1093.88 193.565 1093.88 Q197.57 1093.88 199.908 1091.77 Q202.246 1089.66 202.246 1086.05 Q202.246 1082.44 199.908 1080.34 Q197.57 1078.23 193.565 1078.23 Q191.69 1078.23 189.815 1078.65 Q187.963 1079.06 186.019 1079.94 L186.019 1062.58 Z\" fill=\"#000000\" fill-rule=\"evenodd\" fill-opacity=\"1\" /><path clip-path=\"url(#clip560)\" d=\"M 0 0 M158.01 759.125 Q154.399 759.125 152.57 762.689 Q150.765 766.231 150.765 773.361 Q150.765 780.467 152.57 784.032 Q154.399 787.574 158.01 787.574 Q161.644 787.574 163.45 784.032 Q165.278 780.467 165.278 773.361 Q165.278 766.231 163.45 762.689 Q161.644 759.125 158.01 759.125 M158.01 755.421 Q163.82 755.421 166.876 760.027 Q169.954 764.611 169.954 773.361 Q169.954 782.088 166.876 786.694 Q163.82 791.277 158.01 791.277 Q152.2 791.277 149.121 786.694 Q146.066 782.088 146.066 773.361 Q146.066 764.611 149.121 760.027 Q152.2 755.421 158.01 755.421 Z\" fill=\"#000000\" fill-rule=\"evenodd\" fill-opacity=\"1\" /><path clip-path=\"url(#clip560)\" d=\"M 0 0 M175.024 784.726 L179.908 784.726 L179.908 790.606 L175.024 790.606 L175.024 784.726 Z\" fill=\"#000000\" fill-rule=\"evenodd\" fill-opacity=\"1\" /><path clip-path=\"url(#clip560)\" d=\"M 0 0 M194.977 759.125 Q191.366 759.125 189.538 762.689 Q187.732 766.231 187.732 773.361 Q187.732 780.467 189.538 784.032 Q191.366 787.574 194.977 787.574 Q198.612 787.574 200.417 784.032 Q202.246 780.467 202.246 773.361 Q202.246 766.231 200.417 762.689 Q198.612 759.125 194.977 759.125 M194.977 755.421 Q200.787 755.421 203.843 760.027 Q206.922 764.611 206.922 773.361 Q206.922 782.088 203.843 786.694 Q200.787 791.277 194.977 791.277 Q189.167 791.277 186.088 786.694 Q183.033 782.088 183.033 773.361 Q183.033 764.611 186.088 760.027 Q189.167 755.421 194.977 755.421 Z\" fill=\"#000000\" fill-rule=\"evenodd\" fill-opacity=\"1\" /><path clip-path=\"url(#clip560)\" d=\"M 0 0 M159.005 452.59 Q155.394 452.59 153.566 456.155 Q151.76 459.696 151.76 466.826 Q151.76 473.932 153.566 477.497 Q155.394 481.039 159.005 481.039 Q162.64 481.039 164.445 477.497 Q166.274 473.932 166.274 466.826 Q166.274 459.696 164.445 456.155 Q162.64 452.59 159.005 452.59 M159.005 448.886 Q164.815 448.886 167.871 453.493 Q170.95 458.076 170.95 466.826 Q170.95 475.553 167.871 480.159 Q164.815 484.742 159.005 484.742 Q153.195 484.742 150.116 480.159 Q147.061 475.553 147.061 466.826 Q147.061 458.076 150.116 453.493 Q153.195 448.886 159.005 448.886 Z\" fill=\"#000000\" fill-rule=\"evenodd\" fill-opacity=\"1\" /><path clip-path=\"url(#clip560)\" d=\"M 0 0 M176.019 478.192 L180.903 478.192 L180.903 484.071 L176.019 484.071 L176.019 478.192 Z\" fill=\"#000000\" fill-rule=\"evenodd\" fill-opacity=\"1\" /><path clip-path=\"url(#clip560)\" d=\"M 0 0 M186.019 449.511 L204.375 449.511 L204.375 453.446 L190.301 453.446 L190.301 461.918 Q191.32 461.571 192.338 461.409 Q193.357 461.224 194.375 461.224 Q200.162 461.224 203.542 464.395 Q206.922 467.567 206.922 472.983 Q206.922 478.562 203.449 481.664 Q199.977 484.742 193.658 484.742 Q191.482 484.742 189.213 484.372 Q186.968 484.002 184.561 483.261 L184.561 478.562 Q186.644 479.696 188.866 480.252 Q191.088 480.807 193.565 480.807 Q197.57 480.807 199.908 478.701 Q202.246 476.594 202.246 472.983 Q202.246 469.372 199.908 467.266 Q197.57 465.159 193.565 465.159 Q191.69 465.159 189.815 465.576 Q187.963 465.993 186.019 466.872 L186.019 449.511 Z\" fill=\"#000000\" fill-rule=\"evenodd\" fill-opacity=\"1\" /><path clip-path=\"url(#clip560)\" d=\"M 0 0 M150.047 173.601 L157.686 173.601 L157.686 147.236 L149.376 148.902 L149.376 144.643 L157.64 142.976 L162.315 142.976 L162.315 173.601 L169.954 173.601 L169.954 177.536 L150.047 177.536 L150.047 173.601 Z\" fill=\"#000000\" fill-rule=\"evenodd\" fill-opacity=\"1\" /><path clip-path=\"url(#clip560)\" d=\"M 0 0 M175.024 171.657 L179.908 171.657 L179.908 177.536 L175.024 177.536 L175.024 171.657 Z\" fill=\"#000000\" fill-rule=\"evenodd\" fill-opacity=\"1\" /><path clip-path=\"url(#clip560)\" d=\"M 0 0 M194.977 146.055 Q191.366 146.055 189.538 149.62 Q187.732 153.161 187.732 160.291 Q187.732 167.397 189.538 170.962 Q191.366 174.504 194.977 174.504 Q198.612 174.504 200.417 170.962 Q202.246 167.397 202.246 160.291 Q202.246 153.161 200.417 149.62 Q198.612 146.055 194.977 146.055 M194.977 142.351 Q200.787 142.351 203.843 146.958 Q206.922 151.541 206.922 160.291 Q206.922 169.018 203.843 173.624 Q200.787 178.208 194.977 178.208 Q189.167 178.208 186.088 173.624 Q183.033 169.018 183.033 160.291 Q183.033 151.541 186.088 146.958 Q189.167 142.351 194.977 142.351 Z\" fill=\"#000000\" fill-rule=\"evenodd\" fill-opacity=\"1\" /><path clip-path=\"url(#clip560)\" d=\"M 0 0 M91.3143 771.639 Q97.68 774.122 99.6216 776.477 Q101.563 778.832 101.563 782.779 L101.563 787.458 L96.6615 787.458 L96.6615 784.02 Q96.6615 781.601 95.5157 780.265 Q94.3699 778.928 90.1048 777.305 L87.4312 776.254 L52.3562 790.673 L52.3562 784.466 L80.238 773.326 L52.3562 762.186 L52.3562 755.979 L91.3143 771.639 Z\" fill=\"#000000\" fill-rule=\"evenodd\" fill-opacity=\"1\" /><path clip-path=\"url(#clip560)\" d=\"M 0 0 M907.939 12.096 L916.122 12.096 L916.122 65.6895 L945.572 65.6895 L945.572 72.576 L907.939 72.576 L907.939 12.096 Z\" fill=\"#000000\" fill-rule=\"evenodd\" fill-opacity=\"1\" /><path clip-path=\"url(#clip560)\" d=\"M 0 0 M974.01 49.7694 Q964.976 49.7694 961.492 51.8354 Q958.008 53.9013 958.008 58.8839 Q958.008 62.8538 960.601 65.2034 Q963.234 67.5124 967.731 67.5124 Q973.929 67.5124 977.655 63.1374 Q981.423 58.7219 981.423 51.4303 L981.423 49.7694 L974.01 49.7694 M988.876 46.6907 L988.876 72.576 L981.423 72.576 L981.423 65.6895 Q978.871 69.8214 975.063 71.8063 Q971.255 73.7508 965.746 73.7508 Q958.778 73.7508 954.646 69.8619 Q950.555 65.9325 950.555 59.3701 Q950.555 51.7138 955.659 47.825 Q960.804 43.9361 970.971 43.9361 L981.423 43.9361 L981.423 43.2069 Q981.423 38.0623 978.02 35.2672 Q974.658 32.4315 968.541 32.4315 Q964.652 32.4315 960.966 33.3632 Q957.279 34.295 953.877 36.1584 L953.877 29.2718 Q957.968 27.692 961.816 26.9223 Q965.665 26.1121 969.31 26.1121 Q979.154 26.1121 984.015 31.2163 Q988.876 36.3204 988.876 46.6907 Z\" fill=\"#000000\" fill-rule=\"evenodd\" fill-opacity=\"1\" /><path clip-path=\"url(#clip560)\" d=\"M 0 0 M1052.92 49.3643 Q1052.92 41.2625 1049.56 36.8065 Q1046.24 32.3505 1040.2 32.3505 Q1034.21 32.3505 1030.84 36.8065 Q1027.52 41.2625 1027.52 49.3643 Q1027.52 57.4256 1030.84 61.8816 Q1034.21 66.3376 1040.2 66.3376 Q1046.24 66.3376 1049.56 61.8816 Q1052.92 57.4256 1052.92 49.3643 M1060.37 66.9452 Q1060.37 78.5308 1055.23 84.1616 Q1050.09 89.8329 1039.47 89.8329 Q1035.54 89.8329 1032.06 89.2252 Q1028.58 88.6581 1025.29 87.4428 L1025.29 80.1917 Q1028.58 81.9741 1031.78 82.8248 Q1034.98 83.6755 1038.3 83.6755 Q1045.63 83.6755 1049.28 79.8271 Q1052.92 76.0193 1052.92 68.282 L1052.92 64.5957 Q1050.61 68.6061 1047.01 70.5911 Q1043.4 72.576 1038.38 72.576 Q1030.03 72.576 1024.93 66.2161 Q1019.83 59.8562 1019.83 49.3643 Q1019.83 38.832 1024.93 32.472 Q1030.03 26.1121 1038.38 26.1121 Q1043.4 26.1121 1047.01 28.0971 Q1050.61 30.082 1052.92 34.0924 L1052.92 27.2059 L1060.37 27.2059 L1060.37 66.9452 Z\" fill=\"#000000\" fill-rule=\"evenodd\" fill-opacity=\"1\" /><path clip-path=\"url(#clip560)\" d=\"M 0 0 M1094.48 34.1734 Q1093.23 33.4443 1091.73 33.1202 Q1090.27 32.7556 1088.49 32.7556 Q1082.17 32.7556 1078.77 36.8875 Q1075.4 40.9789 1075.4 48.6757 L1075.4 72.576 L1067.91 72.576 L1067.91 27.2059 L1075.4 27.2059 L1075.4 34.2544 Q1077.75 30.1225 1081.52 28.1376 Q1085.29 26.1121 1090.68 26.1121 Q1091.45 26.1121 1092.38 26.2337 Q1093.31 26.3147 1094.44 26.5172 L1094.48 34.1734 Z\" fill=\"#000000\" fill-rule=\"evenodd\" fill-opacity=\"1\" /><path clip-path=\"url(#clip560)\" d=\"M 0 0 M1122.92 49.7694 Q1113.89 49.7694 1110.4 51.8354 Q1106.92 53.9013 1106.92 58.8839 Q1106.92 62.8538 1109.51 65.2034 Q1112.15 67.5124 1116.64 67.5124 Q1122.84 67.5124 1126.57 63.1374 Q1130.33 58.7219 1130.33 51.4303 L1130.33 49.7694 L1122.92 49.7694 M1137.79 46.6907 L1137.79 72.576 L1130.33 72.576 L1130.33 65.6895 Q1127.78 69.8214 1123.97 71.8063 Q1120.17 73.7508 1114.66 73.7508 Q1107.69 73.7508 1103.56 69.8619 Q1099.47 65.9325 1099.47 59.3701 Q1099.47 51.7138 1104.57 47.825 Q1109.71 43.9361 1119.88 43.9361 L1130.33 43.9361 L1130.33 43.2069 Q1130.33 38.0623 1126.93 35.2672 Q1123.57 32.4315 1117.45 32.4315 Q1113.56 32.4315 1109.88 33.3632 Q1106.19 34.295 1102.79 36.1584 L1102.79 29.2718 Q1106.88 27.692 1110.73 26.9223 Q1114.58 26.1121 1118.22 26.1121 Q1128.07 26.1121 1132.93 31.2163 Q1137.79 36.3204 1137.79 46.6907 M1124.18 6.22219 L1132.24 6.22219 L1119.03 21.4536 L1112.83 21.4536 L1124.18 6.22219 Z\" fill=\"#000000\" fill-rule=\"evenodd\" fill-opacity=\"1\" /><path clip-path=\"url(#clip560)\" d=\"M 0 0 M1168.57 9.54393 L1168.57 15.7418 L1161.44 15.7418 Q1157.43 15.7418 1155.85 17.3622 Q1154.32 18.9825 1154.32 23.1955 L1154.32 27.2059 L1166.59 27.2059 L1166.59 32.9987 L1154.32 32.9987 L1154.32 72.576 L1146.82 72.576 L1146.82 32.9987 L1139.69 32.9987 L1139.69 27.2059 L1146.82 27.2059 L1146.82 24.0462 Q1146.82 16.471 1150.35 13.0277 Q1153.87 9.54393 1161.53 9.54393 L1168.57 9.54393 Z\" fill=\"#000000\" fill-rule=\"evenodd\" fill-opacity=\"1\" /><path clip-path=\"url(#clip560)\" d=\"M 0 0 M1176.39 27.2059 L1183.85 27.2059 L1183.85 72.576 L1176.39 72.576 L1176.39 27.2059 M1176.39 9.54393 L1183.85 9.54393 L1183.85 18.9825 L1176.39 18.9825 L1176.39 9.54393 Z\" fill=\"#000000\" fill-rule=\"evenodd\" fill-opacity=\"1\" /><path clip-path=\"url(#clip560)\" d=\"M 0 0 M1224.31 28.9478 L1224.31 35.9153 Q1221.16 34.1734 1217.95 33.3227 Q1214.8 32.4315 1211.55 32.4315 Q1204.3 32.4315 1200.29 37.0496 Q1196.28 41.6271 1196.28 49.9314 Q1196.28 58.2358 1200.29 62.8538 Q1204.3 67.4314 1211.55 67.4314 Q1214.8 67.4314 1217.95 66.5807 Q1221.16 65.6895 1224.31 63.9476 L1224.31 70.8341 Q1221.2 72.2924 1217.83 73.0216 Q1214.51 73.7508 1210.74 73.7508 Q1200.5 73.7508 1194.46 67.3098 Q1188.42 60.8689 1188.42 49.9314 Q1188.42 38.832 1194.5 32.472 Q1200.62 26.1121 1211.23 26.1121 Q1214.67 26.1121 1217.95 26.8413 Q1221.24 27.5299 1224.31 28.9478 Z\" fill=\"#000000\" fill-rule=\"evenodd\" fill-opacity=\"1\" /><path clip-path=\"url(#clip560)\" d=\"M 0 0 M1252.75 49.7694 Q1243.72 49.7694 1240.23 51.8354 Q1236.75 53.9013 1236.75 58.8839 Q1236.75 62.8538 1239.34 65.2034 Q1241.98 67.5124 1246.47 67.5124 Q1252.67 67.5124 1256.4 63.1374 Q1260.17 58.7219 1260.17 51.4303 L1260.17 49.7694 L1252.75 49.7694 M1267.62 46.6907 L1267.62 72.576 L1260.17 72.576 L1260.17 65.6895 Q1257.61 69.8214 1253.81 71.8063 Q1250 73.7508 1244.49 73.7508 Q1237.52 73.7508 1233.39 69.8619 Q1229.3 65.9325 1229.3 59.3701 Q1229.3 51.7138 1234.4 47.825 Q1239.55 43.9361 1249.71 43.9361 L1260.17 43.9361 L1260.17 43.2069 Q1260.17 38.0623 1256.76 35.2672 Q1253.4 32.4315 1247.28 32.4315 Q1243.39 32.4315 1239.71 33.3632 Q1236.02 34.295 1232.62 36.1584 L1232.62 29.2718 Q1236.71 27.692 1240.56 26.9223 Q1244.41 26.1121 1248.05 26.1121 Q1257.9 26.1121 1262.76 31.2163 Q1267.62 36.3204 1267.62 46.6907 Z\" fill=\"#000000\" fill-rule=\"evenodd\" fill-opacity=\"1\" /><path clip-path=\"url(#clip560)\" d=\"M 0 0 M1306.26 49.9314 Q1306.26 58.1548 1309.63 62.8538 Q1313.03 67.5124 1318.94 67.5124 Q1324.86 67.5124 1328.26 62.8538 Q1331.66 58.1548 1331.66 49.9314 Q1331.66 41.7081 1328.26 37.0496 Q1324.86 32.3505 1318.94 32.3505 Q1313.03 32.3505 1309.63 37.0496 Q1306.26 41.7081 1306.26 49.9314 M1331.66 65.7705 Q1329.31 69.8214 1325.71 71.8063 Q1322.14 73.7508 1317.12 73.7508 Q1308.9 73.7508 1303.71 67.1883 Q1298.57 60.6258 1298.57 49.9314 Q1298.57 39.2371 1303.71 32.6746 Q1308.9 26.1121 1317.12 26.1121 Q1322.14 26.1121 1325.71 28.0971 Q1329.31 30.0415 1331.66 34.0924 L1331.66 27.2059 L1339.12 27.2059 L1339.12 89.8329 L1331.66 89.8329 L1331.66 65.7705 Z\" fill=\"#000000\" fill-rule=\"evenodd\" fill-opacity=\"1\" /><path clip-path=\"url(#clip560)\" d=\"M 0 0 M1346.17 54.671 L1346.17 27.2059 L1353.62 27.2059 L1353.62 54.3874 Q1353.62 60.8284 1356.13 64.0691 Q1358.64 67.2693 1363.67 67.2693 Q1369.7 67.2693 1373.19 63.421 Q1376.71 59.5726 1376.71 52.9291 L1376.71 27.2059 L1384.16 27.2059 L1384.16 72.576 L1376.71 72.576 L1376.71 65.6084 Q1374 69.7404 1370.39 71.7658 Q1366.83 73.7508 1362.09 73.7508 Q1354.27 73.7508 1350.22 68.8897 Q1346.17 64.0286 1346.17 54.671 M1364.92 26.1121 L1364.92 26.1121 Z\" fill=\"#000000\" fill-rule=\"evenodd\" fill-opacity=\"1\" /><path clip-path=\"url(#clip560)\" d=\"M 0 0 M1430.79 48.0275 L1430.79 51.6733 L1396.52 51.6733 Q1397 59.3701 1401.14 63.421 Q1405.31 67.4314 1412.72 67.4314 Q1417.02 67.4314 1421.03 66.3781 Q1425.08 65.3249 1429.05 63.2184 L1429.05 70.267 Q1425.04 71.9684 1420.82 72.8596 Q1416.61 73.7508 1412.28 73.7508 Q1401.42 73.7508 1395.06 67.4314 Q1388.74 61.1119 1388.74 50.3365 Q1388.74 39.1965 1394.74 32.6746 Q1400.77 26.1121 1410.98 26.1121 Q1420.14 26.1121 1425.44 32.0264 Q1430.79 37.9003 1430.79 48.0275 M1423.34 45.84 Q1423.25 39.7232 1419.89 36.0774 Q1416.57 32.4315 1411.06 32.4315 Q1404.82 32.4315 1401.06 35.9558 Q1397.33 39.4801 1396.76 45.8805 L1423.34 45.84 Z\" fill=\"#000000\" fill-rule=\"evenodd\" fill-opacity=\"1\" /><path clip-path=\"url(#clip560)\" d=\"M 0 0 M1469.44 49.9314 Q1469.44 58.1548 1472.8 62.8538 Q1476.2 67.5124 1482.11 67.5124 Q1488.03 67.5124 1491.43 62.8538 Q1494.83 58.1548 1494.83 49.9314 Q1494.83 41.7081 1491.43 37.0496 Q1488.03 32.3505 1482.11 32.3505 Q1476.2 32.3505 1472.8 37.0496 Q1469.44 41.7081 1469.44 49.9314 M1494.83 65.7705 Q1492.48 69.8214 1488.88 71.8063 Q1485.31 73.7508 1480.29 73.7508 Q1472.07 73.7508 1466.88 67.1883 Q1461.74 60.6258 1461.74 49.9314 Q1461.74 39.2371 1466.88 32.6746 Q1472.07 26.1121 1480.29 26.1121 Q1485.31 26.1121 1488.88 28.0971 Q1492.48 30.0415 1494.83 34.0924 L1494.83 27.2059 L1502.29 27.2059 L1502.29 89.8329 L1494.83 89.8329 L1494.83 65.7705 Z\" fill=\"#000000\" fill-rule=\"evenodd\" fill-opacity=\"1\" /><path clip-path=\"url(#clip560)\" d=\"M 0 0 M1509.34 54.671 L1509.34 27.2059 L1516.79 27.2059 L1516.79 54.3874 Q1516.79 60.8284 1519.3 64.0691 Q1521.81 67.2693 1526.84 67.2693 Q1532.87 67.2693 1536.36 63.421 Q1539.88 59.5726 1539.88 52.9291 L1539.88 27.2059 L1547.33 27.2059 L1547.33 72.576 L1539.88 72.576 L1539.88 65.6084 Q1537.17 69.7404 1533.56 71.7658 Q1530 73.7508 1525.26 73.7508 Q1517.44 73.7508 1513.39 68.8897 Q1509.34 64.0286 1509.34 54.671 M1528.09 26.1121 L1528.09 26.1121 Z\" fill=\"#000000\" fill-rule=\"evenodd\" fill-opacity=\"1\" /><path clip-path=\"url(#clip560)\" d=\"M 0 0 M1555.15 27.2059 L1562.61 27.2059 L1562.61 72.576 L1555.15 72.576 L1555.15 27.2059 M1555.15 9.54393 L1562.61 9.54393 L1562.61 18.9825 L1555.15 18.9825 L1555.15 9.54393 Z\" fill=\"#000000\" fill-rule=\"evenodd\" fill-opacity=\"1\" /><path clip-path=\"url(#clip560)\" d=\"M 0 0 M1609.23 48.0275 L1609.23 51.6733 L1574.96 51.6733 Q1575.45 59.3701 1579.58 63.421 Q1583.75 67.4314 1591.16 67.4314 Q1595.46 67.4314 1599.47 66.3781 Q1603.52 65.3249 1607.49 63.2184 L1607.49 70.267 Q1603.48 71.9684 1599.27 72.8596 Q1595.05 73.7508 1590.72 73.7508 Q1579.86 73.7508 1573.5 67.4314 Q1567.18 61.1119 1567.18 50.3365 Q1567.18 39.1965 1573.18 32.6746 Q1579.21 26.1121 1589.42 26.1121 Q1598.58 26.1121 1603.88 32.0264 Q1609.23 37.9003 1609.23 48.0275 M1601.78 45.84 Q1601.7 39.7232 1598.33 36.0774 Q1595.01 32.4315 1589.5 32.4315 Q1583.27 32.4315 1579.5 35.9558 Q1575.77 39.4801 1575.2 45.8805 L1601.78 45.84 Z\" fill=\"#000000\" fill-rule=\"evenodd\" fill-opacity=\"1\" /><path clip-path=\"url(#clip560)\" d=\"M 0 0 M1643.34 34.1734 Q1642.08 33.4443 1640.59 33.1202 Q1639.13 32.7556 1637.35 32.7556 Q1631.03 32.7556 1627.62 36.8875 Q1624.26 40.9789 1624.26 48.6757 L1624.26 72.576 L1616.77 72.576 L1616.77 27.2059 L1624.26 27.2059 L1624.26 34.2544 Q1626.61 30.1225 1630.38 28.1376 Q1634.14 26.1121 1639.53 26.1121 Q1640.3 26.1121 1641.23 26.2337 Q1642.17 26.3147 1643.3 26.5172 L1643.34 34.1734 Z\" fill=\"#000000\" fill-rule=\"evenodd\" fill-opacity=\"1\" /><path clip-path=\"url(#clip560)\" d=\"M 0 0 M1666.92 32.4315 Q1660.92 32.4315 1657.44 37.1306 Q1653.95 41.7891 1653.95 49.9314 Q1653.95 58.0738 1657.4 62.7728 Q1660.88 67.4314 1666.92 67.4314 Q1672.87 67.4314 1676.36 62.7323 Q1679.84 58.0333 1679.84 49.9314 Q1679.84 41.8701 1676.36 37.1711 Q1672.87 32.4315 1666.92 32.4315 M1666.92 26.1121 Q1676.64 26.1121 1682.19 32.4315 Q1687.74 38.7509 1687.74 49.9314 Q1687.74 61.0714 1682.19 67.4314 Q1676.64 73.7508 1666.92 73.7508 Q1657.15 73.7508 1651.6 67.4314 Q1646.1 61.0714 1646.1 49.9314 Q1646.1 38.7509 1651.6 32.4315 Q1657.15 26.1121 1666.92 26.1121 Z\" fill=\"#000000\" fill-rule=\"evenodd\" fill-opacity=\"1\" /><polyline clip-path=\"url(#clip562)\" style=\"stroke:#009af9; stroke-width:4; stroke-opacity:1; fill:none\" points=\"\n",
       "  302.634,773.326 322.538,734.831 342.442,696.488 362.346,658.448 382.25,620.862 402.154,583.877 422.059,547.64 441.963,512.294 461.867,477.977 481.771,444.827 \n",
       "  501.675,412.973 521.579,382.541 541.483,353.651 561.387,326.417 581.291,300.948 601.195,277.342 621.1,255.694 641.004,236.089 660.908,218.604 680.812,203.308 \n",
       "  700.716,190.262 720.62,179.517 740.524,171.115 760.428,165.091 780.332,161.466 800.236,160.256 820.14,161.466 840.045,165.091 859.949,171.115 879.853,179.517 \n",
       "  899.757,190.262 919.661,203.308 939.565,218.604 959.469,236.089 979.373,255.694 999.277,277.342 1019.18,300.948 1039.09,326.417 1058.99,353.651 1078.89,382.541 \n",
       "  1098.8,412.973 1118.7,444.827 1138.61,477.977 1158.51,512.294 1178.41,547.64 1198.32,583.877 1218.22,620.862 1238.13,658.448 1258.03,696.488 1277.93,734.831 \n",
       "  1297.84,773.326 1317.74,811.821 1337.65,850.164 1357.55,888.204 1377.46,925.79 1397.36,962.775 1417.26,999.012 1437.17,1034.36 1457.07,1068.67 1476.98,1101.83 \n",
       "  1496.88,1133.68 1516.78,1164.11 1536.69,1193 1556.59,1220.23 1576.5,1245.7 1596.4,1269.31 1616.3,1290.96 1636.21,1310.56 1656.11,1328.05 1676.02,1343.34 \n",
       "  1695.92,1356.39 1715.82,1367.13 1735.73,1375.54 1755.63,1381.56 1775.54,1385.19 1795.44,1386.4 1815.35,1385.19 1835.25,1381.56 1855.15,1375.54 1875.06,1367.13 \n",
       "  1894.96,1356.39 1914.87,1343.34 1934.77,1328.05 1954.67,1310.56 1974.58,1290.96 1994.48,1269.31 2014.39,1245.7 2034.29,1220.23 2054.19,1193 2074.1,1164.11 \n",
       "  2094,1133.68 2113.91,1101.83 2133.81,1068.67 2153.71,1034.36 2173.62,999.012 2193.52,962.775 2213.43,925.79 2233.33,888.204 2253.24,850.164 2273.14,811.821 \n",
       "  2293.04,773.326 \n",
       "  \"/>\n",
       "<path clip-path=\"url(#clip560)\" d=\"\n",
       "M1933.84 287.756 L2282.43 287.756 L2282.43 166.796 L1933.84 166.796  Z\n",
       "  \" fill=\"#ffffff\" fill-rule=\"evenodd\" fill-opacity=\"1\"/>\n",
       "<polyline clip-path=\"url(#clip560)\" style=\"stroke:#000000; stroke-width:4; stroke-opacity:1; fill:none\" points=\"\n",
       "  1933.84,287.756 2282.43,287.756 2282.43,166.796 1933.84,166.796 1933.84,287.756 \n",
       "  \"/>\n",
       "<polyline clip-path=\"url(#clip560)\" style=\"stroke:#009af9; stroke-width:4; stroke-opacity:1; fill:none\" points=\"\n",
       "  1957.28,227.276 2097.93,227.276 \n",
       "  \"/>\n",
       "<path clip-path=\"url(#clip560)\" d=\"M 0 0 M2140.29 222.565 L2140.29 208.537 L2144.55 208.537 L2144.55 244.556 L2140.29 244.556 L2140.29 240.667 Q2138.95 242.982 2136.89 244.116 Q2134.85 245.227 2131.98 245.227 Q2127.28 245.227 2124.32 241.477 Q2121.38 237.727 2121.38 231.616 Q2121.38 225.505 2124.32 221.755 Q2127.28 218.005 2131.98 218.005 Q2134.85 218.005 2136.89 219.139 Q2138.95 220.25 2140.29 222.565 M2125.77 231.616 Q2125.77 236.315 2127.7 239 Q2129.64 241.662 2133.02 241.662 Q2136.4 241.662 2138.34 239 Q2140.29 236.315 2140.29 231.616 Q2140.29 226.917 2138.34 224.255 Q2136.4 221.57 2133.02 221.57 Q2129.64 221.57 2127.7 224.255 Q2125.77 226.917 2125.77 231.616 Z\" fill=\"#000000\" fill-rule=\"evenodd\" fill-opacity=\"1\" /><path clip-path=\"url(#clip560)\" d=\"M 0 0 M2160.8 231.523 Q2155.64 231.523 2153.65 232.704 Q2151.65 233.884 2151.65 236.732 Q2151.65 239 2153.14 240.343 Q2154.64 241.662 2157.21 241.662 Q2160.75 241.662 2162.88 239.162 Q2165.03 236.639 2165.03 232.472 L2165.03 231.523 L2160.8 231.523 M2169.29 229.764 L2169.29 244.556 L2165.03 244.556 L2165.03 240.621 Q2163.58 242.982 2161.4 244.116 Q2159.22 245.227 2156.08 245.227 Q2152.09 245.227 2149.73 243.005 Q2147.4 240.759 2147.4 237.009 Q2147.4 232.634 2150.31 230.412 Q2153.25 228.19 2159.06 228.19 L2165.03 228.19 L2165.03 227.773 Q2165.03 224.834 2163.09 223.236 Q2161.17 221.616 2157.67 221.616 Q2155.45 221.616 2153.34 222.148 Q2151.24 222.681 2149.29 223.746 L2149.29 219.81 Q2151.63 218.908 2153.83 218.468 Q2156.03 218.005 2158.11 218.005 Q2163.74 218.005 2166.52 220.922 Q2169.29 223.838 2169.29 229.764 Z\" fill=\"#000000\" fill-rule=\"evenodd\" fill-opacity=\"1\" /><path clip-path=\"url(#clip560)\" d=\"M 0 0 M2177.97 211.269 L2177.97 218.63 L2186.75 218.63 L2186.75 221.94 L2177.97 221.94 L2177.97 236.014 Q2177.97 239.185 2178.83 240.088 Q2179.71 240.991 2182.37 240.991 L2186.75 240.991 L2186.75 244.556 L2182.37 244.556 Q2177.44 244.556 2175.57 242.727 Q2173.69 240.875 2173.69 236.014 L2173.69 221.94 L2170.57 221.94 L2170.57 218.63 L2173.69 218.63 L2173.69 211.269 L2177.97 211.269 Z\" fill=\"#000000\" fill-rule=\"evenodd\" fill-opacity=\"1\" /><path clip-path=\"url(#clip560)\" d=\"M 0 0 M2201.26 221.616 Q2197.83 221.616 2195.84 224.301 Q2193.85 226.963 2193.85 231.616 Q2193.85 236.269 2195.82 238.954 Q2197.81 241.616 2201.26 241.616 Q2204.66 241.616 2206.65 238.931 Q2208.64 236.246 2208.64 231.616 Q2208.64 227.01 2206.65 224.324 Q2204.66 221.616 2201.26 221.616 M2201.26 218.005 Q2206.82 218.005 2209.99 221.616 Q2213.16 225.227 2213.16 231.616 Q2213.16 237.982 2209.99 241.616 Q2206.82 245.227 2201.26 245.227 Q2195.68 245.227 2192.51 241.616 Q2189.36 237.982 2189.36 231.616 Q2189.36 225.227 2192.51 221.616 Q2195.68 218.005 2201.26 218.005 Z\" fill=\"#000000\" fill-rule=\"evenodd\" fill-opacity=\"1\" /><path clip-path=\"url(#clip560)\" d=\"M 0 0 M2234.15 219.394 L2234.15 223.422 Q2232.35 222.496 2230.4 222.033 Q2228.46 221.57 2226.38 221.57 Q2223.2 221.57 2221.61 222.542 Q2220.03 223.514 2220.03 225.459 Q2220.03 226.94 2221.17 227.797 Q2222.3 228.63 2225.73 229.394 L2227.19 229.718 Q2231.72 230.69 2233.62 232.472 Q2235.54 234.232 2235.54 237.403 Q2235.54 241.014 2232.67 243.121 Q2229.83 245.227 2224.83 245.227 Q2222.74 245.227 2220.47 244.81 Q2218.23 244.417 2215.73 243.607 L2215.73 239.209 Q2218.09 240.435 2220.38 241.06 Q2222.67 241.662 2224.92 241.662 Q2227.93 241.662 2229.55 240.644 Q2231.17 239.602 2231.17 237.727 Q2231.17 235.991 2229.99 235.065 Q2228.83 234.139 2224.87 233.283 L2223.39 232.935 Q2219.43 232.102 2217.67 230.389 Q2215.91 228.653 2215.91 225.644 Q2215.91 221.986 2218.51 219.996 Q2221.1 218.005 2225.87 218.005 Q2228.23 218.005 2230.31 218.352 Q2232.39 218.699 2234.15 219.394 Z\" fill=\"#000000\" fill-rule=\"evenodd\" fill-opacity=\"1\" /></svg>\n"
      ]
     },
     "metadata": {},
     "output_type": "display_data"
    }
   ],
   "source": [
    "xs = range(0,stop=1,length=101)\n",
    "graficar(xs,x -> sin(2*pi*x))"
   ]
  },
  {
   "cell_type": "code",
   "execution_count": 18,
   "metadata": {},
   "outputs": [
    {
     "data": {
      "text/plain": [
       "gaussiana (generic function with 1 method)"
      ]
     },
     "execution_count": 18,
     "metadata": {},
     "output_type": "execute_result"
    }
   ],
   "source": [
    "function gaussiana(x,mu,sigma)\n",
    "    a = 1/sqrt(2*pi*sigma^2)\n",
    "    b = (x-mu)/sigma\n",
    "    return a*exp(-b^2/2)\n",
    "end"
   ]
  },
  {
   "cell_type": "code",
   "execution_count": 21,
   "metadata": {},
   "outputs": [
    {
     "data": {
      "image/svg+xml": [
       "<?xml version=\"1.0\" encoding=\"utf-8\"?>\n",
       "<svg xmlns=\"http://www.w3.org/2000/svg\" xmlns:xlink=\"http://www.w3.org/1999/xlink\" width=\"600\" height=\"400\" viewBox=\"0 0 2400 1600\">\n",
       "<defs>\n",
       "  <clipPath id=\"clip840\">\n",
       "    <rect x=\"0\" y=\"0\" width=\"2400\" height=\"1600\"/>\n",
       "  </clipPath>\n",
       "</defs>\n",
       "<path clip-path=\"url(#clip840)\" d=\"\n",
       "M0 1600 L2400 1600 L2400 0 L0 0  Z\n",
       "  \" fill=\"#ffffff\" fill-rule=\"evenodd\" fill-opacity=\"1\"/>\n",
       "<defs>\n",
       "  <clipPath id=\"clip841\">\n",
       "    <rect x=\"480\" y=\"0\" width=\"1681\" height=\"1600\"/>\n",
       "  </clipPath>\n",
       "</defs>\n",
       "<path clip-path=\"url(#clip840)\" d=\"\n",
       "M175.445 1423.18 L2352.76 1423.18 L2352.76 123.472 L175.445 123.472  Z\n",
       "  \" fill=\"#ffffff\" fill-rule=\"evenodd\" fill-opacity=\"1\"/>\n",
       "<defs>\n",
       "  <clipPath id=\"clip842\">\n",
       "    <rect x=\"175\" y=\"123\" width=\"2178\" height=\"1301\"/>\n",
       "  </clipPath>\n",
       "</defs>\n",
       "<polyline clip-path=\"url(#clip842)\" style=\"stroke:#000000; stroke-width:2; stroke-opacity:0.1; fill:none\" points=\"\n",
       "  237.067,1423.18 237.067,123.472 \n",
       "  \"/>\n",
       "<polyline clip-path=\"url(#clip842)\" style=\"stroke:#000000; stroke-width:2; stroke-opacity:0.1; fill:none\" points=\"\n",
       "  750.584,1423.18 750.584,123.472 \n",
       "  \"/>\n",
       "<polyline clip-path=\"url(#clip842)\" style=\"stroke:#000000; stroke-width:2; stroke-opacity:0.1; fill:none\" points=\"\n",
       "  1264.1,1423.18 1264.1,123.472 \n",
       "  \"/>\n",
       "<polyline clip-path=\"url(#clip842)\" style=\"stroke:#000000; stroke-width:2; stroke-opacity:0.1; fill:none\" points=\"\n",
       "  1777.62,1423.18 1777.62,123.472 \n",
       "  \"/>\n",
       "<polyline clip-path=\"url(#clip842)\" style=\"stroke:#000000; stroke-width:2; stroke-opacity:0.1; fill:none\" points=\"\n",
       "  2291.13,1423.18 2291.13,123.472 \n",
       "  \"/>\n",
       "<polyline clip-path=\"url(#clip840)\" style=\"stroke:#000000; stroke-width:4; stroke-opacity:1; fill:none\" points=\"\n",
       "  175.445,1423.18 2352.76,1423.18 \n",
       "  \"/>\n",
       "<polyline clip-path=\"url(#clip840)\" style=\"stroke:#000000; stroke-width:4; stroke-opacity:1; fill:none\" points=\"\n",
       "  237.067,1423.18 237.067,1407.58 \n",
       "  \"/>\n",
       "<polyline clip-path=\"url(#clip840)\" style=\"stroke:#000000; stroke-width:4; stroke-opacity:1; fill:none\" points=\"\n",
       "  750.584,1423.18 750.584,1407.58 \n",
       "  \"/>\n",
       "<polyline clip-path=\"url(#clip840)\" style=\"stroke:#000000; stroke-width:4; stroke-opacity:1; fill:none\" points=\"\n",
       "  1264.1,1423.18 1264.1,1407.58 \n",
       "  \"/>\n",
       "<polyline clip-path=\"url(#clip840)\" style=\"stroke:#000000; stroke-width:4; stroke-opacity:1; fill:none\" points=\"\n",
       "  1777.62,1423.18 1777.62,1407.58 \n",
       "  \"/>\n",
       "<polyline clip-path=\"url(#clip840)\" style=\"stroke:#000000; stroke-width:4; stroke-opacity:1; fill:none\" points=\"\n",
       "  2291.13,1423.18 2291.13,1407.58 \n",
       "  \"/>\n",
       "<path clip-path=\"url(#clip840)\" d=\"M 0 0 M190.852 1467.02 L220.528 1467.02 L220.528 1470.96 L190.852 1470.96 L190.852 1467.02 Z\" fill=\"#000000\" fill-rule=\"evenodd\" fill-opacity=\"1\" /><path clip-path=\"url(#clip840)\" d=\"M 0 0 M226.408 1479.92 L234.046 1479.92 L234.046 1453.55 L225.736 1455.22 L225.736 1450.96 L234 1449.29 L238.676 1449.29 L238.676 1479.92 L246.315 1479.92 L246.315 1483.85 L226.408 1483.85 L226.408 1479.92 Z\" fill=\"#000000\" fill-rule=\"evenodd\" fill-opacity=\"1\" /><path clip-path=\"url(#clip840)\" d=\"M 0 0 M251.384 1477.97 L256.268 1477.97 L256.268 1483.85 L251.384 1483.85 L251.384 1477.97 Z\" fill=\"#000000\" fill-rule=\"evenodd\" fill-opacity=\"1\" /><path clip-path=\"url(#clip840)\" d=\"M 0 0 M271.338 1452.37 Q267.727 1452.37 265.898 1455.94 Q264.093 1459.48 264.093 1466.61 Q264.093 1473.71 265.898 1477.28 Q267.727 1480.82 271.338 1480.82 Q274.972 1480.82 276.778 1477.28 Q278.606 1473.71 278.606 1466.61 Q278.606 1459.48 276.778 1455.94 Q274.972 1452.37 271.338 1452.37 M271.338 1448.67 Q277.148 1448.67 280.204 1453.27 Q283.282 1457.86 283.282 1466.61 Q283.282 1475.33 280.204 1479.94 Q277.148 1484.52 271.338 1484.52 Q265.528 1484.52 262.449 1479.94 Q259.393 1475.33 259.393 1466.61 Q259.393 1457.86 262.449 1453.27 Q265.528 1448.67 271.338 1448.67 Z\" fill=\"#000000\" fill-rule=\"evenodd\" fill-opacity=\"1\" /><path clip-path=\"url(#clip840)\" d=\"M 0 0 M704.253 1467.02 L733.929 1467.02 L733.929 1470.96 L704.253 1470.96 L704.253 1467.02 Z\" fill=\"#000000\" fill-rule=\"evenodd\" fill-opacity=\"1\" /><path clip-path=\"url(#clip840)\" d=\"M 0 0 M748.998 1452.37 Q745.387 1452.37 743.558 1455.94 Q741.753 1459.48 741.753 1466.61 Q741.753 1473.71 743.558 1477.28 Q745.387 1480.82 748.998 1480.82 Q752.632 1480.82 754.438 1477.28 Q756.267 1473.71 756.267 1466.61 Q756.267 1459.48 754.438 1455.94 Q752.632 1452.37 748.998 1452.37 M748.998 1448.67 Q754.808 1448.67 757.864 1453.27 Q760.943 1457.86 760.943 1466.61 Q760.943 1475.33 757.864 1479.94 Q754.808 1484.52 748.998 1484.52 Q743.188 1484.52 740.109 1479.94 Q737.054 1475.33 737.054 1466.61 Q737.054 1457.86 740.109 1453.27 Q743.188 1448.67 748.998 1448.67 Z\" fill=\"#000000\" fill-rule=\"evenodd\" fill-opacity=\"1\" /><path clip-path=\"url(#clip840)\" d=\"M 0 0 M766.012 1477.97 L770.896 1477.97 L770.896 1483.85 L766.012 1483.85 L766.012 1477.97 Z\" fill=\"#000000\" fill-rule=\"evenodd\" fill-opacity=\"1\" /><path clip-path=\"url(#clip840)\" d=\"M 0 0 M776.012 1449.29 L794.368 1449.29 L794.368 1453.23 L780.294 1453.23 L780.294 1461.7 Q781.313 1461.35 782.331 1461.19 Q783.35 1461 784.368 1461 Q790.155 1461 793.535 1464.18 Q796.915 1467.35 796.915 1472.76 Q796.915 1478.34 793.442 1481.44 Q789.97 1484.52 783.651 1484.52 Q781.475 1484.52 779.206 1484.15 Q776.961 1483.78 774.554 1483.04 L774.554 1478.34 Q776.637 1479.48 778.859 1480.03 Q781.081 1480.59 783.558 1480.59 Q787.563 1480.59 789.901 1478.48 Q792.239 1476.38 792.239 1472.76 Q792.239 1469.15 789.901 1467.05 Q787.563 1464.94 783.558 1464.94 Q781.683 1464.94 779.808 1465.36 Q777.956 1465.77 776.012 1466.65 L776.012 1449.29 Z\" fill=\"#000000\" fill-rule=\"evenodd\" fill-opacity=\"1\" /><path clip-path=\"url(#clip840)\" d=\"M 0 0 M1245.62 1452.37 Q1242.01 1452.37 1240.18 1455.94 Q1238.37 1459.48 1238.37 1466.61 Q1238.37 1473.71 1240.18 1477.28 Q1242.01 1480.82 1245.62 1480.82 Q1249.25 1480.82 1251.06 1477.28 Q1252.89 1473.71 1252.89 1466.61 Q1252.89 1459.48 1251.06 1455.94 Q1249.25 1452.37 1245.62 1452.37 M1245.62 1448.67 Q1251.43 1448.67 1254.48 1453.27 Q1257.56 1457.86 1257.56 1466.61 Q1257.56 1475.33 1254.48 1479.94 Q1251.43 1484.52 1245.62 1484.52 Q1239.81 1484.52 1236.73 1479.94 Q1233.67 1475.33 1233.67 1466.61 Q1233.67 1457.86 1236.73 1453.27 Q1239.81 1448.67 1245.62 1448.67 Z\" fill=\"#000000\" fill-rule=\"evenodd\" fill-opacity=\"1\" /><path clip-path=\"url(#clip840)\" d=\"M 0 0 M1262.63 1477.97 L1267.51 1477.97 L1267.51 1483.85 L1262.63 1483.85 L1262.63 1477.97 Z\" fill=\"#000000\" fill-rule=\"evenodd\" fill-opacity=\"1\" /><path clip-path=\"url(#clip840)\" d=\"M 0 0 M1282.58 1452.37 Q1278.97 1452.37 1277.14 1455.94 Q1275.34 1459.48 1275.34 1466.61 Q1275.34 1473.71 1277.14 1477.28 Q1278.97 1480.82 1282.58 1480.82 Q1286.22 1480.82 1288.02 1477.28 Q1289.85 1473.71 1289.85 1466.61 Q1289.85 1459.48 1288.02 1455.94 Q1286.22 1452.37 1282.58 1452.37 M1282.58 1448.67 Q1288.39 1448.67 1291.45 1453.27 Q1294.53 1457.86 1294.53 1466.61 Q1294.53 1475.33 1291.45 1479.94 Q1288.39 1484.52 1282.58 1484.52 Q1276.77 1484.52 1273.7 1479.94 Q1270.64 1475.33 1270.64 1466.61 Q1270.64 1457.86 1273.7 1453.27 Q1276.77 1448.67 1282.58 1448.67 Z\" fill=\"#000000\" fill-rule=\"evenodd\" fill-opacity=\"1\" /><path clip-path=\"url(#clip840)\" d=\"M 0 0 M1759.63 1452.37 Q1756.02 1452.37 1754.19 1455.94 Q1752.39 1459.48 1752.39 1466.61 Q1752.39 1473.71 1754.19 1477.28 Q1756.02 1480.82 1759.63 1480.82 Q1763.27 1480.82 1765.07 1477.28 Q1766.9 1473.71 1766.9 1466.61 Q1766.9 1459.48 1765.07 1455.94 Q1763.27 1452.37 1759.63 1452.37 M1759.63 1448.67 Q1765.44 1448.67 1768.5 1453.27 Q1771.58 1457.86 1771.58 1466.61 Q1771.58 1475.33 1768.5 1479.94 Q1765.44 1484.52 1759.63 1484.52 Q1753.82 1484.52 1750.74 1479.94 Q1747.69 1475.33 1747.69 1466.61 Q1747.69 1457.86 1750.74 1453.27 Q1753.82 1448.67 1759.63 1448.67 Z\" fill=\"#000000\" fill-rule=\"evenodd\" fill-opacity=\"1\" /><path clip-path=\"url(#clip840)\" d=\"M 0 0 M1776.65 1477.97 L1781.53 1477.97 L1781.53 1483.85 L1776.65 1483.85 L1776.65 1477.97 Z\" fill=\"#000000\" fill-rule=\"evenodd\" fill-opacity=\"1\" /><path clip-path=\"url(#clip840)\" d=\"M 0 0 M1786.64 1449.29 L1805 1449.29 L1805 1453.23 L1790.93 1453.23 L1790.93 1461.7 Q1791.95 1461.35 1792.96 1461.19 Q1793.98 1461 1795 1461 Q1800.79 1461 1804.17 1464.18 Q1807.55 1467.35 1807.55 1472.76 Q1807.55 1478.34 1804.08 1481.44 Q1800.6 1484.52 1794.28 1484.52 Q1792.11 1484.52 1789.84 1484.15 Q1787.59 1483.78 1785.19 1483.04 L1785.19 1478.34 Q1787.27 1479.48 1789.49 1480.03 Q1791.71 1480.59 1794.19 1480.59 Q1798.2 1480.59 1800.53 1478.48 Q1802.87 1476.38 1802.87 1472.76 Q1802.87 1469.15 1800.53 1467.05 Q1798.2 1464.94 1794.19 1464.94 Q1792.32 1464.94 1790.44 1465.36 Q1788.59 1465.77 1786.64 1466.65 L1786.64 1449.29 Z\" fill=\"#000000\" fill-rule=\"evenodd\" fill-opacity=\"1\" /><path clip-path=\"url(#clip840)\" d=\"M 0 0 M2263.03 1479.92 L2270.67 1479.92 L2270.67 1453.55 L2262.36 1455.22 L2262.36 1450.96 L2270.62 1449.29 L2275.3 1449.29 L2275.3 1479.92 L2282.94 1479.92 L2282.94 1483.85 L2263.03 1483.85 L2263.03 1479.92 Z\" fill=\"#000000\" fill-rule=\"evenodd\" fill-opacity=\"1\" /><path clip-path=\"url(#clip840)\" d=\"M 0 0 M2288.01 1477.97 L2292.89 1477.97 L2292.89 1483.85 L2288.01 1483.85 L2288.01 1477.97 Z\" fill=\"#000000\" fill-rule=\"evenodd\" fill-opacity=\"1\" /><path clip-path=\"url(#clip840)\" d=\"M 0 0 M2307.96 1452.37 Q2304.35 1452.37 2302.52 1455.94 Q2300.72 1459.48 2300.72 1466.61 Q2300.72 1473.71 2302.52 1477.28 Q2304.35 1480.82 2307.96 1480.82 Q2311.6 1480.82 2313.4 1477.28 Q2315.23 1473.71 2315.23 1466.61 Q2315.23 1459.48 2313.4 1455.94 Q2311.6 1452.37 2307.96 1452.37 M2307.96 1448.67 Q2313.77 1448.67 2316.83 1453.27 Q2319.91 1457.86 2319.91 1466.61 Q2319.91 1475.33 2316.83 1479.94 Q2313.77 1484.52 2307.96 1484.52 Q2302.15 1484.52 2299.07 1479.94 Q2296.02 1475.33 2296.02 1466.61 Q2296.02 1457.86 2299.07 1453.27 Q2302.15 1448.67 2307.96 1448.67 Z\" fill=\"#000000\" fill-rule=\"evenodd\" fill-opacity=\"1\" /><path clip-path=\"url(#clip840)\" d=\"M 0 0 M1280.72 1520.4 L1267.82 1537.74 L1281.38 1556.04 L1274.48 1556.04 L1264.1 1542.04 L1253.72 1556.04 L1246.82 1556.04 L1260.66 1537.39 L1248 1520.4 L1254.9 1520.4 L1264.36 1533.1 L1273.81 1520.4 L1280.72 1520.4 Z\" fill=\"#000000\" fill-rule=\"evenodd\" fill-opacity=\"1\" /><polyline clip-path=\"url(#clip842)\" style=\"stroke:#000000; stroke-width:2; stroke-opacity:0.1; fill:none\" points=\"\n",
       "  175.445,1386.4 2352.76,1386.4 \n",
       "  \"/>\n",
       "<polyline clip-path=\"url(#clip842)\" style=\"stroke:#000000; stroke-width:2; stroke-opacity:0.1; fill:none\" points=\"\n",
       "  175.445,1079.05 2352.76,1079.05 \n",
       "  \"/>\n",
       "<polyline clip-path=\"url(#clip842)\" style=\"stroke:#000000; stroke-width:2; stroke-opacity:0.1; fill:none\" points=\"\n",
       "  175.445,771.701 2352.76,771.701 \n",
       "  \"/>\n",
       "<polyline clip-path=\"url(#clip842)\" style=\"stroke:#000000; stroke-width:2; stroke-opacity:0.1; fill:none\" points=\"\n",
       "  175.445,464.353 2352.76,464.353 \n",
       "  \"/>\n",
       "<polyline clip-path=\"url(#clip842)\" style=\"stroke:#000000; stroke-width:2; stroke-opacity:0.1; fill:none\" points=\"\n",
       "  175.445,157.005 2352.76,157.005 \n",
       "  \"/>\n",
       "<polyline clip-path=\"url(#clip840)\" style=\"stroke:#000000; stroke-width:4; stroke-opacity:1; fill:none\" points=\"\n",
       "  175.445,1423.18 175.445,123.472 \n",
       "  \"/>\n",
       "<polyline clip-path=\"url(#clip840)\" style=\"stroke:#000000; stroke-width:4; stroke-opacity:1; fill:none\" points=\"\n",
       "  175.445,1386.4 201.573,1386.4 \n",
       "  \"/>\n",
       "<polyline clip-path=\"url(#clip840)\" style=\"stroke:#000000; stroke-width:4; stroke-opacity:1; fill:none\" points=\"\n",
       "  175.445,1079.05 201.573,1079.05 \n",
       "  \"/>\n",
       "<polyline clip-path=\"url(#clip840)\" style=\"stroke:#000000; stroke-width:4; stroke-opacity:1; fill:none\" points=\"\n",
       "  175.445,771.701 201.573,771.701 \n",
       "  \"/>\n",
       "<polyline clip-path=\"url(#clip840)\" style=\"stroke:#000000; stroke-width:4; stroke-opacity:1; fill:none\" points=\"\n",
       "  175.445,464.353 201.573,464.353 \n",
       "  \"/>\n",
       "<polyline clip-path=\"url(#clip840)\" style=\"stroke:#000000; stroke-width:4; stroke-opacity:1; fill:none\" points=\"\n",
       "  175.445,157.005 201.573,157.005 \n",
       "  \"/>\n",
       "<path clip-path=\"url(#clip840)\" d=\"M 0 0 M127.501 1372.19 Q123.89 1372.19 122.061 1375.76 Q120.255 1379.3 120.255 1386.43 Q120.255 1393.54 122.061 1397.1 Q123.89 1400.64 127.501 1400.64 Q131.135 1400.64 132.941 1397.1 Q134.769 1393.54 134.769 1386.43 Q134.769 1379.3 132.941 1375.76 Q131.135 1372.19 127.501 1372.19 M127.501 1368.49 Q133.311 1368.49 136.367 1373.1 Q139.445 1377.68 139.445 1386.43 Q139.445 1395.16 136.367 1399.76 Q133.311 1404.35 127.501 1404.35 Q121.691 1404.35 118.612 1399.76 Q115.556 1395.16 115.556 1386.43 Q115.556 1377.68 118.612 1373.1 Q121.691 1368.49 127.501 1368.49 Z\" fill=\"#000000\" fill-rule=\"evenodd\" fill-opacity=\"1\" /><path clip-path=\"url(#clip840)\" d=\"M 0 0 M119.538 1092.39 L127.177 1092.39 L127.177 1066.03 L118.867 1067.69 L118.867 1063.43 L127.13 1061.77 L131.806 1061.77 L131.806 1092.39 L139.445 1092.39 L139.445 1096.33 L119.538 1096.33 L119.538 1092.39 Z\" fill=\"#000000\" fill-rule=\"evenodd\" fill-opacity=\"1\" /><path clip-path=\"url(#clip840)\" d=\"M 0 0 M123.126 785.045 L139.445 785.045 L139.445 788.981 L117.501 788.981 L117.501 785.045 Q120.163 782.291 124.746 777.661 Q129.353 773.008 130.533 771.666 Q132.779 769.143 133.658 767.407 Q134.561 765.647 134.561 763.958 Q134.561 761.203 132.617 759.467 Q130.695 757.731 127.593 757.731 Q125.394 757.731 122.941 758.495 Q120.51 759.258 117.732 760.809 L117.732 756.087 Q120.556 754.953 123.01 754.374 Q125.464 753.796 127.501 753.796 Q132.871 753.796 136.066 756.481 Q139.26 759.166 139.26 763.657 Q139.26 765.786 138.45 767.708 Q137.663 769.606 135.556 772.198 Q134.978 772.87 131.876 776.087 Q128.774 779.282 123.126 785.045 Z\" fill=\"#000000\" fill-rule=\"evenodd\" fill-opacity=\"1\" /><path clip-path=\"url(#clip840)\" d=\"M 0 0 M132.316 462.999 Q135.672 463.716 137.547 465.985 Q139.445 468.253 139.445 471.587 Q139.445 476.702 135.927 479.503 Q132.408 482.304 125.927 482.304 Q123.751 482.304 121.436 481.864 Q119.144 481.448 116.691 480.591 L116.691 476.077 Q118.635 477.212 120.95 477.79 Q123.265 478.369 125.788 478.369 Q130.186 478.369 132.478 476.633 Q134.792 474.897 134.792 471.587 Q134.792 468.531 132.64 466.818 Q130.51 465.082 126.691 465.082 L122.663 465.082 L122.663 461.24 L126.876 461.24 Q130.325 461.24 132.154 459.874 Q133.982 458.485 133.982 455.892 Q133.982 453.23 132.084 451.818 Q130.209 450.383 126.691 450.383 Q124.769 450.383 122.57 450.8 Q120.371 451.216 117.732 452.096 L117.732 447.929 Q120.394 447.189 122.709 446.818 Q125.047 446.448 127.107 446.448 Q132.431 446.448 135.533 448.879 Q138.635 451.286 138.635 455.406 Q138.635 458.277 136.992 460.267 Q135.348 462.235 132.316 462.999 Z\" fill=\"#000000\" fill-rule=\"evenodd\" fill-opacity=\"1\" /><path clip-path=\"url(#clip840)\" d=\"M 0 0 M129.862 143.799 L118.056 162.248 L129.862 162.248 L129.862 143.799 M128.635 139.725 L134.515 139.725 L134.515 162.248 L139.445 162.248 L139.445 166.137 L134.515 166.137 L134.515 174.285 L129.862 174.285 L129.862 166.137 L114.26 166.137 L114.26 161.623 L128.635 139.725 Z\" fill=\"#000000\" fill-rule=\"evenodd\" fill-opacity=\"1\" /><path clip-path=\"url(#clip840)\" d=\"M 0 0 M91.3143 771.639 Q97.68 774.122 99.6216 776.477 Q101.563 778.832 101.563 782.779 L101.563 787.458 L96.6615 787.458 L96.6615 784.02 Q96.6615 781.601 95.5157 780.265 Q94.3699 778.928 90.1048 777.305 L87.4312 776.254 L52.3562 790.673 L52.3562 784.466 L80.238 773.326 L52.3562 762.186 L52.3562 755.979 L91.3143 771.639 Z\" fill=\"#000000\" fill-rule=\"evenodd\" fill-opacity=\"1\" /><path clip-path=\"url(#clip840)\" d=\"M 0 0 M874.201 12.096 L882.384 12.096 L882.384 65.6895 L911.834 65.6895 L911.834 72.576 L874.201 72.576 L874.201 12.096 Z\" fill=\"#000000\" fill-rule=\"evenodd\" fill-opacity=\"1\" /><path clip-path=\"url(#clip840)\" d=\"M 0 0 M940.271 49.7694 Q931.238 49.7694 927.754 51.8354 Q924.27 53.9013 924.27 58.8839 Q924.27 62.8538 926.863 65.2034 Q929.496 67.5124 933.992 67.5124 Q940.19 67.5124 943.917 63.1374 Q947.684 58.7219 947.684 51.4303 L947.684 49.7694 L940.271 49.7694 M955.138 46.6907 L955.138 72.576 L947.684 72.576 L947.684 65.6895 Q945.132 69.8214 941.325 71.8063 Q937.517 73.7508 932.007 73.7508 Q925.04 73.7508 920.908 69.8619 Q916.817 65.9325 916.817 59.3701 Q916.817 51.7138 921.921 47.825 Q927.065 43.9361 937.233 43.9361 L947.684 43.9361 L947.684 43.2069 Q947.684 38.0623 944.282 35.2672 Q940.919 32.4315 934.803 32.4315 Q930.914 32.4315 927.227 33.3632 Q923.541 34.295 920.138 36.1584 L920.138 29.2718 Q924.23 27.692 928.078 26.9223 Q931.926 26.1121 935.572 26.1121 Q945.416 26.1121 950.277 31.2163 Q955.138 36.3204 955.138 46.6907 Z\" fill=\"#000000\" fill-rule=\"evenodd\" fill-opacity=\"1\" /><path clip-path=\"url(#clip840)\" d=\"M 0 0 M1019.18 49.3643 Q1019.18 41.2625 1015.82 36.8065 Q1012.5 32.3505 1006.46 32.3505 Q1000.47 32.3505 997.105 36.8065 Q993.784 41.2625 993.784 49.3643 Q993.784 57.4256 997.105 61.8816 Q1000.47 66.3376 1006.46 66.3376 Q1012.5 66.3376 1015.82 61.8816 Q1019.18 57.4256 1019.18 49.3643 M1026.64 66.9452 Q1026.64 78.5308 1021.49 84.1616 Q1016.35 89.8329 1005.73 89.8329 Q1001.8 89.8329 998.321 89.2252 Q994.837 88.6581 991.556 87.4428 L991.556 80.1917 Q994.837 81.9741 998.037 82.8248 Q1001.24 83.6755 1004.56 83.6755 Q1011.89 83.6755 1015.54 79.8271 Q1019.18 76.0193 1019.18 68.282 L1019.18 64.5957 Q1016.87 68.6061 1013.27 70.5911 Q1009.66 72.576 1004.64 72.576 Q996.295 72.576 991.191 66.2161 Q986.087 59.8562 986.087 49.3643 Q986.087 38.832 991.191 32.472 Q996.295 26.1121 1004.64 26.1121 Q1009.66 26.1121 1013.27 28.0971 Q1016.87 30.082 1019.18 34.0924 L1019.18 27.2059 L1026.64 27.2059 L1026.64 66.9452 Z\" fill=\"#000000\" fill-rule=\"evenodd\" fill-opacity=\"1\" /><path clip-path=\"url(#clip840)\" d=\"M 0 0 M1060.75 34.1734 Q1059.49 33.4443 1057.99 33.1202 Q1056.53 32.7556 1054.75 32.7556 Q1048.43 32.7556 1045.03 36.8875 Q1041.67 40.9789 1041.67 48.6757 L1041.67 72.576 L1034.17 72.576 L1034.17 27.2059 L1041.67 27.2059 L1041.67 34.2544 Q1044.01 30.1225 1047.78 28.1376 Q1051.55 26.1121 1056.94 26.1121 Q1057.71 26.1121 1058.64 26.2337 Q1059.57 26.3147 1060.7 26.5172 L1060.75 34.1734 Z\" fill=\"#000000\" fill-rule=\"evenodd\" fill-opacity=\"1\" /><path clip-path=\"url(#clip840)\" d=\"M 0 0 M1089.18 49.7694 Q1080.15 49.7694 1076.67 51.8354 Q1073.18 53.9013 1073.18 58.8839 Q1073.18 62.8538 1075.77 65.2034 Q1078.41 67.5124 1082.9 67.5124 Q1089.1 67.5124 1092.83 63.1374 Q1096.6 58.7219 1096.6 51.4303 L1096.6 49.7694 L1089.18 49.7694 M1104.05 46.6907 L1104.05 72.576 L1096.6 72.576 L1096.6 65.6895 Q1094.04 69.8214 1090.24 71.8063 Q1086.43 73.7508 1080.92 73.7508 Q1073.95 73.7508 1069.82 69.8619 Q1065.73 65.9325 1065.73 59.3701 Q1065.73 51.7138 1070.83 47.825 Q1075.98 43.9361 1086.14 43.9361 L1096.6 43.9361 L1096.6 43.2069 Q1096.6 38.0623 1093.19 35.2672 Q1089.83 32.4315 1083.71 32.4315 Q1079.82 32.4315 1076.14 33.3632 Q1072.45 34.295 1069.05 36.1584 L1069.05 29.2718 Q1073.14 27.692 1076.99 26.9223 Q1080.84 26.1121 1084.48 26.1121 Q1094.33 26.1121 1099.19 31.2163 Q1104.05 36.3204 1104.05 46.6907 M1090.44 6.22219 L1098.5 6.22219 L1085.29 21.4536 L1079.1 21.4536 L1090.44 6.22219 Z\" fill=\"#000000\" fill-rule=\"evenodd\" fill-opacity=\"1\" /><path clip-path=\"url(#clip840)\" d=\"M 0 0 M1134.84 9.54393 L1134.84 15.7418 L1127.71 15.7418 Q1123.7 15.7418 1122.12 17.3622 Q1120.58 18.9825 1120.58 23.1955 L1120.58 27.2059 L1132.85 27.2059 L1132.85 32.9987 L1120.58 32.9987 L1120.58 72.576 L1113.08 72.576 L1113.08 32.9987 L1105.95 32.9987 L1105.95 27.2059 L1113.08 27.2059 L1113.08 24.0462 Q1113.08 16.471 1116.61 13.0277 Q1120.13 9.54393 1127.79 9.54393 L1134.84 9.54393 Z\" fill=\"#000000\" fill-rule=\"evenodd\" fill-opacity=\"1\" /><path clip-path=\"url(#clip840)\" d=\"M 0 0 M1142.65 27.2059 L1150.11 27.2059 L1150.11 72.576 L1142.65 72.576 L1142.65 27.2059 M1142.65 9.54393 L1150.11 9.54393 L1150.11 18.9825 L1142.65 18.9825 L1142.65 9.54393 Z\" fill=\"#000000\" fill-rule=\"evenodd\" fill-opacity=\"1\" /><path clip-path=\"url(#clip840)\" d=\"M 0 0 M1190.58 28.9478 L1190.58 35.9153 Q1187.42 34.1734 1184.22 33.3227 Q1181.06 32.4315 1177.82 32.4315 Q1170.57 32.4315 1166.55 37.0496 Q1162.54 41.6271 1162.54 49.9314 Q1162.54 58.2358 1166.55 62.8538 Q1170.57 67.4314 1177.82 67.4314 Q1181.06 67.4314 1184.22 66.5807 Q1187.42 65.6895 1190.58 63.9476 L1190.58 70.8341 Q1187.46 72.2924 1184.1 73.0216 Q1180.77 73.7508 1177.01 73.7508 Q1166.76 73.7508 1160.72 67.3098 Q1154.69 60.8689 1154.69 49.9314 Q1154.69 38.832 1160.76 32.472 Q1166.88 26.1121 1177.49 26.1121 Q1180.94 26.1121 1184.22 26.8413 Q1187.5 27.5299 1190.58 28.9478 Z\" fill=\"#000000\" fill-rule=\"evenodd\" fill-opacity=\"1\" /><path clip-path=\"url(#clip840)\" d=\"M 0 0 M1219.01 49.7694 Q1209.98 49.7694 1206.5 51.8354 Q1203.01 53.9013 1203.01 58.8839 Q1203.01 62.8538 1205.61 65.2034 Q1208.24 67.5124 1212.74 67.5124 Q1218.93 67.5124 1222.66 63.1374 Q1226.43 58.7219 1226.43 51.4303 L1226.43 49.7694 L1219.01 49.7694 M1233.88 46.6907 L1233.88 72.576 L1226.43 72.576 L1226.43 65.6895 Q1223.88 69.8214 1220.07 71.8063 Q1216.26 73.7508 1210.75 73.7508 Q1203.78 73.7508 1199.65 69.8619 Q1195.56 65.9325 1195.56 59.3701 Q1195.56 51.7138 1200.66 47.825 Q1205.81 43.9361 1215.98 43.9361 L1226.43 43.9361 L1226.43 43.2069 Q1226.43 38.0623 1223.02 35.2672 Q1219.66 32.4315 1213.55 32.4315 Q1209.66 32.4315 1205.97 33.3632 Q1202.28 34.295 1198.88 36.1584 L1198.88 29.2718 Q1202.97 27.692 1206.82 26.9223 Q1210.67 26.1121 1214.31 26.1121 Q1224.16 26.1121 1229.02 31.2163 Q1233.88 36.3204 1233.88 46.6907 Z\" fill=\"#000000\" fill-rule=\"evenodd\" fill-opacity=\"1\" /><path clip-path=\"url(#clip840)\" d=\"M 0 0 M1272.53 49.9314 Q1272.53 58.1548 1275.89 62.8538 Q1279.29 67.5124 1285.21 67.5124 Q1291.12 67.5124 1294.52 62.8538 Q1297.93 58.1548 1297.93 49.9314 Q1297.93 41.7081 1294.52 37.0496 Q1291.12 32.3505 1285.21 32.3505 Q1279.29 32.3505 1275.89 37.0496 Q1272.53 41.7081 1272.53 49.9314 M1297.93 65.7705 Q1295.58 69.8214 1291.97 71.8063 Q1288.41 73.7508 1283.38 73.7508 Q1275.16 73.7508 1269.97 67.1883 Q1264.83 60.6258 1264.83 49.9314 Q1264.83 39.2371 1269.97 32.6746 Q1275.16 26.1121 1283.38 26.1121 Q1288.41 26.1121 1291.97 28.0971 Q1295.58 30.0415 1297.93 34.0924 L1297.93 27.2059 L1305.38 27.2059 L1305.38 89.8329 L1297.93 89.8329 L1297.93 65.7705 Z\" fill=\"#000000\" fill-rule=\"evenodd\" fill-opacity=\"1\" /><path clip-path=\"url(#clip840)\" d=\"M 0 0 M1312.43 54.671 L1312.43 27.2059 L1319.88 27.2059 L1319.88 54.3874 Q1319.88 60.8284 1322.39 64.0691 Q1324.9 67.2693 1329.93 67.2693 Q1335.96 67.2693 1339.45 63.421 Q1342.97 59.5726 1342.97 52.9291 L1342.97 27.2059 L1350.43 27.2059 L1350.43 72.576 L1342.97 72.576 L1342.97 65.6084 Q1340.26 69.7404 1336.65 71.7658 Q1333.09 73.7508 1328.35 73.7508 Q1320.53 73.7508 1316.48 68.8897 Q1312.43 64.0286 1312.43 54.671 M1331.18 26.1121 L1331.18 26.1121 Z\" fill=\"#000000\" fill-rule=\"evenodd\" fill-opacity=\"1\" /><path clip-path=\"url(#clip840)\" d=\"M 0 0 M1397.05 48.0275 L1397.05 51.6733 L1362.78 51.6733 Q1363.27 59.3701 1367.4 63.421 Q1371.57 67.4314 1378.98 67.4314 Q1383.28 67.4314 1387.29 66.3781 Q1391.34 65.3249 1395.31 63.2184 L1395.31 70.267 Q1391.3 71.9684 1387.09 72.8596 Q1382.87 73.7508 1378.54 73.7508 Q1367.68 73.7508 1361.32 67.4314 Q1355 61.1119 1355 50.3365 Q1355 39.1965 1361 32.6746 Q1367.03 26.1121 1377.24 26.1121 Q1386.4 26.1121 1391.7 32.0264 Q1397.05 37.9003 1397.05 48.0275 M1389.6 45.84 Q1389.52 39.7232 1386.15 36.0774 Q1382.83 32.4315 1377.32 32.4315 Q1371.08 32.4315 1367.32 35.9558 Q1363.59 39.4801 1363.02 45.8805 L1389.6 45.84 Z\" fill=\"#000000\" fill-rule=\"evenodd\" fill-opacity=\"1\" /><path clip-path=\"url(#clip840)\" d=\"M 0 0 M1435.7 49.9314 Q1435.7 58.1548 1439.06 62.8538 Q1442.46 67.5124 1448.38 67.5124 Q1454.29 67.5124 1457.69 62.8538 Q1461.1 58.1548 1461.1 49.9314 Q1461.1 41.7081 1457.69 37.0496 Q1454.29 32.3505 1448.38 32.3505 Q1442.46 32.3505 1439.06 37.0496 Q1435.7 41.7081 1435.7 49.9314 M1461.1 65.7705 Q1458.75 69.8214 1455.14 71.8063 Q1451.58 73.7508 1446.55 73.7508 Q1438.33 73.7508 1433.14 67.1883 Q1428 60.6258 1428 49.9314 Q1428 39.2371 1433.14 32.6746 Q1438.33 26.1121 1446.55 26.1121 Q1451.58 26.1121 1455.14 28.0971 Q1458.75 30.0415 1461.1 34.0924 L1461.1 27.2059 L1468.55 27.2059 L1468.55 89.8329 L1461.1 89.8329 L1461.1 65.7705 Z\" fill=\"#000000\" fill-rule=\"evenodd\" fill-opacity=\"1\" /><path clip-path=\"url(#clip840)\" d=\"M 0 0 M1475.6 54.671 L1475.6 27.2059 L1483.05 27.2059 L1483.05 54.3874 Q1483.05 60.8284 1485.56 64.0691 Q1488.08 67.2693 1493.1 67.2693 Q1499.13 67.2693 1502.62 63.421 Q1506.14 59.5726 1506.14 52.9291 L1506.14 27.2059 L1513.6 27.2059 L1513.6 72.576 L1506.14 72.576 L1506.14 65.6084 Q1503.43 69.7404 1499.82 71.7658 Q1496.26 73.7508 1491.52 73.7508 Q1483.7 73.7508 1479.65 68.8897 Q1475.6 64.0286 1475.6 54.671 M1494.35 26.1121 L1494.35 26.1121 Z\" fill=\"#000000\" fill-rule=\"evenodd\" fill-opacity=\"1\" /><path clip-path=\"url(#clip840)\" d=\"M 0 0 M1521.41 27.2059 L1528.87 27.2059 L1528.87 72.576 L1521.41 72.576 L1521.41 27.2059 M1521.41 9.54393 L1528.87 9.54393 L1528.87 18.9825 L1521.41 18.9825 L1521.41 9.54393 Z\" fill=\"#000000\" fill-rule=\"evenodd\" fill-opacity=\"1\" /><path clip-path=\"url(#clip840)\" d=\"M 0 0 M1575.49 48.0275 L1575.49 51.6733 L1541.22 51.6733 Q1541.71 59.3701 1545.84 63.421 Q1550.01 67.4314 1557.43 67.4314 Q1561.72 67.4314 1565.73 66.3781 Q1569.78 65.3249 1573.75 63.2184 L1573.75 70.267 Q1569.74 71.9684 1565.53 72.8596 Q1561.32 73.7508 1556.98 73.7508 Q1546.12 73.7508 1539.76 67.4314 Q1533.45 61.1119 1533.45 50.3365 Q1533.45 39.1965 1539.44 32.6746 Q1545.48 26.1121 1555.68 26.1121 Q1564.84 26.1121 1570.15 32.0264 Q1575.49 37.9003 1575.49 48.0275 M1568.04 45.84 Q1567.96 39.7232 1564.6 36.0774 Q1561.27 32.4315 1555.77 32.4315 Q1549.53 32.4315 1545.76 35.9558 Q1542.03 39.4801 1541.47 45.8805 L1568.04 45.84 Z\" fill=\"#000000\" fill-rule=\"evenodd\" fill-opacity=\"1\" /><path clip-path=\"url(#clip840)\" d=\"M 0 0 M1609.6 34.1734 Q1608.35 33.4443 1606.85 33.1202 Q1605.39 32.7556 1603.61 32.7556 Q1597.29 32.7556 1593.88 36.8875 Q1590.52 40.9789 1590.52 48.6757 L1590.52 72.576 L1583.03 72.576 L1583.03 27.2059 L1590.52 27.2059 L1590.52 34.2544 Q1592.87 30.1225 1596.64 28.1376 Q1600.41 26.1121 1605.79 26.1121 Q1606.56 26.1121 1607.5 26.2337 Q1608.43 26.3147 1609.56 26.5172 L1609.6 34.1734 Z\" fill=\"#000000\" fill-rule=\"evenodd\" fill-opacity=\"1\" /><path clip-path=\"url(#clip840)\" d=\"M 0 0 M1633.18 32.4315 Q1627.18 32.4315 1623.7 37.1306 Q1620.22 41.7891 1620.22 49.9314 Q1620.22 58.0738 1623.66 62.7728 Q1627.14 67.4314 1633.18 67.4314 Q1639.13 67.4314 1642.62 62.7323 Q1646.1 58.0333 1646.1 49.9314 Q1646.1 41.8701 1642.62 37.1711 Q1639.13 32.4315 1633.18 32.4315 M1633.18 26.1121 Q1642.9 26.1121 1648.45 32.4315 Q1654 38.7509 1654 49.9314 Q1654 61.0714 1648.45 67.4314 Q1642.9 73.7508 1633.18 73.7508 Q1623.42 73.7508 1617.87 67.4314 Q1612.36 61.0714 1612.36 49.9314 Q1612.36 38.7509 1617.87 32.4315 Q1623.42 26.1121 1633.18 26.1121 Z\" fill=\"#000000\" fill-rule=\"evenodd\" fill-opacity=\"1\" /><polyline clip-path=\"url(#clip842)\" style=\"stroke:#009af9; stroke-width:4; stroke-opacity:1; fill:none\" points=\"\n",
       "  237.067,1386.4 247.338,1386.4 257.608,1386.4 267.878,1386.4 278.149,1386.4 288.419,1386.4 298.689,1386.4 308.96,1386.4 319.23,1386.4 329.5,1386.4 \n",
       "  339.771,1386.4 350.041,1386.4 360.311,1386.4 370.582,1386.4 380.852,1386.4 391.122,1386.4 401.393,1386.4 411.663,1386.4 421.933,1386.4 432.204,1386.4 \n",
       "  442.474,1386.4 452.744,1386.4 463.015,1386.4 473.285,1386.4 483.555,1386.4 493.826,1386.4 504.096,1386.4 514.366,1386.4 524.637,1386.4 534.907,1386.4 \n",
       "  545.177,1386.4 555.448,1386.4 565.718,1386.4 575.988,1386.4 586.259,1386.4 596.529,1386.4 606.799,1386.4 617.07,1386.4 627.34,1386.4 637.61,1386.4 \n",
       "  647.881,1386.4 658.151,1386.4 668.421,1386.4 678.692,1386.4 688.962,1386.4 699.232,1386.4 709.503,1386.4 719.773,1386.4 730.043,1386.4 740.314,1386.4 \n",
       "  750.584,1386.4 760.854,1386.4 771.125,1386.4 781.395,1386.4 791.665,1386.4 801.936,1386.4 812.206,1386.4 822.476,1386.39 832.747,1386.39 843.017,1386.39 \n",
       "  853.287,1386.39 863.558,1386.39 873.828,1386.38 884.098,1386.38 894.369,1386.36 904.639,1386.35 914.909,1386.32 925.18,1386.28 935.45,1386.21 945.72,1386.12 \n",
       "  955.991,1385.98 966.261,1385.79 976.531,1385.5 986.802,1385.09 997.072,1384.51 1007.34,1383.71 1017.61,1382.61 1027.88,1381.1 1038.15,1379.07 1048.42,1376.36 \n",
       "  1058.69,1372.77 1068.96,1368.1 1079.23,1362.07 1089.5,1354.37 1099.78,1344.65 1110.05,1332.52 1120.32,1317.57 1130.59,1299.33 1140.86,1277.37 1151.13,1251.21 \n",
       "  1161.4,1220.46 1171.67,1184.73 1181.94,1143.74 1192.21,1097.34 1202.48,1045.48 1212.75,988.326 1223.02,926.212 1233.29,859.698 1243.56,789.57 1253.83,716.832 \n",
       "  1264.1,642.705 1274.37,568.589 1284.64,496.036 1294.91,426.691 1305.18,362.238 1315.45,304.331 1325.72,254.526 1335.99,214.21 1346.26,184.535 1356.53,166.372 \n",
       "  1366.8,160.256 1377.07,166.372 1387.34,184.535 1397.61,214.21 1407.89,254.526 1418.16,304.331 1428.43,362.238 1438.7,426.691 1448.97,496.036 1459.24,568.589 \n",
       "  1469.51,642.705 1479.78,716.832 1490.05,789.57 1500.32,859.698 1510.59,926.212 1520.86,988.326 1531.13,1045.48 1541.4,1097.34 1551.67,1143.74 1561.94,1184.73 \n",
       "  1572.21,1220.46 1582.48,1251.21 1592.75,1277.37 1603.02,1299.33 1613.29,1317.57 1623.56,1332.52 1633.83,1344.65 1644.1,1354.37 1654.37,1362.07 1664.64,1368.1 \n",
       "  1674.91,1372.77 1685.18,1376.36 1695.45,1379.07 1705.72,1381.1 1716,1382.61 1726.27,1383.71 1736.54,1384.51 1746.81,1385.09 1757.08,1385.5 1767.35,1385.79 \n",
       "  1777.62,1385.98 1787.89,1386.12 1798.16,1386.21 1808.43,1386.28 1818.7,1386.32 1828.97,1386.35 1839.24,1386.36 1849.51,1386.38 1859.78,1386.38 1870.05,1386.39 \n",
       "  1880.32,1386.39 1890.59,1386.39 1900.86,1386.39 1911.13,1386.39 1921.4,1386.4 1931.67,1386.4 1941.94,1386.4 1952.21,1386.4 1962.48,1386.4 1972.75,1386.4 \n",
       "  1983.02,1386.4 1993.29,1386.4 2003.56,1386.4 2013.83,1386.4 2024.11,1386.4 2034.38,1386.4 2044.65,1386.4 2054.92,1386.4 2065.19,1386.4 2075.46,1386.4 \n",
       "  2085.73,1386.4 2096,1386.4 2106.27,1386.4 2116.54,1386.4 2126.81,1386.4 2137.08,1386.4 2147.35,1386.4 2157.62,1386.4 2167.89,1386.4 2178.16,1386.4 \n",
       "  2188.43,1386.4 2198.7,1386.4 2208.97,1386.4 2219.24,1386.4 2229.51,1386.4 2239.78,1386.4 2250.05,1386.4 2260.32,1386.4 2270.59,1386.4 2280.86,1386.4 \n",
       "  2291.13,1386.4 \n",
       "  \"/>\n",
       "<path clip-path=\"url(#clip840)\" d=\"\n",
       "M1924.09 287.756 L2280.18 287.756 L2280.18 166.796 L1924.09 166.796  Z\n",
       "  \" fill=\"#ffffff\" fill-rule=\"evenodd\" fill-opacity=\"1\"/>\n",
       "<polyline clip-path=\"url(#clip840)\" style=\"stroke:#000000; stroke-width:4; stroke-opacity:1; fill:none\" points=\"\n",
       "  1924.09,287.756 2280.18,287.756 2280.18,166.796 1924.09,166.796 1924.09,287.756 \n",
       "  \"/>\n",
       "<polyline clip-path=\"url(#clip840)\" style=\"stroke:#009af9; stroke-width:4; stroke-opacity:1; fill:none\" points=\"\n",
       "  1948.28,227.276 2093.44,227.276 \n",
       "  \"/>\n",
       "<path clip-path=\"url(#clip840)\" d=\"M 0 0 M2136.54 222.565 L2136.54 208.537 L2140.8 208.537 L2140.8 244.556 L2136.54 244.556 L2136.54 240.667 Q2135.2 242.982 2133.14 244.116 Q2131.1 245.227 2128.23 245.227 Q2123.53 245.227 2120.57 241.477 Q2117.63 237.727 2117.63 231.616 Q2117.63 225.505 2120.57 221.755 Q2123.53 218.005 2128.23 218.005 Q2131.1 218.005 2133.14 219.139 Q2135.2 220.25 2136.54 222.565 M2122.03 231.616 Q2122.03 236.315 2123.95 239 Q2125.89 241.662 2129.27 241.662 Q2132.65 241.662 2134.6 239 Q2136.54 236.315 2136.54 231.616 Q2136.54 226.917 2134.6 224.255 Q2132.65 221.57 2129.27 221.57 Q2125.89 221.57 2123.95 224.255 Q2122.03 226.917 2122.03 231.616 Z\" fill=\"#000000\" fill-rule=\"evenodd\" fill-opacity=\"1\" /><path clip-path=\"url(#clip840)\" d=\"M 0 0 M2157.05 231.523 Q2151.89 231.523 2149.9 232.704 Q2147.91 233.884 2147.91 236.732 Q2147.91 239 2149.39 240.343 Q2150.89 241.662 2153.46 241.662 Q2157 241.662 2159.13 239.162 Q2161.29 236.639 2161.29 232.472 L2161.29 231.523 L2157.05 231.523 M2165.54 229.764 L2165.54 244.556 L2161.29 244.556 L2161.29 240.621 Q2159.83 242.982 2157.65 244.116 Q2155.48 245.227 2152.33 245.227 Q2148.35 245.227 2145.98 243.005 Q2143.65 240.759 2143.65 237.009 Q2143.65 232.634 2146.56 230.412 Q2149.5 228.19 2155.31 228.19 L2161.29 228.19 L2161.29 227.773 Q2161.29 224.834 2159.34 223.236 Q2157.42 221.616 2153.92 221.616 Q2151.7 221.616 2149.6 222.148 Q2147.49 222.681 2145.54 223.746 L2145.54 219.81 Q2147.88 218.908 2150.08 218.468 Q2152.28 218.005 2154.36 218.005 Q2159.99 218.005 2162.77 220.922 Q2165.54 223.838 2165.54 229.764 Z\" fill=\"#000000\" fill-rule=\"evenodd\" fill-opacity=\"1\" /><path clip-path=\"url(#clip840)\" d=\"M 0 0 M2174.23 211.269 L2174.23 218.63 L2183 218.63 L2183 221.94 L2174.23 221.94 L2174.23 236.014 Q2174.23 239.185 2175.08 240.088 Q2175.96 240.991 2178.62 240.991 L2183 240.991 L2183 244.556 L2178.62 244.556 Q2173.69 244.556 2171.82 242.727 Q2169.94 240.875 2169.94 236.014 L2169.94 221.94 L2166.82 221.94 L2166.82 218.63 L2169.94 218.63 L2169.94 211.269 L2174.23 211.269 Z\" fill=\"#000000\" fill-rule=\"evenodd\" fill-opacity=\"1\" /><path clip-path=\"url(#clip840)\" d=\"M 0 0 M2197.51 221.616 Q2194.09 221.616 2192.1 224.301 Q2190.1 226.963 2190.1 231.616 Q2190.1 236.269 2192.07 238.954 Q2194.06 241.616 2197.51 241.616 Q2200.91 241.616 2202.91 238.931 Q2204.9 236.246 2204.9 231.616 Q2204.9 227.01 2202.91 224.324 Q2200.91 221.616 2197.51 221.616 M2197.51 218.005 Q2203.07 218.005 2206.24 221.616 Q2209.41 225.227 2209.41 231.616 Q2209.41 237.982 2206.24 241.616 Q2203.07 245.227 2197.51 245.227 Q2191.93 245.227 2188.76 241.616 Q2185.61 237.982 2185.61 231.616 Q2185.61 225.227 2188.76 221.616 Q2191.93 218.005 2197.51 218.005 Z\" fill=\"#000000\" fill-rule=\"evenodd\" fill-opacity=\"1\" /><path clip-path=\"url(#clip840)\" d=\"M 0 0 M2230.41 219.394 L2230.41 223.422 Q2228.6 222.496 2226.66 222.033 Q2224.71 221.57 2222.63 221.57 Q2219.46 221.57 2217.86 222.542 Q2216.29 223.514 2216.29 225.459 Q2216.29 226.94 2217.42 227.797 Q2218.55 228.63 2221.98 229.394 L2223.44 229.718 Q2227.97 230.69 2229.87 232.472 Q2231.79 234.232 2231.79 237.403 Q2231.79 241.014 2228.92 243.121 Q2226.08 245.227 2221.08 245.227 Q2218.99 245.227 2216.72 244.81 Q2214.48 244.417 2211.98 243.607 L2211.98 239.209 Q2214.34 240.435 2216.63 241.06 Q2218.92 241.662 2221.17 241.662 Q2224.18 241.662 2225.8 240.644 Q2227.42 239.602 2227.42 237.727 Q2227.42 235.991 2226.24 235.065 Q2225.08 234.139 2221.12 233.283 L2219.64 232.935 Q2215.68 232.102 2213.92 230.389 Q2212.16 228.653 2212.16 225.644 Q2212.16 221.986 2214.76 219.996 Q2217.35 218.005 2222.12 218.005 Q2224.48 218.005 2226.56 218.352 Q2228.65 218.699 2230.41 219.394 Z\" fill=\"#000000\" fill-rule=\"evenodd\" fill-opacity=\"1\" /></svg>\n"
      ]
     },
     "metadata": {},
     "output_type": "display_data"
    },
    {
     "data": {
      "image/svg+xml": [
       "<?xml version=\"1.0\" encoding=\"utf-8\"?>\n",
       "<svg xmlns=\"http://www.w3.org/2000/svg\" xmlns:xlink=\"http://www.w3.org/1999/xlink\" width=\"600\" height=\"400\" viewBox=\"0 0 2400 1600\">\n",
       "<defs>\n",
       "  <clipPath id=\"clip880\">\n",
       "    <rect x=\"0\" y=\"0\" width=\"2400\" height=\"1600\"/>\n",
       "  </clipPath>\n",
       "</defs>\n",
       "<path clip-path=\"url(#clip880)\" d=\"\n",
       "M0 1600 L2400 1600 L2400 0 L0 0  Z\n",
       "  \" fill=\"#ffffff\" fill-rule=\"evenodd\" fill-opacity=\"1\"/>\n",
       "<defs>\n",
       "  <clipPath id=\"clip881\">\n",
       "    <rect x=\"480\" y=\"0\" width=\"1681\" height=\"1600\"/>\n",
       "  </clipPath>\n",
       "</defs>\n",
       "<path clip-path=\"url(#clip880)\" d=\"\n",
       "M238.13 1423.18 L2352.76 1423.18 L2352.76 123.472 L238.13 123.472  Z\n",
       "  \" fill=\"#ffffff\" fill-rule=\"evenodd\" fill-opacity=\"1\"/>\n",
       "<defs>\n",
       "  <clipPath id=\"clip882\">\n",
       "    <rect x=\"238\" y=\"123\" width=\"2116\" height=\"1301\"/>\n",
       "  </clipPath>\n",
       "</defs>\n",
       "<polyline clip-path=\"url(#clip882)\" style=\"stroke:#000000; stroke-width:2; stroke-opacity:0.1; fill:none\" points=\"\n",
       "  297.978,1423.18 297.978,123.472 \n",
       "  \"/>\n",
       "<polyline clip-path=\"url(#clip882)\" style=\"stroke:#000000; stroke-width:2; stroke-opacity:0.1; fill:none\" points=\"\n",
       "  796.71,1423.18 796.71,123.472 \n",
       "  \"/>\n",
       "<polyline clip-path=\"url(#clip882)\" style=\"stroke:#000000; stroke-width:2; stroke-opacity:0.1; fill:none\" points=\"\n",
       "  1295.44,1423.18 1295.44,123.472 \n",
       "  \"/>\n",
       "<polyline clip-path=\"url(#clip882)\" style=\"stroke:#000000; stroke-width:2; stroke-opacity:0.1; fill:none\" points=\"\n",
       "  1794.18,1423.18 1794.18,123.472 \n",
       "  \"/>\n",
       "<polyline clip-path=\"url(#clip882)\" style=\"stroke:#000000; stroke-width:2; stroke-opacity:0.1; fill:none\" points=\"\n",
       "  2292.91,1423.18 2292.91,123.472 \n",
       "  \"/>\n",
       "<polyline clip-path=\"url(#clip880)\" style=\"stroke:#000000; stroke-width:4; stroke-opacity:1; fill:none\" points=\"\n",
       "  238.13,1423.18 2352.76,1423.18 \n",
       "  \"/>\n",
       "<polyline clip-path=\"url(#clip880)\" style=\"stroke:#000000; stroke-width:4; stroke-opacity:1; fill:none\" points=\"\n",
       "  297.978,1423.18 297.978,1407.58 \n",
       "  \"/>\n",
       "<polyline clip-path=\"url(#clip880)\" style=\"stroke:#000000; stroke-width:4; stroke-opacity:1; fill:none\" points=\"\n",
       "  796.71,1423.18 796.71,1407.58 \n",
       "  \"/>\n",
       "<polyline clip-path=\"url(#clip880)\" style=\"stroke:#000000; stroke-width:4; stroke-opacity:1; fill:none\" points=\"\n",
       "  1295.44,1423.18 1295.44,1407.58 \n",
       "  \"/>\n",
       "<polyline clip-path=\"url(#clip880)\" style=\"stroke:#000000; stroke-width:4; stroke-opacity:1; fill:none\" points=\"\n",
       "  1794.18,1423.18 1794.18,1407.58 \n",
       "  \"/>\n",
       "<polyline clip-path=\"url(#clip880)\" style=\"stroke:#000000; stroke-width:4; stroke-opacity:1; fill:none\" points=\"\n",
       "  2292.91,1423.18 2292.91,1407.58 \n",
       "  \"/>\n",
       "<path clip-path=\"url(#clip880)\" d=\"M 0 0 M251.763 1467.02 L281.439 1467.02 L281.439 1470.96 L251.763 1470.96 L251.763 1467.02 Z\" fill=\"#000000\" fill-rule=\"evenodd\" fill-opacity=\"1\" /><path clip-path=\"url(#clip880)\" d=\"M 0 0 M287.318 1479.92 L294.957 1479.92 L294.957 1453.55 L286.647 1455.22 L286.647 1450.96 L294.911 1449.29 L299.587 1449.29 L299.587 1479.92 L307.226 1479.92 L307.226 1483.85 L287.318 1483.85 L287.318 1479.92 Z\" fill=\"#000000\" fill-rule=\"evenodd\" fill-opacity=\"1\" /><path clip-path=\"url(#clip880)\" d=\"M 0 0 M312.295 1477.97 L317.179 1477.97 L317.179 1483.85 L312.295 1483.85 L312.295 1477.97 Z\" fill=\"#000000\" fill-rule=\"evenodd\" fill-opacity=\"1\" /><path clip-path=\"url(#clip880)\" d=\"M 0 0 M332.249 1452.37 Q328.638 1452.37 326.809 1455.94 Q325.003 1459.48 325.003 1466.61 Q325.003 1473.71 326.809 1477.28 Q328.638 1480.82 332.249 1480.82 Q335.883 1480.82 337.688 1477.28 Q339.517 1473.71 339.517 1466.61 Q339.517 1459.48 337.688 1455.94 Q335.883 1452.37 332.249 1452.37 M332.249 1448.67 Q338.059 1448.67 341.114 1453.27 Q344.193 1457.86 344.193 1466.61 Q344.193 1475.33 341.114 1479.94 Q338.059 1484.52 332.249 1484.52 Q326.438 1484.52 323.36 1479.94 Q320.304 1475.33 320.304 1466.61 Q320.304 1457.86 323.36 1453.27 Q326.438 1448.67 332.249 1448.67 Z\" fill=\"#000000\" fill-rule=\"evenodd\" fill-opacity=\"1\" /><path clip-path=\"url(#clip880)\" d=\"M 0 0 M750.38 1467.02 L780.055 1467.02 L780.055 1470.96 L750.38 1470.96 L750.38 1467.02 Z\" fill=\"#000000\" fill-rule=\"evenodd\" fill-opacity=\"1\" /><path clip-path=\"url(#clip880)\" d=\"M 0 0 M795.125 1452.37 Q791.514 1452.37 789.685 1455.94 Q787.879 1459.48 787.879 1466.61 Q787.879 1473.71 789.685 1477.28 Q791.514 1480.82 795.125 1480.82 Q798.759 1480.82 800.565 1477.28 Q802.393 1473.71 802.393 1466.61 Q802.393 1459.48 800.565 1455.94 Q798.759 1452.37 795.125 1452.37 M795.125 1448.67 Q800.935 1448.67 803.991 1453.27 Q807.069 1457.86 807.069 1466.61 Q807.069 1475.33 803.991 1479.94 Q800.935 1484.52 795.125 1484.52 Q789.315 1484.52 786.236 1479.94 Q783.18 1475.33 783.18 1466.61 Q783.18 1457.86 786.236 1453.27 Q789.315 1448.67 795.125 1448.67 Z\" fill=\"#000000\" fill-rule=\"evenodd\" fill-opacity=\"1\" /><path clip-path=\"url(#clip880)\" d=\"M 0 0 M812.139 1477.97 L817.023 1477.97 L817.023 1483.85 L812.139 1483.85 L812.139 1477.97 Z\" fill=\"#000000\" fill-rule=\"evenodd\" fill-opacity=\"1\" /><path clip-path=\"url(#clip880)\" d=\"M 0 0 M822.139 1449.29 L840.495 1449.29 L840.495 1453.23 L826.421 1453.23 L826.421 1461.7 Q827.439 1461.35 828.458 1461.19 Q829.476 1461 830.495 1461 Q836.282 1461 839.662 1464.18 Q843.041 1467.35 843.041 1472.76 Q843.041 1478.34 839.569 1481.44 Q836.097 1484.52 829.777 1484.52 Q827.602 1484.52 825.333 1484.15 Q823.088 1483.78 820.68 1483.04 L820.68 1478.34 Q822.764 1479.48 824.986 1480.03 Q827.208 1480.59 829.685 1480.59 Q833.689 1480.59 836.027 1478.48 Q838.365 1476.38 838.365 1472.76 Q838.365 1469.15 836.027 1467.05 Q833.689 1464.94 829.685 1464.94 Q827.81 1464.94 825.935 1465.36 Q824.083 1465.77 822.139 1466.65 L822.139 1449.29 Z\" fill=\"#000000\" fill-rule=\"evenodd\" fill-opacity=\"1\" /><path clip-path=\"url(#clip880)\" d=\"M 0 0 M1276.96 1452.37 Q1273.35 1452.37 1271.52 1455.94 Q1269.71 1459.48 1269.71 1466.61 Q1269.71 1473.71 1271.52 1477.28 Q1273.35 1480.82 1276.96 1480.82 Q1280.59 1480.82 1282.4 1477.28 Q1284.23 1473.71 1284.23 1466.61 Q1284.23 1459.48 1282.4 1455.94 Q1280.59 1452.37 1276.96 1452.37 M1276.96 1448.67 Q1282.77 1448.67 1285.82 1453.27 Q1288.9 1457.86 1288.9 1466.61 Q1288.9 1475.33 1285.82 1479.94 Q1282.77 1484.52 1276.96 1484.52 Q1271.15 1484.52 1268.07 1479.94 Q1265.01 1475.33 1265.01 1466.61 Q1265.01 1457.86 1268.07 1453.27 Q1271.15 1448.67 1276.96 1448.67 Z\" fill=\"#000000\" fill-rule=\"evenodd\" fill-opacity=\"1\" /><path clip-path=\"url(#clip880)\" d=\"M 0 0 M1293.97 1477.97 L1298.86 1477.97 L1298.86 1483.85 L1293.97 1483.85 L1293.97 1477.97 Z\" fill=\"#000000\" fill-rule=\"evenodd\" fill-opacity=\"1\" /><path clip-path=\"url(#clip880)\" d=\"M 0 0 M1313.93 1452.37 Q1310.32 1452.37 1308.49 1455.94 Q1306.68 1459.48 1306.68 1466.61 Q1306.68 1473.71 1308.49 1477.28 Q1310.32 1480.82 1313.93 1480.82 Q1317.56 1480.82 1319.37 1477.28 Q1321.2 1473.71 1321.2 1466.61 Q1321.2 1459.48 1319.37 1455.94 Q1317.56 1452.37 1313.93 1452.37 M1313.93 1448.67 Q1319.74 1448.67 1322.79 1453.27 Q1325.87 1457.86 1325.87 1466.61 Q1325.87 1475.33 1322.79 1479.94 Q1319.74 1484.52 1313.93 1484.52 Q1308.12 1484.52 1305.04 1479.94 Q1301.98 1475.33 1301.98 1466.61 Q1301.98 1457.86 1305.04 1453.27 Q1308.12 1448.67 1313.93 1448.67 Z\" fill=\"#000000\" fill-rule=\"evenodd\" fill-opacity=\"1\" /><path clip-path=\"url(#clip880)\" d=\"M 0 0 M1776.19 1452.37 Q1772.58 1452.37 1770.75 1455.94 Q1768.94 1459.48 1768.94 1466.61 Q1768.94 1473.71 1770.75 1477.28 Q1772.58 1480.82 1776.19 1480.82 Q1779.82 1480.82 1781.63 1477.28 Q1783.46 1473.71 1783.46 1466.61 Q1783.46 1459.48 1781.63 1455.94 Q1779.82 1452.37 1776.19 1452.37 M1776.19 1448.67 Q1782 1448.67 1785.06 1453.27 Q1788.13 1457.86 1788.13 1466.61 Q1788.13 1475.33 1785.06 1479.94 Q1782 1484.52 1776.19 1484.52 Q1770.38 1484.52 1767.3 1479.94 Q1764.25 1475.33 1764.25 1466.61 Q1764.25 1457.86 1767.3 1453.27 Q1770.38 1448.67 1776.19 1448.67 Z\" fill=\"#000000\" fill-rule=\"evenodd\" fill-opacity=\"1\" /><path clip-path=\"url(#clip880)\" d=\"M 0 0 M1793.2 1477.97 L1798.09 1477.97 L1798.09 1483.85 L1793.2 1483.85 L1793.2 1477.97 Z\" fill=\"#000000\" fill-rule=\"evenodd\" fill-opacity=\"1\" /><path clip-path=\"url(#clip880)\" d=\"M 0 0 M1803.2 1449.29 L1821.56 1449.29 L1821.56 1453.23 L1807.49 1453.23 L1807.49 1461.7 Q1808.5 1461.35 1809.52 1461.19 Q1810.54 1461 1811.56 1461 Q1817.35 1461 1820.73 1464.18 Q1824.11 1467.35 1824.11 1472.76 Q1824.11 1478.34 1820.63 1481.44 Q1817.16 1484.52 1810.84 1484.52 Q1808.67 1484.52 1806.4 1484.15 Q1804.15 1483.78 1801.74 1483.04 L1801.74 1478.34 Q1803.83 1479.48 1806.05 1480.03 Q1808.27 1480.59 1810.75 1480.59 Q1814.75 1480.59 1817.09 1478.48 Q1819.43 1476.38 1819.43 1472.76 Q1819.43 1469.15 1817.09 1467.05 Q1814.75 1464.94 1810.75 1464.94 Q1808.87 1464.94 1807 1465.36 Q1805.15 1465.77 1803.2 1466.65 L1803.2 1449.29 Z\" fill=\"#000000\" fill-rule=\"evenodd\" fill-opacity=\"1\" /><path clip-path=\"url(#clip880)\" d=\"M 0 0 M2264.81 1479.92 L2272.45 1479.92 L2272.45 1453.55 L2264.14 1455.22 L2264.14 1450.96 L2272.4 1449.29 L2277.07 1449.29 L2277.07 1479.92 L2284.71 1479.92 L2284.71 1483.85 L2264.81 1483.85 L2264.81 1479.92 Z\" fill=\"#000000\" fill-rule=\"evenodd\" fill-opacity=\"1\" /><path clip-path=\"url(#clip880)\" d=\"M 0 0 M2289.78 1477.97 L2294.67 1477.97 L2294.67 1483.85 L2289.78 1483.85 L2289.78 1477.97 Z\" fill=\"#000000\" fill-rule=\"evenodd\" fill-opacity=\"1\" /><path clip-path=\"url(#clip880)\" d=\"M 0 0 M2309.74 1452.37 Q2306.13 1452.37 2304.3 1455.94 Q2302.49 1459.48 2302.49 1466.61 Q2302.49 1473.71 2304.3 1477.28 Q2306.13 1480.82 2309.74 1480.82 Q2313.37 1480.82 2315.18 1477.28 Q2317.01 1473.71 2317.01 1466.61 Q2317.01 1459.48 2315.18 1455.94 Q2313.37 1452.37 2309.74 1452.37 M2309.74 1448.67 Q2315.55 1448.67 2318.6 1453.27 Q2321.68 1457.86 2321.68 1466.61 Q2321.68 1475.33 2318.6 1479.94 Q2315.55 1484.52 2309.74 1484.52 Q2303.93 1484.52 2300.85 1479.94 Q2297.79 1475.33 2297.79 1466.61 Q2297.79 1457.86 2300.85 1453.27 Q2303.93 1448.67 2309.74 1448.67 Z\" fill=\"#000000\" fill-rule=\"evenodd\" fill-opacity=\"1\" /><path clip-path=\"url(#clip880)\" d=\"M 0 0 M1312.06 1520.4 L1299.17 1537.74 L1312.73 1556.04 L1305.82 1556.04 L1295.44 1542.04 L1285.07 1556.04 L1278.16 1556.04 L1292.01 1537.39 L1279.34 1520.4 L1286.24 1520.4 L1295.7 1533.1 L1305.15 1520.4 L1312.06 1520.4 Z\" fill=\"#000000\" fill-rule=\"evenodd\" fill-opacity=\"1\" /><polyline clip-path=\"url(#clip882)\" style=\"stroke:#000000; stroke-width:2; stroke-opacity:0.1; fill:none\" points=\"\n",
       "  238.13,1415 2352.76,1415 \n",
       "  \"/>\n",
       "<polyline clip-path=\"url(#clip882)\" style=\"stroke:#000000; stroke-width:2; stroke-opacity:0.1; fill:none\" points=\"\n",
       "  238.13,1100.48 2352.76,1100.48 \n",
       "  \"/>\n",
       "<polyline clip-path=\"url(#clip882)\" style=\"stroke:#000000; stroke-width:2; stroke-opacity:0.1; fill:none\" points=\"\n",
       "  238.13,785.963 2352.76,785.963 \n",
       "  \"/>\n",
       "<polyline clip-path=\"url(#clip882)\" style=\"stroke:#000000; stroke-width:2; stroke-opacity:0.1; fill:none\" points=\"\n",
       "  238.13,471.446 2352.76,471.446 \n",
       "  \"/>\n",
       "<polyline clip-path=\"url(#clip882)\" style=\"stroke:#000000; stroke-width:2; stroke-opacity:0.1; fill:none\" points=\"\n",
       "  238.13,156.93 2352.76,156.93 \n",
       "  \"/>\n",
       "<polyline clip-path=\"url(#clip880)\" style=\"stroke:#000000; stroke-width:4; stroke-opacity:1; fill:none\" points=\"\n",
       "  238.13,1423.18 238.13,123.472 \n",
       "  \"/>\n",
       "<polyline clip-path=\"url(#clip880)\" style=\"stroke:#000000; stroke-width:4; stroke-opacity:1; fill:none\" points=\"\n",
       "  238.13,1415 263.506,1415 \n",
       "  \"/>\n",
       "<polyline clip-path=\"url(#clip880)\" style=\"stroke:#000000; stroke-width:4; stroke-opacity:1; fill:none\" points=\"\n",
       "  238.13,1100.48 263.506,1100.48 \n",
       "  \"/>\n",
       "<polyline clip-path=\"url(#clip880)\" style=\"stroke:#000000; stroke-width:4; stroke-opacity:1; fill:none\" points=\"\n",
       "  238.13,785.963 263.506,785.963 \n",
       "  \"/>\n",
       "<polyline clip-path=\"url(#clip880)\" style=\"stroke:#000000; stroke-width:4; stroke-opacity:1; fill:none\" points=\"\n",
       "  238.13,471.446 263.506,471.446 \n",
       "  \"/>\n",
       "<polyline clip-path=\"url(#clip880)\" style=\"stroke:#000000; stroke-width:4; stroke-opacity:1; fill:none\" points=\"\n",
       "  238.13,156.93 263.506,156.93 \n",
       "  \"/>\n",
       "<path clip-path=\"url(#clip880)\" d=\"M 0 0 M126.205 1400.8 Q122.593 1400.8 120.765 1404.36 Q118.959 1407.9 118.959 1415.03 Q118.959 1422.14 120.765 1425.7 Q122.593 1429.24 126.205 1429.24 Q129.839 1429.24 131.644 1425.7 Q133.473 1422.14 133.473 1415.03 Q133.473 1407.9 131.644 1404.36 Q129.839 1400.8 126.205 1400.8 M126.205 1397.09 Q132.015 1397.09 135.07 1401.7 Q138.149 1406.28 138.149 1415.03 Q138.149 1423.76 135.07 1428.36 Q132.015 1432.95 126.205 1432.95 Q120.394 1432.95 117.316 1428.36 Q114.26 1423.76 114.26 1415.03 Q114.26 1406.28 117.316 1401.7 Q120.394 1397.09 126.205 1397.09 Z\" fill=\"#000000\" fill-rule=\"evenodd\" fill-opacity=\"1\" /><path clip-path=\"url(#clip880)\" d=\"M 0 0 M143.218 1426.4 L148.103 1426.4 L148.103 1432.28 L143.218 1432.28 L143.218 1426.4 Z\" fill=\"#000000\" fill-rule=\"evenodd\" fill-opacity=\"1\" /><path clip-path=\"url(#clip880)\" d=\"M 0 0 M163.172 1400.8 Q159.561 1400.8 157.732 1404.36 Q155.927 1407.9 155.927 1415.03 Q155.927 1422.14 157.732 1425.7 Q159.561 1429.24 163.172 1429.24 Q166.806 1429.24 168.612 1425.7 Q170.44 1422.14 170.44 1415.03 Q170.44 1407.9 168.612 1404.36 Q166.806 1400.8 163.172 1400.8 M163.172 1397.09 Q168.982 1397.09 172.038 1401.7 Q175.116 1406.28 175.116 1415.03 Q175.116 1423.76 172.038 1428.36 Q168.982 1432.95 163.172 1432.95 Q157.362 1432.95 154.283 1428.36 Q151.228 1423.76 151.228 1415.03 Q151.228 1406.28 154.283 1401.7 Q157.362 1397.09 163.172 1397.09 Z\" fill=\"#000000\" fill-rule=\"evenodd\" fill-opacity=\"1\" /><path clip-path=\"url(#clip880)\" d=\"M 0 0 M190.186 1400.8 Q186.575 1400.8 184.746 1404.36 Q182.94 1407.9 182.94 1415.03 Q182.94 1422.14 184.746 1425.7 Q186.575 1429.24 190.186 1429.24 Q193.82 1429.24 195.625 1425.7 Q197.454 1422.14 197.454 1415.03 Q197.454 1407.9 195.625 1404.36 Q193.82 1400.8 190.186 1400.8 M190.186 1397.09 Q195.996 1397.09 199.051 1401.7 Q202.13 1406.28 202.13 1415.03 Q202.13 1423.76 199.051 1428.36 Q195.996 1432.95 190.186 1432.95 Q184.376 1432.95 181.297 1428.36 Q178.241 1423.76 178.241 1415.03 Q178.241 1406.28 181.297 1401.7 Q184.376 1397.09 190.186 1397.09 Z\" fill=\"#000000\" fill-rule=\"evenodd\" fill-opacity=\"1\" /><path clip-path=\"url(#clip880)\" d=\"M 0 0 M128.797 1086.28 Q125.186 1086.28 123.357 1089.84 Q121.552 1093.38 121.552 1100.51 Q121.552 1107.62 123.357 1111.19 Q125.186 1114.73 128.797 1114.73 Q132.431 1114.73 134.237 1111.19 Q136.066 1107.62 136.066 1100.51 Q136.066 1093.38 134.237 1089.84 Q132.431 1086.28 128.797 1086.28 M128.797 1082.57 Q134.607 1082.57 137.663 1087.18 Q140.741 1091.76 140.741 1100.51 Q140.741 1109.24 137.663 1113.85 Q134.607 1118.43 128.797 1118.43 Q122.987 1118.43 119.908 1113.85 Q116.853 1109.24 116.853 1100.51 Q116.853 1091.76 119.908 1087.18 Q122.987 1082.57 128.797 1082.57 Z\" fill=\"#000000\" fill-rule=\"evenodd\" fill-opacity=\"1\" /><path clip-path=\"url(#clip880)\" d=\"M 0 0 M145.811 1111.88 L150.695 1111.88 L150.695 1117.76 L145.811 1117.76 L145.811 1111.88 Z\" fill=\"#000000\" fill-rule=\"evenodd\" fill-opacity=\"1\" /><path clip-path=\"url(#clip880)\" d=\"M 0 0 M159.792 1113.82 L176.112 1113.82 L176.112 1117.76 L154.167 1117.76 L154.167 1113.82 Q156.829 1111.07 161.413 1106.44 Q166.019 1101.79 167.2 1100.45 Q169.445 1097.92 170.325 1096.19 Q171.227 1094.43 171.227 1092.74 Q171.227 1089.98 169.283 1088.25 Q167.362 1086.51 164.26 1086.51 Q162.061 1086.51 159.607 1087.27 Q157.177 1088.04 154.399 1089.59 L154.399 1084.87 Q157.223 1083.73 159.677 1083.15 Q162.13 1082.57 164.167 1082.57 Q169.538 1082.57 172.732 1085.26 Q175.926 1087.95 175.926 1092.44 Q175.926 1094.57 175.116 1096.49 Q174.329 1098.38 172.223 1100.98 Q171.644 1101.65 168.542 1104.87 Q165.44 1108.06 159.792 1113.82 Z\" fill=\"#000000\" fill-rule=\"evenodd\" fill-opacity=\"1\" /><path clip-path=\"url(#clip880)\" d=\"M 0 0 M181.227 1083.2 L199.584 1083.2 L199.584 1087.13 L185.51 1087.13 L185.51 1095.61 Q186.528 1095.26 187.547 1095.1 Q188.565 1094.91 189.584 1094.91 Q195.371 1094.91 198.75 1098.08 Q202.13 1101.26 202.13 1106.67 Q202.13 1112.25 198.658 1115.35 Q195.186 1118.43 188.866 1118.43 Q186.69 1118.43 184.422 1118.06 Q182.176 1117.69 179.769 1116.95 L179.769 1112.25 Q181.852 1113.38 184.075 1113.94 Q186.297 1114.5 188.774 1114.5 Q192.778 1114.5 195.116 1112.39 Q197.454 1110.28 197.454 1106.67 Q197.454 1103.06 195.116 1100.95 Q192.778 1098.85 188.774 1098.85 Q186.899 1098.85 185.024 1099.26 Q183.172 1099.68 181.227 1100.56 L181.227 1083.2 Z\" fill=\"#000000\" fill-rule=\"evenodd\" fill-opacity=\"1\" /><path clip-path=\"url(#clip880)\" d=\"M 0 0 M127.2 771.762 Q123.589 771.762 121.76 775.327 Q119.955 778.868 119.955 785.998 Q119.955 793.104 121.76 796.669 Q123.589 800.211 127.2 800.211 Q130.834 800.211 132.64 796.669 Q134.468 793.104 134.468 785.998 Q134.468 778.868 132.64 775.327 Q130.834 771.762 127.2 771.762 M127.2 768.058 Q133.01 768.058 136.066 772.664 Q139.144 777.248 139.144 785.998 Q139.144 794.725 136.066 799.331 Q133.01 803.914 127.2 803.914 Q121.39 803.914 118.311 799.331 Q115.256 794.725 115.256 785.998 Q115.256 777.248 118.311 772.664 Q121.39 768.058 127.2 768.058 Z\" fill=\"#000000\" fill-rule=\"evenodd\" fill-opacity=\"1\" /><path clip-path=\"url(#clip880)\" d=\"M 0 0 M144.214 797.363 L149.098 797.363 L149.098 803.243 L144.214 803.243 L144.214 797.363 Z\" fill=\"#000000\" fill-rule=\"evenodd\" fill-opacity=\"1\" /><path clip-path=\"url(#clip880)\" d=\"M 0 0 M154.214 768.683 L172.57 768.683 L172.57 772.618 L158.496 772.618 L158.496 781.09 Q159.515 780.743 160.533 780.581 Q161.552 780.396 162.57 780.396 Q168.357 780.396 171.737 783.567 Q175.116 786.738 175.116 792.155 Q175.116 797.734 171.644 800.836 Q168.172 803.914 161.852 803.914 Q159.677 803.914 157.408 803.544 Q155.163 803.174 152.755 802.433 L152.755 797.734 Q154.839 798.868 157.061 799.424 Q159.283 799.979 161.76 799.979 Q165.765 799.979 168.102 797.873 Q170.44 795.766 170.44 792.155 Q170.44 788.544 168.102 786.438 Q165.765 784.331 161.76 784.331 Q159.885 784.331 158.01 784.748 Q156.158 785.164 154.214 786.044 L154.214 768.683 Z\" fill=\"#000000\" fill-rule=\"evenodd\" fill-opacity=\"1\" /><path clip-path=\"url(#clip880)\" d=\"M 0 0 M190.186 771.762 Q186.575 771.762 184.746 775.327 Q182.94 778.868 182.94 785.998 Q182.94 793.104 184.746 796.669 Q186.575 800.211 190.186 800.211 Q193.82 800.211 195.625 796.669 Q197.454 793.104 197.454 785.998 Q197.454 778.868 195.625 775.327 Q193.82 771.762 190.186 771.762 M190.186 768.058 Q195.996 768.058 199.051 772.664 Q202.13 777.248 202.13 785.998 Q202.13 794.725 199.051 799.331 Q195.996 803.914 190.186 803.914 Q184.376 803.914 181.297 799.331 Q178.241 794.725 178.241 785.998 Q178.241 777.248 181.297 772.664 Q184.376 768.058 190.186 768.058 Z\" fill=\"#000000\" fill-rule=\"evenodd\" fill-opacity=\"1\" /><path clip-path=\"url(#clip880)\" d=\"M 0 0 M128.103 457.245 Q124.492 457.245 122.663 460.81 Q120.857 464.351 120.857 471.481 Q120.857 478.587 122.663 482.152 Q124.492 485.694 128.103 485.694 Q131.737 485.694 133.542 482.152 Q135.371 478.587 135.371 471.481 Q135.371 464.351 133.542 460.81 Q131.737 457.245 128.103 457.245 M128.103 453.541 Q133.913 453.541 136.968 458.148 Q140.047 462.731 140.047 471.481 Q140.047 480.208 136.968 484.814 Q133.913 489.398 128.103 489.398 Q122.293 489.398 119.214 484.814 Q116.158 480.208 116.158 471.481 Q116.158 462.731 119.214 458.148 Q122.293 453.541 128.103 453.541 Z\" fill=\"#000000\" fill-rule=\"evenodd\" fill-opacity=\"1\" /><path clip-path=\"url(#clip880)\" d=\"M 0 0 M145.116 482.847 L150.001 482.847 L150.001 488.726 L145.116 488.726 L145.116 482.847 Z\" fill=\"#000000\" fill-rule=\"evenodd\" fill-opacity=\"1\" /><path clip-path=\"url(#clip880)\" d=\"M 0 0 M153.89 454.166 L176.112 454.166 L176.112 456.157 L163.565 488.726 L158.681 488.726 L170.487 458.101 L153.89 458.101 L153.89 454.166 Z\" fill=\"#000000\" fill-rule=\"evenodd\" fill-opacity=\"1\" /><path clip-path=\"url(#clip880)\" d=\"M 0 0 M181.227 454.166 L199.584 454.166 L199.584 458.101 L185.51 458.101 L185.51 466.574 Q186.528 466.226 187.547 466.064 Q188.565 465.879 189.584 465.879 Q195.371 465.879 198.75 469.05 Q202.13 472.222 202.13 477.638 Q202.13 483.217 198.658 486.319 Q195.186 489.398 188.866 489.398 Q186.69 489.398 184.422 489.027 Q182.176 488.657 179.769 487.916 L179.769 483.217 Q181.852 484.351 184.075 484.907 Q186.297 485.462 188.774 485.462 Q192.778 485.462 195.116 483.356 Q197.454 481.249 197.454 477.638 Q197.454 474.027 195.116 471.921 Q192.778 469.814 188.774 469.814 Q186.899 469.814 185.024 470.231 Q183.172 470.648 181.227 471.527 L181.227 454.166 Z\" fill=\"#000000\" fill-rule=\"evenodd\" fill-opacity=\"1\" /><path clip-path=\"url(#clip880)\" d=\"M 0 0 M118.242 170.274 L125.88 170.274 L125.88 143.909 L117.57 145.575 L117.57 141.316 L125.834 139.65 L130.51 139.65 L130.51 170.274 L138.149 170.274 L138.149 174.21 L118.242 174.21 L118.242 170.274 Z\" fill=\"#000000\" fill-rule=\"evenodd\" fill-opacity=\"1\" /><path clip-path=\"url(#clip880)\" d=\"M 0 0 M143.218 168.33 L148.103 168.33 L148.103 174.21 L143.218 174.21 L143.218 168.33 Z\" fill=\"#000000\" fill-rule=\"evenodd\" fill-opacity=\"1\" /><path clip-path=\"url(#clip880)\" d=\"M 0 0 M163.172 142.728 Q159.561 142.728 157.732 146.293 Q155.927 149.835 155.927 156.964 Q155.927 164.071 157.732 167.636 Q159.561 171.177 163.172 171.177 Q166.806 171.177 168.612 167.636 Q170.44 164.071 170.44 156.964 Q170.44 149.835 168.612 146.293 Q166.806 142.728 163.172 142.728 M163.172 139.025 Q168.982 139.025 172.038 143.631 Q175.116 148.214 175.116 156.964 Q175.116 165.691 172.038 170.298 Q168.982 174.881 163.172 174.881 Q157.362 174.881 154.283 170.298 Q151.228 165.691 151.228 156.964 Q151.228 148.214 154.283 143.631 Q157.362 139.025 163.172 139.025 Z\" fill=\"#000000\" fill-rule=\"evenodd\" fill-opacity=\"1\" /><path clip-path=\"url(#clip880)\" d=\"M 0 0 M190.186 142.728 Q186.575 142.728 184.746 146.293 Q182.94 149.835 182.94 156.964 Q182.94 164.071 184.746 167.636 Q186.575 171.177 190.186 171.177 Q193.82 171.177 195.625 167.636 Q197.454 164.071 197.454 156.964 Q197.454 149.835 195.625 146.293 Q193.82 142.728 190.186 142.728 M190.186 139.025 Q195.996 139.025 199.051 143.631 Q202.13 148.214 202.13 156.964 Q202.13 165.691 199.051 170.298 Q195.996 174.881 190.186 174.881 Q184.376 174.881 181.297 170.298 Q178.241 165.691 178.241 156.964 Q178.241 148.214 181.297 143.631 Q184.376 139.025 190.186 139.025 Z\" fill=\"#000000\" fill-rule=\"evenodd\" fill-opacity=\"1\" /><path clip-path=\"url(#clip880)\" d=\"M 0 0 M91.3143 771.639 Q97.68 774.122 99.6216 776.477 Q101.563 778.832 101.563 782.779 L101.563 787.458 L96.6615 787.458 L96.6615 784.02 Q96.6615 781.601 95.5157 780.265 Q94.3699 778.928 90.1048 777.305 L87.4312 776.254 L52.3562 790.673 L52.3562 784.466 L80.238 773.326 L52.3562 762.186 L52.3562 755.979 L91.3143 771.639 Z\" fill=\"#000000\" fill-rule=\"evenodd\" fill-opacity=\"1\" /><path clip-path=\"url(#clip880)\" d=\"M 0 0 M905.543 12.096 L913.726 12.096 L913.726 65.6895 L943.176 65.6895 L943.176 72.576 L905.543 72.576 L905.543 12.096 Z\" fill=\"#000000\" fill-rule=\"evenodd\" fill-opacity=\"1\" /><path clip-path=\"url(#clip880)\" d=\"M 0 0 M971.614 49.7694 Q962.58 49.7694 959.096 51.8354 Q955.613 53.9013 955.613 58.8839 Q955.613 62.8538 958.205 65.2034 Q960.838 67.5124 965.335 67.5124 Q971.533 67.5124 975.26 63.1374 Q979.027 58.7219 979.027 51.4303 L979.027 49.7694 L971.614 49.7694 M986.481 46.6907 L986.481 72.576 L979.027 72.576 L979.027 65.6895 Q976.475 69.8214 972.667 71.8063 Q968.859 73.7508 963.35 73.7508 Q956.382 73.7508 952.25 69.8619 Q948.159 65.9325 948.159 59.3701 Q948.159 51.7138 953.263 47.825 Q958.408 43.9361 968.576 43.9361 L979.027 43.9361 L979.027 43.2069 Q979.027 38.0623 975.624 35.2672 Q972.262 32.4315 966.145 32.4315 Q962.256 32.4315 958.57 33.3632 Q954.883 34.295 951.481 36.1584 L951.481 29.2718 Q955.572 27.692 959.42 26.9223 Q963.269 26.1121 966.915 26.1121 Q976.758 26.1121 981.619 31.2163 Q986.481 36.3204 986.481 46.6907 Z\" fill=\"#000000\" fill-rule=\"evenodd\" fill-opacity=\"1\" /><path clip-path=\"url(#clip880)\" d=\"M 0 0 M1050.53 49.3643 Q1050.53 41.2625 1047.16 36.8065 Q1043.84 32.3505 1037.81 32.3505 Q1031.81 32.3505 1028.45 36.8065 Q1025.13 41.2625 1025.13 49.3643 Q1025.13 57.4256 1028.45 61.8816 Q1031.81 66.3376 1037.81 66.3376 Q1043.84 66.3376 1047.16 61.8816 Q1050.53 57.4256 1050.53 49.3643 M1057.98 66.9452 Q1057.98 78.5308 1052.83 84.1616 Q1047.69 89.8329 1037.08 89.8329 Q1033.15 89.8329 1029.66 89.2252 Q1026.18 88.6581 1022.9 87.4428 L1022.9 80.1917 Q1026.18 81.9741 1029.38 82.8248 Q1032.58 83.6755 1035.9 83.6755 Q1043.23 83.6755 1046.88 79.8271 Q1050.53 76.0193 1050.53 68.282 L1050.53 64.5957 Q1048.22 68.6061 1044.61 70.5911 Q1041.01 72.576 1035.98 72.576 Q1027.64 72.576 1022.53 66.2161 Q1017.43 59.8562 1017.43 49.3643 Q1017.43 38.832 1022.53 32.472 Q1027.64 26.1121 1035.98 26.1121 Q1041.01 26.1121 1044.61 28.0971 Q1048.22 30.082 1050.53 34.0924 L1050.53 27.2059 L1057.98 27.2059 L1057.98 66.9452 Z\" fill=\"#000000\" fill-rule=\"evenodd\" fill-opacity=\"1\" /><path clip-path=\"url(#clip880)\" d=\"M 0 0 M1092.09 34.1734 Q1090.83 33.4443 1089.33 33.1202 Q1087.87 32.7556 1086.09 32.7556 Q1079.77 32.7556 1076.37 36.8875 Q1073.01 40.9789 1073.01 48.6757 L1073.01 72.576 L1065.51 72.576 L1065.51 27.2059 L1073.01 27.2059 L1073.01 34.2544 Q1075.36 30.1225 1079.12 28.1376 Q1082.89 26.1121 1088.28 26.1121 Q1089.05 26.1121 1089.98 26.2337 Q1090.91 26.3147 1092.05 26.5172 L1092.09 34.1734 Z\" fill=\"#000000\" fill-rule=\"evenodd\" fill-opacity=\"1\" /><path clip-path=\"url(#clip880)\" d=\"M 0 0 M1120.52 49.7694 Q1111.49 49.7694 1108.01 51.8354 Q1104.52 53.9013 1104.52 58.8839 Q1104.52 62.8538 1107.12 65.2034 Q1109.75 67.5124 1114.25 67.5124 Q1120.44 67.5124 1124.17 63.1374 Q1127.94 58.7219 1127.94 51.4303 L1127.94 49.7694 L1120.52 49.7694 M1135.39 46.6907 L1135.39 72.576 L1127.94 72.576 L1127.94 65.6895 Q1125.39 69.8214 1121.58 71.8063 Q1117.77 73.7508 1112.26 73.7508 Q1105.29 73.7508 1101.16 69.8619 Q1097.07 65.9325 1097.07 59.3701 Q1097.07 51.7138 1102.17 47.825 Q1107.32 43.9361 1117.49 43.9361 L1127.94 43.9361 L1127.94 43.2069 Q1127.94 38.0623 1124.54 35.2672 Q1121.17 32.4315 1115.06 32.4315 Q1111.17 32.4315 1107.48 33.3632 Q1103.79 34.295 1100.39 36.1584 L1100.39 29.2718 Q1104.48 27.692 1108.33 26.9223 Q1112.18 26.1121 1115.83 26.1121 Q1125.67 26.1121 1130.53 31.2163 Q1135.39 36.3204 1135.39 46.6907 M1121.78 6.22219 L1129.84 6.22219 L1116.64 21.4536 L1110.44 21.4536 L1121.78 6.22219 Z\" fill=\"#000000\" fill-rule=\"evenodd\" fill-opacity=\"1\" /><path clip-path=\"url(#clip880)\" d=\"M 0 0 M1166.18 9.54393 L1166.18 15.7418 L1159.05 15.7418 Q1155.04 15.7418 1153.46 17.3622 Q1151.92 18.9825 1151.92 23.1955 L1151.92 27.2059 L1164.19 27.2059 L1164.19 32.9987 L1151.92 32.9987 L1151.92 72.576 L1144.43 72.576 L1144.43 32.9987 L1137.3 32.9987 L1137.3 27.2059 L1144.43 27.2059 L1144.43 24.0462 Q1144.43 16.471 1147.95 13.0277 Q1151.47 9.54393 1159.13 9.54393 L1166.18 9.54393 Z\" fill=\"#000000\" fill-rule=\"evenodd\" fill-opacity=\"1\" /><path clip-path=\"url(#clip880)\" d=\"M 0 0 M1174 27.2059 L1181.45 27.2059 L1181.45 72.576 L1174 72.576 L1174 27.2059 M1174 9.54393 L1181.45 9.54393 L1181.45 18.9825 L1174 18.9825 L1174 9.54393 Z\" fill=\"#000000\" fill-rule=\"evenodd\" fill-opacity=\"1\" /><path clip-path=\"url(#clip880)\" d=\"M 0 0 M1221.92 28.9478 L1221.92 35.9153 Q1218.76 34.1734 1215.56 33.3227 Q1212.4 32.4315 1209.16 32.4315 Q1201.91 32.4315 1197.9 37.0496 Q1193.89 41.6271 1193.89 49.9314 Q1193.89 58.2358 1197.9 62.8538 Q1201.91 67.4314 1209.16 67.4314 Q1212.4 67.4314 1215.56 66.5807 Q1218.76 65.6895 1221.92 63.9476 L1221.92 70.8341 Q1218.8 72.2924 1215.44 73.0216 Q1212.12 73.7508 1208.35 73.7508 Q1198.1 73.7508 1192.06 67.3098 Q1186.03 60.8689 1186.03 49.9314 Q1186.03 38.832 1192.1 32.472 Q1198.22 26.1121 1208.83 26.1121 Q1212.28 26.1121 1215.56 26.8413 Q1218.84 27.5299 1221.92 28.9478 Z\" fill=\"#000000\" fill-rule=\"evenodd\" fill-opacity=\"1\" /><path clip-path=\"url(#clip880)\" d=\"M 0 0 M1250.36 49.7694 Q1241.32 49.7694 1237.84 51.8354 Q1234.36 53.9013 1234.36 58.8839 Q1234.36 62.8538 1236.95 65.2034 Q1239.58 67.5124 1244.08 67.5124 Q1250.28 67.5124 1254 63.1374 Q1257.77 58.7219 1257.77 51.4303 L1257.77 49.7694 L1250.36 49.7694 M1265.22 46.6907 L1265.22 72.576 L1257.77 72.576 L1257.77 65.6895 Q1255.22 69.8214 1251.41 71.8063 Q1247.6 73.7508 1242.09 73.7508 Q1235.13 73.7508 1230.99 69.8619 Q1226.9 65.9325 1226.9 59.3701 Q1226.9 51.7138 1232.01 47.825 Q1237.15 43.9361 1247.32 43.9361 L1257.77 43.9361 L1257.77 43.2069 Q1257.77 38.0623 1254.37 35.2672 Q1251 32.4315 1244.89 32.4315 Q1241 32.4315 1237.31 33.3632 Q1233.63 34.295 1230.22 36.1584 L1230.22 29.2718 Q1234.31 27.692 1238.16 26.9223 Q1242.01 26.1121 1245.66 26.1121 Q1255.5 26.1121 1260.36 31.2163 Q1265.22 36.3204 1265.22 46.6907 Z\" fill=\"#000000\" fill-rule=\"evenodd\" fill-opacity=\"1\" /><path clip-path=\"url(#clip880)\" d=\"M 0 0 M1303.87 49.9314 Q1303.87 58.1548 1307.23 62.8538 Q1310.63 67.5124 1316.55 67.5124 Q1322.46 67.5124 1325.87 62.8538 Q1329.27 58.1548 1329.27 49.9314 Q1329.27 41.7081 1325.87 37.0496 Q1322.46 32.3505 1316.55 32.3505 Q1310.63 32.3505 1307.23 37.0496 Q1303.87 41.7081 1303.87 49.9314 M1329.27 65.7705 Q1326.92 69.8214 1323.31 71.8063 Q1319.75 73.7508 1314.73 73.7508 Q1306.5 73.7508 1301.32 67.1883 Q1296.17 60.6258 1296.17 49.9314 Q1296.17 39.2371 1301.32 32.6746 Q1306.5 26.1121 1314.73 26.1121 Q1319.75 26.1121 1323.31 28.0971 Q1326.92 30.0415 1329.27 34.0924 L1329.27 27.2059 L1336.72 27.2059 L1336.72 89.8329 L1329.27 89.8329 L1329.27 65.7705 Z\" fill=\"#000000\" fill-rule=\"evenodd\" fill-opacity=\"1\" /><path clip-path=\"url(#clip880)\" d=\"M 0 0 M1343.77 54.671 L1343.77 27.2059 L1351.22 27.2059 L1351.22 54.3874 Q1351.22 60.8284 1353.74 64.0691 Q1356.25 67.2693 1361.27 67.2693 Q1367.31 67.2693 1370.79 63.421 Q1374.31 59.5726 1374.31 52.9291 L1374.31 27.2059 L1381.77 27.2059 L1381.77 72.576 L1374.31 72.576 L1374.31 65.6084 Q1371.6 69.7404 1367.99 71.7658 Q1364.43 73.7508 1359.69 73.7508 Q1351.87 73.7508 1347.82 68.8897 Q1343.77 64.0286 1343.77 54.671 M1362.53 26.1121 L1362.53 26.1121 Z\" fill=\"#000000\" fill-rule=\"evenodd\" fill-opacity=\"1\" /><path clip-path=\"url(#clip880)\" d=\"M 0 0 M1428.39 48.0275 L1428.39 51.6733 L1394.12 51.6733 Q1394.61 59.3701 1398.74 63.421 Q1402.91 67.4314 1410.33 67.4314 Q1414.62 67.4314 1418.63 66.3781 Q1422.68 65.3249 1426.65 63.2184 L1426.65 70.267 Q1422.64 71.9684 1418.43 72.8596 Q1414.22 73.7508 1409.88 73.7508 Q1399.02 73.7508 1392.66 67.4314 Q1386.35 61.1119 1386.35 50.3365 Q1386.35 39.1965 1392.34 32.6746 Q1398.38 26.1121 1408.58 26.1121 Q1417.74 26.1121 1423.05 32.0264 Q1428.39 37.9003 1428.39 48.0275 M1420.94 45.84 Q1420.86 39.7232 1417.5 36.0774 Q1414.17 32.4315 1408.67 32.4315 Q1402.43 32.4315 1398.66 35.9558 Q1394.93 39.4801 1394.37 45.8805 L1420.94 45.84 Z\" fill=\"#000000\" fill-rule=\"evenodd\" fill-opacity=\"1\" /><path clip-path=\"url(#clip880)\" d=\"M 0 0 M1467.04 49.9314 Q1467.04 58.1548 1470.4 62.8538 Q1473.8 67.5124 1479.72 67.5124 Q1485.63 67.5124 1489.04 62.8538 Q1492.44 58.1548 1492.44 49.9314 Q1492.44 41.7081 1489.04 37.0496 Q1485.63 32.3505 1479.72 32.3505 Q1473.8 32.3505 1470.4 37.0496 Q1467.04 41.7081 1467.04 49.9314 M1492.44 65.7705 Q1490.09 69.8214 1486.48 71.8063 Q1482.92 73.7508 1477.9 73.7508 Q1469.67 73.7508 1464.49 67.1883 Q1459.34 60.6258 1459.34 49.9314 Q1459.34 39.2371 1464.49 32.6746 Q1469.67 26.1121 1477.9 26.1121 Q1482.92 26.1121 1486.48 28.0971 Q1490.09 30.0415 1492.44 34.0924 L1492.44 27.2059 L1499.89 27.2059 L1499.89 89.8329 L1492.44 89.8329 L1492.44 65.7705 Z\" fill=\"#000000\" fill-rule=\"evenodd\" fill-opacity=\"1\" /><path clip-path=\"url(#clip880)\" d=\"M 0 0 M1506.94 54.671 L1506.94 27.2059 L1514.39 27.2059 L1514.39 54.3874 Q1514.39 60.8284 1516.91 64.0691 Q1519.42 67.2693 1524.44 67.2693 Q1530.48 67.2693 1533.96 63.421 Q1537.48 59.5726 1537.48 52.9291 L1537.48 27.2059 L1544.94 27.2059 L1544.94 72.576 L1537.48 72.576 L1537.48 65.6084 Q1534.77 69.7404 1531.17 71.7658 Q1527.6 73.7508 1522.86 73.7508 Q1515.04 73.7508 1510.99 68.8897 Q1506.94 64.0286 1506.94 54.671 M1525.7 26.1121 L1525.7 26.1121 Z\" fill=\"#000000\" fill-rule=\"evenodd\" fill-opacity=\"1\" /><path clip-path=\"url(#clip880)\" d=\"M 0 0 M1552.76 27.2059 L1560.21 27.2059 L1560.21 72.576 L1552.76 72.576 L1552.76 27.2059 M1552.76 9.54393 L1560.21 9.54393 L1560.21 18.9825 L1552.76 18.9825 L1552.76 9.54393 Z\" fill=\"#000000\" fill-rule=\"evenodd\" fill-opacity=\"1\" /><path clip-path=\"url(#clip880)\" d=\"M 0 0 M1606.84 48.0275 L1606.84 51.6733 L1572.57 51.6733 Q1573.05 59.3701 1577.18 63.421 Q1581.36 67.4314 1588.77 67.4314 Q1593.06 67.4314 1597.07 66.3781 Q1601.12 65.3249 1605.09 63.2184 L1605.09 70.267 Q1601.08 71.9684 1596.87 72.8596 Q1592.66 73.7508 1588.32 73.7508 Q1577.47 73.7508 1571.11 67.4314 Q1564.79 61.1119 1564.79 50.3365 Q1564.79 39.1965 1570.78 32.6746 Q1576.82 26.1121 1587.03 26.1121 Q1596.18 26.1121 1601.49 32.0264 Q1606.84 37.9003 1606.84 48.0275 M1599.38 45.84 Q1599.3 39.7232 1595.94 36.0774 Q1592.62 32.4315 1587.11 32.4315 Q1580.87 32.4315 1577.1 35.9558 Q1573.38 39.4801 1572.81 45.8805 L1599.38 45.84 Z\" fill=\"#000000\" fill-rule=\"evenodd\" fill-opacity=\"1\" /><path clip-path=\"url(#clip880)\" d=\"M 0 0 M1640.94 34.1734 Q1639.69 33.4443 1638.19 33.1202 Q1636.73 32.7556 1634.95 32.7556 Q1628.63 32.7556 1625.23 36.8875 Q1621.86 40.9789 1621.86 48.6757 L1621.86 72.576 L1614.37 72.576 L1614.37 27.2059 L1621.86 27.2059 L1621.86 34.2544 Q1624.21 30.1225 1627.98 28.1376 Q1631.75 26.1121 1637.14 26.1121 Q1637.91 26.1121 1638.84 26.2337 Q1639.77 26.3147 1640.9 26.5172 L1640.94 34.1734 Z\" fill=\"#000000\" fill-rule=\"evenodd\" fill-opacity=\"1\" /><path clip-path=\"url(#clip880)\" d=\"M 0 0 M1664.52 32.4315 Q1658.53 32.4315 1655.04 37.1306 Q1651.56 41.7891 1651.56 49.9314 Q1651.56 58.0738 1655 62.7728 Q1658.49 67.4314 1664.52 67.4314 Q1670.48 67.4314 1673.96 62.7323 Q1677.44 58.0333 1677.44 49.9314 Q1677.44 41.8701 1673.96 37.1711 Q1670.48 32.4315 1664.52 32.4315 M1664.52 26.1121 Q1674.24 26.1121 1679.79 32.4315 Q1685.34 38.7509 1685.34 49.9314 Q1685.34 61.0714 1679.79 67.4314 Q1674.24 73.7508 1664.52 73.7508 Q1654.76 73.7508 1649.21 67.4314 Q1643.7 61.0714 1643.7 49.9314 Q1643.7 38.7509 1649.21 32.4315 Q1654.76 26.1121 1664.52 26.1121 Z\" fill=\"#000000\" fill-rule=\"evenodd\" fill-opacity=\"1\" /><polyline clip-path=\"url(#clip882)\" style=\"stroke:#009af9; stroke-width:4; stroke-opacity:1; fill:none\" points=\"\n",
       "  297.978,1386.4 307.953,1384.37 317.927,1382.22 327.902,1379.94 337.877,1377.53 347.851,1374.98 357.826,1372.28 367.801,1369.42 377.775,1366.41 387.75,1363.22 \n",
       "  397.724,1359.87 407.699,1356.33 417.674,1352.6 427.648,1348.68 437.623,1344.56 447.598,1340.23 457.572,1335.68 467.547,1330.91 477.522,1325.9 487.496,1320.66 \n",
       "  497.471,1315.17 507.446,1309.43 517.42,1303.42 527.395,1297.15 537.37,1290.6 547.344,1283.78 557.319,1276.66 567.294,1269.25 577.268,1261.54 587.243,1253.52 \n",
       "  597.217,1245.19 607.192,1236.54 617.167,1227.56 627.141,1218.26 637.116,1208.62 647.091,1198.65 657.065,1188.34 667.04,1177.69 677.015,1166.68 686.989,1155.34 \n",
       "  696.964,1143.64 706.939,1131.59 716.913,1119.2 726.888,1106.45 736.863,1093.36 746.837,1079.92 756.812,1066.13 766.787,1052.01 776.761,1037.55 786.736,1022.76 \n",
       "  796.71,1007.64 806.685,992.208 816.66,976.464 826.634,960.418 836.609,944.079 846.584,927.457 856.558,910.564 866.533,893.412 876.508,876.014 886.482,858.383 \n",
       "  896.457,840.535 906.432,822.484 916.406,804.249 926.381,785.845 936.356,767.292 946.33,748.609 956.305,729.815 966.28,710.931 976.254,691.979 986.229,672.98 \n",
       "  996.203,653.958 1006.18,634.936 1016.15,615.938 1026.13,596.989 1036.1,578.114 1046.08,559.338 1056.05,540.688 1066.03,522.189 1076,503.868 1085.98,485.753 \n",
       "  1095.95,467.869 1105.92,450.244 1115.9,432.906 1125.87,415.88 1135.85,399.194 1145.82,382.875 1155.8,366.949 1165.77,351.443 1175.75,336.381 1185.72,321.789 \n",
       "  1195.7,307.692 1205.67,294.114 1215.65,281.079 1225.62,268.609 1235.6,256.725 1245.57,245.45 1255.54,234.803 1265.52,224.803 1275.49,215.468 1285.47,206.815 \n",
       "  1295.44,198.861 1305.42,191.618 1315.39,185.102 1325.37,179.323 1335.34,174.293 1345.32,170.021 1355.29,166.514 1365.27,163.78 1375.24,161.824 1385.21,160.648 \n",
       "  1395.19,160.256 1405.16,160.648 1415.14,161.824 1425.11,163.78 1435.09,166.514 1445.06,170.021 1455.04,174.293 1465.01,179.323 1474.99,185.102 1484.96,191.618 \n",
       "  1494.94,198.861 1504.91,206.815 1514.89,215.468 1524.86,224.803 1534.83,234.803 1544.81,245.45 1554.78,256.725 1564.76,268.609 1574.73,281.079 1584.71,294.114 \n",
       "  1594.68,307.692 1604.66,321.789 1614.63,336.381 1624.61,351.443 1634.58,366.949 1644.56,382.875 1654.53,399.194 1664.51,415.88 1674.48,432.906 1684.45,450.244 \n",
       "  1694.43,467.869 1704.4,485.753 1714.38,503.868 1724.35,522.189 1734.33,540.688 1744.3,559.338 1754.28,578.114 1764.25,596.989 1774.23,615.938 1784.2,634.936 \n",
       "  1794.18,653.958 1804.15,672.98 1814.12,691.979 1824.1,710.931 1834.07,729.815 1844.05,748.609 1854.02,767.292 1864,785.845 1873.97,804.249 1883.95,822.484 \n",
       "  1893.92,840.535 1903.9,858.383 1913.87,876.014 1923.85,893.412 1933.82,910.564 1943.8,927.457 1953.77,944.079 1963.74,960.418 1973.72,976.464 1983.69,992.208 \n",
       "  1993.67,1007.64 2003.64,1022.76 2013.62,1037.55 2023.59,1052.01 2033.57,1066.13 2043.54,1079.92 2053.52,1093.36 2063.49,1106.45 2073.47,1119.2 2083.44,1131.59 \n",
       "  2093.41,1143.64 2103.39,1155.34 2113.36,1166.68 2123.34,1177.69 2133.31,1188.34 2143.29,1198.65 2153.26,1208.62 2163.24,1218.26 2173.21,1227.56 2183.19,1236.54 \n",
       "  2193.16,1245.19 2203.14,1253.52 2213.11,1261.54 2223.09,1269.25 2233.06,1276.66 2243.03,1283.78 2253.01,1290.6 2262.98,1297.15 2272.96,1303.42 2282.93,1309.43 \n",
       "  2292.91,1315.17 \n",
       "  \"/>\n",
       "<path clip-path=\"url(#clip880)\" d=\"\n",
       "M1933.14 287.756 L2282.27 287.756 L2282.27 166.796 L1933.14 166.796  Z\n",
       "  \" fill=\"#ffffff\" fill-rule=\"evenodd\" fill-opacity=\"1\"/>\n",
       "<polyline clip-path=\"url(#clip880)\" style=\"stroke:#000000; stroke-width:4; stroke-opacity:1; fill:none\" points=\"\n",
       "  1933.14,287.756 2282.27,287.756 2282.27,166.796 1933.14,166.796 1933.14,287.756 \n",
       "  \"/>\n",
       "<polyline clip-path=\"url(#clip880)\" style=\"stroke:#009af9; stroke-width:4; stroke-opacity:1; fill:none\" points=\"\n",
       "  1956.64,227.276 2097.61,227.276 \n",
       "  \"/>\n",
       "<path clip-path=\"url(#clip880)\" d=\"M 0 0 M2140.02 222.565 L2140.02 208.537 L2144.28 208.537 L2144.28 244.556 L2140.02 244.556 L2140.02 240.667 Q2138.68 242.982 2136.62 244.116 Q2134.58 245.227 2131.71 245.227 Q2127.01 245.227 2124.05 241.477 Q2121.11 237.727 2121.11 231.616 Q2121.11 225.505 2124.05 221.755 Q2127.01 218.005 2131.71 218.005 Q2134.58 218.005 2136.62 219.139 Q2138.68 220.25 2140.02 222.565 M2125.51 231.616 Q2125.51 236.315 2127.43 239 Q2129.37 241.662 2132.75 241.662 Q2136.13 241.662 2138.08 239 Q2140.02 236.315 2140.02 231.616 Q2140.02 226.917 2138.08 224.255 Q2136.13 221.57 2132.75 221.57 Q2129.37 221.57 2127.43 224.255 Q2125.51 226.917 2125.51 231.616 Z\" fill=\"#000000\" fill-rule=\"evenodd\" fill-opacity=\"1\" /><path clip-path=\"url(#clip880)\" d=\"M 0 0 M2160.53 231.523 Q2155.37 231.523 2153.38 232.704 Q2151.39 233.884 2151.39 236.732 Q2151.39 239 2152.87 240.343 Q2154.37 241.662 2156.94 241.662 Q2160.49 241.662 2162.62 239.162 Q2164.77 236.639 2164.77 232.472 L2164.77 231.523 L2160.53 231.523 M2169.03 229.764 L2169.03 244.556 L2164.77 244.556 L2164.77 240.621 Q2163.31 242.982 2161.13 244.116 Q2158.96 245.227 2155.81 245.227 Q2151.83 245.227 2149.47 243.005 Q2147.13 240.759 2147.13 237.009 Q2147.13 232.634 2150.05 230.412 Q2152.99 228.19 2158.8 228.19 L2164.77 228.19 L2164.77 227.773 Q2164.77 224.834 2162.82 223.236 Q2160.9 221.616 2157.41 221.616 Q2155.18 221.616 2153.08 222.148 Q2150.97 222.681 2149.03 223.746 L2149.03 219.81 Q2151.37 218.908 2153.56 218.468 Q2155.76 218.005 2157.85 218.005 Q2163.47 218.005 2166.25 220.922 Q2169.03 223.838 2169.03 229.764 Z\" fill=\"#000000\" fill-rule=\"evenodd\" fill-opacity=\"1\" /><path clip-path=\"url(#clip880)\" d=\"M 0 0 M2177.71 211.269 L2177.71 218.63 L2186.48 218.63 L2186.48 221.94 L2177.71 221.94 L2177.71 236.014 Q2177.71 239.185 2178.56 240.088 Q2179.44 240.991 2182.11 240.991 L2186.48 240.991 L2186.48 244.556 L2182.11 244.556 Q2177.18 244.556 2175.3 242.727 Q2173.43 240.875 2173.43 236.014 L2173.43 221.94 L2170.3 221.94 L2170.3 218.63 L2173.43 218.63 L2173.43 211.269 L2177.71 211.269 Z\" fill=\"#000000\" fill-rule=\"evenodd\" fill-opacity=\"1\" /><path clip-path=\"url(#clip880)\" d=\"M 0 0 M2200.99 221.616 Q2197.57 221.616 2195.58 224.301 Q2193.59 226.963 2193.59 231.616 Q2193.59 236.269 2195.55 238.954 Q2197.55 241.616 2200.99 241.616 Q2204.4 241.616 2206.39 238.931 Q2208.38 236.246 2208.38 231.616 Q2208.38 227.01 2206.39 224.324 Q2204.4 221.616 2200.99 221.616 M2200.99 218.005 Q2206.55 218.005 2209.72 221.616 Q2212.89 225.227 2212.89 231.616 Q2212.89 237.982 2209.72 241.616 Q2206.55 245.227 2200.99 245.227 Q2195.42 245.227 2192.24 241.616 Q2189.1 237.982 2189.1 231.616 Q2189.1 225.227 2192.24 221.616 Q2195.42 218.005 2200.99 218.005 Z\" fill=\"#000000\" fill-rule=\"evenodd\" fill-opacity=\"1\" /><path clip-path=\"url(#clip880)\" d=\"M 0 0 M2233.89 219.394 L2233.89 223.422 Q2232.08 222.496 2230.14 222.033 Q2228.19 221.57 2226.11 221.57 Q2222.94 221.57 2221.34 222.542 Q2219.77 223.514 2219.77 225.459 Q2219.77 226.94 2220.9 227.797 Q2222.04 228.63 2225.46 229.394 L2226.92 229.718 Q2231.46 230.69 2233.36 232.472 Q2235.28 234.232 2235.28 237.403 Q2235.28 241.014 2232.41 243.121 Q2229.56 245.227 2224.56 245.227 Q2222.48 245.227 2220.21 244.81 Q2217.96 244.417 2215.46 243.607 L2215.46 239.209 Q2217.82 240.435 2220.11 241.06 Q2222.41 241.662 2224.65 241.662 Q2227.66 241.662 2229.28 240.644 Q2230.9 239.602 2230.9 237.727 Q2230.9 235.991 2229.72 235.065 Q2228.56 234.139 2224.61 233.283 L2223.12 232.935 Q2219.17 232.102 2217.41 230.389 Q2215.65 228.653 2215.65 225.644 Q2215.65 221.986 2218.24 219.996 Q2220.83 218.005 2225.6 218.005 Q2227.96 218.005 2230.05 218.352 Q2232.13 218.699 2233.89 219.394 Z\" fill=\"#000000\" fill-rule=\"evenodd\" fill-opacity=\"1\" /></svg>\n"
      ]
     },
     "metadata": {},
     "output_type": "display_data"
    },
    {
     "data": {
      "image/svg+xml": [
       "<?xml version=\"1.0\" encoding=\"utf-8\"?>\n",
       "<svg xmlns=\"http://www.w3.org/2000/svg\" xmlns:xlink=\"http://www.w3.org/1999/xlink\" width=\"600\" height=\"400\" viewBox=\"0 0 2400 1600\">\n",
       "<defs>\n",
       "  <clipPath id=\"clip920\">\n",
       "    <rect x=\"0\" y=\"0\" width=\"2400\" height=\"1600\"/>\n",
       "  </clipPath>\n",
       "</defs>\n",
       "<path clip-path=\"url(#clip920)\" d=\"\n",
       "M0 1600 L2400 1600 L2400 0 L0 0  Z\n",
       "  \" fill=\"#ffffff\" fill-rule=\"evenodd\" fill-opacity=\"1\"/>\n",
       "<defs>\n",
       "  <clipPath id=\"clip921\">\n",
       "    <rect x=\"480\" y=\"0\" width=\"1681\" height=\"1600\"/>\n",
       "  </clipPath>\n",
       "</defs>\n",
       "<path clip-path=\"url(#clip920)\" d=\"\n",
       "M175.445 1423.18 L2352.76 1423.18 L2352.76 123.472 L175.445 123.472  Z\n",
       "  \" fill=\"#ffffff\" fill-rule=\"evenodd\" fill-opacity=\"1\"/>\n",
       "<defs>\n",
       "  <clipPath id=\"clip922\">\n",
       "    <rect x=\"175\" y=\"123\" width=\"2178\" height=\"1301\"/>\n",
       "  </clipPath>\n",
       "</defs>\n",
       "<polyline clip-path=\"url(#clip922)\" style=\"stroke:#000000; stroke-width:2; stroke-opacity:0.1; fill:none\" points=\"\n",
       "  237.067,1423.18 237.067,123.472 \n",
       "  \"/>\n",
       "<polyline clip-path=\"url(#clip922)\" style=\"stroke:#000000; stroke-width:2; stroke-opacity:0.1; fill:none\" points=\"\n",
       "  750.584,1423.18 750.584,123.472 \n",
       "  \"/>\n",
       "<polyline clip-path=\"url(#clip922)\" style=\"stroke:#000000; stroke-width:2; stroke-opacity:0.1; fill:none\" points=\"\n",
       "  1264.1,1423.18 1264.1,123.472 \n",
       "  \"/>\n",
       "<polyline clip-path=\"url(#clip922)\" style=\"stroke:#000000; stroke-width:2; stroke-opacity:0.1; fill:none\" points=\"\n",
       "  1777.62,1423.18 1777.62,123.472 \n",
       "  \"/>\n",
       "<polyline clip-path=\"url(#clip922)\" style=\"stroke:#000000; stroke-width:2; stroke-opacity:0.1; fill:none\" points=\"\n",
       "  2291.13,1423.18 2291.13,123.472 \n",
       "  \"/>\n",
       "<polyline clip-path=\"url(#clip920)\" style=\"stroke:#000000; stroke-width:4; stroke-opacity:1; fill:none\" points=\"\n",
       "  175.445,1423.18 2352.76,1423.18 \n",
       "  \"/>\n",
       "<polyline clip-path=\"url(#clip920)\" style=\"stroke:#000000; stroke-width:4; stroke-opacity:1; fill:none\" points=\"\n",
       "  237.067,1423.18 237.067,1407.58 \n",
       "  \"/>\n",
       "<polyline clip-path=\"url(#clip920)\" style=\"stroke:#000000; stroke-width:4; stroke-opacity:1; fill:none\" points=\"\n",
       "  750.584,1423.18 750.584,1407.58 \n",
       "  \"/>\n",
       "<polyline clip-path=\"url(#clip920)\" style=\"stroke:#000000; stroke-width:4; stroke-opacity:1; fill:none\" points=\"\n",
       "  1264.1,1423.18 1264.1,1407.58 \n",
       "  \"/>\n",
       "<polyline clip-path=\"url(#clip920)\" style=\"stroke:#000000; stroke-width:4; stroke-opacity:1; fill:none\" points=\"\n",
       "  1777.62,1423.18 1777.62,1407.58 \n",
       "  \"/>\n",
       "<polyline clip-path=\"url(#clip920)\" style=\"stroke:#000000; stroke-width:4; stroke-opacity:1; fill:none\" points=\"\n",
       "  2291.13,1423.18 2291.13,1407.58 \n",
       "  \"/>\n",
       "<path clip-path=\"url(#clip920)\" d=\"M 0 0 M190.852 1467.02 L220.528 1467.02 L220.528 1470.96 L190.852 1470.96 L190.852 1467.02 Z\" fill=\"#000000\" fill-rule=\"evenodd\" fill-opacity=\"1\" /><path clip-path=\"url(#clip920)\" d=\"M 0 0 M226.408 1479.92 L234.046 1479.92 L234.046 1453.55 L225.736 1455.22 L225.736 1450.96 L234 1449.29 L238.676 1449.29 L238.676 1479.92 L246.315 1479.92 L246.315 1483.85 L226.408 1483.85 L226.408 1479.92 Z\" fill=\"#000000\" fill-rule=\"evenodd\" fill-opacity=\"1\" /><path clip-path=\"url(#clip920)\" d=\"M 0 0 M251.384 1477.97 L256.268 1477.97 L256.268 1483.85 L251.384 1483.85 L251.384 1477.97 Z\" fill=\"#000000\" fill-rule=\"evenodd\" fill-opacity=\"1\" /><path clip-path=\"url(#clip920)\" d=\"M 0 0 M271.338 1452.37 Q267.727 1452.37 265.898 1455.94 Q264.093 1459.48 264.093 1466.61 Q264.093 1473.71 265.898 1477.28 Q267.727 1480.82 271.338 1480.82 Q274.972 1480.82 276.778 1477.28 Q278.606 1473.71 278.606 1466.61 Q278.606 1459.48 276.778 1455.94 Q274.972 1452.37 271.338 1452.37 M271.338 1448.67 Q277.148 1448.67 280.204 1453.27 Q283.282 1457.86 283.282 1466.61 Q283.282 1475.33 280.204 1479.94 Q277.148 1484.52 271.338 1484.52 Q265.528 1484.52 262.449 1479.94 Q259.393 1475.33 259.393 1466.61 Q259.393 1457.86 262.449 1453.27 Q265.528 1448.67 271.338 1448.67 Z\" fill=\"#000000\" fill-rule=\"evenodd\" fill-opacity=\"1\" /><path clip-path=\"url(#clip920)\" d=\"M 0 0 M704.253 1467.02 L733.929 1467.02 L733.929 1470.96 L704.253 1470.96 L704.253 1467.02 Z\" fill=\"#000000\" fill-rule=\"evenodd\" fill-opacity=\"1\" /><path clip-path=\"url(#clip920)\" d=\"M 0 0 M748.998 1452.37 Q745.387 1452.37 743.558 1455.94 Q741.753 1459.48 741.753 1466.61 Q741.753 1473.71 743.558 1477.28 Q745.387 1480.82 748.998 1480.82 Q752.632 1480.82 754.438 1477.28 Q756.267 1473.71 756.267 1466.61 Q756.267 1459.48 754.438 1455.94 Q752.632 1452.37 748.998 1452.37 M748.998 1448.67 Q754.808 1448.67 757.864 1453.27 Q760.943 1457.86 760.943 1466.61 Q760.943 1475.33 757.864 1479.94 Q754.808 1484.52 748.998 1484.52 Q743.188 1484.52 740.109 1479.94 Q737.054 1475.33 737.054 1466.61 Q737.054 1457.86 740.109 1453.27 Q743.188 1448.67 748.998 1448.67 Z\" fill=\"#000000\" fill-rule=\"evenodd\" fill-opacity=\"1\" /><path clip-path=\"url(#clip920)\" d=\"M 0 0 M766.012 1477.97 L770.896 1477.97 L770.896 1483.85 L766.012 1483.85 L766.012 1477.97 Z\" fill=\"#000000\" fill-rule=\"evenodd\" fill-opacity=\"1\" /><path clip-path=\"url(#clip920)\" d=\"M 0 0 M776.012 1449.29 L794.368 1449.29 L794.368 1453.23 L780.294 1453.23 L780.294 1461.7 Q781.313 1461.35 782.331 1461.19 Q783.35 1461 784.368 1461 Q790.155 1461 793.535 1464.18 Q796.915 1467.35 796.915 1472.76 Q796.915 1478.34 793.442 1481.44 Q789.97 1484.52 783.651 1484.52 Q781.475 1484.52 779.206 1484.15 Q776.961 1483.78 774.554 1483.04 L774.554 1478.34 Q776.637 1479.48 778.859 1480.03 Q781.081 1480.59 783.558 1480.59 Q787.563 1480.59 789.901 1478.48 Q792.239 1476.38 792.239 1472.76 Q792.239 1469.15 789.901 1467.05 Q787.563 1464.94 783.558 1464.94 Q781.683 1464.94 779.808 1465.36 Q777.956 1465.77 776.012 1466.65 L776.012 1449.29 Z\" fill=\"#000000\" fill-rule=\"evenodd\" fill-opacity=\"1\" /><path clip-path=\"url(#clip920)\" d=\"M 0 0 M1245.62 1452.37 Q1242.01 1452.37 1240.18 1455.94 Q1238.37 1459.48 1238.37 1466.61 Q1238.37 1473.71 1240.18 1477.28 Q1242.01 1480.82 1245.62 1480.82 Q1249.25 1480.82 1251.06 1477.28 Q1252.89 1473.71 1252.89 1466.61 Q1252.89 1459.48 1251.06 1455.94 Q1249.25 1452.37 1245.62 1452.37 M1245.62 1448.67 Q1251.43 1448.67 1254.48 1453.27 Q1257.56 1457.86 1257.56 1466.61 Q1257.56 1475.33 1254.48 1479.94 Q1251.43 1484.52 1245.62 1484.52 Q1239.81 1484.52 1236.73 1479.94 Q1233.67 1475.33 1233.67 1466.61 Q1233.67 1457.86 1236.73 1453.27 Q1239.81 1448.67 1245.62 1448.67 Z\" fill=\"#000000\" fill-rule=\"evenodd\" fill-opacity=\"1\" /><path clip-path=\"url(#clip920)\" d=\"M 0 0 M1262.63 1477.97 L1267.51 1477.97 L1267.51 1483.85 L1262.63 1483.85 L1262.63 1477.97 Z\" fill=\"#000000\" fill-rule=\"evenodd\" fill-opacity=\"1\" /><path clip-path=\"url(#clip920)\" d=\"M 0 0 M1282.58 1452.37 Q1278.97 1452.37 1277.14 1455.94 Q1275.34 1459.48 1275.34 1466.61 Q1275.34 1473.71 1277.14 1477.28 Q1278.97 1480.82 1282.58 1480.82 Q1286.22 1480.82 1288.02 1477.28 Q1289.85 1473.71 1289.85 1466.61 Q1289.85 1459.48 1288.02 1455.94 Q1286.22 1452.37 1282.58 1452.37 M1282.58 1448.67 Q1288.39 1448.67 1291.45 1453.27 Q1294.53 1457.86 1294.53 1466.61 Q1294.53 1475.33 1291.45 1479.94 Q1288.39 1484.52 1282.58 1484.52 Q1276.77 1484.52 1273.7 1479.94 Q1270.64 1475.33 1270.64 1466.61 Q1270.64 1457.86 1273.7 1453.27 Q1276.77 1448.67 1282.58 1448.67 Z\" fill=\"#000000\" fill-rule=\"evenodd\" fill-opacity=\"1\" /><path clip-path=\"url(#clip920)\" d=\"M 0 0 M1759.63 1452.37 Q1756.02 1452.37 1754.19 1455.94 Q1752.39 1459.48 1752.39 1466.61 Q1752.39 1473.71 1754.19 1477.28 Q1756.02 1480.82 1759.63 1480.82 Q1763.27 1480.82 1765.07 1477.28 Q1766.9 1473.71 1766.9 1466.61 Q1766.9 1459.48 1765.07 1455.94 Q1763.27 1452.37 1759.63 1452.37 M1759.63 1448.67 Q1765.44 1448.67 1768.5 1453.27 Q1771.58 1457.86 1771.58 1466.61 Q1771.58 1475.33 1768.5 1479.94 Q1765.44 1484.52 1759.63 1484.52 Q1753.82 1484.52 1750.74 1479.94 Q1747.69 1475.33 1747.69 1466.61 Q1747.69 1457.86 1750.74 1453.27 Q1753.82 1448.67 1759.63 1448.67 Z\" fill=\"#000000\" fill-rule=\"evenodd\" fill-opacity=\"1\" /><path clip-path=\"url(#clip920)\" d=\"M 0 0 M1776.65 1477.97 L1781.53 1477.97 L1781.53 1483.85 L1776.65 1483.85 L1776.65 1477.97 Z\" fill=\"#000000\" fill-rule=\"evenodd\" fill-opacity=\"1\" /><path clip-path=\"url(#clip920)\" d=\"M 0 0 M1786.64 1449.29 L1805 1449.29 L1805 1453.23 L1790.93 1453.23 L1790.93 1461.7 Q1791.95 1461.35 1792.96 1461.19 Q1793.98 1461 1795 1461 Q1800.79 1461 1804.17 1464.18 Q1807.55 1467.35 1807.55 1472.76 Q1807.55 1478.34 1804.08 1481.44 Q1800.6 1484.52 1794.28 1484.52 Q1792.11 1484.52 1789.84 1484.15 Q1787.59 1483.78 1785.19 1483.04 L1785.19 1478.34 Q1787.27 1479.48 1789.49 1480.03 Q1791.71 1480.59 1794.19 1480.59 Q1798.2 1480.59 1800.53 1478.48 Q1802.87 1476.38 1802.87 1472.76 Q1802.87 1469.15 1800.53 1467.05 Q1798.2 1464.94 1794.19 1464.94 Q1792.32 1464.94 1790.44 1465.36 Q1788.59 1465.77 1786.64 1466.65 L1786.64 1449.29 Z\" fill=\"#000000\" fill-rule=\"evenodd\" fill-opacity=\"1\" /><path clip-path=\"url(#clip920)\" d=\"M 0 0 M2263.03 1479.92 L2270.67 1479.92 L2270.67 1453.55 L2262.36 1455.22 L2262.36 1450.96 L2270.62 1449.29 L2275.3 1449.29 L2275.3 1479.92 L2282.94 1479.92 L2282.94 1483.85 L2263.03 1483.85 L2263.03 1479.92 Z\" fill=\"#000000\" fill-rule=\"evenodd\" fill-opacity=\"1\" /><path clip-path=\"url(#clip920)\" d=\"M 0 0 M2288.01 1477.97 L2292.89 1477.97 L2292.89 1483.85 L2288.01 1483.85 L2288.01 1477.97 Z\" fill=\"#000000\" fill-rule=\"evenodd\" fill-opacity=\"1\" /><path clip-path=\"url(#clip920)\" d=\"M 0 0 M2307.96 1452.37 Q2304.35 1452.37 2302.52 1455.94 Q2300.72 1459.48 2300.72 1466.61 Q2300.72 1473.71 2302.52 1477.28 Q2304.35 1480.82 2307.96 1480.82 Q2311.6 1480.82 2313.4 1477.28 Q2315.23 1473.71 2315.23 1466.61 Q2315.23 1459.48 2313.4 1455.94 Q2311.6 1452.37 2307.96 1452.37 M2307.96 1448.67 Q2313.77 1448.67 2316.83 1453.27 Q2319.91 1457.86 2319.91 1466.61 Q2319.91 1475.33 2316.83 1479.94 Q2313.77 1484.52 2307.96 1484.52 Q2302.15 1484.52 2299.07 1479.94 Q2296.02 1475.33 2296.02 1466.61 Q2296.02 1457.86 2299.07 1453.27 Q2302.15 1448.67 2307.96 1448.67 Z\" fill=\"#000000\" fill-rule=\"evenodd\" fill-opacity=\"1\" /><path clip-path=\"url(#clip920)\" d=\"M 0 0 M1280.72 1520.4 L1267.82 1537.74 L1281.38 1556.04 L1274.48 1556.04 L1264.1 1542.04 L1253.72 1556.04 L1246.82 1556.04 L1260.66 1537.39 L1248 1520.4 L1254.9 1520.4 L1264.36 1533.1 L1273.81 1520.4 L1280.72 1520.4 Z\" fill=\"#000000\" fill-rule=\"evenodd\" fill-opacity=\"1\" /><polyline clip-path=\"url(#clip922)\" style=\"stroke:#000000; stroke-width:2; stroke-opacity:0.1; fill:none\" points=\"\n",
       "  175.445,1386.4 2352.76,1386.4 \n",
       "  \"/>\n",
       "<polyline clip-path=\"url(#clip922)\" style=\"stroke:#000000; stroke-width:2; stroke-opacity:0.1; fill:none\" points=\"\n",
       "  175.445,1079.05 2352.76,1079.05 \n",
       "  \"/>\n",
       "<polyline clip-path=\"url(#clip922)\" style=\"stroke:#000000; stroke-width:2; stroke-opacity:0.1; fill:none\" points=\"\n",
       "  175.445,771.701 2352.76,771.701 \n",
       "  \"/>\n",
       "<polyline clip-path=\"url(#clip922)\" style=\"stroke:#000000; stroke-width:2; stroke-opacity:0.1; fill:none\" points=\"\n",
       "  175.445,464.353 2352.76,464.353 \n",
       "  \"/>\n",
       "<polyline clip-path=\"url(#clip922)\" style=\"stroke:#000000; stroke-width:2; stroke-opacity:0.1; fill:none\" points=\"\n",
       "  175.445,157.005 2352.76,157.005 \n",
       "  \"/>\n",
       "<polyline clip-path=\"url(#clip920)\" style=\"stroke:#000000; stroke-width:4; stroke-opacity:1; fill:none\" points=\"\n",
       "  175.445,1423.18 175.445,123.472 \n",
       "  \"/>\n",
       "<polyline clip-path=\"url(#clip920)\" style=\"stroke:#000000; stroke-width:4; stroke-opacity:1; fill:none\" points=\"\n",
       "  175.445,1386.4 201.573,1386.4 \n",
       "  \"/>\n",
       "<polyline clip-path=\"url(#clip920)\" style=\"stroke:#000000; stroke-width:4; stroke-opacity:1; fill:none\" points=\"\n",
       "  175.445,1079.05 201.573,1079.05 \n",
       "  \"/>\n",
       "<polyline clip-path=\"url(#clip920)\" style=\"stroke:#000000; stroke-width:4; stroke-opacity:1; fill:none\" points=\"\n",
       "  175.445,771.701 201.573,771.701 \n",
       "  \"/>\n",
       "<polyline clip-path=\"url(#clip920)\" style=\"stroke:#000000; stroke-width:4; stroke-opacity:1; fill:none\" points=\"\n",
       "  175.445,464.353 201.573,464.353 \n",
       "  \"/>\n",
       "<polyline clip-path=\"url(#clip920)\" style=\"stroke:#000000; stroke-width:4; stroke-opacity:1; fill:none\" points=\"\n",
       "  175.445,157.005 201.573,157.005 \n",
       "  \"/>\n",
       "<path clip-path=\"url(#clip920)\" d=\"M 0 0 M127.501 1372.19 Q123.89 1372.19 122.061 1375.76 Q120.255 1379.3 120.255 1386.43 Q120.255 1393.54 122.061 1397.1 Q123.89 1400.64 127.501 1400.64 Q131.135 1400.64 132.941 1397.1 Q134.769 1393.54 134.769 1386.43 Q134.769 1379.3 132.941 1375.76 Q131.135 1372.19 127.501 1372.19 M127.501 1368.49 Q133.311 1368.49 136.367 1373.1 Q139.445 1377.68 139.445 1386.43 Q139.445 1395.16 136.367 1399.76 Q133.311 1404.35 127.501 1404.35 Q121.691 1404.35 118.612 1399.76 Q115.556 1395.16 115.556 1386.43 Q115.556 1377.68 118.612 1373.1 Q121.691 1368.49 127.501 1368.49 Z\" fill=\"#000000\" fill-rule=\"evenodd\" fill-opacity=\"1\" /><path clip-path=\"url(#clip920)\" d=\"M 0 0 M119.538 1092.39 L127.177 1092.39 L127.177 1066.03 L118.867 1067.69 L118.867 1063.43 L127.13 1061.77 L131.806 1061.77 L131.806 1092.39 L139.445 1092.39 L139.445 1096.33 L119.538 1096.33 L119.538 1092.39 Z\" fill=\"#000000\" fill-rule=\"evenodd\" fill-opacity=\"1\" /><path clip-path=\"url(#clip920)\" d=\"M 0 0 M123.126 785.045 L139.445 785.045 L139.445 788.981 L117.501 788.981 L117.501 785.045 Q120.163 782.291 124.746 777.661 Q129.353 773.008 130.533 771.666 Q132.779 769.143 133.658 767.407 Q134.561 765.647 134.561 763.958 Q134.561 761.203 132.617 759.467 Q130.695 757.731 127.593 757.731 Q125.394 757.731 122.941 758.495 Q120.51 759.258 117.732 760.809 L117.732 756.087 Q120.556 754.953 123.01 754.374 Q125.464 753.796 127.501 753.796 Q132.871 753.796 136.066 756.481 Q139.26 759.166 139.26 763.657 Q139.26 765.786 138.45 767.708 Q137.663 769.606 135.556 772.198 Q134.978 772.87 131.876 776.087 Q128.774 779.282 123.126 785.045 Z\" fill=\"#000000\" fill-rule=\"evenodd\" fill-opacity=\"1\" /><path clip-path=\"url(#clip920)\" d=\"M 0 0 M132.316 462.999 Q135.672 463.716 137.547 465.985 Q139.445 468.253 139.445 471.587 Q139.445 476.702 135.927 479.503 Q132.408 482.304 125.927 482.304 Q123.751 482.304 121.436 481.864 Q119.144 481.448 116.691 480.591 L116.691 476.077 Q118.635 477.212 120.95 477.79 Q123.265 478.369 125.788 478.369 Q130.186 478.369 132.478 476.633 Q134.792 474.897 134.792 471.587 Q134.792 468.531 132.64 466.818 Q130.51 465.082 126.691 465.082 L122.663 465.082 L122.663 461.24 L126.876 461.24 Q130.325 461.24 132.154 459.874 Q133.982 458.485 133.982 455.892 Q133.982 453.23 132.084 451.818 Q130.209 450.383 126.691 450.383 Q124.769 450.383 122.57 450.8 Q120.371 451.216 117.732 452.096 L117.732 447.929 Q120.394 447.189 122.709 446.818 Q125.047 446.448 127.107 446.448 Q132.431 446.448 135.533 448.879 Q138.635 451.286 138.635 455.406 Q138.635 458.277 136.992 460.267 Q135.348 462.235 132.316 462.999 Z\" fill=\"#000000\" fill-rule=\"evenodd\" fill-opacity=\"1\" /><path clip-path=\"url(#clip920)\" d=\"M 0 0 M129.862 143.799 L118.056 162.248 L129.862 162.248 L129.862 143.799 M128.635 139.725 L134.515 139.725 L134.515 162.248 L139.445 162.248 L139.445 166.137 L134.515 166.137 L134.515 174.285 L129.862 174.285 L129.862 166.137 L114.26 166.137 L114.26 161.623 L128.635 139.725 Z\" fill=\"#000000\" fill-rule=\"evenodd\" fill-opacity=\"1\" /><path clip-path=\"url(#clip920)\" d=\"M 0 0 M91.3143 771.639 Q97.68 774.122 99.6216 776.477 Q101.563 778.832 101.563 782.779 L101.563 787.458 L96.6615 787.458 L96.6615 784.02 Q96.6615 781.601 95.5157 780.265 Q94.3699 778.928 90.1048 777.305 L87.4312 776.254 L52.3562 790.673 L52.3562 784.466 L80.238 773.326 L52.3562 762.186 L52.3562 755.979 L91.3143 771.639 Z\" fill=\"#000000\" fill-rule=\"evenodd\" fill-opacity=\"1\" /><path clip-path=\"url(#clip920)\" d=\"M 0 0 M874.201 12.096 L882.384 12.096 L882.384 65.6895 L911.834 65.6895 L911.834 72.576 L874.201 72.576 L874.201 12.096 Z\" fill=\"#000000\" fill-rule=\"evenodd\" fill-opacity=\"1\" /><path clip-path=\"url(#clip920)\" d=\"M 0 0 M940.271 49.7694 Q931.238 49.7694 927.754 51.8354 Q924.27 53.9013 924.27 58.8839 Q924.27 62.8538 926.863 65.2034 Q929.496 67.5124 933.992 67.5124 Q940.19 67.5124 943.917 63.1374 Q947.684 58.7219 947.684 51.4303 L947.684 49.7694 L940.271 49.7694 M955.138 46.6907 L955.138 72.576 L947.684 72.576 L947.684 65.6895 Q945.132 69.8214 941.325 71.8063 Q937.517 73.7508 932.007 73.7508 Q925.04 73.7508 920.908 69.8619 Q916.817 65.9325 916.817 59.3701 Q916.817 51.7138 921.921 47.825 Q927.065 43.9361 937.233 43.9361 L947.684 43.9361 L947.684 43.2069 Q947.684 38.0623 944.282 35.2672 Q940.919 32.4315 934.803 32.4315 Q930.914 32.4315 927.227 33.3632 Q923.541 34.295 920.138 36.1584 L920.138 29.2718 Q924.23 27.692 928.078 26.9223 Q931.926 26.1121 935.572 26.1121 Q945.416 26.1121 950.277 31.2163 Q955.138 36.3204 955.138 46.6907 Z\" fill=\"#000000\" fill-rule=\"evenodd\" fill-opacity=\"1\" /><path clip-path=\"url(#clip920)\" d=\"M 0 0 M1019.18 49.3643 Q1019.18 41.2625 1015.82 36.8065 Q1012.5 32.3505 1006.46 32.3505 Q1000.47 32.3505 997.105 36.8065 Q993.784 41.2625 993.784 49.3643 Q993.784 57.4256 997.105 61.8816 Q1000.47 66.3376 1006.46 66.3376 Q1012.5 66.3376 1015.82 61.8816 Q1019.18 57.4256 1019.18 49.3643 M1026.64 66.9452 Q1026.64 78.5308 1021.49 84.1616 Q1016.35 89.8329 1005.73 89.8329 Q1001.8 89.8329 998.321 89.2252 Q994.837 88.6581 991.556 87.4428 L991.556 80.1917 Q994.837 81.9741 998.037 82.8248 Q1001.24 83.6755 1004.56 83.6755 Q1011.89 83.6755 1015.54 79.8271 Q1019.18 76.0193 1019.18 68.282 L1019.18 64.5957 Q1016.87 68.6061 1013.27 70.5911 Q1009.66 72.576 1004.64 72.576 Q996.295 72.576 991.191 66.2161 Q986.087 59.8562 986.087 49.3643 Q986.087 38.832 991.191 32.472 Q996.295 26.1121 1004.64 26.1121 Q1009.66 26.1121 1013.27 28.0971 Q1016.87 30.082 1019.18 34.0924 L1019.18 27.2059 L1026.64 27.2059 L1026.64 66.9452 Z\" fill=\"#000000\" fill-rule=\"evenodd\" fill-opacity=\"1\" /><path clip-path=\"url(#clip920)\" d=\"M 0 0 M1060.75 34.1734 Q1059.49 33.4443 1057.99 33.1202 Q1056.53 32.7556 1054.75 32.7556 Q1048.43 32.7556 1045.03 36.8875 Q1041.67 40.9789 1041.67 48.6757 L1041.67 72.576 L1034.17 72.576 L1034.17 27.2059 L1041.67 27.2059 L1041.67 34.2544 Q1044.01 30.1225 1047.78 28.1376 Q1051.55 26.1121 1056.94 26.1121 Q1057.71 26.1121 1058.64 26.2337 Q1059.57 26.3147 1060.7 26.5172 L1060.75 34.1734 Z\" fill=\"#000000\" fill-rule=\"evenodd\" fill-opacity=\"1\" /><path clip-path=\"url(#clip920)\" d=\"M 0 0 M1089.18 49.7694 Q1080.15 49.7694 1076.67 51.8354 Q1073.18 53.9013 1073.18 58.8839 Q1073.18 62.8538 1075.77 65.2034 Q1078.41 67.5124 1082.9 67.5124 Q1089.1 67.5124 1092.83 63.1374 Q1096.6 58.7219 1096.6 51.4303 L1096.6 49.7694 L1089.18 49.7694 M1104.05 46.6907 L1104.05 72.576 L1096.6 72.576 L1096.6 65.6895 Q1094.04 69.8214 1090.24 71.8063 Q1086.43 73.7508 1080.92 73.7508 Q1073.95 73.7508 1069.82 69.8619 Q1065.73 65.9325 1065.73 59.3701 Q1065.73 51.7138 1070.83 47.825 Q1075.98 43.9361 1086.14 43.9361 L1096.6 43.9361 L1096.6 43.2069 Q1096.6 38.0623 1093.19 35.2672 Q1089.83 32.4315 1083.71 32.4315 Q1079.82 32.4315 1076.14 33.3632 Q1072.45 34.295 1069.05 36.1584 L1069.05 29.2718 Q1073.14 27.692 1076.99 26.9223 Q1080.84 26.1121 1084.48 26.1121 Q1094.33 26.1121 1099.19 31.2163 Q1104.05 36.3204 1104.05 46.6907 M1090.44 6.22219 L1098.5 6.22219 L1085.29 21.4536 L1079.1 21.4536 L1090.44 6.22219 Z\" fill=\"#000000\" fill-rule=\"evenodd\" fill-opacity=\"1\" /><path clip-path=\"url(#clip920)\" d=\"M 0 0 M1134.84 9.54393 L1134.84 15.7418 L1127.71 15.7418 Q1123.7 15.7418 1122.12 17.3622 Q1120.58 18.9825 1120.58 23.1955 L1120.58 27.2059 L1132.85 27.2059 L1132.85 32.9987 L1120.58 32.9987 L1120.58 72.576 L1113.08 72.576 L1113.08 32.9987 L1105.95 32.9987 L1105.95 27.2059 L1113.08 27.2059 L1113.08 24.0462 Q1113.08 16.471 1116.61 13.0277 Q1120.13 9.54393 1127.79 9.54393 L1134.84 9.54393 Z\" fill=\"#000000\" fill-rule=\"evenodd\" fill-opacity=\"1\" /><path clip-path=\"url(#clip920)\" d=\"M 0 0 M1142.65 27.2059 L1150.11 27.2059 L1150.11 72.576 L1142.65 72.576 L1142.65 27.2059 M1142.65 9.54393 L1150.11 9.54393 L1150.11 18.9825 L1142.65 18.9825 L1142.65 9.54393 Z\" fill=\"#000000\" fill-rule=\"evenodd\" fill-opacity=\"1\" /><path clip-path=\"url(#clip920)\" d=\"M 0 0 M1190.58 28.9478 L1190.58 35.9153 Q1187.42 34.1734 1184.22 33.3227 Q1181.06 32.4315 1177.82 32.4315 Q1170.57 32.4315 1166.55 37.0496 Q1162.54 41.6271 1162.54 49.9314 Q1162.54 58.2358 1166.55 62.8538 Q1170.57 67.4314 1177.82 67.4314 Q1181.06 67.4314 1184.22 66.5807 Q1187.42 65.6895 1190.58 63.9476 L1190.58 70.8341 Q1187.46 72.2924 1184.1 73.0216 Q1180.77 73.7508 1177.01 73.7508 Q1166.76 73.7508 1160.72 67.3098 Q1154.69 60.8689 1154.69 49.9314 Q1154.69 38.832 1160.76 32.472 Q1166.88 26.1121 1177.49 26.1121 Q1180.94 26.1121 1184.22 26.8413 Q1187.5 27.5299 1190.58 28.9478 Z\" fill=\"#000000\" fill-rule=\"evenodd\" fill-opacity=\"1\" /><path clip-path=\"url(#clip920)\" d=\"M 0 0 M1219.01 49.7694 Q1209.98 49.7694 1206.5 51.8354 Q1203.01 53.9013 1203.01 58.8839 Q1203.01 62.8538 1205.61 65.2034 Q1208.24 67.5124 1212.74 67.5124 Q1218.93 67.5124 1222.66 63.1374 Q1226.43 58.7219 1226.43 51.4303 L1226.43 49.7694 L1219.01 49.7694 M1233.88 46.6907 L1233.88 72.576 L1226.43 72.576 L1226.43 65.6895 Q1223.88 69.8214 1220.07 71.8063 Q1216.26 73.7508 1210.75 73.7508 Q1203.78 73.7508 1199.65 69.8619 Q1195.56 65.9325 1195.56 59.3701 Q1195.56 51.7138 1200.66 47.825 Q1205.81 43.9361 1215.98 43.9361 L1226.43 43.9361 L1226.43 43.2069 Q1226.43 38.0623 1223.02 35.2672 Q1219.66 32.4315 1213.55 32.4315 Q1209.66 32.4315 1205.97 33.3632 Q1202.28 34.295 1198.88 36.1584 L1198.88 29.2718 Q1202.97 27.692 1206.82 26.9223 Q1210.67 26.1121 1214.31 26.1121 Q1224.16 26.1121 1229.02 31.2163 Q1233.88 36.3204 1233.88 46.6907 Z\" fill=\"#000000\" fill-rule=\"evenodd\" fill-opacity=\"1\" /><path clip-path=\"url(#clip920)\" d=\"M 0 0 M1272.53 49.9314 Q1272.53 58.1548 1275.89 62.8538 Q1279.29 67.5124 1285.21 67.5124 Q1291.12 67.5124 1294.52 62.8538 Q1297.93 58.1548 1297.93 49.9314 Q1297.93 41.7081 1294.52 37.0496 Q1291.12 32.3505 1285.21 32.3505 Q1279.29 32.3505 1275.89 37.0496 Q1272.53 41.7081 1272.53 49.9314 M1297.93 65.7705 Q1295.58 69.8214 1291.97 71.8063 Q1288.41 73.7508 1283.38 73.7508 Q1275.16 73.7508 1269.97 67.1883 Q1264.83 60.6258 1264.83 49.9314 Q1264.83 39.2371 1269.97 32.6746 Q1275.16 26.1121 1283.38 26.1121 Q1288.41 26.1121 1291.97 28.0971 Q1295.58 30.0415 1297.93 34.0924 L1297.93 27.2059 L1305.38 27.2059 L1305.38 89.8329 L1297.93 89.8329 L1297.93 65.7705 Z\" fill=\"#000000\" fill-rule=\"evenodd\" fill-opacity=\"1\" /><path clip-path=\"url(#clip920)\" d=\"M 0 0 M1312.43 54.671 L1312.43 27.2059 L1319.88 27.2059 L1319.88 54.3874 Q1319.88 60.8284 1322.39 64.0691 Q1324.9 67.2693 1329.93 67.2693 Q1335.96 67.2693 1339.45 63.421 Q1342.97 59.5726 1342.97 52.9291 L1342.97 27.2059 L1350.43 27.2059 L1350.43 72.576 L1342.97 72.576 L1342.97 65.6084 Q1340.26 69.7404 1336.65 71.7658 Q1333.09 73.7508 1328.35 73.7508 Q1320.53 73.7508 1316.48 68.8897 Q1312.43 64.0286 1312.43 54.671 M1331.18 26.1121 L1331.18 26.1121 Z\" fill=\"#000000\" fill-rule=\"evenodd\" fill-opacity=\"1\" /><path clip-path=\"url(#clip920)\" d=\"M 0 0 M1397.05 48.0275 L1397.05 51.6733 L1362.78 51.6733 Q1363.27 59.3701 1367.4 63.421 Q1371.57 67.4314 1378.98 67.4314 Q1383.28 67.4314 1387.29 66.3781 Q1391.34 65.3249 1395.31 63.2184 L1395.31 70.267 Q1391.3 71.9684 1387.09 72.8596 Q1382.87 73.7508 1378.54 73.7508 Q1367.68 73.7508 1361.32 67.4314 Q1355 61.1119 1355 50.3365 Q1355 39.1965 1361 32.6746 Q1367.03 26.1121 1377.24 26.1121 Q1386.4 26.1121 1391.7 32.0264 Q1397.05 37.9003 1397.05 48.0275 M1389.6 45.84 Q1389.52 39.7232 1386.15 36.0774 Q1382.83 32.4315 1377.32 32.4315 Q1371.08 32.4315 1367.32 35.9558 Q1363.59 39.4801 1363.02 45.8805 L1389.6 45.84 Z\" fill=\"#000000\" fill-rule=\"evenodd\" fill-opacity=\"1\" /><path clip-path=\"url(#clip920)\" d=\"M 0 0 M1435.7 49.9314 Q1435.7 58.1548 1439.06 62.8538 Q1442.46 67.5124 1448.38 67.5124 Q1454.29 67.5124 1457.69 62.8538 Q1461.1 58.1548 1461.1 49.9314 Q1461.1 41.7081 1457.69 37.0496 Q1454.29 32.3505 1448.38 32.3505 Q1442.46 32.3505 1439.06 37.0496 Q1435.7 41.7081 1435.7 49.9314 M1461.1 65.7705 Q1458.75 69.8214 1455.14 71.8063 Q1451.58 73.7508 1446.55 73.7508 Q1438.33 73.7508 1433.14 67.1883 Q1428 60.6258 1428 49.9314 Q1428 39.2371 1433.14 32.6746 Q1438.33 26.1121 1446.55 26.1121 Q1451.58 26.1121 1455.14 28.0971 Q1458.75 30.0415 1461.1 34.0924 L1461.1 27.2059 L1468.55 27.2059 L1468.55 89.8329 L1461.1 89.8329 L1461.1 65.7705 Z\" fill=\"#000000\" fill-rule=\"evenodd\" fill-opacity=\"1\" /><path clip-path=\"url(#clip920)\" d=\"M 0 0 M1475.6 54.671 L1475.6 27.2059 L1483.05 27.2059 L1483.05 54.3874 Q1483.05 60.8284 1485.56 64.0691 Q1488.08 67.2693 1493.1 67.2693 Q1499.13 67.2693 1502.62 63.421 Q1506.14 59.5726 1506.14 52.9291 L1506.14 27.2059 L1513.6 27.2059 L1513.6 72.576 L1506.14 72.576 L1506.14 65.6084 Q1503.43 69.7404 1499.82 71.7658 Q1496.26 73.7508 1491.52 73.7508 Q1483.7 73.7508 1479.65 68.8897 Q1475.6 64.0286 1475.6 54.671 M1494.35 26.1121 L1494.35 26.1121 Z\" fill=\"#000000\" fill-rule=\"evenodd\" fill-opacity=\"1\" /><path clip-path=\"url(#clip920)\" d=\"M 0 0 M1521.41 27.2059 L1528.87 27.2059 L1528.87 72.576 L1521.41 72.576 L1521.41 27.2059 M1521.41 9.54393 L1528.87 9.54393 L1528.87 18.9825 L1521.41 18.9825 L1521.41 9.54393 Z\" fill=\"#000000\" fill-rule=\"evenodd\" fill-opacity=\"1\" /><path clip-path=\"url(#clip920)\" d=\"M 0 0 M1575.49 48.0275 L1575.49 51.6733 L1541.22 51.6733 Q1541.71 59.3701 1545.84 63.421 Q1550.01 67.4314 1557.43 67.4314 Q1561.72 67.4314 1565.73 66.3781 Q1569.78 65.3249 1573.75 63.2184 L1573.75 70.267 Q1569.74 71.9684 1565.53 72.8596 Q1561.32 73.7508 1556.98 73.7508 Q1546.12 73.7508 1539.76 67.4314 Q1533.45 61.1119 1533.45 50.3365 Q1533.45 39.1965 1539.44 32.6746 Q1545.48 26.1121 1555.68 26.1121 Q1564.84 26.1121 1570.15 32.0264 Q1575.49 37.9003 1575.49 48.0275 M1568.04 45.84 Q1567.96 39.7232 1564.6 36.0774 Q1561.27 32.4315 1555.77 32.4315 Q1549.53 32.4315 1545.76 35.9558 Q1542.03 39.4801 1541.47 45.8805 L1568.04 45.84 Z\" fill=\"#000000\" fill-rule=\"evenodd\" fill-opacity=\"1\" /><path clip-path=\"url(#clip920)\" d=\"M 0 0 M1609.6 34.1734 Q1608.35 33.4443 1606.85 33.1202 Q1605.39 32.7556 1603.61 32.7556 Q1597.29 32.7556 1593.88 36.8875 Q1590.52 40.9789 1590.52 48.6757 L1590.52 72.576 L1583.03 72.576 L1583.03 27.2059 L1590.52 27.2059 L1590.52 34.2544 Q1592.87 30.1225 1596.64 28.1376 Q1600.41 26.1121 1605.79 26.1121 Q1606.56 26.1121 1607.5 26.2337 Q1608.43 26.3147 1609.56 26.5172 L1609.6 34.1734 Z\" fill=\"#000000\" fill-rule=\"evenodd\" fill-opacity=\"1\" /><path clip-path=\"url(#clip920)\" d=\"M 0 0 M1633.18 32.4315 Q1627.18 32.4315 1623.7 37.1306 Q1620.22 41.7891 1620.22 49.9314 Q1620.22 58.0738 1623.66 62.7728 Q1627.14 67.4314 1633.18 67.4314 Q1639.13 67.4314 1642.62 62.7323 Q1646.1 58.0333 1646.1 49.9314 Q1646.1 41.8701 1642.62 37.1711 Q1639.13 32.4315 1633.18 32.4315 M1633.18 26.1121 Q1642.9 26.1121 1648.45 32.4315 Q1654 38.7509 1654 49.9314 Q1654 61.0714 1648.45 67.4314 Q1642.9 73.7508 1633.18 73.7508 Q1623.42 73.7508 1617.87 67.4314 Q1612.36 61.0714 1612.36 49.9314 Q1612.36 38.7509 1617.87 32.4315 Q1623.42 26.1121 1633.18 26.1121 Z\" fill=\"#000000\" fill-rule=\"evenodd\" fill-opacity=\"1\" /><polyline clip-path=\"url(#clip922)\" style=\"stroke:#009af9; stroke-width:4; stroke-opacity:1; fill:none\" points=\"\n",
       "  237.067,1386.4 247.338,1386.4 257.608,1386.4 267.878,1386.4 278.149,1386.4 288.419,1386.4 298.689,1386.4 308.96,1386.4 319.23,1386.4 329.5,1386.4 \n",
       "  339.771,1386.4 350.041,1386.4 360.311,1386.4 370.582,1386.4 380.852,1386.4 391.122,1386.4 401.393,1386.4 411.663,1386.39 421.933,1386.39 432.204,1386.39 \n",
       "  442.474,1386.39 452.744,1386.39 463.015,1386.38 473.285,1386.38 483.555,1386.36 493.826,1386.35 504.096,1386.32 514.366,1386.28 524.637,1386.21 534.907,1386.12 \n",
       "  545.177,1385.98 555.448,1385.79 565.718,1385.5 575.988,1385.09 586.259,1384.51 596.529,1383.71 606.799,1382.61 617.07,1381.1 627.34,1379.07 637.61,1376.36 \n",
       "  647.881,1372.77 658.151,1368.1 668.421,1362.07 678.692,1354.37 688.962,1344.65 699.232,1332.52 709.503,1317.57 719.773,1299.33 730.043,1277.37 740.314,1251.21 \n",
       "  750.584,1220.46 760.854,1184.73 771.125,1143.74 781.395,1097.34 791.665,1045.48 801.936,988.326 812.206,926.212 822.476,859.698 832.747,789.57 843.017,716.832 \n",
       "  853.287,642.705 863.558,568.589 873.828,496.036 884.098,426.691 894.369,362.238 904.639,304.331 914.909,254.526 925.18,214.21 935.45,184.535 945.72,166.372 \n",
       "  955.991,160.256 966.261,166.372 976.531,184.535 986.802,214.21 997.072,254.526 1007.34,304.331 1017.61,362.238 1027.88,426.691 1038.15,496.036 1048.42,568.589 \n",
       "  1058.69,642.705 1068.96,716.832 1079.23,789.57 1089.5,859.698 1099.78,926.212 1110.05,988.326 1120.32,1045.48 1130.59,1097.34 1140.86,1143.74 1151.13,1184.73 \n",
       "  1161.4,1220.46 1171.67,1251.21 1181.94,1277.37 1192.21,1299.33 1202.48,1317.57 1212.75,1332.52 1223.02,1344.65 1233.29,1354.37 1243.56,1362.07 1253.83,1368.1 \n",
       "  1264.1,1372.77 1274.37,1376.36 1284.64,1379.07 1294.91,1381.1 1305.18,1382.61 1315.45,1383.71 1325.72,1384.51 1335.99,1385.09 1346.26,1385.5 1356.53,1385.79 \n",
       "  1366.8,1385.98 1377.07,1386.12 1387.34,1386.21 1397.61,1386.28 1407.89,1386.32 1418.16,1386.35 1428.43,1386.36 1438.7,1386.38 1448.97,1386.38 1459.24,1386.39 \n",
       "  1469.51,1386.39 1479.78,1386.39 1490.05,1386.39 1500.32,1386.39 1510.59,1386.4 1520.86,1386.4 1531.13,1386.4 1541.4,1386.4 1551.67,1386.4 1561.94,1386.4 \n",
       "  1572.21,1386.4 1582.48,1386.4 1592.75,1386.4 1603.02,1386.4 1613.29,1386.4 1623.56,1386.4 1633.83,1386.4 1644.1,1386.4 1654.37,1386.4 1664.64,1386.4 \n",
       "  1674.91,1386.4 1685.18,1386.4 1695.45,1386.4 1705.72,1386.4 1716,1386.4 1726.27,1386.4 1736.54,1386.4 1746.81,1386.4 1757.08,1386.4 1767.35,1386.4 \n",
       "  1777.62,1386.4 1787.89,1386.4 1798.16,1386.4 1808.43,1386.4 1818.7,1386.4 1828.97,1386.4 1839.24,1386.4 1849.51,1386.4 1859.78,1386.4 1870.05,1386.4 \n",
       "  1880.32,1386.4 1890.59,1386.4 1900.86,1386.4 1911.13,1386.4 1921.4,1386.4 1931.67,1386.4 1941.94,1386.4 1952.21,1386.4 1962.48,1386.4 1972.75,1386.4 \n",
       "  1983.02,1386.4 1993.29,1386.4 2003.56,1386.4 2013.83,1386.4 2024.11,1386.4 2034.38,1386.4 2044.65,1386.4 2054.92,1386.4 2065.19,1386.4 2075.46,1386.4 \n",
       "  2085.73,1386.4 2096,1386.4 2106.27,1386.4 2116.54,1386.4 2126.81,1386.4 2137.08,1386.4 2147.35,1386.4 2157.62,1386.4 2167.89,1386.4 2178.16,1386.4 \n",
       "  2188.43,1386.4 2198.7,1386.4 2208.97,1386.4 2219.24,1386.4 2229.51,1386.4 2239.78,1386.4 2250.05,1386.4 2260.32,1386.4 2270.59,1386.4 2280.86,1386.4 \n",
       "  2291.13,1386.4 \n",
       "  \"/>\n",
       "<path clip-path=\"url(#clip920)\" d=\"\n",
       "M1924.09 287.756 L2280.18 287.756 L2280.18 166.796 L1924.09 166.796  Z\n",
       "  \" fill=\"#ffffff\" fill-rule=\"evenodd\" fill-opacity=\"1\"/>\n",
       "<polyline clip-path=\"url(#clip920)\" style=\"stroke:#000000; stroke-width:4; stroke-opacity:1; fill:none\" points=\"\n",
       "  1924.09,287.756 2280.18,287.756 2280.18,166.796 1924.09,166.796 1924.09,287.756 \n",
       "  \"/>\n",
       "<polyline clip-path=\"url(#clip920)\" style=\"stroke:#009af9; stroke-width:4; stroke-opacity:1; fill:none\" points=\"\n",
       "  1948.28,227.276 2093.44,227.276 \n",
       "  \"/>\n",
       "<path clip-path=\"url(#clip920)\" d=\"M 0 0 M2136.54 222.565 L2136.54 208.537 L2140.8 208.537 L2140.8 244.556 L2136.54 244.556 L2136.54 240.667 Q2135.2 242.982 2133.14 244.116 Q2131.1 245.227 2128.23 245.227 Q2123.53 245.227 2120.57 241.477 Q2117.63 237.727 2117.63 231.616 Q2117.63 225.505 2120.57 221.755 Q2123.53 218.005 2128.23 218.005 Q2131.1 218.005 2133.14 219.139 Q2135.2 220.25 2136.54 222.565 M2122.03 231.616 Q2122.03 236.315 2123.95 239 Q2125.89 241.662 2129.27 241.662 Q2132.65 241.662 2134.6 239 Q2136.54 236.315 2136.54 231.616 Q2136.54 226.917 2134.6 224.255 Q2132.65 221.57 2129.27 221.57 Q2125.89 221.57 2123.95 224.255 Q2122.03 226.917 2122.03 231.616 Z\" fill=\"#000000\" fill-rule=\"evenodd\" fill-opacity=\"1\" /><path clip-path=\"url(#clip920)\" d=\"M 0 0 M2157.05 231.523 Q2151.89 231.523 2149.9 232.704 Q2147.91 233.884 2147.91 236.732 Q2147.91 239 2149.39 240.343 Q2150.89 241.662 2153.46 241.662 Q2157 241.662 2159.13 239.162 Q2161.29 236.639 2161.29 232.472 L2161.29 231.523 L2157.05 231.523 M2165.54 229.764 L2165.54 244.556 L2161.29 244.556 L2161.29 240.621 Q2159.83 242.982 2157.65 244.116 Q2155.48 245.227 2152.33 245.227 Q2148.35 245.227 2145.98 243.005 Q2143.65 240.759 2143.65 237.009 Q2143.65 232.634 2146.56 230.412 Q2149.5 228.19 2155.31 228.19 L2161.29 228.19 L2161.29 227.773 Q2161.29 224.834 2159.34 223.236 Q2157.42 221.616 2153.92 221.616 Q2151.7 221.616 2149.6 222.148 Q2147.49 222.681 2145.54 223.746 L2145.54 219.81 Q2147.88 218.908 2150.08 218.468 Q2152.28 218.005 2154.36 218.005 Q2159.99 218.005 2162.77 220.922 Q2165.54 223.838 2165.54 229.764 Z\" fill=\"#000000\" fill-rule=\"evenodd\" fill-opacity=\"1\" /><path clip-path=\"url(#clip920)\" d=\"M 0 0 M2174.23 211.269 L2174.23 218.63 L2183 218.63 L2183 221.94 L2174.23 221.94 L2174.23 236.014 Q2174.23 239.185 2175.08 240.088 Q2175.96 240.991 2178.62 240.991 L2183 240.991 L2183 244.556 L2178.62 244.556 Q2173.69 244.556 2171.82 242.727 Q2169.94 240.875 2169.94 236.014 L2169.94 221.94 L2166.82 221.94 L2166.82 218.63 L2169.94 218.63 L2169.94 211.269 L2174.23 211.269 Z\" fill=\"#000000\" fill-rule=\"evenodd\" fill-opacity=\"1\" /><path clip-path=\"url(#clip920)\" d=\"M 0 0 M2197.51 221.616 Q2194.09 221.616 2192.1 224.301 Q2190.1 226.963 2190.1 231.616 Q2190.1 236.269 2192.07 238.954 Q2194.06 241.616 2197.51 241.616 Q2200.91 241.616 2202.91 238.931 Q2204.9 236.246 2204.9 231.616 Q2204.9 227.01 2202.91 224.324 Q2200.91 221.616 2197.51 221.616 M2197.51 218.005 Q2203.07 218.005 2206.24 221.616 Q2209.41 225.227 2209.41 231.616 Q2209.41 237.982 2206.24 241.616 Q2203.07 245.227 2197.51 245.227 Q2191.93 245.227 2188.76 241.616 Q2185.61 237.982 2185.61 231.616 Q2185.61 225.227 2188.76 221.616 Q2191.93 218.005 2197.51 218.005 Z\" fill=\"#000000\" fill-rule=\"evenodd\" fill-opacity=\"1\" /><path clip-path=\"url(#clip920)\" d=\"M 0 0 M2230.41 219.394 L2230.41 223.422 Q2228.6 222.496 2226.66 222.033 Q2224.71 221.57 2222.63 221.57 Q2219.46 221.57 2217.86 222.542 Q2216.29 223.514 2216.29 225.459 Q2216.29 226.94 2217.42 227.797 Q2218.55 228.63 2221.98 229.394 L2223.44 229.718 Q2227.97 230.69 2229.87 232.472 Q2231.79 234.232 2231.79 237.403 Q2231.79 241.014 2228.92 243.121 Q2226.08 245.227 2221.08 245.227 Q2218.99 245.227 2216.72 244.81 Q2214.48 244.417 2211.98 243.607 L2211.98 239.209 Q2214.34 240.435 2216.63 241.06 Q2218.92 241.662 2221.17 241.662 Q2224.18 241.662 2225.8 240.644 Q2227.42 239.602 2227.42 237.727 Q2227.42 235.991 2226.24 235.065 Q2225.08 234.139 2221.12 233.283 L2219.64 232.935 Q2215.68 232.102 2213.92 230.389 Q2212.16 228.653 2212.16 225.644 Q2212.16 221.986 2214.76 219.996 Q2217.35 218.005 2222.12 218.005 Q2224.48 218.005 2226.56 218.352 Q2228.65 218.699 2230.41 219.394 Z\" fill=\"#000000\" fill-rule=\"evenodd\" fill-opacity=\"1\" /></svg>\n"
      ]
     },
     "metadata": {},
     "output_type": "display_data"
    }
   ],
   "source": [
    "xs = range(-1,stop=1,length=201)\n",
    "# grafica para mu=0.1, sigma = 0.1\n",
    "# uso la funcion anónima para que `gaussiana` se vuelva de una sola variable\n",
    "graficar(xs,x -> gaussiana(x,0.1,0.1))\n",
    "# grafica para mu=0.1, sigma = 0.2\n",
    "graficar(xs, x -> gaussiana(x,0.1,0.4))\n",
    "# grafica para mu=-0.3, sigma = 0.1\n",
    "graficar(xs,x -> gaussiana(x,-0.3,0.1))"
   ]
  },
  {
   "cell_type": "markdown",
   "metadata": {},
   "source": [
    "### Ejercicio 1\n",
    "\n",
    "La función delta de dirac, denotada $\\delta(x)$, se puede aproximar como\n",
    "\n",
    "$$\n",
    "\\delta_\\epsilon(x) = \\begin{cases}\n",
    "0 & \\text{si } |x|> \\epsilon \\\\\n",
    "\\frac{1}{2\\epsilon} & \\text{si } |x| \\leq \\epsilon \\\\\n",
    "\\end{cases}\n",
    "$$\n",
    "\n",
    "Para un $\\epsilon>0$ pequeño"
   ]
  },
  {
   "cell_type": "markdown",
   "metadata": {},
   "source": [
    "Implementa una función `delta(x,epsilon)` que calcule dicha función y realiza distintas gráficas utiliznado la función `graficar` para varios valores de $\\epsilon$."
   ]
  },
  {
   "cell_type": "markdown",
   "metadata": {},
   "source": [
    "## Diferencias finitas para la ecuación de calor.\n",
    "\n",
    "Supongamos que discretizamos todo nuestro dominio utilizando un paso de tamaño $h$ para el tiempo y un paso de tamaño $k$ para el espacio. Por simplicdad, supongamos que nuestros pasos dividen exactamente a los dos intervalos de tiempo y espacio y que obtenemos $n$ subintervalos temporales ($n+1$ puntos $[t_0 = 0, t_1,\\ldots,t_n]$) y $m$ subintervalos espaciales ($m+1$ puntos $[x_0 = 0, x_1,\\ldots,x_m = 1]$)\n",
    "\n",
    "Utilizando esa discretización, podemos aproximar las derivadas de nuestra ecuación con diferencias finitas: para $t$ una diferencia hacia adelante mientras que para $x$ una diferencia centrada, para obtener:\n",
    "\n",
    "$$\n",
    "\\frac{u(t+h,x) - u(t,x)}{h} = D \\frac{u(t,x+k) + u(t,x-k) - 2u(t,x)}{k^2}\n",
    "$$\n",
    "\n",
    "Recordando que nuestra función estará evaluada en tiempos y espacios discretos $(t_l,x_i)$, para simplificar la notación, denotamos:\n",
    "\n",
    "$$\n",
    "u(t_l,x_i) = u^{(l)}_i\n",
    "$$\n",
    "\n",
    "Nuestra ecuación discretizada se vuelve\n",
    "\n",
    "$$\n",
    "\\frac{u^{(l+1)}_i - u^{(l)}_i}{h} = D \\frac{u^{(l)}_{i+1} + u^{(l)}_{i-1} - 2u^{(l)}_{i}}{k^2}\n",
    "$$\n",
    "\n",
    "Podemos despejar $ u^{(l+1)}_i $ para obtener:\n",
    "\n",
    "$$\n",
    "u^{(l+1)}_i  = u^{(l)}_i + \\frac{Dh}{k^2} \\left( u^{(l)}_{i+1} + u^{(l)}_{i-1} - 2u^{(l)}_{i} \\right)\n",
    "$$\n",
    "\n",
    "Notemos que, si ahora conocemos todos los $u^{(l)}_i$, es posible calcular el valor para el siguiente tiempo. Así, esto nos da una método explícito para ir generando los valores $u^{(1)}_i$, $u^{(2)}_i$ a partir del anterior. La condición incial nos permite conocer $u$ al tiempo $0$ pues $u^{(0)}_i = g(x_i)$\n",
    "\n",
    "Notemos que para calcular $u^{(l)}_{0}$ y $u^{(l)}_m$ necesitaríamos conocer $u^{(l)}_{-1}$ y $u^{(l)}_{m+1}$ los cuales, en principio, **no existen** pues no forman parte de nuestra discretización. Para evitar este problema, lo que haremos, parecido a la solución de problemas de valores a la frontera, es **utilizar las condiciones a la frontera** para darle valores a $u^{(l)}_{0}$ y $u^{(l)}_m$. **Dependiedo del tipo de condiciones a la frontera**, darle valores a $u^{(l)}_{0}$ y $u^{(l)}_m$ puede ser sencillo o muy complicado.\n",
    "\n",
    "### Ejercicio 2\n",
    "\n",
    "Supongamos que tenemos el caso de condiciones de frontera **absorbentes**, descrito por las condiciones de Dirichlet:\n",
    "\n",
    "$$\n",
    "u(t,0) = u(t,1) = 0\n",
    "$$\n",
    "\n",
    "Expresa analíticamente qué valor deberían de tomar $u^{(l)}_{0}$ y $u^{(l)}_{m}$"
   ]
  },
  {
   "cell_type": "markdown",
   "metadata": {},
   "source": [
    "### Ejercicio 3\n",
    "\n",
    "Implementa una función `calor1dAbsorbentes(D,t_f,h,k,g)` que resuelva el problema de la ecuación de calor en una dimensión con condición inicial $u(0,x) = g(x)$ y condiciones de frontera absorbentes.\n",
    "\n",
    "Los argumentos de tu función deben ser una constante de difusión `D`, tiempo final `t_f`, pasos de tiempo y espacial `h`,`k`, respectivamente y `g` una función **escalar** correspondiente a la condición inicial. Tu función debe de regresar los tiempos `[0,t_1,..,t_n]`, los puntos de x `[0,x_1,...,x_{m-1},1]` y una matriz de $ (n+1)\\times (m+1)$  cuyos renglones sean los valores de la función `[u_0^(0),...,u_m^(0)]`, `[u_0^(1),...,u_m^(1)]`,.., `[u_0^(n),...,u_m^(n)]`\n",
    "\n",
    "\n",
    "**Sugerencia:** prealoquen todos los arreglos."
   ]
  },
  {
   "cell_type": "markdown",
   "metadata": {},
   "source": [
    "### Ejercicio 4\n",
    "\n",
    "Utiliza tu función `calor1dAbsorbentes` para resolver el problema anteriormente citado, con condición inicial \n",
    "\n",
    "$$g(x) = \\delta(x-0.5)$$\n",
    "\n",
    "Toma valores arbitrarios del los parámetros `D`, `k`, `h` que cumplan que \n",
    "\n",
    "$$\n",
    "\\frac{Dh}{k^2} < \\frac{1}{2}\n",
    "$$\n",
    "\n",
    "Grafica la solucion en los primeros tiempos y después realiza una animación de la solución en todo el intervalo de tiempo. Juega con el valor $h$ y el número de cuadros para que tu animación se pueda ver bien.\n",
    "\n",
    "\n",
    "**Sugerencia 1**: Toma un valor fijo de `epsilon` y utiliza tu función `delta(x,epsilon)` para dar una función anónima que solo dependa de `x` como argumento a `calor1dAbsorbentes`. Ten cuidado con el valor de epsilon, pues si lo tomas demasiado pequeño tu condición incial será la función $0$.\n",
    "\n",
    "**Sugerencia 2**: Antes de hacer tu animación, utiliza la función `heatmap`  del paquete Plots para graficar la matriz como un [**mapa de calor**](https://en.wikipedia.org/wiki/Heat_map) de las soluciones en un plano $(t,x)$ y ver como cambian a lo largo del tiempo\n"
   ]
  },
  {
   "cell_type": "markdown",
   "metadata": {},
   "source": [
    "### Ejercicio 5\n",
    "\n",
    "(i) Fija `h`, `k` y resuelve el problema planteado para el ejercicio 4 para distintos valores (no más de 4) de la constante $D$ y compara los resultados en una misma animación. Recuerda tomar `h` y  `k` de suficiente tamaño para que siempre se cumpla la condición \n",
    "\n",
    "$$\n",
    "\\frac{Dh}{k^2} < \\frac{1}{2}\n",
    "$$\n",
    "\n",
    "Para cualquier $D$ que tomes\n",
    "\n",
    "(ii) repite el inciso (i) pero ahora con valores de $D$ que no cumplan la desigualdad. ¿Cuál es la solución obtenida? ¿Tiene eso algún sentido?"
   ]
  },
  {
   "cell_type": "markdown",
   "metadata": {},
   "source": [
    "### Ejercicio 6\n",
    "\n",
    "Al integrar la ecuación de calor en un intervalo, uno puede encontrar que necesariamente se cumple que \n",
    "\n",
    "$$\n",
    "\\int_{0}^{1} \\frac{u(t,x)}{D} \\; dx = Q \n",
    "$$\n",
    "\n",
    "Para $Q$ la energía interna del sistema. Toma alguna la solución obtenida en el ejercicio 4 y utiliza una suma de Riemman (o cualquiera de los métodos vistos en la clase de integración) para calcular $Q$ en los tiempos discretos $t_0,...,t_n$. ¿La energía se conserva? ¿A qué crees que se deba tu respuesta anterior?"
   ]
  },
  {
   "cell_type": "markdown",
   "metadata": {},
   "source": [
    "### Ejercicio 7\n",
    "\n",
    "Implementa una función `calor1dPeriodicas(D,t_f,h,k,g)` que resuelva el problema de la ecuación de calor en una dimensión con condición inicial $u(0,x) = g(x)$ y condiciones de frontera periodicas $u(t,0) = u(t,1)$.\n",
    "\n",
    "Los argumentos de tu función deben ser una constante de difusión `D`, tiempo final `t_f`, pasos de tiempo y espacial `h`,`k`, respectivamente y `g` una función **escalar** correspondiente a la condición inicial. Tu función debe de regresar los tiempos `[0,t_1,..,t_n]`, los puntos de x `[0,x_1,...,x_{m-1},1]` y una matriz de $(n+1)\\times (m+1)$  cuyos renglones sean los valores de la función `[u_0^(0),...,u_m^(0)]`, `[u_0^(1),...,u_m^(1)]`,.., `[u_0^(n),...,u_m^(n)]`\n",
    "\n",
    "Resuelvelo para valores fijos de `h` y `k` y los $D$ que utilizaste en el inciso i del ejercicio 5. Realiza animaciones de las soluciones.\n",
    "\n",
    "**Sugerencia 1**: antes de cualquier cosa, encuentra las expresiones que deben cumplir $u^{(l)}_{0}$ y $u^{(l)}_{m}$ en cada tiempo.\n",
    " "
   ]
  },
  {
   "cell_type": "markdown",
   "metadata": {},
   "source": [
    "### Ejercicio 8\n",
    "\n",
    "Repite el ejercicio 6 pero ahora utilizando alguna de las soluciones obtenidas en el ejercicio 7. ¿Cómo evolucionan ahora los valores de $Q$? ¿Existe algún cambio con lo observado en el ejercicio 6? ¿Por qué?"
   ]
  },
  {
   "cell_type": "markdown",
   "metadata": {},
   "source": [
    "### Ejercicio 9 \n",
    "Supongamos que ahora tenemos un problema con condiciones de frontera **reflejantes**, es decir, condiciones de Neumann que cumplen con:\n",
    "\n",
    "$$\n",
    "\\frac{\\partial u}{\\partial x}(t,0) =  \\frac{\\partial u}{\\partial x}(t,1) = 0\n",
    "$$\n",
    "\n",
    "Utiliza una aproximación de diferencias finitas de  $\\partial / \\partial x$ en los extremos $u^{(l)}_0$, $u^{(l)}_m$ para encontrar una expresión analítica para $u^{(l)}_{0}$ y $u^{(l)}_{m}$ **en términos de** $u^{(l)}_{1}$ y $u^{(l)}_{m-1}$.\n",
    "\n",
    "**Sugerencia** la aproximación de diferencias finitas no es igual en ambos extremos: en un extremo es hacia un lado y en otro es en lado contrario"
   ]
  },
  {
   "cell_type": "markdown",
   "metadata": {},
   "source": [
    "### Ejercicio 10\n",
    "\n",
    "Utiliza las expresiones del ejercicio anterior para implementar una función `calor1dReflejantes(D,t_f,h,k,g)` que resuelva el problema de la ecuación de calor en una dimensión con condición inicial $u(0,x) = g(x)$ y condiciones de frontera reflejantes.\n",
    "\n",
    "Los argumentos de tu función deben ser una constante de difusión `D`, tiempo final `t_f`, pasos de tiempo y espacial `h`,`k`, respectivamente y `g` una función **escalar** correspondiente a la condición inicial. Tu función debe de regresar los tiempos `[0,t_1,..,t_n]`, los puntos de x `[0,x_1,...,x_{m-1},1]` y una matriz de $n\\times m$  cuyos renglones sean los valores de la función `[u_0^(0),...,u_m^(0)]`, `[u_0^(1),...,u_m^(1)]`,.., `[u_0^(n),...,u_m^(n)]`\n",
    "\n",
    "Resuelvelo para valores fijos de `h` y `k` y los $D$ que utilizaste en el inciso i del ejercicio 5. Realiza animaciones de las soluciones.\n",
    " \n",
    " \n",
    "**Sugerencia 1** para actualizar los valores $u^{(l)}_{0}$ y $u^{(l)}_{m}$, primero deberás obtener $u^{(l)}_{1}$ y $u^{(l)}_{m-1}$."
   ]
  },
  {
   "cell_type": "markdown",
   "metadata": {},
   "source": [
    "### Ejercicio 11\n",
    "\n",
    "Repite el ejercicio 8 para este sistema. ¿Qué observas? Cómparalo con lo obtenido en los otros dos sistemas."
   ]
  }
 ],
 "metadata": {
  "kernelspec": {
   "display_name": "Julia 1.4.2",
   "language": "julia",
   "name": "julia-1.4"
  },
  "language_info": {
   "file_extension": ".jl",
   "mimetype": "application/julia",
   "name": "julia",
   "version": "1.4.2"
  }
 },
 "nbformat": 4,
 "nbformat_minor": 4
}
