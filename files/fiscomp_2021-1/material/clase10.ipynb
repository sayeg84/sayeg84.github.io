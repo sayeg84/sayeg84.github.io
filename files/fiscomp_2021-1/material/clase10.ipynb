{
 "cells": [
  {
   "cell_type": "markdown",
   "metadata": {},
   "source": [
    "# Integración numérica\n",
    "\n",
    "**Integrar, al contrario de derivar, no es una operación *algorítmica*,** es decir, no existe una manera de, dada una función, calcular su integral definida en un intervalo. \n",
    "\n",
    "Debido a esto, integrar analíticamente es mucho más dificil que derivar analíticamente. Más aún, existen funciones cuyas integrales, aunque existan, no se pueden expresar de manera simple.\n",
    "\n",
    "Para atacar todos estos problemas, en análisis numérico se han desarrollado distintos métodos para calcular la integral de una función."
   ]
  },
  {
   "cell_type": "markdown",
   "metadata": {},
   "source": [
    "## Planteamiento del problema\n",
    "\n",
    "Dada una función $f:[a,b] \\to \\mathbb{R}$ continua a pedazos (tiene a lo más un número numerable de discontinuidades), quiero calcular $\\int_{a}^{b} f(s) ds$, que corresponde al área algebraica entre la función y el eje x\n",
    "\n",
    "![](https://lh3.googleusercontent.com/KiLWWFTJW6EF3SNuzVS9nAmbA1xlwvPfZbfy0sTweVdrqlTsrpBP6rYzYVIGYMKAmVQ1_CouwBu0hR4rIaR467hmYXvDfSGD39wgcrLv0cwnPoMizRnEuNNcU2Dks3RKNbHBLjROyA=w400)\n",
    "\n",
    "## ¿Cómo calculo una integral numéricamente?\n",
    "\n",
    "Primero debemos recordar la definición de una integral sobre el intervalo $[a,b]$. \n",
    "\n",
    "### Particiones regulares\n",
    "Sea $P = \\{x_0=a, x_1, \\ldots, x_{n-1}, x_n = b\\}$. Decimos que $P$ es una **partición regular** de $[a,b]$ si y solo si, para toda $i$ se cumple que\n",
    "\n",
    "1. $x_{i} < x_{i+1}$ \n",
    "\n",
    "2.  $x_{i+1} - x_{i} = h = \\frac{b-a}{n}$\n",
    "\n",
    "En este ejemplo, la partición tiene $n+1$ puntos y $n$ subintervalos. La función `range(a,stop=b,length=n+1)` nos construye un rango que corresponde a una partición regular de $[a,b]$ con $n$ subintervalos."
   ]
  },
  {
   "cell_type": "markdown",
   "metadata": {},
   "source": [
    "### Sumas de Riemann\n",
    "\n",
    "Primero la integral se aproxima mediante la suma de las áreas de varios rectángulos cuyas bases están sobre una partición regular del invervalo $[a,b]$\n",
    "\n",
    "$$\n",
    "\\int_{a}^{b} f(s) ds \\approx \\sum_{i=1}^{n} f(\\xi_i)(x_{i} - x_{i-1}) = h \\sum_{i=1}^{n}  f(\\xi_i)\n",
    "$$\n",
    "\n",
    "con $\\xi_i \\in [x_{i-1},x_{i}]$. Notemos que la altura del rectángulo, dada por $f(\\xi_i)$, es arbitraria. Para tener la integral, simplemente tomamos el límite cuando el número de puntos de la partición tiende a infinito:\n",
    "\n",
    "$$\n",
    "\\int_{a}^{b} f(s) ds = \\lim_{n \\to \\infty} \\sum_{i=1}^{n} f(\\xi_i)(x_{i} - x_{i-1}) = \\lim_{n \\to \\infty} h \\sum_{i=1}^{n}  f(\\xi_i)\n",
    "$$\n",
    "\n",
    "con $\\xi_i \\in [x_{i-1},x_{i}]$\n",
    "\n",
    "\n",
    "![](https://lh3.googleusercontent.com/-W_1UtNF8I6txqirGvNCW_aQI5lYB6vHOnAt9F1Pg7QSj8uUqaZPLwiAIUc-nxysR3x8hcNK-Kx8Mpn-M2OeqXJW5HZiv0skhmw0Hh67N3m5yCEZ5-IdC_nQngwprbDydmiue3d0EA=w400)"
   ]
  },
  {
   "cell_type": "markdown",
   "metadata": {},
   "source": [
    "### Sumas importantes\n",
    "\n",
    "Si **$f$ es continua**, sabemos que en cualquier intervalo cerrado alcanza su máximo y su mínimo. Así, podemos tomar como alturas de los rectángulos los valores máximos y mínimos de la función y así obtener:\n",
    "\n",
    "#### Suma superior:\n",
    "\n",
    "$$\\xi_i = \\text{argmax}_{x\\in[x_{i-1},x_i]}{f(x)} \\quad , \\quad f(\\xi_i) = \\max_{x \\in [x_{i-1},x_i]}{f(x)}$$\n",
    "\n",
    "#### Suma inferior:\n",
    "\n",
    "$$\\xi_i = \\text{argmin}_{x\\in[x_{i-1},x_i]}{f(x)} \\quad , \\quad f(\\xi_i) = \\min_{x \\in [x_{i-1},x_i]}{f(x)}$$\n",
    "\n"
   ]
  },
  {
   "cell_type": "markdown",
   "metadata": {},
   "source": [
    "## ¿Podemos implementar una suma superior o inferior en la computadora? \n",
    "\n",
    "Generalmente **NO**: como ya vimos, encontrar minimos y maximos no es sencillo y eso se tendría que hacer para cada subintervalo de la partición ($n$ veces), lo que haría la integración muy tardada.\n",
    "\n",
    "## ¿Cómo calculamos entonces la integral? \n",
    "\n",
    "Ya que no podemos hacer sumas superiores o inferiores, lo más sencillo es tomar $\\xi_i$ de manera que sea fácil calcular la integral en la computadora:\n",
    "\n",
    "Recordamos que $\\xi_i \\in [x_{i-1},x_i]$\n",
    "\n",
    "### Primera opción: $\\xi_i = x_{i}$ (Integral rectangular hacia adelante)\n",
    "\n",
    "$$\n",
    "\\int_{a}^{b} f(s) ds \\approx h \\sum_{i=1}^{n}  f(\\xi_i) =  h \\sum_{i=1}^{n}  f(x_i)\n",
    "$$\n",
    "\n",
    "Tomar el punto $\\xi_i = x_{i}$ corresponde a aproximar la integral como se muestra en la siguiente figura\n",
    "\n",
    "![adelante](https://lh3.googleusercontent.com/DSVcg_tdtBMPUSoZ8csX9KRJBW6Id75H1kRuWhi20JaepmXy2sqUUcVLI1cB_2dnhTYMmr0Wo-W6vw00tN7vXFbzrk9fszmnx-KAg7rpZ348woEIfybr-gy_0eS4jCb7RYVoQR9JyA=w300)\n",
    "\n"
   ]
  },
  {
   "cell_type": "markdown",
   "metadata": {},
   "source": [
    "## Preludio computacional: diferencia entre los indices de la partición y de la lista de Julia\n",
    "\n",
    "Muchas veces, cuando planteamos un problema de manera matemática, la notación del problema puede incluir índices que nosotros también quisiéramos utilizar. Sin embargo, es importante recordar que **los índices en un objeto iterable siempre empiezan en 1**. Para el caso de la partición, se cumple que:\n",
    "\n",
    "\n",
    "Partición: $xs = \\{x_0, x_1, x_2 \\ldots, x_{n-1},x_n\\}$\n",
    "\n",
    "Si queremos representar todos los puntos de la partición en un arreglo, debemos notar que tendrán la siguiente correspondencia\n",
    "\n",
    "$xs[1] = x_0$\n",
    "\n",
    "$xs[2] = x_1$\n",
    "\n",
    ".\n",
    ".\n",
    ".\n",
    "\n",
    "$xs[i] = x_{i-1}$\n",
    "\n",
    "$xs[i+1] = x_{i}$\n",
    "\n",
    "Es fundamental que dicha correspondencia se respete para no tener problemas entre lo teórico y lo computacional"
   ]
  },
  {
   "cell_type": "code",
   "execution_count": 1,
   "metadata": {},
   "outputs": [
    {
     "data": {
      "text/plain": [
       "intAdelante (generic function with 1 method)"
      ]
     },
     "execution_count": 1,
     "metadata": {},
     "output_type": "execute_result"
    }
   ],
   "source": [
    "function intAdelante(f,a,b,n)\n",
    "    # hacer la particion regular con n+1 puntos, es decir, n subintervalos\n",
    "    xs = range(a,stop = b, length = n+1)\n",
    "    # hacer la suma de Riemann\n",
    "    integral = 0\n",
    "    for i in 1:n\n",
    "        # xs[i+1] es el x_i de la partición\n",
    "        integral = integral + f(xs[i+1])\n",
    "    end\n",
    "    # multiplicamos por h = (b-a)/n\n",
    "    integral = (b-a)/n * integral\n",
    "    return integral\n",
    "end"
   ]
  },
  {
   "cell_type": "markdown",
   "metadata": {},
   "source": [
    "Podemos probar nuestra implementación en la función $f(x) = 3x^2$\n",
    "\n",
    "Analíticamente, sabemos que\n",
    "\n",
    "$$\n",
    "\\int_0^2 3x^2 dx= x^3 \\mid_0^2 = 2^3 - 0^3 = 8\n",
    "$$"
   ]
  },
  {
   "cell_type": "code",
   "execution_count": 2,
   "metadata": {},
   "outputs": [
    {
     "data": {
      "text/plain": [
       "prueba (generic function with 1 method)"
      ]
     },
     "execution_count": 2,
     "metadata": {},
     "output_type": "execute_result"
    }
   ],
   "source": [
    "function prueba(x)\n",
    "    return 3*x^2\n",
    "end"
   ]
  },
  {
   "cell_type": "code",
   "execution_count": 3,
   "metadata": {},
   "outputs": [
    {
     "name": "stdout",
     "output_type": "stream",
     "text": [
      "9.24\n",
      "8.120399999999998\n",
      "8.012004000000006\n"
     ]
    }
   ],
   "source": [
    "# con 10 subintervalos, o rectángulos, la aproximación es mala\n",
    "println(intAdelante(prueba,0,2,10))\n",
    "# tomando más mejora \n",
    "println(intAdelante(prueba,0,2,100))\n",
    "println(intAdelante(prueba,0,2,1000))"
   ]
  },
  {
   "cell_type": "code",
   "execution_count": 4,
   "metadata": {},
   "outputs": [],
   "source": [
    "using Plots"
   ]
  },
  {
   "cell_type": "code",
   "execution_count": 6,
   "metadata": {},
   "outputs": [
    {
     "name": "stdout",
     "output_type": "stream",
     "text": [
      "exponentes: \n",
      "[1.0, 1.103448275862069, 1.206896551724138, 1.3103448275862069, 1.4137931034482758, 1.5172413793103448, 1.6206896551724137, 1.7241379310344827, 1.8275862068965518, 1.9310344827586208, 2.0344827586206895, 2.1379310344827585, 2.2413793103448274, 2.3448275862068964, 2.4482758620689653, 2.5517241379310347, 2.6551724137931036, 2.7586206896551726, 2.8620689655172415, 2.9655172413793105, 3.0689655172413794, 3.1724137931034484, 3.2758620689655173, 3.3793103448275863, 3.4827586206896552, 3.586206896551724, 3.689655172413793, 3.793103448275862, 3.896551724137931, 4.0]\n",
      "numeros de  subintervalos: \n",
      "[10, 13, 17, 21, 26, 33, 42, 53, 68, 86, 109, 138, 175, 222, 281, 357, 453, 574, 728, 924, 1173, 1488, 1888, 2396, 3040, 3857, 4894, 6211, 7881, 10000]\n"
     ]
    },
    {
     "data": {
      "image/svg+xml": [
       "<?xml version=\"1.0\" encoding=\"utf-8\"?>\n",
       "<svg xmlns=\"http://www.w3.org/2000/svg\" xmlns:xlink=\"http://www.w3.org/1999/xlink\" width=\"600\" height=\"400\" viewBox=\"0 0 2400 1600\">\n",
       "<defs>\n",
       "  <clipPath id=\"clip620\">\n",
       "    <rect x=\"0\" y=\"0\" width=\"2400\" height=\"1600\"/>\n",
       "  </clipPath>\n",
       "</defs>\n",
       "<path clip-path=\"url(#clip620)\" d=\"\n",
       "M0 1600 L2400 1600 L2400 0 L0 0  Z\n",
       "  \" fill=\"#ffffff\" fill-rule=\"evenodd\" fill-opacity=\"1\"/>\n",
       "<defs>\n",
       "  <clipPath id=\"clip621\">\n",
       "    <rect x=\"480\" y=\"0\" width=\"1681\" height=\"1600\"/>\n",
       "  </clipPath>\n",
       "</defs>\n",
       "<path clip-path=\"url(#clip620)\" d=\"\n",
       "M180.118 1474.16 L2352.76 1474.16 L2352.76 123.472 L180.118 123.472  Z\n",
       "  \" fill=\"#ffffff\" fill-rule=\"evenodd\" fill-opacity=\"1\"/>\n",
       "<defs>\n",
       "  <clipPath id=\"clip622\">\n",
       "    <rect x=\"180\" y=\"123\" width=\"2174\" height=\"1352\"/>\n",
       "  </clipPath>\n",
       "</defs>\n",
       "<polyline clip-path=\"url(#clip622)\" style=\"stroke:#000000; stroke-width:2; stroke-opacity:0.1; fill:none\" points=\"\n",
       "  241.608,1474.16 241.608,123.472 \n",
       "  \"/>\n",
       "<polyline clip-path=\"url(#clip622)\" style=\"stroke:#000000; stroke-width:2; stroke-opacity:0.1; fill:none\" points=\"\n",
       "  924.827,1474.16 924.827,123.472 \n",
       "  \"/>\n",
       "<polyline clip-path=\"url(#clip622)\" style=\"stroke:#000000; stroke-width:2; stroke-opacity:0.1; fill:none\" points=\"\n",
       "  1608.05,1474.16 1608.05,123.472 \n",
       "  \"/>\n",
       "<polyline clip-path=\"url(#clip622)\" style=\"stroke:#000000; stroke-width:2; stroke-opacity:0.1; fill:none\" points=\"\n",
       "  2291.27,1474.16 2291.27,123.472 \n",
       "  \"/>\n",
       "<polyline clip-path=\"url(#clip620)\" style=\"stroke:#000000; stroke-width:4; stroke-opacity:1; fill:none\" points=\"\n",
       "  180.118,1474.16 2352.76,1474.16 \n",
       "  \"/>\n",
       "<polyline clip-path=\"url(#clip620)\" style=\"stroke:#000000; stroke-width:4; stroke-opacity:1; fill:none\" points=\"\n",
       "  241.608,1474.16 241.608,1457.96 \n",
       "  \"/>\n",
       "<polyline clip-path=\"url(#clip620)\" style=\"stroke:#000000; stroke-width:4; stroke-opacity:1; fill:none\" points=\"\n",
       "  924.827,1474.16 924.827,1457.96 \n",
       "  \"/>\n",
       "<polyline clip-path=\"url(#clip620)\" style=\"stroke:#000000; stroke-width:4; stroke-opacity:1; fill:none\" points=\"\n",
       "  1608.05,1474.16 1608.05,1457.96 \n",
       "  \"/>\n",
       "<polyline clip-path=\"url(#clip620)\" style=\"stroke:#000000; stroke-width:4; stroke-opacity:1; fill:none\" points=\"\n",
       "  2291.27,1474.16 2291.27,1457.96 \n",
       "  \"/>\n",
       "<path clip-path=\"url(#clip620)\" d=\"M 0 0 M210.123 1552.44 L217.762 1552.44 L217.762 1526.07 L209.452 1527.74 L209.452 1523.48 L217.715 1521.81 L222.391 1521.81 L222.391 1552.44 L230.03 1552.44 L230.03 1556.37 L210.123 1556.37 L210.123 1552.44 Z\" fill=\"#000000\" fill-rule=\"evenodd\" fill-opacity=\"1\" /><path clip-path=\"url(#clip620)\" d=\"M 0 0 M245.1 1524.89 Q241.488 1524.89 239.66 1528.46 Q237.854 1532 237.854 1539.13 Q237.854 1546.23 239.66 1549.8 Q241.488 1553.34 245.1 1553.34 Q248.734 1553.34 250.539 1549.8 Q252.368 1546.23 252.368 1539.13 Q252.368 1532 250.539 1528.46 Q248.734 1524.89 245.1 1524.89 M245.1 1521.19 Q250.91 1521.19 253.965 1525.79 Q257.044 1530.38 257.044 1539.13 Q257.044 1547.85 253.965 1552.46 Q250.91 1557.04 245.1 1557.04 Q239.289 1557.04 236.211 1552.46 Q233.155 1547.85 233.155 1539.13 Q233.155 1530.38 236.211 1525.79 Q239.289 1521.19 245.1 1521.19 Z\" fill=\"#000000\" fill-rule=\"evenodd\" fill-opacity=\"1\" /><path clip-path=\"url(#clip620)\" d=\"M 0 0 M257.589 1525.76 L263.796 1525.76 L263.796 1504.34 L257.044 1505.7 L257.044 1502.24 L263.758 1500.88 L267.557 1500.88 L267.557 1525.76 L273.764 1525.76 L273.764 1528.96 L257.589 1528.96 L257.589 1525.76 Z\" fill=\"#000000\" fill-rule=\"evenodd\" fill-opacity=\"1\" /><path clip-path=\"url(#clip620)\" d=\"M 0 0 M892.788 1552.44 L900.426 1552.44 L900.426 1526.07 L892.116 1527.74 L892.116 1523.48 L900.38 1521.81 L905.056 1521.81 L905.056 1552.44 L912.695 1552.44 L912.695 1556.37 L892.788 1556.37 L892.788 1552.44 Z\" fill=\"#000000\" fill-rule=\"evenodd\" fill-opacity=\"1\" /><path clip-path=\"url(#clip620)\" d=\"M 0 0 M927.764 1524.89 Q924.153 1524.89 922.324 1528.46 Q920.519 1532 920.519 1539.13 Q920.519 1546.23 922.324 1549.8 Q924.153 1553.34 927.764 1553.34 Q931.398 1553.34 933.204 1549.8 Q935.033 1546.23 935.033 1539.13 Q935.033 1532 933.204 1528.46 Q931.398 1524.89 927.764 1524.89 M927.764 1521.19 Q933.574 1521.19 936.63 1525.79 Q939.709 1530.38 939.709 1539.13 Q939.709 1547.85 936.63 1552.46 Q933.574 1557.04 927.764 1557.04 Q921.954 1557.04 918.875 1552.46 Q915.82 1547.85 915.82 1539.13 Q915.82 1530.38 918.875 1525.79 Q921.954 1521.19 927.764 1521.19 Z\" fill=\"#000000\" fill-rule=\"evenodd\" fill-opacity=\"1\" /><path clip-path=\"url(#clip620)\" d=\"M 0 0 M944.279 1525.76 L957.538 1525.76 L957.538 1528.96 L939.709 1528.96 L939.709 1525.76 Q941.871 1523.53 945.595 1519.76 Q949.338 1515.98 950.297 1514.89 Q952.122 1512.84 952.836 1511.43 Q953.57 1510 953.57 1508.63 Q953.57 1506.39 951.99 1504.98 Q950.429 1503.57 947.909 1503.57 Q946.122 1503.57 944.128 1504.19 Q942.154 1504.81 939.897 1506.07 L939.897 1502.24 Q942.191 1501.31 944.185 1500.84 Q946.178 1500.37 947.834 1500.37 Q952.197 1500.37 954.792 1502.56 Q957.388 1504.74 957.388 1508.39 Q957.388 1510.12 956.73 1511.68 Q956.09 1513.22 954.379 1515.33 Q953.908 1515.87 951.388 1518.49 Q948.868 1521.08 944.279 1525.76 Z\" fill=\"#000000\" fill-rule=\"evenodd\" fill-opacity=\"1\" /><path clip-path=\"url(#clip620)\" d=\"M 0 0 M1575.68 1552.44 L1583.32 1552.44 L1583.32 1526.07 L1575.01 1527.74 L1575.01 1523.48 L1583.27 1521.81 L1587.95 1521.81 L1587.95 1552.44 L1595.59 1552.44 L1595.59 1556.37 L1575.68 1556.37 L1575.68 1552.44 Z\" fill=\"#000000\" fill-rule=\"evenodd\" fill-opacity=\"1\" /><path clip-path=\"url(#clip620)\" d=\"M 0 0 M1610.65 1524.89 Q1607.04 1524.89 1605.21 1528.46 Q1603.41 1532 1603.41 1539.13 Q1603.41 1546.23 1605.21 1549.8 Q1607.04 1553.34 1610.65 1553.34 Q1614.29 1553.34 1616.09 1549.8 Q1617.92 1546.23 1617.92 1539.13 Q1617.92 1532 1616.09 1528.46 Q1614.29 1524.89 1610.65 1524.89 M1610.65 1521.19 Q1616.46 1521.19 1619.52 1525.79 Q1622.6 1530.38 1622.6 1539.13 Q1622.6 1547.85 1619.52 1552.46 Q1616.46 1557.04 1610.65 1557.04 Q1604.84 1557.04 1601.77 1552.46 Q1598.71 1547.85 1598.71 1539.13 Q1598.71 1530.38 1601.77 1525.79 Q1604.84 1521.19 1610.65 1521.19 Z\" fill=\"#000000\" fill-rule=\"evenodd\" fill-opacity=\"1\" /><path clip-path=\"url(#clip620)\" d=\"M 0 0 M1635.29 1513.82 Q1638.02 1514.4 1639.54 1516.25 Q1641.09 1518.09 1641.09 1520.8 Q1641.09 1524.96 1638.23 1527.23 Q1635.37 1529.51 1630.1 1529.51 Q1628.34 1529.51 1626.45 1529.15 Q1624.59 1528.81 1622.6 1528.12 L1622.6 1524.45 Q1624.18 1525.37 1626.06 1525.84 Q1627.94 1526.31 1629.99 1526.31 Q1633.56 1526.31 1635.43 1524.9 Q1637.31 1523.49 1637.31 1520.8 Q1637.31 1518.32 1635.56 1516.92 Q1633.83 1515.51 1630.72 1515.51 L1627.45 1515.51 L1627.45 1512.39 L1630.87 1512.39 Q1633.68 1512.39 1635.16 1511.28 Q1636.65 1510.15 1636.65 1508.05 Q1636.65 1505.88 1635.11 1504.74 Q1633.58 1503.57 1630.72 1503.57 Q1629.16 1503.57 1627.38 1503.91 Q1625.59 1504.25 1623.45 1504.96 L1623.45 1501.58 Q1625.61 1500.98 1627.49 1500.67 Q1629.39 1500.37 1631.06 1500.37 Q1635.39 1500.37 1637.91 1502.35 Q1640.43 1504.3 1640.43 1507.65 Q1640.43 1509.98 1639.09 1511.6 Q1637.76 1513.2 1635.29 1513.82 Z\" fill=\"#000000\" fill-rule=\"evenodd\" fill-opacity=\"1\" /><path clip-path=\"url(#clip620)\" d=\"M 0 0 M2257.91 1552.44 L2265.55 1552.44 L2265.55 1526.07 L2257.24 1527.74 L2257.24 1523.48 L2265.5 1521.81 L2270.18 1521.81 L2270.18 1552.44 L2277.82 1552.44 L2277.82 1556.37 L2257.91 1556.37 L2257.91 1552.44 Z\" fill=\"#000000\" fill-rule=\"evenodd\" fill-opacity=\"1\" /><path clip-path=\"url(#clip620)\" d=\"M 0 0 M2292.89 1524.89 Q2289.28 1524.89 2287.45 1528.46 Q2285.64 1532 2285.64 1539.13 Q2285.64 1546.23 2287.45 1549.8 Q2289.28 1553.34 2292.89 1553.34 Q2296.52 1553.34 2298.33 1549.8 Q2300.15 1546.23 2300.15 1539.13 Q2300.15 1532 2298.33 1528.46 Q2296.52 1524.89 2292.89 1524.89 M2292.89 1521.19 Q2298.7 1521.19 2301.75 1525.79 Q2304.83 1530.38 2304.83 1539.13 Q2304.83 1547.85 2301.75 1552.46 Q2298.7 1557.04 2292.89 1557.04 Q2287.08 1557.04 2284 1552.46 Q2280.94 1547.85 2280.94 1539.13 Q2280.94 1530.38 2284 1525.79 Q2287.08 1521.19 2292.89 1521.19 Z\" fill=\"#000000\" fill-rule=\"evenodd\" fill-opacity=\"1\" /><path clip-path=\"url(#clip620)\" d=\"M 0 0 M2317.51 1504.19 L2307.92 1519.18 L2317.51 1519.18 L2317.51 1504.19 M2316.51 1500.88 L2321.29 1500.88 L2321.29 1519.18 L2325.29 1519.18 L2325.29 1522.34 L2321.29 1522.34 L2321.29 1528.96 L2317.51 1528.96 L2317.51 1522.34 L2304.83 1522.34 L2304.83 1518.67 L2316.51 1500.88 Z\" fill=\"#000000\" fill-rule=\"evenodd\" fill-opacity=\"1\" /><polyline clip-path=\"url(#clip622)\" style=\"stroke:#000000; stroke-width:2; stroke-opacity:0.1; fill:none\" points=\"\n",
       "  180.118,1469.42 2352.76,1469.42 \n",
       "  \"/>\n",
       "<polyline clip-path=\"url(#clip622)\" style=\"stroke:#000000; stroke-width:2; stroke-opacity:0.1; fill:none\" points=\"\n",
       "  180.118,1046.68 2352.76,1046.68 \n",
       "  \"/>\n",
       "<polyline clip-path=\"url(#clip622)\" style=\"stroke:#000000; stroke-width:2; stroke-opacity:0.1; fill:none\" points=\"\n",
       "  180.118,623.934 2352.76,623.934 \n",
       "  \"/>\n",
       "<polyline clip-path=\"url(#clip622)\" style=\"stroke:#000000; stroke-width:2; stroke-opacity:0.1; fill:none\" points=\"\n",
       "  180.118,201.192 2352.76,201.192 \n",
       "  \"/>\n",
       "<polyline clip-path=\"url(#clip620)\" style=\"stroke:#000000; stroke-width:4; stroke-opacity:1; fill:none\" points=\"\n",
       "  180.118,1474.16 180.118,123.472 \n",
       "  \"/>\n",
       "<polyline clip-path=\"url(#clip620)\" style=\"stroke:#000000; stroke-width:4; stroke-opacity:1; fill:none\" points=\"\n",
       "  180.118,1469.42 206.19,1469.42 \n",
       "  \"/>\n",
       "<polyline clip-path=\"url(#clip620)\" style=\"stroke:#000000; stroke-width:4; stroke-opacity:1; fill:none\" points=\"\n",
       "  180.118,1046.68 206.19,1046.68 \n",
       "  \"/>\n",
       "<polyline clip-path=\"url(#clip620)\" style=\"stroke:#000000; stroke-width:4; stroke-opacity:1; fill:none\" points=\"\n",
       "  180.118,623.934 206.19,623.934 \n",
       "  \"/>\n",
       "<polyline clip-path=\"url(#clip620)\" style=\"stroke:#000000; stroke-width:4; stroke-opacity:1; fill:none\" points=\"\n",
       "  180.118,201.192 206.19,201.192 \n",
       "  \"/>\n",
       "<path clip-path=\"url(#clip620)\" d=\"M 0 0 M51.6634 1489.21 L59.3023 1489.21 L59.3023 1462.84 L50.9921 1464.51 L50.9921 1460.25 L59.256 1458.58 L63.9319 1458.58 L63.9319 1489.21 L71.5707 1489.21 L71.5707 1493.14 L51.6634 1493.14 L51.6634 1489.21 Z\" fill=\"#000000\" fill-rule=\"evenodd\" fill-opacity=\"1\" /><path clip-path=\"url(#clip620)\" d=\"M 0 0 M86.6401 1461.66 Q83.029 1461.66 81.2003 1465.23 Q79.3948 1468.77 79.3948 1475.9 Q79.3948 1483.01 81.2003 1486.57 Q83.029 1490.11 86.6401 1490.11 Q90.2743 1490.11 92.0799 1486.57 Q93.9086 1483.01 93.9086 1475.9 Q93.9086 1468.77 92.0799 1465.23 Q90.2743 1461.66 86.6401 1461.66 M86.6401 1457.96 Q92.4502 1457.96 95.5058 1462.57 Q98.5845 1467.15 98.5845 1475.9 Q98.5845 1484.63 95.5058 1489.23 Q92.4502 1493.82 86.6401 1493.82 Q80.8299 1493.82 77.7512 1489.23 Q74.6957 1484.63 74.6957 1475.9 Q74.6957 1467.15 77.7512 1462.57 Q80.8299 1457.96 86.6401 1457.96 Z\" fill=\"#000000\" fill-rule=\"evenodd\" fill-opacity=\"1\" /><path clip-path=\"url(#clip620)\" d=\"M 0 0 M98.5845 1452.06 L122.696 1452.06 L122.696 1455.26 L98.5845 1455.26 L98.5845 1452.06 Z\" fill=\"#000000\" fill-rule=\"evenodd\" fill-opacity=\"1\" /><path clip-path=\"url(#clip620)\" d=\"M 0 0 M138.325 1450.59 Q141.052 1451.18 142.576 1453.02 Q144.118 1454.86 144.118 1457.57 Q144.118 1461.73 141.259 1464 Q138.401 1466.28 133.134 1466.28 Q131.366 1466.28 129.486 1465.92 Q127.624 1465.58 125.63 1464.89 L125.63 1461.22 Q127.21 1462.14 129.091 1462.61 Q130.971 1463.08 133.021 1463.08 Q136.595 1463.08 138.457 1461.67 Q140.338 1460.26 140.338 1457.57 Q140.338 1455.09 138.589 1453.7 Q136.858 1452.29 133.755 1452.29 L130.482 1452.29 L130.482 1449.16 L133.905 1449.16 Q136.708 1449.16 138.194 1448.05 Q139.679 1446.93 139.679 1444.82 Q139.679 1442.66 138.137 1441.51 Q136.614 1440.34 133.755 1440.34 Q132.194 1440.34 130.407 1440.68 Q128.62 1441.02 126.476 1441.74 L126.476 1438.35 Q128.639 1437.75 130.52 1437.45 Q132.42 1437.15 134.094 1437.15 Q138.419 1437.15 140.94 1439.12 Q143.46 1441.08 143.46 1444.42 Q143.46 1446.76 142.124 1448.37 Q140.789 1449.97 138.325 1450.59 Z\" fill=\"#000000\" fill-rule=\"evenodd\" fill-opacity=\"1\" /><path clip-path=\"url(#clip620)\" d=\"M 0 0 M52.4345 1066.47 L60.0734 1066.47 L60.0734 1040.1 L51.7632 1041.77 L51.7632 1037.51 L60.0271 1035.84 L64.703 1035.84 L64.703 1066.47 L72.3418 1066.47 L72.3418 1070.4 L52.4345 1070.4 L52.4345 1066.47 Z\" fill=\"#000000\" fill-rule=\"evenodd\" fill-opacity=\"1\" /><path clip-path=\"url(#clip620)\" d=\"M 0 0 M87.4112 1038.92 Q83.8001 1038.92 81.9714 1042.49 Q80.1659 1046.03 80.1659 1053.16 Q80.1659 1060.26 81.9714 1063.83 Q83.8001 1067.37 87.4112 1067.37 Q91.0454 1067.37 92.851 1063.83 Q94.6797 1060.26 94.6797 1053.16 Q94.6797 1046.03 92.851 1042.49 Q91.0454 1038.92 87.4112 1038.92 M87.4112 1035.22 Q93.2214 1035.22 96.2769 1039.82 Q99.3556 1044.41 99.3556 1053.16 Q99.3556 1061.88 96.2769 1066.49 Q93.2214 1071.07 87.4112 1071.07 Q81.601 1071.07 78.5224 1066.49 Q75.4668 1061.88 75.4668 1053.16 Q75.4668 1044.41 78.5224 1039.82 Q81.601 1035.22 87.4112 1035.22 Z\" fill=\"#000000\" fill-rule=\"evenodd\" fill-opacity=\"1\" /><path clip-path=\"url(#clip620)\" d=\"M 0 0 M99.3556 1029.32 L123.467 1029.32 L123.467 1032.52 L99.3556 1032.52 L99.3556 1029.32 Z\" fill=\"#000000\" fill-rule=\"evenodd\" fill-opacity=\"1\" /><path clip-path=\"url(#clip620)\" d=\"M 0 0 M130.859 1039.8 L144.118 1039.8 L144.118 1042.99 L126.288 1042.99 L126.288 1039.8 Q128.451 1037.56 132.175 1033.8 Q135.918 1030.02 136.877 1028.92 Q138.701 1026.87 139.416 1025.46 Q140.15 1024.03 140.15 1022.66 Q140.15 1020.42 138.57 1019.01 Q137.009 1017.6 134.488 1017.6 Q132.702 1017.6 130.708 1018.22 Q128.733 1018.84 126.476 1020.1 L126.476 1016.27 Q128.771 1015.35 130.765 1014.87 Q132.758 1014.4 134.413 1014.4 Q138.777 1014.4 141.372 1016.59 Q143.968 1018.77 143.968 1022.42 Q143.968 1024.15 143.309 1025.71 Q142.67 1027.25 140.958 1029.36 Q140.488 1029.9 137.968 1032.52 Q135.448 1035.11 130.859 1039.8 Z\" fill=\"#000000\" fill-rule=\"evenodd\" fill-opacity=\"1\" /><path clip-path=\"url(#clip620)\" d=\"M 0 0 M52.1336 643.726 L59.7725 643.726 L59.7725 617.361 L51.4623 619.027 L51.4623 614.768 L59.7262 613.102 L64.4021 613.102 L64.4021 643.726 L72.0409 643.726 L72.0409 647.662 L52.1336 647.662 L52.1336 643.726 Z\" fill=\"#000000\" fill-rule=\"evenodd\" fill-opacity=\"1\" /><path clip-path=\"url(#clip620)\" d=\"M 0 0 M87.1103 616.18 Q83.4992 616.18 81.6705 619.745 Q79.8649 623.287 79.8649 630.416 Q79.8649 637.523 81.6705 641.088 Q83.4992 644.629 87.1103 644.629 Q90.7445 644.629 92.5501 641.088 Q94.3788 637.523 94.3788 630.416 Q94.3788 623.287 92.5501 619.745 Q90.7445 616.18 87.1103 616.18 M87.1103 612.477 Q92.9204 612.477 95.976 617.083 Q99.0547 621.666 99.0547 630.416 Q99.0547 639.143 95.976 643.75 Q92.9204 648.333 87.1103 648.333 Q81.3001 648.333 78.2214 643.75 Q75.1659 639.143 75.1659 630.416 Q75.1659 621.666 78.2214 617.083 Q81.3001 612.477 87.1103 612.477 Z\" fill=\"#000000\" fill-rule=\"evenodd\" fill-opacity=\"1\" /><path clip-path=\"url(#clip620)\" d=\"M 0 0 M99.0547 606.578 L123.166 606.578 L123.166 609.775 L99.0547 609.775 L99.0547 606.578 Z\" fill=\"#000000\" fill-rule=\"evenodd\" fill-opacity=\"1\" /><path clip-path=\"url(#clip620)\" d=\"M 0 0 M127.943 617.054 L134.15 617.054 L134.15 595.632 L127.398 596.986 L127.398 593.525 L134.112 592.171 L137.912 592.171 L137.912 617.054 L144.118 617.054 L144.118 620.251 L127.943 620.251 L127.943 617.054 Z\" fill=\"#000000\" fill-rule=\"evenodd\" fill-opacity=\"1\" /><path clip-path=\"url(#clip620)\" d=\"M 0 0 M77.7874 220.985 L85.4263 220.985 L85.4263 194.619 L77.1161 196.286 L77.1161 192.027 L85.38 190.36 L90.0559 190.36 L90.0559 220.985 L97.6947 220.985 L97.6947 224.92 L77.7874 224.92 L77.7874 220.985 Z\" fill=\"#000000\" fill-rule=\"evenodd\" fill-opacity=\"1\" /><path clip-path=\"url(#clip620)\" d=\"M 0 0 M112.764 193.439 Q109.153 193.439 107.324 197.004 Q105.519 200.545 105.519 207.675 Q105.519 214.781 107.324 218.346 Q109.153 221.888 112.764 221.888 Q116.398 221.888 118.204 218.346 Q120.033 214.781 120.033 207.675 Q120.033 200.545 118.204 197.004 Q116.398 193.439 112.764 193.439 M112.764 189.735 Q118.574 189.735 121.63 194.342 Q124.708 198.925 124.708 207.675 Q124.708 216.402 121.63 221.008 Q118.574 225.591 112.764 225.591 Q106.954 225.591 103.875 221.008 Q100.82 216.402 100.82 207.675 Q100.82 198.925 103.875 194.342 Q106.954 189.735 112.764 189.735 Z\" fill=\"#000000\" fill-rule=\"evenodd\" fill-opacity=\"1\" /><path clip-path=\"url(#clip620)\" d=\"M 0 0 M134.413 171.931 Q131.479 171.931 129.993 174.828 Q128.526 177.705 128.526 183.498 Q128.526 189.272 129.993 192.168 Q131.479 195.046 134.413 195.046 Q137.366 195.046 138.833 192.168 Q140.319 189.272 140.319 183.498 Q140.319 177.705 138.833 174.828 Q137.366 171.931 134.413 171.931 M134.413 168.922 Q139.134 168.922 141.617 172.665 Q144.118 176.389 144.118 183.498 Q144.118 190.588 141.617 194.331 Q139.134 198.055 134.413 198.055 Q129.693 198.055 127.191 194.331 Q124.708 190.588 124.708 183.498 Q124.708 176.389 127.191 172.665 Q129.693 168.922 134.413 168.922 Z\" fill=\"#000000\" fill-rule=\"evenodd\" fill-opacity=\"1\" /><path clip-path=\"url(#clip620)\" d=\"M 0 0 M1004.18 12.096 L1042.42 12.096 L1042.42 18.9825 L1012.36 18.9825 L1012.36 36.8875 L1041.17 36.8875 L1041.17 43.7741 L1012.36 43.7741 L1012.36 65.6895 L1043.15 65.6895 L1043.15 72.576 L1004.18 72.576 L1004.18 12.096 Z\" fill=\"#000000\" fill-rule=\"evenodd\" fill-opacity=\"1\" /><path clip-path=\"url(#clip620)\" d=\"M 0 0 M1077.26 34.1734 Q1076 33.4443 1074.51 33.1202 Q1073.05 32.7556 1071.26 32.7556 Q1064.95 32.7556 1061.54 36.8875 Q1058.18 40.9789 1058.18 48.6757 L1058.18 72.576 L1050.69 72.576 L1050.69 27.2059 L1058.18 27.2059 L1058.18 34.2544 Q1060.53 30.1225 1064.3 28.1376 Q1068.06 26.1121 1073.45 26.1121 Q1074.22 26.1121 1075.15 26.2337 Q1076.09 26.3147 1077.22 26.5172 L1077.26 34.1734 Z\" fill=\"#000000\" fill-rule=\"evenodd\" fill-opacity=\"1\" /><path clip-path=\"url(#clip620)\" d=\"M 0 0 M1109.91 34.1734 Q1108.65 33.4443 1107.16 33.1202 Q1105.7 32.7556 1103.91 32.7556 Q1097.6 32.7556 1094.19 36.8875 Q1090.83 40.9789 1090.83 48.6757 L1090.83 72.576 L1083.34 72.576 L1083.34 27.2059 L1090.83 27.2059 L1090.83 34.2544 Q1093.18 30.1225 1096.95 28.1376 Q1100.71 26.1121 1106.1 26.1121 Q1106.87 26.1121 1107.8 26.2337 Q1108.74 26.3147 1109.87 26.5172 L1109.91 34.1734 Z\" fill=\"#000000\" fill-rule=\"evenodd\" fill-opacity=\"1\" /><path clip-path=\"url(#clip620)\" d=\"M 0 0 M1133.49 32.4315 Q1127.49 32.4315 1124.01 37.1306 Q1120.52 41.7891 1120.52 49.9314 Q1120.52 58.0738 1123.97 62.7728 Q1127.45 67.4314 1133.49 67.4314 Q1139.44 67.4314 1142.92 62.7323 Q1146.41 58.0333 1146.41 49.9314 Q1146.41 41.8701 1142.92 37.1711 Q1139.44 32.4315 1133.49 32.4315 M1133.49 26.1121 Q1143.21 26.1121 1148.76 32.4315 Q1154.31 38.7509 1154.31 49.9314 Q1154.31 61.0714 1148.76 67.4314 Q1143.21 73.7508 1133.49 73.7508 Q1123.72 73.7508 1118.17 67.4314 Q1112.66 61.0714 1112.66 49.9314 Q1112.66 38.7509 1118.17 32.4315 Q1123.72 26.1121 1133.49 26.1121 Z\" fill=\"#000000\" fill-rule=\"evenodd\" fill-opacity=\"1\" /><path clip-path=\"url(#clip620)\" d=\"M 0 0 M1188.42 34.1734 Q1187.16 33.4443 1185.66 33.1202 Q1184.2 32.7556 1182.42 32.7556 Q1176.1 32.7556 1172.7 36.8875 Q1169.34 40.9789 1169.34 48.6757 L1169.34 72.576 L1161.84 72.576 L1161.84 27.2059 L1169.34 27.2059 L1169.34 34.2544 Q1171.69 30.1225 1175.45 28.1376 Q1179.22 26.1121 1184.61 26.1121 Q1185.38 26.1121 1186.31 26.2337 Q1187.24 26.3147 1188.38 26.5172 L1188.42 34.1734 Z\" fill=\"#000000\" fill-rule=\"evenodd\" fill-opacity=\"1\" /><path clip-path=\"url(#clip620)\" d=\"M 0 0 M1243.23 49.7694 Q1234.19 49.7694 1230.71 51.8354 Q1227.22 53.9013 1227.22 58.8839 Q1227.22 62.8538 1229.82 65.2034 Q1232.45 67.5124 1236.95 67.5124 Q1243.14 67.5124 1246.87 63.1374 Q1250.64 58.7219 1250.64 51.4303 L1250.64 49.7694 L1243.23 49.7694 M1258.09 46.6907 L1258.09 72.576 L1250.64 72.576 L1250.64 65.6895 Q1248.09 69.8214 1244.28 71.8063 Q1240.47 73.7508 1234.96 73.7508 Q1227.99 73.7508 1223.86 69.8619 Q1219.77 65.9325 1219.77 59.3701 Q1219.77 51.7138 1224.87 47.825 Q1230.02 43.9361 1240.19 43.9361 L1250.64 43.9361 L1250.64 43.2069 Q1250.64 38.0623 1247.24 35.2672 Q1243.87 32.4315 1237.76 32.4315 Q1233.87 32.4315 1230.18 33.3632 Q1226.5 34.295 1223.09 36.1584 L1223.09 29.2718 Q1227.18 27.692 1231.03 26.9223 Q1234.88 26.1121 1238.53 26.1121 Q1248.37 26.1121 1253.23 31.2163 Q1258.09 36.3204 1258.09 46.6907 Z\" fill=\"#000000\" fill-rule=\"evenodd\" fill-opacity=\"1\" /><path clip-path=\"url(#clip620)\" d=\"M 0 0 M1298.48 49.9314 Q1298.48 41.7081 1295.08 37.0496 Q1291.71 32.3505 1285.8 32.3505 Q1279.89 32.3505 1276.48 37.0496 Q1273.12 41.7081 1273.12 49.9314 Q1273.12 58.1548 1276.48 62.8538 Q1279.89 67.5124 1285.8 67.5124 Q1291.71 67.5124 1295.08 62.8538 Q1298.48 58.1548 1298.48 49.9314 M1273.12 34.0924 Q1275.47 30.0415 1279.04 28.0971 Q1282.64 26.1121 1287.62 26.1121 Q1295.89 26.1121 1301.03 32.6746 Q1306.22 39.2371 1306.22 49.9314 Q1306.22 60.6258 1301.03 67.1883 Q1295.89 73.7508 1287.62 73.7508 Q1282.64 73.7508 1279.04 71.8063 Q1275.47 69.8214 1273.12 65.7705 L1273.12 72.576 L1265.63 72.576 L1265.63 9.54393 L1273.12 9.54393 L1273.12 34.0924 Z\" fill=\"#000000\" fill-rule=\"evenodd\" fill-opacity=\"1\" /><path clip-path=\"url(#clip620)\" d=\"M 0 0 M1342.96 28.5427 L1342.96 35.5912 Q1339.8 33.9709 1336.4 33.1607 Q1332.99 32.3505 1329.35 32.3505 Q1323.8 32.3505 1321 34.0519 Q1318.25 35.7533 1318.25 39.156 Q1318.25 41.7486 1320.23 43.2475 Q1322.22 44.7058 1328.21 46.0426 L1330.77 46.6097 Q1338.71 48.3111 1342.03 51.4303 Q1345.39 54.509 1345.39 60.0587 Q1345.39 66.3781 1340.37 70.0644 Q1335.38 73.7508 1326.63 73.7508 Q1322.99 73.7508 1319.02 73.0216 Q1315.09 72.3329 1310.71 70.9151 L1310.71 63.2184 Q1314.85 65.3654 1318.86 66.4591 Q1322.87 67.5124 1326.8 67.5124 Q1332.06 67.5124 1334.9 65.73 Q1337.73 63.9071 1337.73 60.6258 Q1337.73 57.5877 1335.67 55.9673 Q1333.64 54.3469 1326.71 52.8481 L1324.12 52.2405 Q1317.19 50.7821 1314.12 47.7845 Q1311.04 44.7463 1311.04 39.4801 Q1311.04 33.0797 1315.57 29.5959 Q1320.11 26.1121 1328.46 26.1121 Q1332.59 26.1121 1336.23 26.7198 Q1339.88 27.3274 1342.96 28.5427 Z\" fill=\"#000000\" fill-rule=\"evenodd\" fill-opacity=\"1\" /><path clip-path=\"url(#clip620)\" d=\"M 0 0 M1370.79 32.4315 Q1364.79 32.4315 1361.31 37.1306 Q1357.83 41.7891 1357.83 49.9314 Q1357.83 58.0738 1361.27 62.7728 Q1364.75 67.4314 1370.79 67.4314 Q1376.74 67.4314 1380.23 62.7323 Q1383.71 58.0333 1383.71 49.9314 Q1383.71 41.8701 1380.23 37.1711 Q1376.74 32.4315 1370.79 32.4315 M1370.79 26.1121 Q1380.51 26.1121 1386.06 32.4315 Q1391.61 38.7509 1391.61 49.9314 Q1391.61 61.0714 1386.06 67.4314 Q1380.51 73.7508 1370.79 73.7508 Q1361.03 73.7508 1355.48 67.4314 Q1349.97 61.0714 1349.97 49.9314 Q1349.97 38.7509 1355.48 32.4315 Q1361.03 26.1121 1370.79 26.1121 Z\" fill=\"#000000\" fill-rule=\"evenodd\" fill-opacity=\"1\" /><path clip-path=\"url(#clip620)\" d=\"M 0 0 M1399.43 9.54393 L1406.88 9.54393 L1406.88 72.576 L1399.43 72.576 L1399.43 9.54393 Z\" fill=\"#000000\" fill-rule=\"evenodd\" fill-opacity=\"1\" /><path clip-path=\"url(#clip620)\" d=\"M 0 0 M1413.93 54.671 L1413.93 27.2059 L1421.38 27.2059 L1421.38 54.3874 Q1421.38 60.8284 1423.9 64.0691 Q1426.41 67.2693 1431.43 67.2693 Q1437.47 67.2693 1440.95 63.421 Q1444.47 59.5726 1444.47 52.9291 L1444.47 27.2059 L1451.93 27.2059 L1451.93 72.576 L1444.47 72.576 L1444.47 65.6084 Q1441.76 69.7404 1438.15 71.7658 Q1434.59 73.7508 1429.85 73.7508 Q1422.03 73.7508 1417.98 68.8897 Q1413.93 64.0286 1413.93 54.671 M1432.69 26.1121 L1432.69 26.1121 Z\" fill=\"#000000\" fill-rule=\"evenodd\" fill-opacity=\"1\" /><path clip-path=\"url(#clip620)\" d=\"M 0 0 M1467.12 14.324 L1467.12 27.2059 L1482.47 27.2059 L1482.47 32.9987 L1467.12 32.9987 L1467.12 57.6282 Q1467.12 63.1779 1468.62 64.7578 Q1470.16 66.3376 1474.82 66.3376 L1482.47 66.3376 L1482.47 72.576 L1474.82 72.576 Q1466.19 72.576 1462.91 69.3758 Q1459.62 66.1351 1459.62 57.6282 L1459.62 32.9987 L1454.16 32.9987 L1454.16 27.2059 L1459.62 27.2059 L1459.62 14.324 L1467.12 14.324 Z\" fill=\"#000000\" fill-rule=\"evenodd\" fill-opacity=\"1\" /><path clip-path=\"url(#clip620)\" d=\"M 0 0 M1507.87 32.4315 Q1501.88 32.4315 1498.39 37.1306 Q1494.91 41.7891 1494.91 49.9314 Q1494.91 58.0738 1498.35 62.7728 Q1501.84 67.4314 1507.87 67.4314 Q1513.83 67.4314 1517.31 62.7323 Q1520.79 58.0333 1520.79 49.9314 Q1520.79 41.8701 1517.31 37.1711 Q1513.83 32.4315 1507.87 32.4315 M1507.87 26.1121 Q1517.59 26.1121 1523.14 32.4315 Q1528.69 38.7509 1528.69 49.9314 Q1528.69 61.0714 1523.14 67.4314 Q1517.59 73.7508 1507.87 73.7508 Q1498.11 73.7508 1492.56 67.4314 Q1487.05 61.0714 1487.05 49.9314 Q1487.05 38.7509 1492.56 32.4315 Q1498.11 26.1121 1507.87 26.1121 Z\" fill=\"#000000\" fill-rule=\"evenodd\" fill-opacity=\"1\" /><circle clip-path=\"url(#clip622)\" cx=\"241.608\" cy=\"161.699\" r=\"14\" fill=\"#009af9\" fill-rule=\"evenodd\" fill-opacity=\"1\" stroke=\"#000000\" stroke-opacity=\"1\" stroke-width=\"3.2\"/>\n",
       "<circle clip-path=\"url(#clip622)\" cx=\"319.456\" cy=\"211.24\" r=\"14\" fill=\"#009af9\" fill-rule=\"evenodd\" fill-opacity=\"1\" stroke=\"#000000\" stroke-opacity=\"1\" stroke-width=\"3.2\"/>\n",
       "<circle clip-path=\"url(#clip622)\" cx=\"399.055\" cy=\"261.575\" r=\"14\" fill=\"#009af9\" fill-rule=\"evenodd\" fill-opacity=\"1\" stroke=\"#000000\" stroke-opacity=\"1\" stroke-width=\"3.2\"/>\n",
       "<circle clip-path=\"url(#clip622)\" cx=\"461.754\" cy=\"301.043\" r=\"14\" fill=\"#009af9\" fill-rule=\"evenodd\" fill-opacity=\"1\" stroke=\"#000000\" stroke-opacity=\"1\" stroke-width=\"3.2\"/>\n",
       "<circle clip-path=\"url(#clip622)\" cx=\"525.126\" cy=\"340.807\" r=\"14\" fill=\"#009af9\" fill-rule=\"evenodd\" fill-opacity=\"1\" stroke=\"#000000\" stroke-opacity=\"1\" stroke-width=\"3.2\"/>\n",
       "<circle clip-path=\"url(#clip622)\" cx=\"595.867\" cy=\"385.071\" r=\"14\" fill=\"#009af9\" fill-rule=\"evenodd\" fill-opacity=\"1\" stroke=\"#000000\" stroke-opacity=\"1\" stroke-width=\"3.2\"/>\n",
       "<circle clip-path=\"url(#clip622)\" cx=\"667.424\" cy=\"429.741\" r=\"14\" fill=\"#009af9\" fill-rule=\"evenodd\" fill-opacity=\"1\" stroke=\"#000000\" stroke-opacity=\"1\" stroke-width=\"3.2\"/>\n",
       "<circle clip-path=\"url(#clip622)\" cx=\"736.447\" cy=\"472.75\" r=\"14\" fill=\"#009af9\" fill-rule=\"evenodd\" fill-opacity=\"1\" stroke=\"#000000\" stroke-opacity=\"1\" stroke-width=\"3.2\"/>\n",
       "<circle clip-path=\"url(#clip622)\" cx=\"810.394\" cy=\"518.758\" r=\"14\" fill=\"#009af9\" fill-rule=\"evenodd\" fill-opacity=\"1\" stroke=\"#000000\" stroke-opacity=\"1\" stroke-width=\"3.2\"/>\n",
       "<circle clip-path=\"url(#clip622)\" cx=\"880.075\" cy=\"562.06\" r=\"14\" fill=\"#009af9\" fill-rule=\"evenodd\" fill-opacity=\"1\" stroke=\"#000000\" stroke-opacity=\"1\" stroke-width=\"3.2\"/>\n",
       "<circle clip-path=\"url(#clip622)\" cx=\"950.398\" cy=\"605.722\" r=\"14\" fill=\"#009af9\" fill-rule=\"evenodd\" fill-opacity=\"1\" stroke=\"#000000\" stroke-opacity=\"1\" stroke-width=\"3.2\"/>\n",
       "<circle clip-path=\"url(#clip622)\" cx=\"1020.4\" cy=\"649.151\" r=\"14\" fill=\"#009af9\" fill-rule=\"evenodd\" fill-opacity=\"1\" stroke=\"#000000\" stroke-opacity=\"1\" stroke-width=\"3.2\"/>\n",
       "<circle clip-path=\"url(#clip622)\" cx=\"1090.88\" cy=\"692.854\" r=\"14\" fill=\"#009af9\" fill-rule=\"evenodd\" fill-opacity=\"1\" stroke=\"#000000\" stroke-opacity=\"1\" stroke-width=\"3.2\"/>\n",
       "<circle clip-path=\"url(#clip622)\" cx=\"1161.46\" cy=\"736.603\" r=\"14\" fill=\"#009af9\" fill-rule=\"evenodd\" fill-opacity=\"1\" stroke=\"#000000\" stroke-opacity=\"1\" stroke-width=\"3.2\"/>\n",
       "<circle clip-path=\"url(#clip622)\" cx=\"1231.39\" cy=\"779.93\" r=\"14\" fill=\"#009af9\" fill-rule=\"evenodd\" fill-opacity=\"1\" stroke=\"#000000\" stroke-opacity=\"1\" stroke-width=\"3.2\"/>\n",
       "<circle clip-path=\"url(#clip622)\" cx=\"1302.42\" cy=\"823.925\" r=\"14\" fill=\"#009af9\" fill-rule=\"evenodd\" fill-opacity=\"1\" stroke=\"#000000\" stroke-opacity=\"1\" stroke-width=\"3.2\"/>\n",
       "<circle clip-path=\"url(#clip622)\" cx=\"1373.09\" cy=\"867.686\" r=\"14\" fill=\"#009af9\" fill-rule=\"evenodd\" fill-opacity=\"1\" stroke=\"#000000\" stroke-opacity=\"1\" stroke-width=\"3.2\"/>\n",
       "<circle clip-path=\"url(#clip622)\" cx=\"1443.33\" cy=\"911.178\" r=\"14\" fill=\"#009af9\" fill-rule=\"evenodd\" fill-opacity=\"1\" stroke=\"#000000\" stroke-opacity=\"1\" stroke-width=\"3.2\"/>\n",
       "<circle clip-path=\"url(#clip622)\" cx=\"1513.85\" cy=\"954.835\" r=\"14\" fill=\"#009af9\" fill-rule=\"evenodd\" fill-opacity=\"1\" stroke=\"#000000\" stroke-opacity=\"1\" stroke-width=\"3.2\"/>\n",
       "<circle clip-path=\"url(#clip622)\" cx=\"1584.59\" cy=\"998.624\" r=\"14\" fill=\"#009af9\" fill-rule=\"evenodd\" fill-opacity=\"1\" stroke=\"#000000\" stroke-opacity=\"1\" stroke-width=\"3.2\"/>\n",
       "<circle clip-path=\"url(#clip622)\" cx=\"1655.39\" cy=\"1042.45\" r=\"14\" fill=\"#009af9\" fill-rule=\"evenodd\" fill-opacity=\"1\" stroke=\"#000000\" stroke-opacity=\"1\" stroke-width=\"3.2\"/>\n",
       "<circle clip-path=\"url(#clip622)\" cx=\"1725.97\" cy=\"1086.13\" r=\"14\" fill=\"#009af9\" fill-rule=\"evenodd\" fill-opacity=\"1\" stroke=\"#000000\" stroke-opacity=\"1\" stroke-width=\"3.2\"/>\n",
       "<circle clip-path=\"url(#clip622)\" cx=\"1796.62\" cy=\"1129.85\" r=\"14\" fill=\"#009af9\" fill-rule=\"evenodd\" fill-opacity=\"1\" stroke=\"#000000\" stroke-opacity=\"1\" stroke-width=\"3.2\"/>\n",
       "<circle clip-path=\"url(#clip622)\" cx=\"1867.32\" cy=\"1173.6\" r=\"14\" fill=\"#009af9\" fill-rule=\"evenodd\" fill-opacity=\"1\" stroke=\"#000000\" stroke-opacity=\"1\" stroke-width=\"3.2\"/>\n",
       "<circle clip-path=\"url(#clip622)\" cx=\"1937.96\" cy=\"1217.31\" r=\"14\" fill=\"#009af9\" fill-rule=\"evenodd\" fill-opacity=\"1\" stroke=\"#000000\" stroke-opacity=\"1\" stroke-width=\"3.2\"/>\n",
       "<circle clip-path=\"url(#clip622)\" cx=\"2008.58\" cy=\"1261.02\" r=\"14\" fill=\"#009af9\" fill-rule=\"evenodd\" fill-opacity=\"1\" stroke=\"#000000\" stroke-opacity=\"1\" stroke-width=\"3.2\"/>\n",
       "<circle clip-path=\"url(#clip622)\" cx=\"2079.24\" cy=\"1304.74\" r=\"14\" fill=\"#009af9\" fill-rule=\"evenodd\" fill-opacity=\"1\" stroke=\"#000000\" stroke-opacity=\"1\" stroke-width=\"3.2\"/>\n",
       "<circle clip-path=\"url(#clip622)\" cx=\"2149.95\" cy=\"1348.49\" r=\"14\" fill=\"#009af9\" fill-rule=\"evenodd\" fill-opacity=\"1\" stroke=\"#000000\" stroke-opacity=\"1\" stroke-width=\"3.2\"/>\n",
       "<circle clip-path=\"url(#clip622)\" cx=\"2220.61\" cy=\"1392.22\" r=\"14\" fill=\"#009af9\" fill-rule=\"evenodd\" fill-opacity=\"1\" stroke=\"#000000\" stroke-opacity=\"1\" stroke-width=\"3.2\"/>\n",
       "<circle clip-path=\"url(#clip622)\" cx=\"2291.27\" cy=\"1435.94\" r=\"14\" fill=\"#009af9\" fill-rule=\"evenodd\" fill-opacity=\"1\" stroke=\"#000000\" stroke-opacity=\"1\" stroke-width=\"3.2\"/>\n",
       "<path clip-path=\"url(#clip620)\" d=\"\n",
       "M1567.13 289.455 L2280.33 289.455 L2280.33 168.495 L1567.13 168.495  Z\n",
       "  \" fill=\"#ffffff\" fill-rule=\"evenodd\" fill-opacity=\"1\"/>\n",
       "<polyline clip-path=\"url(#clip620)\" style=\"stroke:#000000; stroke-width:4; stroke-opacity:1; fill:none\" points=\"\n",
       "  1567.13,289.455 2280.33,289.455 2280.33,168.495 1567.13,168.495 1567.13,289.455 \n",
       "  \"/>\n",
       "<circle clip-path=\"url(#clip620)\" cx=\"1663.69\" cy=\"228.975\" r=\"23\" fill=\"#009af9\" fill-rule=\"evenodd\" fill-opacity=\"1\" stroke=\"#000000\" stroke-opacity=\"1\" stroke-width=\"5.12\"/>\n",
       "<path clip-path=\"url(#clip620)\" d=\"M 0 0 M1760.25 211.695 L1764.93 211.695 L1764.93 246.255 L1760.25 246.255 L1760.25 211.695 Z\" fill=\"#000000\" fill-rule=\"evenodd\" fill-opacity=\"1\" /><path clip-path=\"url(#clip620)\" d=\"M 0 0 M1790.95 230.607 L1790.95 246.255 L1786.69 246.255 L1786.69 230.746 Q1786.69 227.065 1785.25 225.237 Q1783.82 223.408 1780.95 223.408 Q1777.5 223.408 1775.51 225.607 Q1773.51 227.806 1773.51 231.603 L1773.51 246.255 L1769.23 246.255 L1769.23 220.329 L1773.51 220.329 L1773.51 224.357 Q1775.04 222.019 1777.1 220.862 Q1779.19 219.704 1781.89 219.704 Q1786.36 219.704 1788.65 222.482 Q1790.95 225.237 1790.95 230.607 Z\" fill=\"#000000\" fill-rule=\"evenodd\" fill-opacity=\"1\" /><path clip-path=\"url(#clip620)\" d=\"M 0 0 M1799.63 212.968 L1799.63 220.329 L1808.4 220.329 L1808.4 223.64 L1799.63 223.64 L1799.63 237.714 Q1799.63 240.885 1800.48 241.788 Q1801.36 242.69 1804.02 242.69 L1808.4 242.69 L1808.4 246.255 L1804.02 246.255 Q1799.09 246.255 1797.22 244.427 Q1795.34 242.575 1795.34 237.714 L1795.34 223.64 L1792.22 223.64 L1792.22 220.329 L1795.34 220.329 L1795.34 212.968 L1799.63 212.968 Z\" fill=\"#000000\" fill-rule=\"evenodd\" fill-opacity=\"1\" /><path clip-path=\"url(#clip620)\" d=\"M 0 0 M1835.04 232.228 L1835.04 234.311 L1815.46 234.311 Q1815.74 238.709 1818.1 241.024 Q1820.48 243.315 1824.72 243.315 Q1827.17 243.315 1829.46 242.714 Q1831.78 242.112 1834.05 240.908 L1834.05 244.936 Q1831.76 245.908 1829.35 246.417 Q1826.94 246.927 1824.46 246.927 Q1818.26 246.927 1814.63 243.315 Q1811.01 239.704 1811.01 233.547 Q1811.01 227.181 1814.44 223.454 Q1817.89 219.704 1823.72 219.704 Q1828.95 219.704 1831.99 223.084 Q1835.04 226.441 1835.04 232.228 M1830.78 230.978 Q1830.74 227.482 1828.82 225.399 Q1826.92 223.316 1823.77 223.316 Q1820.2 223.316 1818.05 225.329 Q1815.92 227.343 1815.6 231.001 L1830.78 230.978 Z\" fill=\"#000000\" fill-rule=\"evenodd\" fill-opacity=\"1\" /><path clip-path=\"url(#clip620)\" d=\"M 0 0 M1856.57 232.991 Q1856.57 228.362 1854.65 225.816 Q1852.75 223.269 1849.3 223.269 Q1845.88 223.269 1843.95 225.816 Q1842.06 228.362 1842.06 232.991 Q1842.06 237.598 1843.95 240.144 Q1845.88 242.69 1849.3 242.69 Q1852.75 242.69 1854.65 240.144 Q1856.57 237.598 1856.57 232.991 M1860.83 243.038 Q1860.83 249.658 1857.89 252.876 Q1854.95 256.116 1848.88 256.116 Q1846.64 256.116 1844.65 255.769 Q1842.66 255.445 1840.78 254.751 L1840.78 250.607 Q1842.66 251.626 1844.49 252.112 Q1846.32 252.598 1848.21 252.598 Q1852.4 252.598 1854.49 250.399 Q1856.57 248.223 1856.57 243.802 L1856.57 241.695 Q1855.25 243.987 1853.19 245.121 Q1851.13 246.255 1848.26 246.255 Q1843.49 246.255 1840.57 242.621 Q1837.66 238.987 1837.66 232.991 Q1837.66 226.973 1840.57 223.339 Q1843.49 219.704 1848.26 219.704 Q1851.13 219.704 1853.19 220.839 Q1855.25 221.973 1856.57 224.265 L1856.57 220.329 L1860.83 220.329 L1860.83 243.038 Z\" fill=\"#000000\" fill-rule=\"evenodd\" fill-opacity=\"1\" /><path clip-path=\"url(#clip620)\" d=\"M 0 0 M1880.32 224.311 Q1879.6 223.894 1878.75 223.709 Q1877.91 223.501 1876.89 223.501 Q1873.28 223.501 1871.34 225.862 Q1869.42 228.2 1869.42 232.598 L1869.42 246.255 L1865.13 246.255 L1865.13 220.329 L1869.42 220.329 L1869.42 224.357 Q1870.76 221.996 1872.91 220.862 Q1875.06 219.704 1878.14 219.704 Q1878.58 219.704 1879.12 219.774 Q1879.65 219.82 1880.3 219.936 L1880.32 224.311 Z\" fill=\"#000000\" fill-rule=\"evenodd\" fill-opacity=\"1\" /><path clip-path=\"url(#clip620)\" d=\"M 0 0 M1896.57 233.223 Q1891.41 233.223 1889.42 234.403 Q1887.43 235.584 1887.43 238.431 Q1887.43 240.7 1888.91 242.042 Q1890.41 243.362 1892.98 243.362 Q1896.52 243.362 1898.65 240.862 Q1900.81 238.339 1900.81 234.172 L1900.81 233.223 L1896.57 233.223 M1905.06 231.464 L1905.06 246.255 L1900.81 246.255 L1900.81 242.32 Q1899.35 244.681 1897.17 245.815 Q1895 246.927 1891.85 246.927 Q1887.87 246.927 1885.5 244.704 Q1883.17 242.459 1883.17 238.709 Q1883.17 234.334 1886.08 232.112 Q1889.02 229.89 1894.83 229.89 L1900.81 229.89 L1900.81 229.473 Q1900.81 226.533 1898.86 224.936 Q1896.94 223.316 1893.44 223.316 Q1891.22 223.316 1889.12 223.848 Q1887.01 224.38 1885.06 225.445 L1885.06 221.51 Q1887.4 220.607 1889.6 220.167 Q1891.8 219.704 1893.88 219.704 Q1899.51 219.704 1902.29 222.621 Q1905.06 225.538 1905.06 231.464 Z\" fill=\"#000000\" fill-rule=\"evenodd\" fill-opacity=\"1\" /><path clip-path=\"url(#clip620)\" d=\"M 0 0 M1909.53 210.237 L1913.79 210.237 L1913.79 246.255 L1909.53 246.255 L1909.53 210.237 Z\" fill=\"#000000\" fill-rule=\"evenodd\" fill-opacity=\"1\" /><path clip-path=\"url(#clip620)\" d=\"M 0 0 M1954.88 230.607 L1954.88 246.255 L1950.62 246.255 L1950.62 230.746 Q1950.62 227.065 1949.18 225.237 Q1947.75 223.408 1944.88 223.408 Q1941.43 223.408 1939.44 225.607 Q1937.45 227.806 1937.45 231.603 L1937.45 246.255 L1933.17 246.255 L1933.17 210.237 L1937.45 210.237 L1937.45 224.357 Q1938.98 222.019 1941.04 220.862 Q1943.12 219.704 1945.83 219.704 Q1950.3 219.704 1952.59 222.482 Q1954.88 225.237 1954.88 230.607 Z\" fill=\"#000000\" fill-rule=\"evenodd\" fill-opacity=\"1\" /><path clip-path=\"url(#clip620)\" d=\"M 0 0 M1971.13 233.223 Q1965.97 233.223 1963.98 234.403 Q1961.99 235.584 1961.99 238.431 Q1961.99 240.7 1963.47 242.042 Q1964.97 243.362 1967.54 243.362 Q1971.08 243.362 1973.21 240.862 Q1975.37 238.339 1975.37 234.172 L1975.37 233.223 L1971.13 233.223 M1979.62 231.464 L1979.62 246.255 L1975.37 246.255 L1975.37 242.32 Q1973.91 244.681 1971.73 245.815 Q1969.56 246.927 1966.41 246.927 Q1962.43 246.927 1960.06 244.704 Q1957.73 242.459 1957.73 238.709 Q1957.73 234.334 1960.64 232.112 Q1963.58 229.89 1969.39 229.89 L1975.37 229.89 L1975.37 229.473 Q1975.37 226.533 1973.42 224.936 Q1971.5 223.316 1968 223.316 Q1965.78 223.316 1963.68 223.848 Q1961.57 224.38 1959.62 225.445 L1959.62 221.51 Q1961.96 220.607 1964.16 220.167 Q1966.36 219.704 1968.44 219.704 Q1974.07 219.704 1976.85 222.621 Q1979.62 225.538 1979.62 231.464 Z\" fill=\"#000000\" fill-rule=\"evenodd\" fill-opacity=\"1\" /><path clip-path=\"url(#clip620)\" d=\"M 0 0 M2002.75 221.325 L2002.75 225.306 Q2000.94 224.311 1999.12 223.825 Q1997.31 223.316 1995.46 223.316 Q1991.31 223.316 1989.02 225.954 Q1986.73 228.57 1986.73 233.315 Q1986.73 238.061 1989.02 240.7 Q1991.31 243.315 1995.46 243.315 Q1997.31 243.315 1999.12 242.829 Q2000.94 242.32 2002.75 241.325 L2002.75 245.26 Q2000.97 246.093 1999.05 246.51 Q1997.15 246.927 1994.99 246.927 Q1989.14 246.927 1985.69 243.246 Q1982.24 239.565 1982.24 233.315 Q1982.24 226.973 1985.71 223.339 Q1989.21 219.704 1995.27 219.704 Q1997.24 219.704 1999.12 220.121 Q2000.99 220.515 2002.75 221.325 Z\" fill=\"#000000\" fill-rule=\"evenodd\" fill-opacity=\"1\" /><path clip-path=\"url(#clip620)\" d=\"M 0 0 M2007.22 220.329 L2011.48 220.329 L2011.48 246.255 L2007.22 246.255 L2007.22 220.329 M2007.22 210.237 L2011.48 210.237 L2011.48 215.63 L2007.22 215.63 L2007.22 210.237 Z\" fill=\"#000000\" fill-rule=\"evenodd\" fill-opacity=\"1\" /><path clip-path=\"url(#clip620)\" d=\"M 0 0 M2027.73 233.223 Q2022.56 233.223 2020.57 234.403 Q2018.58 235.584 2018.58 238.431 Q2018.58 240.7 2020.06 242.042 Q2021.57 243.362 2024.14 243.362 Q2027.68 243.362 2029.81 240.862 Q2031.96 238.339 2031.96 234.172 L2031.96 233.223 L2027.73 233.223 M2036.22 231.464 L2036.22 246.255 L2031.96 246.255 L2031.96 242.32 Q2030.5 244.681 2028.33 245.815 Q2026.15 246.927 2023 246.927 Q2019.02 246.927 2016.66 244.704 Q2014.32 242.459 2014.32 238.709 Q2014.32 234.334 2017.24 232.112 Q2020.18 229.89 2025.99 229.89 L2031.96 229.89 L2031.96 229.473 Q2031.96 226.533 2030.02 224.936 Q2028.1 223.316 2024.6 223.316 Q2022.38 223.316 2020.27 223.848 Q2018.17 224.38 2016.22 225.445 L2016.22 221.51 Q2018.56 220.607 2020.76 220.167 Q2022.96 219.704 2025.04 219.704 Q2030.67 219.704 2033.44 222.621 Q2036.22 225.538 2036.22 231.464 Z\" fill=\"#000000\" fill-rule=\"evenodd\" fill-opacity=\"1\" /><path clip-path=\"url(#clip620)\" d=\"M 0 0 M2067.54 233.223 Q2062.38 233.223 2060.39 234.403 Q2058.4 235.584 2058.4 238.431 Q2058.4 240.7 2059.88 242.042 Q2061.38 243.362 2063.95 243.362 Q2067.49 243.362 2069.62 240.862 Q2071.78 238.339 2071.78 234.172 L2071.78 233.223 L2067.54 233.223 M2076.04 231.464 L2076.04 246.255 L2071.78 246.255 L2071.78 242.32 Q2070.32 244.681 2068.14 245.815 Q2065.97 246.927 2062.82 246.927 Q2058.84 246.927 2056.48 244.704 Q2054.14 242.459 2054.14 238.709 Q2054.14 234.334 2057.05 232.112 Q2059.99 229.89 2065.8 229.89 L2071.78 229.89 L2071.78 229.473 Q2071.78 226.533 2069.83 224.936 Q2067.91 223.316 2064.42 223.316 Q2062.19 223.316 2060.09 223.848 Q2057.98 224.38 2056.04 225.445 L2056.04 221.51 Q2058.37 220.607 2060.57 220.167 Q2062.77 219.704 2064.86 219.704 Q2070.48 219.704 2073.26 222.621 Q2076.04 225.538 2076.04 231.464 Z\" fill=\"#000000\" fill-rule=\"evenodd\" fill-opacity=\"1\" /><path clip-path=\"url(#clip620)\" d=\"M 0 0 M2097.56 224.265 L2097.56 210.237 L2101.82 210.237 L2101.82 246.255 L2097.56 246.255 L2097.56 242.366 Q2096.22 244.681 2094.16 245.815 Q2092.12 246.927 2089.25 246.927 Q2084.55 246.927 2081.59 243.177 Q2078.65 239.427 2078.65 233.315 Q2078.65 227.204 2081.59 223.454 Q2084.55 219.704 2089.25 219.704 Q2092.12 219.704 2094.16 220.839 Q2096.22 221.95 2097.56 224.265 M2083.05 233.315 Q2083.05 238.015 2084.97 240.7 Q2086.92 243.362 2090.3 243.362 Q2093.67 243.362 2095.62 240.7 Q2097.56 238.015 2097.56 233.315 Q2097.56 228.616 2095.62 225.954 Q2093.67 223.269 2090.3 223.269 Q2086.92 223.269 2084.97 225.954 Q2083.05 228.616 2083.05 233.315 Z\" fill=\"#000000\" fill-rule=\"evenodd\" fill-opacity=\"1\" /><path clip-path=\"url(#clip620)\" d=\"M 0 0 M2128.47 232.228 L2128.47 234.311 L2108.88 234.311 Q2109.16 238.709 2111.52 241.024 Q2113.91 243.315 2118.14 243.315 Q2120.6 243.315 2122.89 242.714 Q2125.2 242.112 2127.47 240.908 L2127.47 244.936 Q2125.18 245.908 2122.77 246.417 Q2120.36 246.927 2117.89 246.927 Q2111.68 246.927 2108.05 243.315 Q2104.44 239.704 2104.44 233.547 Q2104.44 227.181 2107.86 223.454 Q2111.31 219.704 2117.15 219.704 Q2122.38 219.704 2125.41 223.084 Q2128.47 226.441 2128.47 232.228 M2124.21 230.978 Q2124.16 227.482 2122.24 225.399 Q2120.34 223.316 2117.19 223.316 Q2113.63 223.316 2111.48 225.329 Q2109.35 227.343 2109.02 231.001 L2124.21 230.978 Z\" fill=\"#000000\" fill-rule=\"evenodd\" fill-opacity=\"1\" /><path clip-path=\"url(#clip620)\" d=\"M 0 0 M2132.93 210.237 L2137.19 210.237 L2137.19 246.255 L2132.93 246.255 L2132.93 210.237 Z\" fill=\"#000000\" fill-rule=\"evenodd\" fill-opacity=\"1\" /><path clip-path=\"url(#clip620)\" d=\"M 0 0 M2153.44 233.223 Q2148.28 233.223 2146.29 234.403 Q2144.3 235.584 2144.3 238.431 Q2144.3 240.7 2145.78 242.042 Q2147.29 243.362 2149.86 243.362 Q2153.4 243.362 2155.53 240.862 Q2157.68 238.339 2157.68 234.172 L2157.68 233.223 L2153.44 233.223 M2161.94 231.464 L2161.94 246.255 L2157.68 246.255 L2157.68 242.32 Q2156.22 244.681 2154.04 245.815 Q2151.87 246.927 2148.72 246.927 Q2144.74 246.927 2142.38 244.704 Q2140.04 242.459 2140.04 238.709 Q2140.04 234.334 2142.96 232.112 Q2145.9 229.89 2151.71 229.89 L2157.68 229.89 L2157.68 229.473 Q2157.68 226.533 2155.73 224.936 Q2153.81 223.316 2150.32 223.316 Q2148.1 223.316 2145.99 223.848 Q2143.88 224.38 2141.94 225.445 L2141.94 221.51 Q2144.28 220.607 2146.48 220.167 Q2148.67 219.704 2150.76 219.704 Q2156.38 219.704 2159.16 222.621 Q2161.94 225.538 2161.94 231.464 Z\" fill=\"#000000\" fill-rule=\"evenodd\" fill-opacity=\"1\" /><path clip-path=\"url(#clip620)\" d=\"M 0 0 M2187.96 230.607 L2187.96 246.255 L2183.7 246.255 L2183.7 230.746 Q2183.7 227.065 2182.26 225.237 Q2180.83 223.408 2177.96 223.408 Q2174.51 223.408 2172.52 225.607 Q2170.53 227.806 2170.53 231.603 L2170.53 246.255 L2166.24 246.255 L2166.24 220.329 L2170.53 220.329 L2170.53 224.357 Q2172.05 222.019 2174.11 220.862 Q2176.2 219.704 2178.91 219.704 Q2183.37 219.704 2185.67 222.482 Q2187.96 225.237 2187.96 230.607 Z\" fill=\"#000000\" fill-rule=\"evenodd\" fill-opacity=\"1\" /><path clip-path=\"url(#clip620)\" d=\"M 0 0 M2196.64 212.968 L2196.64 220.329 L2205.41 220.329 L2205.41 223.64 L2196.64 223.64 L2196.64 237.714 Q2196.64 240.885 2197.49 241.788 Q2198.37 242.69 2201.04 242.69 L2205.41 242.69 L2205.41 246.255 L2201.04 246.255 Q2196.1 246.255 2194.23 244.427 Q2192.35 242.575 2192.35 237.714 L2192.35 223.64 L2189.23 223.64 L2189.23 220.329 L2192.35 220.329 L2192.35 212.968 L2196.64 212.968 Z\" fill=\"#000000\" fill-rule=\"evenodd\" fill-opacity=\"1\" /><path clip-path=\"url(#clip620)\" d=\"M 0 0 M2232.05 232.228 L2232.05 234.311 L2212.47 234.311 Q2212.75 238.709 2215.11 241.024 Q2217.49 243.315 2221.73 243.315 Q2224.18 243.315 2226.48 242.714 Q2228.79 242.112 2231.06 240.908 L2231.06 244.936 Q2228.77 245.908 2226.36 246.417 Q2223.95 246.927 2221.48 246.927 Q2215.27 246.927 2211.64 243.315 Q2208.03 239.704 2208.03 233.547 Q2208.03 227.181 2211.45 223.454 Q2214.9 219.704 2220.73 219.704 Q2225.97 219.704 2229 223.084 Q2232.05 226.441 2232.05 232.228 M2227.79 230.978 Q2227.75 227.482 2225.83 225.399 Q2223.93 223.316 2220.78 223.316 Q2217.22 223.316 2215.06 225.329 Q2212.93 227.343 2212.61 231.001 L2227.79 230.978 Z\" fill=\"#000000\" fill-rule=\"evenodd\" fill-opacity=\"1\" /></svg>\n"
      ]
     },
     "execution_count": 6,
     "metadata": {},
     "output_type": "execute_result"
    }
   ],
   "source": [
    "# seleccionamos ns espaciadas logaritmicamente\n",
    "# expns guarda los exponentes de las ns\n",
    "expns = range(1,stop=4,length=30)\n",
    "println(\"exponentes: \")\n",
    "println(collect(expns))\n",
    "# ns va a guardar mis ns (los distintos numeros de subintervalos)\n",
    "# todos los elementos de n deben ser enteros, por lo que debemos redondearlos hacia arriba con la función\n",
    "# ceil (función techo) y luego convertirlos a enteros con la función Int64()\n",
    "ns = [Int64(ceil(10^k)) for k in expns]\n",
    "println(\"numeros de  subintervalos: \")\n",
    "println(collect(ns))\n",
    "ys = [abs(intAdelante(prueba,0,2,n)-8) for n in ns]\n",
    "scatter(ns,ys,title=\"Error absoluto\",label=\"Integral hacia adelante\",xscale=:log10,yscale=:log10)"
   ]
  },
  {
   "cell_type": "markdown",
   "metadata": {},
   "source": [
    "## Ejercicio 1\n",
    "\n",
    "Resuelve las siguientes dos integrales utilizando la regla de integración hacia adelante:\n",
    "\n",
    "1. $$\\int_{0}^{1} \\frac{\\arctan{\\sqrt{x^2+2}}}{\\left(\\sqrt{x^2+2}\\right)(x^2+1)} \\; dx = \\frac{5\\pi^2}{96}$$\n",
    "\n",
    "\n",
    "\n",
    "2. $$\\int_{0}^{\\pi} \\ln{\\left(1 - 2 e \\cos{x}+ e^2 \\right) } \\; dx = 2\\pi$$\n",
    "\n",
    "$e$ es el número de Euler.\n",
    "\n",
    "Usando el resultado que se muestra, grafica el error absoluto como función del número de puntos de la partición $n$ y discute cuál es la velocidad de convergencia del error."
   ]
  },
  {
   "cell_type": "markdown",
   "metadata": {},
   "source": [
    "## Preludio matemático: integrales como funciones\n",
    "\n",
    "Aunque sabemos que la integral de una función es un número real, podemos definir una función a partir de una integral de la siguiente forma:\n",
    "\n",
    "$$\n",
    "F(x) = \\int_{a}^{x} f(s) \\; ds\n",
    "$$\n",
    "\n",
    "Así, podemos utilizar nuestra función para integrar numéricamente también para construir una función cuya definición esté dada por una integral. Por ejemplo:\n",
    "\n",
    "$$\n",
    "\\ln{x} = \\int_{1}^x \\frac{1}{s} \\; ds\n",
    "$$"
   ]
  },
  {
   "cell_type": "code",
   "execution_count": 7,
   "metadata": {},
   "outputs": [
    {
     "data": {
      "text/plain": [
       "lnIntegral (generic function with 1 method)"
      ]
     },
     "execution_count": 7,
     "metadata": {},
     "output_type": "execute_result"
    }
   ],
   "source": [
    "# definimos una función auxiliar para nuestro logaritmo integrado numéricamente\n",
    "function inv(s)\n",
    "    return 1/s\n",
    "end\n",
    "# calculamos el logaritmo como una integral\n",
    "function lnIntegral(x,n)\n",
    "    return intAdelante(inv,1,x,n)\n",
    "end"
   ]
  },
  {
   "cell_type": "code",
   "execution_count": 8,
   "metadata": {},
   "outputs": [
    {
     "name": "stdout",
     "output_type": "stream",
     "text": [
      "Valor exacto: 1.0\n",
      "valor aproximado: 0.9945904672391623\n"
     ]
    }
   ],
   "source": [
    "print(\"Valor exacto: \")\n",
    "println(log(exp(1)))\n",
    "print(\"valor aproximado: \")\n",
    "println(lnIntegral(exp(1),100))"
   ]
  },
  {
   "cell_type": "code",
   "execution_count": 9,
   "metadata": {},
   "outputs": [
    {
     "data": {
      "image/svg+xml": [
       "<?xml version=\"1.0\" encoding=\"utf-8\"?>\n",
       "<svg xmlns=\"http://www.w3.org/2000/svg\" xmlns:xlink=\"http://www.w3.org/1999/xlink\" width=\"600\" height=\"400\" viewBox=\"0 0 2400 1600\">\n",
       "<defs>\n",
       "  <clipPath id=\"clip660\">\n",
       "    <rect x=\"0\" y=\"0\" width=\"2400\" height=\"1600\"/>\n",
       "  </clipPath>\n",
       "</defs>\n",
       "<path clip-path=\"url(#clip660)\" d=\"\n",
       "M0 1600 L2400 1600 L2400 0 L0 0  Z\n",
       "  \" fill=\"#ffffff\" fill-rule=\"evenodd\" fill-opacity=\"1\"/>\n",
       "<defs>\n",
       "  <clipPath id=\"clip661\">\n",
       "    <rect x=\"480\" y=\"0\" width=\"1681\" height=\"1600\"/>\n",
       "  </clipPath>\n",
       "</defs>\n",
       "<path clip-path=\"url(#clip660)\" d=\"\n",
       "M147.848 1486.45 L2352.76 1486.45 L2352.76 123.472 L147.848 123.472  Z\n",
       "  \" fill=\"#ffffff\" fill-rule=\"evenodd\" fill-opacity=\"1\"/>\n",
       "<defs>\n",
       "  <clipPath id=\"clip662\">\n",
       "    <rect x=\"147\" y=\"123\" width=\"2206\" height=\"1364\"/>\n",
       "  </clipPath>\n",
       "</defs>\n",
       "<polyline clip-path=\"url(#clip662)\" style=\"stroke:#000000; stroke-width:2; stroke-opacity:0.1; fill:none\" points=\"\n",
       "  441.374,1486.45 441.374,123.472 \n",
       "  \"/>\n",
       "<polyline clip-path=\"url(#clip662)\" style=\"stroke:#000000; stroke-width:2; stroke-opacity:0.1; fill:none\" points=\"\n",
       "  903.619,1486.45 903.619,123.472 \n",
       "  \"/>\n",
       "<polyline clip-path=\"url(#clip662)\" style=\"stroke:#000000; stroke-width:2; stroke-opacity:0.1; fill:none\" points=\"\n",
       "  1365.86,1486.45 1365.86,123.472 \n",
       "  \"/>\n",
       "<polyline clip-path=\"url(#clip662)\" style=\"stroke:#000000; stroke-width:2; stroke-opacity:0.1; fill:none\" points=\"\n",
       "  1828.11,1486.45 1828.11,123.472 \n",
       "  \"/>\n",
       "<polyline clip-path=\"url(#clip662)\" style=\"stroke:#000000; stroke-width:2; stroke-opacity:0.1; fill:none\" points=\"\n",
       "  2290.35,1486.45 2290.35,123.472 \n",
       "  \"/>\n",
       "<polyline clip-path=\"url(#clip660)\" style=\"stroke:#000000; stroke-width:4; stroke-opacity:1; fill:none\" points=\"\n",
       "  147.848,1486.45 2352.76,1486.45 \n",
       "  \"/>\n",
       "<polyline clip-path=\"url(#clip660)\" style=\"stroke:#000000; stroke-width:4; stroke-opacity:1; fill:none\" points=\"\n",
       "  441.374,1486.45 441.374,1470.09 \n",
       "  \"/>\n",
       "<polyline clip-path=\"url(#clip660)\" style=\"stroke:#000000; stroke-width:4; stroke-opacity:1; fill:none\" points=\"\n",
       "  903.619,1486.45 903.619,1470.09 \n",
       "  \"/>\n",
       "<polyline clip-path=\"url(#clip660)\" style=\"stroke:#000000; stroke-width:4; stroke-opacity:1; fill:none\" points=\"\n",
       "  1365.86,1486.45 1365.86,1470.09 \n",
       "  \"/>\n",
       "<polyline clip-path=\"url(#clip660)\" style=\"stroke:#000000; stroke-width:4; stroke-opacity:1; fill:none\" points=\"\n",
       "  1828.11,1486.45 1828.11,1470.09 \n",
       "  \"/>\n",
       "<polyline clip-path=\"url(#clip660)\" style=\"stroke:#000000; stroke-width:4; stroke-opacity:1; fill:none\" points=\"\n",
       "  2290.35,1486.45 2290.35,1470.09 \n",
       "  \"/>\n",
       "<path clip-path=\"url(#clip660)\" d=\"M 0 0 M436.027 1543.18 L452.346 1543.18 L452.346 1547.12 L430.402 1547.12 L430.402 1543.18 Q433.064 1540.43 437.647 1535.8 Q442.253 1531.15 443.434 1529.81 Q445.679 1527.28 446.559 1525.55 Q447.462 1523.79 447.462 1522.1 Q447.462 1519.34 445.517 1517.61 Q443.596 1515.87 440.494 1515.87 Q438.295 1515.87 435.841 1516.63 Q433.411 1517.4 430.633 1518.95 L430.633 1514.23 Q433.457 1513.09 435.911 1512.51 Q438.364 1511.93 440.402 1511.93 Q445.772 1511.93 448.966 1514.62 Q452.161 1517.31 452.161 1521.8 Q452.161 1523.93 451.351 1525.85 Q450.563 1527.74 448.457 1530.34 Q447.878 1531.01 444.776 1534.23 Q441.675 1537.42 436.027 1543.18 Z\" fill=\"#000000\" fill-rule=\"evenodd\" fill-opacity=\"1\" /><path clip-path=\"url(#clip660)\" d=\"M 0 0 M906.628 1516.63 L894.822 1535.08 L906.628 1535.08 L906.628 1516.63 M905.401 1512.56 L911.281 1512.56 L911.281 1535.08 L916.211 1535.08 L916.211 1538.97 L911.281 1538.97 L911.281 1547.12 L906.628 1547.12 L906.628 1538.97 L891.026 1538.97 L891.026 1534.46 L905.401 1512.56 Z\" fill=\"#000000\" fill-rule=\"evenodd\" fill-opacity=\"1\" /><path clip-path=\"url(#clip660)\" d=\"M 0 0 M1366.27 1527.98 Q1363.12 1527.98 1361.27 1530.13 Q1359.44 1532.28 1359.44 1536.03 Q1359.44 1539.76 1361.27 1541.93 Q1363.12 1544.09 1366.27 1544.09 Q1369.42 1544.09 1371.25 1541.93 Q1373.1 1539.76 1373.1 1536.03 Q1373.1 1532.28 1371.25 1530.13 Q1369.42 1527.98 1366.27 1527.98 M1375.55 1513.32 L1375.55 1517.58 Q1373.79 1516.75 1371.99 1516.31 Q1370.2 1515.87 1368.44 1515.87 Q1363.81 1515.87 1361.36 1519 Q1358.93 1522.12 1358.58 1528.44 Q1359.95 1526.43 1362.01 1525.36 Q1364.07 1524.27 1366.55 1524.27 Q1371.75 1524.27 1374.76 1527.44 Q1377.8 1530.59 1377.8 1536.03 Q1377.8 1541.36 1374.65 1544.57 Q1371.5 1547.79 1366.27 1547.79 Q1360.27 1547.79 1357.1 1543.21 Q1353.93 1538.6 1353.93 1529.87 Q1353.93 1521.68 1357.82 1516.82 Q1361.71 1511.93 1368.26 1511.93 Q1370.02 1511.93 1371.8 1512.28 Q1373.61 1512.63 1375.55 1513.32 Z\" fill=\"#000000\" fill-rule=\"evenodd\" fill-opacity=\"1\" /><path clip-path=\"url(#clip660)\" d=\"M 0 0 M1828.11 1530.71 Q1824.77 1530.71 1822.85 1532.49 Q1820.96 1534.27 1820.96 1537.4 Q1820.96 1540.52 1822.85 1542.31 Q1824.77 1544.09 1828.11 1544.09 Q1831.44 1544.09 1833.36 1542.31 Q1835.28 1540.5 1835.28 1537.4 Q1835.28 1534.27 1833.36 1532.49 Q1831.46 1530.71 1828.11 1530.71 M1823.43 1528.72 Q1820.42 1527.98 1818.73 1525.92 Q1817.07 1523.86 1817.07 1520.89 Q1817.07 1516.75 1820.01 1514.34 Q1822.97 1511.93 1828.11 1511.93 Q1833.27 1511.93 1836.21 1514.34 Q1839.15 1516.75 1839.15 1520.89 Q1839.15 1523.86 1837.46 1525.92 Q1835.79 1527.98 1832.81 1528.72 Q1836.19 1529.5 1838.06 1531.8 Q1839.96 1534.09 1839.96 1537.4 Q1839.96 1542.42 1836.88 1545.11 Q1833.83 1547.79 1828.11 1547.79 Q1822.39 1547.79 1819.31 1545.11 Q1816.26 1542.42 1816.26 1537.4 Q1816.26 1534.09 1818.15 1531.8 Q1820.05 1529.5 1823.43 1528.72 M1821.72 1521.33 Q1821.72 1524.02 1823.39 1525.52 Q1825.08 1527.03 1828.11 1527.03 Q1831.12 1527.03 1832.81 1525.52 Q1834.52 1524.02 1834.52 1521.33 Q1834.52 1518.65 1832.81 1517.14 Q1831.12 1515.64 1828.11 1515.64 Q1825.08 1515.64 1823.39 1517.14 Q1821.72 1518.65 1821.72 1521.33 Z\" fill=\"#000000\" fill-rule=\"evenodd\" fill-opacity=\"1\" /><path clip-path=\"url(#clip660)\" d=\"M 0 0 M2267.23 1543.18 L2274.87 1543.18 L2274.87 1516.82 L2266.56 1518.49 L2266.56 1514.23 L2274.82 1512.56 L2279.5 1512.56 L2279.5 1543.18 L2287.14 1543.18 L2287.14 1547.12 L2267.23 1547.12 L2267.23 1543.18 Z\" fill=\"#000000\" fill-rule=\"evenodd\" fill-opacity=\"1\" /><path clip-path=\"url(#clip660)\" d=\"M 0 0 M2302.2 1515.64 Q2298.59 1515.64 2296.76 1519.2 Q2294.96 1522.75 2294.96 1529.87 Q2294.96 1536.98 2296.76 1540.55 Q2298.59 1544.09 2302.2 1544.09 Q2305.84 1544.09 2307.64 1540.55 Q2309.47 1536.98 2309.47 1529.87 Q2309.47 1522.75 2307.64 1519.2 Q2305.84 1515.64 2302.2 1515.64 M2302.2 1511.93 Q2308.01 1511.93 2311.07 1516.54 Q2314.15 1521.12 2314.15 1529.87 Q2314.15 1538.6 2311.07 1543.21 Q2308.01 1547.79 2302.2 1547.79 Q2296.39 1547.79 2293.32 1543.21 Q2290.26 1538.6 2290.26 1529.87 Q2290.26 1521.12 2293.32 1516.54 Q2296.39 1511.93 2302.2 1511.93 Z\" fill=\"#000000\" fill-rule=\"evenodd\" fill-opacity=\"1\" /><polyline clip-path=\"url(#clip662)\" style=\"stroke:#000000; stroke-width:2; stroke-opacity:0.1; fill:none\" points=\"\n",
       "  147.848,1447.87 2352.76,1447.87 \n",
       "  \"/>\n",
       "<polyline clip-path=\"url(#clip662)\" style=\"stroke:#000000; stroke-width:2; stroke-opacity:0.1; fill:none\" points=\"\n",
       "  147.848,1168.66 2352.76,1168.66 \n",
       "  \"/>\n",
       "<polyline clip-path=\"url(#clip662)\" style=\"stroke:#000000; stroke-width:2; stroke-opacity:0.1; fill:none\" points=\"\n",
       "  147.848,889.446 2352.76,889.446 \n",
       "  \"/>\n",
       "<polyline clip-path=\"url(#clip662)\" style=\"stroke:#000000; stroke-width:2; stroke-opacity:0.1; fill:none\" points=\"\n",
       "  147.848,610.232 2352.76,610.232 \n",
       "  \"/>\n",
       "<polyline clip-path=\"url(#clip662)\" style=\"stroke:#000000; stroke-width:2; stroke-opacity:0.1; fill:none\" points=\"\n",
       "  147.848,331.019 2352.76,331.019 \n",
       "  \"/>\n",
       "<polyline clip-path=\"url(#clip660)\" style=\"stroke:#000000; stroke-width:4; stroke-opacity:1; fill:none\" points=\"\n",
       "  147.848,1486.45 147.848,123.472 \n",
       "  \"/>\n",
       "<polyline clip-path=\"url(#clip660)\" style=\"stroke:#000000; stroke-width:4; stroke-opacity:1; fill:none\" points=\"\n",
       "  147.848,1447.87 174.307,1447.87 \n",
       "  \"/>\n",
       "<polyline clip-path=\"url(#clip660)\" style=\"stroke:#000000; stroke-width:4; stroke-opacity:1; fill:none\" points=\"\n",
       "  147.848,1168.66 174.307,1168.66 \n",
       "  \"/>\n",
       "<polyline clip-path=\"url(#clip660)\" style=\"stroke:#000000; stroke-width:4; stroke-opacity:1; fill:none\" points=\"\n",
       "  147.848,889.446 174.307,889.446 \n",
       "  \"/>\n",
       "<polyline clip-path=\"url(#clip660)\" style=\"stroke:#000000; stroke-width:4; stroke-opacity:1; fill:none\" points=\"\n",
       "  147.848,610.232 174.307,610.232 \n",
       "  \"/>\n",
       "<polyline clip-path=\"url(#clip660)\" style=\"stroke:#000000; stroke-width:4; stroke-opacity:1; fill:none\" points=\"\n",
       "  147.848,331.019 174.307,331.019 \n",
       "  \"/>\n",
       "<path clip-path=\"url(#clip660)\" d=\"M 0 0 M62.9365 1433.67 Q59.3254 1433.67 57.4967 1437.24 Q55.6912 1440.78 55.6912 1447.91 Q55.6912 1455.01 57.4967 1458.58 Q59.3254 1462.12 62.9365 1462.12 Q66.5707 1462.12 68.3763 1458.58 Q70.205 1455.01 70.205 1447.91 Q70.205 1440.78 68.3763 1437.24 Q66.5707 1433.67 62.9365 1433.67 M62.9365 1429.97 Q68.7467 1429.97 71.8022 1434.57 Q74.8809 1439.16 74.8809 1447.91 Q74.8809 1456.63 71.8022 1461.24 Q68.7467 1465.82 62.9365 1465.82 Q57.1264 1465.82 54.0477 1461.24 Q50.9921 1456.63 50.9921 1447.91 Q50.9921 1439.16 54.0477 1434.57 Q57.1264 1429.97 62.9365 1429.97 Z\" fill=\"#000000\" fill-rule=\"evenodd\" fill-opacity=\"1\" /><path clip-path=\"url(#clip660)\" d=\"M 0 0 M79.9503 1459.27 L84.8345 1459.27 L84.8345 1465.15 L79.9503 1465.15 L79.9503 1459.27 Z\" fill=\"#000000\" fill-rule=\"evenodd\" fill-opacity=\"1\" /><path clip-path=\"url(#clip660)\" d=\"M 0 0 M99.9039 1433.67 Q96.2928 1433.67 94.4641 1437.24 Q92.6586 1440.78 92.6586 1447.91 Q92.6586 1455.01 94.4641 1458.58 Q96.2928 1462.12 99.9039 1462.12 Q103.538 1462.12 105.344 1458.58 Q107.172 1455.01 107.172 1447.91 Q107.172 1440.78 105.344 1437.24 Q103.538 1433.67 99.9039 1433.67 M99.9039 1429.97 Q105.714 1429.97 108.77 1434.57 Q111.848 1439.16 111.848 1447.91 Q111.848 1456.63 108.77 1461.24 Q105.714 1465.82 99.9039 1465.82 Q94.0937 1465.82 91.0151 1461.24 Q87.9595 1456.63 87.9595 1447.91 Q87.9595 1439.16 91.0151 1434.57 Q94.0937 1429.97 99.9039 1429.97 Z\" fill=\"#000000\" fill-rule=\"evenodd\" fill-opacity=\"1\" /><path clip-path=\"url(#clip660)\" d=\"M 0 0 M63.9319 1154.46 Q60.3208 1154.46 58.4921 1158.02 Q56.6865 1161.56 56.6865 1168.69 Q56.6865 1175.8 58.4921 1179.37 Q60.3208 1182.91 63.9319 1182.91 Q67.5661 1182.91 69.3717 1179.37 Q71.2004 1175.8 71.2004 1168.69 Q71.2004 1161.56 69.3717 1158.02 Q67.5661 1154.46 63.9319 1154.46 M63.9319 1150.75 Q69.742 1150.75 72.7976 1155.36 Q75.8763 1159.94 75.8763 1168.69 Q75.8763 1177.42 72.7976 1182.03 Q69.742 1186.61 63.9319 1186.61 Q58.1217 1186.61 55.043 1182.03 Q51.9875 1177.42 51.9875 1168.69 Q51.9875 1159.94 55.043 1155.36 Q58.1217 1150.75 63.9319 1150.75 Z\" fill=\"#000000\" fill-rule=\"evenodd\" fill-opacity=\"1\" /><path clip-path=\"url(#clip660)\" d=\"M 0 0 M80.9457 1180.06 L85.8299 1180.06 L85.8299 1185.94 L80.9457 1185.94 L80.9457 1180.06 Z\" fill=\"#000000\" fill-rule=\"evenodd\" fill-opacity=\"1\" /><path clip-path=\"url(#clip660)\" d=\"M 0 0 M90.9456 1151.38 L109.302 1151.38 L109.302 1155.31 L95.228 1155.31 L95.228 1163.79 Q96.2465 1163.44 97.265 1163.28 Q98.2835 1163.09 99.3021 1163.09 Q105.089 1163.09 108.469 1166.26 Q111.848 1169.43 111.848 1174.85 Q111.848 1180.43 108.376 1183.53 Q104.904 1186.61 98.5845 1186.61 Q96.4085 1186.61 94.14 1186.24 Q91.8947 1185.87 89.4873 1185.13 L89.4873 1180.43 Q91.5706 1181.56 93.7928 1182.12 Q96.015 1182.68 98.4919 1182.68 Q102.496 1182.68 104.834 1180.57 Q107.172 1178.46 107.172 1174.85 Q107.172 1171.24 104.834 1169.13 Q102.496 1167.03 98.4919 1167.03 Q96.6169 1167.03 94.7419 1167.44 Q92.89 1167.86 90.9456 1168.74 L90.9456 1151.38 Z\" fill=\"#000000\" fill-rule=\"evenodd\" fill-opacity=\"1\" /><path clip-path=\"url(#clip660)\" d=\"M 0 0 M54.9736 902.791 L62.6124 902.791 L62.6124 876.425 L54.3023 878.092 L54.3023 873.833 L62.5661 872.166 L67.242 872.166 L67.242 902.791 L74.8809 902.791 L74.8809 906.726 L54.9736 906.726 L54.9736 902.791 Z\" fill=\"#000000\" fill-rule=\"evenodd\" fill-opacity=\"1\" /><path clip-path=\"url(#clip660)\" d=\"M 0 0 M79.9503 900.846 L84.8345 900.846 L84.8345 906.726 L79.9503 906.726 L79.9503 900.846 Z\" fill=\"#000000\" fill-rule=\"evenodd\" fill-opacity=\"1\" /><path clip-path=\"url(#clip660)\" d=\"M 0 0 M99.9039 875.245 Q96.2928 875.245 94.4641 878.809 Q92.6586 882.351 92.6586 889.481 Q92.6586 896.587 94.4641 900.152 Q96.2928 903.693 99.9039 903.693 Q103.538 903.693 105.344 900.152 Q107.172 896.587 107.172 889.481 Q107.172 882.351 105.344 878.809 Q103.538 875.245 99.9039 875.245 M99.9039 871.541 Q105.714 871.541 108.77 876.147 Q111.848 880.731 111.848 889.481 Q111.848 898.207 108.77 902.814 Q105.714 907.397 99.9039 907.397 Q94.0937 907.397 91.0151 902.814 Q87.9595 898.207 87.9595 889.481 Q87.9595 880.731 91.0151 876.147 Q94.0937 871.541 99.9039 871.541 Z\" fill=\"#000000\" fill-rule=\"evenodd\" fill-opacity=\"1\" /><path clip-path=\"url(#clip660)\" d=\"M 0 0 M55.969 623.577 L63.6078 623.577 L63.6078 597.212 L55.2977 598.878 L55.2977 594.619 L63.5615 592.952 L68.2374 592.952 L68.2374 623.577 L75.8763 623.577 L75.8763 627.512 L55.969 627.512 L55.969 623.577 Z\" fill=\"#000000\" fill-rule=\"evenodd\" fill-opacity=\"1\" /><path clip-path=\"url(#clip660)\" d=\"M 0 0 M80.9457 621.633 L85.8299 621.633 L85.8299 627.512 L80.9457 627.512 L80.9457 621.633 Z\" fill=\"#000000\" fill-rule=\"evenodd\" fill-opacity=\"1\" /><path clip-path=\"url(#clip660)\" d=\"M 0 0 M90.9456 592.952 L109.302 592.952 L109.302 596.887 L95.228 596.887 L95.228 605.36 Q96.2465 605.012 97.265 604.85 Q98.2835 604.665 99.3021 604.665 Q105.089 604.665 108.469 607.836 Q111.848 611.008 111.848 616.424 Q111.848 622.003 108.376 625.105 Q104.904 628.184 98.5845 628.184 Q96.4085 628.184 94.14 627.813 Q91.8947 627.443 89.4873 626.702 L89.4873 622.003 Q91.5706 623.137 93.7928 623.693 Q96.015 624.248 98.4919 624.248 Q102.496 624.248 104.834 622.142 Q107.172 620.035 107.172 616.424 Q107.172 612.813 104.834 610.707 Q102.496 608.6 98.4919 608.6 Q96.6169 608.6 94.7419 609.017 Q92.89 609.434 90.9456 610.313 L90.9456 592.952 Z\" fill=\"#000000\" fill-rule=\"evenodd\" fill-opacity=\"1\" /><path clip-path=\"url(#clip660)\" d=\"M 0 0 M58.5615 344.363 L74.8809 344.363 L74.8809 348.299 L52.9366 348.299 L52.9366 344.363 Q55.5986 341.609 60.1819 336.979 Q64.7883 332.327 65.9689 330.984 Q68.2143 328.461 69.0939 326.725 Q69.9967 324.965 69.9967 323.276 Q69.9967 320.521 68.0522 318.785 Q66.1309 317.049 63.0291 317.049 Q60.83 317.049 58.3763 317.813 Q55.9458 318.577 53.168 320.128 L53.168 315.405 Q55.9921 314.271 58.4458 313.692 Q60.8995 313.114 62.9365 313.114 Q68.3068 313.114 71.5013 315.799 Q74.6957 318.484 74.6957 322.975 Q74.6957 325.104 73.8855 327.026 Q73.0985 328.924 70.992 331.516 Q70.4133 332.188 67.3115 335.405 Q64.2096 338.6 58.5615 344.363 Z\" fill=\"#000000\" fill-rule=\"evenodd\" fill-opacity=\"1\" /><path clip-path=\"url(#clip660)\" d=\"M 0 0 M79.9503 342.419 L84.8345 342.419 L84.8345 348.299 L79.9503 348.299 L79.9503 342.419 Z\" fill=\"#000000\" fill-rule=\"evenodd\" fill-opacity=\"1\" /><path clip-path=\"url(#clip660)\" d=\"M 0 0 M99.9039 316.817 Q96.2928 316.817 94.4641 320.382 Q92.6586 323.924 92.6586 331.053 Q92.6586 338.16 94.4641 341.725 Q96.2928 345.266 99.9039 345.266 Q103.538 345.266 105.344 341.725 Q107.172 338.16 107.172 331.053 Q107.172 323.924 105.344 320.382 Q103.538 316.817 99.9039 316.817 M99.9039 313.114 Q105.714 313.114 108.77 317.72 Q111.848 322.303 111.848 331.053 Q111.848 339.78 108.77 344.387 Q105.714 348.97 99.9039 348.97 Q94.0937 348.97 91.0151 344.387 Q87.9595 339.78 87.9595 331.053 Q87.9595 322.303 91.0151 317.72 Q94.0937 313.114 99.9039 313.114 Z\" fill=\"#000000\" fill-rule=\"evenodd\" fill-opacity=\"1\" /><path clip-path=\"url(#clip660)\" d=\"M 0 0 M766.016 12.096 L774.199 12.096 L774.199 72.576 L766.016 72.576 L766.016 12.096 Z\" fill=\"#000000\" fill-rule=\"evenodd\" fill-opacity=\"1\" /><path clip-path=\"url(#clip660)\" d=\"M 0 0 M819.731 45.1919 L819.731 72.576 L812.278 72.576 L812.278 45.4349 Q812.278 38.994 809.766 35.7938 Q807.255 32.5936 802.232 32.5936 Q796.196 32.5936 792.712 36.4419 Q789.228 40.2903 789.228 46.9338 L789.228 72.576 L781.734 72.576 L781.734 27.2059 L789.228 27.2059 L789.228 34.2544 Q791.902 30.163 795.507 28.1376 Q799.153 26.1121 803.892 26.1121 Q811.711 26.1121 815.721 30.9732 Q819.731 35.7938 819.731 45.1919 Z\" fill=\"#000000\" fill-rule=\"evenodd\" fill-opacity=\"1\" /><path clip-path=\"url(#clip660)\" d=\"M 0 0 M834.922 14.324 L834.922 27.2059 L850.275 27.2059 L850.275 32.9987 L834.922 32.9987 L834.922 57.6282 Q834.922 63.1779 836.421 64.7578 Q837.961 66.3376 842.619 66.3376 L850.275 66.3376 L850.275 72.576 L842.619 72.576 Q833.991 72.576 830.709 69.3758 Q827.428 66.1351 827.428 57.6282 L827.428 32.9987 L821.959 32.9987 L821.959 27.2059 L827.428 27.2059 L827.428 14.324 L834.922 14.324 Z\" fill=\"#000000\" fill-rule=\"evenodd\" fill-opacity=\"1\" /><path clip-path=\"url(#clip660)\" d=\"M 0 0 M896.901 48.0275 L896.901 51.6733 L862.631 51.6733 Q863.117 59.3701 867.249 63.421 Q871.421 67.4314 878.834 67.4314 Q883.128 67.4314 887.139 66.3781 Q891.189 65.3249 895.159 63.2184 L895.159 70.267 Q891.149 71.9684 886.936 72.8596 Q882.723 73.7508 878.389 73.7508 Q867.532 73.7508 861.172 67.4314 Q854.853 61.1119 854.853 50.3365 Q854.853 39.1965 860.848 32.6746 Q866.884 26.1121 877.092 26.1121 Q886.247 26.1121 891.554 32.0264 Q896.901 37.9003 896.901 48.0275 M889.448 45.84 Q889.367 39.7232 886.004 36.0774 Q882.683 32.4315 877.173 32.4315 Q870.935 32.4315 867.168 35.9558 Q863.441 39.4801 862.874 45.8805 L889.448 45.84 Z\" fill=\"#000000\" fill-rule=\"evenodd\" fill-opacity=\"1\" /><path clip-path=\"url(#clip660)\" d=\"M 0 0 M934.575 49.3643 Q934.575 41.2625 931.212 36.8065 Q927.891 32.3505 921.855 32.3505 Q915.859 32.3505 912.497 36.8065 Q909.175 41.2625 909.175 49.3643 Q909.175 57.4256 912.497 61.8816 Q915.859 66.3376 921.855 66.3376 Q927.891 66.3376 931.212 61.8816 Q934.575 57.4256 934.575 49.3643 M942.028 66.9452 Q942.028 78.5308 936.884 84.1616 Q931.739 89.8329 921.126 89.8329 Q917.196 89.8329 913.712 89.2252 Q910.229 88.6581 906.947 87.4428 L906.947 80.1917 Q910.229 81.9741 913.429 82.8248 Q916.629 83.6755 919.951 83.6755 Q927.283 83.6755 930.929 79.8271 Q934.575 76.0193 934.575 68.282 L934.575 64.5957 Q932.266 68.6061 928.66 70.5911 Q925.055 72.576 920.032 72.576 Q911.687 72.576 906.583 66.2161 Q901.479 59.8562 901.479 49.3643 Q901.479 38.832 906.583 32.472 Q911.687 26.1121 920.032 26.1121 Q925.055 26.1121 928.66 28.0971 Q932.266 30.082 934.575 34.0924 L934.575 27.2059 L942.028 27.2059 L942.028 66.9452 Z\" fill=\"#000000\" fill-rule=\"evenodd\" fill-opacity=\"1\" /><path clip-path=\"url(#clip660)\" d=\"M 0 0 M976.137 34.1734 Q974.881 33.4443 973.382 33.1202 Q971.924 32.7556 970.142 32.7556 Q963.822 32.7556 960.419 36.8875 Q957.057 40.9789 957.057 48.6757 L957.057 72.576 L949.563 72.576 L949.563 27.2059 L957.057 27.2059 L957.057 34.2544 Q959.407 30.1225 963.174 28.1376 Q966.941 26.1121 972.329 26.1121 Q973.099 26.1121 974.03 26.2337 Q974.962 26.3147 976.096 26.5172 L976.137 34.1734 Z\" fill=\"#000000\" fill-rule=\"evenodd\" fill-opacity=\"1\" /><path clip-path=\"url(#clip660)\" d=\"M 0 0 M1004.57 49.7694 Q995.541 49.7694 992.057 51.8354 Q988.573 53.9013 988.573 58.8839 Q988.573 62.8538 991.166 65.2034 Q993.799 67.5124 998.295 67.5124 Q1004.49 67.5124 1008.22 63.1374 Q1011.99 58.7219 1011.99 51.4303 L1011.99 49.7694 L1004.57 49.7694 M1019.44 46.6907 L1019.44 72.576 L1011.99 72.576 L1011.99 65.6895 Q1009.44 69.8214 1005.63 71.8063 Q1001.82 73.7508 996.31 73.7508 Q989.343 73.7508 985.211 69.8619 Q981.12 65.9325 981.12 59.3701 Q981.12 51.7138 986.224 47.825 Q991.368 43.9361 1001.54 43.9361 L1011.99 43.9361 L1011.99 43.2069 Q1011.99 38.0623 1008.58 35.2672 Q1005.22 32.4315 999.106 32.4315 Q995.217 32.4315 991.53 33.3632 Q987.844 34.295 984.441 36.1584 L984.441 29.2718 Q988.533 27.692 992.381 26.9223 Q996.229 26.1121 999.875 26.1121 Q1009.72 26.1121 1014.58 31.2163 Q1019.44 36.3204 1019.44 46.6907 Z\" fill=\"#000000\" fill-rule=\"evenodd\" fill-opacity=\"1\" /><path clip-path=\"url(#clip660)\" d=\"M 0 0 M1027.26 9.54393 L1034.71 9.54393 L1034.71 72.576 L1027.26 72.576 L1027.26 9.54393 Z\" fill=\"#000000\" fill-rule=\"evenodd\" fill-opacity=\"1\" /><path clip-path=\"url(#clip660)\" d=\"M 0 0 M1081.34 48.0275 L1081.34 51.6733 L1047.07 51.6733 Q1047.55 59.3701 1051.69 63.421 Q1055.86 67.4314 1063.27 67.4314 Q1067.57 67.4314 1071.58 66.3781 Q1075.63 65.3249 1079.6 63.2184 L1079.6 70.267 Q1075.59 71.9684 1071.37 72.8596 Q1067.16 73.7508 1062.83 73.7508 Q1051.97 73.7508 1045.61 67.4314 Q1039.29 61.1119 1039.29 50.3365 Q1039.29 39.1965 1045.29 32.6746 Q1051.32 26.1121 1061.53 26.1121 Q1070.69 26.1121 1075.99 32.0264 Q1081.34 37.9003 1081.34 48.0275 M1073.89 45.84 Q1073.8 39.7232 1070.44 36.0774 Q1067.12 32.4315 1061.61 32.4315 Q1055.37 32.4315 1051.61 35.9558 Q1047.88 39.4801 1047.31 45.8805 L1073.89 45.84 Z\" fill=\"#000000\" fill-rule=\"evenodd\" fill-opacity=\"1\" /><path clip-path=\"url(#clip660)\" d=\"M 0 0 M1118.08 28.5427 L1118.08 35.5912 Q1114.92 33.9709 1111.52 33.1607 Q1108.12 32.3505 1104.47 32.3505 Q1098.92 32.3505 1096.12 34.0519 Q1093.37 35.7533 1093.37 39.156 Q1093.37 41.7486 1095.36 43.2475 Q1097.34 44.7058 1103.34 46.0426 L1105.89 46.6097 Q1113.83 48.3111 1117.15 51.4303 Q1120.51 54.509 1120.51 60.0587 Q1120.51 66.3781 1115.49 70.0644 Q1110.51 73.7508 1101.76 73.7508 Q1098.11 73.7508 1094.14 73.0216 Q1090.21 72.3329 1085.84 70.9151 L1085.84 63.2184 Q1089.97 65.3654 1093.98 66.4591 Q1097.99 67.5124 1101.92 67.5124 Q1107.18 67.5124 1110.02 65.73 Q1112.85 63.9071 1112.85 60.6258 Q1112.85 57.5877 1110.79 55.9673 Q1108.76 54.3469 1101.84 52.8481 L1099.24 52.2405 Q1092.32 50.7821 1089.24 47.7845 Q1086.16 44.7463 1086.16 39.4801 Q1086.16 33.0797 1090.7 29.5959 Q1095.23 26.1121 1103.58 26.1121 Q1107.71 26.1121 1111.36 26.7198 Q1115 27.3274 1118.08 28.5427 Z\" fill=\"#000000\" fill-rule=\"evenodd\" fill-opacity=\"1\" /><path clip-path=\"url(#clip660)\" d=\"M 0 0 M1187.35 28.9478 L1187.35 35.9153 Q1184.19 34.1734 1180.99 33.3227 Q1177.83 32.4315 1174.59 32.4315 Q1167.34 32.4315 1163.33 37.0496 Q1159.32 41.6271 1159.32 49.9314 Q1159.32 58.2358 1163.33 62.8538 Q1167.34 67.4314 1174.59 67.4314 Q1177.83 67.4314 1180.99 66.5807 Q1184.19 65.6895 1187.35 63.9476 L1187.35 70.8341 Q1184.23 72.2924 1180.87 73.0216 Q1177.55 73.7508 1173.78 73.7508 Q1163.53 73.7508 1157.5 67.3098 Q1151.46 60.8689 1151.46 49.9314 Q1151.46 38.832 1157.54 32.472 Q1163.65 26.1121 1174.27 26.1121 Q1177.71 26.1121 1180.99 26.8413 Q1184.27 27.5299 1187.35 28.9478 Z\" fill=\"#000000\" fill-rule=\"evenodd\" fill-opacity=\"1\" /><path clip-path=\"url(#clip660)\" d=\"M 0 0 M1212.75 32.4315 Q1206.75 32.4315 1203.27 37.1306 Q1199.79 41.7891 1199.79 49.9314 Q1199.79 58.0738 1203.23 62.7728 Q1206.71 67.4314 1212.75 67.4314 Q1218.71 67.4314 1222.19 62.7323 Q1225.67 58.0333 1225.67 49.9314 Q1225.67 41.8701 1222.19 37.1711 Q1218.71 32.4315 1212.75 32.4315 M1212.75 26.1121 Q1222.47 26.1121 1228.02 32.4315 Q1233.57 38.7509 1233.57 49.9314 Q1233.57 61.0714 1228.02 67.4314 Q1222.47 73.7508 1212.75 73.7508 Q1202.99 73.7508 1197.44 67.4314 Q1191.93 61.0714 1191.93 49.9314 Q1191.93 38.7509 1197.44 32.4315 Q1202.99 26.1121 1212.75 26.1121 Z\" fill=\"#000000\" fill-rule=\"evenodd\" fill-opacity=\"1\" /><path clip-path=\"url(#clip660)\" d=\"M 0 0 M1276.71 35.9153 Q1279.51 30.8922 1283.4 28.5022 Q1287.29 26.1121 1292.55 26.1121 Q1299.64 26.1121 1303.49 31.0947 Q1307.34 36.0368 1307.34 45.1919 L1307.34 72.576 L1299.84 72.576 L1299.84 45.4349 Q1299.84 38.913 1297.54 35.7533 Q1295.23 32.5936 1290.49 32.5936 Q1284.69 32.5936 1281.33 36.4419 Q1277.97 40.2903 1277.97 46.9338 L1277.97 72.576 L1270.48 72.576 L1270.48 45.4349 Q1270.48 38.8725 1268.17 35.7533 Q1265.86 32.5936 1261.04 32.5936 Q1255.33 32.5936 1251.96 36.4824 Q1248.6 40.3308 1248.6 46.9338 L1248.6 72.576 L1241.11 72.576 L1241.11 27.2059 L1248.6 27.2059 L1248.6 34.2544 Q1251.15 30.082 1254.72 28.0971 Q1258.28 26.1121 1263.18 26.1121 Q1268.13 26.1121 1271.57 28.6237 Q1275.05 31.1352 1276.71 35.9153 Z\" fill=\"#000000\" fill-rule=\"evenodd\" fill-opacity=\"1\" /><path clip-path=\"url(#clip660)\" d=\"M 0 0 M1332.74 32.4315 Q1326.74 32.4315 1323.26 37.1306 Q1319.78 41.7891 1319.78 49.9314 Q1319.78 58.0738 1323.22 62.7728 Q1326.7 67.4314 1332.74 67.4314 Q1338.69 67.4314 1342.18 62.7323 Q1345.66 58.0333 1345.66 49.9314 Q1345.66 41.8701 1342.18 37.1711 Q1338.69 32.4315 1332.74 32.4315 M1332.74 26.1121 Q1342.46 26.1121 1348.01 32.4315 Q1353.56 38.7509 1353.56 49.9314 Q1353.56 61.0714 1348.01 67.4314 Q1342.46 73.7508 1332.74 73.7508 Q1322.98 73.7508 1317.43 67.4314 Q1311.92 61.0714 1311.92 49.9314 Q1311.92 38.7509 1317.43 32.4315 Q1322.98 26.1121 1332.74 26.1121 Z\" fill=\"#000000\" fill-rule=\"evenodd\" fill-opacity=\"1\" /><path clip-path=\"url(#clip660)\" d=\"M 0 0 M1410.72 9.54393 L1410.72 15.7418 L1403.59 15.7418 Q1399.58 15.7418 1398 17.3622 Q1396.46 18.9825 1396.46 23.1955 L1396.46 27.2059 L1408.73 27.2059 L1408.73 32.9987 L1396.46 32.9987 L1396.46 72.576 L1388.96 72.576 L1388.96 32.9987 L1381.83 32.9987 L1381.83 27.2059 L1388.96 27.2059 L1388.96 24.0462 Q1388.96 16.471 1392.49 13.0277 Q1396.01 9.54393 1403.67 9.54393 L1410.72 9.54393 Z\" fill=\"#000000\" fill-rule=\"evenodd\" fill-opacity=\"1\" /><path clip-path=\"url(#clip660)\" d=\"M 0 0 M1417.77 54.671 L1417.77 27.2059 L1425.22 27.2059 L1425.22 54.3874 Q1425.22 60.8284 1427.73 64.0691 Q1430.24 67.2693 1435.27 67.2693 Q1441.3 67.2693 1444.79 63.421 Q1448.31 59.5726 1448.31 52.9291 L1448.31 27.2059 L1455.76 27.2059 L1455.76 72.576 L1448.31 72.576 L1448.31 65.6084 Q1445.6 69.7404 1441.99 71.7658 Q1438.43 73.7508 1433.69 73.7508 Q1425.87 73.7508 1421.82 68.8897 Q1417.77 64.0286 1417.77 54.671 M1436.52 26.1121 L1436.52 26.1121 Z\" fill=\"#000000\" fill-rule=\"evenodd\" fill-opacity=\"1\" /><path clip-path=\"url(#clip660)\" d=\"M 0 0 M1501.3 45.1919 L1501.3 72.576 L1493.84 72.576 L1493.84 45.4349 Q1493.84 38.994 1491.33 35.7938 Q1488.82 32.5936 1483.8 32.5936 Q1477.76 32.5936 1474.28 36.4419 Q1470.79 40.2903 1470.79 46.9338 L1470.79 72.576 L1463.3 72.576 L1463.3 27.2059 L1470.79 27.2059 L1470.79 34.2544 Q1473.47 30.163 1477.07 28.1376 Q1480.72 26.1121 1485.46 26.1121 Q1493.28 26.1121 1497.29 30.9732 Q1501.3 35.7938 1501.3 45.1919 Z\" fill=\"#000000\" fill-rule=\"evenodd\" fill-opacity=\"1\" /><path clip-path=\"url(#clip660)\" d=\"M 0 0 M1541.76 28.9478 L1541.76 35.9153 Q1538.6 34.1734 1535.4 33.3227 Q1532.25 32.4315 1529 32.4315 Q1521.75 32.4315 1517.74 37.0496 Q1513.73 41.6271 1513.73 49.9314 Q1513.73 58.2358 1517.74 62.8538 Q1521.75 67.4314 1529 67.4314 Q1532.25 67.4314 1535.4 66.5807 Q1538.6 65.6895 1541.76 63.9476 L1541.76 70.8341 Q1538.65 72.2924 1535.28 73.0216 Q1531.96 73.7508 1528.19 73.7508 Q1517.95 73.7508 1511.91 67.3098 Q1505.87 60.8689 1505.87 49.9314 Q1505.87 38.832 1511.95 32.472 Q1518.07 26.1121 1528.68 26.1121 Q1532.12 26.1121 1535.4 26.8413 Q1538.69 27.5299 1541.76 28.9478 Z\" fill=\"#000000\" fill-rule=\"evenodd\" fill-opacity=\"1\" /><path clip-path=\"url(#clip660)\" d=\"M 0 0 M1549.58 27.2059 L1557.04 27.2059 L1557.04 72.576 L1549.58 72.576 L1549.58 27.2059 M1549.58 9.54393 L1557.04 9.54393 L1557.04 18.9825 L1549.58 18.9825 L1549.58 9.54393 Z\" fill=\"#000000\" fill-rule=\"evenodd\" fill-opacity=\"1\" /><path clip-path=\"url(#clip660)\" d=\"M 0 0 M1582.44 32.4315 Q1576.44 32.4315 1572.96 37.1306 Q1569.47 41.7891 1569.47 49.9314 Q1569.47 58.0738 1572.92 62.7728 Q1576.4 67.4314 1582.44 67.4314 Q1588.39 67.4314 1591.87 62.7323 Q1595.36 58.0333 1595.36 49.9314 Q1595.36 41.8701 1591.87 37.1711 Q1588.39 32.4315 1582.44 32.4315 M1582.44 26.1121 Q1592.16 26.1121 1597.71 32.4315 Q1603.26 38.7509 1603.26 49.9314 Q1603.26 61.0714 1597.71 67.4314 Q1592.16 73.7508 1582.44 73.7508 Q1572.67 73.7508 1567.12 67.4314 Q1561.61 61.0714 1561.61 49.9314 Q1561.61 38.7509 1567.12 32.4315 Q1572.67 26.1121 1582.44 26.1121 Z\" fill=\"#000000\" fill-rule=\"evenodd\" fill-opacity=\"1\" /><path clip-path=\"url(#clip660)\" d=\"M 0 0 M1648.79 45.1919 L1648.79 72.576 L1641.34 72.576 L1641.34 45.4349 Q1641.34 38.994 1638.82 35.7938 Q1636.31 32.5936 1631.29 32.5936 Q1625.25 32.5936 1621.77 36.4419 Q1618.29 40.2903 1618.29 46.9338 L1618.29 72.576 L1610.79 72.576 L1610.79 27.2059 L1618.29 27.2059 L1618.29 34.2544 Q1620.96 30.163 1624.57 28.1376 Q1628.21 26.1121 1632.95 26.1121 Q1640.77 26.1121 1644.78 30.9732 Q1648.79 35.7938 1648.79 45.1919 Z\" fill=\"#000000\" fill-rule=\"evenodd\" fill-opacity=\"1\" /><path clip-path=\"url(#clip660)\" d=\"M 0 0 M1695.42 48.0275 L1695.42 51.6733 L1661.14 51.6733 Q1661.63 59.3701 1665.76 63.421 Q1669.94 67.4314 1677.35 67.4314 Q1681.64 67.4314 1685.65 66.3781 Q1689.7 65.3249 1693.67 63.2184 L1693.67 70.267 Q1689.66 71.9684 1685.45 72.8596 Q1681.24 73.7508 1676.9 73.7508 Q1666.05 73.7508 1659.69 67.4314 Q1653.37 61.1119 1653.37 50.3365 Q1653.37 39.1965 1659.36 32.6746 Q1665.4 26.1121 1675.61 26.1121 Q1684.76 26.1121 1690.07 32.0264 Q1695.42 37.9003 1695.42 48.0275 M1687.96 45.84 Q1687.88 39.7232 1684.52 36.0774 Q1681.2 32.4315 1675.69 32.4315 Q1669.45 32.4315 1665.68 35.9558 Q1661.95 39.4801 1661.39 45.8805 L1687.96 45.84 Z\" fill=\"#000000\" fill-rule=\"evenodd\" fill-opacity=\"1\" /><path clip-path=\"url(#clip660)\" d=\"M 0 0 M1732.16 28.5427 L1732.16 35.5912 Q1729 33.9709 1725.59 33.1607 Q1722.19 32.3505 1718.55 32.3505 Q1713 32.3505 1710.2 34.0519 Q1707.45 35.7533 1707.45 39.156 Q1707.45 41.7486 1709.43 43.2475 Q1711.42 44.7058 1717.41 46.0426 L1719.96 46.6097 Q1727.9 48.3111 1731.23 51.4303 Q1734.59 54.509 1734.59 60.0587 Q1734.59 66.3781 1729.56 70.0644 Q1724.58 73.7508 1715.83 73.7508 Q1712.19 73.7508 1708.22 73.0216 Q1704.29 72.3329 1699.91 70.9151 L1699.91 63.2184 Q1704.04 65.3654 1708.05 66.4591 Q1712.06 67.5124 1715.99 67.5124 Q1721.26 67.5124 1724.1 65.73 Q1726.93 63.9071 1726.93 60.6258 Q1726.93 57.5877 1724.87 55.9673 Q1722.84 54.3469 1715.91 52.8481 L1713.32 52.2405 Q1706.39 50.7821 1703.31 47.7845 Q1700.24 44.7463 1700.24 39.4801 Q1700.24 33.0797 1704.77 29.5959 Q1709.31 26.1121 1717.65 26.1121 Q1721.79 26.1121 1725.43 26.7198 Q1729.08 27.3274 1732.16 28.5427 Z\" fill=\"#000000\" fill-rule=\"evenodd\" fill-opacity=\"1\" /><polyline clip-path=\"url(#clip662)\" style=\"stroke:#009af9; stroke-width:4; stroke-opacity:1; fill:none\" points=\"\n",
       "  210.251,1447.87 231.262,1399.28 252.274,1354.59 273.285,1313.2 294.296,1274.67 315.307,1238.63 336.318,1204.78 357.329,1172.86 378.34,1142.67 399.351,1114.02 \n",
       "  420.363,1086.78 441.374,1060.8 462.385,1035.98 483.396,1012.21 504.407,989.415 525.418,967.513 546.429,946.438 567.44,926.129 588.452,906.533 609.463,887.602 \n",
       "  630.474,869.291 651.485,851.562 672.496,834.378 693.507,817.707 714.518,801.52 735.529,785.789 756.541,770.488 777.552,755.596 798.563,741.091 819.574,726.952 \n",
       "  840.585,713.163 861.596,699.707 882.607,686.567 903.619,673.729 924.63,661.179 945.641,648.906 966.652,636.896 987.663,625.139 1008.67,613.625 1029.69,602.343 \n",
       "  1050.7,591.285 1071.71,580.441 1092.72,569.804 1113.73,559.366 1134.74,549.119 1155.75,539.057 1176.76,529.173 1197.77,519.461 1218.79,509.915 1239.8,500.53 \n",
       "  1260.81,491.299 1281.82,482.219 1302.83,473.284 1323.84,464.49 1344.85,455.832 1365.86,447.306 1386.87,438.908 1407.89,430.635 1428.9,422.483 1449.91,414.448 \n",
       "  1470.92,406.527 1491.93,398.716 1512.94,391.014 1533.95,383.416 1554.96,375.92 1575.97,368.524 1596.99,361.224 1618,354.018 1639.01,346.904 1660.02,339.88 \n",
       "  1681.03,332.943 1702.04,326.091 1723.05,319.322 1744.06,312.634 1765.07,306.026 1786.09,299.494 1807.1,293.038 1828.11,286.656 1849.12,280.346 1870.13,274.107 \n",
       "  1891.14,267.936 1912.15,261.833 1933.16,255.796 1954.17,249.824 1975.19,243.914 1996.2,238.067 2017.21,232.28 2038.22,226.552 2059.23,220.883 2080.24,215.271 \n",
       "  2101.25,209.714 2122.26,204.212 2143.27,198.764 2164.29,193.369 2185.3,188.025 2206.31,182.732 2227.32,177.488 2248.33,172.294 2269.34,167.147 2290.35,162.047 \n",
       "  \n",
       "  \"/>\n",
       "<polyline clip-path=\"url(#clip662)\" style=\"stroke:#e26f46; stroke-width:4; stroke-opacity:1; fill:none\" points=\"\n",
       "  210.251,1447.87 231.262,1399.3 252.274,1354.66 273.285,1313.36 294.296,1274.94 315.307,1239.03 336.318,1205.32 357.329,1173.55 378.34,1143.52 399.351,1115.05 \n",
       "  420.363,1087.98 441.374,1062.19 462.385,1037.56 483.396,1013.99 504.407,991.399 525.418,969.703 546.429,948.837 567.44,928.74 588.452,909.359 609.463,890.644 \n",
       "  630.474,872.553 651.485,855.045 672.496,838.084 693.507,821.638 714.518,805.677 735.529,790.174 756.541,775.102 777.552,760.44 798.563,746.165 819.574,732.259 \n",
       "  840.585,718.703 861.596,705.48 882.607,692.574 903.619,679.972 924.63,667.658 945.641,655.621 966.652,643.848 987.663,632.329 1008.67,621.052 1029.69,610.009 \n",
       "  1050.7,599.189 1071.71,588.585 1092.72,578.187 1113.73,567.989 1134.74,557.983 1155.75,548.161 1176.76,538.518 1197.77,529.047 1218.79,519.742 1239.8,510.598 \n",
       "  1260.81,501.609 1281.82,492.771 1302.83,484.078 1323.84,475.526 1344.85,467.11 1365.86,458.827 1386.87,450.672 1407.89,442.641 1428.9,434.732 1449.91,426.94 \n",
       "  1470.92,419.262 1491.93,411.695 1512.94,404.235 1533.95,396.881 1554.96,389.629 1575.97,382.476 1596.99,375.419 1618,368.457 1639.01,361.587 1660.02,354.807 \n",
       "  1681.03,348.113 1702.04,341.505 1723.05,334.98 1744.06,328.536 1765.07,322.171 1786.09,315.884 1807.1,309.672 1828.11,303.534 1849.12,297.468 1870.13,291.472 \n",
       "  1891.14,285.546 1912.15,279.687 1933.16,273.894 1954.17,268.165 1975.19,262.5 1996.2,256.896 2017.21,251.353 2038.22,245.87 2059.23,240.444 2080.24,235.076 \n",
       "  2101.25,229.763 2122.26,224.505 2143.27,219.301 2164.29,214.15 2185.3,209.05 2206.31,204 2227.32,199 2248.33,194.05 2269.34,189.146 2290.35,184.29 \n",
       "  \n",
       "  \"/>\n",
       "<path clip-path=\"url(#clip660)\" d=\"\n",
       "M1358.23 350.345 L2279.26 350.345 L2279.26 168.905 L1358.23 168.905  Z\n",
       "  \" fill=\"#ffffff\" fill-rule=\"evenodd\" fill-opacity=\"1\"/>\n",
       "<polyline clip-path=\"url(#clip660)\" style=\"stroke:#000000; stroke-width:4; stroke-opacity:1; fill:none\" points=\"\n",
       "  1358.23,350.345 2279.26,350.345 2279.26,168.905 1358.23,168.905 1358.23,350.345 \n",
       "  \"/>\n",
       "<polyline clip-path=\"url(#clip660)\" style=\"stroke:#009af9; stroke-width:4; stroke-opacity:1; fill:none\" points=\"\n",
       "  1382.73,229.385 1529.72,229.385 \n",
       "  \"/>\n",
       "<path clip-path=\"url(#clip660)\" d=\"M 0 0 M1554.22 212.105 L1558.9 212.105 L1558.9 242.729 L1575.73 242.729 L1575.73 246.665 L1554.22 246.665 L1554.22 212.105 Z\" fill=\"#000000\" fill-rule=\"evenodd\" fill-opacity=\"1\" /><path clip-path=\"url(#clip660)\" d=\"M 0 0 M1589.41 223.725 Q1585.98 223.725 1583.99 226.41 Q1582 229.072 1582 233.725 Q1582 238.378 1583.97 241.063 Q1585.96 243.725 1589.41 243.725 Q1592.81 243.725 1594.8 241.04 Q1596.79 238.355 1596.79 233.725 Q1596.79 229.118 1594.8 226.433 Q1592.81 223.725 1589.41 223.725 M1589.41 220.114 Q1594.96 220.114 1598.13 223.725 Q1601.31 227.336 1601.31 233.725 Q1601.31 240.091 1598.13 243.725 Q1594.96 247.336 1589.41 247.336 Q1583.83 247.336 1580.66 243.725 Q1577.51 240.091 1577.51 233.725 Q1577.51 227.336 1580.66 223.725 Q1583.83 220.114 1589.41 220.114 Z\" fill=\"#000000\" fill-rule=\"evenodd\" fill-opacity=\"1\" /><path clip-path=\"url(#clip660)\" d=\"M 0 0 M1622.83 233.401 Q1622.83 228.771 1620.91 226.225 Q1619.01 223.679 1615.57 223.679 Q1612.14 223.679 1610.22 226.225 Q1608.32 228.771 1608.32 233.401 Q1608.32 238.007 1610.22 240.554 Q1612.14 243.1 1615.57 243.1 Q1619.01 243.1 1620.91 240.554 Q1622.83 238.007 1622.83 233.401 M1627.09 243.447 Q1627.09 250.067 1624.15 253.285 Q1621.21 256.526 1615.15 256.526 Q1612.9 256.526 1610.91 256.178 Q1608.92 255.854 1607.05 255.16 L1607.05 251.016 Q1608.92 252.035 1610.75 252.521 Q1612.58 253.007 1614.48 253.007 Q1618.67 253.007 1620.75 250.808 Q1622.83 248.632 1622.83 244.211 L1622.83 242.104 Q1621.51 244.396 1619.45 245.53 Q1617.39 246.665 1614.52 246.665 Q1609.76 246.665 1606.84 243.03 Q1603.92 239.396 1603.92 233.401 Q1603.92 227.382 1606.84 223.748 Q1609.76 220.114 1614.52 220.114 Q1617.39 220.114 1619.45 221.248 Q1621.51 222.382 1622.83 224.674 L1622.83 220.739 L1627.09 220.739 L1627.09 243.447 Z\" fill=\"#000000\" fill-rule=\"evenodd\" fill-opacity=\"1\" /><path clip-path=\"url(#clip660)\" d=\"M 0 0 M1643.34 233.632 Q1638.18 233.632 1636.19 234.813 Q1634.2 235.993 1634.2 238.841 Q1634.2 241.109 1635.68 242.452 Q1637.19 243.771 1639.75 243.771 Q1643.3 243.771 1645.43 241.271 Q1647.58 238.748 1647.58 234.581 L1647.58 233.632 L1643.34 233.632 M1651.84 231.873 L1651.84 246.665 L1647.58 246.665 L1647.58 242.729 Q1646.12 245.091 1643.94 246.225 Q1641.77 247.336 1638.62 247.336 Q1634.64 247.336 1632.28 245.114 Q1629.94 242.868 1629.94 239.118 Q1629.94 234.743 1632.86 232.521 Q1635.8 230.299 1641.61 230.299 L1647.58 230.299 L1647.58 229.882 Q1647.58 226.943 1645.63 225.345 Q1643.71 223.725 1640.22 223.725 Q1638 223.725 1635.89 224.257 Q1633.78 224.79 1631.84 225.855 L1631.84 221.919 Q1634.18 221.017 1636.38 220.577 Q1638.57 220.114 1640.66 220.114 Q1646.28 220.114 1649.06 223.031 Q1651.84 225.947 1651.84 231.873 Z\" fill=\"#000000\" fill-rule=\"evenodd\" fill-opacity=\"1\" /><path clip-path=\"url(#clip660)\" d=\"M 0 0 M1671.33 224.72 Q1670.61 224.304 1669.75 224.118 Q1668.92 223.91 1667.9 223.91 Q1664.29 223.91 1662.35 226.271 Q1660.43 228.609 1660.43 233.007 L1660.43 246.665 L1656.14 246.665 L1656.14 220.739 L1660.43 220.739 L1660.43 224.767 Q1661.77 222.406 1663.92 221.271 Q1666.07 220.114 1669.15 220.114 Q1669.59 220.114 1670.13 220.183 Q1670.66 220.23 1671.31 220.345 L1671.33 224.72 Z\" fill=\"#000000\" fill-rule=\"evenodd\" fill-opacity=\"1\" /><path clip-path=\"url(#clip660)\" d=\"M 0 0 M1675.8 220.739 L1680.06 220.739 L1680.06 246.665 L1675.8 246.665 L1675.8 220.739 M1675.8 210.646 L1680.06 210.646 L1680.06 216.04 L1675.8 216.04 L1675.8 210.646 Z\" fill=\"#000000\" fill-rule=\"evenodd\" fill-opacity=\"1\" /><path clip-path=\"url(#clip660)\" d=\"M 0 0 M1688.74 213.378 L1688.74 220.739 L1697.51 220.739 L1697.51 224.049 L1688.74 224.049 L1688.74 238.123 Q1688.74 241.294 1689.59 242.197 Q1690.47 243.1 1693.13 243.1 L1697.51 243.1 L1697.51 246.665 L1693.13 246.665 Q1688.2 246.665 1686.33 244.836 Q1684.45 242.984 1684.45 238.123 L1684.45 224.049 L1681.33 224.049 L1681.33 220.739 L1684.45 220.739 L1684.45 213.378 L1688.74 213.378 Z\" fill=\"#000000\" fill-rule=\"evenodd\" fill-opacity=\"1\" /><path clip-path=\"url(#clip660)\" d=\"M 0 0 M1722.16 225.716 Q1723.76 222.845 1725.98 221.48 Q1728.2 220.114 1731.21 220.114 Q1735.26 220.114 1737.46 222.961 Q1739.66 225.785 1739.66 231.017 L1739.66 246.665 L1735.38 246.665 L1735.38 231.155 Q1735.38 227.429 1734.06 225.623 Q1732.74 223.818 1730.03 223.818 Q1726.72 223.818 1724.8 226.017 Q1722.88 228.216 1722.88 232.012 L1722.88 246.665 L1718.6 246.665 L1718.6 231.155 Q1718.6 227.405 1717.28 225.623 Q1715.96 223.818 1713.2 223.818 Q1709.94 223.818 1708.02 226.04 Q1706.1 228.239 1706.1 232.012 L1706.1 246.665 L1701.81 246.665 L1701.81 220.739 L1706.1 220.739 L1706.1 224.767 Q1707.56 222.382 1709.59 221.248 Q1711.63 220.114 1714.43 220.114 Q1717.25 220.114 1719.22 221.549 Q1721.21 222.984 1722.16 225.716 Z\" fill=\"#000000\" fill-rule=\"evenodd\" fill-opacity=\"1\" /><path clip-path=\"url(#clip660)\" d=\"M 0 0 M1754.18 223.725 Q1750.75 223.725 1748.76 226.41 Q1746.77 229.072 1746.77 233.725 Q1746.77 238.378 1748.74 241.063 Q1750.73 243.725 1754.18 243.725 Q1757.58 243.725 1759.57 241.04 Q1761.56 238.355 1761.56 233.725 Q1761.56 229.118 1759.57 226.433 Q1757.58 223.725 1754.18 223.725 M1754.18 220.114 Q1759.73 220.114 1762.9 223.725 Q1766.07 227.336 1766.07 233.725 Q1766.07 240.091 1762.9 243.725 Q1759.73 247.336 1754.18 247.336 Q1748.6 247.336 1745.43 243.725 Q1742.28 240.091 1742.28 233.725 Q1742.28 227.336 1745.43 223.725 Q1748.6 220.114 1754.18 220.114 Z\" fill=\"#000000\" fill-rule=\"evenodd\" fill-opacity=\"1\" /><path clip-path=\"url(#clip660)\" d=\"M 0 0 M1795.66 223.725 Q1792.23 223.725 1790.24 226.41 Q1788.25 229.072 1788.25 233.725 Q1788.25 238.378 1790.22 241.063 Q1792.21 243.725 1795.66 243.725 Q1799.06 243.725 1801.05 241.04 Q1803.04 238.355 1803.04 233.725 Q1803.04 229.118 1801.05 226.433 Q1799.06 223.725 1795.66 223.725 M1795.66 220.114 Q1801.21 220.114 1804.38 223.725 Q1807.55 227.336 1807.55 233.725 Q1807.55 240.091 1804.38 243.725 Q1801.21 247.336 1795.66 247.336 Q1790.08 247.336 1786.91 243.725 Q1783.76 240.091 1783.76 233.725 Q1783.76 227.336 1786.91 223.725 Q1790.08 220.114 1795.66 220.114 Z\" fill=\"#000000\" fill-rule=\"evenodd\" fill-opacity=\"1\" /><path clip-path=\"url(#clip660)\" d=\"M 0 0 M1827.05 224.72 Q1826.33 224.304 1825.47 224.118 Q1824.64 223.91 1823.62 223.91 Q1820.01 223.91 1818.06 226.271 Q1816.14 228.609 1816.14 233.007 L1816.14 246.665 L1811.86 246.665 L1811.86 220.739 L1816.14 220.739 L1816.14 224.767 Q1817.49 222.406 1819.64 221.271 Q1821.79 220.114 1824.87 220.114 Q1825.31 220.114 1825.84 220.183 Q1826.37 220.23 1827.02 220.345 L1827.05 224.72 Z\" fill=\"#000000\" fill-rule=\"evenodd\" fill-opacity=\"1\" /><path clip-path=\"url(#clip660)\" d=\"M 0 0 M1831.51 220.739 L1835.77 220.739 L1835.77 246.665 L1831.51 246.665 L1831.51 220.739 M1831.51 210.646 L1835.77 210.646 L1835.77 216.04 L1831.51 216.04 L1831.51 210.646 Z\" fill=\"#000000\" fill-rule=\"evenodd\" fill-opacity=\"1\" /><path clip-path=\"url(#clip660)\" d=\"M 0 0 M1857.3 233.401 Q1857.3 228.771 1855.38 226.225 Q1853.48 223.679 1850.03 223.679 Q1846.61 223.679 1844.68 226.225 Q1842.79 228.771 1842.79 233.401 Q1842.79 238.007 1844.68 240.554 Q1846.61 243.1 1850.03 243.1 Q1853.48 243.1 1855.38 240.554 Q1857.3 238.007 1857.3 233.401 M1861.56 243.447 Q1861.56 250.067 1858.62 253.285 Q1855.68 256.526 1849.61 256.526 Q1847.37 256.526 1845.38 256.178 Q1843.39 255.854 1841.51 255.16 L1841.51 251.016 Q1843.39 252.035 1845.22 252.521 Q1847.05 253.007 1848.94 253.007 Q1853.13 253.007 1855.22 250.808 Q1857.3 248.632 1857.3 244.211 L1857.3 242.104 Q1855.98 244.396 1853.92 245.53 Q1851.86 246.665 1848.99 246.665 Q1844.22 246.665 1841.3 243.03 Q1838.39 239.396 1838.39 233.401 Q1838.39 227.382 1841.3 223.748 Q1844.22 220.114 1848.99 220.114 Q1851.86 220.114 1853.92 221.248 Q1855.98 222.382 1857.3 224.674 L1857.3 220.739 L1861.56 220.739 L1861.56 243.447 Z\" fill=\"#000000\" fill-rule=\"evenodd\" fill-opacity=\"1\" /><path clip-path=\"url(#clip660)\" d=\"M 0 0 M1866.03 220.739 L1870.29 220.739 L1870.29 246.665 L1866.03 246.665 L1866.03 220.739 M1866.03 210.646 L1870.29 210.646 L1870.29 216.04 L1866.03 216.04 L1866.03 210.646 Z\" fill=\"#000000\" fill-rule=\"evenodd\" fill-opacity=\"1\" /><path clip-path=\"url(#clip660)\" d=\"M 0 0 M1896.3 231.017 L1896.3 246.665 L1892.05 246.665 L1892.05 231.155 Q1892.05 227.475 1890.61 225.646 Q1889.17 223.818 1886.3 223.818 Q1882.86 223.818 1880.86 226.017 Q1878.87 228.216 1878.87 232.012 L1878.87 246.665 L1874.59 246.665 L1874.59 220.739 L1878.87 220.739 L1878.87 224.767 Q1880.4 222.429 1882.46 221.271 Q1884.55 220.114 1887.25 220.114 Q1891.72 220.114 1894.01 222.892 Q1896.3 225.646 1896.3 231.017 Z\" fill=\"#000000\" fill-rule=\"evenodd\" fill-opacity=\"1\" /><path clip-path=\"url(#clip660)\" d=\"M 0 0 M1912.55 233.632 Q1907.39 233.632 1905.4 234.813 Q1903.41 235.993 1903.41 238.841 Q1903.41 241.109 1904.89 242.452 Q1906.4 243.771 1908.97 243.771 Q1912.51 243.771 1914.64 241.271 Q1916.79 238.748 1916.79 234.581 L1916.79 233.632 L1912.55 233.632 M1921.05 231.873 L1921.05 246.665 L1916.79 246.665 L1916.79 242.729 Q1915.33 245.091 1913.16 246.225 Q1910.98 247.336 1907.83 247.336 Q1903.85 247.336 1901.49 245.114 Q1899.15 242.868 1899.15 239.118 Q1899.15 234.743 1902.07 232.521 Q1905.01 230.299 1910.82 230.299 L1916.79 230.299 L1916.79 229.882 Q1916.79 226.943 1914.85 225.345 Q1912.92 223.725 1909.43 223.725 Q1907.21 223.725 1905.1 224.257 Q1902.99 224.79 1901.05 225.855 L1901.05 221.919 Q1903.39 221.017 1905.59 220.577 Q1907.79 220.114 1909.87 220.114 Q1915.49 220.114 1918.27 223.031 Q1921.05 225.947 1921.05 231.873 Z\" fill=\"#000000\" fill-rule=\"evenodd\" fill-opacity=\"1\" /><path clip-path=\"url(#clip660)\" d=\"M 0 0 M1925.52 210.646 L1929.78 210.646 L1929.78 246.665 L1925.52 246.665 L1925.52 210.646 Z\" fill=\"#000000\" fill-rule=\"evenodd\" fill-opacity=\"1\" /><polyline clip-path=\"url(#clip660)\" style=\"stroke:#e26f46; stroke-width:4; stroke-opacity:1; fill:none\" points=\"\n",
       "  1382.73,289.865 1529.72,289.865 \n",
       "  \"/>\n",
       "<path clip-path=\"url(#clip660)\" d=\"M 0 0 M1558.9 276.427 L1558.9 303.302 L1564.55 303.302 Q1571.7 303.302 1575.01 300.061 Q1578.34 296.821 1578.34 289.83 Q1578.34 282.886 1575.01 279.668 Q1571.7 276.427 1564.55 276.427 L1558.9 276.427 M1554.22 272.585 L1563.83 272.585 Q1573.88 272.585 1578.57 276.774 Q1583.27 280.941 1583.27 289.83 Q1583.27 298.765 1578.55 302.955 Q1573.83 307.145 1563.83 307.145 L1554.22 307.145 L1554.22 272.585 Z\" fill=\"#000000\" fill-rule=\"evenodd\" fill-opacity=\"1\" /><path clip-path=\"url(#clip660)\" d=\"M 0 0 M1609.92 293.117 L1609.92 295.2 L1590.33 295.2 Q1590.61 299.598 1592.97 301.913 Q1595.36 304.205 1599.59 304.205 Q1602.05 304.205 1604.34 303.603 Q1606.65 303.001 1608.92 301.797 L1608.92 305.825 Q1606.63 306.797 1604.22 307.307 Q1601.82 307.816 1599.34 307.816 Q1593.13 307.816 1589.5 304.205 Q1585.89 300.594 1585.89 294.436 Q1585.89 288.071 1589.32 284.344 Q1592.76 280.594 1598.6 280.594 Q1603.83 280.594 1606.86 283.973 Q1609.92 287.33 1609.92 293.117 M1605.66 291.867 Q1605.61 288.372 1603.69 286.288 Q1601.79 284.205 1598.64 284.205 Q1595.08 284.205 1592.93 286.219 Q1590.8 288.233 1590.47 291.89 L1605.66 291.867 Z\" fill=\"#000000\" fill-rule=\"evenodd\" fill-opacity=\"1\" /><path clip-path=\"url(#clip660)\" d=\"M 0 0 M1627.51 271.126 L1627.51 274.668 L1623.44 274.668 Q1621.14 274.668 1620.24 275.594 Q1619.36 276.52 1619.36 278.927 L1619.36 281.219 L1626.38 281.219 L1626.38 284.529 L1619.36 284.529 L1619.36 307.145 L1615.08 307.145 L1615.08 284.529 L1611.01 284.529 L1611.01 281.219 L1615.08 281.219 L1615.08 279.413 Q1615.08 275.085 1617.09 273.117 Q1619.11 271.126 1623.48 271.126 L1627.51 271.126 Z\" fill=\"#000000\" fill-rule=\"evenodd\" fill-opacity=\"1\" /><path clip-path=\"url(#clip660)\" d=\"M 0 0 M1631.98 281.219 L1636.24 281.219 L1636.24 307.145 L1631.98 307.145 L1631.98 281.219 M1631.98 271.126 L1636.24 271.126 L1636.24 276.52 L1631.98 276.52 L1631.98 271.126 Z\" fill=\"#000000\" fill-rule=\"evenodd\" fill-opacity=\"1\" /><path clip-path=\"url(#clip660)\" d=\"M 0 0 M1662.25 291.497 L1662.25 307.145 L1658 307.145 L1658 291.635 Q1658 287.955 1656.56 286.126 Q1655.13 284.298 1652.25 284.298 Q1648.81 284.298 1646.82 286.497 Q1644.82 288.696 1644.82 292.492 L1644.82 307.145 L1640.54 307.145 L1640.54 281.219 L1644.82 281.219 L1644.82 285.247 Q1646.35 282.909 1648.41 281.751 Q1650.5 280.594 1653.2 280.594 Q1657.67 280.594 1659.96 283.372 Q1662.25 286.126 1662.25 291.497 Z\" fill=\"#000000\" fill-rule=\"evenodd\" fill-opacity=\"1\" /><path clip-path=\"url(#clip660)\" d=\"M 0 0 M1666.72 281.219 L1670.98 281.219 L1670.98 307.145 L1666.72 307.145 L1666.72 281.219 M1666.72 271.126 L1670.98 271.126 L1670.98 276.52 L1666.72 276.52 L1666.72 271.126 Z\" fill=\"#000000\" fill-rule=\"evenodd\" fill-opacity=\"1\" /><path clip-path=\"url(#clip660)\" d=\"M 0 0 M1694.11 282.214 L1694.11 286.196 Q1692.3 285.2 1690.47 284.714 Q1688.67 284.205 1686.81 284.205 Q1682.67 284.205 1680.38 286.844 Q1678.09 289.46 1678.09 294.205 Q1678.09 298.95 1680.38 301.589 Q1682.67 304.205 1686.81 304.205 Q1688.67 304.205 1690.47 303.719 Q1692.3 303.209 1694.11 302.214 L1694.11 306.149 Q1692.32 306.983 1690.4 307.399 Q1688.5 307.816 1686.35 307.816 Q1680.5 307.816 1677.05 304.135 Q1673.6 300.455 1673.6 294.205 Q1673.6 287.862 1677.07 284.228 Q1680.56 280.594 1686.63 280.594 Q1688.6 280.594 1690.47 281.011 Q1692.35 281.404 1694.11 282.214 Z\" fill=\"#000000\" fill-rule=\"evenodd\" fill-opacity=\"1\" /><path clip-path=\"url(#clip660)\" d=\"M 0 0 M1698.57 281.219 L1702.83 281.219 L1702.83 307.145 L1698.57 307.145 L1698.57 281.219 M1698.57 271.126 L1702.83 271.126 L1702.83 276.52 L1698.57 276.52 L1698.57 271.126 Z\" fill=\"#000000\" fill-rule=\"evenodd\" fill-opacity=\"1\" /><path clip-path=\"url(#clip660)\" d=\"M 0 0 M1717.35 284.205 Q1713.92 284.205 1711.93 286.89 Q1709.94 289.552 1709.94 294.205 Q1709.94 298.858 1711.91 301.543 Q1713.9 304.205 1717.35 304.205 Q1720.75 304.205 1722.74 301.52 Q1724.73 298.835 1724.73 294.205 Q1724.73 289.598 1722.74 286.913 Q1720.75 284.205 1717.35 284.205 M1717.35 280.594 Q1722.9 280.594 1726.07 284.205 Q1729.25 287.816 1729.25 294.205 Q1729.25 300.571 1726.07 304.205 Q1722.9 307.816 1717.35 307.816 Q1711.77 307.816 1708.6 304.205 Q1705.45 300.571 1705.45 294.205 Q1705.45 287.816 1708.6 284.205 Q1711.77 280.594 1717.35 280.594 M1720.56 269.228 L1725.17 269.228 L1717.62 277.932 L1714.08 277.932 L1720.56 269.228 Z\" fill=\"#000000\" fill-rule=\"evenodd\" fill-opacity=\"1\" /><path clip-path=\"url(#clip660)\" d=\"M 0 0 M1755.26 291.497 L1755.26 307.145 L1751 307.145 L1751 291.635 Q1751 287.955 1749.57 286.126 Q1748.13 284.298 1745.26 284.298 Q1741.81 284.298 1739.82 286.497 Q1737.83 288.696 1737.83 292.492 L1737.83 307.145 L1733.55 307.145 L1733.55 281.219 L1737.83 281.219 L1737.83 285.247 Q1739.36 282.909 1741.42 281.751 Q1743.5 280.594 1746.21 280.594 Q1750.68 280.594 1752.97 283.372 Q1755.26 286.126 1755.26 291.497 Z\" fill=\"#000000\" fill-rule=\"evenodd\" fill-opacity=\"1\" /><path clip-path=\"url(#clip660)\" d=\"M 0 0 M1793.46 282.214 L1793.46 286.196 Q1791.65 285.2 1789.82 284.714 Q1788.02 284.205 1786.17 284.205 Q1782.02 284.205 1779.73 286.844 Q1777.44 289.46 1777.44 294.205 Q1777.44 298.95 1779.73 301.589 Q1782.02 304.205 1786.17 304.205 Q1788.02 304.205 1789.82 303.719 Q1791.65 303.209 1793.46 302.214 L1793.46 306.149 Q1791.68 306.983 1789.75 307.399 Q1787.86 307.816 1785.7 307.816 Q1779.85 307.816 1776.4 304.135 Q1772.95 300.455 1772.95 294.205 Q1772.95 287.862 1776.42 284.228 Q1779.92 280.594 1785.98 280.594 Q1787.95 280.594 1789.82 281.011 Q1791.7 281.404 1793.46 282.214 Z\" fill=\"#000000\" fill-rule=\"evenodd\" fill-opacity=\"1\" /><path clip-path=\"url(#clip660)\" d=\"M 0 0 M1807.97 284.205 Q1804.55 284.205 1802.55 286.89 Q1800.56 289.552 1800.56 294.205 Q1800.56 298.858 1802.53 301.543 Q1804.52 304.205 1807.97 304.205 Q1811.37 304.205 1813.37 301.52 Q1815.36 298.835 1815.36 294.205 Q1815.36 289.598 1813.37 286.913 Q1811.37 284.205 1807.97 284.205 M1807.97 280.594 Q1813.53 280.594 1816.7 284.205 Q1819.87 287.816 1819.87 294.205 Q1819.87 300.571 1816.7 304.205 Q1813.53 307.816 1807.97 307.816 Q1802.39 307.816 1799.22 304.205 Q1796.07 300.571 1796.07 294.205 Q1796.07 287.816 1799.22 284.205 Q1802.39 280.594 1807.97 280.594 Z\" fill=\"#000000\" fill-rule=\"evenodd\" fill-opacity=\"1\" /><path clip-path=\"url(#clip660)\" d=\"M 0 0 M1845.89 291.497 L1845.89 307.145 L1841.63 307.145 L1841.63 291.635 Q1841.63 287.955 1840.19 286.126 Q1838.76 284.298 1835.89 284.298 Q1832.44 284.298 1830.45 286.497 Q1828.46 288.696 1828.46 292.492 L1828.46 307.145 L1824.18 307.145 L1824.18 281.219 L1828.46 281.219 L1828.46 285.247 Q1829.99 282.909 1832.05 281.751 Q1834.13 280.594 1836.84 280.594 Q1841.3 280.594 1843.6 283.372 Q1845.89 286.126 1845.89 291.497 Z\" fill=\"#000000\" fill-rule=\"evenodd\" fill-opacity=\"1\" /><path clip-path=\"url(#clip660)\" d=\"M 0 0 M1865.43 281.219 L1869.68 281.219 L1869.68 307.145 L1865.43 307.145 L1865.43 281.219 M1865.43 271.126 L1869.68 271.126 L1869.68 276.52 L1865.43 276.52 L1865.43 271.126 Z\" fill=\"#000000\" fill-rule=\"evenodd\" fill-opacity=\"1\" /><path clip-path=\"url(#clip660)\" d=\"M 0 0 M1895.7 291.497 L1895.7 307.145 L1891.44 307.145 L1891.44 291.635 Q1891.44 287.955 1890.01 286.126 Q1888.57 284.298 1885.7 284.298 Q1882.25 284.298 1880.26 286.497 Q1878.27 288.696 1878.27 292.492 L1878.27 307.145 L1873.99 307.145 L1873.99 281.219 L1878.27 281.219 L1878.27 285.247 Q1879.8 282.909 1881.86 281.751 Q1883.94 280.594 1886.65 280.594 Q1891.12 280.594 1893.41 283.372 Q1895.7 286.126 1895.7 291.497 Z\" fill=\"#000000\" fill-rule=\"evenodd\" fill-opacity=\"1\" /><path clip-path=\"url(#clip660)\" d=\"M 0 0 M1904.38 273.858 L1904.38 281.219 L1913.16 281.219 L1913.16 284.529 L1904.38 284.529 L1904.38 298.603 Q1904.38 301.774 1905.24 302.677 Q1906.12 303.58 1908.78 303.58 L1913.16 303.58 L1913.16 307.145 L1908.78 307.145 Q1903.85 307.145 1901.98 305.316 Q1900.1 303.464 1900.1 298.603 L1900.1 284.529 L1896.98 284.529 L1896.98 281.219 L1900.1 281.219 L1900.1 273.858 L1904.38 273.858 Z\" fill=\"#000000\" fill-rule=\"evenodd\" fill-opacity=\"1\" /><path clip-path=\"url(#clip660)\" d=\"M 0 0 M1939.8 293.117 L1939.8 295.2 L1920.22 295.2 Q1920.49 299.598 1922.86 301.913 Q1925.24 304.205 1929.48 304.205 Q1931.93 304.205 1934.22 303.603 Q1936.54 303.001 1938.8 301.797 L1938.8 305.825 Q1936.51 306.797 1934.11 307.307 Q1931.7 307.816 1929.22 307.816 Q1923.02 307.816 1919.38 304.205 Q1915.77 300.594 1915.77 294.436 Q1915.77 288.071 1919.2 284.344 Q1922.65 280.594 1928.48 280.594 Q1933.71 280.594 1936.74 283.973 Q1939.8 287.33 1939.8 293.117 M1935.54 291.867 Q1935.49 288.372 1933.57 286.288 Q1931.67 284.205 1928.53 284.205 Q1924.96 284.205 1922.81 286.219 Q1920.68 288.233 1920.36 291.89 L1935.54 291.867 Z\" fill=\"#000000\" fill-rule=\"evenodd\" fill-opacity=\"1\" /><path clip-path=\"url(#clip660)\" d=\"M 0 0 M1961.33 293.881 Q1961.33 289.251 1959.41 286.705 Q1957.51 284.159 1954.06 284.159 Q1950.63 284.159 1948.71 286.705 Q1946.81 289.251 1946.81 293.881 Q1946.81 298.487 1948.71 301.034 Q1950.63 303.58 1954.06 303.58 Q1957.51 303.58 1959.41 301.034 Q1961.33 298.487 1961.33 293.881 M1965.59 303.927 Q1965.59 310.547 1962.65 313.765 Q1959.71 317.006 1953.64 317.006 Q1951.4 317.006 1949.41 316.658 Q1947.42 316.334 1945.54 315.64 L1945.54 311.496 Q1947.42 312.515 1949.24 313.001 Q1951.07 313.487 1952.97 313.487 Q1957.16 313.487 1959.24 311.288 Q1961.33 309.112 1961.33 304.691 L1961.33 302.584 Q1960.01 304.876 1957.95 306.01 Q1955.89 307.145 1953.02 307.145 Q1948.25 307.145 1945.33 303.51 Q1942.42 299.876 1942.42 293.881 Q1942.42 287.862 1945.33 284.228 Q1948.25 280.594 1953.02 280.594 Q1955.89 280.594 1957.95 281.728 Q1960.01 282.862 1961.33 285.154 L1961.33 281.219 L1965.59 281.219 L1965.59 303.927 Z\" fill=\"#000000\" fill-rule=\"evenodd\" fill-opacity=\"1\" /><path clip-path=\"url(#clip660)\" d=\"M 0 0 M1985.08 285.2 Q1984.36 284.784 1983.5 284.598 Q1982.67 284.39 1981.65 284.39 Q1978.04 284.39 1976.1 286.751 Q1974.17 289.089 1974.17 293.487 L1974.17 307.145 L1969.89 307.145 L1969.89 281.219 L1974.17 281.219 L1974.17 285.247 Q1975.52 282.886 1977.67 281.751 Q1979.82 280.594 1982.9 280.594 Q1983.34 280.594 1983.87 280.663 Q1984.41 280.71 1985.05 280.825 L1985.08 285.2 Z\" fill=\"#000000\" fill-rule=\"evenodd\" fill-opacity=\"1\" /><path clip-path=\"url(#clip660)\" d=\"M 0 0 M2001.33 294.112 Q1996.17 294.112 1994.17 295.293 Q1992.18 296.473 1992.18 299.321 Q1992.18 301.589 1993.67 302.932 Q1995.17 304.251 1997.74 304.251 Q2001.28 304.251 2003.41 301.751 Q2005.56 299.228 2005.56 295.061 L2005.56 294.112 L2001.33 294.112 M2009.82 292.353 L2009.82 307.145 L2005.56 307.145 L2005.56 303.209 Q2004.1 305.571 2001.93 306.705 Q1999.75 307.816 1996.6 307.816 Q1992.62 307.816 1990.26 305.594 Q1987.92 303.348 1987.92 299.598 Q1987.92 295.223 1990.84 293.001 Q1993.78 290.779 1999.59 290.779 L2005.56 290.779 L2005.56 290.362 Q2005.56 287.423 2003.62 285.825 Q2001.7 284.205 1998.2 284.205 Q1995.98 284.205 1993.87 284.737 Q1991.77 285.27 1989.82 286.335 L1989.82 282.399 Q1992.16 281.497 1994.36 281.057 Q1996.56 280.594 1998.64 280.594 Q2004.27 280.594 2007.04 283.511 Q2009.82 286.427 2009.82 292.353 Z\" fill=\"#000000\" fill-rule=\"evenodd\" fill-opacity=\"1\" /><path clip-path=\"url(#clip660)\" d=\"M 0 0 M2014.29 271.126 L2018.55 271.126 L2018.55 307.145 L2014.29 307.145 L2014.29 271.126 Z\" fill=\"#000000\" fill-rule=\"evenodd\" fill-opacity=\"1\" /><path clip-path=\"url(#clip660)\" d=\"M 0 0 M2059.64 291.497 L2059.64 307.145 L2055.38 307.145 L2055.38 291.635 Q2055.38 287.955 2053.94 286.126 Q2052.51 284.298 2049.64 284.298 Q2046.19 284.298 2044.2 286.497 Q2042.21 288.696 2042.21 292.492 L2042.21 307.145 L2037.92 307.145 L2037.92 281.219 L2042.21 281.219 L2042.21 285.247 Q2043.73 282.909 2045.79 281.751 Q2047.88 280.594 2050.59 280.594 Q2055.05 280.594 2057.35 283.372 Q2059.64 286.126 2059.64 291.497 Z\" fill=\"#000000\" fill-rule=\"evenodd\" fill-opacity=\"1\" /><path clip-path=\"url(#clip660)\" d=\"M 0 0 M2063.66 296.913 L2063.66 281.219 L2067.92 281.219 L2067.92 296.751 Q2067.92 300.432 2069.36 302.284 Q2070.79 304.112 2073.66 304.112 Q2077.11 304.112 2079.1 301.913 Q2081.12 299.714 2081.12 295.918 L2081.12 281.219 L2085.38 281.219 L2085.38 307.145 L2081.12 307.145 L2081.12 303.163 Q2079.57 305.524 2077.51 306.682 Q2075.47 307.816 2072.76 307.816 Q2068.29 307.816 2065.98 305.038 Q2063.66 302.26 2063.66 296.913 M2074.38 280.594 L2074.38 280.594 Z\" fill=\"#000000\" fill-rule=\"evenodd\" fill-opacity=\"1\" /><path clip-path=\"url(#clip660)\" d=\"M 0 0 M2110.03 286.196 Q2111.63 283.325 2113.85 281.96 Q2116.07 280.594 2119.08 280.594 Q2123.13 280.594 2125.33 283.441 Q2127.53 286.265 2127.53 291.497 L2127.53 307.145 L2123.25 307.145 L2123.25 291.635 Q2123.25 287.909 2121.93 286.103 Q2120.61 284.298 2117.9 284.298 Q2114.59 284.298 2112.67 286.497 Q2110.75 288.696 2110.75 292.492 L2110.75 307.145 L2106.47 307.145 L2106.47 291.635 Q2106.47 287.885 2105.15 286.103 Q2103.83 284.298 2101.07 284.298 Q2097.81 284.298 2095.89 286.52 Q2093.97 288.719 2093.97 292.492 L2093.97 307.145 L2089.68 307.145 L2089.68 281.219 L2093.97 281.219 L2093.97 285.247 Q2095.42 282.862 2097.46 281.728 Q2099.5 280.594 2102.3 280.594 Q2105.12 280.594 2107.09 282.029 Q2109.08 283.464 2110.03 286.196 Z\" fill=\"#000000\" fill-rule=\"evenodd\" fill-opacity=\"1\" /><path clip-path=\"url(#clip660)\" d=\"M 0 0 M2154.17 293.117 L2154.17 295.2 L2134.59 295.2 Q2134.87 299.598 2137.23 301.913 Q2139.61 304.205 2143.85 304.205 Q2146.3 304.205 2148.59 303.603 Q2150.91 303.001 2153.18 301.797 L2153.18 305.825 Q2150.89 306.797 2148.48 307.307 Q2146.07 307.816 2143.59 307.816 Q2137.39 307.816 2133.76 304.205 Q2130.15 300.594 2130.15 294.436 Q2130.15 288.071 2133.57 284.344 Q2137.02 280.594 2142.85 280.594 Q2148.09 280.594 2151.12 283.973 Q2154.17 287.33 2154.17 293.117 M2149.91 291.867 Q2149.87 288.372 2147.95 286.288 Q2146.05 284.205 2142.9 284.205 Q2139.34 284.205 2137.18 286.219 Q2135.05 288.233 2134.73 291.89 L2149.91 291.867 M2145.82 269.228 L2150.42 269.228 L2142.88 277.932 L2139.34 277.932 L2145.82 269.228 Z\" fill=\"#000000\" fill-rule=\"evenodd\" fill-opacity=\"1\" /><path clip-path=\"url(#clip660)\" d=\"M 0 0 M2173.66 285.2 Q2172.95 284.784 2172.09 284.598 Q2171.26 284.39 2170.24 284.39 Q2166.63 284.39 2164.68 286.751 Q2162.76 289.089 2162.76 293.487 L2162.76 307.145 L2158.48 307.145 L2158.48 281.219 L2162.76 281.219 L2162.76 285.247 Q2164.1 282.886 2166.26 281.751 Q2168.41 280.594 2171.49 280.594 Q2171.93 280.594 2172.46 280.663 Q2172.99 280.71 2173.64 280.825 L2173.66 285.2 Z\" fill=\"#000000\" fill-rule=\"evenodd\" fill-opacity=\"1\" /><path clip-path=\"url(#clip660)\" d=\"M 0 0 M2178.13 281.219 L2182.39 281.219 L2182.39 307.145 L2178.13 307.145 L2178.13 281.219 M2178.13 271.126 L2182.39 271.126 L2182.39 276.52 L2178.13 276.52 L2178.13 271.126 Z\" fill=\"#000000\" fill-rule=\"evenodd\" fill-opacity=\"1\" /><path clip-path=\"url(#clip660)\" d=\"M 0 0 M2205.52 282.214 L2205.52 286.196 Q2203.71 285.2 2201.88 284.714 Q2200.08 284.205 2198.22 284.205 Q2194.08 284.205 2191.79 286.844 Q2189.5 289.46 2189.5 294.205 Q2189.5 298.95 2191.79 301.589 Q2194.08 304.205 2198.22 304.205 Q2200.08 304.205 2201.88 303.719 Q2203.71 303.209 2205.52 302.214 L2205.52 306.149 Q2203.73 306.983 2201.81 307.399 Q2199.91 307.816 2197.76 307.816 Q2191.9 307.816 2188.46 304.135 Q2185.01 300.455 2185.01 294.205 Q2185.01 287.862 2188.48 284.228 Q2191.97 280.594 2198.04 280.594 Q2200.01 280.594 2201.88 281.011 Q2203.76 281.404 2205.52 282.214 Z\" fill=\"#000000\" fill-rule=\"evenodd\" fill-opacity=\"1\" /><path clip-path=\"url(#clip660)\" d=\"M 0 0 M2221.77 294.112 Q2216.6 294.112 2214.61 295.293 Q2212.62 296.473 2212.62 299.321 Q2212.62 301.589 2214.1 302.932 Q2215.61 304.251 2218.18 304.251 Q2221.72 304.251 2223.85 301.751 Q2226 299.228 2226 295.061 L2226 294.112 L2221.77 294.112 M2230.26 292.353 L2230.26 307.145 L2226 307.145 L2226 303.209 Q2224.54 305.571 2222.37 306.705 Q2220.19 307.816 2217.04 307.816 Q2213.06 307.816 2210.7 305.594 Q2208.36 303.348 2208.36 299.598 Q2208.36 295.223 2211.28 293.001 Q2214.22 290.779 2220.03 290.779 L2226 290.779 L2226 290.362 Q2226 287.423 2224.06 285.825 Q2222.14 284.205 2218.64 284.205 Q2216.42 284.205 2214.31 284.737 Q2212.21 285.27 2210.26 286.335 L2210.26 282.399 Q2212.6 281.497 2214.8 281.057 Q2217 280.594 2219.08 280.594 Q2224.71 280.594 2227.48 283.511 Q2230.26 286.427 2230.26 292.353 Z\" fill=\"#000000\" fill-rule=\"evenodd\" fill-opacity=\"1\" /></svg>\n"
      ]
     },
     "execution_count": 9,
     "metadata": {},
     "output_type": "execute_result"
    }
   ],
   "source": [
    "# dominio de la gráfica\n",
    "xs = range(1,stop=10,length=100)\n",
    "# subintervalos de la integral\n",
    "n = 100\n",
    "ys1 = [log(x) for x in xs]\n",
    "ys2 = [lnIntegral(x,n) for x in xs]\n",
    "plot(xs,ys1,label=\"Logaritmo original\",title=\"Integrales como funciones\")\n",
    "plot!(xs,ys2,label=\"Definición con integral numérica\")"
   ]
  },
  {
   "cell_type": "markdown",
   "metadata": {},
   "source": [
    "## Ejercicio 2\n",
    "La función $\\text{erf}(x)$ se define de la siguiente forma\n",
    "    \\begin{equation}\n",
    "        \\text{erf}(x) = \\frac{2}{\\sqrt{\\pi}} \\int_0^x e^{-t^2} dt\n",
    "    \\end{equation}\n",
    " Define una función `miErf(x,n)` que regresa el valor la función $\\text{erf}(x)$ al calcular la integral utilizando la regla de integración rectangular hacia adelante con $n$ subintervalos."
   ]
  },
  {
   "cell_type": "markdown",
   "metadata": {},
   "source": [
    "## Otras opciones para definir integrales mediante sumas de Riemman:\n",
    "\n",
    "### Segunda opción: $\\xi_i = x_{i-1}$ (Integral rectangular hacia atras)\n",
    "\n",
    "\n",
    "$$\n",
    "\\int_{a}^{b} f(s) ds \\approx h \\sum_{i=1}^{n}  f(\\xi_i) =  h \\sum_{i=1}^{n}  f(x_{i-1})\n",
    "$$"
   ]
  },
  {
   "cell_type": "markdown",
   "metadata": {},
   "source": [
    "## Ejercicio 3\n",
    "\n",
    "Implementa una función `intAtrás(f,a,b,n)` regrese el valor la integral $\\int_a^b f(s) \\; ds$ calculado utilizando la fórmula de la integral rectangular hacia atrás con $n$ subintervalos. Prueba tu función integrando la función  `prueba`."
   ]
  },
  {
   "cell_type": "markdown",
   "metadata": {},
   "source": [
    "### Tercera opción: tomar el punto medio $\\xi_i = \\frac{x_{i-1} + x_{i}}{2}$ (Integral rectangular Centrada o regla rectangular)\n",
    "\n",
    "$$\n",
    "\\int_{a}^{b} f(s) ds \\approx h \\sum_{i=1}^{n}  f(\\xi_i) =  h \\sum_{i=1}^{n}  f\\left( \\frac{x_{i-1} + x_{i}}{2} \\right) \n",
    "$$"
   ]
  },
  {
   "cell_type": "markdown",
   "metadata": {},
   "source": [
    "## Ejercicio 4\n",
    "\n",
    "Implementa una función `intCentrada(f,a,b,n)` regrese el valor la integral $\\int_a^b f(s) \\; ds$ calculado utilizando la fórmula de la regla centrada con $n$ subintervalos. Prueba tu función integrando la función  `prueba`."
   ]
  },
  {
   "cell_type": "markdown",
   "metadata": {},
   "source": [
    "## Ejercicio 5 \n",
    "\n",
    "Repite el ejercicio 1 pero ahora utilizando las reglas de integración del ejercicio 3 y 4. ¿la tasa de convergencia mejora con las nuevas reglas?"
   ]
  },
  {
   "cell_type": "markdown",
   "metadata": {},
   "source": [
    "## Ejercicio 6\n",
    "\n",
    "Repite el ejercicio 2 pero ahora utilizando las reglas de integración del ejercicio 3 y 4."
   ]
  },
  {
   "cell_type": "markdown",
   "metadata": {},
   "source": [
    "## Aproximación más compleja: regla trapezoidal"
   ]
  },
  {
   "cell_type": "markdown",
   "metadata": {},
   "source": [
    "Notemos que todas las aproximaciones rectangulares de la integral, por su construcción a partir de sumas de Riemann, aproximaban a la función $f(x)$ en cada intervalo $[x_{i-1},x_{i}]$ como una función constante, es decir, un **polinomio de grado 0**. \n",
    "\n",
    "Una aproximación más compleja para la función en dicho intervalo sería aproximar a la función no como una constante si no como una recta (o un **polinomio de grado 1**) que pasa por los puntos $(x_{i-1},f(x_{i-1}))$ y $(x_{i},f(x_{i}))$. Así, el area de la integral se aproxima como la siguiente figura\n",
    "\n",
    "![trapecio](https://lh3.googleusercontent.com/4fHTGTZ75EhLjV-Q40IbPn19RltRw41brDPh5hKa--Zq6tNj7eHtr5KS6u9rld0BbM80nVamEAfPEhnBTnC9bfL8ON7gVXfHOHLMC4crhZKTwsqAcFj4qv4QVvpw_bAY78Ak0AAslw=w400)"
   ]
  },
  {
   "cell_type": "markdown",
   "metadata": {},
   "source": [
    "## Ejercicio 7\n",
    "\n",
    "Deduce la fórmula para el valor de $\\int_{x_{i-1}}^{x_{i}} f(s) \\; ds$ cuando aproximamos la función como una recta. Es decir, da la fórmula para el área del trapecio en un intervalo $[x_{i-1},x_{i}]$ de la figura anterior. La fórmula solo debe depender de $x_{i-1},f(x_{i-1}), x_{i},f(x_{i})$\n",
    "\n",
    "**Sugerencia:** Las áreas siempre son valores positivos, por lo que debes de tratar por separado los casos $f(x_{i-1}) \\geq f(x_{i})$ y   $f(x_{i-1}) \\leq f(x_{i})$. \n",
    "\n",
    "Aunque trates ambos casos por separado, la fórmula obtenida **debe de ser la misma para ambos**."
   ]
  },
  {
   "cell_type": "markdown",
   "metadata": {},
   "source": [
    "### Planteamiento de la regla\n",
    "\n",
    "Podemos explotar el ejercicio para crear una nueva regla de integración. Recordando que, dada una partición regular de orden $n$, se cumple que \n",
    "\n",
    "$$\n",
    "\\int_{a}^b f(s) \\; ds = \\sum_{i=1}^{n} \\int_{x_{i-1}}^{x_{i}} f(s) \\; ds\n",
    "$$\n",
    "\n",
    "Podemos entonces utilizar la fórmula de $\\int_{x_{i-1}}^{x_{i}} f(s) \\; ds$ que encontramos en el ejercicio anterior para calcular la integral en todo el intervalo $[a,b]$. A este método de cálculo de la integral se le llama la **regla trapezoidal**"
   ]
  },
  {
   "cell_type": "markdown",
   "metadata": {},
   "source": [
    "## Ejercicio 8\n",
    "\n",
    "Escribe una función `intTrapezoidal(f,a,b,n)` que regresa el valor de la integral $\\int_{a}^b f(s) \\; ds$ calculado utilizando la regla trapezoidal. Es decir, que para cada integral $\\int_{x_{i-1}}^{x_{i}} f(s) \\; ds$ se calcula como el area de un trapecio."
   ]
  },
  {
   "cell_type": "markdown",
   "metadata": {},
   "source": [
    "## Ejercicio 9\n",
    "\n",
    "Repite el ejercicio 1 utilizando ahora la regla de integración trapezoidal. ¿Mejora la tasa de convergencia?"
   ]
  },
  {
   "cell_type": "markdown",
   "metadata": {},
   "source": [
    "## Aproximación avanzada: regla de Simpson\n",
    "\n",
    "Una regla todavía más avanzada para integrar consiste en ahora aproximar la función $f(x)$ como un **polinomio de grado 2** en un subintervalo de la partición. Sin embargo, para aproximar dicha función por un polinomio, como vimos en la clase de interpolación, necesitamos conocer tres puntos por los que pasa la función. \n",
    "\n",
    "Para todo lo que sigue, supondremos que el orden $n$ de la partición tomada para aproximar la integral es un número **par**. Recordando el notebook de interpolación, sabemos que el polinomio de grado 2 $P_i(x)$ que pasa por los puntos $(x_{i-1},f(x_{i-1}))$, $(x_i,f(x_i))$ y $(x_{i+1},f(x_{i+1}))$ esta dado por la ecuación\n",
    "\n",
    "\\begin{align}\n",
    "P_i(x) &= f(x_{i-1}) \\frac{(x-x_{i})(x-x_{i+1})}{(x_{i-1}-x_{i})(x_{i-1}-x_{i+1})} \\\\\n",
    " &+ f(x_{i}) \\frac{(x-x_{i-1})(x-x_{i+1})}{(x_{i}-x_{i-1})(x_{i}-x_{i+1})} \\\\\n",
    " &+ f(x_{i+1}) \\frac{(x-x_{i-1})(x-x_{i})}{(x_{i+1}-x_{i-1})(x_{i+1}-x_{i})} \\\\\n",
    "\\end{align}\n",
    "\n",
    "Así, podemos entonces aproximar la integral en el subintervalo $[x_{i-1},x_{i+1}]$ como\n",
    "\n",
    "$$\n",
    "\\int_{x_{i-1}}^{x_{i+1}} f(s) \\; ds \\approx \\int_{x_{i-1}}^{x_{i+1}} P_i(s) \\;ds\n",
    "$$"
   ]
  },
  {
   "cell_type": "markdown",
   "metadata": {},
   "source": [
    "### Ejercicio 10\n",
    "\n",
    "Demuestra, realizando la integración analíticamente, que\n",
    "\n",
    "$$\n",
    "\\int_{x_{i-1}}^{x_{i+1}} P_i(s) \\; ds = h \\left(\\frac{f(x_{i-1})}{3} + \\frac{4 f(x_{i})}{3} + \\frac{f(x_{i+1})}{3} \\right)\n",
    "$$\n"
   ]
  },
  {
   "cell_type": "markdown",
   "metadata": {},
   "source": [
    "### Planteamiento de la regla\n",
    "\n",
    "Podemos ahora, después de demostrar la fórmula del ejercicio 9, utilizar dicha fórmula para implementar una regla de integración, notando que\n",
    "\n",
    "$$\n",
    "\\int_{a}^b f(s) \\; ds = \\sum_{i=0}^{(n-2)/2} \\int_{x_{2i}}^{x_{2i+2}} f(s) \\; ds\n",
    "$$\n",
    "\n",
    "\n",
    "A esta regla de integración se le conoce como **regla de Simpson**"
   ]
  },
  {
   "cell_type": "markdown",
   "metadata": {},
   "source": [
    "## Ejercicio 11\n",
    "\n",
    "Implementa una función `intSimpson(f,a,b,n)` que regrese el valor de la integral $\\int_{a}^b f(s) \\; ds $ calculado mediante regla de Simpson."
   ]
  },
  {
   "cell_type": "markdown",
   "metadata": {},
   "source": [
    "## Ejercicio 12\n",
    "\n",
    "Repite el ejercicio 1 ahora utilizando la regla de Simpson y compara con los otros resultados. ¿Qué tanto mejora la tasa de convergencia?"
   ]
  },
  {
   "cell_type": "markdown",
   "metadata": {},
   "source": [
    "## La visión general"
   ]
  },
  {
   "cell_type": "markdown",
   "metadata": {},
   "source": [
    "Integrar funciones es un problema que surge todo el tiempo a la hora de hacer cómputo científico. Muchísimos problemas se descomponen, desde el punto de vista teórico, en hacer integrales (electromagnetismo, por ejemplo). Existen, debido a eso, una infinidad de reglas y aproximaciones para hacer integrales de funciones de manera numérica. \n",
    "\n",
    "El mayor desafío es cuando tenemos ya no integrales en una dimensión, sino integrales en varias dimensiones (a veces más de 20). En esos casos, las aproximaciones aquí mencionadas se pueden volver inútiles.\n",
    "\n",
    "Las reglas rectangulares no son muy usadas en aplicaciones reales pues convergen a una velocidad muy pequeña. Las regla de Simpson y la trapezoidal, por el contrario, son mucho más usadas.\n",
    "\n"
   ]
  },
  {
   "cell_type": "markdown",
   "metadata": {},
   "source": [
    "Existe una manera formal de estimar el error de las reglas de integración mostradas aquí. No quise enseñárselos por que, aunque sea importante, es más largo y complicado que los errores de derivación numérica. Pueden consultar como calcular dichos errores en el libro de Stickler (*Basic Concepts in Computational Physics*)"
   ]
  },
  {
   "cell_type": "code",
   "execution_count": null,
   "metadata": {},
   "outputs": [],
   "source": []
  }
 ],
 "metadata": {
  "kernelspec": {
   "display_name": "Julia 1.4.2",
   "language": "julia",
   "name": "julia-1.4"
  },
  "language_info": {
   "file_extension": ".jl",
   "mimetype": "application/julia",
   "name": "julia",
   "version": "1.4.2"
  }
 },
 "nbformat": 4,
 "nbformat_minor": 4
}
