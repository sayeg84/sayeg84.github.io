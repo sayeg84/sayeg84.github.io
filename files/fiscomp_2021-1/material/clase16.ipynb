{
 "cells": [
  {
   "cell_type": "markdown",
   "metadata": {},
   "source": [
    "# Métodos avanzados para EDOs"
   ]
  },
  {
   "cell_type": "markdown",
   "metadata": {},
   "source": [
    "## Métodos tipo Runge-Kutta"
   ]
  },
  {
   "cell_type": "markdown",
   "metadata": {},
   "source": [
    "En la clase pasada, vimos el ejemplo del **método (explícito) del punto medio** y del **método de Heun** en los que se utilizaba una **variable auxiliar** para hacer más sencilla la notación.\n",
    "\n",
    "Sin embargo, esa variable auxiliar también puede interpretarse como un **punto auxiliar** que utilizamos para evaluar la función $\\mathbf{f}$. Es decir, ya no solo utilizamos las variables $\\mathbf{x}(t),t$ y $\\mathbf{f}(\\mathbf{x}(t),t)$ para calcular $\\mathbf{x}(t+h)$, si no hacemos combinaciones de ellas o utilizamos tiempos intermedios $t^* \\in [t,t+h]$, aproximaciones de $\\mathbf{x}(t^*)$ y combinaciones lineales de estas para obtener $\\mathbf{x}(t+h)$. A todos los métodos que utilizan uno o más puntos auxiliares para después calcular $\\mathbf{x}(t+h)$ se les llama **métodos tipo Runge-Kutta**. \n",
    "\n",
    "Se dice que el **número de pasos** de un método de Runge-Kutta es el número de cálculos de puntos auxiliares que debemos hacer para obtener $\\mathbf{x}(t+h)$ a partir de $\\mathbf{x}(t)$ (debemos aclarar que a $\\mathbf{x}(t)$ también se le cuenta como un punto auxiliar). Así, es obvio que el método de Euler resulta ser un método de un paso ($\\mathbf{x}(t)$), mientras que el de punto medio o el de Heun son métodos de dos pasos ($\\mathbf{k}_1,\\mathbf{x}(t)$).\n",
    "\n",
    "Normalmente, entre mayor número de pasos tenga un método de Runge-Kutta, mayor será su precisión. Un método ampliamente usado en el cómputo científico (podría decirse que es el método estándar) es el método de [Runge-Kutta de cuatro pasos](https://en.wikipedia.org/wiki/Runge%E2%80%93Kutta_methods) (denotado comúnmente como  **RK4**) obedece la siguiente regla:\n",
    "\n",
    "$$\n",
    "\\begin{align}\n",
    "\\mathbf{k}_1 &= \\mathbf{f}(\\mathbf{x}_{i-1},t_{i-1})\\\\\n",
    "\\mathbf{k}_2 &= \\mathbf{f}(\\mathbf{x}_{i-1} + (h/2)\\mathbf{k}_1,t_{i-1}+h/2)\\\\\n",
    "\\mathbf{k}_3 &= \\mathbf{f}(\\mathbf{x}_{i-1} + (h/2)\\mathbf{k}_2,t_{i-1}+h/2)\\\\\n",
    "\\mathbf{k}_4 &= \\mathbf{f}(\\mathbf{x}_{i-1} + h\\mathbf{k}_3,t_{i-1}+h)\\\\\n",
    " & \\\\\n",
    "\\mathbf{x}_{i} &= \\mathbf{x}_{i-1} + \\frac{h}{6}\\left( \\mathbf{k}_1 + 2 \\mathbf{k}_2 + 2 \\mathbf{k}_3 + \\mathbf{k}_4 \\right)\n",
    "\\end{align}\n",
    "$$"
   ]
  },
  {
   "cell_type": "markdown",
   "metadata": {},
   "source": [
    "Notemos que el método ya se vuelve mucho más elaborado, por lo que deducirlo es algo que escapa al alcance del curso. Estamos interesados simplemente en utilizarlo."
   ]
  },
  {
   "cell_type": "markdown",
   "metadata": {},
   "source": [
    "### Ejercicio 1\n",
    "\n",
    "Implementa una función `RK4(f,x_0,t_0,t_f,h)` con `f` la función **vectorial** tal que $\\dot{\\mathbf{x}}(t) = \\mathbf{f}(\\mathbf{x}(t),t)$, `x_0` (un vector de $n$ entradas) y `t_0` la condición inicial, `t_f` el tiempo máximo al que queremos obtener la solución y `h` el tamaño de paso. La función debe de implementar el método de Runge Kutta de orden 4 y debe de regresar el arreglo de los tiempos `[t_0,t_1, t_2,....,t_n]` con $t_{n} \\leq t_f < t_{n} + h$ y el de la solución a la ecuación diferencial `[x_0,x_1,...,x_n]`."
   ]
  },
  {
   "cell_type": "markdown",
   "metadata": {},
   "source": [
    "### Ejercicio 2\n",
    "\n",
    "Utiliza la función `RK4` para resolver el sistema del péndulo simple y del oscilador armónico simple de la clase 16. ¿La solución obtenida es mejor que la que se obtiene con los otros métodos ya vistos?"
   ]
  },
  {
   "cell_type": "markdown",
   "metadata": {},
   "source": [
    "## Sistema para ejemplificar: Péndulo doble\n",
    "\n",
    "Tenemos un péndulo de longitud $l_1$ con un objeto de masa $m_1$, y al final de él está sujeto otr péndulo de longitud $l_2$ y masa $m_2$. Ambos se describen por los ángulos $\\theta_1$ y $\\theta_2$ como se muestra en la siguiente figura\n",
    "\n",
    "<img src=\"https://upload.wikimedia.org/wikipedia/commons/7/78/Double-Pendulum.svg\" width=200>\n",
    "\n",
    "Aunque es posible tratar el problema de manera general, no buscamos complicarnos por lo que revisaremos el caso $m_1 = m_2 = m$  y $l_1 = l_2 = l$. La manera más sencilla de obtener las ecuaciones de movimiento es mdiante mecánica Hamiltoniana. La derivación completa se puede revisar en el capítulo 6 del Stickler (*Basic Concepts in Computational Physics*). \n",
    "\n",
    "Sin ahondar en más detalles, el Hamiltoniano del sistema, en este caso, la energía mecánica total se puede escribir en términos de 4 variables $\\theta_1,\\theta_2,p_1,p_2$.\n",
    "\n",
    "$p_1$, $p_2$ son los **momentos generalizados** de $\\theta_1$ y $\\theta_2$, respectivamente.\n",
    "\n",
    "La energía cinética $K$ se escribe entonces como\n",
    "\n",
    "$$\n",
    "K = \\frac{1}{2ml^2} \\frac{p_1^2+2p_2^2-2p_1p_2\\cos{(\\theta_1-\\theta_2)}}{1+\\sin^2{(\\theta_1-\\theta_2)}}\n",
    "$$\n",
    "\n",
    "Mientras que la energía potencial  $V$\n",
    "\n",
    "$$\n",
    "V = mgl\\left( 4-2\\cos{\\theta_1}-\\cos{\\theta_2} \\right)\n",
    "$$"
   ]
  },
  {
   "cell_type": "markdown",
   "metadata": {},
   "source": [
    "El Hamiltoniano explícitamente es:\n",
    "\n",
    "$$\n",
    "H = K + V = \\frac{1}{2ml^2} \\frac{p_1^2+2p_2^2-2p_1p_2\\cos{(\\theta_1-\\theta_2)}}{1+\\sin^2{(\\theta_1-\\theta_2})} + mgl\\left( 4-2\\cos{\\theta_1}-\\cos{\\theta_2} \\right)\n",
    "$$\n",
    "\n",
    "Las ecuaciones de movimiento de evolución para $\\dot{\\theta}_1$, $\\dot{\\theta}_2$, $\\dot{p}_1$ y $\\dot{p}_2$ se obtienen mediante las **ecuaciones de Hamilton**\n",
    "\n",
    "$$\n",
    "\\dot{\\theta}_i = \\frac{\\partial H}{\\partial p_i}\n",
    "$$\n",
    "\n",
    "$$\n",
    "\\dot{p}_i = -\\frac{\\partial H}{\\partial \\theta_i}\n",
    "$$\n",
    "\n",
    "Explícitamente, **las ecuaciones de movimiento son**\n",
    "\n",
    "$$\n",
    "\\dot{\\theta}_1 = \\frac{1}{ml^2} \\frac{p_1 - p_2 \\cos{(\\theta_1-\\theta_2)}}{1+\\sin^2{(\\theta_1-\\theta_2)}}\n",
    "$$\n",
    "\n",
    "$$\n",
    "\\dot{\\theta}_2 = \\frac{1}{ml^2} \\frac{2p_2 - p_1 \\cos{(\\theta_1-\\theta_2)}}{1+\\sin^2{(\\theta_1-\\theta_2)}}\n",
    "$$\n",
    "\n",
    "$$\n",
    "\\begin{align}\n",
    "\\dot{p}_1 &= \\frac{1}{ml^2} \\frac{1}{1+\\sin^2{(\\theta_1-\\theta_2)}} \\big[ -p_1p_2 \\sin{(\\theta_1 - \\theta_2)} \\\\ \n",
    "&+ \\frac{p_1^2 + 2p_2^2 - 2p_1p_2 \\cos{(\\theta_1 - \\theta_2)}}{1+\\sin^2{(\\theta_1-\\theta_2)}} \\cos{(\\theta_1 - \\theta_2)} \\sin{(\\theta_1 - \\theta_2)} \\big] \\\\ \n",
    "&- 2mgl\\sin{\\theta_1}\n",
    "\\end{align}\n",
    "$$\n",
    "\n",
    "$$\n",
    "\\begin{align}\n",
    "\\dot{p}_2 &= \\frac{1}{ml^2} \\frac{1}{1+\\sin^2{(\\theta_1-\\theta_2)}} \\Big[ p_1p_2 \\sin{(\\theta_1 - \\theta_2)} \\\\\n",
    "&- \\frac{p_1^2 + 2p_2^2 - 2p_1p_2 \\cos{(\\theta_1 - \\theta_2)}}{1+\\sin^2{(\\theta_1-\\theta_2)}} \\cos{(\\theta_1 - \\theta_2)} \\sin{(\\theta_1 - \\theta_2)} \\Big] \\\\ \n",
    "&- mgl\\sin{\\theta_2}\n",
    "\\end{align}\n",
    "$$"
   ]
  },
  {
   "cell_type": "markdown",
   "metadata": {},
   "source": [
    "### Ejercicio 3\n",
    "\n",
    "Antes de resolver las ecuaciones de movimiento del péndulo doble, debemos tomar los siguientes pasos:\n",
    "\n",
    "(i) Sea $\\boldsymbol{\\theta}(t) = (\\theta_1(t),p_1(t),\\theta_2(t),p_2(t))$, identifica la función $\\mathbf{f}(\\boldsymbol{\\theta}(t),t)$ para la cual el sistema de ecuaciones del péndulo doble se escribe, de forma compacta, como:\n",
    "\n",
    "$$\n",
    "\\dot{\\boldsymbol{\\theta}} = \\mathbf{f}(\\boldsymbol{\\theta}(t),t)\n",
    "$$\n",
    "\n",
    "(ii) Implementa una función `penduloDoble(Theta,t)` con `Theta` un arreglo de 4 entradas que representa al vector $(\\theta_1,p_1,\\theta_2,p_2)$ y `t` un flotante que representa el tiempo. Tu función debe de regresa un vector correspondiente a la función $\\mathbf{f}(\\boldsymbol{\\theta}(t),t)$ del inciso anterior.\n",
    "\n",
    "**Sugerencia:** nota que en las formulas de las ecuaciones de movimiento, y por lo tanto, en la función $\\mathbf{f}(\\boldsymbol{\\theta}(t),t)$, hay muchos términos que se repiten ($1+\\sin^2{(\\theta_1-\\theta_2)}$, por ejemplo).  Puedes usar variables auxiliares para calcular esos términos y así ir calculando la función poco a poco en lugar que de forma abrupta."
   ]
  },
  {
   "cell_type": "markdown",
   "metadata": {},
   "source": [
    "### Ejercicio 4\n",
    "\n",
    "(i) Resuelve el sistema de ecuaciones obtenido en el inciso anterior utilizando tu función `RK4`. Fija condiciones iniciales arbitrarias **que tengan sentido físico**, al igual que dale valores arbitrarios a los parámetros $m$ y $l$. Grafica $\\theta_1$ y $\\theta_2$ como función del tiempo, así como el espacio fase de cada coordenada ($(\\theta_1(t),p_1(t))$ y $(\\theta_2(t),p_2(t))$, respectivamente) y los espacios $(\\theta_1(t),\\theta_2(t))$ y $(p_1(t),p_2(t))$. Haz una animación de la trayectoria del péndulo.\n",
    "\n",
    "(ii) Grafica la energía potencial, cinética y mecánica del sistema como función del tiempo. ¿La energía se conserva?\n",
    "\n",
    "(iii) En las ecuaciones, nunca se hace una aproximación de ángulo pequeño. Resuelve el sistema tomando una condición inicial $\\theta_1(t_0) > \\pi/2$ y realiza las mismas gráficas que en el inciso (i).\n",
    "\n",
    "(iv) Fija las condiciones iniciales, al igual que el parámetro $m$. Resuelve el sistema para distintos valores de $l$. ¿Cómo cambia la trayectoria del péndulo?. Muestra distintas trayectorias en la misma animación.\n"
   ]
  },
  {
   "cell_type": "markdown",
   "metadata": {},
   "source": [
    "### Ejercicio 5\n",
    "\n",
    "(i) Fija los parámetros $m = 1$, $l = 1$ y fija unas condiciones iniciales arbitrarias $\\theta_1(t_0)=a$, $p_1(t_0)=b$, $\\theta_2(t_0)=c$, $p_2(t_0)=d$. \n",
    "\n",
    "Toma un número arbitrario $\\epsilon$ tal que $\\epsilon << c$ y resuelve dos sistemas: uno para las condiciones iniciales $\\theta_2(t_0)=c$ y otro con $\\theta_2(t_0)=c+\\epsilon$. Toma un tiempo final **muy grande** (que lo soporte tu computadora, claramente). Muestras las dos trayectorias en una misma animación. ¿Las dos trayectorias son parecidas? \n",
    "\n",
    "(ii) Haz una gráfica de la diferencia (norma) de las posiciones de la segunda masa $m_2$ entre un sistema y el otro como función del tiempo. Recordemos que la posición de la masa $m_2$ está dada por\n",
    "\n",
    "$$\n",
    "\\mathbf{r_{2}}(t) = (l \\sin{(\\theta_1(t)) + l \\sin{(\\theta_2(t)})},l \\cos{(\\theta_1(t)) + l \\cos{(\\theta_2(t)})}) \\in \\mathbb{R}^2\n",
    "$$"
   ]
  },
  {
   "cell_type": "markdown",
   "metadata": {},
   "source": [
    "(iii) Viendo la gráfica del inciso (ii) ¿Qué puedes decir del comportamiento de la diferencia de las trayectorias como función del tiempo? ¿Es el comportamiento que esperas para dos condiciones iniciales muy cercanas? "
   ]
  },
  {
   "cell_type": "markdown",
   "metadata": {},
   "source": [
    "## Métodos implícitos"
   ]
  },
  {
   "cell_type": "markdown",
   "metadata": {},
   "source": [
    "Todos los métodos para resolver EDOs que hemos visto hasta ahora cumplen con la propiedad de que, independientemente de los pasos auxiliares que hagan, pueden hacer el cálculo de $\\mathbf{x}(t+h)$ utilizando como base solamente $\\mathbf{f}(\\mathbf{x}(t),t)$, $\\mathbf{x}(t)$, $t$ y $h$. Es decir, son métodos en los cuales $\\mathbf{x}(t+h)$ esta expresado de manera **explícita** como función de valores ya conocidos y puede clacularse directamente.\n",
    "\n",
    "Sin embargo, podemos realizar aproximaciones de tal forma que $\\mathbf{x}(t+h)$ esté definido en términos de de algo que depende de sí mismo, por ejemplo, de algo como $\\mathbf{f}(\\mathbf{x}(t+h),t)$. En ese caso decimos que $\\mathbf{x}(t+h)$ esta expresado de manera **implícita**. \n",
    "\n",
    "Por ejemplo, si utilizamos una diferencia hacia atrás para aproximar la derivada en la ecuación $\\dot{\\mathbf{x}}(t) = \\mathbf{f}(\\mathbf{x}(t),t)$, podríamos expresar $\\mathbf{x}(t+h)$ de la siguiente forma:\n",
    "\n",
    "$$\n",
    "\\mathbf{x}(t+h) = \\mathbf{x}(t) + h \\; \\mathbf{f}(\\mathbf{x}(t+h),t+h)\n",
    "$$\n",
    "\n",
    "Por simplicidad, supongamos que tenemos el caso $d=1$, es decir, $\\mathbf{x}(t) = x(t)$, por lo que no tenemos un sistema de ecuaciones diferenciales, si no solo una ecuación diferencial en la que la aproximación queda:\n",
    "\n",
    "$$\n",
    "x(t+h) = x(t) + h f(x(t+h),t+h)\n",
    "$$\n",
    "\n",
    "Hagamos un cambio de variable y definamos $z = x(t+h)$. Así, la regla queda \n",
    "\n",
    "$$\n",
    "z = x(t) + h f(z,t+h)\n",
    "$$\n",
    "\n",
    "Pasando $z$ de un lado, tenemos\n",
    "\n",
    "$$\n",
    " x(t) + h f(z,t+h) - z =0\n",
    "$$\n",
    "\n",
    "\n",
    "Si ya conocemos los valores de $t$, $h$ y $x(t)$, entonces la expresión anterior es una **ecuación trascendental para $z$** de la forma $g(z) = 0$. Así, para conocer el valor de $z = x(t+h)$ debemos **resolver la ecuación trascendental utilizando un método ya conocido** (Newton-Rhapson (preferentemente), Bisección, etc).\n",
    "\n",
    "Todos los métodos en los cuales expresamos $x(t+h)$ de manera implícita y lo calculamos resolviendo una ecuación trascendental son llamados **métodos implícitos**. El ya visto, que esta dado por la regla:\n",
    "\n",
    "$$\n",
    "x(t+h) = x(t) + h f(x(t+h),t+h)\n",
    "$$\n",
    "\n",
    "Usando índices para la dependencia temporal:\n",
    "\n",
    "$$\n",
    "x_i = x_{i-1} + h f(x_{i},t_{i})\n",
    "$$\n",
    "\n",
    "\n",
    "se conoce como [**método de Euler hacia atrás**](https://en.wikipedia.org/wiki/Backward_Euler_method). Otro método importante es el [**método trapezoidal**](https://en.wikipedia.org/wiki/Trapezoidal_rule_(differential_equations)), dado por la regla.\n",
    "\n",
    "$$\n",
    "x(t+h) = x(t) + \\frac{h}{2} \\left(  f(x(t),t) + f(x(t+h),t+h) \\right)\n",
    "$$\n",
    "\n",
    "Usando índices para la dependencia temporal:\n",
    "\n",
    "$$\n",
    "x_i = x_{i-1} + \\frac{h}{2} \\left( f(x_{i-1},t_{i-1}) + f(x_{i},t_{i}) \\right)\n",
    "$$\n",
    "\n",
    "A la hora de resolver las EDOs, los métodos implícitos son **más tardados** que los explícitos, pues deben de resolver una ecuación trascendental en cada paso, que puede tardar. Sin embargo, pueden resultar más precisos que los métodos explícitos.\n",
    "\n",
    "A la hora de resolver **sistemas de EDOs** con métodos implícitos, en cada paso se deberá de resolver un sistema de ecuaciones trascendentales, cosa que se vuelve más complicada que el caso 1D (y que además no vimos en el curso). Así, nos restringiremos al caso 1D."
   ]
  },
  {
   "cell_type": "markdown",
   "metadata": {},
   "source": [
    "### Ejercicio 6\n",
    "\n",
    "Implementa funciones `eulerAtras(f,x_0,t_0,t_f,h)` y `trapezoide(f,x_0,t_0,t_f,h)` con `f` la función **vectorial** tal que $\\dot{x}(t) = f(x(t),t)$, `x_0`, `t_0` la condición inicial, `t_f` el tiempo máximo al que queremos obtener la solución y `h` el tamaño de paso. \n",
    "\n",
    "Las funciones deben de implementar, respectivamente, el método de Euler hacia atrás y el método del trapezoide. Utiliza el método de Newtown-Raphson con diferencias finitas y tolerancia $\\epsilon$ fija para resolver la ecuación trascendental en cada paso.\n",
    "\n",
    "Tus funciones deben de regresar el arreglo de los tiempos `[t_0,t_1, t_2,....,t_n]` con $t_{n}\\leq t_f < t_{n} + h$ y el de la solución a la ecuación diferencial `[x_0,x_1,...,x_n]`.\n",
    "\n",
    "**Sugerencia 1:** La ecuación trascendental será distinta para cada $x_{i}$, por lo que deberás definir una función en cada paso del ciclo for para dársela como argumento al método de Newton-Raphson."
   ]
  },
  {
   "cell_type": "markdown",
   "metadata": {},
   "source": [
    "### Ejercicio 7\n",
    "\n",
    "Utiliza tus funciones `eulerAtrás` y `trapezoide` para resolver la ecuación diferencial\n",
    "\n",
    "$$\\dot{x}(t) = x(t)(1-x(t))$$\n",
    "\n",
    "Con condiciones iniciales arbitrarias **que tengan sentido físico**. ¿La solución mejora, comparada con la solución obtenida con el método de euler normal?. Resuélvela también con  `RK4` ¿Cómo se comparan los métodos implícitos con el método RK4?"
   ]
  },
  {
   "cell_type": "markdown",
   "metadata": {},
   "source": [
    "## Métodos adaptativos"
   ]
  },
  {
   "cell_type": "markdown",
   "metadata": {},
   "source": [
    "En todos los métodos que hemos revisado anteriormente, sean explícitos o implícitos, siempre tenemos un **paso de tiempo fijo** $h$ con el cual vamos obteniendo, a partir de $x(t_0)$, primero $x(t_0+h)$, luego  $x(t_0+2h)$, y así hasta un $x(t_f) = x(t_0 + nh)$.\n",
    "\n",
    "Sin embargo, es posible que nuestra solución real  $x(t)$ sea una función que no varía de la misma manera en todo su dominio. Es decir, que para algunos $t$ el método que usamos sea demasiado impreciso mientras que para otros sea suficientemente preciso.\n",
    "\n",
    "Eso es muy común cuando nuestras ecuaciones diferenciales son exóticas o usan funciones muy complicadas para definir sus derivadas. Así, en general es mala idea que nuestro paso de tiempo $h$ sea igual en todos los pasos. Lo que conviene es utilizar un **paso de tiempo adaptativo** $h(t)$ que varie en cada paso dependiendo de alguna regla.\n",
    "\n",
    "Los métodos que utilizan pasos de tiempo adaptativos se conocen como [**métodos adaptativos**](https://en.wikipedia.org/wiki/Adaptive_step_size). Cualquier método explícito o implícito puede extenderse, en principio, a un método adaptativo. Para nuestro ejemplo, tomaremos el método más simple: crearemos un método de Euler adaptativo."
   ]
  },
  {
   "cell_type": "markdown",
   "metadata": {},
   "source": [
    "Sabemos que la regla del método de euler es\n",
    "\n",
    "$$\n",
    "\\mathbf{x}(t+h) = \\mathbf{x}(t) + h \\; \\mathbf{f}(\\mathbf{x}(t),t)\n",
    "$$\n",
    "\n",
    "Podemos considerar a $\\mathbf{x}(t+h)$ obtenida así una *primera* estimación de $\\mathbf{x}(t+h)$, y la denotamos $\\mathbf{x}^{(1)}$. Por otro lado, podemos obtener otra estimación, denotada $\\mathbf{x}^{(2)}$, utilizando dos pasos de euler con paso $h/2$: primero obtenemos $\\mathbf{x}(t + h/2) $ como\n",
    "\n",
    "$$\n",
    "\\mathbf{x}(t+h/2) = \\mathbf{x}(t) + \\frac{h}{2} \\mathbf{f}(\\mathbf{x}(t),t)\n",
    "$$\n",
    "\n",
    "Para posteriormente obtener\n",
    "\n",
    "$$\n",
    "\\mathbf{x}^{(2)} = \\mathbf{x}(t+h) = \\mathbf{x}(t+h/2) + \\frac{h}{2} \\mathbf{f}(\\mathbf{x}(t+h/2),t+h/2)\n",
    "$$\n",
    "\n",
    "Definimos ahora el **error entre aproximaciones** $\\epsilon$ como\n",
    "\n",
    "$$\n",
    "\\epsilon = \\Vert \\mathbf{x}^{(1)} - \\mathbf{x}^{(2)} \\Vert\n",
    "$$\n",
    "\n",
    "En principio,  si la función $\\mathbf{x}(t)$ no tiene cambios abruptos, ambas aproximaciones se parecerán y $\\epsilon$ será pequeño. Sin embargo, si la función real $\\mathbf{x}(t)$ tiene cambios muy abruptos, entonces ambas aproximaciones serán malas y la $\\epsilon$ será grande. Así, ver el tamaño o magnitud de $\\epsilon$ nos permite saber cuando el paso $h$ es demasiado grande y cuando es suficientemente bueno y podríamos aumentarlo. \n",
    "\n",
    "Supongamos que definimos una tolerancia del error denotada $tol$. $tol >0$ es un número real positivo y pequeño. Proponemos entonces la siguiente regla de actualización:\n",
    "\n",
    "$$\n",
    "\\begin{align}\n",
    "\\mathbf{x}^{(1)} &= \\mathbf{x}(t) + h(t) \\mathbf{f}(\\mathbf{x}(t),t) \\\\ \n",
    "\\mathbf{x}(t+h(t)/2) &= \\mathbf{x}(t) + \\frac{h(t)}{2} \\mathbf{f}(\\mathbf{x}(t),t) \\\\\n",
    "\\mathbf{x}^{(2)} &= \\mathbf{x}(t+h(t)/2) + \\frac{h(t)}{2} \\mathbf{f}(\\mathbf{x}(t+h(t)/2),t+h(t)/2) \\\\\n",
    "\\epsilon &= \\Vert \\mathbf{x}^{(1)} - \\mathbf{x}^{(2)} \\Vert \\\\\n",
    "& \\\\\n",
    "\\mathbf{x}(t+h(t)) &= \\mathbf{x}^{(2)} \\\\\n",
    "h(t+h(t)) &= 0.9 h(t) \\; \\frac{tol}{\\epsilon}\n",
    "\\end{align}\n",
    "$$\n",
    "\n",
    "Notemos que si $\\epsilon > tol$, $h(t+h(t)) < h(t)$, es decir, nuestro tamaño de paso decrece. Por otro lado, si $\\epsilon < tol$, $h(t+h(t)) > h(t)$ el paso aumentará en proporción al cociente entre $tol$ y $\\epsilon$. \n",
    "\n",
    "Utilizando ahora índices para la dependencia temporal y usando una variable $\\mathbf{k}_1$ para denotar a $\\mathbf{x}(t+h(t)/2)$, finalmente obtenemos\n",
    "\n",
    "$$\n",
    "\\begin{align}\n",
    "\\mathbf{x}^{(1)} &= \\mathbf{x}_{i-1} + h_{i-1} \\mathbf{f}(\\mathbf{x}_{i-1},t_{i-1}) \\\\ \n",
    "\\mathbf{k}_1 &= \\mathbf{x}_{i-1} + \\frac{h_{i-1}}{2} \\mathbf{f}(\\mathbf{x}_{i-1},t_{i-1}) \\\\\n",
    "\\mathbf{x}^{(2)} &= \\mathbf{k}_1 + \\frac{h_{i-1}}{2} \\mathbf{f}(\\mathbf{k}_1,t_{i-1}+h_{i-1}/2) \\\\\n",
    "\\epsilon &= \\Vert \\mathbf{x}^{(1)} - \\mathbf{x}^{(2)} \\Vert \\\\\n",
    "& \\\\\n",
    "\\mathbf{x}_{i} &= \\mathbf{x}^{(2)} \\\\\n",
    "h_{i} &= 0.9 h_{i-1} \\; \\frac{tol}{\\epsilon}\n",
    "\\end{align}\n",
    "$$\n"
   ]
  },
  {
   "cell_type": "markdown",
   "metadata": {},
   "source": [
    "### Ejercicio 8\n",
    "\n",
    "Implementa una función `eulerAdaptativo(f,x_0,t_0,t_f,h_0,tol)` con `f` la función **vectorial** tal que $\\dot{\\mathbf{x}}(t) = \\mathbf{f}(\\mathbf{x}(t),t)$, `x_0` (un vector de $n$ entradas) y `t_0` la condición inicial, `t_f` el tiempo máximo al que queremos obtener la solución, `h_0` el tamaño de paso inicial y `tol` la tolerancia del error en cada paso. La función debe de implementar el método de Euler adaptativo\n",
    "\n",
    "Tu función debe de regresar el arreglo de los pasos de tiempo `[h_0,..,h_n]`, el de los tiempos `[t_0,t_1, t_2,....,t_n]` con $t_{n}< t_f < t_{n} + h_{n}$ y el de la solución a la ecuación diferencial `[x_0,x_1,...,x_n]`.\n",
    "\n",
    "**Sugerencia 1** esto es muy parecido a un método de Euler normal, así que puedes tomar tu función `eulerVec` como punto de partida. "
   ]
  },
  {
   "cell_type": "markdown",
   "metadata": {},
   "source": [
    "### Ejercicio 9\n",
    "\n",
    "Utiliza tu función `eulerAdaptativo` para resolver el problema del péndulo simple. ¿Le sucede el mismo problema que el método de Euler normal? Grafica el ángulo como función del tiempo, el espacio fase y las energías potencial, cinética y mecánica. ¿El método conserva la energía?\n"
   ]
  },
  {
   "cell_type": "code",
   "execution_count": null,
   "metadata": {},
   "outputs": [],
   "source": []
  }
 ],
 "metadata": {
  "kernelspec": {
   "display_name": "Julia 1.4.2",
   "language": "julia",
   "name": "julia-1.4"
  },
  "language_info": {
   "file_extension": ".jl",
   "mimetype": "application/julia",
   "name": "julia",
   "version": "1.4.2"
  }
 },
 "nbformat": 4,
 "nbformat_minor": 4
}
