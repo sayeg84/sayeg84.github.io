{
 "cells": [
  {
   "cell_type": "markdown",
   "metadata": {},
   "source": [
    "## Métodos de diferencias finitas para problemas de valores a la frontera\n",
    " \n",
    "Es claro que el método de shooting es **muy lento**, pues el tener que resolver toda la ecuación diferencial para evaluar $F$ y poder resolver $F(z^*) = 0$ puede ser muy tardado, además de que la solución obtenida siempre es aproximada, por lo que puede haber errores ahí que nos alejen de la condición verdadera y que nos den una mala solución. \n",
    "\n",
    "Así resulta conveniente explorar otro tipo de métodos de solución. Supongamos que en nuetro problema de valores a la frontera estamos trabajando con una  **ecuación diferencial lineal de orden dos**, es decir, una problema de la forma\n",
    "\n",
    "$$\n",
    "\\begin{align}\n",
    "a(t) \\ddot{y}(t) + b(t) \\dot{y}(t) &+  c(t) y(t) = f(t) \\\\\n",
    "& \\\\\n",
    "y(t_0) &= \\alpha \\\\\n",
    "y(t_f) &= \\beta \\\\\n",
    "\\end{align}\n",
    "$$\n",
    "\n",
    "Con $a(t) \\neq 0$, $b(t)$, $c\n",
    "(t)$ y $f(t)$ funciones conocidas, $\\alpha$ y $\\beta$ constantes.\n",
    "\n",
    "Una alternativa para resolver problemas de valores a la frontera es utilizar diferencias finitas para aproximar las derivadas $\\ddot{y}$ y $\\dot{y}$. Utilizando una diferencia centrada para ambas derivadas, llegamos a la siguiente aproximación:\n",
    "\n",
    "$$\n",
    "\\begin{align}\n",
    "a(t) \\frac{y(t+h) + y(t-h) - 2y(t)}{h^2} &+ b(t) \\frac{y(t+h) - y(t-h)}{2h} +  c(t) y(t) = f(t) \\\\\n",
    "& \\\\\n",
    "y(t_0) &= \\alpha \\\\\n",
    "y(t_f) &= \\beta \\\\\n",
    "\\end{align}\n",
    "$$\n",
    "\n",
    "Así, para un a partición regular de orden $n+1$ (i.e con $n$ subintervalos) del intervalo $[t_0,t_f]$, obtenemos los tiempos $t_0,\\ldots,t_n$ que corresponden a un paso  $h = (t_f - t_0)/n$. Utilizando la notación de índices para el tiempo (i.e. $g(t_i) = g_i$), el problema se convierte en:\n",
    "\n",
    "$$\n",
    "\\begin{align}\n",
    "a_i \\frac{y_{i+1} + y_{i-1} - 2y_i}{h^2} &+ b_i \\frac{y_{i+1} - y_{i-1}}{2h} +  c_i y_i = f_i \\\\\n",
    "& \\\\\n",
    "y_0 &= \\alpha \\\\\n",
    "y_n &= \\beta \\\\\n",
    "\\end{align}\n",
    "$$"
   ]
  },
  {
   "cell_type": "markdown",
   "metadata": {},
   "source": [
    "Con $a_i = a(t_i)$, $b_i=b(t_i)$, $c_i = c(t_i)$, $f_i = f(t_i)$, $y_{i} = y(t_i)$ y $1\\leq i \\leq n-1$\n",
    "\n",
    "Podemos reordenar las ecuaciones para que quede de la siguiente forma:\n",
    "\n",
    "$$\n",
    "\\begin{align}\n",
    "\\left(\\frac{a_i}{h^2} - \\frac{b_i}{2h}\\right) y_{i-1} + \\left(c_i - \\frac{2a_i}{h^2} \\right)& y_{i} +  \\left(\\frac{a_i}{h^2} + \\frac{b_i}{2h}\\right) y_{i+1} = f_i \\\\\n",
    "& \\\\\n",
    "y_0 &= \\alpha \\\\\n",
    "y_n &= \\beta \\\\\n",
    "\\end{align}\n",
    "$$\n",
    "\n",
    "Si consideramos que la primera ecuación solo se cumple para $1 \\leq i \\leq n-1$, y ya que conocemos quienes son las funciones $a(t)$,$b(t)$, $c(t)$ y $f(t)$ así como los valores $h$, $\\alpha$ y $\\beta$, entonces **las únicas incógnitas de las ecuaciones son las $y_0,y_1,\\ldots,y_n$**\n",
    "\n",
    "Como todos los demás términos son conocidos, entonces el conjunto de ecuaciones representa un **sistema de $n+1$ ecuaciones lineales** de la forma $\\mathbf{Ay} = \\mathbf{b}$, para el que la solución $\\mathbf{y} = (y_0,y_1,..,y_n)$ es la discretización de la función solución $y(t)$ a nuestra ecuación diferencial.\n",
    "\n",
    "Dicho sistema puede resolverse utilizando los métodos  que vimos en las clases de Álgebra Lineal:  eliminación Gaussiana, Jacobi, Gauss-Siedel. A esta forma de resolver ecuacioned diferenciales de segundo orden aproximando las derivadas con diferencias finitas y obteniendo un problema de ecuaciones linealesse les conoce como **métodos de diferencias finitas**"
   ]
  },
  {
   "cell_type": "markdown",
   "metadata": {},
   "source": [
    "### Ejercicio 1\n",
    "\n",
    "Implementa una función `matriz(a,b,c,f,alpha,beta,t_0,t_f,n)`. Los argumentos de la función deben de ser\n",
    "\n",
    "* `a`,`b`,`c`,`f` las funciones **escalares** $a(t)$,$b(t)$,$c(t)$ y $f(t)$\n",
    "\n",
    "* `alpha`, `beta`: las condiciones a la frontera $\\alpha$, $\\beta$ del problema\n",
    "\n",
    "* `t_0`,`t_f` los tiempos inicial y final, `n` $>2$ un natural correspondiente el número de subintervalos que se van a tomar. Eso define el paso de tiempo $h$ del sistema a resolver como\n",
    "\n",
    "$$\n",
    "h = \\frac{t_f - t_0}{n}\n",
    "$$\n",
    "\n",
    "La función debe de regresar la matriz $A$, de $n+1 \\times n+1$ y un vector $b$ de longitud $n+1$ que correspondan a la discretización del problema de valores a la frontera expuesto.\n",
    "\n",
    "**Sugerencia:** la matriz $A$ debe de ser **tridiagonal**, es decir, los únicos elementos distintos de cero son elementos de la forma $A_{i,i}$, $A_{i+1,i}$ y $A_{i-1,i}$"
   ]
  },
  {
   "cell_type": "markdown",
   "metadata": {},
   "source": [
    "### Ejercicio 2\n",
    "\n",
    "Utiliza tu función `matriz` y alguno de los métodos de las clases de Álgebra lineal para resolver las ecuaciones del ejercicio 3 de la clase 17.2. Compara tus soluciones con la solución analítica y con las soluciones obtenidas por el método de Shooting. ¿Es mejor este método o el método de Shooting?\n",
    "\n",
    "**Sugerencia** si tienes dudas sobre si tu método de álgebra lineal converge para esa matriz, usa el operador `\\` para apoyarte."
   ]
  },
  {
   "cell_type": "markdown",
   "metadata": {},
   "source": [
    "## Problemas tipo Sturm-Liouville\n",
    "\n",
    "Un problema parecido pero fundamentalmente **distinto** a los problemas tradicionales de valores a la frontera son los problemas tipo **Sturm-Liouville**. En dichos problemas, tenemos una ecuación diferencial de forma similar a la ecuación diferencial lineal de orden dos:\n",
    "\n",
    "$$\n",
    "\\begin{align}\n",
    "a(t) \\ddot{y}(t) + b(t) \\dot{y}(t) &+  c(t) y(t) = \\lambda y(t) \\\\\n",
    "\\end{align}\n",
    "$$\n",
    "\n",
    "Con $\\lambda \\in \\mathbb{R}$ una constante **desconocida**. Con condiciones iniciales que son de una forma más complicada:\n",
    "\n",
    "$$\n",
    "\\gamma_1 y(t_0) + \\gamma_2 \\dot{y}(t_0)  = 0 \\\\\n",
    "\\delta_1 y(t_f) + \\delta_2 \\dot{y}(t_f)  = 0 \\\\\n",
    "$$\n",
    "\n",
    "La [teoría de Sturm-Liouville](https://en.wikipedia.org/wiki/Sturm%E2%80%93Liouville_theory) nos garantiza que, bajo ciertas condiciones, existe una infinidad de funciones $y_{(k)}$ y  constantes $\\lambda_k$ asociadas a cada una, con $k \\in \\mathbb{N}$, que satisfacen la ecuación diferencial mostrada, es decir\n",
    "\n",
    "$$\n",
    "\\begin{align}\n",
    "a(t) \\ddot{y}_{(k)}(t) + b(t) \\dot{y}_{(k)}(t) &+  c(t) y_{(k)}(t) = \\lambda_k y_{(k)}(t) \\\\\n",
    "\\end{align}\n",
    "$$"
   ]
  },
  {
   "cell_type": "markdown",
   "metadata": {},
   "source": [
    "Por simplicidad, supongamos que las condiciones de frontera son\n",
    "\n",
    "$$\n",
    "y(t_0) = 0 \\\\\n",
    "y(t_f) = 0 \\\\\n",
    "$$\n",
    "\n",
    "\n",
    "Si volvemos a utilizar diferencias finitas para discretizar las derivadas, de forma totalmente análoga a la sección anterior, podremos entonces expresar la ecuación diferencial de la siguiente forma:\n",
    "\n",
    "$$\n",
    "\\begin{align}\n",
    "\\left(\\frac{a_i}{h^2} - \\frac{b_i}{2h}\\right) y_{i-1} + \\left(c_i - \\frac{2a_i}{h^2} \\right)& y_{i} +  \\left(\\frac{a_i}{h^2} + \\frac{b_i}{2h}\\right) y_{i+1} = \\lambda y_i \\\\\n",
    "& \\\\\n",
    "y_0 &= 0\\\\\n",
    "y_n &= 0 \\\\\n",
    "\\end{align}\n",
    "$$"
   ]
  },
  {
   "cell_type": "markdown",
   "metadata": {},
   "source": [
    "Utilizando los valores ya conocidos de $y_0 = 0$ y de $y_n = 0$, podemos reescribir las ecuaciones para $i=1,n$. Así, las ecuaciones para cada $y_i$ son\n",
    "\n",
    "\n",
    "$$\n",
    "\\begin{gather}\n",
    "\\left(c_1 - \\frac{2a_1}{h^2} \\right) y_{1} +  \\left(\\frac{a_1}{h^2} + \\frac{b_1}{2h}\\right) y_{2} = \\lambda y_1 \\\\\n",
    " \\\\\n",
    "\\left(\\frac{a_i}{h^2} - \\frac{b_i}{2h}\\right) y_{i-1} + \\left(c_i - \\frac{2a_i}{h^2} \\right) y_{i} +  \\left(\\frac{a_i}{h^2} + \\frac{b_i}{2h}\\right) y_{i+1} = \\lambda y_i \\quad i = 2,\\ldots,n-2 \\\\\n",
    " \\\\\n",
    "\\left(\\frac{a_{n-1}}{h^2} - \\frac{b_{n-1}}{2h}\\right) y_{n-2} + \\left(c_{n-1} - \\frac{2a_{n-1}}{h^2} \\right) y_{n-1} = \\lambda y_{n-1} \\\\\n",
    "\\end{gather}\n",
    "$$"
   ]
  },
  {
   "cell_type": "markdown",
   "metadata": {},
   "source": [
    "Estas ecuaciones se pueden escribir de forma compacta como un conjunto de **$n-1$ ecuaciones lineales** de la forma\n",
    "\n",
    "$$\n",
    "\\mathbf{M y } = \\lambda \\mathbf{y}\n",
    "$$\n",
    "\n",
    "Con $\\mathbf{M}$ otra matriz tridiagonal. Es claro que los vectores $\\mathbf{y}$ y las constantes $\\lambda$ deben de ser los **valores y vectores propios** de la matriz $\\mathbf{M}$. Así, al aproximar las derivadas con diferencias finitas convertimos el problema de Sturm-Liouville en un problema de valores propios para la matriz $\\mathbf{M}$. Los vectores propios de la matriz corresponderán a la discretización de las funcions $y_{(k)}$ mientras que sus valores propios asociados serán los $\\lambda_k$"
   ]
  },
  {
   "cell_type": "markdown",
   "metadata": {},
   "source": [
    "### Ejercicio 3\n",
    "\n",
    "Escribe una función `sturmLiouville(a,b,c,t_0,t_f,n)`. Los argumentos de la función deben de ser\n",
    "\n",
    "* `a`,`b`,`c` las funciones **escalares** $a(t)$, $b(t)$ y $c(t)$ del problema de Sturm-Liouville\n",
    "\n",
    "* `t_0`,`t_f` los tiempos inicial y final, `n` $>2$ un natural correspondiente el número de subintervalos que se van a tomar. Eso define el paso de tiempo $h$ del sistema a resolver como\n",
    "\n",
    "$$\n",
    "\\frac{t_f - t_0}{n} = h\n",
    "$$\n",
    "\n",
    "La función debe de regresar la matriz $\\mathbf{M}$, de $n-1 \\times n-1$ que correspondan a la discretización del problema de Sturm-Liouville expuesto anteriormente.\n",
    "\n",
    "**Sugerencia:** puedes ver a la matriz $\\mathbf{M}$ como un caso particular de la matriz $\\mathbf{A}$. Así, podrías simplemente usar la función `matriz` del ejercicio 1 como base."
   ]
  },
  {
   "cell_type": "markdown",
   "metadata": {},
   "source": [
    "### Ejercicio 4\n",
    "\n",
    "Utiliza la función `sturmLiouville` y las funciones `eigvals` y  `eigvecs` de la librería LinearAlgebra para resolver los siguientes problemas:\n",
    "\n",
    "* $$\\ddot{y} + 3\\dot{y} + 2y = -\\lambda y \\\\ y(0) = y(1) = 0 $$\n",
    "\n",
    "Solución: $y_{(k)}(t) = e^{-3t/2}\\sin{(k \\pi t)}$, $\\lambda_k = (1 + 4k^2 \\pi^2)/4$\n",
    "\n",
    "* $$t^2 \\ddot{y} + t \\dot{y} = -\\lambda y \\\\ y(1) = y(2) = 0 $$\n",
    "\n",
    "Solución: $y_{(k)}(t) = \\sin{\\left(\\frac{k \\pi}{\\ln{2}} \\ln{(x)} \\right)}$, $\\lambda_k = \\left(\\frac{k \\pi}{\\ln{2}} \\right)^2$\n",
    "\n",
    "Compara, en la misma figura, la función obtenida numéricamente y la solución analítica para valores bajos de $|\\lambda_k|$ (i.e., grafica las funciones asociadas a los valores propios **más pequeños en valor absoluto** ). ¿Qué ocurre para valores altos de $|\\lambda_k|$? ¿Los valores propios numéricos y analaíticos se parecen?\n",
    "\n",
    "**Nota:** toma en cuenta que los signos de los valores propios $\\lambda$ aquí mostrados son **negativos**, por lo que deberás tener cuidado a la hora de comparar."
   ]
  },
  {
   "cell_type": "markdown",
   "metadata": {},
   "source": [
    "## Aplicación en mecánica cuántica: la ecuación de Schrödinger independiente del tiempo"
   ]
  },
  {
   "cell_type": "markdown",
   "metadata": {},
   "source": [
    "Un problema de valores a la frontera que surge comúnmente en física es la solución de la ecuación de Schrödinger dependiente del tiempo\n",
    "\n",
    "La evolución en el tiempo de un sistema cuántico está definida por la ecuación de Schrödinger dependiente del tiempo:\n",
    "\n",
    "$$\n",
    "i \\hbar \\frac{\\partial \\psi}{\\partial t} = H \\psi\n",
    "$$\n",
    "\n",
    "Con $i$ la unidad imaginaria, $\\hbar$ la constante reducida de Planck, $\\psi$ la amplitud de probabildad del sistema y $H$ el hamiltoniano. La solución general a la ecuación es\n",
    "\n",
    "$$\n",
    "\\psi = \\sum_{k=1}^{\\infty}A_k e^{-E_k t} \\psi_k \n",
    "$$\n",
    "\n",
    "Con $\\psi_k$ y $E_k$ las funciones propias y valores propios, respectivamente, del operador hamiltoniano, es decir, las que cumplen con la propiedad\n",
    "\n",
    "$$\n",
    "H \\psi_k = E_k \\psi_k\n",
    "$$\n",
    "\n",
    "A esa ecuación se le llama la **ecuación de Schrödinger independiente del tiempo**. Trabajando un sistema de una partícula en una dimensión, cuya energía potencial es un pozo infinito de la forma\n",
    "\n",
    "$$\n",
    "V(x) = \\begin{cases}\n",
    "0 & \\text{si } 0 \\leq x \\leq 1 \\\\\n",
    "\\infty & \\text{en otro caso} \n",
    "\\end{cases}\n",
    "$$\n",
    "\n",
    "Escribiendo el hamiltoniano de dicho sistema cuántico y haciendo una adimensionalización, la ecuación de Schrödinger independiente del tiempo se reduce al siguiente problema de valores iniciales\n",
    "\n",
    "$$\n",
    "\\frac{1}{2} \\frac{d^2 \\psi_k}{dx^2}(x) + \\epsilon_k \\psi_k (x) = 0\n",
    " \\\\\n",
    "\\psi_{k} (0) = 0 \\\\\n",
    "\\psi_{k} (1) = 0 \\\\\n",
    "$$\n",
    "\n",
    "La solución analítica está dada por \n",
    "$$\n",
    "\\psi_k(x) = \\sqrt{2} \\sin{(k\\pi x)} \\\\\n",
    "\\epsilon_k = \\frac{k^2 \\pi^2}{2} \\\\\n",
    "$$"
   ]
  },
  {
   "cell_type": "markdown",
   "metadata": {},
   "source": [
    "### Ejercicio 6\n",
    "\n",
    "Resuelve el problema tipo Sturm-Liouville asociado a la particula en el pozo infinito de potencial. Compara las soluciones obtenidas con las soluciones analíticas. ¿Las funciones obtenidas numéricamente se pueden comparar bien con la solución analítica? Justifica tu respuesta\n",
    "\n",
    "**Nota:** las soluciones analíticas de este problema **están normalizadas**, es decir, cumplen que \n",
    "\n",
    "$$\n",
    "\\int_{0}^1 | \\psi_k (x) |^2 \\: dx = 1\n",
    "$$\n",
    "\n",
    "Lo más probable es que la soluciones que obtenas numéricamente **no estén normalizadas**, por lo que tendrás que encontrar una manera equivalente de normalizarlas para que se puedan comparar."
   ]
  },
  {
   "cell_type": "markdown",
   "metadata": {},
   "source": [
    "## La visión general"
   ]
  },
  {
   "cell_type": "markdown",
   "metadata": {},
   "source": [
    "Resolver ecuaciones diferenciales ordinarias en la computadora es un problema fundamental de la física computacional por su relación íntima con mecánica clásica. No todos los métodos pueden resolver cualquier sistema, por lo que es importante buscar métodos con alta precisión para no tener errores como el del péndulo simple con el método de Euler"
   ]
  },
  {
   "cell_type": "markdown",
   "metadata": {},
   "source": [
    "Existe un area dedicada a modelar los átomos de manera clásica. Así, resolver un sistema **termodinámico** (moleculas de aire en un cuarto, un fluido ideal) o **biológicos** (átomos en una proteína, moléculas en una membrana,etc) se convierte en resolver las ecuaciones de movimiento de todos los átomos del sistema. En 3 dimensiones, si tenemos $n$ átomos, habrá un sistema de $6n$ ecuaciones difernciales de primer orden que debemos de resolver para saber la evolución del sistema."
   ]
  },
  {
   "cell_type": "markdown",
   "metadata": {},
   "source": [
    "A esas simulaciones se les llama **dinámica molecular**. La dinámica molecular es una herramienta **revolucionaria** de la ciencia, pues permite resolver muchisísimos problemas. Hoy en día, se utlizan simulaciones de dinámica molecular para probar la eficiencia de fármacos y segurmante se están utilizando dichas simulaciones para probar y crear vacunas para el COVID19"
   ]
  },
  {
   "cell_type": "code",
   "execution_count": null,
   "metadata": {},
   "outputs": [],
   "source": []
  }
 ],
 "metadata": {
  "kernelspec": {
   "display_name": "Julia 1.4.2",
   "language": "julia",
   "name": "julia-1.4"
  },
  "language_info": {
   "file_extension": ".jl",
   "mimetype": "application/julia",
   "name": "julia",
   "version": "1.4.2"
  }
 },
 "nbformat": 4,
 "nbformat_minor": 4
}
