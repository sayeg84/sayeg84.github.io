{
 "cells": [
  {
   "cell_type": "markdown",
   "metadata": {},
   "source": [
    "# Introducción a los procesos estocásticos"
   ]
  },
  {
   "cell_type": "markdown",
   "metadata": {},
   "source": [
    "Regresando al ejemplo de la caminata aleatoria discreta en 1D, lo que sucede es que la posición del caminante $x^{(t)}$ es **aleatoria** y va cambiando en el tiempo de forma también probabilistica. Es decir, tenemos número aleatorio **que cambia en el tiempo**. A esto, en probabilidad, se le conoce coloquialmente como un **proceso estocástico**."
   ]
  },
  {
   "cell_type": "markdown",
   "metadata": {},
   "source": [
    "En general, los procesos estocásticos son difíciles de trabajar de forma analítica. Sin embargo, trabajarlos de forma computacional es mucho más sencillo. Los procesos estocásticos se dividen dependiendo de dos cosas: ¿cuántos valores puede tener tu número aleatorio $x^{(t)}$ (i.e. solo puede tomar una cantidad finita de valores, una cantidad numerable o tantos como reales)? y ¿Cómo va cambiando en el tiempo: con pasos discretos o con pasos continuos (i.e. $t \\in \\mathbb{N}$ o $t \\in \\mathbb{R}$)?"
   ]
  },
  {
   "cell_type": "markdown",
   "metadata": {},
   "source": [
    "Por simplicidad, a los valores distintos que puede tomar el número aleatorio también se les llama estados. Al conjunto de valores que puede tomar el número aleatorio también se le conoce como **espacio de estados**. "
   ]
  },
  {
   "cell_type": "markdown",
   "metadata": {},
   "source": [
    "La caminata aleatoria en 1D es un proceso estocástico donde la posición puede estar en cualquier entero, es decir $x^{(t)} \\in \\mathbb{Z} $. Así, su espacio de estados es $\\mathbb{Z}$ y es un espacio numerable. Por otro lado, los posibles tiempos de la posición son discretos. Así, la caminata aleatoria en 1D es un proceso de espacio de estados numerable y tiempos discretos."
   ]
  },
  {
   "cell_type": "markdown",
   "metadata": {},
   "source": [
    "Los procesos estocásticos más sencillos son los procesos que tienen un **espacio de estados finito** y **tiempos discretos**. Por ejemplo, si restringieramos la caminata aleatoria a que no puede salir del intervalo $[-L,L]$ (imponiendo una regla distinta cuando llegue a $[-L,L]$)"
   ]
  },
  {
   "cell_type": "markdown",
   "metadata": {},
   "source": [
    "![camfin](https://lh3.googleusercontent.com/IQW7cQ15ZG5xRPOf-vWx4PrmIEpnDeCVroIELzoFkhBuib8W6Qy1HNZPuFCTBFZjbmZtLGH4Je4TodSO3hLpmVqZ5DE011H8vJLxICkfiX7lS91tECrd6oXNvM6qHvSyAzZljo9w_Q=w2400)"
   ]
  },
  {
   "cell_type": "markdown",
   "metadata": {},
   "source": [
    "### Ejercicio 1\n",
    "\n",
    "Implementa una función que te regresa la sucesión de una caminata aleatoria 1D que, partiendo del origen, de pasos a la derecha con probabilidad $p$ y a la izquierda con probabilidad $1-p$. Al llegar a las posiciones $L$ o $-L$, el caminante debe de dar un paso obligatoriamente a la izquierda o a la derecha para quedar dentro del intervalo $[-L,L]$"
   ]
  },
  {
   "cell_type": "markdown",
   "metadata": {},
   "source": [
    "### Ejercicio 2\n",
    "\n",
    "Usa la función del ejercicio anterior para obtener la trayectoria de varios caminantes como función del tiempo y graficala. Grafica en otras figuras la posición promedio y la varianza, respectivamente. ¿Los resultados cambian con respecto a la caminata aleatoria normal?. ¿Por qué?"
   ]
  },
  {
   "cell_type": "markdown",
   "metadata": {},
   "source": [
    "# Cadenas de Markov"
   ]
  },
  {
   "cell_type": "markdown",
   "metadata": {},
   "source": [
    "La caminata aleatoria del ejercicio 1, así como la caminata aleatoria en general, cumplen con una propiedad: la posición en el tiempo $x^{(t)}$ no depende, directamente, de todas las posiciones $x^{(0)}, x^{(1)},\\ldots, x^{(t-1)}$, depende solamente de la posición en el tiempo $x^{(t-1)}$. Esto se puede ver de manera obvia ya que la caminata consiste en ir dando pasos aleatorios a partir de nuestra posición, sin importar cuales eran las posiciones anteriores\n",
    "\n",
    "Esta propiedad es muy importante en procesos estocásticos y es llamada **propiedad de Markov**. A los procesos estocásticos que cumplen dicha propiedad y que además tienen un espacio de estados finito y tiempo discreto se les conoce como **cadenas de Markov**. Una cadena de Markov es el ejemplo más sencillo de un proceso estocástico, hay muchas cadenas simples que podemos ejemplificar:"
   ]
  },
  {
   "cell_type": "markdown",
   "metadata": {},
   "source": [
    "### Ejemplo 1: clima sencillo\n",
    "\n",
    "Supongamos que nuestro número aleatorio $x$ solo puede tener dos valores: $1$ y $2$. El número representa el estado del tiempo en una ciudad: $x=1$ significa que tenemos un día soleado y $x=2$ significa que tenemos un día nublado. Así, supongamos que conociendo el tiempo de un día $x(t)$ el tiempo del dia siguiente esta determinado por la siguiente regla:\n",
    "\n",
    "* Si estamos en un día soleado, hay una probabilidad de 0.9 de que el día siguiente sea soleado. y  hay una probabilidad de 0.1 de que el siguiente sea nublado.\n",
    "\n",
    "* Si estamos en un día nublado, hay una probabilidad de 0.5 de que el siguiente sea un día nublado y de 0.5 de que el siguiente sea un día soleado"
   ]
  },
  {
   "cell_type": "markdown",
   "metadata": {},
   "source": [
    "Si definimos una matriz $\\mathbf{P}$ tal que $P_{ij}$ es la probabilidad de transición del estado $i$ al estado $j$, tenemos\n",
    "\n",
    "$$\n",
    "\\mathbf{P} = \\begin{pmatrix}\n",
    "0.9 & 0.1 \\\\\n",
    "0.5 & 0.5 \\\\\n",
    "\\end{pmatrix}\n",
    "$$"
   ]
  },
  {
   "cell_type": "markdown",
   "metadata": {},
   "source": [
    "### Ejercicio 3\n",
    "\n",
    "Implementa una función que tome como argumento un número natural  $T$ y un natural $x_0=1,2$.  La función debe de regresarte los primeros $T$ términos de la sucesión $x(0),x(1),\\ldots,x(T-1),x(T)$ correspondiente a la cadena de Markov del modelo del clima con condición inicial $x(0) = x_0$."
   ]
  },
  {
   "cell_type": "markdown",
   "metadata": {},
   "source": [
    "### Ejercicio 4"
   ]
  },
  {
   "cell_type": "markdown",
   "metadata": {},
   "source": [
    "Para un $T$ fijo (y grande, mayor a $1000$), utiliza la función del ejercicio anterior para generar $m$ sucesiones correspondientes a cadenas de Markov independientes del modelo del Clima y, para cada una de ellas, calcula la fracción total de días soleados y de días nublados.  ¿Se obtiene la misma fracción para todas las cadenas?\n",
    "\n",
    "Promedia las $m$ fracciones de días soleados y nublados totales obtenidas para obtener una buena estimación de dichas fracciones."
   ]
  },
  {
   "cell_type": "markdown",
   "metadata": {},
   "source": [
    "### Ejercicio 5"
   ]
  },
  {
   "cell_type": "markdown",
   "metadata": {},
   "source": [
    "Para $n \\in \\mathbb{N}$, podemos definir la exponenciación de matrices cuadradas como\n",
    "\n",
    "$$\n",
    "\\mathbf{A}^n = \\underbrace{\\mathbf{A} \\mathbf{A} \\ldots \\mathbf{A}}_{\\text{$n$-veces}}\n",
    "$$\n",
    "\n",
    "Es decir, es simplemente la multiplicación de $\\mathbf{A}$ por ella misma $n$ veces. Utiliza la multiplicación de matrices de Julia para intentar calcular $\\lim_{n\\to \\infty} \\mathbf{P}^n$. ¿Tiene alguna relación ese límite con las fracciones obtenidas en el ejercicio anterior? ¿Por qué?"
   ]
  },
  {
   "cell_type": "markdown",
   "metadata": {},
   "source": [
    "### Ejemplo 2: comida\n",
    "\n",
    "Un estudiante de la facultad de Ciencias **nunca come la misma comida dos días seguidos**. Siempre se alterna entre tres comidas distintas: tacos de canasta, chilaquiles y comida corrida. La regla para alternar comidas es la siguiente:\n",
    "\n",
    "* Si comió chilaquiles el día anterior, escoge con la misma probabilidad comer tacos o comida corrida.\n",
    "\n",
    "* Si comió tacos o comida corrida el dia anterior, escoge chilaquiles con 0.75 de probabilidad y escoge comida corrida o tacos, respectivamente, con 0.25 de probabilidad\n",
    "\n",
    "Podemos representar la comida que va a comer el estudiante en el día $t$ con una variable $x(t)$ que toma valores $1$ (chilaquiles), $2$ (tacos) y $3$ comida corrida."
   ]
  },
  {
   "cell_type": "markdown",
   "metadata": {},
   "source": [
    "Nuevamente, la matriz de transición es:\n",
    "\n",
    "$$\n",
    "\\mathbf{P} = \\begin{pmatrix}\n",
    "0.0 & 0.5 & 0.5 \\\\\n",
    "0.75 & 0 & 0.25 \\\\\n",
    "0.75 & 0.25 & 0 \\\\\n",
    "\\end{pmatrix}\n",
    "$$"
   ]
  },
  {
   "cell_type": "markdown",
   "metadata": {},
   "source": [
    "### Ejercicio 6\n",
    "\n",
    "Repite los ejercicios 3, 4 y 5 pero ahora utilizando la cadena de Markov de la comida."
   ]
  },
  {
   "cell_type": "markdown",
   "metadata": {},
   "source": [
    "## Ejemplos en física: el modelo de Ehrenfest"
   ]
  },
  {
   "cell_type": "markdown",
   "metadata": {},
   "source": [
    "La mayoría de los ejemplos de cadenas de Markov y de procesos estocásticos en física son muy avanzados para poder trabajarlos en una clase. Sin embargo, existen algunos ejemplos simples que pueden dar idea de la naturaleza estocásitca de los procesos"
   ]
  },
  {
   "cell_type": "markdown",
   "metadata": {},
   "source": [
    "Supongamos que tenemos una cantidad $N$ de particulas indistinguibles divididas entre dos cajas distintas, denotadas $A$ y $B$. $N_A$ y $N_B$ denota el número de partículas en cada caja ($N_A + N_B = N$ ). Supongamos que las cajas están conectadas entre sí por un compartimento, de tal forma que en cada paso de tiempo, una partícula se cambia de caja. La partícula que cambia de caja es ecogida de forma azarosa y uniforme entre todas las $N$ partículas"
   ]
  },
  {
   "cell_type": "markdown",
   "metadata": {},
   "source": [
    "![ejemplo](https://lh3.googleusercontent.com/CKAn0einp1u1ijVWdr9fHTVfa6PLj1_G3YUHCjCGqzWP8rxZeZ7BevOUv2we2k0jcNP9NGVJdGZt2RZfJ7Rp543xHRce66eBR-3_OThvcOGsudz8T5Sg3HJIVb8cJduQpycIO9UOlg=w2400)"
   ]
  },
  {
   "cell_type": "markdown",
   "metadata": {},
   "source": [
    "Notemos que $N_A(t)$ es una cadena de Markov por construcción. Puede tomar los valores $0,1,\\ldots, N$. Notemos que, en cada paso de tiempo solo se puede añadir o quitar una particula de la caja $A$, por lo que solo podemos pasar de $N_A(t)$ a $N_A(t)+1$  O $N_A(t)-1$ dependiendo de en qué caja esté la partícula que vayamos a cambiar de caja.\n",
    "\n",
    "Ya que las partículas se escogen al azar y de forma uniforme de entre todas, entonces se quitará una partícula a la caja $A$ con probabilidad $N_A(t)/N$ y se le añadirá una con probabilidad $N_B(t)/N = 1- N_A(t)/N$"
   ]
  },
  {
   "cell_type": "markdown",
   "metadata": {},
   "source": [
    "### Ejercicio 7\n",
    "\n",
    "Implementa una función que tome como argumento tres naturales $N$, $N_0 \\leq N$ y $T$. La función debe regresar la sucesión $N_A(0),N_A(1),\\ldots, N_A(T)$ correspondiente a la cadena de Ehrenfest para $N$ partículas con condición inicial $N_A(0) = N_0$."
   ]
  },
  {
   "cell_type": "markdown",
   "metadata": {},
   "source": [
    "### Ejercicio 8\n",
    "\n",
    "Fija $N$ y $T$ tal que $T>>N$ y utiliza la función del ejercicio anterior para obtener distintas cadenas idependientes con condiciones iniciales arbitrarias. Realiza un histograma de cada cadena para obtener un estimado de la distribución de la cantidad de pelotas $N_A$"
   ]
  },
  {
   "cell_type": "markdown",
   "metadata": {},
   "source": [
    "### Ejercicio 9\n",
    "\n",
    "Fija $N = N_0 = 100$ y  $T = 100000$. Genera varias cadenas independientes para esos valores. Grafica, en una sola figura, la cantidad de pelotas como función del tiempo para cada cadena. ¿Cuántas veces, además de la condición inicial, $N_A$ vuelve a tomar el valor de $100$? ¿Tiene eso alguna relación con la segunda ley de la termodinámica?"
   ]
  },
  {
   "cell_type": "code",
   "execution_count": null,
   "metadata": {},
   "outputs": [],
   "source": []
  }
 ],
 "metadata": {
  "kernelspec": {
   "display_name": "Julia 1.4.2",
   "language": "julia",
   "name": "julia-1.4"
  },
  "language_info": {
   "file_extension": ".jl",
   "mimetype": "application/julia",
   "name": "julia",
   "version": "1.4.2"
  }
 },
 "nbformat": 4,
 "nbformat_minor": 4
}
